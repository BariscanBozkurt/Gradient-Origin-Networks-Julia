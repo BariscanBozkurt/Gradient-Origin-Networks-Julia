{
 "cells": [
  {
   "cell_type": "code",
   "execution_count": 1,
   "metadata": {},
   "outputs": [
    {
     "data": {
      "text/plain": [
       "loss_train (generic function with 2 methods)"
      ]
     },
     "execution_count": 1,
     "metadata": {},
     "output_type": "execute_result"
    }
   ],
   "source": [
    "# Set display width, load packages, import symbols\n",
    "ENV[\"COLUMNS\"]=72\n",
    "using Distributions\n",
    "using Interpolations\n",
    "using Knet: Knet, dir, accuracy, progress, sgd, load143, save, gc, Param, KnetArray, Data, minibatch, nll, relu, training, dropout,sigm # param, param0, xavier_uniform\n",
    "using Knet\n",
    "using Images\n",
    "using Plots\n",
    "using LinearAlgebra\n",
    "using IterTools: ncycle, takenth\n",
    "using MLDatasets\n",
    "using Base.Iterators: flatten\n",
    "import CUDA # functional\n",
    "using ImageTransformations\n",
    "using Statistics\n",
    "using Memento\n",
    "using NPZ\n",
    "# using Interpolations\n",
    "using Random\n",
    "using LaTeXStrings\n",
    "atype=(CUDA.functional() ? KnetArray{Float32} : Array{Float32})\n",
    "\n",
    "const F = Float32\n",
    "params = Knet.params\n",
    "\n",
    "cd(\"..\")\n",
    "\n",
    "include(\"PlotUtility.jl\")\n",
    "include(\"ImageUtility.jl\")\n",
    "include(\"TrainUtility.jl\")\n",
    "include(\"LayerUtility.jl\")\n",
    "include(\"LossUtility.jl\")\n",
    "\n",
    "using .PlotUtility\n",
    "using .ImageUtility\n",
    "using .TrainUtility\n",
    "using .LayerUtility\n",
    "using .LossUtility\n",
    "\n",
    "########################### CHANGE THIS LINE FOR DATASET PARAMETER ##############################\n",
    "dataset_name = \"mnist\"\n",
    "exp_number = 1\n",
    "########################### CHANGE THIS LINE FOR RESULT FOLDER NAME #############################\n",
    "notebook_name = \"Ablation_Study_Initial_Point\" * \"_\" * dataset_name * string(exp_number)\n",
    "\n",
    "use_saved_data = true\n",
    "nc = nothing\n",
    "\n",
    "if dataset_name == \"mnist\"\n",
    "    nc = 1\n",
    "    if use_saved_data\n",
    "        xtrn = npzread(\"Data/MNIST_Train_Images.npy\")\n",
    "        xtrn = permutedims(xtrn, (3,4,2,1))\n",
    "        xtst = npzread(\"Data/MNIST_Test_Images.npy\")\n",
    "        xtst = permutedims(xtst, (3,4,2,1))\n",
    "\n",
    "    else\n",
    "\n",
    "        xtrn,_ = MNIST.traindata()\n",
    "        xtst,_ = MNIST.testdata()\n",
    "        xtrn = Array{Float64, 3}(xtrn)\n",
    "        xtst = Array{Float64, 3}(xtst)\n",
    "\n",
    "        xtrn = resize_MNIST(xtrn, 32/28)\n",
    "        xtst = resize_MNIST(xtst, 32/28)\n",
    "        \n",
    "    end\n",
    "    \n",
    "elseif dataset_name == \"fashion\"\n",
    "    nc = 1\n",
    "    if use_saved_data\n",
    "\n",
    "        xtrn = npzread(\"Data/Fashion_MNIST_Train_Images.npy\")\n",
    "        xtrn = permutedims(xtrn, (3,4,2,1))\n",
    "        xtst = npzread(\"Data/Fashion_MNIST_Test_Images.npy\")\n",
    "        xtst = permutedims(xtst, (3,4,2,1))\n",
    "        \n",
    "    else\n",
    "        \n",
    "        xtrn,_ = FashionMNIST.traindata()\n",
    "        xtst,_ = FashionMNIST.testdata()\n",
    "        xtrn = Array{Float64, 3}(xtrn)\n",
    "        xtst = Array{Float64, 3}(xtst)\n",
    "\n",
    "        xtrn = resize_MNIST(xtrn, 32/28)\n",
    "        xtst = resize_MNIST(xtst, 32/28)\n",
    "\n",
    "    end\n",
    "    \n",
    "elseif dataset_name == \"cifar\"\n",
    "    nc = 3\n",
    "    xtrn,_= CIFAR10.traindata()\n",
    "    xtst,_ = CIFAR10.testdata()\n",
    "    xtrn = Array{Float64, 4}(xtrn)\n",
    "    xtst = Array{Float64, 4}(xtst)\n",
    "\n",
    "elseif dataset_name == \"coil\"\n",
    "    coil_path = \"Data/coil20\"\n",
    "    coil = load_coil_dataset(coil_path);\n",
    "    nc = 1\n",
    "    dataset_size = size(coil,3)\n",
    "    trn_perc = 0.8\n",
    "    trn_size = Int(dataset_size * trn_perc)\n",
    "    random_permutation = randperm(dataset_size)\n",
    "    trn_idx = random_permutation[1:trn_size]\n",
    "    tst_idx = random_permutation[trn_size + 1:end]\n",
    "    xtrn = coil[:,:,trn_idx]\n",
    "    xtrn = resize_gray_image_tensor(xtrn, 1/4)\n",
    "    xtst = coil[:,:,tst_idx];\n",
    "    xtst = resize_gray_image_tensor(xtst, 1/4)\n",
    "\n",
    "end\n",
    "\n",
    "batch_size = 64\n",
    "\n",
    "dtrn = minibatch(xtrn, batch_size; xsize = (32, 32, nc,:), xtype = atype, shuffle = true)\n",
    "dtst = minibatch(xtst, batch_size; xsize = (32, 32, nc,:), xtype = atype);\n",
    "\n",
    "function weights(nc, nz,  ngf) \n",
    "        \n",
    "    # Decoding Weights\n",
    "    theta = [] # z -> x\n",
    "    \n",
    "    w, b = deconv_weight_init(4, 4, nz, ngf * 4;bias = true, return_param = false)\n",
    "    push!(theta, w)\n",
    "    push!(theta, b)\n",
    "    push!(theta, (bnparams(ngf * 4))) # Batch Normalization\n",
    "    \n",
    "    w, b = deconv_weight_init(4, 4, ngf * 4, ngf * 2;bias= true, return_param = false)\n",
    "    push!(theta, w)\n",
    "    push!(theta, b)\n",
    "    push!(theta, (bnparams(ngf * 2)))\n",
    "    \n",
    "    w, b = deconv_weight_init(4, 4, ngf * 2, ngf;bias = true, return_param = false)\n",
    "    push!(theta, w)\n",
    "    push!(theta, b)\n",
    "    push!(theta, (bnparams(ngf)))\n",
    "    \n",
    "    w,b = deconv_weight_init(4,4,ngf, nc;bias = true, return_param = false)\n",
    "    push!(theta, w)\n",
    "    push!(theta, b)\n",
    "\n",
    "    theta = map(a->convert(atype,a), theta)\n",
    "    \n",
    "    return Param.(theta)\n",
    "end\n",
    "\n",
    "moments1 = bnmoments()\n",
    "moments2 = bnmoments()\n",
    "moments3 = bnmoments()\n",
    "\n",
    "function decode(theta, z; batch_size = 64, training = true)\n",
    "    \n",
    "    z = deconv4(theta[1], z, mode = 1) .+ theta[2]\n",
    "    z = mybatchnorm(z, moments1, theta[3]; training = training)\n",
    "    z = Knet.elu.(z)\n",
    "    \n",
    "    z = deconv4(theta[4], z, mode = 1, stride = 2, padding = 1) .+ theta[5]\n",
    "    z = mybatchnorm(z, moments2, theta[6]; training = training)\n",
    "    z = Knet.elu.(z)\n",
    "    \n",
    "    z = deconv4(theta[7], z, mode = 1, stride = 2, padding = 1) .+ theta[8]\n",
    "    z = mybatchnorm(z, moments3, theta[9]; training = training)\n",
    "    z = Knet.elu.(z)\n",
    "    \n",
    "    z = deconv4(theta[10], z, mode = 1, stride = 2, padding = 1) .+ theta[11]\n",
    "    x_hat = Knet.sigm.(z)\n",
    "    return x_hat\n",
    "    \n",
    "end\n",
    "\n",
    "# (Reconstruction Error := Mean Squared Error)\n",
    "inner_loss(x, z) = mean(sum((decode(theta, z; batch_size = size(x,4)) - x).^2, dims = 3))\n",
    "\n",
    "function loss_train(theta, x)\n",
    "    x_hat =  decode_train(theta, x; batch_size = size(x,4))\n",
    "    L = mean(sum((x_hat - x).^2, dims = 3))\n",
    "end\n",
    "\n",
    "function loss_train(theta, d::Data)\n",
    "    total_loss = 0\n",
    "    n_instance = 0\n",
    "    for x in d\n",
    "        total_loss += loss_train(theta, x) * size(x,4)\n",
    "        n_instance += size(x,4)\n",
    "    end\n",
    "    \n",
    "    total_loss /= n_instance\n",
    "end\n"
   ]
  },
  {
   "cell_type": "markdown",
   "metadata": {},
   "source": [
    "# Train With Zero Initialization"
   ]
  },
  {
   "cell_type": "code",
   "execution_count": 2,
   "metadata": {},
   "outputs": [
    {
     "name": "stderr",
     "output_type": "stream",
     "text": [
      "┣▊                   ┫ [4.00%, 2/50, 00:27/11:26, 27.43s/i] "
     ]
    },
    {
     "name": "stdout",
     "output_type": "stream",
     "text": [
      "0.0039367443"
     ]
    },
    {
     "name": "stderr",
     "output_type": "stream",
     "text": [
      "┣█▏                  ┫ [6.00%, 3/50, 00:48/13:14, 20.23s/i] "
     ]
    },
    {
     "name": "stdout",
     "output_type": "stream",
     "text": [
      "0.0016238908"
     ]
    },
    {
     "name": "stderr",
     "output_type": "stream",
     "text": [
      "┣█▌                  ┫ [8.00%, 4/50, 01:08/14:11, 20.39s/i] "
     ]
    },
    {
     "name": "stdout",
     "output_type": "stream",
     "text": [
      "0.0012192451"
     ]
    },
    {
     "name": "stderr",
     "output_type": "stream",
     "text": [
      "┣██                  ┫ [10.00%, 5/50, 01:28/14:41, 20.05s/i] "
     ]
    },
    {
     "name": "stdout",
     "output_type": "stream",
     "text": [
      "0.001003728"
     ]
    },
    {
     "name": "stderr",
     "output_type": "stream",
     "text": [
      "┣██▍                 ┫ [12.00%, 6/50, 01:48/15:02, 20.16s/i] "
     ]
    },
    {
     "name": "stdout",
     "output_type": "stream",
     "text": [
      "0.0009372592"
     ]
    },
    {
     "name": "stderr",
     "output_type": "stream",
     "text": [
      "┣██▊                 ┫ [14.00%, 7/50, 02:08/15:18, 20.22s/i] "
     ]
    },
    {
     "name": "stdout",
     "output_type": "stream",
     "text": [
      "0.00085472735"
     ]
    },
    {
     "name": "stderr",
     "output_type": "stream",
     "text": [
      "┣███▏                ┫ [16.00%, 8/50, 02:29/15:28, 20.06s/i] "
     ]
    },
    {
     "name": "stdout",
     "output_type": "stream",
     "text": [
      "0.0008148229"
     ]
    },
    {
     "name": "stderr",
     "output_type": "stream",
     "text": [
      "┣███▌                ┫ [18.00%, 9/50, 02:49/15:37, 20.18s/i] "
     ]
    },
    {
     "name": "stdout",
     "output_type": "stream",
     "text": [
      "0.0007549772"
     ]
    },
    {
     "name": "stderr",
     "output_type": "stream",
     "text": [
      "┣████                ┫ [20.00%, 10/50, 03:09/15:44, 20.11s/i] "
     ]
    },
    {
     "name": "stdout",
     "output_type": "stream",
     "text": [
      "0.0007280628"
     ]
    },
    {
     "name": "stderr",
     "output_type": "stream",
     "text": [
      "┣████▍               ┫ [22.00%, 11/50, 03:29/15:50, 20.26s/i] "
     ]
    },
    {
     "name": "stdout",
     "output_type": "stream",
     "text": [
      "0.0006960702"
     ]
    },
    {
     "name": "stderr",
     "output_type": "stream",
     "text": [
      "┣████▊               ┫ [24.00%, 12/50, 03:49/15:55, 20.20s/i] "
     ]
    },
    {
     "name": "stdout",
     "output_type": "stream",
     "text": [
      "0.0006642701"
     ]
    },
    {
     "name": "stderr",
     "output_type": "stream",
     "text": [
      "┣█████▏              ┫ [26.00%, 13/50, 04:09/15:59, 20.15s/i] "
     ]
    },
    {
     "name": "stdout",
     "output_type": "stream",
     "text": [
      "0.0006620304"
     ]
    },
    {
     "name": "stderr",
     "output_type": "stream",
     "text": [
      "┣█████▌              ┫ [28.00%, 14/50, 04:30/16:03, 20.18s/i] "
     ]
    },
    {
     "name": "stdout",
     "output_type": "stream",
     "text": [
      "0.0006274129"
     ]
    },
    {
     "name": "stderr",
     "output_type": "stream",
     "text": [
      "┣██████              ┫ [30.00%, 15/50, 04:50/16:06, 20.23s/i] "
     ]
    },
    {
     "name": "stdout",
     "output_type": "stream",
     "text": [
      "0.00061334163"
     ]
    },
    {
     "name": "stderr",
     "output_type": "stream",
     "text": [
      "┣██████▍             ┫ [32.00%, 16/50, 05:10/16:09, 20.21s/i] "
     ]
    },
    {
     "name": "stdout",
     "output_type": "stream",
     "text": [
      "0.00058597303"
     ]
    },
    {
     "name": "stderr",
     "output_type": "stream",
     "text": [
      "┣██████▊             ┫ [34.00%, 17/50, 05:30/16:11, 20.22s/i] "
     ]
    },
    {
     "name": "stdout",
     "output_type": "stream",
     "text": [
      "0.0005708922"
     ]
    },
    {
     "name": "stderr",
     "output_type": "stream",
     "text": [
      "┣███████▏            ┫ [36.00%, 18/50, 05:51/16:14, 20.46s/i] "
     ]
    },
    {
     "name": "stdout",
     "output_type": "stream",
     "text": [
      "0.0005623303"
     ]
    },
    {
     "name": "stderr",
     "output_type": "stream",
     "text": [
      "┣███████▌            ┫ [38.00%, 19/50, 06:11/16:16, 20.25s/i] "
     ]
    },
    {
     "name": "stdout",
     "output_type": "stream",
     "text": [
      "0.0005373531"
     ]
    },
    {
     "name": "stderr",
     "output_type": "stream",
     "text": [
      "┣████████            ┫ [40.00%, 20/50, 06:31/16:18, 20.21s/i] "
     ]
    },
    {
     "name": "stdout",
     "output_type": "stream",
     "text": [
      "0.0005350604"
     ]
    },
    {
     "name": "stderr",
     "output_type": "stream",
     "text": [
      "┣████████▍           ┫ [42.00%, 21/50, 06:52/16:20, 20.44s/i] "
     ]
    },
    {
     "name": "stdout",
     "output_type": "stream",
     "text": [
      "0.00053436257"
     ]
    },
    {
     "name": "stderr",
     "output_type": "stream",
     "text": [
      "┣████████▊           ┫ [44.00%, 22/50, 07:12/16:22, 20.30s/i] "
     ]
    },
    {
     "name": "stdout",
     "output_type": "stream",
     "text": [
      "0.00051059783"
     ]
    },
    {
     "name": "stderr",
     "output_type": "stream",
     "text": [
      "┣█████████▏          ┫ [46.00%, 23/50, 07:32/16:23, 20.28s/i] "
     ]
    },
    {
     "name": "stdout",
     "output_type": "stream",
     "text": [
      "0.0005034309"
     ]
    },
    {
     "name": "stderr",
     "output_type": "stream",
     "text": [
      "┣█████████▌          ┫ [48.00%, 24/50, 07:53/16:25, 20.41s/i] "
     ]
    },
    {
     "name": "stdout",
     "output_type": "stream",
     "text": [
      "0.0004901352"
     ]
    },
    {
     "name": "stderr",
     "output_type": "stream",
     "text": [
      "┣██████████          ┫ [50.00%, 25/50, 08:13/16:26, 20.52s/i] "
     ]
    },
    {
     "name": "stdout",
     "output_type": "stream",
     "text": [
      "0.0004826197"
     ]
    },
    {
     "name": "stderr",
     "output_type": "stream",
     "text": [
      "┣██████████▍         ┫ [52.00%, 26/50, 08:33/16:27, 20.28s/i] "
     ]
    },
    {
     "name": "stdout",
     "output_type": "stream",
     "text": [
      "0.00047932856"
     ]
    },
    {
     "name": "stderr",
     "output_type": "stream",
     "text": [
      "┣██████████▊         ┫ [54.00%, 27/50, 08:54/16:29, 20.42s/i] "
     ]
    },
    {
     "name": "stdout",
     "output_type": "stream",
     "text": [
      "0.0004739412"
     ]
    },
    {
     "name": "stderr",
     "output_type": "stream",
     "text": [
      "┣███████████▏        ┫ [56.00%, 28/50, 09:14/16:30, 20.51s/i] "
     ]
    },
    {
     "name": "stdout",
     "output_type": "stream",
     "text": [
      "0.0004642324"
     ]
    },
    {
     "name": "stderr",
     "output_type": "stream",
     "text": [
      "┣███████████▌        ┫ [58.00%, 29/50, 09:35/16:31, 20.46s/i] "
     ]
    },
    {
     "name": "stdout",
     "output_type": "stream",
     "text": [
      "0.00045158705"
     ]
    },
    {
     "name": "stderr",
     "output_type": "stream",
     "text": [
      "┣████████████        ┫ [60.00%, 30/50, 09:55/16:32, 20.30s/i] "
     ]
    },
    {
     "name": "stdout",
     "output_type": "stream",
     "text": [
      "0.00044875836"
     ]
    },
    {
     "name": "stderr",
     "output_type": "stream",
     "text": [
      "┣████████████▍       ┫ [62.00%, 31/50, 10:16/16:33, 20.47s/i] "
     ]
    },
    {
     "name": "stdout",
     "output_type": "stream",
     "text": [
      "0.00044278416"
     ]
    },
    {
     "name": "stderr",
     "output_type": "stream",
     "text": [
      "┣████████████▊       ┫ [64.00%, 32/50, 10:36/16:34, 20.48s/i] "
     ]
    },
    {
     "name": "stdout",
     "output_type": "stream",
     "text": [
      "0.00044137903"
     ]
    },
    {
     "name": "stderr",
     "output_type": "stream",
     "text": [
      "┣█████████████▏      ┫ [66.00%, 33/50, 10:57/16:35, 20.49s/i] "
     ]
    },
    {
     "name": "stdout",
     "output_type": "stream",
     "text": [
      "0.00042856025"
     ]
    },
    {
     "name": "stderr",
     "output_type": "stream",
     "text": [
      "┣█████████████▌      ┫ [68.00%, 34/50, 11:17/16:36, 20.39s/i] "
     ]
    },
    {
     "name": "stdout",
     "output_type": "stream",
     "text": [
      "0.00042768216"
     ]
    },
    {
     "name": "stderr",
     "output_type": "stream",
     "text": [
      "┣██████████████      ┫ [70.00%, 35/50, 11:38/16:37, 20.68s/i] "
     ]
    },
    {
     "name": "stdout",
     "output_type": "stream",
     "text": [
      "0.00041971853"
     ]
    },
    {
     "name": "stderr",
     "output_type": "stream",
     "text": [
      "┣██████████████▍     ┫ [72.00%, 36/50, 11:58/16:37, 20.48s/i] "
     ]
    },
    {
     "name": "stdout",
     "output_type": "stream",
     "text": [
      "0.00041399073"
     ]
    },
    {
     "name": "stderr",
     "output_type": "stream",
     "text": [
      "┣██████████████▊     ┫ [74.00%, 37/50, 12:19/16:38, 20.46s/i] "
     ]
    },
    {
     "name": "stdout",
     "output_type": "stream",
     "text": [
      "0.00040901173"
     ]
    },
    {
     "name": "stderr",
     "output_type": "stream",
     "text": [
      "┣███████████████▏    ┫ [76.00%, 38/50, 12:39/16:39, 20.48s/i] "
     ]
    },
    {
     "name": "stdout",
     "output_type": "stream",
     "text": [
      "0.00040692987"
     ]
    },
    {
     "name": "stderr",
     "output_type": "stream",
     "text": [
      "┣███████████████▌    ┫ [78.00%, 39/50, 13:01/16:41, 21.51s/i] "
     ]
    },
    {
     "name": "stdout",
     "output_type": "stream",
     "text": [
      "0.0004124225"
     ]
    },
    {
     "name": "stderr",
     "output_type": "stream",
     "text": [
      "┣████████████████    ┫ [80.00%, 40/50, 13:21/16:41, 20.47s/i] "
     ]
    },
    {
     "name": "stdout",
     "output_type": "stream",
     "text": [
      "0.0003975657"
     ]
    },
    {
     "name": "stderr",
     "output_type": "stream",
     "text": [
      "┣████████████████▍   ┫ [82.00%, 41/50, 13:42/16:42, 20.60s/i] "
     ]
    },
    {
     "name": "stdout",
     "output_type": "stream",
     "text": [
      "0.00040104002"
     ]
    },
    {
     "name": "stderr",
     "output_type": "stream",
     "text": [
      "┣████████████████▊   ┫ [84.00%, 42/50, 14:02/16:43, 20.54s/i] "
     ]
    },
    {
     "name": "stdout",
     "output_type": "stream",
     "text": [
      "0.00039506145"
     ]
    },
    {
     "name": "stderr",
     "output_type": "stream",
     "text": [
      "┣█████████████████▏  ┫ [86.00%, 43/50, 14:23/16:43, 20.54s/i] "
     ]
    },
    {
     "name": "stdout",
     "output_type": "stream",
     "text": [
      "0.0003883233"
     ]
    },
    {
     "name": "stderr",
     "output_type": "stream",
     "text": [
      "┣█████████████████▌  ┫ [88.00%, 44/50, 14:43/16:44, 20.50s/i] "
     ]
    },
    {
     "name": "stdout",
     "output_type": "stream",
     "text": [
      "0.0003834946"
     ]
    },
    {
     "name": "stderr",
     "output_type": "stream",
     "text": [
      "┣██████████████████  ┫ [90.00%, 45/50, 15:05/16:46, 22.14s/i] "
     ]
    },
    {
     "name": "stdout",
     "output_type": "stream",
     "text": [
      "0.00038728354"
     ]
    },
    {
     "name": "stderr",
     "output_type": "stream",
     "text": [
      "┣██████████████████▍ ┫ [92.00%, 46/50, 15:28/16:49, 22.80s/i] "
     ]
    },
    {
     "name": "stdout",
     "output_type": "stream",
     "text": [
      "0.00037792805"
     ]
    },
    {
     "name": "stderr",
     "output_type": "stream",
     "text": [
      "┣██████████████████▊ ┫ [94.00%, 47/50, 15:51/16:52, 22.90s/i] "
     ]
    },
    {
     "name": "stdout",
     "output_type": "stream",
     "text": [
      "0.00038001104"
     ]
    },
    {
     "name": "stderr",
     "output_type": "stream",
     "text": [
      "┣███████████████████▏┫ [96.00%, 48/50, 16:12/16:53, 21.33s/i] "
     ]
    },
    {
     "name": "stdout",
     "output_type": "stream",
     "text": [
      "0.00037309958"
     ]
    },
    {
     "name": "stderr",
     "output_type": "stream",
     "text": [
      "┣███████████████████▌┫ [98.00%, 49/50, 16:34/16:54, 21.83s/i] "
     ]
    },
    {
     "name": "stdout",
     "output_type": "stream",
     "text": [
      "0.0003700715"
     ]
    },
    {
     "name": "stderr",
     "output_type": "stream",
     "text": [
      "┣████████████████████┫ [100.00%, 50/50, 16:56/16:56, 22.28s/i] "
     ]
    },
    {
     "name": "stdout",
     "output_type": "stream",
     "text": [
      "0.00036996775"
     ]
    },
    {
     "name": "stderr",
     "output_type": "stream",
     "text": [
      "┣████████████████████┫ [100.00%, 50/50, 17:19/17:19, 20.79s/i] \n"
     ]
    },
    {
     "name": "stdout",
     "output_type": "stream",
     "text": [
      "0.00036094"
     ]
    }
   ],
   "source": [
    "function decode_train(theta, x; batch_size = 64)\n",
    "    origin = Param(atype(zeros(1, 1, nz, batch_size)))\n",
    "    derivative_origin = @diff inner_loss(x,origin)\n",
    "    dz = grad(derivative_origin, origin)\n",
    "    z = -dz\n",
    "    x_hat = decode(theta, z; batch_size = batch_size, training = true)\n",
    "    return x_hat\n",
    "end\n",
    "\n",
    "nz = 256\n",
    "ngf = 16\n",
    "# nc = 1\n",
    "\n",
    "# first batch of the test dataset\n",
    "x_test_first = first(dtst);\n",
    "\n",
    "# define model weights\n",
    "theta = weights(nc, nz,  ngf);\n",
    "\n",
    "# Define Learning Rate and Number of Epochs\n",
    "lr = 2*1e-4\n",
    "n_epochs = 50\n",
    "\n",
    "# optim = Knet.Adam(lr = lr, beta1 = 0.9, beta2 = 0.999)\n",
    "\n",
    "# Specify the optimizer for each param\n",
    "for p in params(theta)\n",
    "    p.opt =  Knet.Adam(lr = lr, beta1 = 0.9, beta2 = 0.999)\n",
    "end\n",
    "# Initialize Empty Lists for both training and test losses\n",
    "trn_loss_list0 = Float64[]\n",
    "tst_loss_list0 = Float64[]\n",
    "\n",
    "# RECORD INITIAL LOSS VALUES\n",
    "epoch_loss_trn_ = loss_train(theta, dtrn)\n",
    "epoch_loss_tst_ = loss_train(theta, dtst)\n",
    "push!(trn_loss_list0, epoch_loss_trn_)\n",
    "push!(tst_loss_list0, epoch_loss_tst_)\n",
    "\n",
    "# Training Loop\n",
    "for epoch in progress(1:n_epochs)\n",
    "    for (i,x) in enumerate(dtrn)\n",
    "        \n",
    "        derivative_model = @diff loss_train(theta, x)\n",
    "        \n",
    "        for p in theta\n",
    "            dp = grad(derivative_model, p)\n",
    "            update!(value(p), dp, p.opt)\n",
    "        end\n",
    "\n",
    "    end\n",
    "    \n",
    "    epoch_loss_trn = loss_train(theta, dtrn)\n",
    "    epoch_loss_tst = loss_train(theta, dtst)\n",
    "    print(epoch_loss_trn)\n",
    "    push!(trn_loss_list0, epoch_loss_trn)\n",
    "    push!(tst_loss_list0, epoch_loss_tst)\n",
    "end"
   ]
  },
  {
   "cell_type": "markdown",
   "metadata": {},
   "source": [
    "# Train With Zero Mean 0.01 Std Initialization"
   ]
  },
  {
   "cell_type": "code",
   "execution_count": 3,
   "metadata": {},
   "outputs": [
    {
     "name": "stderr",
     "output_type": "stream",
     "text": [
      "┣▊                   ┫ [4.00%, 2/50, 00:23/09:45, 23.41s/i] "
     ]
    },
    {
     "name": "stdout",
     "output_type": "stream",
     "text": [
      "0.037669875"
     ]
    },
    {
     "name": "stderr",
     "output_type": "stream",
     "text": [
      "┣█▏                  ┫ [6.00%, 3/50, 00:45/12:32, 21.69s/i] "
     ]
    },
    {
     "name": "stdout",
     "output_type": "stream",
     "text": [
      "0.03441152"
     ]
    },
    {
     "name": "stderr",
     "output_type": "stream",
     "text": [
      "┣█▌                  ┫ [8.00%, 4/50, 01:07/14:04, 22.39s/i] "
     ]
    },
    {
     "name": "stdout",
     "output_type": "stream",
     "text": [
      "0.033072572"
     ]
    },
    {
     "name": "stderr",
     "output_type": "stream",
     "text": [
      "┣██                  ┫ [10.00%, 5/50, 01:31/15:06, 23.06s/i] "
     ]
    },
    {
     "name": "stdout",
     "output_type": "stream",
     "text": [
      "0.032292247"
     ]
    },
    {
     "name": "stderr",
     "output_type": "stream",
     "text": [
      "┣██▍                 ┫ [12.00%, 6/50, 01:54/15:48, 23.21s/i] "
     ]
    },
    {
     "name": "stdout",
     "output_type": "stream",
     "text": [
      "0.03166837"
     ]
    },
    {
     "name": "stderr",
     "output_type": "stream",
     "text": [
      "┣██▊                 ┫ [14.00%, 7/50, 02:17/16:20, 23.42s/i] "
     ]
    },
    {
     "name": "stdout",
     "output_type": "stream",
     "text": [
      "0.031210003"
     ]
    },
    {
     "name": "stderr",
     "output_type": "stream",
     "text": [
      "┣███▏                ┫ [16.00%, 8/50, 02:39/16:31, 21.33s/i] "
     ]
    },
    {
     "name": "stdout",
     "output_type": "stream",
     "text": [
      "0.030940501"
     ]
    },
    {
     "name": "stderr",
     "output_type": "stream",
     "text": [
      "┣███▌                ┫ [18.00%, 9/50, 03:01/16:47, 22.73s/i] "
     ]
    },
    {
     "name": "stdout",
     "output_type": "stream",
     "text": [
      "0.030536951"
     ]
    },
    {
     "name": "stderr",
     "output_type": "stream",
     "text": [
      "┣████                ┫ [20.00%, 10/50, 03:25/17:03, 23.42s/i] "
     ]
    },
    {
     "name": "stdout",
     "output_type": "stream",
     "text": [
      "0.030286541"
     ]
    },
    {
     "name": "stderr",
     "output_type": "stream",
     "text": [
      "┣████▍               ┫ [22.00%, 11/50, 03:48/17:16, 23.37s/i] "
     ]
    },
    {
     "name": "stdout",
     "output_type": "stream",
     "text": [
      "0.030007288"
     ]
    },
    {
     "name": "stderr",
     "output_type": "stream",
     "text": [
      "┣████▊               ┫ [24.00%, 12/50, 04:11/17:26, 22.99s/i] "
     ]
    },
    {
     "name": "stdout",
     "output_type": "stream",
     "text": [
      "0.029784052"
     ]
    },
    {
     "name": "stderr",
     "output_type": "stream",
     "text": [
      "┣█████▏              ┫ [26.00%, 13/50, 04:33/17:29, 21.68s/i] "
     ]
    },
    {
     "name": "stdout",
     "output_type": "stream",
     "text": [
      "0.02953666"
     ]
    },
    {
     "name": "stderr",
     "output_type": "stream",
     "text": [
      "┣█████▌              ┫ [28.00%, 14/50, 04:55/17:35, 22.61s/i] "
     ]
    },
    {
     "name": "stdout",
     "output_type": "stream",
     "text": [
      "0.029224398"
     ]
    },
    {
     "name": "stderr",
     "output_type": "stream",
     "text": [
      "┣██████              ┫ [30.00%, 15/50, 05:19/17:42, 23.44s/i] "
     ]
    },
    {
     "name": "stdout",
     "output_type": "stream",
     "text": [
      "0.02905918"
     ]
    },
    {
     "name": "stderr",
     "output_type": "stream",
     "text": [
      "┣██████▍             ┫ [32.00%, 16/50, 05:42/17:49, 23.41s/i] "
     ]
    },
    {
     "name": "stdout",
     "output_type": "stream",
     "text": [
      "0.028860915"
     ]
    },
    {
     "name": "stderr",
     "output_type": "stream",
     "text": [
      "┣██████▊             ┫ [34.00%, 17/50, 06:05/17:53, 22.58s/i] "
     ]
    },
    {
     "name": "stdout",
     "output_type": "stream",
     "text": [
      "0.028625708"
     ]
    },
    {
     "name": "stderr",
     "output_type": "stream",
     "text": [
      "┣███████▏            ┫ [36.00%, 18/50, 06:27/17:55, 22.33s/i] "
     ]
    },
    {
     "name": "stdout",
     "output_type": "stream",
     "text": [
      "0.028396554"
     ]
    },
    {
     "name": "stderr",
     "output_type": "stream",
     "text": [
      "┣███████▌            ┫ [38.00%, 19/50, 06:50/17:59, 22.85s/i] "
     ]
    },
    {
     "name": "stdout",
     "output_type": "stream",
     "text": [
      "0.028215768"
     ]
    },
    {
     "name": "stderr",
     "output_type": "stream",
     "text": [
      "┣████████            ┫ [40.00%, 20/50, 07:14/18:04, 23.65s/i] "
     ]
    },
    {
     "name": "stdout",
     "output_type": "stream",
     "text": [
      "0.02798982"
     ]
    },
    {
     "name": "stderr",
     "output_type": "stream",
     "text": [
      "┣████████▍           ┫ [42.00%, 21/50, 07:37/18:08, 23.45s/i] "
     ]
    },
    {
     "name": "stdout",
     "output_type": "stream",
     "text": [
      "0.027828604"
     ]
    },
    {
     "name": "stderr",
     "output_type": "stream",
     "text": [
      "┣████████▊           ┫ [44.00%, 22/50, 07:59/18:08, 21.82s/i] "
     ]
    },
    {
     "name": "stdout",
     "output_type": "stream",
     "text": [
      "0.027633036"
     ]
    },
    {
     "name": "stderr",
     "output_type": "stream",
     "text": [
      "┣█████████▏          ┫ [46.00%, 23/50, 08:21/18:10, 22.50s/i] "
     ]
    },
    {
     "name": "stdout",
     "output_type": "stream",
     "text": [
      "0.027451212"
     ]
    },
    {
     "name": "stderr",
     "output_type": "stream",
     "text": [
      "┣█████████▌          ┫ [48.00%, 24/50, 08:45/18:13, 23.39s/i] "
     ]
    },
    {
     "name": "stdout",
     "output_type": "stream",
     "text": [
      "0.027276035"
     ]
    },
    {
     "name": "stderr",
     "output_type": "stream",
     "text": [
      "┣██████████          ┫ [50.00%, 25/50, 09:08/18:17, 23.55s/i] "
     ]
    },
    {
     "name": "stdout",
     "output_type": "stream",
     "text": [
      "0.02714995"
     ]
    },
    {
     "name": "stderr",
     "output_type": "stream",
     "text": [
      "┣██████████▍         ┫ [52.00%, 26/50, 09:32/18:20, 23.59s/i] "
     ]
    },
    {
     "name": "stdout",
     "output_type": "stream",
     "text": [
      "0.027035786"
     ]
    },
    {
     "name": "stderr",
     "output_type": "stream",
     "text": [
      "┣██████████▊         ┫ [54.00%, 27/50, 09:53/18:19, 21.58s/i] "
     ]
    },
    {
     "name": "stdout",
     "output_type": "stream",
     "text": [
      "0.026866699"
     ]
    },
    {
     "name": "stderr",
     "output_type": "stream",
     "text": [
      "┣███████████▏        ┫ [56.00%, 28/50, 10:16/18:20, 22.73s/i] "
     ]
    },
    {
     "name": "stdout",
     "output_type": "stream",
     "text": [
      "0.026697094"
     ]
    },
    {
     "name": "stderr",
     "output_type": "stream",
     "text": [
      "┣███████████▌        ┫ [58.00%, 29/50, 10:40/18:23, 23.85s/i] "
     ]
    },
    {
     "name": "stdout",
     "output_type": "stream",
     "text": [
      "0.0265974"
     ]
    },
    {
     "name": "stderr",
     "output_type": "stream",
     "text": [
      "┣████████████        ┫ [60.00%, 30/50, 11:04/18:26, 23.64s/i] "
     ]
    },
    {
     "name": "stdout",
     "output_type": "stream",
     "text": [
      "0.026466053"
     ]
    },
    {
     "name": "stderr",
     "output_type": "stream",
     "text": [
      "┣████████████▍       ┫ [62.00%, 31/50, 11:27/18:27, 22.97s/i] "
     ]
    },
    {
     "name": "stdout",
     "output_type": "stream",
     "text": [
      "0.026347317"
     ]
    },
    {
     "name": "stderr",
     "output_type": "stream",
     "text": [
      "┣████████████▊       ┫ [64.00%, 32/50, 11:49/18:28, 22.25s/i] "
     ]
    },
    {
     "name": "stdout",
     "output_type": "stream",
     "text": [
      "0.026198208"
     ]
    },
    {
     "name": "stderr",
     "output_type": "stream",
     "text": [
      "┣█████████████▏      ┫ [66.00%, 33/50, 12:12/18:29, 23.11s/i] "
     ]
    },
    {
     "name": "stdout",
     "output_type": "stream",
     "text": [
      "0.026131386"
     ]
    },
    {
     "name": "stderr",
     "output_type": "stream",
     "text": [
      "┣█████████████▌      ┫ [68.00%, 34/50, 12:36/18:31, 23.77s/i] "
     ]
    },
    {
     "name": "stdout",
     "output_type": "stream",
     "text": [
      "0.025957687"
     ]
    },
    {
     "name": "stderr",
     "output_type": "stream",
     "text": [
      "┣██████████████      ┫ [70.00%, 35/50, 13:00/18:34, 23.81s/i] "
     ]
    },
    {
     "name": "stdout",
     "output_type": "stream",
     "text": [
      "0.02592235"
     ]
    },
    {
     "name": "stderr",
     "output_type": "stream",
     "text": [
      "┣██████████████▍     ┫ [72.00%, 36/50, 13:22/18:34, 22.26s/i] "
     ]
    },
    {
     "name": "stdout",
     "output_type": "stream",
     "text": [
      "0.025814665"
     ]
    },
    {
     "name": "stderr",
     "output_type": "stream",
     "text": [
      "┣██████████████▊     ┫ [74.00%, 37/50, 13:44/18:34, 22.69s/i] "
     ]
    },
    {
     "name": "stdout",
     "output_type": "stream",
     "text": [
      "0.02572514"
     ]
    },
    {
     "name": "stderr",
     "output_type": "stream",
     "text": [
      "┣███████████████▏    ┫ [76.00%, 38/50, 14:08/18:36, 23.76s/i] "
     ]
    },
    {
     "name": "stdout",
     "output_type": "stream",
     "text": [
      "0.025617411"
     ]
    },
    {
     "name": "stderr",
     "output_type": "stream",
     "text": [
      "┣███████████████▌    ┫ [78.00%, 39/50, 14:32/18:38, 23.85s/i] "
     ]
    },
    {
     "name": "stdout",
     "output_type": "stream",
     "text": [
      "0.025561312"
     ]
    },
    {
     "name": "stderr",
     "output_type": "stream",
     "text": [
      "┣████████████████    ┫ [80.00%, 40/50, 14:56/18:40, 23.63s/i] "
     ]
    },
    {
     "name": "stdout",
     "output_type": "stream",
     "text": [
      "0.025476845"
     ]
    },
    {
     "name": "stderr",
     "output_type": "stream",
     "text": [
      "┣████████████████▍   ┫ [82.00%, 41/50, 15:18/18:39, 21.89s/i] "
     ]
    },
    {
     "name": "stdout",
     "output_type": "stream",
     "text": [
      "0.025356583"
     ]
    },
    {
     "name": "stderr",
     "output_type": "stream",
     "text": [
      "┣████████████████▊   ┫ [84.00%, 42/50, 15:41/18:40, 23.30s/i] "
     ]
    },
    {
     "name": "stdout",
     "output_type": "stream",
     "text": [
      "0.025332816"
     ]
    },
    {
     "name": "stderr",
     "output_type": "stream",
     "text": [
      "┣█████████████████▏  ┫ [86.00%, 43/50, 16:05/18:42, 23.78s/i] "
     ]
    },
    {
     "name": "stdout",
     "output_type": "stream",
     "text": [
      "0.025242263"
     ]
    },
    {
     "name": "stderr",
     "output_type": "stream",
     "text": [
      "┣█████████████████▌  ┫ [88.00%, 44/50, 16:29/18:43, 23.99s/i] "
     ]
    },
    {
     "name": "stdout",
     "output_type": "stream",
     "text": [
      "0.02518321"
     ]
    },
    {
     "name": "stderr",
     "output_type": "stream",
     "text": [
      "┣██████████████████  ┫ [90.00%, 45/50, 16:52/18:44, 22.96s/i] "
     ]
    },
    {
     "name": "stdout",
     "output_type": "stream",
     "text": [
      "0.025094341"
     ]
    },
    {
     "name": "stderr",
     "output_type": "stream",
     "text": [
      "┣██████████████████▍ ┫ [92.00%, 46/50, 17:14/18:44, 22.58s/i] "
     ]
    },
    {
     "name": "stdout",
     "output_type": "stream",
     "text": [
      "0.02501057"
     ]
    },
    {
     "name": "stderr",
     "output_type": "stream",
     "text": [
      "┣██████████████████▊ ┫ [94.00%, 47/50, 17:37/18:45, 22.96s/i] "
     ]
    },
    {
     "name": "stdout",
     "output_type": "stream",
     "text": [
      "0.024940189"
     ]
    },
    {
     "name": "stderr",
     "output_type": "stream",
     "text": [
      "┣███████████████████▏┫ [96.00%, 48/50, 18:01/18:46, 24.00s/i] "
     ]
    },
    {
     "name": "stdout",
     "output_type": "stream",
     "text": [
      "0.024895895"
     ]
    },
    {
     "name": "stderr",
     "output_type": "stream",
     "text": [
      "┣███████████████████▌┫ [98.00%, 49/50, 18:25/18:48, 23.97s/i] "
     ]
    },
    {
     "name": "stdout",
     "output_type": "stream",
     "text": [
      "0.02482531"
     ]
    },
    {
     "name": "stderr",
     "output_type": "stream",
     "text": [
      "┣████████████████████┫ [100.00%, 50/50, 18:48/18:48, 22.56s/i] "
     ]
    },
    {
     "name": "stdout",
     "output_type": "stream",
     "text": [
      "0.02476292"
     ]
    },
    {
     "name": "stderr",
     "output_type": "stream",
     "text": [
      "┣████████████████████┫ [100.00%, 50/50, 19:11/19:11, 23.01s/i] \n"
     ]
    },
    {
     "name": "stdout",
     "output_type": "stream",
     "text": [
      "0.024726095"
     ]
    }
   ],
   "source": [
    "function decode_train(theta, x; batch_size = 64)\n",
    "    origin = Param(atype(0.01 * randn(1, 1, nz, batch_size)))\n",
    "    derivative_origin = @diff inner_loss(x,origin)\n",
    "    dz = grad(derivative_origin, origin)\n",
    "    z = origin-dz\n",
    "    x_hat = decode(theta, z; batch_size = batch_size, training = true)\n",
    "    return x_hat\n",
    "end\n",
    "\n",
    "nz = 256\n",
    "ngf = 16\n",
    "# nc = 1\n",
    "\n",
    "# first batch of the test dataset\n",
    "x_test_first = first(dtst);\n",
    "\n",
    "# define model weights\n",
    "theta = weights(nc, nz,  ngf);\n",
    "\n",
    "# Define Learning Rate and Number of Epochs\n",
    "lr = 2*1e-4\n",
    "# n_epochs = 3\n",
    "\n",
    "# optim = Knet.Adam(lr = lr, beta1 = 0.9, beta2 = 0.999)\n",
    "\n",
    "# Specify the optimizer for each param\n",
    "for p in params(theta)\n",
    "    p.opt =  Knet.Adam(lr = lr, beta1 = 0.9, beta2 = 0.999)\n",
    "end\n",
    "# Initialize Empty Lists for both training and test losses\n",
    "trn_loss_list1 = Float64[]\n",
    "tst_loss_list1 = Float64[]\n",
    "\n",
    "# RECORD INITIAL LOSS VALUES\n",
    "epoch_loss_trn_ = loss_train(theta, dtrn)\n",
    "epoch_loss_tst_ = loss_train(theta, dtst)\n",
    "push!(trn_loss_list1, epoch_loss_trn_)\n",
    "push!(tst_loss_list1, epoch_loss_tst_)\n",
    "\n",
    "# Training Loop\n",
    "for epoch in progress(1:n_epochs)\n",
    "    for (i,x) in enumerate(dtrn)\n",
    "        \n",
    "        derivative_model = @diff loss_train(theta, x)\n",
    "        \n",
    "        for p in theta\n",
    "            dp = grad(derivative_model, p)\n",
    "            update!(value(p), dp, p.opt)\n",
    "        end\n",
    "\n",
    "    end\n",
    "    \n",
    "    epoch_loss_trn = loss_train(theta, dtrn)\n",
    "    epoch_loss_tst = loss_train(theta, dtst)\n",
    "    print(epoch_loss_trn)\n",
    "    push!(trn_loss_list1, epoch_loss_trn)\n",
    "    push!(tst_loss_list1, epoch_loss_tst)\n",
    "end"
   ]
  },
  {
   "cell_type": "markdown",
   "metadata": {},
   "source": [
    "# Train With Zero Mean 0.1 Std Initialization"
   ]
  },
  {
   "cell_type": "code",
   "execution_count": 4,
   "metadata": {},
   "outputs": [
    {
     "name": "stderr",
     "output_type": "stream",
     "text": [
      "┣▊                   ┫ [4.00%, 2/50, 00:24/10:03, 24.12s/i] "
     ]
    },
    {
     "name": "stdout",
     "output_type": "stream",
     "text": [
      "0.065369286"
     ]
    },
    {
     "name": "stderr",
     "output_type": "stream",
     "text": [
      "┣█▏                  ┫ [6.00%, 3/50, 00:48/13:23, 24.04s/i] "
     ]
    },
    {
     "name": "stdout",
     "output_type": "stream",
     "text": [
      "0.058097083"
     ]
    },
    {
     "name": "stderr",
     "output_type": "stream",
     "text": [
      "┣█▌                  ┫ [8.00%, 4/50, 01:11/14:45, 22.64s/i] "
     ]
    },
    {
     "name": "stdout",
     "output_type": "stream",
     "text": [
      "0.057580054"
     ]
    },
    {
     "name": "stderr",
     "output_type": "stream",
     "text": [
      "┣██                  ┫ [10.00%, 5/50, 01:34/15:37, 22.93s/i] "
     ]
    },
    {
     "name": "stdout",
     "output_type": "stream",
     "text": [
      "0.057379622"
     ]
    },
    {
     "name": "stderr",
     "output_type": "stream",
     "text": [
      "┣██▍                 ┫ [12.00%, 6/50, 01:57/16:18, 23.68s/i] "
     ]
    },
    {
     "name": "stdout",
     "output_type": "stream",
     "text": [
      "0.057190705"
     ]
    },
    {
     "name": "stderr",
     "output_type": "stream",
     "text": [
      "┣██▊                 ┫ [14.00%, 7/50, 02:22/16:51, 24.14s/i] "
     ]
    },
    {
     "name": "stdout",
     "output_type": "stream",
     "text": [
      "0.057163794"
     ]
    },
    {
     "name": "stderr",
     "output_type": "stream",
     "text": [
      "┣███▏                ┫ [16.00%, 8/50, 02:46/17:15, 24.07s/i] "
     ]
    },
    {
     "name": "stdout",
     "output_type": "stream",
     "text": [
      "0.057027414"
     ]
    },
    {
     "name": "stderr",
     "output_type": "stream",
     "text": [
      "┣███▌                ┫ [18.00%, 9/50, 03:08/17:22, 21.99s/i] "
     ]
    },
    {
     "name": "stdout",
     "output_type": "stream",
     "text": [
      "0.057003316"
     ]
    },
    {
     "name": "stderr",
     "output_type": "stream",
     "text": [
      "┣████                ┫ [20.00%, 10/50, 03:31/17:34, 23.26s/i] "
     ]
    },
    {
     "name": "stdout",
     "output_type": "stream",
     "text": [
      "0.056936275"
     ]
    },
    {
     "name": "stderr",
     "output_type": "stream",
     "text": [
      "┣████▍               ┫ [22.00%, 11/50, 03:55/17:49, 24.21s/i] "
     ]
    },
    {
     "name": "stdout",
     "output_type": "stream",
     "text": [
      "0.056880977"
     ]
    },
    {
     "name": "stderr",
     "output_type": "stream",
     "text": [
      "┣████▊               ┫ [24.00%, 12/50, 04:19/18:00, 24.11s/i] "
     ]
    },
    {
     "name": "stdout",
     "output_type": "stream",
     "text": [
      "0.056839067"
     ]
    },
    {
     "name": "stderr",
     "output_type": "stream",
     "text": [
      "┣█████▏              ┫ [26.00%, 13/50, 04:43/18:07, 23.39s/i] "
     ]
    },
    {
     "name": "stdout",
     "output_type": "stream",
     "text": [
      "0.05682926"
     ]
    },
    {
     "name": "stderr",
     "output_type": "stream",
     "text": [
      "┣█████▌              ┫ [28.00%, 14/50, 05:05/18:10, 22.75s/i] "
     ]
    },
    {
     "name": "stdout",
     "output_type": "stream",
     "text": [
      "0.056799125"
     ]
    },
    {
     "name": "stderr",
     "output_type": "stream",
     "text": [
      "┣██████              ┫ [30.00%, 15/50, 05:29/18:17, 23.70s/i] "
     ]
    },
    {
     "name": "stdout",
     "output_type": "stream",
     "text": [
      "0.05682285"
     ]
    },
    {
     "name": "stderr",
     "output_type": "stream",
     "text": [
      "┣██████▍             ┫ [32.00%, 16/50, 05:53/18:24, 24.14s/i] "
     ]
    },
    {
     "name": "stdout",
     "output_type": "stream",
     "text": [
      "0.056764565"
     ]
    },
    {
     "name": "stderr",
     "output_type": "stream",
     "text": [
      "┣██████▊             ┫ [34.00%, 17/50, 06:17/18:30, 24.10s/i] "
     ]
    },
    {
     "name": "stdout",
     "output_type": "stream",
     "text": [
      "0.056758836"
     ]
    },
    {
     "name": "stderr",
     "output_type": "stream",
     "text": [
      "┣███████▏            ┫ [36.00%, 18/50, 06:39/18:29, 22.12s/i] "
     ]
    },
    {
     "name": "stdout",
     "output_type": "stream",
     "text": [
      "0.056750916"
     ]
    },
    {
     "name": "stderr",
     "output_type": "stream",
     "text": [
      "┣███████▌            ┫ [38.00%, 19/50, 07:03/18:33, 23.51s/i] "
     ]
    },
    {
     "name": "stdout",
     "output_type": "stream",
     "text": [
      "0.05670594"
     ]
    },
    {
     "name": "stderr",
     "output_type": "stream",
     "text": [
      "┣████████            ┫ [40.00%, 20/50, 07:27/18:38, 24.26s/i] "
     ]
    },
    {
     "name": "stdout",
     "output_type": "stream",
     "text": [
      "0.056704536"
     ]
    },
    {
     "name": "stderr",
     "output_type": "stream",
     "text": [
      "┣████████▍           ┫ [42.00%, 21/50, 07:51/18:42, 24.18s/i] "
     ]
    },
    {
     "name": "stdout",
     "output_type": "stream",
     "text": [
      "0.056685265"
     ]
    },
    {
     "name": "stderr",
     "output_type": "stream",
     "text": [
      "┣████████▊           ┫ [44.00%, 22/50, 08:15/18:45, 23.62s/i] "
     ]
    },
    {
     "name": "stdout",
     "output_type": "stream",
     "text": [
      "0.05670127"
     ]
    },
    {
     "name": "stderr",
     "output_type": "stream",
     "text": [
      "┣█████████▏          ┫ [46.00%, 23/50, 08:38/18:45, 22.57s/i] "
     ]
    },
    {
     "name": "stdout",
     "output_type": "stream",
     "text": [
      "0.056672804"
     ]
    },
    {
     "name": "stderr",
     "output_type": "stream",
     "text": [
      "┣█████████▌          ┫ [48.00%, 24/50, 09:01/18:47, 23.58s/i] "
     ]
    },
    {
     "name": "stdout",
     "output_type": "stream",
     "text": [
      "0.056686927"
     ]
    },
    {
     "name": "stderr",
     "output_type": "stream",
     "text": [
      "┣██████████          ┫ [50.00%, 25/50, 09:25/18:51, 24.30s/i] "
     ]
    },
    {
     "name": "stdout",
     "output_type": "stream",
     "text": [
      "0.056659278"
     ]
    },
    {
     "name": "stderr",
     "output_type": "stream",
     "text": [
      "┣██████████▍         ┫ [52.00%, 26/50, 09:49/18:53, 24.00s/i] "
     ]
    },
    {
     "name": "stdout",
     "output_type": "stream",
     "text": [
      "0.05670658"
     ]
    },
    {
     "name": "stderr",
     "output_type": "stream",
     "text": [
      "┣██████████▊         ┫ [54.00%, 27/50, 10:13/18:54, 23.11s/i] "
     ]
    },
    {
     "name": "stdout",
     "output_type": "stream",
     "text": [
      "0.056688685"
     ]
    },
    {
     "name": "stderr",
     "output_type": "stream",
     "text": [
      "┣███████████▏        ┫ [56.00%, 28/50, 10:35/18:53, 22.21s/i] "
     ]
    },
    {
     "name": "stdout",
     "output_type": "stream",
     "text": [
      "0.056650795"
     ]
    },
    {
     "name": "stderr",
     "output_type": "stream",
     "text": [
      "┣███████████▌        ┫ [58.00%, 29/50, 10:57/18:54, 22.73s/i] "
     ]
    },
    {
     "name": "stdout",
     "output_type": "stream",
     "text": [
      "0.056644488"
     ]
    },
    {
     "name": "stderr",
     "output_type": "stream",
     "text": [
      "┣████████████        ┫ [60.00%, 30/50, 11:21/18:55, 23.53s/i] "
     ]
    },
    {
     "name": "stdout",
     "output_type": "stream",
     "text": [
      "0.056642424"
     ]
    },
    {
     "name": "stderr",
     "output_type": "stream",
     "text": [
      "┣████████████▍       ┫ [62.00%, 31/50, 11:45/18:57, 24.17s/i] "
     ]
    },
    {
     "name": "stdout",
     "output_type": "stream",
     "text": [
      "0.0566356"
     ]
    },
    {
     "name": "stderr",
     "output_type": "stream",
     "text": [
      "┣████████████▊       ┫ [64.00%, 32/50, 12:09/18:59, 23.69s/i] "
     ]
    },
    {
     "name": "stdout",
     "output_type": "stream",
     "text": [
      "0.056648396"
     ]
    },
    {
     "name": "stderr",
     "output_type": "stream",
     "text": [
      "┣█████████████▏      ┫ [66.00%, 33/50, 12:32/19:00, 23.59s/i] "
     ]
    },
    {
     "name": "stdout",
     "output_type": "stream",
     "text": [
      "0.056626216"
     ]
    },
    {
     "name": "stderr",
     "output_type": "stream",
     "text": [
      "┣█████████████▌      ┫ [68.00%, 34/50, 12:54/18:59, 22.01s/i] "
     ]
    },
    {
     "name": "stdout",
     "output_type": "stream",
     "text": [
      "0.056600764"
     ]
    },
    {
     "name": "stderr",
     "output_type": "stream",
     "text": [
      "┣██████████████      ┫ [70.00%, 35/50, 13:18/19:00, 23.30s/i] "
     ]
    },
    {
     "name": "stdout",
     "output_type": "stream",
     "text": [
      "0.056599118"
     ]
    },
    {
     "name": "stderr",
     "output_type": "stream",
     "text": [
      "┣██████████████▍     ┫ [72.00%, 36/50, 13:42/19:02, 24.41s/i] "
     ]
    },
    {
     "name": "stdout",
     "output_type": "stream",
     "text": [
      "0.056621492"
     ]
    },
    {
     "name": "stderr",
     "output_type": "stream",
     "text": [
      "┣██████████████▊     ┫ [74.00%, 37/50, 14:06/19:04, 24.32s/i] "
     ]
    },
    {
     "name": "stdout",
     "output_type": "stream",
     "text": [
      "0.05659846"
     ]
    },
    {
     "name": "stderr",
     "output_type": "stream",
     "text": [
      "┣███████████████▏    ┫ [76.00%, 38/50, 14:30/19:05, 23.73s/i] "
     ]
    },
    {
     "name": "stdout",
     "output_type": "stream",
     "text": [
      "0.05658742"
     ]
    },
    {
     "name": "stderr",
     "output_type": "stream",
     "text": [
      "┣███████████████▌    ┫ [78.00%, 39/50, 14:53/19:05, 22.78s/i] "
     ]
    },
    {
     "name": "stdout",
     "output_type": "stream",
     "text": [
      "0.05659712"
     ]
    },
    {
     "name": "stderr",
     "output_type": "stream",
     "text": [
      "┣████████████████    ┫ [80.00%, 40/50, 15:16/19:06, 23.46s/i] "
     ]
    },
    {
     "name": "stdout",
     "output_type": "stream",
     "text": [
      "0.056591578"
     ]
    },
    {
     "name": "stderr",
     "output_type": "stream",
     "text": [
      "┣████████████████▍   ┫ [82.00%, 41/50, 15:41/19:07, 24.28s/i] "
     ]
    },
    {
     "name": "stdout",
     "output_type": "stream",
     "text": [
      "0.05658241"
     ]
    },
    {
     "name": "stderr",
     "output_type": "stream",
     "text": [
      "┣████████████████▊   ┫ [84.00%, 42/50, 16:05/19:09, 24.44s/i] "
     ]
    },
    {
     "name": "stdout",
     "output_type": "stream",
     "text": [
      "0.056577135"
     ]
    },
    {
     "name": "stderr",
     "output_type": "stream",
     "text": [
      "┣█████████████████▏  ┫ [86.00%, 43/50, 16:28/19:09, 23.06s/i] "
     ]
    },
    {
     "name": "stdout",
     "output_type": "stream",
     "text": [
      "0.05658868"
     ]
    },
    {
     "name": "stderr",
     "output_type": "stream",
     "text": [
      "┣█████████████████▌  ┫ [88.00%, 44/50, 16:51/19:09, 23.16s/i] "
     ]
    },
    {
     "name": "stdout",
     "output_type": "stream",
     "text": [
      "0.056583196"
     ]
    },
    {
     "name": "stderr",
     "output_type": "stream",
     "text": [
      "┣██████████████████  ┫ [90.00%, 45/50, 17:16/19:11, 24.40s/i] "
     ]
    },
    {
     "name": "stdout",
     "output_type": "stream",
     "text": [
      "0.056572016"
     ]
    },
    {
     "name": "stderr",
     "output_type": "stream",
     "text": [
      "┣██████████████████▍ ┫ [92.00%, 46/50, 17:40/19:12, 24.35s/i] "
     ]
    },
    {
     "name": "stdout",
     "output_type": "stream",
     "text": [
      "0.056610845"
     ]
    },
    {
     "name": "stderr",
     "output_type": "stream",
     "text": [
      "┣██████████████████▊ ┫ [94.00%, 47/50, 18:04/19:13, 24.07s/i] "
     ]
    },
    {
     "name": "stdout",
     "output_type": "stream",
     "text": [
      "0.056615718"
     ]
    },
    {
     "name": "stderr",
     "output_type": "stream",
     "text": [
      "┣███████████████████▏┫ [96.00%, 48/50, 18:27/19:13, 22.52s/i] "
     ]
    },
    {
     "name": "stdout",
     "output_type": "stream",
     "text": [
      "0.056572635"
     ]
    },
    {
     "name": "stderr",
     "output_type": "stream",
     "text": [
      "┣███████████████████▌┫ [98.00%, 49/50, 18:51/19:14, 23.80s/i] "
     ]
    },
    {
     "name": "stdout",
     "output_type": "stream",
     "text": [
      "0.056568183"
     ]
    },
    {
     "name": "stderr",
     "output_type": "stream",
     "text": [
      "┣████████████████████┫ [100.00%, 50/50, 19:15/19:15, 24.38s/i] "
     ]
    },
    {
     "name": "stdout",
     "output_type": "stream",
     "text": [
      "0.056549627"
     ]
    },
    {
     "name": "stderr",
     "output_type": "stream",
     "text": [
      "┣████████████████████┫ [100.00%, 50/50, 19:39/19:39, 23.59s/i] \n"
     ]
    },
    {
     "name": "stdout",
     "output_type": "stream",
     "text": [
      "0.05656834"
     ]
    }
   ],
   "source": [
    "function decode_train(theta, x; batch_size = 64)\n",
    "    origin = Param(atype(0.1 * randn(1, 1, nz, batch_size)))\n",
    "    derivative_origin = @diff inner_loss(x,origin)\n",
    "    dz = grad(derivative_origin, origin)\n",
    "    z = origin-dz\n",
    "    x_hat = decode(theta, z; batch_size = batch_size, training = true)\n",
    "    return x_hat\n",
    "end\n",
    "\n",
    "nz = 256\n",
    "ngf = 16\n",
    "# nc = 1\n",
    "\n",
    "# first batch of the test dataset\n",
    "x_test_first = first(dtst);\n",
    "\n",
    "# define model weights\n",
    "theta = weights(nc, nz,  ngf);\n",
    "\n",
    "# Define Learning Rate and Number of Epochs\n",
    "lr = 2*1e-4\n",
    "# n_epochs = 3\n",
    "\n",
    "# optim = Knet.Adam(lr = lr, beta1 = 0.9, beta2 = 0.999)\n",
    "\n",
    "# Specify the optimizer for each param\n",
    "for p in params(theta)\n",
    "    p.opt =  Knet.Adam(lr = lr, beta1 = 0.9, beta2 = 0.999)\n",
    "end\n",
    "# Initialize Empty Lists for both training and test losses\n",
    "trn_loss_list2 = Float64[]\n",
    "tst_loss_list2 = Float64[]\n",
    "\n",
    "# RECORD INITIAL LOSS VALUES\n",
    "epoch_loss_trn_ = loss_train(theta, dtrn)\n",
    "epoch_loss_tst_ = loss_train(theta, dtst)\n",
    "push!(trn_loss_list2, epoch_loss_trn_)\n",
    "push!(tst_loss_list2, epoch_loss_tst_)\n",
    "\n",
    "# Training Loop\n",
    "for epoch in progress(1:n_epochs)\n",
    "    for (i,x) in enumerate(dtrn)\n",
    "        \n",
    "        derivative_model = @diff loss_train(theta, x)\n",
    "        \n",
    "        for p in theta\n",
    "            dp = grad(derivative_model, p)\n",
    "            update!(value(p), dp, p.opt)\n",
    "        end\n",
    "\n",
    "    end\n",
    "    \n",
    "    epoch_loss_trn = loss_train(theta, dtrn)\n",
    "    epoch_loss_tst = loss_train(theta, dtst)\n",
    "    print(epoch_loss_trn)\n",
    "    push!(trn_loss_list2, epoch_loss_trn)\n",
    "    push!(tst_loss_list2, epoch_loss_tst)\n",
    "end"
   ]
  },
  {
   "cell_type": "markdown",
   "metadata": {},
   "source": [
    "# Train With Zero Mean 1 Std Initialization"
   ]
  },
  {
   "cell_type": "code",
   "execution_count": 5,
   "metadata": {},
   "outputs": [
    {
     "name": "stderr",
     "output_type": "stream",
     "text": [
      "┣▊                   ┫ [4.00%, 2/50, 00:22/09:12, 22.07s/i] "
     ]
    },
    {
     "name": "stdout",
     "output_type": "stream",
     "text": [
      "0.06095229"
     ]
    },
    {
     "name": "stderr",
     "output_type": "stream",
     "text": [
      "┣█▏                  ┫ [6.00%, 3/50, 00:45/12:24, 22.57s/i] "
     ]
    },
    {
     "name": "stdout",
     "output_type": "stream",
     "text": [
      "0.057917424"
     ]
    },
    {
     "name": "stderr",
     "output_type": "stream",
     "text": [
      "┣█▌                  ┫ [8.00%, 4/50, 01:08/14:04, 22.86s/i] "
     ]
    },
    {
     "name": "stdout",
     "output_type": "stream",
     "text": [
      "0.05753658"
     ]
    },
    {
     "name": "stderr",
     "output_type": "stream",
     "text": [
      "┣██                  ┫ [10.00%, 5/50, 01:29/14:50, 21.52s/i] "
     ]
    },
    {
     "name": "stdout",
     "output_type": "stream",
     "text": [
      "0.057358738"
     ]
    },
    {
     "name": "stderr",
     "output_type": "stream",
     "text": [
      "┣██▍                 ┫ [12.00%, 6/50, 01:51/15:27, 22.21s/i] "
     ]
    },
    {
     "name": "stdout",
     "output_type": "stream",
     "text": [
      "0.057173707"
     ]
    },
    {
     "name": "stderr",
     "output_type": "stream",
     "text": [
      "┣██▊                 ┫ [14.00%, 7/50, 02:16/16:09, 24.36s/i] "
     ]
    },
    {
     "name": "stdout",
     "output_type": "stream",
     "text": [
      "0.057061303"
     ]
    },
    {
     "name": "stderr",
     "output_type": "stream",
     "text": [
      "┣███▏                ┫ [16.00%, 8/50, 02:40/16:40, 24.41s/i] "
     ]
    },
    {
     "name": "stdout",
     "output_type": "stream",
     "text": [
      "0.056997903"
     ]
    },
    {
     "name": "stderr",
     "output_type": "stream",
     "text": [
      "┣███▌                ┫ [18.00%, 9/50, 03:03/16:59, 23.39s/i] "
     ]
    },
    {
     "name": "stdout",
     "output_type": "stream",
     "text": [
      "0.05697554"
     ]
    },
    {
     "name": "stderr",
     "output_type": "stream",
     "text": [
      "┣████                ┫ [20.00%, 10/50, 03:26/17:12, 23.03s/i] "
     ]
    },
    {
     "name": "stdout",
     "output_type": "stream",
     "text": [
      "0.056888994"
     ]
    },
    {
     "name": "stderr",
     "output_type": "stream",
     "text": [
      "┣████▍               ┫ [22.00%, 11/50, 03:50/17:26, 23.69s/i] "
     ]
    },
    {
     "name": "stdout",
     "output_type": "stream",
     "text": [
      "0.05687217"
     ]
    },
    {
     "name": "stderr",
     "output_type": "stream",
     "text": [
      "┣████▊               ┫ [24.00%, 12/50, 04:14/17:40, 24.28s/i] "
     ]
    },
    {
     "name": "stdout",
     "output_type": "stream",
     "text": [
      "0.056847643"
     ]
    },
    {
     "name": "stderr",
     "output_type": "stream",
     "text": [
      "┣█████▏              ┫ [26.00%, 13/50, 04:39/17:52, 24.41s/i] "
     ]
    },
    {
     "name": "stdout",
     "output_type": "stream",
     "text": [
      "0.056791473"
     ]
    },
    {
     "name": "stderr",
     "output_type": "stream",
     "text": [
      "┣█████▌              ┫ [28.00%, 14/50, 05:01/17:55, 22.07s/i] "
     ]
    },
    {
     "name": "stdout",
     "output_type": "stream",
     "text": [
      "0.056856826"
     ]
    },
    {
     "name": "stderr",
     "output_type": "stream",
     "text": [
      "┣██████              ┫ [30.00%, 15/50, 05:24/18:01, 23.47s/i] "
     ]
    },
    {
     "name": "stdout",
     "output_type": "stream",
     "text": [
      "0.05675668"
     ]
    },
    {
     "name": "stderr",
     "output_type": "stream",
     "text": [
      "┣██████▍             ┫ [32.00%, 16/50, 05:49/18:10, 24.44s/i] "
     ]
    },
    {
     "name": "stdout",
     "output_type": "stream",
     "text": [
      "0.056741506"
     ]
    },
    {
     "name": "stderr",
     "output_type": "stream",
     "text": [
      "┣██████▊             ┫ [34.00%, 17/50, 06:13/18:17, 24.31s/i] "
     ]
    },
    {
     "name": "stdout",
     "output_type": "stream",
     "text": [
      "0.05675069"
     ]
    },
    {
     "name": "stderr",
     "output_type": "stream",
     "text": [
      "┣███████▏            ┫ [36.00%, 18/50, 06:36/18:21, 23.29s/i] "
     ]
    },
    {
     "name": "stdout",
     "output_type": "stream",
     "text": [
      "0.056719664"
     ]
    },
    {
     "name": "stderr",
     "output_type": "stream",
     "text": [
      "┣███████▌            ┫ [38.00%, 19/50, 06:59/18:24, 22.99s/i] "
     ]
    },
    {
     "name": "stdout",
     "output_type": "stream",
     "text": [
      "0.056747023"
     ]
    },
    {
     "name": "stderr",
     "output_type": "stream",
     "text": [
      "┣████████            ┫ [40.00%, 20/50, 07:23/18:27, 23.44s/i] "
     ]
    },
    {
     "name": "stdout",
     "output_type": "stream",
     "text": [
      "0.056730285"
     ]
    },
    {
     "name": "stderr",
     "output_type": "stream",
     "text": [
      "┣████████▍           ┫ [42.00%, 21/50, 07:47/18:33, 24.48s/i] "
     ]
    },
    {
     "name": "stdout",
     "output_type": "stream",
     "text": [
      "0.05677456"
     ]
    },
    {
     "name": "stderr",
     "output_type": "stream",
     "text": [
      "┣████████▊           ┫ [44.00%, 22/50, 08:12/18:38, 24.48s/i] "
     ]
    },
    {
     "name": "stdout",
     "output_type": "stream",
     "text": [
      "0.05667401"
     ]
    },
    {
     "name": "stderr",
     "output_type": "stream",
     "text": [
      "┣█████████▏          ┫ [46.00%, 23/50, 08:34/18:38, 22.30s/i] "
     ]
    },
    {
     "name": "stdout",
     "output_type": "stream",
     "text": [
      "0.05665449"
     ]
    },
    {
     "name": "stderr",
     "output_type": "stream",
     "text": [
      "┣█████████▌          ┫ [48.00%, 24/50, 08:58/18:40, 23.63s/i] "
     ]
    },
    {
     "name": "stdout",
     "output_type": "stream",
     "text": [
      "0.05665504"
     ]
    },
    {
     "name": "stderr",
     "output_type": "stream",
     "text": [
      "┣██████████          ┫ [50.00%, 25/50, 09:22/18:44, 24.36s/i] "
     ]
    },
    {
     "name": "stdout",
     "output_type": "stream",
     "text": [
      "0.05665657"
     ]
    },
    {
     "name": "stderr",
     "output_type": "stream",
     "text": [
      "┣██████████▍         ┫ [52.00%, 26/50, 09:47/18:48, 24.47s/i] "
     ]
    },
    {
     "name": "stdout",
     "output_type": "stream",
     "text": [
      "0.056667197"
     ]
    },
    {
     "name": "stderr",
     "output_type": "stream",
     "text": [
      "┣██████████▊         ┫ [54.00%, 27/50, 10:10/18:50, 23.52s/i] "
     ]
    },
    {
     "name": "stdout",
     "output_type": "stream",
     "text": [
      "0.056627948"
     ]
    },
    {
     "name": "stderr",
     "output_type": "stream",
     "text": [
      "┣███████████▏        ┫ [56.00%, 28/50, 10:33/18:50, 22.96s/i] "
     ]
    },
    {
     "name": "stdout",
     "output_type": "stream",
     "text": [
      "0.05666925"
     ]
    },
    {
     "name": "stderr",
     "output_type": "stream",
     "text": [
      "┣███████████▌        ┫ [58.00%, 29/50, 10:56/18:51, 23.15s/i] "
     ]
    },
    {
     "name": "stdout",
     "output_type": "stream",
     "text": [
      "0.056635536"
     ]
    },
    {
     "name": "stderr",
     "output_type": "stream",
     "text": [
      "┣████████████        ┫ [60.00%, 30/50, 11:21/18:54, 24.52s/i] "
     ]
    },
    {
     "name": "stdout",
     "output_type": "stream",
     "text": [
      "0.05663104"
     ]
    },
    {
     "name": "stderr",
     "output_type": "stream",
     "text": [
      "┣████████████▍       ┫ [62.00%, 31/50, 11:45/18:58, 24.61s/i] "
     ]
    },
    {
     "name": "stdout",
     "output_type": "stream",
     "text": [
      "0.05661729"
     ]
    },
    {
     "name": "stderr",
     "output_type": "stream",
     "text": [
      "┣████████████▊       ┫ [64.00%, 32/50, 12:08/18:58, 22.78s/i] "
     ]
    },
    {
     "name": "stdout",
     "output_type": "stream",
     "text": [
      "0.056625888"
     ]
    },
    {
     "name": "stderr",
     "output_type": "stream",
     "text": [
      "┣█████████████▏      ┫ [66.00%, 33/50, 12:32/18:59, 23.47s/i] "
     ]
    },
    {
     "name": "stdout",
     "output_type": "stream",
     "text": [
      "0.056609727"
     ]
    },
    {
     "name": "stderr",
     "output_type": "stream",
     "text": [
      "┣█████████████▌      ┫ [68.00%, 34/50, 12:56/19:01, 24.59s/i] "
     ]
    },
    {
     "name": "stdout",
     "output_type": "stream",
     "text": [
      "0.05661766"
     ]
    },
    {
     "name": "stderr",
     "output_type": "stream",
     "text": [
      "┣██████████████      ┫ [70.00%, 35/50, 13:21/19:04, 24.68s/i] "
     ]
    },
    {
     "name": "stdout",
     "output_type": "stream",
     "text": [
      "0.056589656"
     ]
    },
    {
     "name": "stderr",
     "output_type": "stream",
     "text": [
      "┣██████████████▍     ┫ [72.00%, 36/50, 13:45/19:05, 23.92s/i] "
     ]
    },
    {
     "name": "stdout",
     "output_type": "stream",
     "text": [
      "0.05662054"
     ]
    },
    {
     "name": "stderr",
     "output_type": "stream",
     "text": [
      "┣██████████████▊     ┫ [74.00%, 37/50, 14:08/19:06, 22.93s/i] "
     ]
    },
    {
     "name": "stdout",
     "output_type": "stream",
     "text": [
      "0.056611422"
     ]
    },
    {
     "name": "stderr",
     "output_type": "stream",
     "text": [
      "┣███████████████▏    ┫ [76.00%, 38/50, 14:32/19:07, 24.02s/i] "
     ]
    },
    {
     "name": "stdout",
     "output_type": "stream",
     "text": [
      "0.05660266"
     ]
    },
    {
     "name": "stderr",
     "output_type": "stream",
     "text": [
      "┣███████████████▌    ┫ [78.00%, 39/50, 14:56/19:09, 24.63s/i] "
     ]
    },
    {
     "name": "stdout",
     "output_type": "stream",
     "text": [
      "0.05662086"
     ]
    },
    {
     "name": "stderr",
     "output_type": "stream",
     "text": [
      "┣████████████████    ┫ [80.00%, 40/50, 15:21/19:11, 24.75s/i] "
     ]
    },
    {
     "name": "stdout",
     "output_type": "stream",
     "text": [
      "0.056576878"
     ]
    },
    {
     "name": "stderr",
     "output_type": "stream",
     "text": [
      "┣████████████████▍   ┫ [82.00%, 41/50, 15:43/19:11, 22.41s/i] "
     ]
    },
    {
     "name": "stdout",
     "output_type": "stream",
     "text": [
      "0.056600425"
     ]
    },
    {
     "name": "stderr",
     "output_type": "stream",
     "text": [
      "┣████████████████▊   ┫ [84.00%, 42/50, 16:07/19:11, 23.73s/i] "
     ]
    },
    {
     "name": "stdout",
     "output_type": "stream",
     "text": [
      "0.05658792"
     ]
    },
    {
     "name": "stderr",
     "output_type": "stream",
     "text": [
      "┣█████████████████▏  ┫ [86.00%, 43/50, 16:32/19:14, 24.90s/i] "
     ]
    },
    {
     "name": "stdout",
     "output_type": "stream",
     "text": [
      "0.056571778"
     ]
    },
    {
     "name": "stderr",
     "output_type": "stream",
     "text": [
      "┣█████████████████▌  ┫ [88.00%, 44/50, 16:57/19:16, 25.26s/i] "
     ]
    },
    {
     "name": "stdout",
     "output_type": "stream",
     "text": [
      "0.056577567"
     ]
    },
    {
     "name": "stderr",
     "output_type": "stream",
     "text": [
      "┣██████████████████  ┫ [90.00%, 45/50, 17:22/19:17, 24.21s/i] "
     ]
    },
    {
     "name": "stdout",
     "output_type": "stream",
     "text": [
      "0.056564268"
     ]
    },
    {
     "name": "stderr",
     "output_type": "stream",
     "text": [
      "┣██████████████████▍ ┫ [92.00%, 46/50, 17:45/19:18, 23.35s/i] "
     ]
    },
    {
     "name": "stdout",
     "output_type": "stream",
     "text": [
      "0.056584064"
     ]
    },
    {
     "name": "stderr",
     "output_type": "stream",
     "text": [
      "┣██████████████████▊ ┫ [94.00%, 47/50, 18:09/19:19, 24.27s/i] "
     ]
    },
    {
     "name": "stdout",
     "output_type": "stream",
     "text": [
      "0.056569077"
     ]
    },
    {
     "name": "stderr",
     "output_type": "stream",
     "text": [
      "┣███████████████████▏┫ [96.00%, 48/50, 18:34/19:20, 24.82s/i] "
     ]
    },
    {
     "name": "stdout",
     "output_type": "stream",
     "text": [
      "0.056560084"
     ]
    },
    {
     "name": "stderr",
     "output_type": "stream",
     "text": [
      "┣███████████████████▌┫ [98.00%, 49/50, 18:59/19:22, 25.04s/i] "
     ]
    },
    {
     "name": "stdout",
     "output_type": "stream",
     "text": [
      "0.056551043"
     ]
    },
    {
     "name": "stderr",
     "output_type": "stream",
     "text": [
      "┣████████████████████┫ [100.00%, 50/50, 19:22/19:22, 22.49s/i] "
     ]
    },
    {
     "name": "stdout",
     "output_type": "stream",
     "text": [
      "0.05655276"
     ]
    },
    {
     "name": "stderr",
     "output_type": "stream",
     "text": [
      "┣████████████████████┫ [100.00%, 50/50, 19:46/19:46, 23.71s/i] \n"
     ]
    },
    {
     "name": "stdout",
     "output_type": "stream",
     "text": [
      "0.056545187"
     ]
    }
   ],
   "source": [
    "function decode_train(theta, x; batch_size = 64)\n",
    "    origin = Param(atype(randn(1, 1, nz, batch_size)))\n",
    "    derivative_origin = @diff inner_loss(x,origin)\n",
    "    dz = grad(derivative_origin, origin)\n",
    "    z = origin-dz\n",
    "    x_hat = decode(theta, z; batch_size = batch_size, training = true)\n",
    "    return x_hat\n",
    "end\n",
    "\n",
    "nz = 256\n",
    "ngf = 16\n",
    "# nc = 1\n",
    "\n",
    "# first batch of the test dataset\n",
    "x_test_first = first(dtst);\n",
    "\n",
    "# define model weights\n",
    "theta = weights(nc, nz,  ngf);\n",
    "\n",
    "# Define Learning Rate and Number of Epochs\n",
    "lr = 2*1e-4\n",
    "# n_epochs = 3\n",
    "\n",
    "# optim = Knet.Adam(lr = lr, beta1 = 0.9, beta2 = 0.999)\n",
    "\n",
    "# Specify the optimizer for each param\n",
    "for p in params(theta)\n",
    "    p.opt =  Knet.Adam(lr = lr, beta1 = 0.9, beta2 = 0.999)\n",
    "end\n",
    "# Initialize Empty Lists for both training and test losses\n",
    "trn_loss_list3 = Float64[]\n",
    "tst_loss_list3 = Float64[]\n",
    "\n",
    "# RECORD INITIAL LOSS VALUES\n",
    "epoch_loss_trn_ = loss_train(theta, dtrn)\n",
    "epoch_loss_tst_ = loss_train(theta, dtst)\n",
    "push!(trn_loss_list3, epoch_loss_trn_)\n",
    "push!(tst_loss_list3, epoch_loss_tst_)\n",
    "\n",
    "# Training Loop\n",
    "for epoch in progress(1:n_epochs)\n",
    "    for (i,x) in enumerate(dtrn)\n",
    "        \n",
    "        derivative_model = @diff loss_train(theta, x)\n",
    "        \n",
    "        for p in theta\n",
    "            dp = grad(derivative_model, p)\n",
    "            update!(value(p), dp, p.opt)\n",
    "        end\n",
    "\n",
    "    end\n",
    "    \n",
    "    epoch_loss_trn = loss_train(theta, dtrn)\n",
    "    epoch_loss_tst = loss_train(theta, dtst)\n",
    "    print(epoch_loss_trn)\n",
    "    push!(trn_loss_list3, epoch_loss_trn)\n",
    "    push!(tst_loss_list3, epoch_loss_tst)\n",
    "end"
   ]
  },
  {
   "cell_type": "code",
   "execution_count": 7,
   "metadata": {},
   "outputs": [
    {
     "data": {
      "image/svg+xml": [
       "<?xml version=\"1.0\" encoding=\"utf-8\"?>\n",
       "<svg xmlns=\"http://www.w3.org/2000/svg\" xmlns:xlink=\"http://www.w3.org/1999/xlink\" width=\"1000\" height=\"750\" viewBox=\"0 0 4000 3000\">\n",
       "<defs>\n",
       "  <clipPath id=\"clip100\">\n",
       "    <rect x=\"0\" y=\"0\" width=\"4000\" height=\"3000\"/>\n",
       "  </clipPath>\n",
       "</defs>\n",
       "<path clip-path=\"url(#clip100)\" d=\"\n",
       "M0 3000 L4000 3000 L4000 0 L0 0  Z\n",
       "  \" fill=\"#ffffff\" fill-rule=\"evenodd\" fill-opacity=\"1\"/>\n",
       "<defs>\n",
       "  <clipPath id=\"clip101\">\n",
       "    <rect x=\"800\" y=\"0\" width=\"2801\" height=\"2801\"/>\n",
       "  </clipPath>\n",
       "</defs>\n",
       "<defs>\n",
       "  <clipPath id=\"clip102\">\n",
       "    <rect x=\"484\" y=\"0\" width=\"3469\" height=\"3000\"/>\n",
       "  </clipPath>\n",
       "</defs>\n",
       "<path clip-path=\"url(#clip100)\" d=\"\n",
       "M455.64 2716.3 L3952.76 2716.3 L3952.76 162.429 L455.64 162.429  Z\n",
       "  \" fill=\"#ffffff\" fill-rule=\"evenodd\" fill-opacity=\"1\"/>\n",
       "<defs>\n",
       "  <clipPath id=\"clip103\">\n",
       "    <rect x=\"455\" y=\"162\" width=\"3498\" height=\"2555\"/>\n",
       "  </clipPath>\n",
       "</defs>\n",
       "<polyline clip-path=\"url(#clip103)\" style=\"stroke:#000000; stroke-linecap:butt; stroke-linejoin:round; stroke-width:2; stroke-opacity:0.1; fill:none\" points=\"\n",
       "  487.285,2716.3 487.285,162.429 \n",
       "  \"/>\n",
       "<polyline clip-path=\"url(#clip103)\" style=\"stroke:#000000; stroke-linecap:butt; stroke-linejoin:round; stroke-width:2; stroke-opacity:0.1; fill:none\" points=\"\n",
       "  1160.58,2716.3 1160.58,162.429 \n",
       "  \"/>\n",
       "<polyline clip-path=\"url(#clip103)\" style=\"stroke:#000000; stroke-linecap:butt; stroke-linejoin:round; stroke-width:2; stroke-opacity:0.1; fill:none\" points=\"\n",
       "  1833.88,2716.3 1833.88,162.429 \n",
       "  \"/>\n",
       "<polyline clip-path=\"url(#clip103)\" style=\"stroke:#000000; stroke-linecap:butt; stroke-linejoin:round; stroke-width:2; stroke-opacity:0.1; fill:none\" points=\"\n",
       "  2507.18,2716.3 2507.18,162.429 \n",
       "  \"/>\n",
       "<polyline clip-path=\"url(#clip103)\" style=\"stroke:#000000; stroke-linecap:butt; stroke-linejoin:round; stroke-width:2; stroke-opacity:0.1; fill:none\" points=\"\n",
       "  3180.48,2716.3 3180.48,162.429 \n",
       "  \"/>\n",
       "<polyline clip-path=\"url(#clip103)\" style=\"stroke:#000000; stroke-linecap:butt; stroke-linejoin:round; stroke-width:2; stroke-opacity:0.1; fill:none\" points=\"\n",
       "  3853.78,2716.3 3853.78,162.429 \n",
       "  \"/>\n",
       "<polyline clip-path=\"url(#clip103)\" style=\"stroke:#000000; stroke-linecap:butt; stroke-linejoin:round; stroke-width:2; stroke-opacity:0.05; fill:none\" points=\"\n",
       "  621.945,2716.3 621.945,162.429 \n",
       "  \"/>\n",
       "<polyline clip-path=\"url(#clip103)\" style=\"stroke:#000000; stroke-linecap:butt; stroke-linejoin:round; stroke-width:2; stroke-opacity:0.05; fill:none\" points=\"\n",
       "  756.605,2716.3 756.605,162.429 \n",
       "  \"/>\n",
       "<polyline clip-path=\"url(#clip103)\" style=\"stroke:#000000; stroke-linecap:butt; stroke-linejoin:round; stroke-width:2; stroke-opacity:0.05; fill:none\" points=\"\n",
       "  891.265,2716.3 891.265,162.429 \n",
       "  \"/>\n",
       "<polyline clip-path=\"url(#clip103)\" style=\"stroke:#000000; stroke-linecap:butt; stroke-linejoin:round; stroke-width:2; stroke-opacity:0.05; fill:none\" points=\"\n",
       "  1025.92,2716.3 1025.92,162.429 \n",
       "  \"/>\n",
       "<polyline clip-path=\"url(#clip103)\" style=\"stroke:#000000; stroke-linecap:butt; stroke-linejoin:round; stroke-width:2; stroke-opacity:0.05; fill:none\" points=\"\n",
       "  1295.24,2716.3 1295.24,162.429 \n",
       "  \"/>\n",
       "<polyline clip-path=\"url(#clip103)\" style=\"stroke:#000000; stroke-linecap:butt; stroke-linejoin:round; stroke-width:2; stroke-opacity:0.05; fill:none\" points=\"\n",
       "  1429.9,2716.3 1429.9,162.429 \n",
       "  \"/>\n",
       "<polyline clip-path=\"url(#clip103)\" style=\"stroke:#000000; stroke-linecap:butt; stroke-linejoin:round; stroke-width:2; stroke-opacity:0.05; fill:none\" points=\"\n",
       "  1564.56,2716.3 1564.56,162.429 \n",
       "  \"/>\n",
       "<polyline clip-path=\"url(#clip103)\" style=\"stroke:#000000; stroke-linecap:butt; stroke-linejoin:round; stroke-width:2; stroke-opacity:0.05; fill:none\" points=\"\n",
       "  1699.22,2716.3 1699.22,162.429 \n",
       "  \"/>\n",
       "<polyline clip-path=\"url(#clip103)\" style=\"stroke:#000000; stroke-linecap:butt; stroke-linejoin:round; stroke-width:2; stroke-opacity:0.05; fill:none\" points=\"\n",
       "  1968.54,2716.3 1968.54,162.429 \n",
       "  \"/>\n",
       "<polyline clip-path=\"url(#clip103)\" style=\"stroke:#000000; stroke-linecap:butt; stroke-linejoin:round; stroke-width:2; stroke-opacity:0.05; fill:none\" points=\"\n",
       "  2103.2,2716.3 2103.2,162.429 \n",
       "  \"/>\n",
       "<polyline clip-path=\"url(#clip103)\" style=\"stroke:#000000; stroke-linecap:butt; stroke-linejoin:round; stroke-width:2; stroke-opacity:0.05; fill:none\" points=\"\n",
       "  2237.86,2716.3 2237.86,162.429 \n",
       "  \"/>\n",
       "<polyline clip-path=\"url(#clip103)\" style=\"stroke:#000000; stroke-linecap:butt; stroke-linejoin:round; stroke-width:2; stroke-opacity:0.05; fill:none\" points=\"\n",
       "  2372.52,2716.3 2372.52,162.429 \n",
       "  \"/>\n",
       "<polyline clip-path=\"url(#clip103)\" style=\"stroke:#000000; stroke-linecap:butt; stroke-linejoin:round; stroke-width:2; stroke-opacity:0.05; fill:none\" points=\"\n",
       "  2641.84,2716.3 2641.84,162.429 \n",
       "  \"/>\n",
       "<polyline clip-path=\"url(#clip103)\" style=\"stroke:#000000; stroke-linecap:butt; stroke-linejoin:round; stroke-width:2; stroke-opacity:0.05; fill:none\" points=\"\n",
       "  2776.5,2716.3 2776.5,162.429 \n",
       "  \"/>\n",
       "<polyline clip-path=\"url(#clip103)\" style=\"stroke:#000000; stroke-linecap:butt; stroke-linejoin:round; stroke-width:2; stroke-opacity:0.05; fill:none\" points=\"\n",
       "  2911.16,2716.3 2911.16,162.429 \n",
       "  \"/>\n",
       "<polyline clip-path=\"url(#clip103)\" style=\"stroke:#000000; stroke-linecap:butt; stroke-linejoin:round; stroke-width:2; stroke-opacity:0.05; fill:none\" points=\"\n",
       "  3045.82,2716.3 3045.82,162.429 \n",
       "  \"/>\n",
       "<polyline clip-path=\"url(#clip103)\" style=\"stroke:#000000; stroke-linecap:butt; stroke-linejoin:round; stroke-width:2; stroke-opacity:0.05; fill:none\" points=\"\n",
       "  3315.14,2716.3 3315.14,162.429 \n",
       "  \"/>\n",
       "<polyline clip-path=\"url(#clip103)\" style=\"stroke:#000000; stroke-linecap:butt; stroke-linejoin:round; stroke-width:2; stroke-opacity:0.05; fill:none\" points=\"\n",
       "  3449.8,2716.3 3449.8,162.429 \n",
       "  \"/>\n",
       "<polyline clip-path=\"url(#clip103)\" style=\"stroke:#000000; stroke-linecap:butt; stroke-linejoin:round; stroke-width:2; stroke-opacity:0.05; fill:none\" points=\"\n",
       "  3584.46,2716.3 3584.46,162.429 \n",
       "  \"/>\n",
       "<polyline clip-path=\"url(#clip103)\" style=\"stroke:#000000; stroke-linecap:butt; stroke-linejoin:round; stroke-width:2; stroke-opacity:0.05; fill:none\" points=\"\n",
       "  3719.12,2716.3 3719.12,162.429 \n",
       "  \"/>\n",
       "<polyline clip-path=\"url(#clip100)\" style=\"stroke:#000000; stroke-linecap:butt; stroke-linejoin:round; stroke-width:4; stroke-opacity:1; fill:none\" points=\"\n",
       "  455.64,2716.3 3952.76,2716.3 \n",
       "  \"/>\n",
       "<polyline clip-path=\"url(#clip100)\" style=\"stroke:#000000; stroke-linecap:butt; stroke-linejoin:round; stroke-width:4; stroke-opacity:1; fill:none\" points=\"\n",
       "  487.285,2716.3 487.285,2697.4 \n",
       "  \"/>\n",
       "<polyline clip-path=\"url(#clip100)\" style=\"stroke:#000000; stroke-linecap:butt; stroke-linejoin:round; stroke-width:4; stroke-opacity:1; fill:none\" points=\"\n",
       "  1160.58,2716.3 1160.58,2697.4 \n",
       "  \"/>\n",
       "<polyline clip-path=\"url(#clip100)\" style=\"stroke:#000000; stroke-linecap:butt; stroke-linejoin:round; stroke-width:4; stroke-opacity:1; fill:none\" points=\"\n",
       "  1833.88,2716.3 1833.88,2697.4 \n",
       "  \"/>\n",
       "<polyline clip-path=\"url(#clip100)\" style=\"stroke:#000000; stroke-linecap:butt; stroke-linejoin:round; stroke-width:4; stroke-opacity:1; fill:none\" points=\"\n",
       "  2507.18,2716.3 2507.18,2697.4 \n",
       "  \"/>\n",
       "<polyline clip-path=\"url(#clip100)\" style=\"stroke:#000000; stroke-linecap:butt; stroke-linejoin:round; stroke-width:4; stroke-opacity:1; fill:none\" points=\"\n",
       "  3180.48,2716.3 3180.48,2697.4 \n",
       "  \"/>\n",
       "<polyline clip-path=\"url(#clip100)\" style=\"stroke:#000000; stroke-linecap:butt; stroke-linejoin:round; stroke-width:4; stroke-opacity:1; fill:none\" points=\"\n",
       "  3853.78,2716.3 3853.78,2697.4 \n",
       "  \"/>\n",
       "<polyline clip-path=\"url(#clip100)\" style=\"stroke:#000000; stroke-linecap:butt; stroke-linejoin:round; stroke-width:4; stroke-opacity:1; fill:none\" points=\"\n",
       "  621.945,2716.3 621.945,2706.85 \n",
       "  \"/>\n",
       "<polyline clip-path=\"url(#clip100)\" style=\"stroke:#000000; stroke-linecap:butt; stroke-linejoin:round; stroke-width:4; stroke-opacity:1; fill:none\" points=\"\n",
       "  756.605,2716.3 756.605,2706.85 \n",
       "  \"/>\n",
       "<polyline clip-path=\"url(#clip100)\" style=\"stroke:#000000; stroke-linecap:butt; stroke-linejoin:round; stroke-width:4; stroke-opacity:1; fill:none\" points=\"\n",
       "  891.265,2716.3 891.265,2706.85 \n",
       "  \"/>\n",
       "<polyline clip-path=\"url(#clip100)\" style=\"stroke:#000000; stroke-linecap:butt; stroke-linejoin:round; stroke-width:4; stroke-opacity:1; fill:none\" points=\"\n",
       "  1025.92,2716.3 1025.92,2706.85 \n",
       "  \"/>\n",
       "<polyline clip-path=\"url(#clip100)\" style=\"stroke:#000000; stroke-linecap:butt; stroke-linejoin:round; stroke-width:4; stroke-opacity:1; fill:none\" points=\"\n",
       "  1295.24,2716.3 1295.24,2706.85 \n",
       "  \"/>\n",
       "<polyline clip-path=\"url(#clip100)\" style=\"stroke:#000000; stroke-linecap:butt; stroke-linejoin:round; stroke-width:4; stroke-opacity:1; fill:none\" points=\"\n",
       "  1429.9,2716.3 1429.9,2706.85 \n",
       "  \"/>\n",
       "<polyline clip-path=\"url(#clip100)\" style=\"stroke:#000000; stroke-linecap:butt; stroke-linejoin:round; stroke-width:4; stroke-opacity:1; fill:none\" points=\"\n",
       "  1564.56,2716.3 1564.56,2706.85 \n",
       "  \"/>\n",
       "<polyline clip-path=\"url(#clip100)\" style=\"stroke:#000000; stroke-linecap:butt; stroke-linejoin:round; stroke-width:4; stroke-opacity:1; fill:none\" points=\"\n",
       "  1699.22,2716.3 1699.22,2706.85 \n",
       "  \"/>\n",
       "<polyline clip-path=\"url(#clip100)\" style=\"stroke:#000000; stroke-linecap:butt; stroke-linejoin:round; stroke-width:4; stroke-opacity:1; fill:none\" points=\"\n",
       "  1968.54,2716.3 1968.54,2706.85 \n",
       "  \"/>\n",
       "<polyline clip-path=\"url(#clip100)\" style=\"stroke:#000000; stroke-linecap:butt; stroke-linejoin:round; stroke-width:4; stroke-opacity:1; fill:none\" points=\"\n",
       "  2103.2,2716.3 2103.2,2706.85 \n",
       "  \"/>\n",
       "<polyline clip-path=\"url(#clip100)\" style=\"stroke:#000000; stroke-linecap:butt; stroke-linejoin:round; stroke-width:4; stroke-opacity:1; fill:none\" points=\"\n",
       "  2237.86,2716.3 2237.86,2706.85 \n",
       "  \"/>\n",
       "<polyline clip-path=\"url(#clip100)\" style=\"stroke:#000000; stroke-linecap:butt; stroke-linejoin:round; stroke-width:4; stroke-opacity:1; fill:none\" points=\"\n",
       "  2372.52,2716.3 2372.52,2706.85 \n",
       "  \"/>\n",
       "<polyline clip-path=\"url(#clip100)\" style=\"stroke:#000000; stroke-linecap:butt; stroke-linejoin:round; stroke-width:4; stroke-opacity:1; fill:none\" points=\"\n",
       "  2641.84,2716.3 2641.84,2706.85 \n",
       "  \"/>\n",
       "<polyline clip-path=\"url(#clip100)\" style=\"stroke:#000000; stroke-linecap:butt; stroke-linejoin:round; stroke-width:4; stroke-opacity:1; fill:none\" points=\"\n",
       "  2776.5,2716.3 2776.5,2706.85 \n",
       "  \"/>\n",
       "<polyline clip-path=\"url(#clip100)\" style=\"stroke:#000000; stroke-linecap:butt; stroke-linejoin:round; stroke-width:4; stroke-opacity:1; fill:none\" points=\"\n",
       "  2911.16,2716.3 2911.16,2706.85 \n",
       "  \"/>\n",
       "<polyline clip-path=\"url(#clip100)\" style=\"stroke:#000000; stroke-linecap:butt; stroke-linejoin:round; stroke-width:4; stroke-opacity:1; fill:none\" points=\"\n",
       "  3045.82,2716.3 3045.82,2706.85 \n",
       "  \"/>\n",
       "<polyline clip-path=\"url(#clip100)\" style=\"stroke:#000000; stroke-linecap:butt; stroke-linejoin:round; stroke-width:4; stroke-opacity:1; fill:none\" points=\"\n",
       "  3315.14,2716.3 3315.14,2706.85 \n",
       "  \"/>\n",
       "<polyline clip-path=\"url(#clip100)\" style=\"stroke:#000000; stroke-linecap:butt; stroke-linejoin:round; stroke-width:4; stroke-opacity:1; fill:none\" points=\"\n",
       "  3449.8,2716.3 3449.8,2706.85 \n",
       "  \"/>\n",
       "<polyline clip-path=\"url(#clip100)\" style=\"stroke:#000000; stroke-linecap:butt; stroke-linejoin:round; stroke-width:4; stroke-opacity:1; fill:none\" points=\"\n",
       "  3584.46,2716.3 3584.46,2706.85 \n",
       "  \"/>\n",
       "<polyline clip-path=\"url(#clip100)\" style=\"stroke:#000000; stroke-linecap:butt; stroke-linejoin:round; stroke-width:4; stroke-opacity:1; fill:none\" points=\"\n",
       "  3719.12,2716.3 3719.12,2706.85 \n",
       "  \"/>\n",
       "<path clip-path=\"url(#clip100)\" d=\"M487.285 2774.67 Q479.16 2774.67 475.046 2782.69 Q470.983 2790.66 470.983 2806.7 Q470.983 2822.69 475.046 2830.71 Q479.16 2838.68 487.285 2838.68 Q495.462 2838.68 499.525 2830.71 Q503.639 2822.69 503.639 2806.7 Q503.639 2790.66 499.525 2782.69 Q495.462 2774.67 487.285 2774.67 M487.285 2766.33 Q500.358 2766.33 507.233 2776.7 Q514.16 2787.01 514.16 2806.7 Q514.16 2826.33 507.233 2836.7 Q500.358 2847.01 487.285 2847.01 Q474.212 2847.01 467.285 2836.7 Q460.41 2826.33 460.41 2806.7 Q460.41 2787.01 467.285 2776.7 Q474.212 2766.33 487.285 2766.33 Z\" fill=\"#000000\" fill-rule=\"evenodd\" fill-opacity=\"1\" /><path clip-path=\"url(#clip100)\" d=\"M1103.63 2836.65 L1120.82 2836.65 L1120.82 2777.32 L1102.12 2781.07 L1102.12 2771.49 L1120.71 2767.74 L1131.24 2767.74 L1131.24 2836.65 L1148.42 2836.65 L1148.42 2845.5 L1103.63 2845.5 L1103.63 2836.65 Z\" fill=\"#000000\" fill-rule=\"evenodd\" fill-opacity=\"1\" /><path clip-path=\"url(#clip100)\" d=\"M1192.17 2774.67 Q1184.05 2774.67 1179.93 2782.69 Q1175.87 2790.66 1175.87 2806.7 Q1175.87 2822.69 1179.93 2830.71 Q1184.05 2838.68 1192.17 2838.68 Q1200.35 2838.68 1204.41 2830.71 Q1208.53 2822.69 1208.53 2806.7 Q1208.53 2790.66 1204.41 2782.69 Q1200.35 2774.67 1192.17 2774.67 M1192.17 2766.33 Q1205.25 2766.33 1212.12 2776.7 Q1219.05 2787.01 1219.05 2806.7 Q1219.05 2826.33 1212.12 2836.7 Q1205.25 2847.01 1192.17 2847.01 Q1179.1 2847.01 1172.17 2836.7 Q1165.3 2826.33 1165.3 2806.7 Q1165.3 2787.01 1172.17 2776.7 Q1179.1 2766.33 1192.17 2766.33 Z\" fill=\"#000000\" fill-rule=\"evenodd\" fill-opacity=\"1\" /><path clip-path=\"url(#clip100)\" d=\"M1786.12 2836.65 L1822.84 2836.65 L1822.84 2845.5 L1773.47 2845.5 L1773.47 2836.65 Q1779.46 2830.45 1789.77 2820.03 Q1800.13 2809.56 1802.79 2806.54 Q1807.84 2800.86 1809.82 2796.96 Q1811.85 2793 1811.85 2789.2 Q1811.85 2783 1807.48 2779.09 Q1803.15 2775.19 1796.18 2775.19 Q1791.23 2775.19 1785.71 2776.91 Q1780.24 2778.63 1773.99 2782.11 L1773.99 2771.49 Q1780.34 2768.94 1785.86 2767.64 Q1791.38 2766.33 1795.97 2766.33 Q1808.05 2766.33 1815.24 2772.38 Q1822.43 2778.42 1822.43 2788.52 Q1822.43 2793.31 1820.6 2797.64 Q1818.83 2801.91 1814.09 2807.74 Q1812.79 2809.25 1805.81 2816.49 Q1798.83 2823.68 1786.12 2836.65 Z\" fill=\"#000000\" fill-rule=\"evenodd\" fill-opacity=\"1\" /><path clip-path=\"url(#clip100)\" d=\"M1867.42 2774.67 Q1859.3 2774.67 1855.19 2782.69 Q1851.12 2790.66 1851.12 2806.7 Q1851.12 2822.69 1855.19 2830.71 Q1859.3 2838.68 1867.42 2838.68 Q1875.6 2838.68 1879.66 2830.71 Q1883.78 2822.69 1883.78 2806.7 Q1883.78 2790.66 1879.66 2782.69 Q1875.6 2774.67 1867.42 2774.67 M1867.42 2766.33 Q1880.5 2766.33 1887.37 2776.7 Q1894.3 2787.01 1894.3 2806.7 Q1894.3 2826.33 1887.37 2836.7 Q1880.5 2847.01 1867.42 2847.01 Q1854.35 2847.01 1847.43 2836.7 Q1840.55 2826.33 1840.55 2806.7 Q1840.55 2787.01 1847.43 2776.7 Q1854.35 2766.33 1867.42 2766.33 Z\" fill=\"#000000\" fill-rule=\"evenodd\" fill-opacity=\"1\" /><path clip-path=\"url(#clip100)\" d=\"M2482.08 2803.57 Q2489.63 2805.19 2493.85 2810.29 Q2498.12 2815.4 2498.12 2822.9 Q2498.12 2834.41 2490.2 2840.71 Q2482.29 2847.01 2467.7 2847.01 Q2462.81 2847.01 2457.6 2846.02 Q2452.44 2845.08 2446.92 2843.16 L2446.92 2833 Q2451.3 2835.55 2456.51 2836.85 Q2461.71 2838.16 2467.39 2838.16 Q2477.29 2838.16 2482.44 2834.25 Q2487.65 2830.34 2487.65 2822.9 Q2487.65 2816.02 2482.81 2812.17 Q2478.02 2808.26 2469.42 2808.26 L2460.36 2808.26 L2460.36 2799.61 L2469.84 2799.61 Q2477.6 2799.61 2481.71 2796.54 Q2485.83 2793.42 2485.83 2787.58 Q2485.83 2781.59 2481.56 2778.42 Q2477.34 2775.19 2469.42 2775.19 Q2465.1 2775.19 2460.15 2776.13 Q2455.2 2777.06 2449.27 2779.04 L2449.27 2769.67 Q2455.26 2768 2460.46 2767.17 Q2465.72 2766.33 2470.36 2766.33 Q2482.34 2766.33 2489.32 2771.8 Q2496.3 2777.22 2496.3 2786.49 Q2496.3 2792.95 2492.6 2797.43 Q2488.9 2801.85 2482.08 2803.57 Z\" fill=\"#000000\" fill-rule=\"evenodd\" fill-opacity=\"1\" /><path clip-path=\"url(#clip100)\" d=\"M2540.57 2774.67 Q2532.44 2774.67 2528.33 2782.69 Q2524.27 2790.66 2524.27 2806.7 Q2524.27 2822.69 2528.33 2830.71 Q2532.44 2838.68 2540.57 2838.68 Q2548.74 2838.68 2552.81 2830.71 Q2556.92 2822.69 2556.92 2806.7 Q2556.92 2790.66 2552.81 2782.69 Q2548.74 2774.67 2540.57 2774.67 M2540.57 2766.33 Q2553.64 2766.33 2560.52 2776.7 Q2567.44 2787.01 2567.44 2806.7 Q2567.44 2826.33 2560.52 2836.7 Q2553.64 2847.01 2540.57 2847.01 Q2527.5 2847.01 2520.57 2836.7 Q2513.69 2826.33 2513.69 2806.7 Q2513.69 2787.01 2520.57 2776.7 Q2527.5 2766.33 2540.57 2766.33 Z\" fill=\"#000000\" fill-rule=\"evenodd\" fill-opacity=\"1\" /><path clip-path=\"url(#clip100)\" d=\"M3153.87 2776.91 L3127.3 2818.42 L3153.87 2818.42 L3153.87 2776.91 M3151.11 2767.74 L3164.34 2767.74 L3164.34 2818.42 L3175.43 2818.42 L3175.43 2827.17 L3164.34 2827.17 L3164.34 2845.5 L3153.87 2845.5 L3153.87 2827.17 L3118.76 2827.17 L3118.76 2817.01 L3151.11 2767.74 Z\" fill=\"#000000\" fill-rule=\"evenodd\" fill-opacity=\"1\" /><path clip-path=\"url(#clip100)\" d=\"M3215.33 2774.67 Q3207.2 2774.67 3203.09 2782.69 Q3199.02 2790.66 3199.02 2806.7 Q3199.02 2822.69 3203.09 2830.71 Q3207.2 2838.68 3215.33 2838.68 Q3223.5 2838.68 3227.56 2830.71 Q3231.68 2822.69 3231.68 2806.7 Q3231.68 2790.66 3227.56 2782.69 Q3223.5 2774.67 3215.33 2774.67 M3215.33 2766.33 Q3228.4 2766.33 3235.27 2776.7 Q3242.2 2787.01 3242.2 2806.7 Q3242.2 2826.33 3235.27 2836.7 Q3228.4 2847.01 3215.33 2847.01 Q3202.25 2847.01 3195.33 2836.7 Q3188.45 2826.33 3188.45 2806.7 Q3188.45 2787.01 3195.33 2776.7 Q3202.25 2766.33 3215.33 2766.33 Z\" fill=\"#000000\" fill-rule=\"evenodd\" fill-opacity=\"1\" /><path clip-path=\"url(#clip100)\" d=\"M3796.85 2767.74 L3838.16 2767.74 L3838.16 2776.59 L3806.49 2776.59 L3806.49 2795.66 Q3808.78 2794.88 3811.07 2794.51 Q3813.36 2794.09 3815.66 2794.09 Q3828.68 2794.09 3836.28 2801.23 Q3843.89 2808.36 3843.89 2820.55 Q3843.89 2833.1 3836.07 2840.08 Q3828.26 2847.01 3814.04 2847.01 Q3809.15 2847.01 3804.04 2846.18 Q3798.99 2845.34 3793.57 2843.68 L3793.57 2833.1 Q3798.26 2835.66 3803.26 2836.91 Q3808.26 2838.16 3813.83 2838.16 Q3822.84 2838.16 3828.1 2833.42 Q3833.36 2828.68 3833.36 2820.55 Q3833.36 2812.43 3828.1 2807.69 Q3822.84 2802.95 3813.83 2802.95 Q3809.61 2802.95 3805.4 2803.89 Q3801.23 2804.82 3796.85 2806.8 L3796.85 2767.74 Z\" fill=\"#000000\" fill-rule=\"evenodd\" fill-opacity=\"1\" /><path clip-path=\"url(#clip100)\" d=\"M3887.11 2774.67 Q3878.99 2774.67 3874.87 2782.69 Q3870.81 2790.66 3870.81 2806.7 Q3870.81 2822.69 3874.87 2830.71 Q3878.99 2838.68 3887.11 2838.68 Q3895.29 2838.68 3899.35 2830.71 Q3903.47 2822.69 3903.47 2806.7 Q3903.47 2790.66 3899.35 2782.69 Q3895.29 2774.67 3887.11 2774.67 M3887.11 2766.33 Q3900.19 2766.33 3907.06 2776.7 Q3913.99 2787.01 3913.99 2806.7 Q3913.99 2826.33 3907.06 2836.7 Q3900.19 2847.01 3887.11 2847.01 Q3874.04 2847.01 3867.11 2836.7 Q3860.24 2826.33 3860.24 2806.7 Q3860.24 2787.01 3867.11 2776.7 Q3874.04 2766.33 3887.11 2766.33 Z\" fill=\"#000000\" fill-rule=\"evenodd\" fill-opacity=\"1\" /><path clip-path=\"url(#clip100)\" d=\"M2020.94 2908.49 L2070.11 2908.49 L2070.11 2917.35 L2031.46 2917.35 L2031.46 2940.37 L2068.5 2940.37 L2068.5 2949.22 L2031.46 2949.22 L2031.46 2977.4 L2071.05 2977.4 L2071.05 2986.25 L2020.94 2986.25 L2020.94 2908.49 Z\" fill=\"#000000\" fill-rule=\"evenodd\" fill-opacity=\"1\" /><path clip-path=\"url(#clip100)\" d=\"M2097.19 2977.5 L2097.19 3008.44 L2087.56 3008.44 L2087.56 2927.92 L2097.19 2927.92 L2097.19 2936.77 Q2100.21 2931.56 2104.8 2929.06 Q2109.43 2926.51 2115.84 2926.51 Q2126.46 2926.51 2133.08 2934.95 Q2139.75 2943.39 2139.75 2957.14 Q2139.75 2970.89 2133.08 2979.32 Q2126.46 2987.76 2115.84 2987.76 Q2109.43 2987.76 2104.8 2985.26 Q2100.21 2982.71 2097.19 2977.5 M2129.8 2957.14 Q2129.8 2946.56 2125.42 2940.58 Q2121.1 2934.53 2113.5 2934.53 Q2105.89 2934.53 2101.52 2940.58 Q2097.19 2946.56 2097.19 2957.14 Q2097.19 2967.71 2101.52 2973.75 Q2105.89 2979.74 2113.5 2979.74 Q2121.1 2979.74 2125.42 2973.75 Q2129.8 2967.71 2129.8 2957.14 Z\" fill=\"#000000\" fill-rule=\"evenodd\" fill-opacity=\"1\" /><path clip-path=\"url(#clip100)\" d=\"M2178.23 2934.64 Q2170.53 2934.64 2166.05 2940.68 Q2161.57 2946.67 2161.57 2957.14 Q2161.57 2967.61 2166 2973.65 Q2170.47 2979.64 2178.23 2979.64 Q2185.89 2979.64 2190.37 2973.6 Q2194.85 2967.55 2194.85 2957.14 Q2194.85 2946.77 2190.37 2940.73 Q2185.89 2934.64 2178.23 2934.64 M2178.23 2926.51 Q2190.73 2926.51 2197.87 2934.64 Q2205.01 2942.76 2205.01 2957.14 Q2205.01 2971.46 2197.87 2979.64 Q2190.73 2987.76 2178.23 2987.76 Q2165.68 2987.76 2158.55 2979.64 Q2151.46 2971.46 2151.46 2957.14 Q2151.46 2942.76 2158.55 2934.64 Q2165.68 2926.51 2178.23 2926.51 Z\" fill=\"#000000\" fill-rule=\"evenodd\" fill-opacity=\"1\" /><path clip-path=\"url(#clip100)\" d=\"M2262.87 2930.16 L2262.87 2939.12 Q2258.81 2936.88 2254.69 2935.78 Q2250.63 2934.64 2246.46 2934.64 Q2237.14 2934.64 2231.98 2940.58 Q2226.83 2946.46 2226.83 2957.14 Q2226.83 2967.81 2231.98 2973.75 Q2237.14 2979.64 2246.46 2979.64 Q2250.63 2979.64 2254.69 2978.54 Q2258.81 2977.4 2262.87 2975.16 L2262.87 2984.01 Q2258.86 2985.89 2254.54 2986.82 Q2250.27 2987.76 2245.42 2987.76 Q2232.24 2987.76 2224.48 2979.48 Q2216.72 2971.2 2216.72 2957.14 Q2216.72 2942.87 2224.54 2934.69 Q2232.4 2926.51 2246.05 2926.51 Q2250.47 2926.51 2254.69 2927.45 Q2258.91 2928.34 2262.87 2930.16 Z\" fill=\"#000000\" fill-rule=\"evenodd\" fill-opacity=\"1\" /><path clip-path=\"url(#clip100)\" d=\"M2328.03 2951.04 L2328.03 2986.25 L2318.44 2986.25 L2318.44 2951.36 Q2318.44 2943.07 2315.21 2938.96 Q2311.98 2934.85 2305.53 2934.85 Q2297.77 2934.85 2293.29 2939.79 Q2288.81 2944.74 2288.81 2953.28 L2288.81 2986.25 L2279.17 2986.25 L2279.17 2905.21 L2288.81 2905.21 L2288.81 2936.98 Q2292.24 2931.72 2296.88 2929.12 Q2301.57 2926.51 2307.66 2926.51 Q2317.71 2926.51 2322.87 2932.76 Q2328.03 2938.96 2328.03 2951.04 Z\" fill=\"#000000\" fill-rule=\"evenodd\" fill-opacity=\"1\" /><path clip-path=\"url(#clip100)\" d=\"M2384.33 2929.64 L2384.33 2938.7 Q2380.26 2936.62 2375.89 2935.58 Q2371.51 2934.53 2366.83 2934.53 Q2359.69 2934.53 2356.1 2936.72 Q2352.56 2938.91 2352.56 2943.28 Q2352.56 2946.62 2355.11 2948.54 Q2357.66 2950.42 2365.37 2952.14 L2368.65 2952.87 Q2378.86 2955.05 2383.13 2959.06 Q2387.45 2963.02 2387.45 2970.16 Q2387.45 2978.28 2380.99 2983.02 Q2374.59 2987.76 2363.34 2987.76 Q2358.65 2987.76 2353.55 2986.82 Q2348.49 2985.94 2342.87 2984.12 L2342.87 2974.22 Q2348.18 2976.98 2353.34 2978.39 Q2358.49 2979.74 2363.55 2979.74 Q2370.32 2979.74 2373.96 2977.45 Q2377.61 2975.11 2377.61 2970.89 Q2377.61 2966.98 2374.95 2964.9 Q2372.35 2962.81 2363.44 2960.89 L2360.11 2960.11 Q2351.2 2958.23 2347.24 2954.38 Q2343.29 2950.47 2343.29 2943.7 Q2343.29 2935.47 2349.12 2930.99 Q2354.95 2926.51 2365.68 2926.51 Q2370.99 2926.51 2375.68 2927.29 Q2380.37 2928.08 2384.33 2929.64 Z\" fill=\"#000000\" fill-rule=\"evenodd\" fill-opacity=\"1\" /><polyline clip-path=\"url(#clip103)\" style=\"stroke:#000000; stroke-linecap:butt; stroke-linejoin:round; stroke-width:2; stroke-opacity:0.1; fill:none\" points=\"\n",
       "  455.64,2657.4 3952.76,2657.4 \n",
       "  \"/>\n",
       "<polyline clip-path=\"url(#clip103)\" style=\"stroke:#000000; stroke-linecap:butt; stroke-linejoin:round; stroke-width:2; stroke-opacity:0.1; fill:none\" points=\"\n",
       "  455.64,2286.78 3952.76,2286.78 \n",
       "  \"/>\n",
       "<polyline clip-path=\"url(#clip103)\" style=\"stroke:#000000; stroke-linecap:butt; stroke-linejoin:round; stroke-width:2; stroke-opacity:0.1; fill:none\" points=\"\n",
       "  455.64,1916.17 3952.76,1916.17 \n",
       "  \"/>\n",
       "<polyline clip-path=\"url(#clip103)\" style=\"stroke:#000000; stroke-linecap:butt; stroke-linejoin:round; stroke-width:2; stroke-opacity:0.1; fill:none\" points=\"\n",
       "  455.64,1545.55 3952.76,1545.55 \n",
       "  \"/>\n",
       "<polyline clip-path=\"url(#clip103)\" style=\"stroke:#000000; stroke-linecap:butt; stroke-linejoin:round; stroke-width:2; stroke-opacity:0.1; fill:none\" points=\"\n",
       "  455.64,1174.93 3952.76,1174.93 \n",
       "  \"/>\n",
       "<polyline clip-path=\"url(#clip103)\" style=\"stroke:#000000; stroke-linecap:butt; stroke-linejoin:round; stroke-width:2; stroke-opacity:0.1; fill:none\" points=\"\n",
       "  455.64,804.318 3952.76,804.318 \n",
       "  \"/>\n",
       "<polyline clip-path=\"url(#clip103)\" style=\"stroke:#000000; stroke-linecap:butt; stroke-linejoin:round; stroke-width:2; stroke-opacity:0.1; fill:none\" points=\"\n",
       "  455.64,433.703 3952.76,433.703 \n",
       "  \"/>\n",
       "<polyline clip-path=\"url(#clip103)\" style=\"stroke:#000000; stroke-linecap:butt; stroke-linejoin:round; stroke-width:2; stroke-opacity:0.05; fill:none\" points=\"\n",
       "  455.64,2583.27 3952.76,2583.27 \n",
       "  \"/>\n",
       "<polyline clip-path=\"url(#clip103)\" style=\"stroke:#000000; stroke-linecap:butt; stroke-linejoin:round; stroke-width:2; stroke-opacity:0.05; fill:none\" points=\"\n",
       "  455.64,2509.15 3952.76,2509.15 \n",
       "  \"/>\n",
       "<polyline clip-path=\"url(#clip103)\" style=\"stroke:#000000; stroke-linecap:butt; stroke-linejoin:round; stroke-width:2; stroke-opacity:0.05; fill:none\" points=\"\n",
       "  455.64,2435.03 3952.76,2435.03 \n",
       "  \"/>\n",
       "<polyline clip-path=\"url(#clip103)\" style=\"stroke:#000000; stroke-linecap:butt; stroke-linejoin:round; stroke-width:2; stroke-opacity:0.05; fill:none\" points=\"\n",
       "  455.64,2360.9 3952.76,2360.9 \n",
       "  \"/>\n",
       "<polyline clip-path=\"url(#clip103)\" style=\"stroke:#000000; stroke-linecap:butt; stroke-linejoin:round; stroke-width:2; stroke-opacity:0.05; fill:none\" points=\"\n",
       "  455.64,2212.66 3952.76,2212.66 \n",
       "  \"/>\n",
       "<polyline clip-path=\"url(#clip103)\" style=\"stroke:#000000; stroke-linecap:butt; stroke-linejoin:round; stroke-width:2; stroke-opacity:0.05; fill:none\" points=\"\n",
       "  455.64,2138.54 3952.76,2138.54 \n",
       "  \"/>\n",
       "<polyline clip-path=\"url(#clip103)\" style=\"stroke:#000000; stroke-linecap:butt; stroke-linejoin:round; stroke-width:2; stroke-opacity:0.05; fill:none\" points=\"\n",
       "  455.64,2064.41 3952.76,2064.41 \n",
       "  \"/>\n",
       "<polyline clip-path=\"url(#clip103)\" style=\"stroke:#000000; stroke-linecap:butt; stroke-linejoin:round; stroke-width:2; stroke-opacity:0.05; fill:none\" points=\"\n",
       "  455.64,1990.29 3952.76,1990.29 \n",
       "  \"/>\n",
       "<polyline clip-path=\"url(#clip103)\" style=\"stroke:#000000; stroke-linecap:butt; stroke-linejoin:round; stroke-width:2; stroke-opacity:0.05; fill:none\" points=\"\n",
       "  455.64,1842.04 3952.76,1842.04 \n",
       "  \"/>\n",
       "<polyline clip-path=\"url(#clip103)\" style=\"stroke:#000000; stroke-linecap:butt; stroke-linejoin:round; stroke-width:2; stroke-opacity:0.05; fill:none\" points=\"\n",
       "  455.64,1767.92 3952.76,1767.92 \n",
       "  \"/>\n",
       "<polyline clip-path=\"url(#clip103)\" style=\"stroke:#000000; stroke-linecap:butt; stroke-linejoin:round; stroke-width:2; stroke-opacity:0.05; fill:none\" points=\"\n",
       "  455.64,1693.8 3952.76,1693.8 \n",
       "  \"/>\n",
       "<polyline clip-path=\"url(#clip103)\" style=\"stroke:#000000; stroke-linecap:butt; stroke-linejoin:round; stroke-width:2; stroke-opacity:0.05; fill:none\" points=\"\n",
       "  455.64,1619.67 3952.76,1619.67 \n",
       "  \"/>\n",
       "<polyline clip-path=\"url(#clip103)\" style=\"stroke:#000000; stroke-linecap:butt; stroke-linejoin:round; stroke-width:2; stroke-opacity:0.05; fill:none\" points=\"\n",
       "  455.64,1471.43 3952.76,1471.43 \n",
       "  \"/>\n",
       "<polyline clip-path=\"url(#clip103)\" style=\"stroke:#000000; stroke-linecap:butt; stroke-linejoin:round; stroke-width:2; stroke-opacity:0.05; fill:none\" points=\"\n",
       "  455.64,1397.3 3952.76,1397.3 \n",
       "  \"/>\n",
       "<polyline clip-path=\"url(#clip103)\" style=\"stroke:#000000; stroke-linecap:butt; stroke-linejoin:round; stroke-width:2; stroke-opacity:0.05; fill:none\" points=\"\n",
       "  455.64,1323.18 3952.76,1323.18 \n",
       "  \"/>\n",
       "<polyline clip-path=\"url(#clip103)\" style=\"stroke:#000000; stroke-linecap:butt; stroke-linejoin:round; stroke-width:2; stroke-opacity:0.05; fill:none\" points=\"\n",
       "  455.64,1249.06 3952.76,1249.06 \n",
       "  \"/>\n",
       "<polyline clip-path=\"url(#clip103)\" style=\"stroke:#000000; stroke-linecap:butt; stroke-linejoin:round; stroke-width:2; stroke-opacity:0.05; fill:none\" points=\"\n",
       "  455.64,1100.81 3952.76,1100.81 \n",
       "  \"/>\n",
       "<polyline clip-path=\"url(#clip103)\" style=\"stroke:#000000; stroke-linecap:butt; stroke-linejoin:round; stroke-width:2; stroke-opacity:0.05; fill:none\" points=\"\n",
       "  455.64,1026.69 3952.76,1026.69 \n",
       "  \"/>\n",
       "<polyline clip-path=\"url(#clip103)\" style=\"stroke:#000000; stroke-linecap:butt; stroke-linejoin:round; stroke-width:2; stroke-opacity:0.05; fill:none\" points=\"\n",
       "  455.64,952.565 3952.76,952.565 \n",
       "  \"/>\n",
       "<polyline clip-path=\"url(#clip103)\" style=\"stroke:#000000; stroke-linecap:butt; stroke-linejoin:round; stroke-width:2; stroke-opacity:0.05; fill:none\" points=\"\n",
       "  455.64,878.442 3952.76,878.442 \n",
       "  \"/>\n",
       "<polyline clip-path=\"url(#clip103)\" style=\"stroke:#000000; stroke-linecap:butt; stroke-linejoin:round; stroke-width:2; stroke-opacity:0.05; fill:none\" points=\"\n",
       "  455.64,730.195 3952.76,730.195 \n",
       "  \"/>\n",
       "<polyline clip-path=\"url(#clip103)\" style=\"stroke:#000000; stroke-linecap:butt; stroke-linejoin:round; stroke-width:2; stroke-opacity:0.05; fill:none\" points=\"\n",
       "  455.64,656.072 3952.76,656.072 \n",
       "  \"/>\n",
       "<polyline clip-path=\"url(#clip103)\" style=\"stroke:#000000; stroke-linecap:butt; stroke-linejoin:round; stroke-width:2; stroke-opacity:0.05; fill:none\" points=\"\n",
       "  455.64,581.949 3952.76,581.949 \n",
       "  \"/>\n",
       "<polyline clip-path=\"url(#clip103)\" style=\"stroke:#000000; stroke-linecap:butt; stroke-linejoin:round; stroke-width:2; stroke-opacity:0.05; fill:none\" points=\"\n",
       "  455.64,507.826 3952.76,507.826 \n",
       "  \"/>\n",
       "<polyline clip-path=\"url(#clip103)\" style=\"stroke:#000000; stroke-linecap:butt; stroke-linejoin:round; stroke-width:2; stroke-opacity:0.05; fill:none\" points=\"\n",
       "  455.64,359.579 3952.76,359.579 \n",
       "  \"/>\n",
       "<polyline clip-path=\"url(#clip103)\" style=\"stroke:#000000; stroke-linecap:butt; stroke-linejoin:round; stroke-width:2; stroke-opacity:0.05; fill:none\" points=\"\n",
       "  455.64,285.456 3952.76,285.456 \n",
       "  \"/>\n",
       "<polyline clip-path=\"url(#clip103)\" style=\"stroke:#000000; stroke-linecap:butt; stroke-linejoin:round; stroke-width:2; stroke-opacity:0.05; fill:none\" points=\"\n",
       "  455.64,211.333 3952.76,211.333 \n",
       "  \"/>\n",
       "<polyline clip-path=\"url(#clip100)\" style=\"stroke:#000000; stroke-linecap:butt; stroke-linejoin:round; stroke-width:4; stroke-opacity:1; fill:none\" points=\"\n",
       "  455.64,2716.3 455.64,162.429 \n",
       "  \"/>\n",
       "<polyline clip-path=\"url(#clip100)\" style=\"stroke:#000000; stroke-linecap:butt; stroke-linejoin:round; stroke-width:4; stroke-opacity:1; fill:none\" points=\"\n",
       "  455.64,2657.4 474.538,2657.4 \n",
       "  \"/>\n",
       "<polyline clip-path=\"url(#clip100)\" style=\"stroke:#000000; stroke-linecap:butt; stroke-linejoin:round; stroke-width:4; stroke-opacity:1; fill:none\" points=\"\n",
       "  455.64,2286.78 474.538,2286.78 \n",
       "  \"/>\n",
       "<polyline clip-path=\"url(#clip100)\" style=\"stroke:#000000; stroke-linecap:butt; stroke-linejoin:round; stroke-width:4; stroke-opacity:1; fill:none\" points=\"\n",
       "  455.64,1916.17 474.538,1916.17 \n",
       "  \"/>\n",
       "<polyline clip-path=\"url(#clip100)\" style=\"stroke:#000000; stroke-linecap:butt; stroke-linejoin:round; stroke-width:4; stroke-opacity:1; fill:none\" points=\"\n",
       "  455.64,1545.55 474.538,1545.55 \n",
       "  \"/>\n",
       "<polyline clip-path=\"url(#clip100)\" style=\"stroke:#000000; stroke-linecap:butt; stroke-linejoin:round; stroke-width:4; stroke-opacity:1; fill:none\" points=\"\n",
       "  455.64,1174.93 474.538,1174.93 \n",
       "  \"/>\n",
       "<polyline clip-path=\"url(#clip100)\" style=\"stroke:#000000; stroke-linecap:butt; stroke-linejoin:round; stroke-width:4; stroke-opacity:1; fill:none\" points=\"\n",
       "  455.64,804.318 474.538,804.318 \n",
       "  \"/>\n",
       "<polyline clip-path=\"url(#clip100)\" style=\"stroke:#000000; stroke-linecap:butt; stroke-linejoin:round; stroke-width:4; stroke-opacity:1; fill:none\" points=\"\n",
       "  455.64,433.703 474.538,433.703 \n",
       "  \"/>\n",
       "<polyline clip-path=\"url(#clip100)\" style=\"stroke:#000000; stroke-linecap:butt; stroke-linejoin:round; stroke-width:4; stroke-opacity:1; fill:none\" points=\"\n",
       "  455.64,2583.27 465.089,2583.27 \n",
       "  \"/>\n",
       "<polyline clip-path=\"url(#clip100)\" style=\"stroke:#000000; stroke-linecap:butt; stroke-linejoin:round; stroke-width:4; stroke-opacity:1; fill:none\" points=\"\n",
       "  455.64,2509.15 465.089,2509.15 \n",
       "  \"/>\n",
       "<polyline clip-path=\"url(#clip100)\" style=\"stroke:#000000; stroke-linecap:butt; stroke-linejoin:round; stroke-width:4; stroke-opacity:1; fill:none\" points=\"\n",
       "  455.64,2435.03 465.089,2435.03 \n",
       "  \"/>\n",
       "<polyline clip-path=\"url(#clip100)\" style=\"stroke:#000000; stroke-linecap:butt; stroke-linejoin:round; stroke-width:4; stroke-opacity:1; fill:none\" points=\"\n",
       "  455.64,2360.9 465.089,2360.9 \n",
       "  \"/>\n",
       "<polyline clip-path=\"url(#clip100)\" style=\"stroke:#000000; stroke-linecap:butt; stroke-linejoin:round; stroke-width:4; stroke-opacity:1; fill:none\" points=\"\n",
       "  455.64,2212.66 465.089,2212.66 \n",
       "  \"/>\n",
       "<polyline clip-path=\"url(#clip100)\" style=\"stroke:#000000; stroke-linecap:butt; stroke-linejoin:round; stroke-width:4; stroke-opacity:1; fill:none\" points=\"\n",
       "  455.64,2138.54 465.089,2138.54 \n",
       "  \"/>\n",
       "<polyline clip-path=\"url(#clip100)\" style=\"stroke:#000000; stroke-linecap:butt; stroke-linejoin:round; stroke-width:4; stroke-opacity:1; fill:none\" points=\"\n",
       "  455.64,2064.41 465.089,2064.41 \n",
       "  \"/>\n",
       "<polyline clip-path=\"url(#clip100)\" style=\"stroke:#000000; stroke-linecap:butt; stroke-linejoin:round; stroke-width:4; stroke-opacity:1; fill:none\" points=\"\n",
       "  455.64,1990.29 465.089,1990.29 \n",
       "  \"/>\n",
       "<polyline clip-path=\"url(#clip100)\" style=\"stroke:#000000; stroke-linecap:butt; stroke-linejoin:round; stroke-width:4; stroke-opacity:1; fill:none\" points=\"\n",
       "  455.64,1842.04 465.089,1842.04 \n",
       "  \"/>\n",
       "<polyline clip-path=\"url(#clip100)\" style=\"stroke:#000000; stroke-linecap:butt; stroke-linejoin:round; stroke-width:4; stroke-opacity:1; fill:none\" points=\"\n",
       "  455.64,1767.92 465.089,1767.92 \n",
       "  \"/>\n",
       "<polyline clip-path=\"url(#clip100)\" style=\"stroke:#000000; stroke-linecap:butt; stroke-linejoin:round; stroke-width:4; stroke-opacity:1; fill:none\" points=\"\n",
       "  455.64,1693.8 465.089,1693.8 \n",
       "  \"/>\n",
       "<polyline clip-path=\"url(#clip100)\" style=\"stroke:#000000; stroke-linecap:butt; stroke-linejoin:round; stroke-width:4; stroke-opacity:1; fill:none\" points=\"\n",
       "  455.64,1619.67 465.089,1619.67 \n",
       "  \"/>\n",
       "<polyline clip-path=\"url(#clip100)\" style=\"stroke:#000000; stroke-linecap:butt; stroke-linejoin:round; stroke-width:4; stroke-opacity:1; fill:none\" points=\"\n",
       "  455.64,1471.43 465.089,1471.43 \n",
       "  \"/>\n",
       "<polyline clip-path=\"url(#clip100)\" style=\"stroke:#000000; stroke-linecap:butt; stroke-linejoin:round; stroke-width:4; stroke-opacity:1; fill:none\" points=\"\n",
       "  455.64,1397.3 465.089,1397.3 \n",
       "  \"/>\n",
       "<polyline clip-path=\"url(#clip100)\" style=\"stroke:#000000; stroke-linecap:butt; stroke-linejoin:round; stroke-width:4; stroke-opacity:1; fill:none\" points=\"\n",
       "  455.64,1323.18 465.089,1323.18 \n",
       "  \"/>\n",
       "<polyline clip-path=\"url(#clip100)\" style=\"stroke:#000000; stroke-linecap:butt; stroke-linejoin:round; stroke-width:4; stroke-opacity:1; fill:none\" points=\"\n",
       "  455.64,1249.06 465.089,1249.06 \n",
       "  \"/>\n",
       "<polyline clip-path=\"url(#clip100)\" style=\"stroke:#000000; stroke-linecap:butt; stroke-linejoin:round; stroke-width:4; stroke-opacity:1; fill:none\" points=\"\n",
       "  455.64,1100.81 465.089,1100.81 \n",
       "  \"/>\n",
       "<polyline clip-path=\"url(#clip100)\" style=\"stroke:#000000; stroke-linecap:butt; stroke-linejoin:round; stroke-width:4; stroke-opacity:1; fill:none\" points=\"\n",
       "  455.64,1026.69 465.089,1026.69 \n",
       "  \"/>\n",
       "<polyline clip-path=\"url(#clip100)\" style=\"stroke:#000000; stroke-linecap:butt; stroke-linejoin:round; stroke-width:4; stroke-opacity:1; fill:none\" points=\"\n",
       "  455.64,952.565 465.089,952.565 \n",
       "  \"/>\n",
       "<polyline clip-path=\"url(#clip100)\" style=\"stroke:#000000; stroke-linecap:butt; stroke-linejoin:round; stroke-width:4; stroke-opacity:1; fill:none\" points=\"\n",
       "  455.64,878.442 465.089,878.442 \n",
       "  \"/>\n",
       "<polyline clip-path=\"url(#clip100)\" style=\"stroke:#000000; stroke-linecap:butt; stroke-linejoin:round; stroke-width:4; stroke-opacity:1; fill:none\" points=\"\n",
       "  455.64,730.195 465.089,730.195 \n",
       "  \"/>\n",
       "<polyline clip-path=\"url(#clip100)\" style=\"stroke:#000000; stroke-linecap:butt; stroke-linejoin:round; stroke-width:4; stroke-opacity:1; fill:none\" points=\"\n",
       "  455.64,656.072 465.089,656.072 \n",
       "  \"/>\n",
       "<polyline clip-path=\"url(#clip100)\" style=\"stroke:#000000; stroke-linecap:butt; stroke-linejoin:round; stroke-width:4; stroke-opacity:1; fill:none\" points=\"\n",
       "  455.64,581.949 465.089,581.949 \n",
       "  \"/>\n",
       "<polyline clip-path=\"url(#clip100)\" style=\"stroke:#000000; stroke-linecap:butt; stroke-linejoin:round; stroke-width:4; stroke-opacity:1; fill:none\" points=\"\n",
       "  455.64,507.826 465.089,507.826 \n",
       "  \"/>\n",
       "<polyline clip-path=\"url(#clip100)\" style=\"stroke:#000000; stroke-linecap:butt; stroke-linejoin:round; stroke-width:4; stroke-opacity:1; fill:none\" points=\"\n",
       "  455.64,359.579 465.089,359.579 \n",
       "  \"/>\n",
       "<polyline clip-path=\"url(#clip100)\" style=\"stroke:#000000; stroke-linecap:butt; stroke-linejoin:round; stroke-width:4; stroke-opacity:1; fill:none\" points=\"\n",
       "  455.64,285.456 465.089,285.456 \n",
       "  \"/>\n",
       "<polyline clip-path=\"url(#clip100)\" style=\"stroke:#000000; stroke-linecap:butt; stroke-linejoin:round; stroke-width:4; stroke-opacity:1; fill:none\" points=\"\n",
       "  455.64,211.333 465.089,211.333 \n",
       "  \"/>\n",
       "<path clip-path=\"url(#clip100)\" d=\"M177.296 2621.89 Q168.269 2621.89 163.697 2630.81 Q159.183 2639.66 159.183 2657.48 Q159.183 2675.25 163.697 2684.16 Q168.269 2693.02 177.296 2693.02 Q186.382 2693.02 190.896 2684.16 Q195.468 2675.25 195.468 2657.48 Q195.468 2639.66 190.896 2630.81 Q186.382 2621.89 177.296 2621.89 M177.296 2612.63 Q191.822 2612.63 199.461 2624.15 Q207.157 2635.61 207.157 2657.48 Q207.157 2679.3 199.461 2690.82 Q191.822 2702.28 177.296 2702.28 Q162.771 2702.28 155.074 2690.82 Q147.435 2679.3 147.435 2657.48 Q147.435 2635.61 155.074 2624.15 Q162.771 2612.63 177.296 2612.63 Z\" fill=\"#000000\" fill-rule=\"evenodd\" fill-opacity=\"1\" /><path clip-path=\"url(#clip100)\" d=\"M227.701 2685.9 L239.912 2685.9 L239.912 2700.6 L227.701 2700.6 L227.701 2685.9 Z\" fill=\"#000000\" fill-rule=\"evenodd\" fill-opacity=\"1\" /><path clip-path=\"url(#clip100)\" d=\"M290.374 2621.89 Q281.347 2621.89 276.775 2630.81 Q272.261 2639.66 272.261 2657.48 Q272.261 2675.25 276.775 2684.16 Q281.347 2693.02 290.374 2693.02 Q299.46 2693.02 303.974 2684.16 Q308.546 2675.25 308.546 2657.48 Q308.546 2639.66 303.974 2630.81 Q299.46 2621.89 290.374 2621.89 M290.374 2612.63 Q304.9 2612.63 312.539 2624.15 Q320.235 2635.61 320.235 2657.48 Q320.235 2679.3 312.539 2690.82 Q304.9 2702.28 290.374 2702.28 Q275.849 2702.28 268.152 2690.82 Q260.514 2679.3 260.514 2657.48 Q260.514 2635.61 268.152 2624.15 Q275.849 2612.63 290.374 2612.63 Z\" fill=\"#000000\" fill-rule=\"evenodd\" fill-opacity=\"1\" /><path clip-path=\"url(#clip100)\" d=\"M365.779 2621.89 Q356.751 2621.89 352.18 2630.81 Q347.666 2639.66 347.666 2657.48 Q347.666 2675.25 352.18 2684.16 Q356.751 2693.02 365.779 2693.02 Q374.865 2693.02 379.379 2684.16 Q383.95 2675.25 383.95 2657.48 Q383.95 2639.66 379.379 2630.81 Q374.865 2621.89 365.779 2621.89 M365.779 2612.63 Q380.305 2612.63 387.943 2624.15 Q395.64 2635.61 395.64 2657.48 Q395.64 2679.3 387.943 2690.82 Q380.305 2702.28 365.779 2702.28 Q351.254 2702.28 343.557 2690.82 Q335.918 2679.3 335.918 2657.48 Q335.918 2635.61 343.557 2624.15 Q351.254 2612.63 365.779 2612.63 Z\" fill=\"#000000\" fill-rule=\"evenodd\" fill-opacity=\"1\" /><path clip-path=\"url(#clip100)\" d=\"M180.363 2251.28 Q171.336 2251.28 166.764 2260.19 Q162.25 2269.04 162.25 2286.87 Q162.25 2304.63 166.764 2313.55 Q171.336 2322.4 180.363 2322.4 Q189.449 2322.4 193.963 2313.55 Q198.535 2304.63 198.535 2286.87 Q198.535 2269.04 193.963 2260.19 Q189.449 2251.28 180.363 2251.28 M180.363 2242.02 Q194.889 2242.02 202.528 2253.54 Q210.224 2264.99 210.224 2286.87 Q210.224 2308.69 202.528 2320.2 Q194.889 2331.66 180.363 2331.66 Q165.838 2331.66 158.141 2320.2 Q150.503 2308.69 150.503 2286.87 Q150.503 2264.99 158.141 2253.54 Q165.838 2242.02 180.363 2242.02 Z\" fill=\"#000000\" fill-rule=\"evenodd\" fill-opacity=\"1\" /><path clip-path=\"url(#clip100)\" d=\"M230.768 2315.28 L242.979 2315.28 L242.979 2329.98 L230.768 2329.98 L230.768 2315.28 Z\" fill=\"#000000\" fill-rule=\"evenodd\" fill-opacity=\"1\" /><path clip-path=\"url(#clip100)\" d=\"M293.442 2251.28 Q284.414 2251.28 279.842 2260.19 Q275.328 2269.04 275.328 2286.87 Q275.328 2304.63 279.842 2313.55 Q284.414 2322.4 293.442 2322.4 Q302.527 2322.4 307.041 2313.55 Q311.613 2304.63 311.613 2286.87 Q311.613 2269.04 307.041 2260.19 Q302.527 2251.28 293.442 2251.28 M293.442 2242.02 Q307.967 2242.02 315.606 2253.54 Q323.303 2264.99 323.303 2286.87 Q323.303 2308.69 315.606 2320.2 Q307.967 2331.66 293.442 2331.66 Q278.916 2331.66 271.219 2320.2 Q263.581 2308.69 263.581 2286.87 Q263.581 2264.99 271.219 2253.54 Q278.916 2242.02 293.442 2242.02 Z\" fill=\"#000000\" fill-rule=\"evenodd\" fill-opacity=\"1\" /><path clip-path=\"url(#clip100)\" d=\"M345.872 2320.14 L364.969 2320.14 L364.969 2254.23 L344.194 2258.4 L344.194 2247.75 L364.853 2243.58 L376.543 2243.58 L376.543 2320.14 L395.64 2320.14 L395.64 2329.98 L345.872 2329.98 L345.872 2320.14 Z\" fill=\"#000000\" fill-rule=\"evenodd\" fill-opacity=\"1\" /><path clip-path=\"url(#clip100)\" d=\"M181.289 1880.66 Q172.262 1880.66 167.69 1889.57 Q163.176 1898.43 163.176 1916.25 Q163.176 1934.02 167.69 1942.93 Q172.262 1951.78 181.289 1951.78 Q190.375 1951.78 194.889 1942.93 Q199.461 1934.02 199.461 1916.25 Q199.461 1898.43 194.889 1889.57 Q190.375 1880.66 181.289 1880.66 M181.289 1871.4 Q195.815 1871.4 203.454 1882.92 Q211.15 1894.38 211.15 1916.25 Q211.15 1938.07 203.454 1949.59 Q195.815 1961.04 181.289 1961.04 Q166.764 1961.04 159.067 1949.59 Q151.428 1938.07 151.428 1916.25 Q151.428 1894.38 159.067 1882.92 Q166.764 1871.4 181.289 1871.4 Z\" fill=\"#000000\" fill-rule=\"evenodd\" fill-opacity=\"1\" /><path clip-path=\"url(#clip100)\" d=\"M231.694 1944.67 L243.905 1944.67 L243.905 1959.37 L231.694 1959.37 L231.694 1944.67 Z\" fill=\"#000000\" fill-rule=\"evenodd\" fill-opacity=\"1\" /><path clip-path=\"url(#clip100)\" d=\"M294.368 1880.66 Q285.34 1880.66 280.768 1889.57 Q276.254 1898.43 276.254 1916.25 Q276.254 1934.02 280.768 1942.93 Q285.34 1951.78 294.368 1951.78 Q303.453 1951.78 307.967 1942.93 Q312.539 1934.02 312.539 1916.25 Q312.539 1898.43 307.967 1889.57 Q303.453 1880.66 294.368 1880.66 M294.368 1871.4 Q308.893 1871.4 316.532 1882.92 Q324.228 1894.38 324.228 1916.25 Q324.228 1938.07 316.532 1949.59 Q308.893 1961.04 294.368 1961.04 Q279.842 1961.04 272.145 1949.59 Q264.507 1938.07 264.507 1916.25 Q264.507 1894.38 272.145 1882.92 Q279.842 1871.4 294.368 1871.4 Z\" fill=\"#000000\" fill-rule=\"evenodd\" fill-opacity=\"1\" /><path clip-path=\"url(#clip100)\" d=\"M354.842 1949.53 L395.64 1949.53 L395.64 1959.37 L340.779 1959.37 L340.779 1949.53 Q347.434 1942.64 358.893 1931.07 Q370.409 1919.44 373.36 1916.08 Q378.974 1909.77 381.173 1905.43 Q383.43 1901.03 383.43 1896.81 Q383.43 1889.92 378.568 1885.58 Q373.765 1881.24 366.011 1881.24 Q360.513 1881.24 354.379 1883.15 Q348.302 1885.06 341.358 1888.94 L341.358 1877.13 Q348.418 1874.3 354.552 1872.85 Q360.687 1871.4 365.779 1871.4 Q379.205 1871.4 387.191 1878.12 Q395.177 1884.83 395.177 1896.06 Q395.177 1901.38 393.152 1906.18 Q391.184 1910.93 385.918 1917.41 Q384.471 1919.09 376.717 1927.13 Q368.962 1935.12 354.842 1949.53 Z\" fill=\"#000000\" fill-rule=\"evenodd\" fill-opacity=\"1\" /><path clip-path=\"url(#clip100)\" d=\"M178.917 1510.05 Q169.889 1510.05 165.317 1518.96 Q160.803 1527.81 160.803 1545.64 Q160.803 1563.4 165.317 1572.31 Q169.889 1581.17 178.917 1581.17 Q188.002 1581.17 192.516 1572.31 Q197.088 1563.4 197.088 1545.64 Q197.088 1527.81 192.516 1518.96 Q188.002 1510.05 178.917 1510.05 M178.917 1500.79 Q193.442 1500.79 201.081 1512.3 Q208.778 1523.76 208.778 1545.64 Q208.778 1567.45 201.081 1578.97 Q193.442 1590.43 178.917 1590.43 Q164.391 1590.43 156.695 1578.97 Q149.056 1567.45 149.056 1545.64 Q149.056 1523.76 156.695 1512.3 Q164.391 1500.79 178.917 1500.79 Z\" fill=\"#000000\" fill-rule=\"evenodd\" fill-opacity=\"1\" /><path clip-path=\"url(#clip100)\" d=\"M229.322 1574.05 L241.532 1574.05 L241.532 1588.75 L229.322 1588.75 L229.322 1574.05 Z\" fill=\"#000000\" fill-rule=\"evenodd\" fill-opacity=\"1\" /><path clip-path=\"url(#clip100)\" d=\"M291.995 1510.05 Q282.967 1510.05 278.395 1518.96 Q273.882 1527.81 273.882 1545.64 Q273.882 1563.4 278.395 1572.31 Q282.967 1581.17 291.995 1581.17 Q301.08 1581.17 305.594 1572.31 Q310.166 1563.4 310.166 1545.64 Q310.166 1527.81 305.594 1518.96 Q301.08 1510.05 291.995 1510.05 M291.995 1500.79 Q306.52 1500.79 314.159 1512.3 Q321.856 1523.76 321.856 1545.64 Q321.856 1567.45 314.159 1578.97 Q306.52 1590.43 291.995 1590.43 Q277.469 1590.43 269.773 1578.97 Q262.134 1567.45 262.134 1545.64 Q262.134 1523.76 269.773 1512.3 Q277.469 1500.79 291.995 1500.79 Z\" fill=\"#000000\" fill-rule=\"evenodd\" fill-opacity=\"1\" /><path clip-path=\"url(#clip100)\" d=\"M377.816 1542.16 Q386.207 1543.96 390.895 1549.63 Q395.64 1555.3 395.64 1563.63 Q395.64 1576.42 386.844 1583.43 Q378.048 1590.43 361.844 1590.43 Q356.404 1590.43 350.617 1589.33 Q344.888 1588.29 338.754 1586.15 L338.754 1574.86 Q343.615 1577.7 349.402 1579.14 Q355.189 1580.59 361.497 1580.59 Q372.492 1580.59 378.221 1576.25 Q384.008 1571.91 384.008 1563.63 Q384.008 1556 378.626 1551.71 Q373.302 1547.37 363.754 1547.37 L353.684 1547.37 L353.684 1537.77 L364.217 1537.77 Q372.839 1537.77 377.411 1534.35 Q381.983 1530.88 381.983 1524.4 Q381.983 1517.74 377.237 1514.21 Q372.55 1510.63 363.754 1510.63 Q358.95 1510.63 353.453 1511.67 Q347.955 1512.71 341.358 1514.91 L341.358 1504.49 Q348.013 1502.64 353.8 1501.71 Q359.645 1500.79 364.795 1500.79 Q378.105 1500.79 385.86 1506.86 Q393.615 1512.88 393.615 1523.18 Q393.615 1530.36 389.506 1535.34 Q385.397 1540.25 377.816 1542.16 Z\" fill=\"#000000\" fill-rule=\"evenodd\" fill-opacity=\"1\" /><path clip-path=\"url(#clip100)\" d=\"M176.081 1139.43 Q167.053 1139.43 162.482 1148.34 Q157.968 1157.2 157.968 1175.02 Q157.968 1192.79 162.482 1201.7 Q167.053 1210.55 176.081 1210.55 Q185.167 1210.55 189.681 1201.7 Q194.252 1192.79 194.252 1175.02 Q194.252 1157.2 189.681 1148.34 Q185.167 1139.43 176.081 1139.43 M176.081 1130.17 Q190.606 1130.17 198.245 1141.69 Q205.942 1153.15 205.942 1175.02 Q205.942 1196.84 198.245 1208.35 Q190.606 1219.81 176.081 1219.81 Q161.556 1219.81 153.859 1208.35 Q146.22 1196.84 146.22 1175.02 Q146.22 1153.15 153.859 1141.69 Q161.556 1130.17 176.081 1130.17 Z\" fill=\"#000000\" fill-rule=\"evenodd\" fill-opacity=\"1\" /><path clip-path=\"url(#clip100)\" d=\"M226.486 1203.44 L238.697 1203.44 L238.697 1218.13 L226.486 1218.13 L226.486 1203.44 Z\" fill=\"#000000\" fill-rule=\"evenodd\" fill-opacity=\"1\" /><path clip-path=\"url(#clip100)\" d=\"M289.159 1139.43 Q280.131 1139.43 275.56 1148.34 Q271.046 1157.2 271.046 1175.02 Q271.046 1192.79 275.56 1201.7 Q280.131 1210.55 289.159 1210.55 Q298.245 1210.55 302.759 1201.7 Q307.33 1192.79 307.33 1175.02 Q307.33 1157.2 302.759 1148.34 Q298.245 1139.43 289.159 1139.43 M289.159 1130.17 Q303.685 1130.17 311.323 1141.69 Q319.02 1153.15 319.02 1175.02 Q319.02 1196.84 311.323 1208.35 Q303.685 1219.81 289.159 1219.81 Q274.634 1219.81 266.937 1208.35 Q259.298 1196.84 259.298 1175.02 Q259.298 1153.15 266.937 1141.69 Q274.634 1130.17 289.159 1130.17 Z\" fill=\"#000000\" fill-rule=\"evenodd\" fill-opacity=\"1\" /><path clip-path=\"url(#clip100)\" d=\"M371.682 1141.92 L342.168 1188.04 L371.682 1188.04 L371.682 1141.92 M368.615 1131.73 L383.314 1131.73 L383.314 1188.04 L395.64 1188.04 L395.64 1197.76 L383.314 1197.76 L383.314 1218.13 L371.682 1218.13 L371.682 1197.76 L332.677 1197.76 L332.677 1186.48 L368.615 1131.73 Z\" fill=\"#000000\" fill-rule=\"evenodd\" fill-opacity=\"1\" /><path clip-path=\"url(#clip100)\" d=\"M179.785 768.815 Q170.757 768.815 166.185 777.727 Q161.671 786.581 161.671 804.405 Q161.671 822.171 166.185 831.083 Q170.757 839.937 179.785 839.937 Q188.87 839.937 193.384 831.083 Q197.956 822.171 197.956 804.405 Q197.956 786.581 193.384 777.727 Q188.87 768.815 179.785 768.815 M179.785 759.556 Q194.31 759.556 201.949 771.072 Q209.646 782.53 209.646 804.405 Q209.646 826.222 201.949 837.738 Q194.31 849.197 179.785 849.197 Q165.259 849.197 157.563 837.738 Q149.924 826.222 149.924 804.405 Q149.924 782.53 157.563 771.072 Q165.259 759.556 179.785 759.556 Z\" fill=\"#000000\" fill-rule=\"evenodd\" fill-opacity=\"1\" /><path clip-path=\"url(#clip100)\" d=\"M230.19 832.819 L242.4 832.819 L242.4 847.518 L230.19 847.518 L230.19 832.819 Z\" fill=\"#000000\" fill-rule=\"evenodd\" fill-opacity=\"1\" /><path clip-path=\"url(#clip100)\" d=\"M292.863 768.815 Q283.835 768.815 279.263 777.727 Q274.75 786.581 274.75 804.405 Q274.75 822.171 279.263 831.083 Q283.835 839.937 292.863 839.937 Q301.948 839.937 306.462 831.083 Q311.034 822.171 311.034 804.405 Q311.034 786.581 306.462 777.727 Q301.948 768.815 292.863 768.815 M292.863 759.556 Q307.388 759.556 315.027 771.072 Q322.724 782.53 322.724 804.405 Q322.724 826.222 315.027 837.738 Q307.388 849.197 292.863 849.197 Q278.338 849.197 270.641 837.738 Q263.002 826.222 263.002 804.405 Q263.002 782.53 270.641 771.072 Q278.338 759.556 292.863 759.556 Z\" fill=\"#000000\" fill-rule=\"evenodd\" fill-opacity=\"1\" /><path clip-path=\"url(#clip100)\" d=\"M343.383 761.118 L389.274 761.118 L389.274 770.956 L354.089 770.956 L354.089 792.137 Q356.636 791.269 359.182 790.864 Q361.728 790.401 364.275 790.401 Q378.742 790.401 387.191 798.329 Q395.64 806.257 395.64 819.799 Q395.64 833.745 386.96 841.5 Q378.279 849.197 362.481 849.197 Q357.041 849.197 351.37 848.271 Q345.756 847.345 339.738 845.493 L339.738 833.745 Q344.946 836.581 350.501 837.97 Q356.057 839.359 362.249 839.359 Q372.261 839.359 378.105 834.093 Q383.95 828.826 383.95 819.799 Q383.95 810.771 378.105 805.505 Q372.261 800.239 362.249 800.239 Q357.562 800.239 352.874 801.28 Q348.245 802.322 343.383 804.521 L343.383 761.118 Z\" fill=\"#000000\" fill-rule=\"evenodd\" fill-opacity=\"1\" /><path clip-path=\"url(#clip100)\" d=\"M176.891 398.199 Q167.864 398.199 163.292 407.111 Q158.778 415.965 158.778 433.789 Q158.778 451.556 163.292 460.468 Q167.864 469.322 176.891 469.322 Q185.977 469.322 190.491 460.468 Q195.062 451.556 195.062 433.789 Q195.062 415.965 190.491 407.111 Q185.977 398.199 176.891 398.199 M176.891 388.94 Q191.417 388.94 199.056 400.456 Q206.752 411.915 206.752 433.789 Q206.752 455.606 199.056 467.123 Q191.417 478.581 176.891 478.581 Q162.366 478.581 154.669 467.123 Q147.03 455.606 147.03 433.789 Q147.03 411.915 154.669 400.456 Q162.366 388.94 176.891 388.94 Z\" fill=\"#000000\" fill-rule=\"evenodd\" fill-opacity=\"1\" /><path clip-path=\"url(#clip100)\" d=\"M227.296 462.204 L239.507 462.204 L239.507 476.903 L227.296 476.903 L227.296 462.204 Z\" fill=\"#000000\" fill-rule=\"evenodd\" fill-opacity=\"1\" /><path clip-path=\"url(#clip100)\" d=\"M289.969 398.199 Q280.942 398.199 276.37 407.111 Q271.856 415.965 271.856 433.789 Q271.856 451.556 276.37 460.468 Q280.942 469.322 289.969 469.322 Q299.055 469.322 303.569 460.468 Q308.141 451.556 308.141 433.789 Q308.141 415.965 303.569 407.111 Q299.055 398.199 289.969 398.199 M289.969 388.94 Q304.495 388.94 312.134 400.456 Q319.83 411.915 319.83 433.789 Q319.83 455.606 312.134 467.123 Q304.495 478.581 289.969 478.581 Q275.444 478.581 267.747 467.123 Q260.108 455.606 260.108 433.789 Q260.108 411.915 267.747 400.456 Q275.444 388.94 289.969 388.94 Z\" fill=\"#000000\" fill-rule=\"evenodd\" fill-opacity=\"1\" /><path clip-path=\"url(#clip100)\" d=\"M366.821 429.044 Q358.95 429.044 354.321 434.426 Q349.749 439.808 349.749 449.183 Q349.749 458.5 354.321 463.94 Q358.95 469.322 366.821 469.322 Q374.691 469.322 379.263 463.94 Q383.892 458.5 383.892 449.183 Q383.892 439.808 379.263 434.426 Q374.691 429.044 366.821 429.044 M390.027 392.412 L390.027 403.06 Q385.629 400.977 381.115 399.878 Q376.659 398.778 372.261 398.778 Q360.687 398.778 354.552 406.591 Q348.476 414.403 347.608 430.202 Q351.022 425.167 356.173 422.505 Q361.323 419.785 367.515 419.785 Q380.536 419.785 388.059 427.713 Q395.64 435.583 395.64 449.183 Q395.64 462.493 387.77 470.537 Q379.899 478.581 366.821 478.581 Q351.832 478.581 343.904 467.123 Q335.976 455.606 335.976 433.789 Q335.976 413.303 345.698 401.151 Q355.42 388.94 371.798 388.94 Q376.196 388.94 380.652 389.808 Q385.166 390.676 390.027 392.412 Z\" fill=\"#000000\" fill-rule=\"evenodd\" fill-opacity=\"1\" /><path clip-path=\"url(#clip100)\" d=\"M-14.8678 1548.5 L-14.8678 1537.98 L54.038 1537.98 L54.038 1500.12 L62.8922 1500.12 L62.8922 1548.5 L-14.8678 1548.5 Z\" fill=\"#000000\" fill-rule=\"evenodd\" fill-opacity=\"1\" /><path clip-path=\"url(#clip100)\" d=\"M11.2779 1468.77 Q11.2779 1476.47 17.3195 1480.95 Q23.309 1485.43 33.7777 1485.43 Q44.2464 1485.43 50.2881 1481 Q56.2776 1476.53 56.2776 1468.77 Q56.2776 1461.11 50.236 1456.63 Q44.1943 1452.15 33.7777 1452.15 Q23.4132 1452.15 17.3716 1456.63 Q11.2779 1461.11 11.2779 1468.77 M3.15289 1468.77 Q3.15289 1456.27 11.2779 1449.13 Q19.4028 1441.99 33.7777 1441.99 Q48.1006 1441.99 56.2776 1449.13 Q64.4026 1456.27 64.4026 1468.77 Q64.4026 1481.32 56.2776 1488.45 Q48.1006 1495.54 33.7777 1495.54 Q19.4028 1495.54 11.2779 1488.45 Q3.15289 1481.32 3.15289 1468.77 Z\" fill=\"#000000\" fill-rule=\"evenodd\" fill-opacity=\"1\" /><path clip-path=\"url(#clip100)\" d=\"M6.27788 1388.92 L15.3403 1388.92 Q13.257 1392.98 12.2153 1397.36 Q11.1737 1401.73 11.1737 1406.42 Q11.1737 1413.56 13.3612 1417.15 Q15.5487 1420.69 19.9236 1420.69 Q23.257 1420.69 25.184 1418.14 Q27.059 1415.59 28.7778 1407.88 L29.5069 1404.6 Q31.6944 1394.39 35.7048 1390.12 Q39.6631 1385.8 46.7985 1385.8 Q54.9235 1385.8 59.663 1392.26 Q64.4026 1398.66 64.4026 1409.91 Q64.4026 1414.6 63.4651 1419.7 Q62.5797 1424.76 60.7568 1430.38 L50.861 1430.38 Q53.6214 1425.07 55.0276 1419.91 Q56.3818 1414.76 56.3818 1409.7 Q56.3818 1402.93 54.0901 1399.29 Q51.7464 1395.64 47.5277 1395.64 Q43.6214 1395.64 41.5381 1398.3 Q39.4548 1400.9 37.5277 1409.81 L36.7465 1413.14 Q34.8715 1422.05 31.0173 1426.01 Q27.1111 1429.96 20.3403 1429.96 Q12.1112 1429.96 7.63204 1424.13 Q3.15289 1418.3 3.15289 1407.57 Q3.15289 1402.26 3.93414 1397.57 Q4.71539 1392.88 6.27788 1388.92 Z\" fill=\"#000000\" fill-rule=\"evenodd\" fill-opacity=\"1\" /><path clip-path=\"url(#clip100)\" d=\"M6.27788 1333.35 L15.3403 1333.35 Q13.257 1337.41 12.2153 1341.79 Q11.1737 1346.16 11.1737 1350.85 Q11.1737 1357.98 13.3612 1361.58 Q15.5487 1365.12 19.9236 1365.12 Q23.257 1365.12 25.184 1362.57 Q27.059 1360.02 28.7778 1352.31 L29.5069 1349.03 Q31.6944 1338.82 35.7048 1334.55 Q39.6631 1330.22 46.7985 1330.22 Q54.9235 1330.22 59.663 1336.68 Q64.4026 1343.09 64.4026 1354.34 Q64.4026 1359.03 63.4651 1364.13 Q62.5797 1369.18 60.7568 1374.81 L50.861 1374.81 Q53.6214 1369.5 55.0276 1364.34 Q56.3818 1359.18 56.3818 1354.13 Q56.3818 1347.36 54.0901 1343.71 Q51.7464 1340.07 47.5277 1340.07 Q43.6214 1340.07 41.5381 1342.72 Q39.4548 1345.33 37.5277 1354.23 L36.7465 1357.57 Q34.8715 1366.47 31.0173 1370.43 Q27.1111 1374.39 20.3403 1374.39 Q12.1112 1374.39 7.63204 1368.56 Q3.15289 1362.72 3.15289 1352 Q3.15289 1346.68 3.93414 1342 Q4.71539 1337.31 6.27788 1333.35 Z\" fill=\"#000000\" fill-rule=\"evenodd\" fill-opacity=\"1\" /><path clip-path=\"url(#clip100)\" d=\"M1877.15 46.6037 Q1877.15 47.0136 1876.15 48.7703 Q1875.21 50.4684 1871.76 54.743 Q1868.3 59.0176 1863.15 63.9948 Q1861.22 65.9272 1858.29 68.6208 Q1855.36 71.3144 1853.37 73.071 L1851.38 74.8277 Q1843.77 81.2689 1837.09 88.4713 Q1837.56 88.2956 1838.38 88.2371 Q1839.2 88.12 1839.79 88.12 L1840.37 88.12 Q1843.42 88.12 1848.75 90.1694 Q1853.43 91.6919 1855.83 91.6919 Q1858.17 91.6919 1860.75 90.8721 Q1863.33 90.0523 1866.14 87.6515 Q1868.95 85.2507 1870.24 81.6202 Q1870.47 81.0347 1870.59 80.859 Q1870.7 80.6248 1871.06 80.3906 Q1871.41 80.0978 1871.88 80.0978 Q1872.52 80.0978 1872.93 80.4491 Q1873.34 80.8004 1873.34 81.2689 Q1873.34 82.3229 1872.52 84.4309 Q1871.76 86.5389 1870.06 89.174 Q1868.42 91.809 1866.25 94.2098 Q1864.15 96.552 1860.98 98.1916 Q1857.82 99.7726 1854.48 99.7726 Q1852.08 99.7726 1850.33 98.6015 Q1848.57 97.4889 1846.81 95.3224 Q1844.41 92.5702 1843.12 91.6919 Q1841.84 90.755 1839.85 90.755 Q1834.52 90.755 1829.66 98.1916 Q1829.13 99.2456 1828.78 99.4798 Q1828.49 99.7726 1827.78 99.7726 Q1826.32 99.7141 1826.32 98.5429 Q1826.32 98.0745 1827.61 96.025 Q1828.95 93.917 1831.94 90.228 Q1834.98 86.5389 1838.67 82.8499 L1849.45 72.7783 Q1861.39 62.7066 1866.14 57.0267 Q1864.15 57.0267 1863.27 56.9681 Q1862.45 56.9096 1860.81 56.5582 Q1859.17 56.1483 1856.88 55.27 Q1851.56 53.4547 1849.33 53.4547 Q1848.75 53.4547 1848.1 53.5133 Q1847.46 53.5719 1845.99 53.8646 Q1844.59 54.1574 1843.42 54.743 Q1842.25 55.27 1841.02 56.4411 Q1839.79 57.5537 1839.14 59.0761 Q1838.97 59.5446 1838.85 59.7788 Q1838.73 60.013 1838.38 60.2472 Q1838.09 60.4229 1837.62 60.4229 Q1836.92 60.4229 1836.51 60.013 Q1836.16 59.6031 1836.16 59.0761 Q1836.16 58.0221 1837.21 55.8555 Q1838.26 53.689 1840.02 51.3467 Q1841.78 48.9459 1844.65 47.1892 Q1847.52 45.4326 1850.68 45.4326 Q1852.55 45.4326 1854.13 46.2523 Q1855.77 47.0721 1856.59 47.9505 Q1857.47 48.7703 1858.93 50.5855 Q1860.16 51.9908 1860.75 52.5764 Q1861.34 53.162 1862.51 53.8061 Q1863.74 54.3916 1865.08 54.3916 Q1867.31 54.3916 1869.36 52.6935 Q1871.41 50.9368 1874.04 46.7208 Q1874.74 45.4326 1875.86 45.4326 Q1877.15 45.4326 1877.15 46.6037 Z\" fill=\"#000000\" fill-rule=\"evenodd\" fill-opacity=\"1\" /><path clip-path=\"url(#clip100)\" d=\"M1914.8 80.2149 Q1914.92 78.751 1917.2 78.751 L1990.69 78.751 Q1994.14 78.751 1994.2 80.0978 Q1994.2 81.5617 1990.92 81.5031 L1918.02 81.5031 Q1914.8 81.5617 1914.8 80.2149 M1914.8 56.7924 Q1914.8 55.3285 1917.32 55.3871 L1990.57 55.3871 Q1994.14 55.3871 1994.2 56.7924 Q1994.2 58.1392 1991.16 58.1392 L1917.2 58.1392 Q1914.8 58.1392 1914.8 56.7924 Z\" fill=\"#000000\" fill-rule=\"evenodd\" fill-opacity=\"1\" /><path clip-path=\"url(#clip100)\" d=\"M2091.28 46.6037 Q2091.28 47.0136 2090.29 48.7703 Q2089.35 50.4684 2085.9 54.743 Q2082.44 59.0176 2077.29 63.9948 Q2075.36 65.9272 2072.43 68.6208 Q2069.5 71.3144 2067.51 73.071 L2065.52 74.8277 Q2057.91 81.2689 2051.23 88.4713 Q2051.7 88.2956 2052.52 88.2371 Q2053.34 88.12 2053.93 88.12 L2054.51 88.12 Q2057.56 88.12 2062.88 90.1694 Q2067.57 91.6919 2069.97 91.6919 Q2072.31 91.6919 2074.89 90.8721 Q2077.46 90.0523 2080.28 87.6515 Q2083.09 85.2507 2084.37 81.6202 Q2084.61 81.0347 2084.73 80.859 Q2084.84 80.6248 2085.19 80.3906 Q2085.55 80.0978 2086.01 80.0978 Q2086.66 80.0978 2087.07 80.4491 Q2087.48 80.8004 2087.48 81.2689 Q2087.48 82.3229 2086.66 84.4309 Q2085.9 86.5389 2084.2 89.174 Q2082.56 91.809 2080.39 94.2098 Q2078.28 96.552 2075.12 98.1916 Q2071.96 99.7726 2068.62 99.7726 Q2066.22 99.7726 2064.47 98.6015 Q2062.71 97.4889 2060.95 95.3224 Q2058.55 92.5702 2057.26 91.6919 Q2055.97 90.755 2053.98 90.755 Q2048.66 90.755 2043.8 98.1916 Q2043.27 99.2456 2042.92 99.4798 Q2042.62 99.7726 2041.92 99.7726 Q2040.46 99.7141 2040.46 98.5429 Q2040.46 98.0745 2041.75 96.025 Q2043.09 93.917 2046.08 90.228 Q2049.12 86.5389 2052.81 82.8499 L2063.59 72.7783 Q2075.53 62.7066 2080.28 57.0267 Q2078.28 57.0267 2077.41 56.9681 Q2076.59 56.9096 2074.95 56.5582 Q2073.31 56.1483 2071.02 55.27 Q2065.7 53.4547 2063.47 53.4547 Q2062.88 53.4547 2062.24 53.5133 Q2061.6 53.5719 2060.13 53.8646 Q2058.73 54.1574 2057.56 54.743 Q2056.38 55.27 2055.16 56.4411 Q2053.93 57.5537 2053.28 59.0761 Q2053.11 59.5446 2052.99 59.7788 Q2052.87 60.013 2052.52 60.2472 Q2052.23 60.4229 2051.76 60.4229 Q2051.06 60.4229 2050.65 60.013 Q2050.29 59.6031 2050.29 59.0761 Q2050.29 58.0221 2051.35 55.8555 Q2052.4 53.689 2054.16 51.3467 Q2055.92 48.9459 2058.79 47.1892 Q2061.65 45.4326 2064.82 45.4326 Q2066.69 45.4326 2068.27 46.2523 Q2069.91 47.0721 2070.73 47.9505 Q2071.61 48.7703 2073.07 50.5855 Q2074.3 51.9908 2074.89 52.5764 Q2075.47 53.162 2076.65 53.8061 Q2077.87 54.3916 2079.22 54.3916 Q2081.45 54.3916 2083.5 52.6935 Q2085.55 50.9368 2088.18 46.7208 Q2088.88 45.4326 2090 45.4326 Q2091.28 45.4326 2091.28 46.6037 Z\" fill=\"#000000\" fill-rule=\"evenodd\" fill-opacity=\"1\" /><path clip-path=\"url(#clip100)\" d=\"M2103.6 106.134 Q2103.6 93.7963 2106.71 87.0741 Q2111.06 77.0727 2121.3 77.0727 Q2123.48 77.0727 2125.73 77.6875 Q2128.03 78.2614 2130.89 80.5158 Q2133.81 82.7702 2135.57 86.4593 Q2138.93 93.5914 2138.93 106.134 Q2138.93 118.39 2135.81 125.071 Q2131.26 134.827 2121.22 134.827 Q2117.45 134.827 2113.6 132.9 Q2109.79 130.974 2107.37 126.342 Q2103.6 119.415 2103.6 106.134 M2110.56 105.109 Q2110.56 117.775 2111.47 122.817 Q2112.49 128.268 2115.28 130.646 Q2118.11 132.982 2121.22 132.982 Q2124.58 132.982 2127.37 130.482 Q2130.2 127.94 2131.06 122.489 Q2132 117.119 2131.96 105.109 Q2131.96 93.4274 2131.14 88.7547 Q2130.03 83.3031 2127.08 81.1306 Q2124.17 78.9172 2121.22 78.9172 Q2120.11 78.9172 2118.93 79.2451 Q2117.78 79.5731 2116.1 80.5158 Q2114.42 81.4586 2113.11 83.7949 Q2111.83 86.1313 2111.22 89.6564 Q2110.56 94.2062 2110.56 105.109 Z\" fill=\"#000000\" fill-rule=\"evenodd\" fill-opacity=\"1\" /><path clip-path=\"url(#clip100)\" d=\"M2263.81 66.747 Q2264.52 67.4497 2264.52 68.4451 Q2264.52 69.4406 2263.81 70.1432 Q2263.11 70.8459 2262.12 70.8459 L2187.05 70.8459 Q2186.05 70.8459 2185.35 70.1432 Q2184.65 69.4406 2184.65 68.4451 Q2184.65 67.4497 2185.35 66.747 Q2186.05 66.0443 2187.05 66.0443 L2262.12 66.0443 Q2263.11 66.0443 2263.81 66.747 Z\" fill=\"#000000\" fill-rule=\"evenodd\" fill-opacity=\"1\" /><path clip-path=\"url(#clip100)\" d=\"M2398.84 17.5013 Q2398.78 17.8526 2398.2 18.9066 L2357.68 100.241 Q2357.27 101.002 2357.09 101.237 Q2356.97 101.529 2356.62 101.881 Q2356.27 102.232 2355.8 102.291 Q2355.33 102.408 2354.57 102.408 Q2353.58 102.408 2352.99 102.115 Q2352.46 101.881 2352.23 101.529 Q2352 101.237 2351.47 100.241 L2310.89 18.9066 L2310.3 17.5013 Q2310.3 16.8572 2310.83 16.6815 Q2311.36 16.5058 2312.94 16.5058 L2396.21 16.5058 Q2397.79 16.5058 2398.31 16.6815 Q2398.84 16.8572 2398.84 17.5013 M2391.05 25.055 L2325.06 25.055 L2358.03 91.1063 L2358.14 91.1063 L2391.05 25.055 Z\" fill=\"#000000\" fill-rule=\"evenodd\" fill-opacity=\"1\" /><path clip-path=\"url(#clip100)\" d=\"M2446.37 88.1217 Q2446.37 88.4086 2445.67 89.6383 Q2445.01 90.827 2442.59 93.8192 Q2440.18 96.8114 2436.57 100.295 Q2435.22 101.648 2433.17 103.534 Q2431.12 105.419 2429.72 106.649 L2428.33 107.879 Q2423 112.387 2418.33 117.429 Q2418.66 117.306 2419.23 117.265 Q2419.8 117.183 2420.21 117.183 L2420.62 117.183 Q2422.76 117.183 2426.49 118.618 Q2429.76 119.683 2431.45 119.683 Q2433.08 119.683 2434.89 119.11 Q2436.69 118.536 2438.66 116.855 Q2440.63 115.175 2441.53 112.633 Q2441.69 112.223 2441.77 112.1 Q2441.86 111.936 2442.1 111.772 Q2442.35 111.568 2442.68 111.568 Q2443.13 111.568 2443.41 111.813 Q2443.7 112.059 2443.7 112.387 Q2443.7 113.125 2443.13 114.601 Q2442.59 116.076 2441.41 117.921 Q2440.26 119.765 2438.74 121.446 Q2437.27 123.086 2435.05 124.233 Q2432.84 125.34 2430.5 125.34 Q2428.82 125.34 2427.59 124.52 Q2426.36 123.741 2425.13 122.225 Q2423.45 120.298 2422.55 119.683 Q2421.65 119.028 2420.26 119.028 Q2416.53 119.028 2413.12 124.233 Q2412.75 124.971 2412.51 125.135 Q2412.3 125.34 2411.81 125.34 Q2410.79 125.299 2410.79 124.479 Q2410.79 124.151 2411.69 122.717 Q2412.63 121.241 2414.72 118.659 Q2416.85 116.076 2419.44 113.494 L2426.98 106.444 Q2435.34 99.3937 2438.66 95.4178 Q2437.27 95.4178 2436.65 95.3768 Q2436.08 95.3358 2434.93 95.0899 Q2433.78 94.8029 2432.18 94.1881 Q2428.45 92.9174 2426.9 92.9174 Q2426.49 92.9174 2426.03 92.9584 Q2425.58 92.9994 2424.56 93.2043 Q2423.58 93.4093 2422.76 93.8192 Q2421.94 94.1881 2421.07 95.0079 Q2420.21 95.7867 2419.76 96.8524 Q2419.64 97.1803 2419.56 97.3443 Q2419.48 97.5082 2419.23 97.6722 Q2419.03 97.7951 2418.7 97.7951 Q2418.21 97.7951 2417.92 97.5082 Q2417.67 97.2213 2417.67 96.8524 Q2417.67 96.1146 2418.41 94.598 Q2419.15 93.0814 2420.38 91.4418 Q2421.61 89.7612 2423.62 88.5316 Q2425.62 87.3019 2427.84 87.3019 Q2429.15 87.3019 2430.26 87.8757 Q2431.4 88.4496 2431.98 89.0644 Q2432.59 89.6383 2433.62 90.9089 Q2434.48 91.8927 2434.89 92.3026 Q2435.3 92.7125 2436.12 93.1634 Q2436.98 93.5733 2437.92 93.5733 Q2439.48 93.5733 2440.91 92.3846 Q2442.35 91.1549 2444.19 88.2037 Q2444.68 87.3019 2445.46 87.3019 Q2446.37 87.3019 2446.37 88.1217 Z\" fill=\"#000000\" fill-rule=\"evenodd\" fill-opacity=\"1\" /><path clip-path=\"url(#clip100)\" d=\"M2454.98 129.793 Q2454.98 121.157 2457.16 116.451 Q2460.21 109.45 2467.38 109.45 Q2468.9 109.45 2470.48 109.88 Q2472.08 110.282 2474.09 111.86 Q2476.13 113.438 2477.36 116.021 Q2479.72 121.013 2479.72 129.793 Q2479.72 138.372 2477.54 143.049 Q2474.35 149.878 2467.32 149.878 Q2464.68 149.878 2461.98 148.529 Q2459.32 147.181 2457.62 143.938 Q2454.98 139.089 2454.98 129.793 M2459.86 129.076 Q2459.86 137.942 2460.49 141.471 Q2461.21 145.287 2463.16 146.951 Q2465.14 148.587 2467.32 148.587 Q2469.67 148.587 2471.63 146.836 Q2473.6 145.057 2474.21 141.241 Q2474.87 137.483 2474.84 129.076 Q2474.84 120.898 2474.26 117.627 Q2473.49 113.811 2471.42 112.291 Q2469.39 110.741 2467.32 110.741 Q2466.55 110.741 2465.71 110.971 Q2464.91 111.2 2463.73 111.86 Q2462.56 112.52 2461.64 114.156 Q2460.75 115.791 2460.32 118.259 Q2459.86 121.443 2459.86 129.076 Z\" fill=\"#000000\" fill-rule=\"evenodd\" fill-opacity=\"1\" /><path clip-path=\"url(#clip100)\" d=\"M2573.66 68.7964 Q2573.66 69.1478 2573.2 70.4946 L2563.71 96.3764 Q2563.18 97.8988 2562.66 98.1916 Q2562.13 98.4258 2559.96 98.4258 L2504.45 98.4258 Q2503.1 98.4258 2502.58 98.3673 Q2502.05 98.3087 2501.64 98.0159 Q2501.23 97.7232 2501.23 97.079 Q2501.23 95.9079 2501.64 95.3809 Q2502.11 94.8539 2502.64 94.7954 Q2503.16 94.7368 2504.45 94.7368 Q2507.38 94.7368 2509.14 94.5611 Q2510.89 94.3855 2512.01 94.1512 Q2513.18 93.8585 2513.76 93.0387 Q2514.41 92.2189 2514.7 91.5162 Q2514.99 90.755 2515.4 89.0569 L2531.45 24.6451 Q2531.91 22.7128 2531.91 22.42 Q2531.91 21.3074 2531.21 21.0147 Q2530.57 20.6633 2528.69 20.4876 L2524.13 20.2534 Q2522.72 20.2534 2522.14 20.1949 Q2521.61 20.1363 2521.2 19.8435 Q2520.79 19.5508 2520.79 18.9066 Q2520.79 17.7941 2521.2 17.2671 Q2521.67 16.6815 2522.02 16.6229 Q2522.43 16.5058 2523.07 16.5058 L2539 16.8572 L2556.74 16.5058 Q2558.67 16.5058 2558.67 17.9697 Q2558.67 19.6093 2557.85 19.9606 Q2557.03 20.2534 2554.11 20.2534 Q2548.49 20.2534 2545.91 20.839 Q2543.39 21.4245 2542.69 22.42 Q2542.04 23.3569 2541.4 25.8748 L2525.18 90.6379 Q2524.59 92.8044 2524.59 93.39 Q2524.59 94.0341 2524.89 94.2683 Q2525.24 94.444 2526.18 94.5611 Q2527.23 94.7368 2528.81 94.7368 L2540.05 94.7368 Q2543.45 94.7368 2546.44 94.2098 Q2549.42 93.6828 2551.71 92.9216 Q2554.05 92.1603 2556.16 90.755 Q2558.26 89.3496 2559.73 88.12 Q2561.25 86.8317 2562.71 84.8408 Q2564.24 82.7914 2565.12 81.386 Q2566.05 79.9221 2567.11 77.5799 Q2568.16 75.1791 2568.69 73.8323 Q2569.27 72.4269 2570.15 70.0261 Q2570.68 68.7964 2570.85 68.4451 Q2571.03 68.0938 2571.32 67.801 Q2571.67 67.5082 2572.2 67.5082 Q2572.9 67.5082 2573.25 67.9181 Q2573.66 68.328 2573.66 68.7964 Z\" fill=\"#000000\" fill-rule=\"evenodd\" fill-opacity=\"1\" /><polyline clip-path=\"url(#clip103)\" style=\"stroke:#009af9; stroke-linecap:butt; stroke-linejoin:round; stroke-width:20; stroke-opacity:1; fill:none\" points=\"\n",
       "  554.615,2511.5 621.945,2597.21 689.275,2612.21 756.605,2620.2 823.935,2622.66 891.265,2625.72 958.595,2627.2 1025.92,2629.42 1093.25,2630.41 1160.58,2631.6 \n",
       "  1227.91,2632.78 1295.24,2632.86 1362.57,2634.14 1429.9,2634.67 1497.23,2635.68 1564.56,2636.24 1631.89,2636.56 1699.22,2637.48 1766.55,2637.57 1833.88,2637.59 \n",
       "  1901.21,2638.47 1968.54,2638.74 2035.87,2639.23 2103.2,2639.51 2170.53,2639.63 2237.86,2639.83 2305.19,2640.19 2372.52,2640.66 2439.85,2640.77 2507.18,2640.99 \n",
       "  2574.51,2641.04 2641.84,2641.51 2709.17,2641.55 2776.5,2641.84 2843.83,2642.05 2911.16,2642.24 2978.49,2642.32 3045.82,2642.11 3113.15,2642.66 3180.48,2642.53 \n",
       "  3247.81,2642.76 3315.14,2643.01 3382.47,2643.18 3449.8,2643.04 3517.13,2643.39 3584.46,2643.31 3651.79,2643.57 3719.12,2643.68 3786.45,2643.69 3853.78,2644.02 \n",
       "  \n",
       "  \"/>\n",
       "<polyline clip-path=\"url(#clip103)\" style=\"stroke:#e26f46; stroke-linecap:butt; stroke-linejoin:round; stroke-width:20; stroke-opacity:1; fill:none\" points=\"\n",
       "  554.615,1261.29 621.945,1382.05 689.275,1431.68 756.605,1460.6 823.935,1483.72 891.265,1500.71 958.595,1510.69 1025.92,1525.65 1093.25,1534.93 1160.58,1545.28 \n",
       "  1227.91,1553.55 1295.24,1562.72 1362.57,1574.3 1429.9,1580.42 1497.23,1587.77 1564.56,1596.48 1631.89,1604.98 1699.22,1611.68 1766.55,1620.05 1833.88,1626.03 \n",
       "  1901.21,1633.27 1968.54,1640.01 2035.87,1646.5 2103.2,1651.18 2170.53,1655.41 2237.86,1661.68 2305.19,1667.96 2372.52,1671.66 2439.85,1676.52 2507.18,1680.92 \n",
       "  2574.51,1686.45 2641.84,1688.93 2709.17,1695.36 2776.5,1696.67 2843.83,1700.67 2911.16,1703.98 2978.49,1707.98 3045.82,1710.05 3113.15,1713.19 3180.48,1717.64 \n",
       "  3247.81,1718.52 3315.14,1721.88 3382.47,1724.07 3449.8,1727.36 3517.13,1730.47 3584.46,1733.07 3651.79,1734.72 3719.12,1737.33 3786.45,1739.64 3853.78,1741.01 \n",
       "  \n",
       "  \"/>\n",
       "<polyline clip-path=\"url(#clip103)\" style=\"stroke:#3da44d; stroke-linecap:butt; stroke-linejoin:round; stroke-width:20; stroke-opacity:1; fill:none\" points=\"\n",
       "  554.615,234.708 621.945,504.228 689.275,523.39 756.605,530.818 823.935,537.82 891.265,538.817 958.595,543.871 1025.92,544.765 1093.25,547.249 1160.58,549.299 \n",
       "  1227.91,550.852 1295.24,551.215 1362.57,552.332 1429.9,551.453 1497.23,553.613 1564.56,553.825 1631.89,554.119 1699.22,555.786 1766.55,555.838 1833.88,556.552 \n",
       "  1901.21,555.959 1968.54,557.014 2035.87,556.49 2103.2,557.515 2170.53,555.762 2237.86,556.425 2305.19,557.829 2372.52,558.063 2439.85,558.14 2507.18,558.393 \n",
       "  2574.51,557.918 2641.84,558.74 2709.17,559.684 2776.5,559.745 2843.83,558.916 2911.16,559.769 2978.49,560.178 3045.82,559.819 3113.15,560.024 3180.48,560.364 \n",
       "  3247.81,560.559 3315.14,560.132 3382.47,560.335 3449.8,560.749 3517.13,559.31 3584.46,559.13 3651.79,560.726 3719.12,560.891 3786.45,561.579 3853.78,560.885 \n",
       "  \n",
       "  \"/>\n",
       "<polyline clip-path=\"url(#clip103)\" style=\"stroke:#c271d2; stroke-linecap:butt; stroke-linejoin:round; stroke-width:20; stroke-opacity:1; fill:none\" points=\"\n",
       "  554.615,398.409 621.945,510.886 689.275,525.001 756.605,531.592 823.935,538.45 891.265,542.615 958.595,544.965 1025.92,545.794 1093.25,549.001 1160.58,549.625 \n",
       "  1227.91,550.534 1295.24,552.616 1362.57,550.194 1429.9,553.905 1497.23,554.468 1564.56,554.127 1631.89,555.277 1699.22,554.263 1766.55,554.883 1833.88,553.243 \n",
       "  1901.21,556.969 1968.54,557.693 2035.87,557.672 2103.2,557.615 2170.53,557.222 2237.86,558.676 2305.19,557.146 2372.52,558.395 2439.85,558.562 2507.18,559.071 \n",
       "  2574.51,558.753 2641.84,559.352 2709.17,559.058 2776.5,560.095 2843.83,558.951 2911.16,559.289 2978.49,559.613 3045.82,558.939 3113.15,560.569 3180.48,559.696 \n",
       "  3247.81,560.16 3315.14,560.758 3382.47,560.543 3449.8,561.036 3517.13,560.303 3584.46,560.858 3651.79,561.191 3719.12,561.526 3786.45,561.463 3853.78,561.743 \n",
       "  \n",
       "  \"/>\n",
       "<path clip-path=\"url(#clip100)\" d=\"\n",
       "M3056.68 830.758 L3836.19 830.758 L3836.19 247.558 L3056.68 247.558  Z\n",
       "  \" fill=\"#ffffff\" fill-rule=\"evenodd\" fill-opacity=\"1\"/>\n",
       "<polyline clip-path=\"url(#clip100)\" style=\"stroke:#000000; stroke-linecap:butt; stroke-linejoin:round; stroke-width:4; stroke-opacity:1; fill:none\" points=\"\n",
       "  3056.68,830.758 3836.19,830.758 3836.19,247.558 3056.68,247.558 3056.68,830.758 \n",
       "  \"/>\n",
       "<polyline clip-path=\"url(#clip100)\" style=\"stroke:#009af9; stroke-linecap:butt; stroke-linejoin:round; stroke-width:9; stroke-opacity:1; fill:none\" points=\"\n",
       "  3095.54,364.198 3328.68,364.198 \n",
       "  \"/>\n",
       "<path clip-path=\"url(#clip100)\" d=\"M3424.61 370.225 Q3424.61 373.914 3419.34 373.914 L3407.48 373.914 Q3410.8 378.657 3410.8 385.666 Q3410.8 391.674 3408.33 397.313 Q3405.9 402.899 3402 406.799 Q3398.16 410.699 3393.31 413.07 Q3388.46 415.389 3383.72 415.389 Q3376.5 415.389 3372.02 410.488 Q3367.54 405.587 3367.54 398.314 Q3367.54 394.467 3368.86 390.198 Q3370.23 385.93 3372.81 381.977 Q3375.39 377.972 3378.76 374.757 Q3382.19 371.542 3386.62 369.593 Q3391.09 367.643 3395.79 367.643 L3420.4 367.643 Q3421.71 367.643 3422.4 367.748 Q3423.14 367.801 3423.87 368.433 Q3424.61 369.013 3424.61 370.225 M3403.9 384.401 Q3403.9 383.137 3403.74 382.03 Q3403.58 380.87 3403.01 379.342 Q3402.43 377.761 3401.42 376.654 Q3400.42 375.495 3398.47 374.705 Q3396.58 373.914 3393.99 373.914 Q3390.36 373.914 3386.35 375.917 Q3382.35 377.919 3379.29 382.873 Q3376.76 387.089 3375.5 392.57 Q3374.23 398.051 3374.23 401.318 Q3374.23 406.905 3376.92 409.961 Q3379.66 412.965 3383.82 412.965 Q3387.25 412.965 3391.15 410.646 Q3395.05 408.275 3398.05 403.795 Q3400.69 399.895 3402.27 394.204 Q3403.9 388.512 3403.9 384.401 Z\" fill=\"#000000\" fill-rule=\"evenodd\" fill-opacity=\"1\" /><path clip-path=\"url(#clip100)\" d=\"M3458.5 397.787 Q3458.61 396.47 3460.66 396.47 L3526.8 396.47 Q3529.91 396.47 3529.96 397.682 Q3529.96 398.999 3527.01 398.947 L3461.4 398.947 Q3458.5 398.999 3458.5 397.787 M3458.5 376.707 Q3458.5 375.39 3460.77 375.442 L3526.7 375.442 Q3529.91 375.442 3529.96 376.707 Q3529.96 377.919 3527.22 377.919 L3460.66 377.919 Q3458.5 377.919 3458.5 376.707 Z\" fill=\"#000000\" fill-rule=\"evenodd\" fill-opacity=\"1\" /><path clip-path=\"url(#clip100)\" d=\"M3571.6 379.658 Q3571.6 363.796 3575.6 355.153 Q3581.19 342.294 3594.37 342.294 Q3597.16 342.294 3600.06 343.084 Q3603.01 343.822 3606.7 346.721 Q3610.44 349.619 3612.71 354.362 Q3617.03 363.532 3617.03 379.658 Q3617.03 395.416 3613.02 404.006 Q3607.17 416.549 3594.26 416.549 Q3589.41 416.549 3584.46 414.072 Q3579.56 411.595 3576.45 405.64 Q3571.6 396.733 3571.6 379.658 M3580.56 378.341 Q3580.56 394.625 3581.72 401.107 Q3583.04 408.117 3586.62 411.173 Q3590.26 414.177 3594.26 414.177 Q3598.58 414.177 3602.17 410.962 Q3605.8 407.695 3606.91 400.686 Q3608.12 393.782 3608.07 378.341 Q3608.07 363.321 3607.01 357.313 Q3605.59 350.304 3601.8 347.511 Q3598.06 344.665 3594.26 344.665 Q3592.84 344.665 3591.31 345.087 Q3589.83 345.508 3587.67 346.721 Q3585.51 347.933 3583.83 350.937 Q3582.19 353.941 3581.4 358.473 Q3580.56 364.323 3580.56 378.341 Z\" fill=\"#000000\" fill-rule=\"evenodd\" fill-opacity=\"1\" /><polyline clip-path=\"url(#clip100)\" style=\"stroke:#e26f46; stroke-linecap:butt; stroke-linejoin:round; stroke-width:9; stroke-opacity:1; fill:none\" points=\"\n",
       "  3095.54,480.838 3328.68,480.838 \n",
       "  \"/>\n",
       "<path clip-path=\"url(#clip100)\" d=\"M3424.61 486.865 Q3424.61 490.554 3419.34 490.554 L3407.48 490.554 Q3410.8 495.297 3410.8 502.306 Q3410.8 508.314 3408.33 513.953 Q3405.9 519.539 3402 523.439 Q3398.16 527.339 3393.31 529.71 Q3388.46 532.029 3383.72 532.029 Q3376.5 532.029 3372.02 527.128 Q3367.54 522.227 3367.54 514.954 Q3367.54 511.107 3368.86 506.838 Q3370.23 502.57 3372.81 498.617 Q3375.39 494.612 3378.76 491.397 Q3382.19 488.182 3386.62 486.233 Q3391.09 484.283 3395.79 484.283 L3420.4 484.283 Q3421.71 484.283 3422.4 484.388 Q3423.14 484.441 3423.87 485.073 Q3424.61 485.653 3424.61 486.865 M3403.9 501.041 Q3403.9 499.777 3403.74 498.67 Q3403.58 497.51 3403.01 495.982 Q3402.43 494.401 3401.42 493.294 Q3400.42 492.135 3398.47 491.345 Q3396.58 490.554 3393.99 490.554 Q3390.36 490.554 3386.35 492.557 Q3382.35 494.559 3379.29 499.513 Q3376.76 503.729 3375.5 509.21 Q3374.23 514.691 3374.23 517.958 Q3374.23 523.545 3376.92 526.601 Q3379.66 529.605 3383.82 529.605 Q3387.25 529.605 3391.15 527.286 Q3395.05 524.915 3398.05 520.435 Q3400.69 516.535 3402.27 510.844 Q3403.9 505.152 3403.9 501.041 Z\" fill=\"#000000\" fill-rule=\"evenodd\" fill-opacity=\"1\" /><path clip-path=\"url(#clip100)\" d=\"M3458.5 514.427 Q3458.61 513.11 3460.66 513.11 L3526.8 513.11 Q3529.91 513.11 3529.96 514.322 Q3529.96 515.639 3527.01 515.587 L3461.4 515.587 Q3458.5 515.639 3458.5 514.427 M3458.5 493.347 Q3458.5 492.03 3460.77 492.082 L3526.7 492.082 Q3529.91 492.082 3529.96 493.347 Q3529.96 494.559 3527.22 494.559 L3460.66 494.559 Q3458.5 494.559 3458.5 493.347 Z\" fill=\"#000000\" fill-rule=\"evenodd\" fill-opacity=\"1\" /><path clip-path=\"url(#clip100)\" d=\"M3571.6 496.298 Q3571.6 480.436 3575.6 471.793 Q3581.19 458.934 3594.37 458.934 Q3597.16 458.934 3600.06 459.724 Q3603.01 460.462 3606.7 463.361 Q3610.44 466.259 3612.71 471.002 Q3617.03 480.172 3617.03 496.298 Q3617.03 512.056 3613.02 520.646 Q3607.17 533.189 3594.26 533.189 Q3589.41 533.189 3584.46 530.712 Q3579.56 528.235 3576.45 522.28 Q3571.6 513.373 3571.6 496.298 M3580.56 494.981 Q3580.56 511.265 3581.72 517.747 Q3583.04 524.757 3586.62 527.813 Q3590.26 530.817 3594.26 530.817 Q3598.58 530.817 3602.17 527.602 Q3605.8 524.335 3606.91 517.326 Q3608.12 510.422 3608.07 494.981 Q3608.07 479.961 3607.01 473.953 Q3605.59 466.944 3601.8 464.151 Q3598.06 461.305 3594.26 461.305 Q3592.84 461.305 3591.31 461.727 Q3589.83 462.148 3587.67 463.361 Q3585.51 464.573 3583.83 467.577 Q3582.19 470.581 3581.4 475.113 Q3580.56 480.963 3580.56 494.981 Z\" fill=\"#000000\" fill-rule=\"evenodd\" fill-opacity=\"1\" /><path clip-path=\"url(#clip100)\" d=\"M3626.68 529.078 Q3625.05 527.339 3625.05 525.073 Q3625.05 522.807 3626.68 521.173 Q3628.32 519.487 3630.79 519.487 Q3633.17 519.487 3634.75 521.068 Q3636.38 522.596 3636.38 525.126 Q3636.38 527.602 3634.64 529.236 Q3632.96 530.817 3630.79 530.817 Q3628.32 530.817 3626.68 529.078 Z\" fill=\"#000000\" fill-rule=\"evenodd\" fill-opacity=\"1\" /><path clip-path=\"url(#clip100)\" d=\"M3654.75 496.298 Q3654.75 480.436 3658.76 471.793 Q3664.34 458.934 3677.52 458.934 Q3680.31 458.934 3683.21 459.724 Q3686.16 460.462 3689.85 463.361 Q3693.59 466.259 3695.86 471.002 Q3700.18 480.172 3700.18 496.298 Q3700.18 512.056 3696.17 520.646 Q3690.32 533.189 3677.41 533.189 Q3672.56 533.189 3667.61 530.712 Q3662.71 528.235 3659.6 522.28 Q3654.75 513.373 3654.75 496.298 M3663.71 494.981 Q3663.71 511.265 3664.87 517.747 Q3666.19 524.757 3669.77 527.813 Q3673.41 530.817 3677.41 530.817 Q3681.73 530.817 3685.32 527.602 Q3688.95 524.335 3690.06 517.326 Q3691.27 510.422 3691.22 494.981 Q3691.22 479.961 3690.17 473.953 Q3688.74 466.944 3684.95 464.151 Q3681.21 461.305 3677.41 461.305 Q3675.99 461.305 3674.46 461.727 Q3672.99 462.148 3670.82 463.361 Q3668.66 464.573 3666.98 467.577 Q3665.34 470.581 3664.55 475.113 Q3663.71 480.963 3663.71 494.981 Z\" fill=\"#000000\" fill-rule=\"evenodd\" fill-opacity=\"1\" /><path clip-path=\"url(#clip100)\" d=\"M3705.02 469.21 L3705.02 465.837 Q3717.99 465.837 3724.68 458.934 Q3726.52 458.934 3726.84 459.355 Q3727.16 459.777 3727.16 461.727 L3727.16 522.28 Q3727.16 525.494 3728.74 526.496 Q3730.32 527.497 3737.22 527.497 L3740.65 527.497 L3740.65 530.817 Q3736.85 530.501 3723.15 530.501 Q3709.45 530.501 3705.71 530.817 L3705.71 527.497 L3709.13 527.497 Q3715.93 527.497 3717.56 526.548 Q3719.2 525.547 3719.2 522.28 L3719.2 466.364 Q3713.56 469.21 3705.02 469.21 Z\" fill=\"#000000\" fill-rule=\"evenodd\" fill-opacity=\"1\" /><polyline clip-path=\"url(#clip100)\" style=\"stroke:#3da44d; stroke-linecap:butt; stroke-linejoin:round; stroke-width:9; stroke-opacity:1; fill:none\" points=\"\n",
       "  3095.54,597.478 3328.68,597.478 \n",
       "  \"/>\n",
       "<path clip-path=\"url(#clip100)\" d=\"M3424.61 603.505 Q3424.61 607.194 3419.34 607.194 L3407.48 607.194 Q3410.8 611.937 3410.8 618.946 Q3410.8 624.954 3408.33 630.593 Q3405.9 636.179 3402 640.079 Q3398.16 643.979 3393.31 646.35 Q3388.46 648.669 3383.72 648.669 Q3376.5 648.669 3372.02 643.768 Q3367.54 638.867 3367.54 631.594 Q3367.54 627.747 3368.86 623.478 Q3370.23 619.21 3372.81 615.257 Q3375.39 611.252 3378.76 608.037 Q3382.19 604.822 3386.62 602.873 Q3391.09 600.923 3395.79 600.923 L3420.4 600.923 Q3421.71 600.923 3422.4 601.028 Q3423.14 601.081 3423.87 601.713 Q3424.61 602.293 3424.61 603.505 M3403.9 617.681 Q3403.9 616.417 3403.74 615.31 Q3403.58 614.15 3403.01 612.622 Q3402.43 611.041 3401.42 609.934 Q3400.42 608.775 3398.47 607.985 Q3396.58 607.194 3393.99 607.194 Q3390.36 607.194 3386.35 609.197 Q3382.35 611.199 3379.29 616.153 Q3376.76 620.369 3375.5 625.85 Q3374.23 631.331 3374.23 634.598 Q3374.23 640.185 3376.92 643.241 Q3379.66 646.245 3383.82 646.245 Q3387.25 646.245 3391.15 643.926 Q3395.05 641.555 3398.05 637.075 Q3400.69 633.175 3402.27 627.484 Q3403.9 621.792 3403.9 617.681 Z\" fill=\"#000000\" fill-rule=\"evenodd\" fill-opacity=\"1\" /><path clip-path=\"url(#clip100)\" d=\"M3458.5 631.067 Q3458.61 629.75 3460.66 629.75 L3526.8 629.75 Q3529.91 629.75 3529.96 630.962 Q3529.96 632.279 3527.01 632.227 L3461.4 632.227 Q3458.5 632.279 3458.5 631.067 M3458.5 609.987 Q3458.5 608.67 3460.77 608.722 L3526.7 608.722 Q3529.91 608.722 3529.96 609.987 Q3529.96 611.199 3527.22 611.199 L3460.66 611.199 Q3458.5 611.199 3458.5 609.987 Z\" fill=\"#000000\" fill-rule=\"evenodd\" fill-opacity=\"1\" /><path clip-path=\"url(#clip100)\" d=\"M3571.6 612.938 Q3571.6 597.076 3575.6 588.433 Q3581.19 575.574 3594.37 575.574 Q3597.16 575.574 3600.06 576.364 Q3603.01 577.102 3606.7 580.001 Q3610.44 582.899 3612.71 587.642 Q3617.03 596.812 3617.03 612.938 Q3617.03 628.696 3613.02 637.286 Q3607.17 649.829 3594.26 649.829 Q3589.41 649.829 3584.46 647.352 Q3579.56 644.875 3576.45 638.92 Q3571.6 630.013 3571.6 612.938 M3580.56 611.621 Q3580.56 627.905 3581.72 634.387 Q3583.04 641.397 3586.62 644.453 Q3590.26 647.457 3594.26 647.457 Q3598.58 647.457 3602.17 644.242 Q3605.8 640.975 3606.91 633.966 Q3608.12 627.062 3608.07 611.621 Q3608.07 596.601 3607.01 590.593 Q3605.59 583.584 3601.8 580.791 Q3598.06 577.945 3594.26 577.945 Q3592.84 577.945 3591.31 578.367 Q3589.83 578.788 3587.67 580.001 Q3585.51 581.213 3583.83 584.217 Q3582.19 587.221 3581.4 591.753 Q3580.56 597.603 3580.56 611.621 Z\" fill=\"#000000\" fill-rule=\"evenodd\" fill-opacity=\"1\" /><path clip-path=\"url(#clip100)\" d=\"M3626.68 645.718 Q3625.05 643.979 3625.05 641.713 Q3625.05 639.447 3626.68 637.813 Q3628.32 636.127 3630.79 636.127 Q3633.17 636.127 3634.75 637.708 Q3636.38 639.236 3636.38 641.766 Q3636.38 644.242 3634.64 645.876 Q3632.96 647.457 3630.79 647.457 Q3628.32 647.457 3626.68 645.718 Z\" fill=\"#000000\" fill-rule=\"evenodd\" fill-opacity=\"1\" /><path clip-path=\"url(#clip100)\" d=\"M3643.71 585.85 L3643.71 582.477 Q3656.67 582.477 3663.37 575.574 Q3665.21 575.574 3665.53 575.995 Q3665.84 576.417 3665.84 578.367 L3665.84 638.92 Q3665.84 642.134 3667.42 643.136 Q3669.01 644.137 3675.91 644.137 L3679.33 644.137 L3679.33 647.457 Q3675.54 647.141 3661.84 647.141 Q3648.14 647.141 3644.39 647.457 L3644.39 644.137 L3647.82 644.137 Q3654.62 644.137 3656.25 643.188 Q3657.89 642.187 3657.89 638.92 L3657.89 583.004 Q3652.25 585.85 3643.71 585.85 Z\" fill=\"#000000\" fill-rule=\"evenodd\" fill-opacity=\"1\" /><polyline clip-path=\"url(#clip100)\" style=\"stroke:#c271d2; stroke-linecap:butt; stroke-linejoin:round; stroke-width:9; stroke-opacity:1; fill:none\" points=\"\n",
       "  3095.54,714.118 3328.68,714.118 \n",
       "  \"/>\n",
       "<path clip-path=\"url(#clip100)\" d=\"M3424.61 720.718 Q3424.61 724.407 3419.34 724.407 L3407.48 724.407 Q3410.8 729.15 3410.8 736.159 Q3410.8 742.167 3408.33 747.806 Q3405.9 753.392 3402 757.292 Q3398.16 761.192 3393.31 763.563 Q3388.46 765.882 3383.72 765.882 Q3376.5 765.882 3372.02 760.981 Q3367.54 756.08 3367.54 748.807 Q3367.54 744.96 3368.86 740.691 Q3370.23 736.423 3372.81 732.47 Q3375.39 728.465 3378.76 725.25 Q3382.19 722.035 3386.62 720.085 Q3391.09 718.136 3395.79 718.136 L3420.4 718.136 Q3421.71 718.136 3422.4 718.241 Q3423.14 718.294 3423.87 718.926 Q3424.61 719.506 3424.61 720.718 M3403.9 734.894 Q3403.9 733.63 3403.74 732.523 Q3403.58 731.363 3403.01 729.835 Q3402.43 728.254 3401.42 727.147 Q3400.42 725.988 3398.47 725.197 Q3396.58 724.407 3393.99 724.407 Q3390.36 724.407 3386.35 726.41 Q3382.35 728.412 3379.29 733.366 Q3376.76 737.582 3375.5 743.063 Q3374.23 748.544 3374.23 751.811 Q3374.23 757.397 3376.92 760.454 Q3379.66 763.458 3383.82 763.458 Q3387.25 763.458 3391.15 761.139 Q3395.05 758.768 3398.05 754.288 Q3400.69 750.388 3402.27 744.697 Q3403.9 739.005 3403.9 734.894 Z\" fill=\"#000000\" fill-rule=\"evenodd\" fill-opacity=\"1\" /><path clip-path=\"url(#clip100)\" d=\"M3458.5 748.28 Q3458.61 746.963 3460.66 746.963 L3526.8 746.963 Q3529.91 746.963 3529.96 748.175 Q3529.96 749.492 3527.01 749.44 L3461.4 749.44 Q3458.5 749.492 3458.5 748.28 M3458.5 727.2 Q3458.5 725.883 3460.77 725.935 L3526.7 725.935 Q3529.91 725.935 3529.96 727.2 Q3529.96 728.412 3527.22 728.412 L3460.66 728.412 Q3458.5 728.412 3458.5 727.2 Z\" fill=\"#000000\" fill-rule=\"evenodd\" fill-opacity=\"1\" /><path clip-path=\"url(#clip100)\" d=\"M3571.6 703.063 L3571.6 699.69 Q3584.56 699.69 3591.26 692.787 Q3593.1 692.787 3593.42 693.208 Q3593.73 693.63 3593.73 695.58 L3593.73 756.133 Q3593.73 759.347 3595.31 760.349 Q3596.9 761.35 3603.8 761.35 L3607.23 761.35 L3607.23 764.67 Q3603.43 764.354 3589.73 764.354 Q3576.03 764.354 3572.28 764.67 L3572.28 761.35 L3575.71 761.35 Q3582.51 761.35 3584.14 760.401 Q3585.78 759.4 3585.78 756.133 L3585.78 700.217 Q3580.14 703.063 3571.6 703.063 Z\" fill=\"#000000\" fill-rule=\"evenodd\" fill-opacity=\"1\" /></svg>\n"
      ]
     },
     "execution_count": 7,
     "metadata": {},
     "output_type": "execute_result"
    }
   ],
   "source": [
    "title = L\"$z = z_0 - \\nabla_{z_0}L$\"\n",
    "figsize = (1000,750)\n",
    "epochs = 1:n_epochs\n",
    "\n",
    "plot(epochs,trn_loss_list0[2:end] ,label = L\"$\\sigma = 0$\", xlabel = \"Epochs\", ylabel = \"Loss\",\n",
    "title = title, minorgrid = true, xtickfontsize = 18,\n",
    "ytickfontsize = 18, legendfontsize = 18, xguidefontsize=18, \n",
    "yguidefontsize=18, titlefontsize = 20, size = figsize, thickness_scaling = 1, tickfontsize=20,linewidth=5)\n",
    "\n",
    "plot!(epochs,trn_loss_list1[2:end]  ,label = L\"$\\sigma = 0.01$\", xlabel = \"Epochs\", ylabel = \"Loss\",\n",
    "title = title, minorgrid = true, xtickfontsize = 18,\n",
    "ytickfontsize = 18, legendfontsize = 18, xguidefontsize=18, \n",
    "yguidefontsize=18, titlefontsize = 20, size = figsize, thickness_scaling = 1, tickfontsize=20,linewidth=5)\n",
    "\n",
    "plot!(epochs,trn_loss_list2[2:end]  ,label = L\"$\\sigma = 0.1$\", xlabel = \"Epochs\", ylabel = \"Loss\",\n",
    "title = title, minorgrid = true, xtickfontsize = 18,\n",
    "ytickfontsize = 18, legendfontsize = 18, xguidefontsize=18, \n",
    "yguidefontsize=18, titlefontsize = 20, size = figsize, thickness_scaling = 1, tickfontsize=20,linewidth=5)\n",
    "\n",
    "plot!(epochs,trn_loss_list3[2:end]  ,label = L\"$\\sigma = 1$\", xlabel = \"Epochs\", ylabel = \"Loss\",\n",
    "title = title, minorgrid = true, xtickfontsize = 18,\n",
    "ytickfontsize = 18, legendfontsize = 18, xguidefontsize=18, \n",
    "yguidefontsize=18, titlefontsize = 20, size = figsize, thickness_scaling = 1, tickfontsize=20,linewidth=5)"
   ]
  },
  {
   "cell_type": "code",
   "execution_count": 8,
   "metadata": {},
   "outputs": [],
   "source": [
    "title = L\"$z = z_0 - \\nabla_{z_0}L$\"\n",
    "figsize = (1000,750)\n",
    "epochs = 1:n_epochs\n",
    "\n",
    "plot(epochs,trn_loss_list0[2:end] ,label = L\"$\\sigma = 0$\", xlabel = \"Epochs\", ylabel = \"Loss\",\n",
    "title = title, minorgrid = true, xtickfontsize = 18,\n",
    "ytickfontsize = 18, legendfontsize = 18, xguidefontsize=18, \n",
    "yguidefontsize=18, titlefontsize = 20, size = figsize, thickness_scaling = 1, tickfontsize=20,linewidth=5)\n",
    "\n",
    "plot!(epochs,trn_loss_list1[2:end]  ,label = L\"$\\sigma = 0.01$\", xlabel = \"Epochs\", ylabel = \"Loss\",\n",
    "title = title, minorgrid = true, xtickfontsize = 18,\n",
    "ytickfontsize = 18, legendfontsize = 18, xguidefontsize=18, \n",
    "yguidefontsize=18, titlefontsize = 20, size = figsize, thickness_scaling = 1, tickfontsize=20,linewidth=5)\n",
    "\n",
    "plot!(epochs,trn_loss_list2[2:end]  ,label = L\"$\\sigma = 0.1$\", xlabel = \"Epochs\", ylabel = \"Loss\",\n",
    "title = title, minorgrid = true, xtickfontsize = 18,\n",
    "ytickfontsize = 18, legendfontsize = 18, xguidefontsize=18, \n",
    "yguidefontsize=18, titlefontsize = 20, size = figsize, thickness_scaling = 1, tickfontsize=20,linewidth=5)\n",
    "\n",
    "plot!(epochs,trn_loss_list3[2:end]  ,label = L\"$\\sigma = 1$\", xlabel = \"Epochs\", ylabel = \"Loss\",\n",
    "title = title, minorgrid = true, xtickfontsize = 18,\n",
    "ytickfontsize = 18, legendfontsize = 18, xguidefontsize=18, \n",
    "yguidefontsize=18, titlefontsize = 20, size = figsize, thickness_scaling = 1, tickfontsize=20,linewidth=5)\n",
    "\n",
    "fig_name = \"Ablation_Study_Latent_Initial\"\n",
    "savefig(joinpath(\"Ablation_Studies\",fig_name))"
   ]
  },
  {
   "cell_type": "code",
   "execution_count": 7,
   "metadata": {},
   "outputs": [
    {
     "name": "stdout",
     "output_type": "stream",
     "text": [
      "Effective GPU memory usage: 99.88% (14.737 GiB/14.756 GiB)\n",
      "Memory pool usage: 13.888 GiB (13.906 GiB reserved)"
     ]
    }
   ],
   "source": [
    "CUDA.memory_status()    "
   ]
  },
  {
   "cell_type": "code",
   "execution_count": null,
   "metadata": {},
   "outputs": [],
   "source": []
  },
  {
   "cell_type": "code",
   "execution_count": null,
   "metadata": {},
   "outputs": [],
   "source": []
  }
 ],
 "metadata": {
  "kernelspec": {
   "display_name": "Julia 1.6.3",
   "language": "julia",
   "name": "julia-1.6"
  },
  "language_info": {
   "file_extension": ".jl",
   "mimetype": "application/julia",
   "name": "julia",
   "version": "1.6.3"
  }
 },
 "nbformat": 4,
 "nbformat_minor": 2
}
