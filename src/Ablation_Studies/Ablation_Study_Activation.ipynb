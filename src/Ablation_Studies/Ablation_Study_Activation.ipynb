{
 "cells": [
  {
   "cell_type": "code",
   "execution_count": 1,
   "metadata": {},
   "outputs": [
    {
     "data": {
      "text/plain": [
       "decode_train (generic function with 1 method)"
      ]
     },
     "execution_count": 1,
     "metadata": {},
     "output_type": "execute_result"
    }
   ],
   "source": [
    "# Set display width, load packages, import symbols\n",
    "ENV[\"COLUMNS\"]=72\n",
    "using Distributions\n",
    "using Interpolations\n",
    "using Knet: Knet, dir, accuracy, progress, sgd, load143, save, gc, Param, KnetArray, Data, minibatch, nll, relu, training, dropout,sigm # param, param0, xavier_uniform\n",
    "using Knet\n",
    "using Images\n",
    "using Plots\n",
    "using LinearAlgebra\n",
    "using IterTools: ncycle, takenth\n",
    "using MLDatasets\n",
    "using Base.Iterators: flatten\n",
    "import CUDA # functional\n",
    "using ImageTransformations\n",
    "using Statistics\n",
    "using Memento\n",
    "using NPZ\n",
    "# using Interpolations\n",
    "using Random\n",
    "atype=(CUDA.functional() ? KnetArray{Float32} : Array{Float32})\n",
    "\n",
    "const F = Float32\n",
    "params = Knet.params\n",
    "\n",
    "cd(\"..\")\n",
    "include(\"PlotUtility.jl\")\n",
    "include(\"ImageUtility.jl\")\n",
    "include(\"TrainUtility.jl\")\n",
    "include(\"LayerUtility.jl\")\n",
    "include(\"LossUtility.jl\")\n",
    "\n",
    "using .PlotUtility\n",
    "using .ImageUtility\n",
    "using .TrainUtility\n",
    "using .LayerUtility\n",
    "using .LossUtility\n",
    "\n",
    "########################### CHANGE THIS LINE FOR DATASET PARAMETER ##############################\n",
    "dataset_name = \"mnist\"\n",
    "exp_number = 1\n",
    "########################### CHANGE THIS LINE FOR RESULT FOLDER NAME #############################\n",
    "notebook_name = \"Ablation_Study_Initial_Point\" * \"_\" * dataset_name * string(exp_number)\n",
    "\n",
    "use_saved_data = true\n",
    "nc = nothing\n",
    "\n",
    "if dataset_name == \"mnist\"\n",
    "    nc = 1\n",
    "    if use_saved_data\n",
    "        xtrn = npzread(\"Data/MNIST_Train_Images.npy\")\n",
    "        xtrn = permutedims(xtrn, (3,4,2,1))\n",
    "        xtst = npzread(\"Data/MNIST_Test_Images.npy\")\n",
    "        xtst = permutedims(xtst, (3,4,2,1))\n",
    "\n",
    "    else\n",
    "\n",
    "        xtrn,_ = MNIST.traindata()\n",
    "        xtst,_ = MNIST.testdata()\n",
    "        xtrn = Array{Float64, 3}(xtrn)\n",
    "        xtst = Array{Float64, 3}(xtst)\n",
    "\n",
    "        xtrn = resize_MNIST(xtrn, 32/28)\n",
    "        xtst = resize_MNIST(xtst, 32/28)\n",
    "        \n",
    "    end\n",
    "    \n",
    "elseif dataset_name == \"fashion\"\n",
    "    nc = 1\n",
    "    if use_saved_data\n",
    "\n",
    "        xtrn = npzread(\"Data/Fashion_MNIST_Train_Images.npy\")\n",
    "        xtrn = permutedims(xtrn, (3,4,2,1))\n",
    "        xtst = npzread(\"Data/Fashion_MNIST_Test_Images.npy\")\n",
    "        xtst = permutedims(xtst, (3,4,2,1))\n",
    "        \n",
    "    else\n",
    "        \n",
    "        xtrn,_ = FashionMNIST.traindata()\n",
    "        xtst,_ = FashionMNIST.testdata()\n",
    "        xtrn = Array{Float64, 3}(xtrn)\n",
    "        xtst = Array{Float64, 3}(xtst)\n",
    "\n",
    "        xtrn = resize_MNIST(xtrn, 32/28)\n",
    "        xtst = resize_MNIST(xtst, 32/28)\n",
    "\n",
    "    end\n",
    "    \n",
    "elseif dataset_name == \"cifar\"\n",
    "    nc = 3\n",
    "    xtrn,_= CIFAR10.traindata()\n",
    "    xtst,_ = CIFAR10.testdata()\n",
    "    xtrn = Array{Float64, 4}(xtrn)\n",
    "    xtst = Array{Float64, 4}(xtst)\n",
    "\n",
    "elseif dataset_name == \"coil\"\n",
    "    coil_path = \"Data/coil20\"\n",
    "    coil = load_coil_dataset(coil_path);\n",
    "    nc = 1\n",
    "    dataset_size = size(coil,3)\n",
    "    trn_perc = 0.8\n",
    "    trn_size = Int(dataset_size * trn_perc)\n",
    "    random_permutation = randperm(dataset_size)\n",
    "    trn_idx = random_permutation[1:trn_size]\n",
    "    tst_idx = random_permutation[trn_size + 1:end]\n",
    "    xtrn = coil[:,:,trn_idx]\n",
    "    xtrn = resize_gray_image_tensor(xtrn, 1/4)\n",
    "    xtst = coil[:,:,tst_idx];\n",
    "    xtst = resize_gray_image_tensor(xtst, 1/4)\n",
    "\n",
    "end\n",
    "\n",
    "batch_size = 64\n",
    "\n",
    "dtrn = minibatch(xtrn, batch_size; xsize = (32, 32, nc,:), xtype = atype, shuffle = true)\n",
    "dtst = minibatch(xtst, batch_size; xsize = (32, 32, nc,:), xtype = atype);\n",
    "\n",
    "function weights(nc, nz,  ngf) \n",
    "        \n",
    "    # Decoding Weights\n",
    "    theta = [] # z -> x\n",
    "    \n",
    "    w, b = deconv_weight_init(4, 4, nz, ngf * 4;bias = true, return_param = false)\n",
    "    push!(theta, w)\n",
    "    push!(theta, b)\n",
    "    push!(theta, (bnparams(ngf * 4))) # Batch Normalization\n",
    "    \n",
    "    w, b = deconv_weight_init(4, 4, ngf * 4, ngf * 2;bias= true, return_param = false)\n",
    "    push!(theta, w)\n",
    "    push!(theta, b)\n",
    "    push!(theta, (bnparams(ngf * 2)))\n",
    "    \n",
    "    w, b = deconv_weight_init(4, 4, ngf * 2, ngf;bias = true, return_param = false)\n",
    "    push!(theta, w)\n",
    "    push!(theta, b)\n",
    "    push!(theta, (bnparams(ngf)))\n",
    "    \n",
    "    w,b = deconv_weight_init(4,4,ngf, nc;bias = true, return_param = false)\n",
    "    push!(theta, w)\n",
    "    push!(theta, b)\n",
    "\n",
    "    theta = map(a->convert(atype,a), theta)\n",
    "    \n",
    "    return Param.(theta)\n",
    "end\n",
    "\n",
    "moments1 = bnmoments()\n",
    "moments2 = bnmoments()\n",
    "moments3 = bnmoments()\n",
    "\n",
    "function decode(theta, z; batch_size = 64, training = true)\n",
    "    \n",
    "    z = deconv4(theta[1], z, mode = 1) .+ theta[2]\n",
    "    z = mybatchnorm(z, moments1, theta[3]; training = training)\n",
    "    z = Knet.elu.(z)\n",
    "    \n",
    "    z = deconv4(theta[4], z, mode = 1, stride = 2, padding = 1) .+ theta[5]\n",
    "    z = mybatchnorm(z, moments2, theta[6]; training = training)\n",
    "    z = Knet.elu.(z)\n",
    "    \n",
    "    z = deconv4(theta[7], z, mode = 1, stride = 2, padding = 1) .+ theta[8]\n",
    "    z = mybatchnorm(z, moments3, theta[9]; training = training)\n",
    "    z = Knet.elu.(z)\n",
    "    \n",
    "    z = deconv4(theta[10], z, mode = 1, stride = 2, padding = 1) .+ theta[11]\n",
    "    x_hat = Knet.sigm.(z)\n",
    "    return x_hat\n",
    "    \n",
    "end\n",
    "\n",
    "# (Reconstruction Error := Mean Squared Error)\n",
    "inner_loss(x, z) = mean(sum((decode(theta, z; batch_size = size(x,4)) - x).^2, dims = 3))\n",
    "\n",
    "function loss_train(theta, x)\n",
    "    x_hat =  decode_train(theta, x; batch_size = size(x,4))\n",
    "    L = mean(sum((x_hat - x).^2, dims = 3))\n",
    "end\n",
    "\n",
    "function loss_train(theta, d::Data)\n",
    "    total_loss = 0\n",
    "    n_instance = 0\n",
    "    for x in d\n",
    "        total_loss += loss_train(theta, x) * size(x,4)\n",
    "        n_instance += size(x,4)\n",
    "    end\n",
    "    \n",
    "    total_loss /= n_instance\n",
    "end\n",
    "\n",
    "function decode_train(theta, x; batch_size = 64)\n",
    "    origin = Param(atype(zeros(1, 1, nz, batch_size)))\n",
    "    derivative_origin = @diff inner_loss(x,origin)\n",
    "    dz = grad(derivative_origin, origin)\n",
    "    z = -dz\n",
    "    x_hat = decode(theta, z; batch_size = batch_size, training = true)\n",
    "    return x_hat\n",
    "end\n"
   ]
  },
  {
   "cell_type": "markdown",
   "metadata": {},
   "source": [
    "# Train With ELU"
   ]
  },
  {
   "cell_type": "code",
   "execution_count": 2,
   "metadata": {},
   "outputs": [
    {
     "name": "stderr",
     "output_type": "stream",
     "text": [
      "┣▊                   ┫ [4.00%, 2/50, 00:29/12:09, 29.17s/i] "
     ]
    },
    {
     "name": "stdout",
     "output_type": "stream",
     "text": [
      "0.0043266513"
     ]
    },
    {
     "name": "stderr",
     "output_type": "stream",
     "text": [
      "┣█▏                  ┫ [6.00%, 3/50, 00:49/13:35, 19.75s/i] "
     ]
    },
    {
     "name": "stdout",
     "output_type": "stream",
     "text": [
      "0.0017653904"
     ]
    },
    {
     "name": "stderr",
     "output_type": "stream",
     "text": [
      "┣█▌                  ┫ [8.00%, 4/50, 01:09/14:21, 19.92s/i] "
     ]
    },
    {
     "name": "stdout",
     "output_type": "stream",
     "text": [
      "0.0013073289"
     ]
    },
    {
     "name": "stderr",
     "output_type": "stream",
     "text": [
      "┣██                  ┫ [10.00%, 5/50, 01:29/14:46, 19.78s/i] "
     ]
    },
    {
     "name": "stdout",
     "output_type": "stream",
     "text": [
      "0.0010797556"
     ]
    },
    {
     "name": "stderr",
     "output_type": "stream",
     "text": [
      "┣██▍                 ┫ [12.00%, 6/50, 01:49/15:05, 19.93s/i] "
     ]
    },
    {
     "name": "stdout",
     "output_type": "stream",
     "text": [
      "0.0009637696"
     ]
    },
    {
     "name": "stderr",
     "output_type": "stream",
     "text": [
      "┣██▊                 ┫ [14.00%, 7/50, 02:08/15:17, 19.86s/i] "
     ]
    },
    {
     "name": "stdout",
     "output_type": "stream",
     "text": [
      "0.0008840417"
     ]
    },
    {
     "name": "stderr",
     "output_type": "stream",
     "text": [
      "┣███▏                ┫ [16.00%, 8/50, 02:28/15:26, 19.82s/i] "
     ]
    },
    {
     "name": "stdout",
     "output_type": "stream",
     "text": [
      "0.0008300972"
     ]
    },
    {
     "name": "stderr",
     "output_type": "stream",
     "text": [
      "┣███▌                ┫ [18.00%, 9/50, 02:48/15:34, 19.96s/i] "
     ]
    },
    {
     "name": "stdout",
     "output_type": "stream",
     "text": [
      "0.00078477757"
     ]
    },
    {
     "name": "stderr",
     "output_type": "stream",
     "text": [
      "┣████                ┫ [20.00%, 10/50, 03:08/15:40, 19.90s/i] "
     ]
    },
    {
     "name": "stdout",
     "output_type": "stream",
     "text": [
      "0.00073543406"
     ]
    },
    {
     "name": "stderr",
     "output_type": "stream",
     "text": [
      "┣████▍               ┫ [22.00%, 11/50, 03:28/15:46, 20.02s/i] "
     ]
    },
    {
     "name": "stdout",
     "output_type": "stream",
     "text": [
      "0.00071107456"
     ]
    },
    {
     "name": "stderr",
     "output_type": "stream",
     "text": [
      "┣████▊               ┫ [24.00%, 12/50, 03:48/15:50, 19.95s/i] "
     ]
    },
    {
     "name": "stdout",
     "output_type": "stream",
     "text": [
      "0.0006890995"
     ]
    },
    {
     "name": "stderr",
     "output_type": "stream",
     "text": [
      "┣█████▏              ┫ [26.00%, 13/50, 04:08/15:54, 19.93s/i] "
     ]
    },
    {
     "name": "stdout",
     "output_type": "stream",
     "text": [
      "0.0006616657"
     ]
    },
    {
     "name": "stderr",
     "output_type": "stream",
     "text": [
      "┣█████▌              ┫ [28.00%, 14/50, 04:28/15:57, 20.05s/i] "
     ]
    },
    {
     "name": "stdout",
     "output_type": "stream",
     "text": [
      "0.00063653896"
     ]
    },
    {
     "name": "stderr",
     "output_type": "stream",
     "text": [
      "┣██████              ┫ [30.00%, 15/50, 04:48/16:00, 20.01s/i] "
     ]
    },
    {
     "name": "stdout",
     "output_type": "stream",
     "text": [
      "0.00063130085"
     ]
    },
    {
     "name": "stderr",
     "output_type": "stream",
     "text": [
      "┣██████▍             ┫ [32.00%, 16/50, 05:08/16:03, 19.98s/i] "
     ]
    },
    {
     "name": "stdout",
     "output_type": "stream",
     "text": [
      "0.0005995047"
     ]
    },
    {
     "name": "stderr",
     "output_type": "stream",
     "text": [
      "┣██████▊             ┫ [34.00%, 17/50, 05:28/16:05, 20.06s/i] "
     ]
    },
    {
     "name": "stdout",
     "output_type": "stream",
     "text": [
      "0.00058994803"
     ]
    },
    {
     "name": "stderr",
     "output_type": "stream",
     "text": [
      "┣███████▏            ┫ [36.00%, 18/50, 05:48/16:07, 20.18s/i] "
     ]
    },
    {
     "name": "stdout",
     "output_type": "stream",
     "text": [
      "0.00056986953"
     ]
    },
    {
     "name": "stderr",
     "output_type": "stream",
     "text": [
      "┣███████▌            ┫ [38.00%, 19/50, 06:08/16:09, 20.01s/i] "
     ]
    },
    {
     "name": "stdout",
     "output_type": "stream",
     "text": [
      "0.00056703156"
     ]
    },
    {
     "name": "stderr",
     "output_type": "stream",
     "text": [
      "┣████████            ┫ [40.00%, 20/50, 06:28/16:11, 20.10s/i] "
     ]
    },
    {
     "name": "stdout",
     "output_type": "stream",
     "text": [
      "0.0005428599"
     ]
    },
    {
     "name": "stderr",
     "output_type": "stream",
     "text": [
      "┣████████▍           ┫ [42.00%, 21/50, 06:49/16:13, 20.23s/i] "
     ]
    },
    {
     "name": "stdout",
     "output_type": "stream",
     "text": [
      "0.00053498585"
     ]
    },
    {
     "name": "stderr",
     "output_type": "stream",
     "text": [
      "┣████████▊           ┫ [44.00%, 22/50, 07:09/16:14, 20.00s/i] "
     ]
    },
    {
     "name": "stdout",
     "output_type": "stream",
     "text": [
      "0.00054506323"
     ]
    },
    {
     "name": "stderr",
     "output_type": "stream",
     "text": [
      "┣█████████▏          ┫ [46.00%, 23/50, 07:29/16:16, 20.24s/i] "
     ]
    },
    {
     "name": "stdout",
     "output_type": "stream",
     "text": [
      "0.00051262707"
     ]
    },
    {
     "name": "stderr",
     "output_type": "stream",
     "text": [
      "┣█████████▌          ┫ [48.00%, 24/50, 07:49/16:17, 20.07s/i] "
     ]
    },
    {
     "name": "stdout",
     "output_type": "stream",
     "text": [
      "0.00050607405"
     ]
    },
    {
     "name": "stderr",
     "output_type": "stream",
     "text": [
      "┣██████████          ┫ [50.00%, 25/50, 08:09/16:18, 20.19s/i] "
     ]
    },
    {
     "name": "stdout",
     "output_type": "stream",
     "text": [
      "0.0004984398"
     ]
    },
    {
     "name": "stderr",
     "output_type": "stream",
     "text": [
      "┣██████████▍         ┫ [52.00%, 26/50, 08:29/16:19, 20.12s/i] "
     ]
    },
    {
     "name": "stdout",
     "output_type": "stream",
     "text": [
      "0.0004960408"
     ]
    },
    {
     "name": "stderr",
     "output_type": "stream",
     "text": [
      "┣██████████▊         ┫ [54.00%, 27/50, 08:49/16:21, 20.26s/i] "
     ]
    },
    {
     "name": "stdout",
     "output_type": "stream",
     "text": [
      "0.00048532925"
     ]
    },
    {
     "name": "stderr",
     "output_type": "stream",
     "text": [
      "┣███████████▏        ┫ [56.00%, 28/50, 09:10/16:22, 20.21s/i] "
     ]
    },
    {
     "name": "stdout",
     "output_type": "stream",
     "text": [
      "0.0004813684"
     ]
    },
    {
     "name": "stderr",
     "output_type": "stream",
     "text": [
      "┣███████████▌        ┫ [58.00%, 29/50, 09:30/16:23, 20.29s/i] "
     ]
    },
    {
     "name": "stdout",
     "output_type": "stream",
     "text": [
      "0.00046594397"
     ]
    },
    {
     "name": "stderr",
     "output_type": "stream",
     "text": [
      "┣████████████        ┫ [60.00%, 30/50, 09:50/16:23, 20.12s/i] "
     ]
    },
    {
     "name": "stdout",
     "output_type": "stream",
     "text": [
      "0.00045777793"
     ]
    },
    {
     "name": "stderr",
     "output_type": "stream",
     "text": [
      "┣████████████▍       ┫ [62.00%, 31/50, 10:10/16:24, 20.22s/i] "
     ]
    },
    {
     "name": "stdout",
     "output_type": "stream",
     "text": [
      "0.00045425046"
     ]
    },
    {
     "name": "stderr",
     "output_type": "stream",
     "text": [
      "┣████████████▊       ┫ [64.00%, 32/50, 10:31/16:25, 20.29s/i] "
     ]
    },
    {
     "name": "stdout",
     "output_type": "stream",
     "text": [
      "0.00044601536"
     ]
    },
    {
     "name": "stderr",
     "output_type": "stream",
     "text": [
      "┣█████████████▏      ┫ [66.00%, 33/50, 10:51/16:26, 20.30s/i] "
     ]
    },
    {
     "name": "stdout",
     "output_type": "stream",
     "text": [
      "0.00043935672"
     ]
    },
    {
     "name": "stderr",
     "output_type": "stream",
     "text": [
      "┣█████████████▌      ┫ [68.00%, 34/50, 11:11/16:27, 20.37s/i] "
     ]
    },
    {
     "name": "stdout",
     "output_type": "stream",
     "text": [
      "0.00043312757"
     ]
    },
    {
     "name": "stderr",
     "output_type": "stream",
     "text": [
      "┣██████████████      ┫ [70.00%, 35/50, 11:32/16:28, 20.34s/i] "
     ]
    },
    {
     "name": "stdout",
     "output_type": "stream",
     "text": [
      "0.00043149927"
     ]
    },
    {
     "name": "stderr",
     "output_type": "stream",
     "text": [
      "┣██████████████▍     ┫ [72.00%, 36/50, 11:52/16:29, 20.31s/i] "
     ]
    },
    {
     "name": "stdout",
     "output_type": "stream",
     "text": [
      "0.00042361324"
     ]
    },
    {
     "name": "stderr",
     "output_type": "stream",
     "text": [
      "┣██████████████▊     ┫ [74.00%, 37/50, 12:12/16:29, 20.19s/i] "
     ]
    },
    {
     "name": "stdout",
     "output_type": "stream",
     "text": [
      "0.00042024662"
     ]
    },
    {
     "name": "stderr",
     "output_type": "stream",
     "text": [
      "┣███████████████▏    ┫ [76.00%, 38/50, 12:33/16:30, 20.42s/i] "
     ]
    },
    {
     "name": "stdout",
     "output_type": "stream",
     "text": [
      "0.00041287657"
     ]
    },
    {
     "name": "stderr",
     "output_type": "stream",
     "text": [
      "┣███████████████▌    ┫ [78.00%, 39/50, 12:53/16:31, 20.32s/i] "
     ]
    },
    {
     "name": "stdout",
     "output_type": "stream",
     "text": [
      "0.0004064636"
     ]
    },
    {
     "name": "stderr",
     "output_type": "stream",
     "text": [
      "┣████████████████    ┫ [80.00%, 40/50, 13:13/16:31, 20.26s/i] "
     ]
    },
    {
     "name": "stdout",
     "output_type": "stream",
     "text": [
      "0.00040606814"
     ]
    },
    {
     "name": "stderr",
     "output_type": "stream",
     "text": [
      "┣████████████████▍   ┫ [82.00%, 41/50, 13:34/16:32, 20.40s/i] "
     ]
    },
    {
     "name": "stdout",
     "output_type": "stream",
     "text": [
      "0.00039673978"
     ]
    },
    {
     "name": "stderr",
     "output_type": "stream",
     "text": [
      "┣████████████████▊   ┫ [84.00%, 42/50, 13:54/16:32, 20.18s/i] "
     ]
    },
    {
     "name": "stdout",
     "output_type": "stream",
     "text": [
      "0.0003954278"
     ]
    },
    {
     "name": "stderr",
     "output_type": "stream",
     "text": [
      "┣█████████████████▏  ┫ [86.00%, 43/50, 14:15/16:34, 21.57s/i] "
     ]
    },
    {
     "name": "stdout",
     "output_type": "stream",
     "text": [
      "0.0003898648"
     ]
    },
    {
     "name": "stderr",
     "output_type": "stream",
     "text": [
      "┣█████████████████▌  ┫ [88.00%, 44/50, 14:38/16:38, 22.63s/i] "
     ]
    },
    {
     "name": "stdout",
     "output_type": "stream",
     "text": [
      "0.0003872099"
     ]
    },
    {
     "name": "stderr",
     "output_type": "stream",
     "text": [
      "┣██████████████████  ┫ [90.00%, 45/50, 15:00/16:40, 22.49s/i] "
     ]
    },
    {
     "name": "stdout",
     "output_type": "stream",
     "text": [
      "0.00038468838"
     ]
    },
    {
     "name": "stderr",
     "output_type": "stream",
     "text": [
      "┣██████████████████▍ ┫ [92.00%, 46/50, 15:22/16:42, 21.59s/i] "
     ]
    },
    {
     "name": "stdout",
     "output_type": "stream",
     "text": [
      "0.0003817471"
     ]
    },
    {
     "name": "stderr",
     "output_type": "stream",
     "text": [
      "┣██████████████████▊ ┫ [94.00%, 47/50, 15:43/16:43, 21.09s/i] "
     ]
    },
    {
     "name": "stdout",
     "output_type": "stream",
     "text": [
      "0.0003767978"
     ]
    },
    {
     "name": "stderr",
     "output_type": "stream",
     "text": [
      "┣███████████████████▏┫ [96.00%, 48/50, 16:05/16:45, 22.10s/i] "
     ]
    },
    {
     "name": "stdout",
     "output_type": "stream",
     "text": [
      "0.00037792424"
     ]
    },
    {
     "name": "stderr",
     "output_type": "stream",
     "text": [
      "┣███████████████████▌┫ [98.00%, 49/50, 16:28/16:48, 22.60s/i] "
     ]
    },
    {
     "name": "stdout",
     "output_type": "stream",
     "text": [
      "0.0003927586"
     ]
    },
    {
     "name": "stderr",
     "output_type": "stream",
     "text": [
      "┣████████████████████┫ [100.00%, 50/50, 16:50/16:50, 22.73s/i] "
     ]
    },
    {
     "name": "stdout",
     "output_type": "stream",
     "text": [
      "0.00037089133"
     ]
    },
    {
     "name": "stderr",
     "output_type": "stream",
     "text": [
      "┣████████████████████┫ [100.00%, 50/50, 17:13/17:13, 20.66s/i] \n"
     ]
    },
    {
     "name": "stdout",
     "output_type": "stream",
     "text": [
      "0.0003658837"
     ]
    }
   ],
   "source": [
    "nz = 256\n",
    "ngf = 16\n",
    "# nc = 1\n",
    "\n",
    "# first batch of the test dataset\n",
    "x_test_first = first(dtst);\n",
    "\n",
    "# define model weights\n",
    "theta = weights(nc, nz,  ngf);\n",
    "\n",
    "# Define Learning Rate and Number of Epochs\n",
    "lr = 2*1e-4\n",
    "n_epochs = 50\n",
    "\n",
    "# optim = Knet.Adam(lr = lr, beta1 = 0.9, beta2 = 0.999)\n",
    "\n",
    "# Specify the optimizer for each param\n",
    "for p in params(theta)\n",
    "    p.opt =  Knet.Adam(lr = lr, beta1 = 0.9, beta2 = 0.999)\n",
    "end\n",
    "# Initialize Empty Lists for both training and test losses\n",
    "trn_loss_list0 = Float64[]\n",
    "tst_loss_list0 = Float64[]\n",
    "\n",
    "# RECORD INITIAL LOSS VALUES\n",
    "epoch_loss_trn_ = loss_train(theta, dtrn)\n",
    "epoch_loss_tst_ = loss_train(theta, dtst)\n",
    "push!(trn_loss_list0, epoch_loss_trn_)\n",
    "push!(tst_loss_list0, epoch_loss_tst_)\n",
    "\n",
    "# Training Loop\n",
    "for epoch in progress(1:n_epochs)\n",
    "    for (i,x) in enumerate(dtrn)\n",
    "        \n",
    "        derivative_model = @diff loss_train(theta, x)\n",
    "        \n",
    "        for p in theta\n",
    "            dp = grad(derivative_model, p)\n",
    "            update!(value(p), dp, p.opt)\n",
    "        end\n",
    "\n",
    "    end\n",
    "    \n",
    "    epoch_loss_trn = loss_train(theta, dtrn)\n",
    "    epoch_loss_tst = loss_train(theta, dtst)\n",
    "    print(epoch_loss_trn)\n",
    "    push!(trn_loss_list0, epoch_loss_trn)\n",
    "    push!(tst_loss_list0, epoch_loss_tst)\n",
    "end"
   ]
  },
  {
   "cell_type": "markdown",
   "metadata": {},
   "source": [
    "# Train with RELU"
   ]
  },
  {
   "cell_type": "code",
   "execution_count": 3,
   "metadata": {},
   "outputs": [
    {
     "name": "stderr",
     "output_type": "stream",
     "text": [
      "┣▊                   ┫ [4.00%, 2/50, 00:21/08:55, 21.40s/i] "
     ]
    },
    {
     "name": "stdout",
     "output_type": "stream",
     "text": [
      "0.009941836"
     ]
    },
    {
     "name": "stderr",
     "output_type": "stream",
     "text": [
      "┣█▏                  ┫ [6.00%, 3/50, 00:43/11:53, 21.40s/i] "
     ]
    },
    {
     "name": "stdout",
     "output_type": "stream",
     "text": [
      "0.0037082562"
     ]
    },
    {
     "name": "stderr",
     "output_type": "stream",
     "text": [
      "┣█▌                  ┫ [8.00%, 4/50, 01:05/13:37, 22.60s/i] "
     ]
    },
    {
     "name": "stdout",
     "output_type": "stream",
     "text": [
      "0.002547899"
     ]
    },
    {
     "name": "stderr",
     "output_type": "stream",
     "text": [
      "┣██                  ┫ [10.00%, 5/50, 01:28/14:39, 22.47s/i] "
     ]
    },
    {
     "name": "stdout",
     "output_type": "stream",
     "text": [
      "0.002513301"
     ]
    },
    {
     "name": "stderr",
     "output_type": "stream",
     "text": [
      "┣██▍                 ┫ [12.00%, 6/50, 01:50/15:16, 22.00s/i] "
     ]
    },
    {
     "name": "stdout",
     "output_type": "stream",
     "text": [
      "0.0018840729"
     ]
    },
    {
     "name": "stderr",
     "output_type": "stream",
     "text": [
      "┣██▊                 ┫ [14.00%, 7/50, 02:11/15:35, 21.01s/i] "
     ]
    },
    {
     "name": "stdout",
     "output_type": "stream",
     "text": [
      "0.001974415"
     ]
    },
    {
     "name": "stderr",
     "output_type": "stream",
     "text": [
      "┣███▏                ┫ [16.00%, 8/50, 02:33/15:56, 22.03s/i] "
     ]
    },
    {
     "name": "stdout",
     "output_type": "stream",
     "text": [
      "0.0016034611"
     ]
    },
    {
     "name": "stderr",
     "output_type": "stream",
     "text": [
      "┣███▌                ┫ [18.00%, 9/50, 02:55/16:14, 22.50s/i] "
     ]
    },
    {
     "name": "stdout",
     "output_type": "stream",
     "text": [
      "0.0016492559"
     ]
    },
    {
     "name": "stderr",
     "output_type": "stream",
     "text": [
      "┣████                ┫ [20.00%, 10/50, 03:18/16:30, 22.64s/i] "
     ]
    },
    {
     "name": "stdout",
     "output_type": "stream",
     "text": [
      "0.0014638888"
     ]
    },
    {
     "name": "stderr",
     "output_type": "stream",
     "text": [
      "┣████▍               ┫ [22.00%, 11/50, 03:40/16:39, 21.81s/i] "
     ]
    },
    {
     "name": "stdout",
     "output_type": "stream",
     "text": [
      "0.0013010417"
     ]
    },
    {
     "name": "stderr",
     "output_type": "stream",
     "text": [
      "┣████▊               ┫ [24.00%, 12/50, 04:01/16:45, 21.30s/i] "
     ]
    },
    {
     "name": "stdout",
     "output_type": "stream",
     "text": [
      "0.0012347972"
     ]
    },
    {
     "name": "stderr",
     "output_type": "stream",
     "text": [
      "┣█████▏              ┫ [26.00%, 13/50, 04:23/16:52, 21.88s/i] "
     ]
    },
    {
     "name": "stdout",
     "output_type": "stream",
     "text": [
      "0.0018171852"
     ]
    },
    {
     "name": "stderr",
     "output_type": "stream",
     "text": [
      "┣█████▌              ┫ [28.00%, 14/50, 04:46/17:00, 22.66s/i] "
     ]
    },
    {
     "name": "stdout",
     "output_type": "stream",
     "text": [
      "0.0013989253"
     ]
    },
    {
     "name": "stderr",
     "output_type": "stream",
     "text": [
      "┣██████              ┫ [30.00%, 15/50, 05:08/17:08, 22.70s/i] "
     ]
    },
    {
     "name": "stdout",
     "output_type": "stream",
     "text": [
      "0.0010717947"
     ]
    },
    {
     "name": "stderr",
     "output_type": "stream",
     "text": [
      "┣██████▍             ┫ [32.00%, 16/50, 05:30/17:11, 21.67s/i] "
     ]
    },
    {
     "name": "stdout",
     "output_type": "stream",
     "text": [
      "0.0012816932"
     ]
    },
    {
     "name": "stderr",
     "output_type": "stream",
     "text": [
      "┣██████▊             ┫ [34.00%, 17/50, 05:52/17:14, 21.46s/i] "
     ]
    },
    {
     "name": "stdout",
     "output_type": "stream",
     "text": [
      "0.0010053364"
     ]
    },
    {
     "name": "stderr",
     "output_type": "stream",
     "text": [
      "┣███████▏            ┫ [36.00%, 18/50, 06:14/17:18, 22.15s/i] "
     ]
    },
    {
     "name": "stdout",
     "output_type": "stream",
     "text": [
      "0.001042872"
     ]
    },
    {
     "name": "stderr",
     "output_type": "stream",
     "text": [
      "┣███████▌            ┫ [38.00%, 19/50, 06:36/17:23, 22.78s/i] "
     ]
    },
    {
     "name": "stdout",
     "output_type": "stream",
     "text": [
      "0.0010375048"
     ]
    },
    {
     "name": "stderr",
     "output_type": "stream",
     "text": [
      "┣████████            ┫ [40.00%, 20/50, 06:59/17:28, 22.73s/i] "
     ]
    },
    {
     "name": "stdout",
     "output_type": "stream",
     "text": [
      "0.0009440344"
     ]
    },
    {
     "name": "stderr",
     "output_type": "stream",
     "text": [
      "┣████████▍           ┫ [42.00%, 21/50, 07:21/17:29, 21.41s/i] "
     ]
    },
    {
     "name": "stdout",
     "output_type": "stream",
     "text": [
      "0.0010072582"
     ]
    },
    {
     "name": "stderr",
     "output_type": "stream",
     "text": [
      "┣████████▊           ┫ [44.00%, 22/50, 07:42/17:31, 21.64s/i] "
     ]
    },
    {
     "name": "stdout",
     "output_type": "stream",
     "text": [
      "0.0009139507"
     ]
    },
    {
     "name": "stderr",
     "output_type": "stream",
     "text": [
      "┣█████████▏          ┫ [46.00%, 23/50, 08:04/17:33, 22.22s/i] "
     ]
    },
    {
     "name": "stdout",
     "output_type": "stream",
     "text": [
      "0.00092834095"
     ]
    },
    {
     "name": "stderr",
     "output_type": "stream",
     "text": [
      "┣█████████▌          ┫ [48.00%, 24/50, 08:27/17:37, 22.69s/i] "
     ]
    },
    {
     "name": "stdout",
     "output_type": "stream",
     "text": [
      "0.00091459986"
     ]
    },
    {
     "name": "stderr",
     "output_type": "stream",
     "text": [
      "┣██████████          ┫ [50.00%, 25/50, 08:50/17:40, 22.83s/i] "
     ]
    },
    {
     "name": "stdout",
     "output_type": "stream",
     "text": [
      "0.00088690885"
     ]
    },
    {
     "name": "stderr",
     "output_type": "stream",
     "text": [
      "┣██████████▍         ┫ [52.00%, 26/50, 09:11/17:40, 21.34s/i] "
     ]
    },
    {
     "name": "stdout",
     "output_type": "stream",
     "text": [
      "0.0008766756"
     ]
    },
    {
     "name": "stderr",
     "output_type": "stream",
     "text": [
      "┣██████████▊         ┫ [54.00%, 27/50, 09:33/17:41, 21.85s/i] "
     ]
    },
    {
     "name": "stdout",
     "output_type": "stream",
     "text": [
      "0.0008285372"
     ]
    },
    {
     "name": "stderr",
     "output_type": "stream",
     "text": [
      "┣███████████▏        ┫ [56.00%, 28/50, 09:56/17:44, 22.48s/i] "
     ]
    },
    {
     "name": "stdout",
     "output_type": "stream",
     "text": [
      "0.000846576"
     ]
    },
    {
     "name": "stderr",
     "output_type": "stream",
     "text": [
      "┣███████████▌        ┫ [58.00%, 29/50, 10:19/17:47, 22.91s/i] "
     ]
    },
    {
     "name": "stdout",
     "output_type": "stream",
     "text": [
      "0.00085328985"
     ]
    },
    {
     "name": "stderr",
     "output_type": "stream",
     "text": [
      "┣████████████        ┫ [60.00%, 30/50, 10:41/17:49, 22.84s/i] "
     ]
    },
    {
     "name": "stdout",
     "output_type": "stream",
     "text": [
      "0.0008046957"
     ]
    },
    {
     "name": "stderr",
     "output_type": "stream",
     "text": [
      "┣████████████▍       ┫ [62.00%, 31/50, 11:02/17:49, 21.07s/i] "
     ]
    },
    {
     "name": "stdout",
     "output_type": "stream",
     "text": [
      "0.0008190294"
     ]
    },
    {
     "name": "stderr",
     "output_type": "stream",
     "text": [
      "┣████████████▊       ┫ [64.00%, 32/50, 11:25/17:50, 22.08s/i] "
     ]
    },
    {
     "name": "stdout",
     "output_type": "stream",
     "text": [
      "0.0007837992"
     ]
    },
    {
     "name": "stderr",
     "output_type": "stream",
     "text": [
      "┣█████████████▏      ┫ [66.00%, 33/50, 11:48/17:52, 23.08s/i] "
     ]
    },
    {
     "name": "stdout",
     "output_type": "stream",
     "text": [
      "0.00077222363"
     ]
    },
    {
     "name": "stderr",
     "output_type": "stream",
     "text": [
      "┣█████████████▌      ┫ [68.00%, 34/50, 12:10/17:54, 22.81s/i] "
     ]
    },
    {
     "name": "stdout",
     "output_type": "stream",
     "text": [
      "0.00080226787"
     ]
    },
    {
     "name": "stderr",
     "output_type": "stream",
     "text": [
      "┣██████████████      ┫ [70.00%, 35/50, 12:33/17:56, 22.86s/i] "
     ]
    },
    {
     "name": "stdout",
     "output_type": "stream",
     "text": [
      "0.0007549655"
     ]
    },
    {
     "name": "stderr",
     "output_type": "stream",
     "text": [
      "┣██████████████▍     ┫ [72.00%, 36/50, 12:54/17:55, 20.96s/i] "
     ]
    },
    {
     "name": "stdout",
     "output_type": "stream",
     "text": [
      "0.00076764077"
     ]
    },
    {
     "name": "stderr",
     "output_type": "stream",
     "text": [
      "┣██████████████▊     ┫ [74.00%, 37/50, 13:17/17:56, 22.26s/i] "
     ]
    },
    {
     "name": "stdout",
     "output_type": "stream",
     "text": [
      "0.000857012"
     ]
    },
    {
     "name": "stderr",
     "output_type": "stream",
     "text": [
      "┣███████████████▏    ┫ [76.00%, 38/50, 13:40/17:58, 23.10s/i] "
     ]
    },
    {
     "name": "stdout",
     "output_type": "stream",
     "text": [
      "0.0007463071"
     ]
    },
    {
     "name": "stderr",
     "output_type": "stream",
     "text": [
      "┣███████████████▌    ┫ [78.00%, 39/50, 14:03/18:00, 23.06s/i] "
     ]
    },
    {
     "name": "stdout",
     "output_type": "stream",
     "text": [
      "0.00088434835"
     ]
    },
    {
     "name": "stderr",
     "output_type": "stream",
     "text": [
      "┣████████████████    ┫ [80.00%, 40/50, 14:25/18:01, 22.45s/i] "
     ]
    },
    {
     "name": "stdout",
     "output_type": "stream",
     "text": [
      "0.00081129576"
     ]
    },
    {
     "name": "stderr",
     "output_type": "stream",
     "text": [
      "┣████████████████▍   ┫ [82.00%, 41/50, 14:47/18:01, 21.42s/i] "
     ]
    },
    {
     "name": "stdout",
     "output_type": "stream",
     "text": [
      "0.00077566004"
     ]
    },
    {
     "name": "stderr",
     "output_type": "stream",
     "text": [
      "┣████████████████▊   ┫ [84.00%, 42/50, 15:09/18:02, 22.39s/i] "
     ]
    },
    {
     "name": "stdout",
     "output_type": "stream",
     "text": [
      "0.001254526"
     ]
    },
    {
     "name": "stderr",
     "output_type": "stream",
     "text": [
      "┣█████████████████▏  ┫ [86.00%, 43/50, 15:32/18:04, 23.17s/i] "
     ]
    },
    {
     "name": "stdout",
     "output_type": "stream",
     "text": [
      "0.00074116746"
     ]
    },
    {
     "name": "stderr",
     "output_type": "stream",
     "text": [
      "┣█████████████████▌  ┫ [88.00%, 44/50, 15:55/18:05, 23.08s/i] "
     ]
    },
    {
     "name": "stdout",
     "output_type": "stream",
     "text": [
      "0.0007614348"
     ]
    },
    {
     "name": "stderr",
     "output_type": "stream",
     "text": [
      "┣██████████████████  ┫ [90.00%, 45/50, 16:17/18:06, 22.10s/i] "
     ]
    },
    {
     "name": "stdout",
     "output_type": "stream",
     "text": [
      "0.00072747946"
     ]
    },
    {
     "name": "stderr",
     "output_type": "stream",
     "text": [
      "┣██████████████████▍ ┫ [92.00%, 46/50, 16:39/18:06, 21.88s/i] "
     ]
    },
    {
     "name": "stdout",
     "output_type": "stream",
     "text": [
      "0.0007778835"
     ]
    },
    {
     "name": "stderr",
     "output_type": "stream",
     "text": [
      "┣██████████████████▊ ┫ [94.00%, 47/50, 17:01/18:06, 22.14s/i] "
     ]
    },
    {
     "name": "stdout",
     "output_type": "stream",
     "text": [
      "0.00076894404"
     ]
    },
    {
     "name": "stderr",
     "output_type": "stream",
     "text": [
      "┣███████████████████▏┫ [96.00%, 48/50, 17:24/18:08, 23.19s/i] "
     ]
    },
    {
     "name": "stdout",
     "output_type": "stream",
     "text": [
      "0.00074820966"
     ]
    },
    {
     "name": "stderr",
     "output_type": "stream",
     "text": [
      "┣███████████████████▌┫ [98.00%, 49/50, 17:48/18:09, 23.05s/i] "
     ]
    },
    {
     "name": "stdout",
     "output_type": "stream",
     "text": [
      "0.00070881064"
     ]
    },
    {
     "name": "stderr",
     "output_type": "stream",
     "text": [
      "┣████████████████████┫ [100.00%, 50/50, 18:09/18:09, 21.95s/i] "
     ]
    },
    {
     "name": "stdout",
     "output_type": "stream",
     "text": [
      "0.0007333916"
     ]
    },
    {
     "name": "stderr",
     "output_type": "stream",
     "text": [
      "┣████████████████████┫ [100.00%, 50/50, 18:32/18:32, 22.23s/i] \n"
     ]
    },
    {
     "name": "stdout",
     "output_type": "stream",
     "text": [
      "0.0006910065"
     ]
    }
   ],
   "source": [
    "function decode(theta, z; batch_size = 64, training = true)\n",
    "    \n",
    "    z = deconv4(theta[1], z, mode = 1) .+ theta[2]\n",
    "    z = mybatchnorm(z, moments1, theta[3]; training = training)\n",
    "    z = Knet.relu.(z)\n",
    "    \n",
    "    z = deconv4(theta[4], z, mode = 1, stride = 2, padding = 1) .+ theta[5]\n",
    "    z = mybatchnorm(z, moments2, theta[6]; training = training)\n",
    "    z = Knet.relu.(z)\n",
    "    \n",
    "    z = deconv4(theta[7], z, mode = 1, stride = 2, padding = 1) .+ theta[8]\n",
    "    z = mybatchnorm(z, moments3, theta[9]; training = training)\n",
    "    z = Knet.relu.(z)\n",
    "    \n",
    "    z = deconv4(theta[10], z, mode = 1, stride = 2, padding = 1) .+ theta[11]\n",
    "    x_hat = Knet.sigm.(z)\n",
    "    return x_hat\n",
    "    \n",
    "end\n",
    "\n",
    "nz = 256\n",
    "ngf = 16\n",
    "# nc = 1\n",
    "\n",
    "# first batch of the test dataset\n",
    "x_test_first = first(dtst);\n",
    "\n",
    "# define model weights\n",
    "theta = weights(nc, nz,  ngf);\n",
    "\n",
    "# Define Learning Rate and Number of Epochs\n",
    "lr = 2*1e-4\n",
    "# n_epochs = 3\n",
    "\n",
    "# optim = Knet.Adam(lr = lr, beta1 = 0.9, beta2 = 0.999)\n",
    "\n",
    "# Specify the optimizer for each param\n",
    "for p in params(theta)\n",
    "    p.opt =  Knet.Adam(lr = lr, beta1 = 0.9, beta2 = 0.999)\n",
    "end\n",
    "# Initialize Empty Lists for both training and test losses\n",
    "trn_loss_list1 = Float64[]\n",
    "tst_loss_list1 = Float64[]\n",
    "\n",
    "# RECORD INITIAL LOSS VALUES\n",
    "epoch_loss_trn_ = loss_train(theta, dtrn)\n",
    "epoch_loss_tst_ = loss_train(theta, dtst)\n",
    "push!(trn_loss_list1, epoch_loss_trn_)\n",
    "push!(tst_loss_list1, epoch_loss_tst_)\n",
    "\n",
    "# Training Loop\n",
    "for epoch in progress(1:n_epochs)\n",
    "    for (i,x) in enumerate(dtrn)\n",
    "        \n",
    "        derivative_model = @diff loss_train(theta, x)\n",
    "        \n",
    "        for p in theta\n",
    "            dp = grad(derivative_model, p)\n",
    "            update!(value(p), dp, p.opt)\n",
    "        end\n",
    "\n",
    "    end\n",
    "    \n",
    "    epoch_loss_trn = loss_train(theta, dtrn)\n",
    "    epoch_loss_tst = loss_train(theta, dtst)\n",
    "    print(epoch_loss_trn)\n",
    "    push!(trn_loss_list1, epoch_loss_trn)\n",
    "    push!(tst_loss_list1, epoch_loss_tst)\n",
    "end"
   ]
  },
  {
   "cell_type": "markdown",
   "metadata": {},
   "source": [
    "# Train with SELU"
   ]
  },
  {
   "cell_type": "code",
   "execution_count": 4,
   "metadata": {},
   "outputs": [
    {
     "name": "stderr",
     "output_type": "stream",
     "text": [
      "┣▊                   ┫ [4.00%, 2/50, 00:24/10:05, 24.20s/i] "
     ]
    },
    {
     "name": "stdout",
     "output_type": "stream",
     "text": [
      "0.0035211989"
     ]
    },
    {
     "name": "stderr",
     "output_type": "stream",
     "text": [
      "┣█▏                  ┫ [6.00%, 3/50, 00:48/13:14, 23.44s/i] "
     ]
    },
    {
     "name": "stdout",
     "output_type": "stream",
     "text": [
      "0.001607066"
     ]
    },
    {
     "name": "stderr",
     "output_type": "stream",
     "text": [
      "┣█▌                  ┫ [8.00%, 4/50, 01:11/14:42, 22.91s/i] "
     ]
    },
    {
     "name": "stdout",
     "output_type": "stream",
     "text": [
      "0.0012336688"
     ]
    },
    {
     "name": "stderr",
     "output_type": "stream",
     "text": [
      "┣██                  ┫ [10.00%, 5/50, 01:32/15:24, 21.86s/i] "
     ]
    },
    {
     "name": "stdout",
     "output_type": "stream",
     "text": [
      "0.0010763293"
     ]
    },
    {
     "name": "stderr",
     "output_type": "stream",
     "text": [
      "┣██▍                 ┫ [12.00%, 6/50, 01:55/16:00, 22.75s/i] "
     ]
    },
    {
     "name": "stdout",
     "output_type": "stream",
     "text": [
      "0.000965215"
     ]
    },
    {
     "name": "stderr",
     "output_type": "stream",
     "text": [
      "┣██▊                 ┫ [14.00%, 7/50, 02:19/16:32, 23.65s/i] "
     ]
    },
    {
     "name": "stdout",
     "output_type": "stream",
     "text": [
      "0.00088959397"
     ]
    },
    {
     "name": "stderr",
     "output_type": "stream",
     "text": [
      "┣███▏                ┫ [16.00%, 8/50, 02:42/16:55, 23.53s/i] "
     ]
    },
    {
     "name": "stdout",
     "output_type": "stream",
     "text": [
      "0.00085760857"
     ]
    },
    {
     "name": "stderr",
     "output_type": "stream",
     "text": [
      "┣███▌                ┫ [18.00%, 9/50, 03:05/17:06, 22.37s/i] "
     ]
    },
    {
     "name": "stdout",
     "output_type": "stream",
     "text": [
      "0.00078971335"
     ]
    },
    {
     "name": "stderr",
     "output_type": "stream",
     "text": [
      "┣████                ┫ [20.00%, 10/50, 03:27/17:16, 22.46s/i] "
     ]
    },
    {
     "name": "stdout",
     "output_type": "stream",
     "text": [
      "0.0007650409"
     ]
    },
    {
     "name": "stderr",
     "output_type": "stream",
     "text": [
      "┣████▍               ┫ [22.00%, 11/50, 03:50/17:26, 22.88s/i] "
     ]
    },
    {
     "name": "stdout",
     "output_type": "stream",
     "text": [
      "0.000727038"
     ]
    },
    {
     "name": "stderr",
     "output_type": "stream",
     "text": [
      "┣████▊               ┫ [24.00%, 12/50, 04:14/17:37, 23.69s/i] "
     ]
    },
    {
     "name": "stdout",
     "output_type": "stream",
     "text": [
      "0.0006953268"
     ]
    },
    {
     "name": "stderr",
     "output_type": "stream",
     "text": [
      "┣█████▏              ┫ [26.00%, 13/50, 04:37/17:47, 23.70s/i] "
     ]
    },
    {
     "name": "stdout",
     "output_type": "stream",
     "text": [
      "0.00067778386"
     ]
    },
    {
     "name": "stderr",
     "output_type": "stream",
     "text": [
      "┣█████▌              ┫ [28.00%, 14/50, 04:59/17:49, 21.80s/i] "
     ]
    },
    {
     "name": "stdout",
     "output_type": "stream",
     "text": [
      "0.0006700896"
     ]
    },
    {
     "name": "stderr",
     "output_type": "stream",
     "text": [
      "┣██████              ┫ [30.00%, 15/50, 05:22/17:53, 22.76s/i] "
     ]
    },
    {
     "name": "stdout",
     "output_type": "stream",
     "text": [
      "0.0006485871"
     ]
    },
    {
     "name": "stderr",
     "output_type": "stream",
     "text": [
      "┣██████▍             ┫ [32.00%, 16/50, 05:46/18:01, 23.89s/i] "
     ]
    },
    {
     "name": "stdout",
     "output_type": "stream",
     "text": [
      "0.0006287642"
     ]
    },
    {
     "name": "stderr",
     "output_type": "stream",
     "text": [
      "┣██████▊             ┫ [34.00%, 17/50, 06:10/18:07, 23.67s/i] "
     ]
    },
    {
     "name": "stdout",
     "output_type": "stream",
     "text": [
      "0.00062524044"
     ]
    },
    {
     "name": "stderr",
     "output_type": "stream",
     "text": [
      "┣███████▏            ┫ [36.00%, 18/50, 06:33/18:11, 23.27s/i] "
     ]
    },
    {
     "name": "stdout",
     "output_type": "stream",
     "text": [
      "0.0006133898"
     ]
    },
    {
     "name": "stderr",
     "output_type": "stream",
     "text": [
      "┣███████▌            ┫ [38.00%, 19/50, 06:55/18:11, 21.85s/i] "
     ]
    },
    {
     "name": "stdout",
     "output_type": "stream",
     "text": [
      "0.00060326234"
     ]
    },
    {
     "name": "stderr",
     "output_type": "stream",
     "text": [
      "┣████████            ┫ [40.00%, 20/50, 07:18/18:15, 23.16s/i] "
     ]
    },
    {
     "name": "stdout",
     "output_type": "stream",
     "text": [
      "0.00058221957"
     ]
    },
    {
     "name": "stderr",
     "output_type": "stream",
     "text": [
      "┣████████▍           ┫ [42.00%, 21/50, 07:42/18:19, 23.73s/i] "
     ]
    },
    {
     "name": "stdout",
     "output_type": "stream",
     "text": [
      "0.00057432556"
     ]
    },
    {
     "name": "stderr",
     "output_type": "stream",
     "text": [
      "┣████████▊           ┫ [44.00%, 22/50, 08:05/18:23, 23.76s/i] "
     ]
    },
    {
     "name": "stdout",
     "output_type": "stream",
     "text": [
      "0.00056847563"
     ]
    },
    {
     "name": "stderr",
     "output_type": "stream",
     "text": [
      "┣█████████▏          ┫ [46.00%, 23/50, 08:28/18:24, 22.57s/i] "
     ]
    },
    {
     "name": "stdout",
     "output_type": "stream",
     "text": [
      "0.0005574102"
     ]
    },
    {
     "name": "stderr",
     "output_type": "stream",
     "text": [
      "┣█████████▌          ┫ [48.00%, 24/50, 08:51/18:25, 22.62s/i] "
     ]
    },
    {
     "name": "stdout",
     "output_type": "stream",
     "text": [
      "0.0005490038"
     ]
    },
    {
     "name": "stderr",
     "output_type": "stream",
     "text": [
      "┣██████████          ┫ [50.00%, 25/50, 09:14/18:27, 23.14s/i] "
     ]
    },
    {
     "name": "stdout",
     "output_type": "stream",
     "text": [
      "0.0005338883"
     ]
    },
    {
     "name": "stderr",
     "output_type": "stream",
     "text": [
      "┣██████████▍         ┫ [52.00%, 26/50, 09:37/18:30, 23.76s/i] "
     ]
    },
    {
     "name": "stdout",
     "output_type": "stream",
     "text": [
      "0.0005212819"
     ]
    },
    {
     "name": "stderr",
     "output_type": "stream",
     "text": [
      "┣██████████▊         ┫ [54.00%, 27/50, 10:01/18:33, 23.59s/i] "
     ]
    },
    {
     "name": "stdout",
     "output_type": "stream",
     "text": [
      "0.0005383566"
     ]
    },
    {
     "name": "stderr",
     "output_type": "stream",
     "text": [
      "┣███████████▏        ┫ [56.00%, 28/50, 10:23/18:33, 22.25s/i] "
     ]
    },
    {
     "name": "stdout",
     "output_type": "stream",
     "text": [
      "0.00052059523"
     ]
    },
    {
     "name": "stderr",
     "output_type": "stream",
     "text": [
      "┣███████████▌        ┫ [58.00%, 29/50, 10:45/18:33, 22.08s/i] "
     ]
    },
    {
     "name": "stdout",
     "output_type": "stream",
     "text": [
      "0.0005108037"
     ]
    },
    {
     "name": "stderr",
     "output_type": "stream",
     "text": [
      "┣████████████        ┫ [60.00%, 30/50, 11:08/18:33, 22.22s/i] "
     ]
    },
    {
     "name": "stdout",
     "output_type": "stream",
     "text": [
      "0.0004989798"
     ]
    },
    {
     "name": "stderr",
     "output_type": "stream",
     "text": [
      "┣████████████▍       ┫ [62.00%, 31/50, 11:31/18:34, 23.17s/i] "
     ]
    },
    {
     "name": "stdout",
     "output_type": "stream",
     "text": [
      "0.0004938429"
     ]
    },
    {
     "name": "stderr",
     "output_type": "stream",
     "text": [
      "┣████████████▊       ┫ [64.00%, 32/50, 11:54/18:36, 23.67s/i] "
     ]
    },
    {
     "name": "stdout",
     "output_type": "stream",
     "text": [
      "0.00049255847"
     ]
    },
    {
     "name": "stderr",
     "output_type": "stream",
     "text": [
      "┣█████████████▏      ┫ [66.00%, 33/50, 12:18/18:38, 23.41s/i] "
     ]
    },
    {
     "name": "stdout",
     "output_type": "stream",
     "text": [
      "0.00048241537"
     ]
    },
    {
     "name": "stderr",
     "output_type": "stream",
     "text": [
      "┣█████████████▌      ┫ [68.00%, 34/50, 12:41/18:39, 23.08s/i] "
     ]
    },
    {
     "name": "stdout",
     "output_type": "stream",
     "text": [
      "0.00047862742"
     ]
    },
    {
     "name": "stderr",
     "output_type": "stream",
     "text": [
      "┣██████████████      ┫ [70.00%, 35/50, 13:02/18:38, 21.49s/i] "
     ]
    },
    {
     "name": "stdout",
     "output_type": "stream",
     "text": [
      "0.00049485336"
     ]
    },
    {
     "name": "stderr",
     "output_type": "stream",
     "text": [
      "┣██████████████▍     ┫ [72.00%, 36/50, 13:25/18:39, 23.03s/i] "
     ]
    },
    {
     "name": "stdout",
     "output_type": "stream",
     "text": [
      "0.0004931987"
     ]
    },
    {
     "name": "stderr",
     "output_type": "stream",
     "text": [
      "┣██████████████▊     ┫ [74.00%, 37/50, 13:49/18:41, 23.88s/i] "
     ]
    },
    {
     "name": "stdout",
     "output_type": "stream",
     "text": [
      "0.0004666599"
     ]
    },
    {
     "name": "stderr",
     "output_type": "stream",
     "text": [
      "┣███████████████▏    ┫ [76.00%, 38/50, 14:13/18:43, 23.90s/i] "
     ]
    },
    {
     "name": "stdout",
     "output_type": "stream",
     "text": [
      "0.0004693788"
     ]
    },
    {
     "name": "stderr",
     "output_type": "stream",
     "text": [
      "┣███████████████▌    ┫ [78.00%, 39/50, 14:37/18:44, 23.48s/i] "
     ]
    },
    {
     "name": "stdout",
     "output_type": "stream",
     "text": [
      "0.00046076986"
     ]
    },
    {
     "name": "stderr",
     "output_type": "stream",
     "text": [
      "┣████████████████    ┫ [80.00%, 40/50, 14:59/18:43, 22.06s/i] "
     ]
    },
    {
     "name": "stdout",
     "output_type": "stream",
     "text": [
      "0.00046061617"
     ]
    },
    {
     "name": "stderr",
     "output_type": "stream",
     "text": [
      "┣████████████████▍   ┫ [82.00%, 41/50, 15:22/18:44, 22.84s/i] "
     ]
    },
    {
     "name": "stdout",
     "output_type": "stream",
     "text": [
      "0.00045350604"
     ]
    },
    {
     "name": "stderr",
     "output_type": "stream",
     "text": [
      "┣████████████████▊   ┫ [84.00%, 42/50, 15:46/18:46, 24.05s/i] "
     ]
    },
    {
     "name": "stdout",
     "output_type": "stream",
     "text": [
      "0.0004437881"
     ]
    },
    {
     "name": "stderr",
     "output_type": "stream",
     "text": [
      "┣█████████████████▏  ┫ [86.00%, 43/50, 16:09/18:47, 23.88s/i] "
     ]
    },
    {
     "name": "stdout",
     "output_type": "stream",
     "text": [
      "0.00044100045"
     ]
    },
    {
     "name": "stderr",
     "output_type": "stream",
     "text": [
      "┣█████████████████▌  ┫ [88.00%, 44/50, 16:32/18:48, 22.93s/i] "
     ]
    },
    {
     "name": "stdout",
     "output_type": "stream",
     "text": [
      "0.0004405777"
     ]
    },
    {
     "name": "stderr",
     "output_type": "stream",
     "text": [
      "┣██████████████████  ┫ [90.00%, 45/50, 16:55/18:48, 22.62s/i] "
     ]
    },
    {
     "name": "stdout",
     "output_type": "stream",
     "text": [
      "0.00043621892"
     ]
    },
    {
     "name": "stderr",
     "output_type": "stream",
     "text": [
      "┣██████████████████▍ ┫ [92.00%, 46/50, 17:18/18:49, 23.35s/i] "
     ]
    },
    {
     "name": "stdout",
     "output_type": "stream",
     "text": [
      "0.00044881876"
     ]
    },
    {
     "name": "stderr",
     "output_type": "stream",
     "text": [
      "┣██████████████████▊ ┫ [94.00%, 47/50, 17:42/18:50, 24.05s/i] "
     ]
    },
    {
     "name": "stdout",
     "output_type": "stream",
     "text": [
      "0.0004341028"
     ]
    },
    {
     "name": "stderr",
     "output_type": "stream",
     "text": [
      "┣███████████████████▏┫ [96.00%, 48/50, 18:06/18:52, 23.94s/i] "
     ]
    },
    {
     "name": "stdout",
     "output_type": "stream",
     "text": [
      "0.00042428056"
     ]
    },
    {
     "name": "stderr",
     "output_type": "stream",
     "text": [
      "┣███████████████████▌┫ [98.00%, 49/50, 18:28/18:51, 21.76s/i] "
     ]
    },
    {
     "name": "stdout",
     "output_type": "stream",
     "text": [
      "0.00042172044"
     ]
    },
    {
     "name": "stderr",
     "output_type": "stream",
     "text": [
      "┣████████████████████┫ [100.00%, 50/50, 18:51/18:51, 23.15s/i] "
     ]
    },
    {
     "name": "stdout",
     "output_type": "stream",
     "text": [
      "0.00042650904"
     ]
    },
    {
     "name": "stderr",
     "output_type": "stream",
     "text": [
      "┣████████████████████┫ [100.00%, 50/50, 19:15/19:15, 23.11s/i] \n"
     ]
    },
    {
     "name": "stdout",
     "output_type": "stream",
     "text": [
      "0.00041813828"
     ]
    }
   ],
   "source": [
    "function decode(theta, z; batch_size = 64, training = true)\n",
    "    \n",
    "    z = deconv4(theta[1], z, mode = 1) .+ theta[2]\n",
    "    z = mybatchnorm(z, moments1, theta[3]; training = training)\n",
    "    z = Knet.selu.(z)\n",
    "    \n",
    "    z = deconv4(theta[4], z, mode = 1, stride = 2, padding = 1) .+ theta[5]\n",
    "    z = mybatchnorm(z, moments2, theta[6]; training = training)\n",
    "    z = Knet.selu.(z)\n",
    "    \n",
    "    z = deconv4(theta[7], z, mode = 1, stride = 2, padding = 1) .+ theta[8]\n",
    "    z = mybatchnorm(z, moments3, theta[9]; training = training)\n",
    "    z = Knet.selu.(z)\n",
    "    \n",
    "    z = deconv4(theta[10], z, mode = 1, stride = 2, padding = 1) .+ theta[11]\n",
    "    x_hat = Knet.sigm.(z)\n",
    "    return x_hat\n",
    "    \n",
    "end\n",
    "\n",
    "nz = 256\n",
    "ngf = 16\n",
    "# nc = 1\n",
    "\n",
    "# first batch of the test dataset\n",
    "x_test_first = first(dtst);\n",
    "\n",
    "# define model weights\n",
    "theta = weights(nc, nz,  ngf);\n",
    "\n",
    "# Define Learning Rate and Number of Epochs\n",
    "lr = 2*1e-4\n",
    "# n_epochs = 3\n",
    "\n",
    "# optim = Knet.Adam(lr = lr, beta1 = 0.9, beta2 = 0.999)\n",
    "\n",
    "# Specify the optimizer for each param\n",
    "for p in params(theta)\n",
    "    p.opt =  Knet.Adam(lr = lr, beta1 = 0.9, beta2 = 0.999)\n",
    "end\n",
    "# Initialize Empty Lists for both training and test losses\n",
    "trn_loss_list2 = Float64[]\n",
    "tst_loss_list2 = Float64[]\n",
    "\n",
    "# RECORD INITIAL LOSS VALUES\n",
    "epoch_loss_trn_ = loss_train(theta, dtrn)\n",
    "epoch_loss_tst_ = loss_train(theta, dtst)\n",
    "push!(trn_loss_list2, epoch_loss_trn_)\n",
    "push!(tst_loss_list2, epoch_loss_tst_)\n",
    "\n",
    "# Training Loop\n",
    "for epoch in progress(1:n_epochs)\n",
    "    for (i,x) in enumerate(dtrn)\n",
    "        \n",
    "        derivative_model = @diff loss_train(theta, x)\n",
    "        \n",
    "        for p in theta\n",
    "            dp = grad(derivative_model, p)\n",
    "            update!(value(p), dp, p.opt)\n",
    "        end\n",
    "\n",
    "    end\n",
    "    \n",
    "    epoch_loss_trn = loss_train(theta, dtrn)\n",
    "    epoch_loss_tst = loss_train(theta, dtst)\n",
    "    print(epoch_loss_trn)\n",
    "    push!(trn_loss_list2, epoch_loss_trn)\n",
    "    push!(tst_loss_list2, epoch_loss_tst)\n",
    "end"
   ]
  },
  {
   "cell_type": "code",
   "execution_count": 10,
   "metadata": {},
   "outputs": [],
   "source": [
    "title = \"\"\n",
    "figsize = (1000,750)\n",
    "epochs = 1:n_epochs\n",
    "\n",
    "plot(epochs,trn_loss_list0[2:end] ,label = \"ELU\", xlabel = \"Epochs\", ylabel = \"Loss\",\n",
    "title = title, minorgrid = true, xtickfontsize = 18,\n",
    "ytickfontsize = 18, legendfontsize = 18, xguidefontsize=18, \n",
    "yguidefontsize=18, titlefontsize = 20, size = figsize, thickness_scaling = 1, tickfontsize=20,linewidth=5)\n",
    "\n",
    "plot!(epochs,trn_loss_list1[2:end]  ,label = \"RELU\", xlabel = \"Epochs\", ylabel = \"Loss\",\n",
    "title = title, minorgrid = true, xtickfontsize = 18,\n",
    "ytickfontsize = 18, legendfontsize = 18, xguidefontsize=18, \n",
    "yguidefontsize=18, titlefontsize = 20, size = figsize, thickness_scaling = 1, tickfontsize=20,linewidth=5)\n",
    "\n",
    "plot!(epochs,trn_loss_list2[2:end]  ,label = \"SELU\", xlabel = \"Epochs\", ylabel = \"Loss\",\n",
    "title = title, minorgrid = true, xtickfontsize = 18,\n",
    "ytickfontsize = 18, legendfontsize = 18, xguidefontsize=18, \n",
    "yguidefontsize=18, titlefontsize = 20, size = figsize, thickness_scaling = 1, tickfontsize=20,linewidth=5)\n",
    "\n",
    "fig_name = \"Ablation_Study_Activation\"\n",
    "savefig(joinpath(\"Ablation_Studies\",fig_name))"
   ]
  },
  {
   "cell_type": "code",
   "execution_count": null,
   "metadata": {},
   "outputs": [],
   "source": []
  }
 ],
 "metadata": {
  "kernelspec": {
   "display_name": "Julia 1.6.3",
   "language": "julia",
   "name": "julia-1.6"
  },
  "language_info": {
   "file_extension": ".jl",
   "mimetype": "application/julia",
   "name": "julia",
   "version": "1.6.3"
  }
 },
 "nbformat": 4,
 "nbformat_minor": 2
}
