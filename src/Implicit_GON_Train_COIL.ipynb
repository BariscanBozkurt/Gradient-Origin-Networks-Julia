{
 "cells": [
  {
   "cell_type": "code",
   "execution_count": 1,
   "metadata": {},
   "outputs": [],
   "source": [
    "# Set display width, load packages, import symbols\n",
    "ENV[\"COLUMNS\"]=72\n",
    "using Distributions\n",
    "using Interpolations\n",
    "using Knet: Knet, dir, accuracy, progress, sgd, load143, save, gc, Param, KnetArray, Data, minibatch, nll, relu, training, dropout,sigm # param, param0, xavier_uniform\n",
    "using Knet\n",
    "using Images\n",
    "using Plots\n",
    "using LinearAlgebra\n",
    "using IterTools: ncycle, takenth\n",
    "using MLDatasets\n",
    "using Base.Iterators: flatten\n",
    "import CUDA # functional\n",
    "using ImageTransformations\n",
    "using Statistics\n",
    "using Memento\n",
    "using NPZ\n",
    "using Images\n",
    "# using ImageView\n",
    "using Random\n",
    "# using Interpolations\n",
    "atype=(CUDA.functional() ? KnetArray{Float32} : Array{Float32})\n",
    "\n",
    "const F = Float32\n",
    "params = Knet.params\n",
    "\n",
    "logger = Memento.config!(\"info\"; fmt=\"[{date} | {level} | {name}]: {msg}\");\n",
    "\n",
    "include(\"PlotUtility.jl\")\n",
    "include(\"ImageUtility.jl\")\n",
    "include(\"TrainUtility.jl\")\n",
    "include(\"LayerUtility.jl\")\n",
    "include(\"LossUtility.jl\")\n",
    "\n",
    "using .PlotUtility\n",
    "using .ImageUtility\n",
    "using .TrainUtility\n",
    "using .LayerUtility\n",
    "using .LossUtility\n",
    "\n",
    "\n",
    "########################### CHANGE THIS LINE FOR DATASET PARAMETER ##############################\n",
    "dataset_name = \"coil\"\n",
    "exp_number = 1\n",
    "########################### CHANGE THIS LINE FOR RESULT FOLDER NAME #############################\n",
    "notebook_name = \"Implicit_GON_COIL\" * \"_\" * dataset_name * string(exp_number)\n",
    "\n",
    "if !isdir(\"Results\")\n",
    "   mkdir(\"Results\") \n",
    "end\n",
    "if  !isdir(joinpath(\"Results\", notebook_name))\n",
    "    mkdir(joinpath(\"Results\", notebook_name))\n",
    "end\n",
    "\n",
    "if  !isdir(joinpath(\"Results\", notebook_name, \"Saved_Models\"))\n",
    "    mkdir(joinpath(\"Results\", notebook_name, \"Saved_Models\"))\n",
    "end\n",
    "\n",
    "if  !isdir(joinpath(\"Results\", notebook_name, \"Images\"))\n",
    "    mkdir(joinpath(\"Results\", notebook_name, \"Images\"))\n",
    "end\n",
    "\n",
    "if  !isdir(joinpath(\"Results\", notebook_name, \"Logger\"))\n",
    "    mkdir(joinpath(\"Results\", notebook_name, \"Logger\"))\n",
    "end\n",
    "\n",
    "push!(logger, DefaultHandler(joinpath(\"Results\", notebook_name, \"Logger\", \"logger.log\"),DefaultFormatter(\"[{date} | {level} | {name}]: {msg}\")));\n",
    "\n",
    "nc = 1\n",
    "\n",
    "coil_path = \"Data/coil20\"\n",
    "\n",
    "function load_coil_dataset(coil_path; nx = 128, nz = 128)\n",
    "    image_names = readdir(coil_path)\n",
    "    n_images = length(image_names)\n",
    "    images = Array{Float64}(zeros(128,128, n_images))\n",
    "    for i = 1:n_images\n",
    "        img = load(joinpath(coil_path, image_names[i]))\n",
    "        images[:,:,i] = convert(Array{Float64}, img)\n",
    "    end\n",
    "    return images\n",
    "end\n",
    "\n",
    "# ################ READ AND CREATE TRAIN TEST DATA #############################\n",
    "coil = load_coil_dataset(coil_path);\n",
    "nc = 1\n",
    "dataset_size = size(coil,3)\n",
    "trn_perc = 0.8\n",
    "trn_size = Int(dataset_size * trn_perc)\n",
    "random_permutation = randperm(dataset_size)\n",
    "trn_idx = random_permutation[1:trn_size]\n",
    "tst_idx = random_permutation[trn_size + 1:end]\n",
    "xtrn = coil[:,:,trn_idx]\n",
    "xtrn = resize_gray_image_tensor(xtrn, 1/4)\n",
    "xtst = coil[:,:,tst_idx];\n",
    "xtst = resize_gray_image_tensor(xtst, 1/4)\n",
    "batch_size = 64\n",
    "\n",
    "dtrn = minibatch(xtrn, batch_size; xsize = (32* 32, nc,:), xtype = atype, shuffle = true)\n",
    "dtst = minibatch(xtst, batch_size; xsize = (32* 32, nc,:), xtype = atype);"
   ]
  },
  {
   "cell_type": "code",
   "execution_count": 2,
   "metadata": {},
   "outputs": [
    {
     "data": {
      "text/plain": [
       "SIREN_Layer_Weight_Init (generic function with 1 method)"
      ]
     },
     "execution_count": 2,
     "metadata": {},
     "output_type": "execute_result"
    }
   ],
   "source": [
    "function SIREN_Layer_Weight_Init(i, o; w0 = 30, is_first = false, bias::Bool = true, return_param = false)\n",
    "    if is_first\n",
    "       k = 1/i \n",
    "    else\n",
    "        k = sqrt(6/i)/w0\n",
    "    end\n",
    "    w = rand(Uniform(-k,k), o, i)\n",
    "    if bias \n",
    "        k_ = sqrt(1/i)\n",
    "        bias = rand(Uniform(-k_, k_), o, 1)\n",
    "        if return_param\n",
    "            return Param(w), Param(b)\n",
    "        else\n",
    "            return w, bias\n",
    "        end\n",
    "    end\n",
    "    if return_param\n",
    "       return Param(w) \n",
    "    else\n",
    "        return w\n",
    "    end\n",
    "end"
   ]
  },
  {
   "cell_type": "code",
   "execution_count": 3,
   "metadata": {},
   "outputs": [
    {
     "data": {
      "text/plain": [
       "weights (generic function with 1 method)"
      ]
     },
     "execution_count": 3,
     "metadata": {},
     "output_type": "execute_result"
    }
   ],
   "source": [
    "gon_shape = [34, 256, 256, 256, 256, 1]\n",
    "\n",
    "function weights(gon_shape, w0)\n",
    "    theta = []  # Empty list initialization of weights\n",
    "    w,b = SIREN_Layer_Weight_Init(gon_shape[1], gon_shape[2]; is_first =true, w0 = w0)\n",
    "    push!(theta, w)\n",
    "    push!(theta, b)\n",
    "    \n",
    "    w, b = SIREN_Layer_Weight_Init(gon_shape[2], gon_shape[3]; w0 = w0)\n",
    "    push!(theta, w)\n",
    "    push!(theta, b)\n",
    "    \n",
    "    w, b = SIREN_Layer_Weight_Init(gon_shape[3], gon_shape[4]; w0 = w0)\n",
    "    push!(theta, w)\n",
    "    push!(theta, b)\n",
    "    \n",
    "    w, b = SIREN_Layer_Weight_Init(gon_shape[4], gon_shape[5]; w0 = w0)\n",
    "    push!(theta, w)\n",
    "    push!(theta, b)\n",
    "    \n",
    "    w, b = SIREN_Layer_Weight_Init(gon_shape[5], gon_shape[6]; w0 = w0)\n",
    "    push!(theta, w)\n",
    "    push!(theta, b)\n",
    "    \n",
    "    theta = map(a->convert(atype,a), theta)\n",
    "    return Param.(theta)\n",
    "end"
   ]
  },
  {
   "cell_type": "code",
   "execution_count": 4,
   "metadata": {},
   "outputs": [
    {
     "data": {
      "text/plain": [
       "batched_linear (generic function with 1 method)"
      ]
     },
     "execution_count": 4,
     "metadata": {},
     "output_type": "execute_result"
    }
   ],
   "source": [
    "function get_mgrid(sidelen)\n",
    "    iterator = (range(-1,stop=1,length = sidelen))\n",
    "    return Array{Float64}(hcat([[i,j] for i = iterator, j = iterator]...)');\n",
    "end\n",
    "\n",
    "function batched_linear(theta, x_in; atype = KnetArray{Float32})\n",
    "#     \"\"\"\n",
    "#     multiply a weight matrix of size (O, I) with a batch of matrices \n",
    "#     of size (I, W, B) to have an output of size (O, W, B), \n",
    "#     where B is the batch size.\n",
    "    \n",
    "#     size(theta) = (O, I)\n",
    "#     size(x_in) = (O, W, B)\n",
    "#     \"\"\"\n",
    "    o = size(theta,1)\n",
    "    w = size(x_in, 2)\n",
    "    b = size(x_in, 3)\n",
    "    x_in_reshaped = reshape(x_in, size(x_in,1), w*b)\n",
    "    out = reshape(theta * x_in_reshaped, size(theta,1), w, b)\n",
    "    return out\n",
    "end"
   ]
  },
  {
   "cell_type": "code",
   "execution_count": 5,
   "metadata": {},
   "outputs": [
    {
     "data": {
      "text/plain": [
       "loss_train (generic function with 2 methods)"
      ]
     },
     "execution_count": 5,
     "metadata": {},
     "output_type": "execute_result"
    }
   ],
   "source": [
    "function model_forw(theta, z, c; w0 = 30)\n",
    "   \n",
    "    z_ = copy(z)\n",
    "    z_ = permutedims(reshape(z_,64,1,1,num_latent),(4,3,2,1))\n",
    "    # The following line is the same for  :  hcat([z for _ = 1:size(c,2)]...)\n",
    "    # However it is more efficient while taking second order derivative of the loss.\n",
    "    # one_conv_weight is defined globally as convolution weights of all ones\n",
    "    z_rep = permutedims(conv4(one_conv_weight, z_)[:,1,:,:], (3,2,1))\n",
    "    z_in = cat(c, z_rep, dims = 3)\n",
    "    z_in = (permutedims(z_in, (3,2,1)))\n",
    "    z = batched_linear(theta[1], z_in) .+ theta[2]\n",
    "    z = sin.(w0 .* z)\n",
    "    \n",
    "    z = batched_linear(theta[3], z) .+ theta[4]\n",
    "    z = sin.(w0 .* z)\n",
    "    \n",
    "    z = batched_linear(theta[5], z) .+ theta[6]\n",
    "    z = sin.(w0 .* z)\n",
    "    \n",
    "    z = batched_linear(theta[7], z) .+ theta[8]\n",
    "    z = sin.(w0 .* z)\n",
    "    \n",
    "    z = batched_linear(theta[9], z) .+ theta[10]\n",
    "#     z = sin.(30 .* z)\n",
    "    z = permutedims(z, (2,1,3))\n",
    "end\n",
    "\n",
    "function loss(theta, z, x)\n",
    "    x_hat = model_forw(theta, z, c)\n",
    "    L = mean((x_hat- x).^2)\n",
    "#     L = mean(sum((x_hat - x).^2, dims = 1))\n",
    "end\n",
    "\n",
    "function loss_train(theta, x; batch_size = 64)\n",
    "    z = Param(atype(zeros(batch_size, 1, num_latent)))\n",
    "    derivative_origin = @diff loss(theta, z, x)\n",
    "    dz = grad(derivative_origin, z)\n",
    "    z = -dz\n",
    "    x_hat = model_forw(theta, z, c)\n",
    "    L = mean((x_hat- x).^2)\n",
    "#     L = mean(sum((x_hat - x).^2, dims = 1))\n",
    "    return L\n",
    "end\n",
    "\n",
    "function loss_train(theta, d::Data)\n",
    "     total_loss = 0\n",
    "    n_instance = 0\n",
    "    for x in d\n",
    "        batch_size_ = size(x,3)\n",
    "       total_loss += loss_train(theta, x; batch_size = batch_size_) * batch_size_\n",
    "        n_instance += batch_size_\n",
    "    end\n",
    "    total_loss / n_instance\n",
    "end"
   ]
  },
  {
   "cell_type": "code",
   "execution_count": 6,
   "metadata": {},
   "outputs": [],
   "source": [
    "one_conv_weight = atype(ones(1,1,1,32*32))\n",
    "\n",
    "batch_size = 64\n",
    "x = first(dtrn)\n",
    "mgrid = get_mgrid(32)\n",
    "c = atype(permutedims(repeat(mgrid,1,1,batch_size),(3,1,2)));\n",
    "c_copy = copy(c)\n",
    "c_copy[:,:,1] = c[:,:,2]\n",
    "c_copy[:,:,2] = c[:,:,1]\n",
    "c = c_copy\n",
    "num_latent = 32\n",
    "\n",
    "# define model weights\n",
    "theta = weights(gon_shape, 30);\n",
    "# Define Learning Rate and Number of Epochs\n",
    "lr = 1e-4\n",
    "n_epochs = 500\n",
    "# Specify the optimizer for each param\n",
    "for p in params(theta)\n",
    "    p.opt =  Knet.Adam(lr = lr, beta1 = 0.9, beta2 = 0.999)\n",
    "end"
   ]
  },
  {
   "cell_type": "code",
   "execution_count": 7,
   "metadata": {},
   "outputs": [
    {
     "name": "stdout",
     "output_type": "stream",
     "text": [
      "\u001b[32m[2021-12-20 04:47:22 | info | root]: Now training of Implicit-GON is starting. We provide the parameters as the following\u001b[39m\n",
      "\u001b[32m[2021-12-20 04:47:22 | info | root]: Dataset = coil\u001b[39m\n",
      "\u001b[32m[2021-12-20 04:47:22 | info | root]: num_latent = 32\u001b[39m\n",
      "\u001b[32m[2021-12-20 04:47:22 | info | root]: lr = 0.0001\u001b[39m\n",
      "\u001b[32m[2021-12-20 04:47:22 | info | root]: n_epochs = 500\u001b[39m\n",
      "\u001b[32m[2021-12-20 04:47:22 | info | root]: Epoch : 0\u001b[39m\n",
      "\u001b[32m[2021-12-20 04:47:23 | info | root]: Train Loss : 0.19763072\u001b[39m\n",
      "\u001b[32m[2021-12-20 04:47:23 | info | root]: Test Loss : 0.1922507\u001b[39m\n"
     ]
    }
   ],
   "source": [
    "# Initialize Empty Lists for both training and test losses\n",
    "trn_loss_list = Float64[]\n",
    "tst_loss_list = Float64[]\n",
    "\n",
    "\n",
    "# RECORD INITIAL LOSS VALUES\n",
    "epoch_loss_trn_ = loss_train(theta, dtrn)\n",
    "epoch_loss_tst_ = loss_train(theta, dtst)\n",
    "\n",
    "push!(trn_loss_list, epoch_loss_trn_)\n",
    "push!(tst_loss_list, epoch_loss_tst_)\n",
    "\n",
    "info(logger, (\"Now training of Implicit-GON is starting. We provide the parameters as the following\"))\n",
    "info(logger, \"Dataset = $dataset_name\")\n",
    "info(logger,\"num_latent = $num_latent\")\n",
    "info(logger, \"lr = $lr\")\n",
    "info(logger, \"n_epochs = $n_epochs\")\n",
    "\n",
    "info(logger, (\"Epoch : 0\"))\n",
    "info(logger, (\"Train Loss : $epoch_loss_trn_\"))\n",
    "info(logger, (\"Test Loss : $epoch_loss_tst_\"))"
   ]
  },
  {
   "cell_type": "code",
   "execution_count": 11,
   "metadata": {},
   "outputs": [
    {
     "data": {
      "text/plain": [
       "0.0001"
      ]
     },
     "execution_count": 11,
     "metadata": {},
     "output_type": "execute_result"
    }
   ],
   "source": [
    "theta[1].opt.lr =1e-4"
   ]
  },
  {
   "cell_type": "code",
   "execution_count": null,
   "metadata": {},
   "outputs": [
    {
     "name": "stderr",
     "output_type": "stream",
     "text": [
      "┣                    ┫ [0.20%, 1/500, 00:00/00:01, 614.07i/s] "
     ]
    },
    {
     "name": "stdout",
     "output_type": "stream",
     "text": [
      "\u001b[32m[2021-12-20 04:48:13 | info | root]: Epoch : 1\u001b[39m\n",
      "\u001b[32m[2021-12-20 04:48:13 | info | root]: Train Loss : 0.06746212\u001b[39m\n",
      "\u001b[32m[2021-12-20 04:48:13 | info | root]: Test Loss : 0.06961614\u001b[39m\n"
     ]
    },
    {
     "name": "stderr",
     "output_type": "stream",
     "text": [
      "┣                    ┫ [0.40%, 2/500, 00:29/02:02:37, 29.43s/i] "
     ]
    },
    {
     "name": "stdout",
     "output_type": "stream",
     "text": [
      "\u001b[32m[2021-12-20 04:48:37 | info | root]: Epoch : 2\u001b[39m\n",
      "\u001b[32m[2021-12-20 04:48:37 | info | root]: Train Loss : 0.066532284\u001b[39m\n",
      "\u001b[32m[2021-12-20 04:48:37 | info | root]: Test Loss : 0.06845922\u001b[39m\n"
     ]
    },
    {
     "name": "stderr",
     "output_type": "stream",
     "text": [
      "┣                    ┫ [0.60%, 3/500, 00:35/01:36:01, 5.14s/i] "
     ]
    },
    {
     "name": "stdout",
     "output_type": "stream",
     "text": [
      "\u001b[32m[2021-12-20 04:48:42 | info | root]: Epoch : 3\u001b[39m\n",
      "\u001b[32m[2021-12-20 04:48:42 | info | root]: Train Loss : 0.065632895\u001b[39m\n",
      "\u001b[32m[2021-12-20 04:48:42 | info | root]: Test Loss : 0.067724735\u001b[39m\n"
     ]
    },
    {
     "name": "stderr",
     "output_type": "stream",
     "text": [
      "┣▏                   ┫ [0.80%, 4/500, 00:40/01:24:19, 5.91s/i] "
     ]
    },
    {
     "name": "stdout",
     "output_type": "stream",
     "text": [
      "\u001b[32m[2021-12-20 04:48:48 | info | root]: Epoch : 4\u001b[39m\n",
      "\u001b[32m[2021-12-20 04:48:48 | info | root]: Train Loss : 0.05391243\u001b[39m\n",
      "\u001b[32m[2021-12-20 04:48:48 | info | root]: Test Loss : 0.05493656\u001b[39m\n"
     ]
    },
    {
     "name": "stderr",
     "output_type": "stream",
     "text": [
      "┣▏                   ┫ [1.00%, 5/500, 00:46/01:16:19, 5.32s/i] "
     ]
    },
    {
     "name": "stdout",
     "output_type": "stream",
     "text": [
      "\u001b[32m[2021-12-20 04:48:58 | info | root]: Epoch : 5\u001b[39m\n",
      "\u001b[32m[2021-12-20 04:48:58 | info | root]: Train Loss : 0.050572906\u001b[39m\n",
      "\u001b[32m[2021-12-20 04:48:58 | info | root]: Test Loss : 0.05226981\u001b[39m\n"
     ]
    },
    {
     "name": "stderr",
     "output_type": "stream",
     "text": [
      "┣▏                   ┫ [1.20%, 6/500, 00:55/01:16:52, 9.55s/i] "
     ]
    },
    {
     "name": "stdout",
     "output_type": "stream",
     "text": [
      "\u001b[32m[2021-12-20 04:49:07 | info | root]: Epoch : 6\u001b[39m\n",
      "\u001b[32m[2021-12-20 04:49:07 | info | root]: Train Loss : 0.04883675\u001b[39m\n",
      "\u001b[32m[2021-12-20 04:49:07 | info | root]: Test Loss : 0.050119407\u001b[39m\n"
     ]
    },
    {
     "name": "stderr",
     "output_type": "stream",
     "text": [
      "┣▎                   ┫ [1.40%, 7/500, 01:05/01:17:18, 9.59s/i] "
     ]
    },
    {
     "name": "stdout",
     "output_type": "stream",
     "text": [
      "\u001b[32m[2021-12-20 04:49:18 | info | root]: Epoch : 7\u001b[39m\n",
      "\u001b[32m[2021-12-20 04:49:18 | info | root]: Train Loss : 0.04823491\u001b[39m\n",
      "\u001b[32m[2021-12-20 04:49:18 | info | root]: Test Loss : 0.050060403\u001b[39m\n"
     ]
    },
    {
     "name": "stderr",
     "output_type": "stream",
     "text": [
      "┣▎                   ┫ [1.60%, 8/500, 01:16/01:18:39, 10.57s/i] "
     ]
    },
    {
     "name": "stdout",
     "output_type": "stream",
     "text": [
      "\u001b[32m[2021-12-20 04:49:23 | info | root]: Epoch : 8\u001b[39m\n",
      "\u001b[32m[2021-12-20 04:49:23 | info | root]: Train Loss : 0.048358697\u001b[39m\n",
      "\u001b[32m[2021-12-20 04:49:23 | info | root]: Test Loss : 0.050115764\u001b[39m\n"
     ]
    },
    {
     "name": "stderr",
     "output_type": "stream",
     "text": [
      "┣▎                   ┫ [1.80%, 9/500, 01:21/01:14:39, 5.12s/i] "
     ]
    },
    {
     "name": "stdout",
     "output_type": "stream",
     "text": [
      "\u001b[32m[2021-12-20 04:49:28 | info | root]: Epoch : 9\u001b[39m\n",
      "\u001b[32m[2021-12-20 04:49:28 | info | root]: Train Loss : 0.04851079\u001b[39m\n",
      "\u001b[32m[2021-12-20 04:49:28 | info | root]: Test Loss : 0.049892597\u001b[39m\n"
     ]
    },
    {
     "name": "stderr",
     "output_type": "stream",
     "text": [
      "┣▍                   ┫ [2.00%, 10/500, 01:27/01:12:41, 6.59s/i] "
     ]
    },
    {
     "name": "stdout",
     "output_type": "stream",
     "text": [
      "\u001b[32m[2021-12-20 04:49:38 | info | root]: Epoch : 10\u001b[39m\n",
      "\u001b[32m[2021-12-20 04:49:38 | info | root]: Train Loss : 0.049893357\u001b[39m\n",
      "\u001b[32m[2021-12-20 04:49:38 | info | root]: Test Loss : 0.05154336\u001b[39m\n"
     ]
    },
    {
     "name": "stderr",
     "output_type": "stream",
     "text": [
      "┣▍                   ┫ [2.20%, 11/500, 01:36/01:12:30, 8.50s/i] "
     ]
    },
    {
     "name": "stdout",
     "output_type": "stream",
     "text": [
      "\u001b[32m[2021-12-20 04:49:47 | info | root]: Epoch : 11\u001b[39m\n",
      "\u001b[32m[2021-12-20 04:49:47 | info | root]: Train Loss : 0.051140185\u001b[39m\n",
      "\u001b[32m[2021-12-20 04:49:47 | info | root]: Test Loss : 0.05195322\u001b[39m\n"
     ]
    },
    {
     "name": "stderr",
     "output_type": "stream",
     "text": [
      "┣▍                   ┫ [2.40%, 12/500, 01:46/01:13:31, 10.14s/i] "
     ]
    },
    {
     "name": "stdout",
     "output_type": "stream",
     "text": [
      "\u001b[32m[2021-12-20 04:49:59 | info | root]: Epoch : 12\u001b[39m\n",
      "\u001b[32m[2021-12-20 04:49:59 | info | root]: Train Loss : 0.04756713\u001b[39m\n",
      "\u001b[32m[2021-12-20 04:49:59 | info | root]: Test Loss : 0.048516415\u001b[39m\n"
     ]
    },
    {
     "name": "stderr",
     "output_type": "stream",
     "text": [
      "┣▌                   ┫ [2.60%, 13/500, 01:58/01:15:20, 11.68s/i] "
     ]
    },
    {
     "name": "stdout",
     "output_type": "stream",
     "text": [
      "\u001b[32m[2021-12-20 04:50:05 | info | root]: Epoch : 13\u001b[39m\n",
      "\u001b[32m[2021-12-20 04:50:05 | info | root]: Train Loss : 0.047695212\u001b[39m\n",
      "\u001b[32m[2021-12-20 04:50:05 | info | root]: Test Loss : 0.049454756\u001b[39m\n"
     ]
    },
    {
     "name": "stderr",
     "output_type": "stream",
     "text": [
      "┣▌                   ┫ [2.80%, 14/500, 02:02/01:12:55, 4.97s/i] "
     ]
    },
    {
     "name": "stdout",
     "output_type": "stream",
     "text": [
      "\u001b[32m[2021-12-20 04:50:10 | info | root]: Epoch : 14\u001b[39m\n",
      "\u001b[32m[2021-12-20 04:50:10 | info | root]: Train Loss : 0.04801205\u001b[39m\n",
      "\u001b[32m[2021-12-20 04:50:10 | info | root]: Test Loss : 0.048730247\u001b[39m\n"
     ]
    },
    {
     "name": "stderr",
     "output_type": "stream",
     "text": [
      "┣▌                   ┫ [3.00%, 15/500, 02:08/01:10:59, 5.28s/i] "
     ]
    },
    {
     "name": "stdout",
     "output_type": "stream",
     "text": [
      "\u001b[32m[2021-12-20 04:50:18 | info | root]: Epoch : 15\u001b[39m\n",
      "\u001b[32m[2021-12-20 04:50:18 | info | root]: Train Loss : 0.048236594\u001b[39m\n",
      "\u001b[32m[2021-12-20 04:50:18 | info | root]: Test Loss : 0.049675174\u001b[39m\n"
     ]
    },
    {
     "name": "stderr",
     "output_type": "stream",
     "text": [
      "┣▋                   ┫ [3.20%, 16/500, 02:16/01:10:45, 8.08s/i] "
     ]
    },
    {
     "name": "stdout",
     "output_type": "stream",
     "text": [
      "\u001b[32m[2021-12-20 04:50:28 | info | root]: Epoch : 16\u001b[39m\n",
      "\u001b[32m[2021-12-20 04:50:28 | info | root]: Train Loss : 0.045964923\u001b[39m\n",
      "\u001b[32m[2021-12-20 04:50:28 | info | root]: Test Loss : 0.047639504\u001b[39m\n"
     ]
    },
    {
     "name": "stderr",
     "output_type": "stream",
     "text": [
      "┣▋                   ┫ [3.40%, 17/500, 02:25/01:11:18, 9.60s/i] "
     ]
    },
    {
     "name": "stdout",
     "output_type": "stream",
     "text": [
      "\u001b[32m[2021-12-20 04:50:38 | info | root]: Epoch : 17\u001b[39m\n",
      "\u001b[32m[2021-12-20 04:50:38 | info | root]: Train Loss : 0.04643363\u001b[39m\n",
      "\u001b[32m[2021-12-20 04:50:38 | info | root]: Test Loss : 0.048166044\u001b[39m\n"
     ]
    },
    {
     "name": "stderr",
     "output_type": "stream",
     "text": [
      "┣▋                   ┫ [3.60%, 18/500, 02:36/01:12:11, 10.46s/i] "
     ]
    },
    {
     "name": "stdout",
     "output_type": "stream",
     "text": [
      "\u001b[32m[2021-12-20 04:50:43 | info | root]: Epoch : 18\u001b[39m\n",
      "\u001b[32m[2021-12-20 04:50:43 | info | root]: Train Loss : 0.04745718\u001b[39m\n",
      "\u001b[32m[2021-12-20 04:50:43 | info | root]: Test Loss : 0.04897944\u001b[39m\n"
     ]
    },
    {
     "name": "stderr",
     "output_type": "stream",
     "text": [
      "┣▊                   ┫ [3.80%, 19/500, 02:41/01:10:41, 5.24s/i] "
     ]
    },
    {
     "name": "stdout",
     "output_type": "stream",
     "text": [
      "\u001b[32m[2021-12-20 04:50:49 | info | root]: Epoch : 19\u001b[39m\n",
      "\u001b[32m[2021-12-20 04:50:49 | info | root]: Train Loss : 0.046601936\u001b[39m\n",
      "\u001b[32m[2021-12-20 04:50:49 | info | root]: Test Loss : 0.04811693\u001b[39m\n"
     ]
    },
    {
     "name": "stderr",
     "output_type": "stream",
     "text": [
      "┣▊                   ┫ [4.00%, 20/500, 02:46/01:09:21, 5.29s/i] "
     ]
    },
    {
     "name": "stdout",
     "output_type": "stream",
     "text": [
      "\u001b[32m[2021-12-20 04:50:58 | info | root]: Epoch : 20\u001b[39m\n",
      "\u001b[32m[2021-12-20 04:50:58 | info | root]: Train Loss : 0.045547977\u001b[39m\n",
      "\u001b[32m[2021-12-20 04:50:58 | info | root]: Test Loss : 0.047995176\u001b[39m\n"
     ]
    },
    {
     "name": "stderr",
     "output_type": "stream",
     "text": [
      "┣▊                   ┫ [4.20%, 21/500, 02:57/01:10:25, 10.99s/i] "
     ]
    },
    {
     "name": "stdout",
     "output_type": "stream",
     "text": [
      "\u001b[32m[2021-12-20 04:51:09 | info | root]: Epoch : 21\u001b[39m\n",
      "\u001b[32m[2021-12-20 04:51:09 | info | root]: Train Loss : 0.04720105\u001b[39m\n",
      "\u001b[32m[2021-12-20 04:51:09 | info | root]: Test Loss : 0.04874394\u001b[39m\n"
     ]
    },
    {
     "name": "stderr",
     "output_type": "stream",
     "text": [
      "┣▉                   ┫ [4.40%, 22/500, 03:07/01:10:55, 9.78s/i] "
     ]
    },
    {
     "name": "stdout",
     "output_type": "stream",
     "text": [
      "\u001b[32m[2021-12-20 04:51:19 | info | root]: Epoch : 22\u001b[39m\n",
      "\u001b[32m[2021-12-20 04:51:19 | info | root]: Train Loss : 0.046569206\u001b[39m\n",
      "\u001b[32m[2021-12-20 04:51:19 | info | root]: Test Loss : 0.04787461\u001b[39m\n"
     ]
    },
    {
     "name": "stderr",
     "output_type": "stream",
     "text": [
      "┣▉                   ┫ [4.60%, 23/500, 03:17/01:11:20, 9.65s/i] "
     ]
    },
    {
     "name": "stdout",
     "output_type": "stream",
     "text": [
      "\u001b[32m[2021-12-20 04:51:30 | info | root]: Epoch : 23\u001b[39m\n",
      "\u001b[32m[2021-12-20 04:51:30 | info | root]: Train Loss : 0.046628132\u001b[39m\n",
      "\u001b[32m[2021-12-20 04:51:30 | info | root]: Test Loss : 0.048310906\u001b[39m\n"
     ]
    },
    {
     "name": "stderr",
     "output_type": "stream",
     "text": [
      "┣▉                   ┫ [4.80%, 24/500, 03:29/01:12:24, 11.66s/i] "
     ]
    },
    {
     "name": "stdout",
     "output_type": "stream",
     "text": [
      "\u001b[32m[2021-12-20 04:51:36 | info | root]: Epoch : 24\u001b[39m\n",
      "\u001b[32m[2021-12-20 04:51:36 | info | root]: Train Loss : 0.045232818\u001b[39m\n",
      "\u001b[32m[2021-12-20 04:51:36 | info | root]: Test Loss : 0.046760313\u001b[39m\n"
     ]
    },
    {
     "name": "stderr",
     "output_type": "stream",
     "text": [
      "┣█                   ┫ [5.00%, 25/500, 03:34/01:11:11, 5.01s/i] "
     ]
    },
    {
     "name": "stdout",
     "output_type": "stream",
     "text": [
      "\u001b[32m[2021-12-20 04:51:41 | info | root]: Epoch : 25\u001b[39m\n",
      "\u001b[32m[2021-12-20 04:51:41 | info | root]: Train Loss : 0.04666732\u001b[39m\n",
      "\u001b[32m[2021-12-20 04:51:41 | info | root]: Test Loss : 0.04837365\u001b[39m\n"
     ]
    },
    {
     "name": "stderr",
     "output_type": "stream",
     "text": [
      "┣█                   ┫ [5.20%, 26/500, 03:39/01:10:08, 5.29s/i] "
     ]
    },
    {
     "name": "stdout",
     "output_type": "stream",
     "text": [
      "\u001b[32m[2021-12-20 04:51:49 | info | root]: Epoch : 26\u001b[39m\n",
      "\u001b[32m[2021-12-20 04:51:49 | info | root]: Train Loss : 0.044542864\u001b[39m\n",
      "\u001b[32m[2021-12-20 04:51:49 | info | root]: Test Loss : 0.046562534\u001b[39m\n"
     ]
    },
    {
     "name": "stderr",
     "output_type": "stream",
     "text": [
      "┣█                   ┫ [5.40%, 27/500, 03:47/01:10:09, 8.48s/i] "
     ]
    },
    {
     "name": "stdout",
     "output_type": "stream",
     "text": [
      "\u001b[32m[2021-12-20 04:51:59 | info | root]: Epoch : 27\u001b[39m\n",
      "\u001b[32m[2021-12-20 04:51:59 | info | root]: Train Loss : 0.044972092\u001b[39m\n",
      "\u001b[32m[2021-12-20 04:51:59 | info | root]: Test Loss : 0.04691605\u001b[39m\n"
     ]
    },
    {
     "name": "stderr",
     "output_type": "stream",
     "text": [
      "┣█                   ┫ [5.60%, 28/500, 03:58/01:10:45, 10.40s/i] "
     ]
    },
    {
     "name": "stdout",
     "output_type": "stream",
     "text": [
      "\u001b[32m[2021-12-20 04:52:10 | info | root]: Epoch : 28\u001b[39m\n",
      "\u001b[32m[2021-12-20 04:52:10 | info | root]: Train Loss : 0.043432236\u001b[39m\n",
      "\u001b[32m[2021-12-20 04:52:10 | info | root]: Test Loss : 0.045326434\u001b[39m\n"
     ]
    },
    {
     "name": "stderr",
     "output_type": "stream",
     "text": [
      "┣█▏                  ┫ [5.80%, 29/500, 04:08/01:11:22, 10.66s/i] "
     ]
    },
    {
     "name": "stdout",
     "output_type": "stream",
     "text": [
      "\u001b[32m[2021-12-20 04:52:16 | info | root]: Epoch : 29\u001b[39m\n",
      "\u001b[32m[2021-12-20 04:52:16 | info | root]: Train Loss : 0.04729176\u001b[39m\n",
      "\u001b[32m[2021-12-20 04:52:16 | info | root]: Test Loss : 0.04867449\u001b[39m\n"
     ]
    },
    {
     "name": "stderr",
     "output_type": "stream",
     "text": [
      "┣█▏                  ┫ [6.00%, 30/500, 04:14/01:10:31, 5.51s/i] "
     ]
    },
    {
     "name": "stdout",
     "output_type": "stream",
     "text": [
      "\u001b[32m[2021-12-20 04:52:21 | info | root]: Epoch : 30\u001b[39m\n",
      "\u001b[32m[2021-12-20 04:52:21 | info | root]: Train Loss : 0.046953175\u001b[39m\n",
      "\u001b[32m[2021-12-20 04:52:21 | info | root]: Test Loss : 0.048114706\u001b[39m\n"
     ]
    },
    {
     "name": "stderr",
     "output_type": "stream",
     "text": [
      "┣█▏                  ┫ [6.20%, 31/500, 04:19/01:09:42, 5.43s/i] "
     ]
    },
    {
     "name": "stdout",
     "output_type": "stream",
     "text": [
      "\u001b[32m[2021-12-20 04:52:30 | info | root]: Epoch : 31\u001b[39m\n",
      "\u001b[32m[2021-12-20 04:52:30 | info | root]: Train Loss : 0.04486651\u001b[39m\n",
      "\u001b[32m[2021-12-20 04:52:30 | info | root]: Test Loss : 0.046817254\u001b[39m\n"
     ]
    },
    {
     "name": "stderr",
     "output_type": "stream",
     "text": [
      "┣█▎                  ┫ [6.40%, 32/500, 04:29/01:09:58, 9.38s/i] "
     ]
    },
    {
     "name": "stdout",
     "output_type": "stream",
     "text": [
      "\u001b[32m[2021-12-20 04:52:40 | info | root]: Epoch : 32\u001b[39m\n",
      "\u001b[32m[2021-12-20 04:52:40 | info | root]: Train Loss : 0.044932645\u001b[39m\n",
      "\u001b[32m[2021-12-20 04:52:40 | info | root]: Test Loss : 0.046403147\u001b[39m\n"
     ]
    },
    {
     "name": "stderr",
     "output_type": "stream",
     "text": [
      "┣█▎                  ┫ [6.60%, 33/500, 04:38/01:10:16, 9.60s/i] "
     ]
    },
    {
     "name": "stdout",
     "output_type": "stream",
     "text": [
      "\u001b[32m[2021-12-20 04:52:51 | info | root]: Epoch : 33\u001b[39m\n",
      "\u001b[32m[2021-12-20 04:52:51 | info | root]: Train Loss : 0.043985095\u001b[39m\n",
      "\u001b[32m[2021-12-20 04:52:51 | info | root]: Test Loss : 0.045877498\u001b[39m\n"
     ]
    },
    {
     "name": "stderr",
     "output_type": "stream",
     "text": [
      "┣█▎                  ┫ [6.80%, 34/500, 04:49/01:10:46, 10.43s/i] "
     ]
    },
    {
     "name": "stdout",
     "output_type": "stream",
     "text": [
      "\u001b[32m[2021-12-20 04:52:56 | info | root]: Epoch : 34\u001b[39m\n",
      "\u001b[32m[2021-12-20 04:52:56 | info | root]: Train Loss : 0.043705963\u001b[39m\n",
      "\u001b[32m[2021-12-20 04:52:56 | info | root]: Test Loss : 0.04626418\u001b[39m\n"
     ]
    },
    {
     "name": "stderr",
     "output_type": "stream",
     "text": [
      "┣█▍                  ┫ [7.00%, 35/500, 04:54/01:09:55, 4.94s/i] "
     ]
    },
    {
     "name": "stdout",
     "output_type": "stream",
     "text": [
      "\u001b[32m[2021-12-20 04:53:01 | info | root]: Epoch : 35\u001b[39m\n",
      "\u001b[32m[2021-12-20 04:53:01 | info | root]: Train Loss : 0.04245849\u001b[39m\n",
      "\u001b[32m[2021-12-20 04:53:01 | info | root]: Test Loss : 0.04486859\u001b[39m\n"
     ]
    },
    {
     "name": "stderr",
     "output_type": "stream",
     "text": [
      "┣█▍                  ┫ [7.20%, 36/500, 05:00/01:09:22, 6.05s/i] "
     ]
    },
    {
     "name": "stdout",
     "output_type": "stream",
     "text": [
      "\u001b[32m[2021-12-20 04:53:11 | info | root]: Epoch : 36\u001b[39m\n",
      "\u001b[32m[2021-12-20 04:53:11 | info | root]: Train Loss : 0.046297655\u001b[39m\n",
      "\u001b[32m[2021-12-20 04:53:11 | info | root]: Test Loss : 0.04870778\u001b[39m\n"
     ]
    },
    {
     "name": "stderr",
     "output_type": "stream",
     "text": [
      "┣█▍                  ┫ [7.40%, 37/500, 05:11/01:09:58, 10.97s/i] "
     ]
    },
    {
     "name": "stdout",
     "output_type": "stream",
     "text": [
      "\u001b[32m[2021-12-20 04:53:23 | info | root]: Epoch : 37\u001b[39m\n",
      "\u001b[32m[2021-12-20 04:53:23 | info | root]: Train Loss : 0.04588286\u001b[39m\n",
      "\u001b[32m[2021-12-20 04:53:23 | info | root]: Test Loss : 0.0476551\u001b[39m\n"
     ]
    },
    {
     "name": "stderr",
     "output_type": "stream",
     "text": [
      "┣█▌                  ┫ [7.60%, 38/500, 05:20/01:10:16, 9.79s/i] "
     ]
    },
    {
     "name": "stdout",
     "output_type": "stream",
     "text": [
      "\u001b[32m[2021-12-20 04:53:33 | info | root]: Epoch : 38\u001b[39m\n",
      "\u001b[32m[2021-12-20 04:53:33 | info | root]: Train Loss : 0.0435971\u001b[39m\n",
      "\u001b[32m[2021-12-20 04:53:33 | info | root]: Test Loss : 0.045848638\u001b[39m\n"
     ]
    },
    {
     "name": "stderr",
     "output_type": "stream",
     "text": [
      "┣█▌                  ┫ [7.80%, 39/500, 05:31/01:10:43, 10.53s/i] "
     ]
    },
    {
     "name": "stdout",
     "output_type": "stream",
     "text": [
      "\u001b[32m[2021-12-20 04:53:38 | info | root]: Epoch : 39\u001b[39m\n",
      "\u001b[32m[2021-12-20 04:53:38 | info | root]: Train Loss : 0.0455814\u001b[39m\n",
      "\u001b[32m[2021-12-20 04:53:38 | info | root]: Test Loss : 0.04822295\u001b[39m\n"
     ]
    },
    {
     "name": "stderr",
     "output_type": "stream",
     "text": [
      "┣█▌                  ┫ [8.00%, 40/500, 05:36/01:09:59, 4.96s/i] "
     ]
    },
    {
     "name": "stdout",
     "output_type": "stream",
     "text": [
      "\u001b[32m[2021-12-20 04:53:43 | info | root]: Epoch : 40\u001b[39m\n",
      "\u001b[32m[2021-12-20 04:53:43 | info | root]: Train Loss : 0.03950337\u001b[39m\n",
      "\u001b[32m[2021-12-20 04:53:43 | info | root]: Test Loss : 0.041249372\u001b[39m\n"
     ]
    },
    {
     "name": "stderr",
     "output_type": "stream",
     "text": [
      "┣█▋                  ┫ [8.20%, 41/500, 05:42/01:09:30, 6.00s/i] "
     ]
    },
    {
     "name": "stdout",
     "output_type": "stream",
     "text": [
      "\u001b[32m[2021-12-20 04:53:53 | info | root]: Epoch : 41\u001b[39m\n",
      "\u001b[32m[2021-12-20 04:53:53 | info | root]: Train Loss : 0.03761273\u001b[39m\n",
      "\u001b[32m[2021-12-20 04:53:53 | info | root]: Test Loss : 0.039459888\u001b[39m\n"
     ]
    },
    {
     "name": "stderr",
     "output_type": "stream",
     "text": [
      "┣█▋                  ┫ [8.40%, 42/500, 05:51/01:09:39, 9.13s/i] "
     ]
    },
    {
     "name": "stdout",
     "output_type": "stream",
     "text": [
      "\u001b[32m[2021-12-20 04:54:03 | info | root]: Epoch : 42\u001b[39m\n",
      "\u001b[32m[2021-12-20 04:54:03 | info | root]: Train Loss : 0.0357078\u001b[39m\n",
      "\u001b[32m[2021-12-20 04:54:03 | info | root]: Test Loss : 0.038008686\u001b[39m\n"
     ]
    },
    {
     "name": "stderr",
     "output_type": "stream",
     "text": [
      "┣█▋                  ┫ [8.60%, 43/500, 06:01/01:09:55, 9.71s/i] "
     ]
    },
    {
     "name": "stdout",
     "output_type": "stream",
     "text": [
      "\u001b[32m[2021-12-20 04:54:13 | info | root]: Epoch : 43\u001b[39m\n",
      "\u001b[32m[2021-12-20 04:54:13 | info | root]: Train Loss : 0.037573528\u001b[39m\n",
      "\u001b[32m[2021-12-20 04:54:13 | info | root]: Test Loss : 0.040172383\u001b[39m\n"
     ]
    },
    {
     "name": "stderr",
     "output_type": "stream",
     "text": [
      "┣█▊                  ┫ [8.80%, 44/500, 06:12/01:10:22, 10.76s/i] "
     ]
    },
    {
     "name": "stdout",
     "output_type": "stream",
     "text": [
      "\u001b[32m[2021-12-20 04:54:19 | info | root]: Epoch : 44\u001b[39m\n",
      "\u001b[32m[2021-12-20 04:54:19 | info | root]: Train Loss : 0.035030853\u001b[39m\n",
      "\u001b[32m[2021-12-20 04:54:19 | info | root]: Test Loss : 0.03716345\u001b[39m\n"
     ]
    },
    {
     "name": "stderr",
     "output_type": "stream",
     "text": [
      "┣█▊                  ┫ [9.00%, 45/500, 06:17/01:09:45, 5.13s/i] "
     ]
    },
    {
     "name": "stdout",
     "output_type": "stream",
     "text": [
      "\u001b[32m[2021-12-20 04:54:24 | info | root]: Epoch : 45\u001b[39m\n",
      "\u001b[32m[2021-12-20 04:54:24 | info | root]: Train Loss : 0.03416252\u001b[39m\n",
      "\u001b[32m[2021-12-20 04:54:24 | info | root]: Test Loss : 0.0364782\u001b[39m\n"
     ]
    },
    {
     "name": "stderr",
     "output_type": "stream",
     "text": [
      "┣█▊                  ┫ [9.20%, 46/500, 06:22/01:09:13, 5.44s/i] "
     ]
    },
    {
     "name": "stdout",
     "output_type": "stream",
     "text": [
      "\u001b[32m[2021-12-20 04:54:33 | info | root]: Epoch : 46\u001b[39m\n",
      "\u001b[32m[2021-12-20 04:54:33 | info | root]: Train Loss : 0.0333461\u001b[39m\n",
      "\u001b[32m[2021-12-20 04:54:33 | info | root]: Test Loss : 0.036433548\u001b[39m\n"
     ]
    },
    {
     "name": "stderr",
     "output_type": "stream",
     "text": [
      "┣█▉                  ┫ [9.40%, 47/500, 06:31/01:09:23, 9.18s/i] "
     ]
    },
    {
     "name": "stdout",
     "output_type": "stream",
     "text": [
      "\u001b[32m[2021-12-20 04:54:43 | info | root]: Epoch : 47\u001b[39m\n",
      "\u001b[32m[2021-12-20 04:54:43 | info | root]: Train Loss : 0.03307686\u001b[39m\n",
      "\u001b[32m[2021-12-20 04:54:43 | info | root]: Test Loss : 0.03556033\u001b[39m\n"
     ]
    },
    {
     "name": "stderr",
     "output_type": "stream",
     "text": [
      "┣█▉                  ┫ [9.60%, 48/500, 06:42/01:09:43, 10.26s/i] "
     ]
    },
    {
     "name": "stdout",
     "output_type": "stream",
     "text": [
      "\u001b[32m[2021-12-20 04:54:54 | info | root]: Epoch : 48\u001b[39m\n",
      "\u001b[32m[2021-12-20 04:54:54 | info | root]: Train Loss : 0.032526657\u001b[39m\n",
      "\u001b[32m[2021-12-20 04:54:54 | info | root]: Test Loss : 0.03547524\u001b[39m\n"
     ]
    },
    {
     "name": "stderr",
     "output_type": "stream",
     "text": [
      "┣█▉                  ┫ [9.80%, 49/500, 06:52/01:10:06, 10.63s/i] "
     ]
    },
    {
     "name": "stdout",
     "output_type": "stream",
     "text": [
      "\u001b[32m[2021-12-20 04:54:59 | info | root]: Epoch : 49\u001b[39m\n",
      "\u001b[32m[2021-12-20 04:54:59 | info | root]: Train Loss : 0.030349689\u001b[39m\n",
      "\u001b[32m[2021-12-20 04:54:59 | info | root]: Test Loss : 0.033448946\u001b[39m\n"
     ]
    },
    {
     "name": "stderr",
     "output_type": "stream",
     "text": [
      "┣██                  ┫ [10.00%, 50/500, 06:59/01:09:50, 6.82s/i] "
     ]
    },
    {
     "name": "stdout",
     "output_type": "stream",
     "text": [
      "\u001b[32m[2021-12-20 04:55:07 | info | root]: Epoch : 50\u001b[39m\n",
      "\u001b[32m[2021-12-20 04:55:07 | info | root]: Train Loss : 0.028880231\u001b[39m\n",
      "\u001b[32m[2021-12-20 04:55:07 | info | root]: Test Loss : 0.031905618\u001b[39m\n"
     ]
    },
    {
     "name": "stderr",
     "output_type": "stream",
     "text": [
      "┣██                  ┫ [10.20%, 51/500, 07:09/01:10:02, 9.59s/i] "
     ]
    },
    {
     "name": "stdout",
     "output_type": "stream",
     "text": [
      "\u001b[32m[2021-12-20 04:55:18 | info | root]: Epoch : 51\u001b[39m\n",
      "\u001b[32m[2021-12-20 04:55:18 | info | root]: Train Loss : 0.028476639\u001b[39m\n",
      "\u001b[32m[2021-12-20 04:55:18 | info | root]: Test Loss : 0.031535354\u001b[39m\n"
     ]
    },
    {
     "name": "stderr",
     "output_type": "stream",
     "text": [
      "┣██                  ┫ [10.40%, 52/500, 07:16/01:09:56, 7.80s/i] "
     ]
    }
   ],
   "source": [
    "########################################## CHANGE THE FOLLOWING LINES FOR CHECKPOINT ITERATION NUMBERS ############################\n",
    "# Define the step number of model save checkpoint\n",
    "model_save_checkpoint = 50\n",
    "logger_checkpoint = 1\n",
    "image_rec_checkpoint = 1\n",
    "\n",
    "x_ = first(dtst)\n",
    "for epoch in progress(1:n_epochs)\n",
    "    for (i,x) in enumerate(dtrn)\n",
    "        if epoch == 50\n",
    "            # Define Learning Rate and Number of Epochs\n",
    "            lr = 0.5*1e-4\n",
    "            for p in params(theta)\n",
    "                p.opt.lr =  lr\n",
    "            end\n",
    "        end\n",
    "        derivative_model = @diff loss_train(theta, x)\n",
    "        \n",
    "        if (i%100) == 0\n",
    "           println(value(derivative_model)) \n",
    "        end\n",
    "        for p in theta\n",
    "            dp = grad(derivative_model, p)\n",
    "            update!(value(p), dp, p.opt)\n",
    "        end\n",
    "    \n",
    "    end\n",
    "    \n",
    "    epoch_loss_trn = loss_train(theta, dtrn)\n",
    "    epoch_loss_tst = loss_train(theta, dtst)\n",
    "    push!(trn_loss_list, epoch_loss_trn)\n",
    "    push!(tst_loss_list, epoch_loss_tst)\n",
    "    \n",
    "    # Print losses to the logger file\n",
    "    if epoch % logger_checkpoint == 0\n",
    "        info(logger,\"Epoch : $epoch\")\n",
    "        info(logger,\"Train Loss : $epoch_loss_trn\")\n",
    "        info(logger,\"Test Loss : $epoch_loss_tst\")\n",
    "    end\n",
    "    \n",
    "    if ((epoch - 1) % image_rec_checkpoint == 0) || (epoch == n_epochs)\n",
    "        \n",
    "        z = Param(atype(zeros(batch_size, 1, num_latent)))\n",
    "        derivative_origin = @diff loss(theta, z, x_)\n",
    "        dz = grad(derivative_origin, z)\n",
    "        z = -dz\n",
    "        x_hat = model_forw(theta, z, c)\n",
    "        x_hat_ = Array{Float32}(reshape(x_hat, 32,32,1,64))\n",
    "        x__ = Array{Float32}(reshape(x_, 32,32,1,64))\n",
    "\n",
    "        (plot_reconstructed_images(x__, x_hat_, 10, 64, (900,300)))\n",
    "        fig_name = \"Reconstructed_Imgs_ID\" * string(1000 + epoch) \n",
    "        savefig(joinpath(\"Results\", notebook_name, \"Images\", fig_name))\n",
    "        \n",
    "    end\n",
    "    \n",
    "    # Save model at some steps\n",
    "    if (epoch % model_save_checkpoint == 0) || (epoch == n_epochs)\n",
    "        \n",
    "        model_id = 1000 + epoch\n",
    "        model_name = joinpath(\"Results\", notebook_name, \"Saved_Models\",\"Model_Base$model_id.jld2\")\n",
    "        w = Dict(:decoder => theta)\n",
    "        Knet.save(model_name,\"model\",w) \n",
    "        ### TO LOAD THE MODEL WEIGHTS, USE THE FOLLOWING\n",
    "        # w = Knet.load(model_name,\"model\",) # Ex: model_name = \"Results/Conv_AutoEncoder_Baseline_MNIST/Saved_Models/Model_Base1500.jld2\"\n",
    "        # theta = w[:decoder]\n",
    "        \n",
    "    end\n",
    "    Knet.save(joinpath(\"Results\", notebook_name,\"trn_loss_list.jld2\"),\"trn_loss_list\",trn_loss_list) \n",
    "    Knet.save(joinpath(\"Results\", notebook_name,\"tst_loss_list.jld2\"),\"tst_loss_list\",tst_loss_list)     \n",
    "end\n",
    "\n",
    "plot_loss_convergence(trn_loss_list[2:end], tst_loss_list[2:end]; title = \"Train & Test Loss w.r.t. Epochs\")\n",
    "fig_name = \"Train_and_test_loss\"\n",
    "savefig(joinpath(\"Results\", notebook_name, fig_name))\n",
    "\n",
    "plot_loss_convergence(trn_rec_loss_list[2:end], tst_rec_loss_list[2:end]; title = \"Train & Test Reconstruction Loss w.r.t. Epochs\")\n",
    "fig_name = \"Train_and_test_reconstruction_loss\"\n",
    "savefig(joinpath(\"Results\", notebook_name, fig_name))\n"
   ]
  },
  {
   "cell_type": "code",
   "execution_count": 17,
   "metadata": {},
   "outputs": [
    {
     "data": {
      "image/svg+xml": [
       "<?xml version=\"1.0\" encoding=\"utf-8\"?>\n",
       "<svg xmlns=\"http://www.w3.org/2000/svg\" xmlns:xlink=\"http://www.w3.org/1999/xlink\" width=\"700\" height=\"500\" viewBox=\"0 0 2800 2000\">\n",
       "<defs>\n",
       "  <clipPath id=\"clip250\">\n",
       "    <rect x=\"0\" y=\"0\" width=\"2800\" height=\"2000\"/>\n",
       "  </clipPath>\n",
       "</defs>\n",
       "<path clip-path=\"url(#clip250)\" d=\"\n",
       "M0 2000 L2800 2000 L2800 0 L0 0  Z\n",
       "  \" fill=\"#ffffff\" fill-rule=\"evenodd\" fill-opacity=\"1\"/>\n",
       "<defs>\n",
       "  <clipPath id=\"clip251\">\n",
       "    <rect x=\"560\" y=\"0\" width=\"1961\" height=\"1961\"/>\n",
       "  </clipPath>\n",
       "</defs>\n",
       "<path clip-path=\"url(#clip250)\" d=\"\n",
       "M413.803 1734.63 L2752.76 1734.63 L2752.76 155.564 L413.803 155.564  Z\n",
       "  \" fill=\"#ffffff\" fill-rule=\"evenodd\" fill-opacity=\"1\"/>\n",
       "<defs>\n",
       "  <clipPath id=\"clip252\">\n",
       "    <rect x=\"413\" y=\"155\" width=\"2340\" height=\"1580\"/>\n",
       "  </clipPath>\n",
       "</defs>\n",
       "<polyline clip-path=\"url(#clip252)\" style=\"stroke:#000000; stroke-linecap:butt; stroke-linejoin:round; stroke-width:2; stroke-opacity:0.1; fill:none\" points=\"\n",
       "  469.592,1734.63 469.592,155.564 \n",
       "  \"/>\n",
       "<polyline clip-path=\"url(#clip252)\" style=\"stroke:#000000; stroke-linecap:butt; stroke-linejoin:round; stroke-width:2; stroke-opacity:0.1; fill:none\" points=\"\n",
       "  990.007,1734.63 990.007,155.564 \n",
       "  \"/>\n",
       "<polyline clip-path=\"url(#clip252)\" style=\"stroke:#000000; stroke-linecap:butt; stroke-linejoin:round; stroke-width:2; stroke-opacity:0.1; fill:none\" points=\"\n",
       "  1510.42,1734.63 1510.42,155.564 \n",
       "  \"/>\n",
       "<polyline clip-path=\"url(#clip252)\" style=\"stroke:#000000; stroke-linecap:butt; stroke-linejoin:round; stroke-width:2; stroke-opacity:0.1; fill:none\" points=\"\n",
       "  2030.84,1734.63 2030.84,155.564 \n",
       "  \"/>\n",
       "<polyline clip-path=\"url(#clip252)\" style=\"stroke:#000000; stroke-linecap:butt; stroke-linejoin:round; stroke-width:2; stroke-opacity:0.1; fill:none\" points=\"\n",
       "  2551.25,1734.63 2551.25,155.564 \n",
       "  \"/>\n",
       "<polyline clip-path=\"url(#clip252)\" style=\"stroke:#000000; stroke-linecap:butt; stroke-linejoin:round; stroke-width:2; stroke-opacity:0.05; fill:none\" points=\"\n",
       "  573.675,1734.63 573.675,155.564 \n",
       "  \"/>\n",
       "<polyline clip-path=\"url(#clip252)\" style=\"stroke:#000000; stroke-linecap:butt; stroke-linejoin:round; stroke-width:2; stroke-opacity:0.05; fill:none\" points=\"\n",
       "  677.758,1734.63 677.758,155.564 \n",
       "  \"/>\n",
       "<polyline clip-path=\"url(#clip252)\" style=\"stroke:#000000; stroke-linecap:butt; stroke-linejoin:round; stroke-width:2; stroke-opacity:0.05; fill:none\" points=\"\n",
       "  781.841,1734.63 781.841,155.564 \n",
       "  \"/>\n",
       "<polyline clip-path=\"url(#clip252)\" style=\"stroke:#000000; stroke-linecap:butt; stroke-linejoin:round; stroke-width:2; stroke-opacity:0.05; fill:none\" points=\"\n",
       "  885.924,1734.63 885.924,155.564 \n",
       "  \"/>\n",
       "<polyline clip-path=\"url(#clip252)\" style=\"stroke:#000000; stroke-linecap:butt; stroke-linejoin:round; stroke-width:2; stroke-opacity:0.05; fill:none\" points=\"\n",
       "  1094.09,1734.63 1094.09,155.564 \n",
       "  \"/>\n",
       "<polyline clip-path=\"url(#clip252)\" style=\"stroke:#000000; stroke-linecap:butt; stroke-linejoin:round; stroke-width:2; stroke-opacity:0.05; fill:none\" points=\"\n",
       "  1198.17,1734.63 1198.17,155.564 \n",
       "  \"/>\n",
       "<polyline clip-path=\"url(#clip252)\" style=\"stroke:#000000; stroke-linecap:butt; stroke-linejoin:round; stroke-width:2; stroke-opacity:0.05; fill:none\" points=\"\n",
       "  1302.26,1734.63 1302.26,155.564 \n",
       "  \"/>\n",
       "<polyline clip-path=\"url(#clip252)\" style=\"stroke:#000000; stroke-linecap:butt; stroke-linejoin:round; stroke-width:2; stroke-opacity:0.05; fill:none\" points=\"\n",
       "  1406.34,1734.63 1406.34,155.564 \n",
       "  \"/>\n",
       "<polyline clip-path=\"url(#clip252)\" style=\"stroke:#000000; stroke-linecap:butt; stroke-linejoin:round; stroke-width:2; stroke-opacity:0.05; fill:none\" points=\"\n",
       "  1614.5,1734.63 1614.5,155.564 \n",
       "  \"/>\n",
       "<polyline clip-path=\"url(#clip252)\" style=\"stroke:#000000; stroke-linecap:butt; stroke-linejoin:round; stroke-width:2; stroke-opacity:0.05; fill:none\" points=\"\n",
       "  1718.59,1734.63 1718.59,155.564 \n",
       "  \"/>\n",
       "<polyline clip-path=\"url(#clip252)\" style=\"stroke:#000000; stroke-linecap:butt; stroke-linejoin:round; stroke-width:2; stroke-opacity:0.05; fill:none\" points=\"\n",
       "  1822.67,1734.63 1822.67,155.564 \n",
       "  \"/>\n",
       "<polyline clip-path=\"url(#clip252)\" style=\"stroke:#000000; stroke-linecap:butt; stroke-linejoin:round; stroke-width:2; stroke-opacity:0.05; fill:none\" points=\"\n",
       "  1926.75,1734.63 1926.75,155.564 \n",
       "  \"/>\n",
       "<polyline clip-path=\"url(#clip252)\" style=\"stroke:#000000; stroke-linecap:butt; stroke-linejoin:round; stroke-width:2; stroke-opacity:0.05; fill:none\" points=\"\n",
       "  2134.92,1734.63 2134.92,155.564 \n",
       "  \"/>\n",
       "<polyline clip-path=\"url(#clip252)\" style=\"stroke:#000000; stroke-linecap:butt; stroke-linejoin:round; stroke-width:2; stroke-opacity:0.05; fill:none\" points=\"\n",
       "  2239,1734.63 2239,155.564 \n",
       "  \"/>\n",
       "<polyline clip-path=\"url(#clip252)\" style=\"stroke:#000000; stroke-linecap:butt; stroke-linejoin:round; stroke-width:2; stroke-opacity:0.05; fill:none\" points=\"\n",
       "  2343.09,1734.63 2343.09,155.564 \n",
       "  \"/>\n",
       "<polyline clip-path=\"url(#clip252)\" style=\"stroke:#000000; stroke-linecap:butt; stroke-linejoin:round; stroke-width:2; stroke-opacity:0.05; fill:none\" points=\"\n",
       "  2447.17,1734.63 2447.17,155.564 \n",
       "  \"/>\n",
       "<polyline clip-path=\"url(#clip252)\" style=\"stroke:#000000; stroke-linecap:butt; stroke-linejoin:round; stroke-width:2; stroke-opacity:0.05; fill:none\" points=\"\n",
       "  2655.33,1734.63 2655.33,155.564 \n",
       "  \"/>\n",
       "<polyline clip-path=\"url(#clip250)\" style=\"stroke:#000000; stroke-linecap:butt; stroke-linejoin:round; stroke-width:4; stroke-opacity:1; fill:none\" points=\"\n",
       "  413.803,1734.63 2752.76,1734.63 \n",
       "  \"/>\n",
       "<polyline clip-path=\"url(#clip250)\" style=\"stroke:#000000; stroke-linecap:butt; stroke-linejoin:round; stroke-width:4; stroke-opacity:1; fill:none\" points=\"\n",
       "  469.592,1734.63 469.592,1715.73 \n",
       "  \"/>\n",
       "<polyline clip-path=\"url(#clip250)\" style=\"stroke:#000000; stroke-linecap:butt; stroke-linejoin:round; stroke-width:4; stroke-opacity:1; fill:none\" points=\"\n",
       "  990.007,1734.63 990.007,1715.73 \n",
       "  \"/>\n",
       "<polyline clip-path=\"url(#clip250)\" style=\"stroke:#000000; stroke-linecap:butt; stroke-linejoin:round; stroke-width:4; stroke-opacity:1; fill:none\" points=\"\n",
       "  1510.42,1734.63 1510.42,1715.73 \n",
       "  \"/>\n",
       "<polyline clip-path=\"url(#clip250)\" style=\"stroke:#000000; stroke-linecap:butt; stroke-linejoin:round; stroke-width:4; stroke-opacity:1; fill:none\" points=\"\n",
       "  2030.84,1734.63 2030.84,1715.73 \n",
       "  \"/>\n",
       "<polyline clip-path=\"url(#clip250)\" style=\"stroke:#000000; stroke-linecap:butt; stroke-linejoin:round; stroke-width:4; stroke-opacity:1; fill:none\" points=\"\n",
       "  2551.25,1734.63 2551.25,1715.73 \n",
       "  \"/>\n",
       "<polyline clip-path=\"url(#clip250)\" style=\"stroke:#000000; stroke-linecap:butt; stroke-linejoin:round; stroke-width:4; stroke-opacity:1; fill:none\" points=\"\n",
       "  573.675,1734.63 573.675,1725.18 \n",
       "  \"/>\n",
       "<polyline clip-path=\"url(#clip250)\" style=\"stroke:#000000; stroke-linecap:butt; stroke-linejoin:round; stroke-width:4; stroke-opacity:1; fill:none\" points=\"\n",
       "  677.758,1734.63 677.758,1725.18 \n",
       "  \"/>\n",
       "<polyline clip-path=\"url(#clip250)\" style=\"stroke:#000000; stroke-linecap:butt; stroke-linejoin:round; stroke-width:4; stroke-opacity:1; fill:none\" points=\"\n",
       "  781.841,1734.63 781.841,1725.18 \n",
       "  \"/>\n",
       "<polyline clip-path=\"url(#clip250)\" style=\"stroke:#000000; stroke-linecap:butt; stroke-linejoin:round; stroke-width:4; stroke-opacity:1; fill:none\" points=\"\n",
       "  885.924,1734.63 885.924,1725.18 \n",
       "  \"/>\n",
       "<polyline clip-path=\"url(#clip250)\" style=\"stroke:#000000; stroke-linecap:butt; stroke-linejoin:round; stroke-width:4; stroke-opacity:1; fill:none\" points=\"\n",
       "  1094.09,1734.63 1094.09,1725.18 \n",
       "  \"/>\n",
       "<polyline clip-path=\"url(#clip250)\" style=\"stroke:#000000; stroke-linecap:butt; stroke-linejoin:round; stroke-width:4; stroke-opacity:1; fill:none\" points=\"\n",
       "  1198.17,1734.63 1198.17,1725.18 \n",
       "  \"/>\n",
       "<polyline clip-path=\"url(#clip250)\" style=\"stroke:#000000; stroke-linecap:butt; stroke-linejoin:round; stroke-width:4; stroke-opacity:1; fill:none\" points=\"\n",
       "  1302.26,1734.63 1302.26,1725.18 \n",
       "  \"/>\n",
       "<polyline clip-path=\"url(#clip250)\" style=\"stroke:#000000; stroke-linecap:butt; stroke-linejoin:round; stroke-width:4; stroke-opacity:1; fill:none\" points=\"\n",
       "  1406.34,1734.63 1406.34,1725.18 \n",
       "  \"/>\n",
       "<polyline clip-path=\"url(#clip250)\" style=\"stroke:#000000; stroke-linecap:butt; stroke-linejoin:round; stroke-width:4; stroke-opacity:1; fill:none\" points=\"\n",
       "  1614.5,1734.63 1614.5,1725.18 \n",
       "  \"/>\n",
       "<polyline clip-path=\"url(#clip250)\" style=\"stroke:#000000; stroke-linecap:butt; stroke-linejoin:round; stroke-width:4; stroke-opacity:1; fill:none\" points=\"\n",
       "  1718.59,1734.63 1718.59,1725.18 \n",
       "  \"/>\n",
       "<polyline clip-path=\"url(#clip250)\" style=\"stroke:#000000; stroke-linecap:butt; stroke-linejoin:round; stroke-width:4; stroke-opacity:1; fill:none\" points=\"\n",
       "  1822.67,1734.63 1822.67,1725.18 \n",
       "  \"/>\n",
       "<polyline clip-path=\"url(#clip250)\" style=\"stroke:#000000; stroke-linecap:butt; stroke-linejoin:round; stroke-width:4; stroke-opacity:1; fill:none\" points=\"\n",
       "  1926.75,1734.63 1926.75,1725.18 \n",
       "  \"/>\n",
       "<polyline clip-path=\"url(#clip250)\" style=\"stroke:#000000; stroke-linecap:butt; stroke-linejoin:round; stroke-width:4; stroke-opacity:1; fill:none\" points=\"\n",
       "  2134.92,1734.63 2134.92,1725.18 \n",
       "  \"/>\n",
       "<polyline clip-path=\"url(#clip250)\" style=\"stroke:#000000; stroke-linecap:butt; stroke-linejoin:round; stroke-width:4; stroke-opacity:1; fill:none\" points=\"\n",
       "  2239,1734.63 2239,1725.18 \n",
       "  \"/>\n",
       "<polyline clip-path=\"url(#clip250)\" style=\"stroke:#000000; stroke-linecap:butt; stroke-linejoin:round; stroke-width:4; stroke-opacity:1; fill:none\" points=\"\n",
       "  2343.09,1734.63 2343.09,1725.18 \n",
       "  \"/>\n",
       "<polyline clip-path=\"url(#clip250)\" style=\"stroke:#000000; stroke-linecap:butt; stroke-linejoin:round; stroke-width:4; stroke-opacity:1; fill:none\" points=\"\n",
       "  2447.17,1734.63 2447.17,1725.18 \n",
       "  \"/>\n",
       "<polyline clip-path=\"url(#clip250)\" style=\"stroke:#000000; stroke-linecap:butt; stroke-linejoin:round; stroke-width:4; stroke-opacity:1; fill:none\" points=\"\n",
       "  2655.33,1734.63 2655.33,1725.18 \n",
       "  \"/>\n",
       "<path clip-path=\"url(#clip250)\" d=\"M469.592 1783.4 Q461.467 1783.4 457.352 1791.42 Q453.29 1799.39 453.29 1815.43 Q453.29 1831.42 457.352 1839.44 Q461.467 1847.41 469.592 1847.41 Q477.769 1847.41 481.831 1839.44 Q485.946 1831.42 485.946 1815.43 Q485.946 1799.39 481.831 1791.42 Q477.769 1783.4 469.592 1783.4 M469.592 1775.07 Q482.665 1775.07 489.54 1785.43 Q496.467 1795.74 496.467 1815.43 Q496.467 1835.06 489.54 1845.43 Q482.665 1855.74 469.592 1855.74 Q456.519 1855.74 449.592 1845.43 Q442.717 1835.06 442.717 1815.43 Q442.717 1795.74 449.592 1785.43 Q456.519 1775.07 469.592 1775.07 Z\" fill=\"#000000\" fill-rule=\"evenodd\" fill-opacity=\"1\" /><path clip-path=\"url(#clip250)\" d=\"M933.08 1776.47 L974.382 1776.47 L974.382 1785.33 L942.715 1785.33 L942.715 1804.39 Q945.007 1803.61 947.299 1803.24 Q949.59 1802.83 951.882 1802.83 Q964.903 1802.83 972.507 1809.96 Q980.111 1817.1 980.111 1829.28 Q980.111 1841.84 972.298 1848.81 Q964.486 1855.74 950.267 1855.74 Q945.371 1855.74 940.267 1854.91 Q935.215 1854.08 929.799 1852.41 L929.799 1841.84 Q934.486 1844.39 939.486 1845.64 Q944.486 1846.89 950.059 1846.89 Q959.069 1846.89 964.33 1842.15 Q969.59 1837.41 969.59 1829.28 Q969.59 1821.16 964.33 1816.42 Q959.069 1811.68 950.059 1811.68 Q945.84 1811.68 941.621 1812.62 Q937.455 1813.55 933.08 1815.53 L933.08 1776.47 Z\" fill=\"#000000\" fill-rule=\"evenodd\" fill-opacity=\"1\" /><path clip-path=\"url(#clip250)\" d=\"M1023.34 1783.4 Q1015.21 1783.4 1011.1 1791.42 Q1007.04 1799.39 1007.04 1815.43 Q1007.04 1831.42 1011.1 1839.44 Q1015.21 1847.41 1023.34 1847.41 Q1031.52 1847.41 1035.58 1839.44 Q1039.69 1831.42 1039.69 1815.43 Q1039.69 1799.39 1035.58 1791.42 Q1031.52 1783.4 1023.34 1783.4 M1023.34 1775.07 Q1036.41 1775.07 1043.29 1785.43 Q1050.21 1795.74 1050.21 1815.43 Q1050.21 1835.06 1043.29 1845.43 Q1036.41 1855.74 1023.34 1855.74 Q1010.27 1855.74 1003.34 1845.43 Q996.465 1835.06 996.465 1815.43 Q996.465 1795.74 1003.34 1785.43 Q1010.27 1775.07 1023.34 1775.07 Z\" fill=\"#000000\" fill-rule=\"evenodd\" fill-opacity=\"1\" /><path clip-path=\"url(#clip250)\" d=\"M1419.54 1845.38 L1436.72 1845.38 L1436.72 1786.05 L1418.03 1789.8 L1418.03 1780.22 L1436.62 1776.47 L1447.14 1776.47 L1447.14 1845.38 L1464.33 1845.38 L1464.33 1854.23 L1419.54 1854.23 L1419.54 1845.38 Z\" fill=\"#000000\" fill-rule=\"evenodd\" fill-opacity=\"1\" /><path clip-path=\"url(#clip250)\" d=\"M1508.08 1783.4 Q1499.95 1783.4 1495.84 1791.42 Q1491.78 1799.39 1491.78 1815.43 Q1491.78 1831.42 1495.84 1839.44 Q1499.95 1847.41 1508.08 1847.41 Q1516.25 1847.41 1520.32 1839.44 Q1524.43 1831.42 1524.43 1815.43 Q1524.43 1799.39 1520.32 1791.42 Q1516.25 1783.4 1508.08 1783.4 M1508.08 1775.07 Q1521.15 1775.07 1528.03 1785.43 Q1534.95 1795.74 1534.95 1815.43 Q1534.95 1835.06 1528.03 1845.43 Q1521.15 1855.74 1508.08 1855.74 Q1495 1855.74 1488.08 1845.43 Q1481.2 1835.06 1481.2 1815.43 Q1481.2 1795.74 1488.08 1785.43 Q1495 1775.07 1508.08 1775.07 Z\" fill=\"#000000\" fill-rule=\"evenodd\" fill-opacity=\"1\" /><path clip-path=\"url(#clip250)\" d=\"M1575.94 1783.4 Q1567.82 1783.4 1563.7 1791.42 Q1559.64 1799.39 1559.64 1815.43 Q1559.64 1831.42 1563.7 1839.44 Q1567.82 1847.41 1575.94 1847.41 Q1584.12 1847.41 1588.18 1839.44 Q1592.3 1831.42 1592.3 1815.43 Q1592.3 1799.39 1588.18 1791.42 Q1584.12 1783.4 1575.94 1783.4 M1575.94 1775.07 Q1589.01 1775.07 1595.89 1785.43 Q1602.82 1795.74 1602.82 1815.43 Q1602.82 1835.06 1595.89 1845.43 Q1589.01 1855.74 1575.94 1855.74 Q1562.87 1855.74 1555.94 1845.43 Q1549.07 1835.06 1549.07 1815.43 Q1549.07 1795.74 1555.94 1785.43 Q1562.87 1775.07 1575.94 1775.07 Z\" fill=\"#000000\" fill-rule=\"evenodd\" fill-opacity=\"1\" /><path clip-path=\"url(#clip250)\" d=\"M1939.95 1845.38 L1957.14 1845.38 L1957.14 1786.05 L1938.44 1789.8 L1938.44 1780.22 L1957.03 1776.47 L1967.56 1776.47 L1967.56 1845.38 L1984.74 1845.38 L1984.74 1854.23 L1939.95 1854.23 L1939.95 1845.38 Z\" fill=\"#000000\" fill-rule=\"evenodd\" fill-opacity=\"1\" /><path clip-path=\"url(#clip250)\" d=\"M2006.1 1776.47 L2047.4 1776.47 L2047.4 1785.33 L2015.73 1785.33 L2015.73 1804.39 Q2018.02 1803.61 2020.32 1803.24 Q2022.61 1802.83 2024.9 1802.83 Q2037.92 1802.83 2045.52 1809.96 Q2053.13 1817.1 2053.13 1829.28 Q2053.13 1841.84 2045.32 1848.81 Q2037.5 1855.74 2023.28 1855.74 Q2018.39 1855.74 2013.28 1854.91 Q2008.23 1854.08 2002.82 1852.41 L2002.82 1841.84 Q2007.5 1844.39 2012.5 1845.64 Q2017.5 1846.89 2023.08 1846.89 Q2032.09 1846.89 2037.35 1842.15 Q2042.61 1837.41 2042.61 1829.28 Q2042.61 1821.16 2037.35 1816.42 Q2032.09 1811.68 2023.08 1811.68 Q2018.86 1811.68 2014.64 1812.62 Q2010.47 1813.55 2006.1 1815.53 L2006.1 1776.47 Z\" fill=\"#000000\" fill-rule=\"evenodd\" fill-opacity=\"1\" /><path clip-path=\"url(#clip250)\" d=\"M2096.36 1783.4 Q2088.23 1783.4 2084.12 1791.42 Q2080.05 1799.39 2080.05 1815.43 Q2080.05 1831.42 2084.12 1839.44 Q2088.23 1847.41 2096.36 1847.41 Q2104.53 1847.41 2108.6 1839.44 Q2112.71 1831.42 2112.71 1815.43 Q2112.71 1799.39 2108.6 1791.42 Q2104.53 1783.4 2096.36 1783.4 M2096.36 1775.07 Q2109.43 1775.07 2116.3 1785.43 Q2123.23 1795.74 2123.23 1815.43 Q2123.23 1835.06 2116.3 1845.43 Q2109.43 1855.74 2096.36 1855.74 Q2083.28 1855.74 2076.36 1845.43 Q2069.48 1835.06 2069.48 1815.43 Q2069.48 1795.74 2076.36 1785.43 Q2083.28 1775.07 2096.36 1775.07 Z\" fill=\"#000000\" fill-rule=\"evenodd\" fill-opacity=\"1\" /><path clip-path=\"url(#clip250)\" d=\"M2469.56 1845.38 L2506.28 1845.38 L2506.28 1854.23 L2456.9 1854.23 L2456.9 1845.38 Q2462.89 1839.18 2473.2 1828.76 Q2483.57 1818.29 2486.23 1815.27 Q2491.28 1809.6 2493.26 1805.69 Q2495.29 1801.73 2495.29 1797.93 Q2495.29 1791.73 2490.91 1787.83 Q2486.59 1783.92 2479.61 1783.92 Q2474.66 1783.92 2469.14 1785.64 Q2463.67 1787.36 2457.42 1790.85 L2457.42 1780.22 Q2463.78 1777.67 2469.3 1776.37 Q2474.82 1775.07 2479.4 1775.07 Q2491.49 1775.07 2498.67 1781.11 Q2505.86 1787.15 2505.86 1797.25 Q2505.86 1802.04 2504.04 1806.37 Q2502.27 1810.64 2497.53 1816.47 Q2496.23 1817.98 2489.25 1825.22 Q2482.27 1832.41 2469.56 1845.38 Z\" fill=\"#000000\" fill-rule=\"evenodd\" fill-opacity=\"1\" /><path clip-path=\"url(#clip250)\" d=\"M2550.86 1783.4 Q2542.74 1783.4 2538.62 1791.42 Q2534.56 1799.39 2534.56 1815.43 Q2534.56 1831.42 2538.62 1839.44 Q2542.74 1847.41 2550.86 1847.41 Q2559.04 1847.41 2563.1 1839.44 Q2567.21 1831.42 2567.21 1815.43 Q2567.21 1799.39 2563.1 1791.42 Q2559.04 1783.4 2550.86 1783.4 M2550.86 1775.07 Q2563.93 1775.07 2570.81 1785.43 Q2577.74 1795.74 2577.74 1815.43 Q2577.74 1835.06 2570.81 1845.43 Q2563.93 1855.74 2550.86 1855.74 Q2537.79 1855.74 2530.86 1845.43 Q2523.99 1835.06 2523.99 1815.43 Q2523.99 1795.74 2530.86 1785.43 Q2537.79 1775.07 2550.86 1775.07 Z\" fill=\"#000000\" fill-rule=\"evenodd\" fill-opacity=\"1\" /><path clip-path=\"url(#clip250)\" d=\"M2618.72 1783.4 Q2610.6 1783.4 2606.49 1791.42 Q2602.42 1799.39 2602.42 1815.43 Q2602.42 1831.42 2606.49 1839.44 Q2610.6 1847.41 2618.72 1847.41 Q2626.9 1847.41 2630.96 1839.44 Q2635.08 1831.42 2635.08 1815.43 Q2635.08 1799.39 2630.96 1791.42 Q2626.9 1783.4 2618.72 1783.4 M2618.72 1775.07 Q2631.8 1775.07 2638.67 1785.43 Q2645.6 1795.74 2645.6 1815.43 Q2645.6 1835.06 2638.67 1845.43 Q2631.8 1855.74 2618.72 1855.74 Q2605.65 1855.74 2598.72 1845.43 Q2591.85 1835.06 2591.85 1815.43 Q2591.85 1795.74 2598.72 1785.43 Q2605.65 1775.07 2618.72 1775.07 Z\" fill=\"#000000\" fill-rule=\"evenodd\" fill-opacity=\"1\" /><path clip-path=\"url(#clip250)\" d=\"M1400.03 1908.82 L1449.19 1908.82 L1449.19 1917.68 L1410.55 1917.68 L1410.55 1940.7 L1447.58 1940.7 L1447.58 1949.55 L1410.55 1949.55 L1410.55 1977.73 L1450.13 1977.73 L1450.13 1986.58 L1400.03 1986.58 L1400.03 1908.82 Z\" fill=\"#000000\" fill-rule=\"evenodd\" fill-opacity=\"1\" /><path clip-path=\"url(#clip250)\" d=\"M1476.27 1977.83 L1476.27 2008.77 L1466.64 2008.77 L1466.64 1928.25 L1476.27 1928.25 L1476.27 1937.1 Q1479.3 1931.9 1483.88 1929.4 Q1488.51 1926.84 1494.92 1926.84 Q1505.55 1926.84 1512.16 1935.28 Q1518.83 1943.72 1518.83 1957.47 Q1518.83 1971.22 1512.16 1979.66 Q1505.55 1988.09 1494.92 1988.09 Q1488.51 1988.09 1483.88 1985.59 Q1479.3 1983.04 1476.27 1977.83 M1508.88 1957.47 Q1508.88 1946.9 1504.5 1940.91 Q1500.18 1934.86 1492.58 1934.86 Q1484.97 1934.86 1480.6 1940.91 Q1476.27 1946.9 1476.27 1957.47 Q1476.27 1968.04 1480.6 1974.08 Q1484.97 1980.07 1492.58 1980.07 Q1500.18 1980.07 1504.5 1974.08 Q1508.88 1968.04 1508.88 1957.47 Z\" fill=\"#000000\" fill-rule=\"evenodd\" fill-opacity=\"1\" /><path clip-path=\"url(#clip250)\" d=\"M1557.32 1934.97 Q1549.61 1934.97 1545.13 1941.01 Q1540.65 1947 1540.65 1957.47 Q1540.65 1967.94 1545.08 1973.98 Q1549.56 1979.97 1557.32 1979.97 Q1564.97 1979.97 1569.45 1973.93 Q1573.93 1967.89 1573.93 1957.47 Q1573.93 1947.1 1569.45 1941.06 Q1564.97 1934.97 1557.32 1934.97 M1557.32 1926.84 Q1569.82 1926.84 1576.95 1934.97 Q1584.09 1943.09 1584.09 1957.47 Q1584.09 1971.79 1576.95 1979.97 Q1569.82 1988.09 1557.32 1988.09 Q1544.76 1988.09 1537.63 1979.97 Q1530.55 1971.79 1530.55 1957.47 Q1530.55 1943.09 1537.63 1934.97 Q1544.76 1926.84 1557.32 1926.84 Z\" fill=\"#000000\" fill-rule=\"evenodd\" fill-opacity=\"1\" /><path clip-path=\"url(#clip250)\" d=\"M1641.95 1930.49 L1641.95 1939.45 Q1637.89 1937.21 1633.77 1936.11 Q1629.71 1934.97 1625.54 1934.97 Q1616.22 1934.97 1611.07 1940.91 Q1605.91 1946.79 1605.91 1957.47 Q1605.91 1968.15 1611.07 1974.08 Q1616.22 1979.97 1625.54 1979.97 Q1629.71 1979.97 1633.77 1978.87 Q1637.89 1977.73 1641.95 1975.49 L1641.95 1984.34 Q1637.94 1986.22 1633.62 1987.16 Q1629.35 1988.09 1624.5 1988.09 Q1611.33 1988.09 1603.57 1979.81 Q1595.81 1971.53 1595.81 1957.47 Q1595.81 1943.2 1603.62 1935.02 Q1611.48 1926.84 1625.13 1926.84 Q1629.56 1926.84 1633.77 1927.78 Q1637.99 1928.67 1641.95 1930.49 Z\" fill=\"#000000\" fill-rule=\"evenodd\" fill-opacity=\"1\" /><path clip-path=\"url(#clip250)\" d=\"M1707.11 1951.38 L1707.11 1986.58 L1697.52 1986.58 L1697.52 1951.69 Q1697.52 1943.41 1694.29 1939.29 Q1691.07 1935.18 1684.61 1935.18 Q1676.85 1935.18 1672.37 1940.13 Q1667.89 1945.07 1667.89 1953.61 L1667.89 1986.58 L1658.25 1986.58 L1658.25 1905.54 L1667.89 1905.54 L1667.89 1937.31 Q1671.33 1932.05 1675.96 1929.45 Q1680.65 1926.84 1686.74 1926.84 Q1696.79 1926.84 1701.95 1933.09 Q1707.11 1939.29 1707.11 1951.38 Z\" fill=\"#000000\" fill-rule=\"evenodd\" fill-opacity=\"1\" /><path clip-path=\"url(#clip250)\" d=\"M1763.41 1929.97 L1763.41 1939.03 Q1759.35 1936.95 1754.97 1935.91 Q1750.6 1934.86 1745.91 1934.86 Q1738.77 1934.86 1735.18 1937.05 Q1731.64 1939.24 1731.64 1943.61 Q1731.64 1946.95 1734.19 1948.88 Q1736.74 1950.75 1744.45 1952.47 L1747.73 1953.2 Q1757.94 1955.39 1762.21 1959.4 Q1766.53 1963.35 1766.53 1970.49 Q1766.53 1978.61 1760.08 1983.35 Q1753.67 1988.09 1742.42 1988.09 Q1737.73 1988.09 1732.63 1987.16 Q1727.58 1986.27 1721.95 1984.45 L1721.95 1974.55 Q1727.26 1977.31 1732.42 1978.72 Q1737.58 1980.07 1742.63 1980.07 Q1749.4 1980.07 1753.04 1977.78 Q1756.69 1975.44 1756.69 1971.22 Q1756.69 1967.31 1754.03 1965.23 Q1751.43 1963.15 1742.52 1961.22 L1739.19 1960.44 Q1730.28 1958.56 1726.33 1954.71 Q1722.37 1950.8 1722.37 1944.03 Q1722.37 1935.8 1728.2 1931.32 Q1734.03 1926.84 1744.76 1926.84 Q1750.08 1926.84 1754.76 1927.63 Q1759.45 1928.41 1763.41 1929.97 Z\" fill=\"#000000\" fill-rule=\"evenodd\" fill-opacity=\"1\" /><polyline clip-path=\"url(#clip252)\" style=\"stroke:#000000; stroke-linecap:butt; stroke-linejoin:round; stroke-width:2; stroke-opacity:0.1; fill:none\" points=\"\n",
       "  413.803,1514.14 2752.76,1514.14 \n",
       "  \"/>\n",
       "<polyline clip-path=\"url(#clip252)\" style=\"stroke:#000000; stroke-linecap:butt; stroke-linejoin:round; stroke-width:2; stroke-opacity:0.1; fill:none\" points=\"\n",
       "  413.803,1232.8 2752.76,1232.8 \n",
       "  \"/>\n",
       "<polyline clip-path=\"url(#clip252)\" style=\"stroke:#000000; stroke-linecap:butt; stroke-linejoin:round; stroke-width:2; stroke-opacity:0.1; fill:none\" points=\"\n",
       "  413.803,951.457 2752.76,951.457 \n",
       "  \"/>\n",
       "<polyline clip-path=\"url(#clip252)\" style=\"stroke:#000000; stroke-linecap:butt; stroke-linejoin:round; stroke-width:2; stroke-opacity:0.1; fill:none\" points=\"\n",
       "  413.803,670.114 2752.76,670.114 \n",
       "  \"/>\n",
       "<polyline clip-path=\"url(#clip252)\" style=\"stroke:#000000; stroke-linecap:butt; stroke-linejoin:round; stroke-width:2; stroke-opacity:0.1; fill:none\" points=\"\n",
       "  413.803,388.771 2752.76,388.771 \n",
       "  \"/>\n",
       "<polyline clip-path=\"url(#clip252)\" style=\"stroke:#000000; stroke-linecap:butt; stroke-linejoin:round; stroke-width:2; stroke-opacity:0.05; fill:none\" points=\"\n",
       "  413.803,1682.95 2752.76,1682.95 \n",
       "  \"/>\n",
       "<polyline clip-path=\"url(#clip252)\" style=\"stroke:#000000; stroke-linecap:butt; stroke-linejoin:round; stroke-width:2; stroke-opacity:0.05; fill:none\" points=\"\n",
       "  413.803,1626.68 2752.76,1626.68 \n",
       "  \"/>\n",
       "<polyline clip-path=\"url(#clip252)\" style=\"stroke:#000000; stroke-linecap:butt; stroke-linejoin:round; stroke-width:2; stroke-opacity:0.05; fill:none\" points=\"\n",
       "  413.803,1570.41 2752.76,1570.41 \n",
       "  \"/>\n",
       "<polyline clip-path=\"url(#clip252)\" style=\"stroke:#000000; stroke-linecap:butt; stroke-linejoin:round; stroke-width:2; stroke-opacity:0.05; fill:none\" points=\"\n",
       "  413.803,1457.87 2752.76,1457.87 \n",
       "  \"/>\n",
       "<polyline clip-path=\"url(#clip252)\" style=\"stroke:#000000; stroke-linecap:butt; stroke-linejoin:round; stroke-width:2; stroke-opacity:0.05; fill:none\" points=\"\n",
       "  413.803,1401.6 2752.76,1401.6 \n",
       "  \"/>\n",
       "<polyline clip-path=\"url(#clip252)\" style=\"stroke:#000000; stroke-linecap:butt; stroke-linejoin:round; stroke-width:2; stroke-opacity:0.05; fill:none\" points=\"\n",
       "  413.803,1345.34 2752.76,1345.34 \n",
       "  \"/>\n",
       "<polyline clip-path=\"url(#clip252)\" style=\"stroke:#000000; stroke-linecap:butt; stroke-linejoin:round; stroke-width:2; stroke-opacity:0.05; fill:none\" points=\"\n",
       "  413.803,1289.07 2752.76,1289.07 \n",
       "  \"/>\n",
       "<polyline clip-path=\"url(#clip252)\" style=\"stroke:#000000; stroke-linecap:butt; stroke-linejoin:round; stroke-width:2; stroke-opacity:0.05; fill:none\" points=\"\n",
       "  413.803,1176.53 2752.76,1176.53 \n",
       "  \"/>\n",
       "<polyline clip-path=\"url(#clip252)\" style=\"stroke:#000000; stroke-linecap:butt; stroke-linejoin:round; stroke-width:2; stroke-opacity:0.05; fill:none\" points=\"\n",
       "  413.803,1120.26 2752.76,1120.26 \n",
       "  \"/>\n",
       "<polyline clip-path=\"url(#clip252)\" style=\"stroke:#000000; stroke-linecap:butt; stroke-linejoin:round; stroke-width:2; stroke-opacity:0.05; fill:none\" points=\"\n",
       "  413.803,1063.99 2752.76,1063.99 \n",
       "  \"/>\n",
       "<polyline clip-path=\"url(#clip252)\" style=\"stroke:#000000; stroke-linecap:butt; stroke-linejoin:round; stroke-width:2; stroke-opacity:0.05; fill:none\" points=\"\n",
       "  413.803,1007.73 2752.76,1007.73 \n",
       "  \"/>\n",
       "<polyline clip-path=\"url(#clip252)\" style=\"stroke:#000000; stroke-linecap:butt; stroke-linejoin:round; stroke-width:2; stroke-opacity:0.05; fill:none\" points=\"\n",
       "  413.803,895.188 2752.76,895.188 \n",
       "  \"/>\n",
       "<polyline clip-path=\"url(#clip252)\" style=\"stroke:#000000; stroke-linecap:butt; stroke-linejoin:round; stroke-width:2; stroke-opacity:0.05; fill:none\" points=\"\n",
       "  413.803,838.919 2752.76,838.919 \n",
       "  \"/>\n",
       "<polyline clip-path=\"url(#clip252)\" style=\"stroke:#000000; stroke-linecap:butt; stroke-linejoin:round; stroke-width:2; stroke-opacity:0.05; fill:none\" points=\"\n",
       "  413.803,782.651 2752.76,782.651 \n",
       "  \"/>\n",
       "<polyline clip-path=\"url(#clip252)\" style=\"stroke:#000000; stroke-linecap:butt; stroke-linejoin:round; stroke-width:2; stroke-opacity:0.05; fill:none\" points=\"\n",
       "  413.803,726.382 2752.76,726.382 \n",
       "  \"/>\n",
       "<polyline clip-path=\"url(#clip252)\" style=\"stroke:#000000; stroke-linecap:butt; stroke-linejoin:round; stroke-width:2; stroke-opacity:0.05; fill:none\" points=\"\n",
       "  413.803,613.845 2752.76,613.845 \n",
       "  \"/>\n",
       "<polyline clip-path=\"url(#clip252)\" style=\"stroke:#000000; stroke-linecap:butt; stroke-linejoin:round; stroke-width:2; stroke-opacity:0.05; fill:none\" points=\"\n",
       "  413.803,557.577 2752.76,557.577 \n",
       "  \"/>\n",
       "<polyline clip-path=\"url(#clip252)\" style=\"stroke:#000000; stroke-linecap:butt; stroke-linejoin:round; stroke-width:2; stroke-opacity:0.05; fill:none\" points=\"\n",
       "  413.803,501.308 2752.76,501.308 \n",
       "  \"/>\n",
       "<polyline clip-path=\"url(#clip252)\" style=\"stroke:#000000; stroke-linecap:butt; stroke-linejoin:round; stroke-width:2; stroke-opacity:0.05; fill:none\" points=\"\n",
       "  413.803,445.04 2752.76,445.04 \n",
       "  \"/>\n",
       "<polyline clip-path=\"url(#clip252)\" style=\"stroke:#000000; stroke-linecap:butt; stroke-linejoin:round; stroke-width:2; stroke-opacity:0.05; fill:none\" points=\"\n",
       "  413.803,332.503 2752.76,332.503 \n",
       "  \"/>\n",
       "<polyline clip-path=\"url(#clip252)\" style=\"stroke:#000000; stroke-linecap:butt; stroke-linejoin:round; stroke-width:2; stroke-opacity:0.05; fill:none\" points=\"\n",
       "  413.803,276.234 2752.76,276.234 \n",
       "  \"/>\n",
       "<polyline clip-path=\"url(#clip252)\" style=\"stroke:#000000; stroke-linecap:butt; stroke-linejoin:round; stroke-width:2; stroke-opacity:0.05; fill:none\" points=\"\n",
       "  413.803,219.966 2752.76,219.966 \n",
       "  \"/>\n",
       "<polyline clip-path=\"url(#clip252)\" style=\"stroke:#000000; stroke-linecap:butt; stroke-linejoin:round; stroke-width:2; stroke-opacity:0.05; fill:none\" points=\"\n",
       "  413.803,163.697 2752.76,163.697 \n",
       "  \"/>\n",
       "<polyline clip-path=\"url(#clip250)\" style=\"stroke:#000000; stroke-linecap:butt; stroke-linejoin:round; stroke-width:4; stroke-opacity:1; fill:none\" points=\"\n",
       "  413.803,1734.63 413.803,155.564 \n",
       "  \"/>\n",
       "<polyline clip-path=\"url(#clip250)\" style=\"stroke:#000000; stroke-linecap:butt; stroke-linejoin:round; stroke-width:4; stroke-opacity:1; fill:none\" points=\"\n",
       "  413.803,1514.14 432.701,1514.14 \n",
       "  \"/>\n",
       "<polyline clip-path=\"url(#clip250)\" style=\"stroke:#000000; stroke-linecap:butt; stroke-linejoin:round; stroke-width:4; stroke-opacity:1; fill:none\" points=\"\n",
       "  413.803,1232.8 432.701,1232.8 \n",
       "  \"/>\n",
       "<polyline clip-path=\"url(#clip250)\" style=\"stroke:#000000; stroke-linecap:butt; stroke-linejoin:round; stroke-width:4; stroke-opacity:1; fill:none\" points=\"\n",
       "  413.803,951.457 432.701,951.457 \n",
       "  \"/>\n",
       "<polyline clip-path=\"url(#clip250)\" style=\"stroke:#000000; stroke-linecap:butt; stroke-linejoin:round; stroke-width:4; stroke-opacity:1; fill:none\" points=\"\n",
       "  413.803,670.114 432.701,670.114 \n",
       "  \"/>\n",
       "<polyline clip-path=\"url(#clip250)\" style=\"stroke:#000000; stroke-linecap:butt; stroke-linejoin:round; stroke-width:4; stroke-opacity:1; fill:none\" points=\"\n",
       "  413.803,388.771 432.701,388.771 \n",
       "  \"/>\n",
       "<polyline clip-path=\"url(#clip250)\" style=\"stroke:#000000; stroke-linecap:butt; stroke-linejoin:round; stroke-width:4; stroke-opacity:1; fill:none\" points=\"\n",
       "  413.803,1682.95 423.252,1682.95 \n",
       "  \"/>\n",
       "<polyline clip-path=\"url(#clip250)\" style=\"stroke:#000000; stroke-linecap:butt; stroke-linejoin:round; stroke-width:4; stroke-opacity:1; fill:none\" points=\"\n",
       "  413.803,1626.68 423.252,1626.68 \n",
       "  \"/>\n",
       "<polyline clip-path=\"url(#clip250)\" style=\"stroke:#000000; stroke-linecap:butt; stroke-linejoin:round; stroke-width:4; stroke-opacity:1; fill:none\" points=\"\n",
       "  413.803,1570.41 423.252,1570.41 \n",
       "  \"/>\n",
       "<polyline clip-path=\"url(#clip250)\" style=\"stroke:#000000; stroke-linecap:butt; stroke-linejoin:round; stroke-width:4; stroke-opacity:1; fill:none\" points=\"\n",
       "  413.803,1457.87 423.252,1457.87 \n",
       "  \"/>\n",
       "<polyline clip-path=\"url(#clip250)\" style=\"stroke:#000000; stroke-linecap:butt; stroke-linejoin:round; stroke-width:4; stroke-opacity:1; fill:none\" points=\"\n",
       "  413.803,1401.6 423.252,1401.6 \n",
       "  \"/>\n",
       "<polyline clip-path=\"url(#clip250)\" style=\"stroke:#000000; stroke-linecap:butt; stroke-linejoin:round; stroke-width:4; stroke-opacity:1; fill:none\" points=\"\n",
       "  413.803,1345.34 423.252,1345.34 \n",
       "  \"/>\n",
       "<polyline clip-path=\"url(#clip250)\" style=\"stroke:#000000; stroke-linecap:butt; stroke-linejoin:round; stroke-width:4; stroke-opacity:1; fill:none\" points=\"\n",
       "  413.803,1289.07 423.252,1289.07 \n",
       "  \"/>\n",
       "<polyline clip-path=\"url(#clip250)\" style=\"stroke:#000000; stroke-linecap:butt; stroke-linejoin:round; stroke-width:4; stroke-opacity:1; fill:none\" points=\"\n",
       "  413.803,1176.53 423.252,1176.53 \n",
       "  \"/>\n",
       "<polyline clip-path=\"url(#clip250)\" style=\"stroke:#000000; stroke-linecap:butt; stroke-linejoin:round; stroke-width:4; stroke-opacity:1; fill:none\" points=\"\n",
       "  413.803,1120.26 423.252,1120.26 \n",
       "  \"/>\n",
       "<polyline clip-path=\"url(#clip250)\" style=\"stroke:#000000; stroke-linecap:butt; stroke-linejoin:round; stroke-width:4; stroke-opacity:1; fill:none\" points=\"\n",
       "  413.803,1063.99 423.252,1063.99 \n",
       "  \"/>\n",
       "<polyline clip-path=\"url(#clip250)\" style=\"stroke:#000000; stroke-linecap:butt; stroke-linejoin:round; stroke-width:4; stroke-opacity:1; fill:none\" points=\"\n",
       "  413.803,1007.73 423.252,1007.73 \n",
       "  \"/>\n",
       "<polyline clip-path=\"url(#clip250)\" style=\"stroke:#000000; stroke-linecap:butt; stroke-linejoin:round; stroke-width:4; stroke-opacity:1; fill:none\" points=\"\n",
       "  413.803,895.188 423.252,895.188 \n",
       "  \"/>\n",
       "<polyline clip-path=\"url(#clip250)\" style=\"stroke:#000000; stroke-linecap:butt; stroke-linejoin:round; stroke-width:4; stroke-opacity:1; fill:none\" points=\"\n",
       "  413.803,838.919 423.252,838.919 \n",
       "  \"/>\n",
       "<polyline clip-path=\"url(#clip250)\" style=\"stroke:#000000; stroke-linecap:butt; stroke-linejoin:round; stroke-width:4; stroke-opacity:1; fill:none\" points=\"\n",
       "  413.803,782.651 423.252,782.651 \n",
       "  \"/>\n",
       "<polyline clip-path=\"url(#clip250)\" style=\"stroke:#000000; stroke-linecap:butt; stroke-linejoin:round; stroke-width:4; stroke-opacity:1; fill:none\" points=\"\n",
       "  413.803,726.382 423.252,726.382 \n",
       "  \"/>\n",
       "<polyline clip-path=\"url(#clip250)\" style=\"stroke:#000000; stroke-linecap:butt; stroke-linejoin:round; stroke-width:4; stroke-opacity:1; fill:none\" points=\"\n",
       "  413.803,613.845 423.252,613.845 \n",
       "  \"/>\n",
       "<polyline clip-path=\"url(#clip250)\" style=\"stroke:#000000; stroke-linecap:butt; stroke-linejoin:round; stroke-width:4; stroke-opacity:1; fill:none\" points=\"\n",
       "  413.803,557.577 423.252,557.577 \n",
       "  \"/>\n",
       "<polyline clip-path=\"url(#clip250)\" style=\"stroke:#000000; stroke-linecap:butt; stroke-linejoin:round; stroke-width:4; stroke-opacity:1; fill:none\" points=\"\n",
       "  413.803,501.308 423.252,501.308 \n",
       "  \"/>\n",
       "<polyline clip-path=\"url(#clip250)\" style=\"stroke:#000000; stroke-linecap:butt; stroke-linejoin:round; stroke-width:4; stroke-opacity:1; fill:none\" points=\"\n",
       "  413.803,445.04 423.252,445.04 \n",
       "  \"/>\n",
       "<polyline clip-path=\"url(#clip250)\" style=\"stroke:#000000; stroke-linecap:butt; stroke-linejoin:round; stroke-width:4; stroke-opacity:1; fill:none\" points=\"\n",
       "  413.803,332.503 423.252,332.503 \n",
       "  \"/>\n",
       "<polyline clip-path=\"url(#clip250)\" style=\"stroke:#000000; stroke-linecap:butt; stroke-linejoin:round; stroke-width:4; stroke-opacity:1; fill:none\" points=\"\n",
       "  413.803,276.234 423.252,276.234 \n",
       "  \"/>\n",
       "<polyline clip-path=\"url(#clip250)\" style=\"stroke:#000000; stroke-linecap:butt; stroke-linejoin:round; stroke-width:4; stroke-opacity:1; fill:none\" points=\"\n",
       "  413.803,219.966 423.252,219.966 \n",
       "  \"/>\n",
       "<polyline clip-path=\"url(#clip250)\" style=\"stroke:#000000; stroke-linecap:butt; stroke-linejoin:round; stroke-width:4; stroke-opacity:1; fill:none\" points=\"\n",
       "  413.803,163.697 423.252,163.697 \n",
       "  \"/>\n",
       "<path clip-path=\"url(#clip250)\" d=\"M176.752 1482.19 Q168.627 1482.19 164.513 1490.21 Q160.45 1498.18 160.45 1514.22 Q160.45 1530.21 164.513 1538.23 Q168.627 1546.2 176.752 1546.2 Q184.929 1546.2 188.992 1538.23 Q193.106 1530.21 193.106 1514.22 Q193.106 1498.18 188.992 1490.21 Q184.929 1482.19 176.752 1482.19 M176.752 1473.86 Q189.825 1473.86 196.7 1484.22 Q203.627 1494.53 203.627 1514.22 Q203.627 1533.86 196.7 1544.22 Q189.825 1554.53 176.752 1554.53 Q163.679 1554.53 156.752 1544.22 Q149.877 1533.86 149.877 1514.22 Q149.877 1494.53 156.752 1484.22 Q163.679 1473.86 176.752 1473.86 Z\" fill=\"#000000\" fill-rule=\"evenodd\" fill-opacity=\"1\" /><path clip-path=\"url(#clip250)\" d=\"M222.117 1539.79 L233.106 1539.79 L233.106 1553.02 L222.117 1553.02 L222.117 1539.79 Z\" fill=\"#000000\" fill-rule=\"evenodd\" fill-opacity=\"1\" /><path clip-path=\"url(#clip250)\" d=\"M278.522 1482.19 Q270.398 1482.19 266.283 1490.21 Q262.22 1498.18 262.22 1514.22 Q262.22 1530.21 266.283 1538.23 Q270.398 1546.2 278.522 1546.2 Q286.7 1546.2 290.762 1538.23 Q294.877 1530.21 294.877 1514.22 Q294.877 1498.18 290.762 1490.21 Q286.7 1482.19 278.522 1482.19 M278.522 1473.86 Q291.595 1473.86 298.47 1484.22 Q305.397 1494.53 305.397 1514.22 Q305.397 1533.86 298.47 1544.22 Q291.595 1554.53 278.522 1554.53 Q265.45 1554.53 258.523 1544.22 Q251.648 1533.86 251.648 1514.22 Q251.648 1494.53 258.523 1484.22 Q265.45 1473.86 278.522 1473.86 Z\" fill=\"#000000\" fill-rule=\"evenodd\" fill-opacity=\"1\" /><path clip-path=\"url(#clip250)\" d=\"M355.762 1511.09 Q363.314 1512.71 367.532 1517.81 Q371.803 1522.92 371.803 1530.42 Q371.803 1541.93 363.887 1548.23 Q355.97 1554.53 341.387 1554.53 Q336.491 1554.53 331.283 1553.54 Q326.126 1552.61 320.606 1550.68 L320.606 1540.52 Q324.981 1543.07 330.189 1544.38 Q335.397 1545.68 341.074 1545.68 Q350.97 1545.68 356.126 1541.77 Q361.335 1537.87 361.335 1530.42 Q361.335 1523.54 356.491 1519.69 Q351.699 1515.78 343.105 1515.78 L334.043 1515.78 L334.043 1507.14 L343.522 1507.14 Q351.283 1507.14 355.397 1504.06 Q359.512 1500.94 359.512 1495.11 Q359.512 1489.12 355.241 1485.94 Q351.022 1482.71 343.105 1482.71 Q338.783 1482.71 333.835 1483.65 Q328.887 1484.58 322.949 1486.56 L322.949 1477.19 Q328.939 1475.52 334.147 1474.69 Q339.408 1473.86 344.043 1473.86 Q356.022 1473.86 363.001 1479.32 Q369.98 1484.74 369.98 1494.01 Q369.98 1500.47 366.282 1504.95 Q362.585 1509.38 355.762 1511.09 Z\" fill=\"#000000\" fill-rule=\"evenodd\" fill-opacity=\"1\" /><path clip-path=\"url(#clip250)\" d=\"M174.929 1200.85 Q166.804 1200.85 162.69 1208.87 Q158.627 1216.84 158.627 1232.88 Q158.627 1248.87 162.69 1256.89 Q166.804 1264.86 174.929 1264.86 Q183.106 1264.86 187.169 1256.89 Q191.283 1248.87 191.283 1232.88 Q191.283 1216.84 187.169 1208.87 Q183.106 1200.85 174.929 1200.85 M174.929 1192.51 Q188.002 1192.51 194.877 1202.88 Q201.804 1213.19 201.804 1232.88 Q201.804 1252.51 194.877 1262.88 Q188.002 1273.19 174.929 1273.19 Q161.856 1273.19 154.929 1262.88 Q148.054 1252.51 148.054 1232.88 Q148.054 1213.19 154.929 1202.88 Q161.856 1192.51 174.929 1192.51 Z\" fill=\"#000000\" fill-rule=\"evenodd\" fill-opacity=\"1\" /><path clip-path=\"url(#clip250)\" d=\"M220.294 1258.45 L231.283 1258.45 L231.283 1271.68 L220.294 1271.68 L220.294 1258.45 Z\" fill=\"#000000\" fill-rule=\"evenodd\" fill-opacity=\"1\" /><path clip-path=\"url(#clip250)\" d=\"M276.7 1200.85 Q268.575 1200.85 264.46 1208.87 Q260.398 1216.84 260.398 1232.88 Q260.398 1248.87 264.46 1256.89 Q268.575 1264.86 276.7 1264.86 Q284.877 1264.86 288.939 1256.89 Q293.054 1248.87 293.054 1232.88 Q293.054 1216.84 288.939 1208.87 Q284.877 1200.85 276.7 1200.85 M276.7 1192.51 Q289.772 1192.51 296.647 1202.88 Q303.574 1213.19 303.574 1232.88 Q303.574 1252.51 296.647 1262.88 Q289.772 1273.19 276.7 1273.19 Q263.627 1273.19 256.7 1262.88 Q249.825 1252.51 249.825 1232.88 Q249.825 1213.19 256.7 1202.88 Q263.627 1192.51 276.7 1192.51 Z\" fill=\"#000000\" fill-rule=\"evenodd\" fill-opacity=\"1\" /><path clip-path=\"url(#clip250)\" d=\"M345.866 1228.61 Q338.783 1228.61 334.616 1233.45 Q330.501 1238.29 330.501 1246.73 Q330.501 1255.12 334.616 1260.01 Q338.783 1264.86 345.866 1264.86 Q352.949 1264.86 357.064 1260.01 Q361.23 1255.12 361.23 1246.73 Q361.23 1238.29 357.064 1233.45 Q352.949 1228.61 345.866 1228.61 M366.751 1195.64 L366.751 1205.22 Q362.793 1203.35 358.73 1202.36 Q354.72 1201.37 350.762 1201.37 Q340.345 1201.37 334.824 1208.4 Q329.356 1215.43 328.574 1229.65 Q331.647 1225.12 336.283 1222.72 Q340.918 1220.27 346.491 1220.27 Q358.21 1220.27 364.98 1227.41 Q371.803 1234.49 371.803 1246.73 Q371.803 1258.71 364.72 1265.95 Q357.637 1273.19 345.866 1273.19 Q332.376 1273.19 325.241 1262.88 Q318.106 1252.51 318.106 1232.88 Q318.106 1214.44 326.856 1203.5 Q335.606 1192.51 350.345 1192.51 Q354.303 1192.51 358.314 1193.29 Q362.376 1194.08 366.751 1195.64 Z\" fill=\"#000000\" fill-rule=\"evenodd\" fill-opacity=\"1\" /><path clip-path=\"url(#clip250)\" d=\"M175.711 919.504 Q167.586 919.504 163.471 927.524 Q159.409 935.493 159.409 951.535 Q159.409 967.524 163.471 975.545 Q167.586 983.514 175.711 983.514 Q183.888 983.514 187.95 975.545 Q192.065 967.524 192.065 951.535 Q192.065 935.493 187.95 927.524 Q183.888 919.504 175.711 919.504 M175.711 911.17 Q188.783 911.17 195.658 921.535 Q202.585 931.847 202.585 951.535 Q202.585 971.17 195.658 981.535 Q188.783 991.847 175.711 991.847 Q162.638 991.847 155.711 981.535 Q148.836 971.17 148.836 951.535 Q148.836 931.847 155.711 921.535 Q162.638 911.17 175.711 911.17 Z\" fill=\"#000000\" fill-rule=\"evenodd\" fill-opacity=\"1\" /><path clip-path=\"url(#clip250)\" d=\"M221.075 977.107 L232.064 977.107 L232.064 990.337 L221.075 990.337 L221.075 977.107 Z\" fill=\"#000000\" fill-rule=\"evenodd\" fill-opacity=\"1\" /><path clip-path=\"url(#clip250)\" d=\"M277.481 919.504 Q269.356 919.504 265.241 927.524 Q261.179 935.493 261.179 951.535 Q261.179 967.524 265.241 975.545 Q269.356 983.514 277.481 983.514 Q285.658 983.514 289.72 975.545 Q293.835 967.524 293.835 951.535 Q293.835 935.493 289.72 927.524 Q285.658 919.504 277.481 919.504 M277.481 911.17 Q290.554 911.17 297.429 921.535 Q304.356 931.847 304.356 951.535 Q304.356 971.17 297.429 981.535 Q290.554 991.847 277.481 991.847 Q264.408 991.847 257.481 981.535 Q250.606 971.17 250.606 951.535 Q250.606 931.847 257.481 921.535 Q264.408 911.17 277.481 911.17 Z\" fill=\"#000000\" fill-rule=\"evenodd\" fill-opacity=\"1\" /><path clip-path=\"url(#clip250)\" d=\"M323.158 988.722 L323.158 979.139 Q327.116 981.014 331.178 982.003 Q335.241 982.993 339.147 982.993 Q349.564 982.993 355.033 976.014 Q360.553 968.982 361.335 954.712 Q358.314 959.191 353.678 961.587 Q349.043 963.983 343.418 963.983 Q331.751 963.983 324.928 956.951 Q318.158 949.868 318.158 937.628 Q318.158 925.649 325.241 918.41 Q332.324 911.17 344.095 911.17 Q357.585 911.17 364.668 921.535 Q371.803 931.847 371.803 951.535 Q371.803 969.92 363.053 980.91 Q354.355 991.847 339.616 991.847 Q335.658 991.847 331.595 991.066 Q327.533 990.284 323.158 988.722 M344.095 955.753 Q351.178 955.753 355.293 950.91 Q359.46 946.066 359.46 937.628 Q359.46 929.243 355.293 924.399 Q351.178 919.504 344.095 919.504 Q337.012 919.504 332.845 924.399 Q328.731 929.243 328.731 937.628 Q328.731 946.066 332.845 950.91 Q337.012 955.753 344.095 955.753 Z\" fill=\"#000000\" fill-rule=\"evenodd\" fill-opacity=\"1\" /><path clip-path=\"url(#clip250)\" d=\"M178.888 638.161 Q170.763 638.161 166.648 646.182 Q162.586 654.15 162.586 670.192 Q162.586 686.182 166.648 694.202 Q170.763 702.171 178.888 702.171 Q187.065 702.171 191.127 694.202 Q195.242 686.182 195.242 670.192 Q195.242 654.15 191.127 646.182 Q187.065 638.161 178.888 638.161 M178.888 629.828 Q191.96 629.828 198.835 640.192 Q205.762 650.505 205.762 670.192 Q205.762 689.827 198.835 700.192 Q191.96 710.504 178.888 710.504 Q165.815 710.504 158.888 700.192 Q152.013 689.827 152.013 670.192 Q152.013 650.505 158.888 640.192 Q165.815 629.828 178.888 629.828 Z\" fill=\"#000000\" fill-rule=\"evenodd\" fill-opacity=\"1\" /><path clip-path=\"url(#clip250)\" d=\"M224.252 695.765 L235.241 695.765 L235.241 708.994 L224.252 708.994 L224.252 695.765 Z\" fill=\"#000000\" fill-rule=\"evenodd\" fill-opacity=\"1\" /><path clip-path=\"url(#clip250)\" d=\"M259.981 700.14 L277.168 700.14 L277.168 640.817 L258.471 644.567 L258.471 634.984 L277.064 631.234 L287.585 631.234 L287.585 700.14 L304.772 700.14 L304.772 708.994 L259.981 708.994 L259.981 700.14 Z\" fill=\"#000000\" fill-rule=\"evenodd\" fill-opacity=\"1\" /><path clip-path=\"url(#clip250)\" d=\"M335.085 700.14 L371.803 700.14 L371.803 708.994 L322.429 708.994 L322.429 700.14 Q328.418 693.942 338.731 683.525 Q349.095 673.057 351.751 670.036 Q356.803 664.359 358.782 660.452 Q360.814 656.494 360.814 652.692 Q360.814 646.494 356.439 642.588 Q352.116 638.682 345.137 638.682 Q340.189 638.682 334.668 640.401 Q329.199 642.119 322.949 645.609 L322.949 634.984 Q329.303 632.432 334.824 631.13 Q340.345 629.828 344.928 629.828 Q357.012 629.828 364.199 635.869 Q371.387 641.911 371.387 652.015 Q371.387 656.807 369.564 661.13 Q367.793 665.4 363.053 671.234 Q361.751 672.744 354.772 679.984 Q347.793 687.171 335.085 700.14 Z\" fill=\"#000000\" fill-rule=\"evenodd\" fill-opacity=\"1\" /><path clip-path=\"url(#clip250)\" d=\"M177.533 356.818 Q169.408 356.818 165.294 364.839 Q161.231 372.808 161.231 388.849 Q161.231 404.839 165.294 412.86 Q169.408 420.828 177.533 420.828 Q185.71 420.828 189.773 412.86 Q193.888 404.839 193.888 388.849 Q193.888 372.808 189.773 364.839 Q185.71 356.818 177.533 356.818 M177.533 348.485 Q190.606 348.485 197.481 358.85 Q204.408 369.162 204.408 388.849 Q204.408 408.485 197.481 418.849 Q190.606 429.162 177.533 429.162 Q164.461 429.162 157.534 418.849 Q150.659 408.485 150.659 388.849 Q150.659 369.162 157.534 358.85 Q164.461 348.485 177.533 348.485 Z\" fill=\"#000000\" fill-rule=\"evenodd\" fill-opacity=\"1\" /><path clip-path=\"url(#clip250)\" d=\"M222.898 414.422 L233.887 414.422 L233.887 427.651 L222.898 427.651 L222.898 414.422 Z\" fill=\"#000000\" fill-rule=\"evenodd\" fill-opacity=\"1\" /><path clip-path=\"url(#clip250)\" d=\"M258.627 418.797 L275.814 418.797 L275.814 359.475 L257.116 363.224 L257.116 353.641 L275.71 349.891 L286.231 349.891 L286.231 418.797 L303.418 418.797 L303.418 427.651 L258.627 427.651 L258.627 418.797 Z\" fill=\"#000000\" fill-rule=\"evenodd\" fill-opacity=\"1\" /><path clip-path=\"url(#clip250)\" d=\"M324.772 349.891 L366.074 349.891 L366.074 358.745 L334.408 358.745 L334.408 377.808 Q336.699 377.027 338.991 376.662 Q341.283 376.245 343.574 376.245 Q356.595 376.245 364.199 383.381 Q371.803 390.516 371.803 402.703 Q371.803 415.255 363.991 422.235 Q356.178 429.162 341.96 429.162 Q337.064 429.162 331.96 428.328 Q326.908 427.495 321.491 425.828 L321.491 415.255 Q326.178 417.808 331.178 419.058 Q336.178 420.308 341.751 420.308 Q350.762 420.308 356.022 415.568 Q361.282 410.828 361.282 402.703 Q361.282 394.578 356.022 389.839 Q350.762 385.099 341.751 385.099 Q337.533 385.099 333.314 386.037 Q329.147 386.974 324.772 388.954 L324.772 349.891 Z\" fill=\"#000000\" fill-rule=\"evenodd\" fill-opacity=\"1\" /><path clip-path=\"url(#clip250)\" d=\"M4.96644 1054.24 L4.96644 1043.72 L73.8723 1043.72 L73.8723 1005.85 L82.7264 1005.85 L82.7264 1054.24 L4.96644 1054.24 Z\" fill=\"#000000\" fill-rule=\"evenodd\" fill-opacity=\"1\" /><path clip-path=\"url(#clip250)\" d=\"M31.1121 974.498 Q31.1121 982.207 37.1538 986.686 Q43.1433 991.165 53.612 991.165 Q64.0807 991.165 70.1223 986.738 Q76.1119 982.259 76.1119 974.498 Q76.1119 966.842 70.0703 962.363 Q64.0286 957.884 53.612 957.884 Q43.2475 957.884 37.2059 962.363 Q31.1121 966.842 31.1121 974.498 M22.9872 974.498 Q22.9872 961.998 31.1121 954.863 Q39.2371 947.728 53.612 947.728 Q67.9349 947.728 76.1119 954.863 Q84.2369 961.998 84.2369 974.498 Q84.2369 987.05 76.1119 994.186 Q67.9349 1001.27 53.612 1001.27 Q39.2371 1001.27 31.1121 994.186 Q22.9872 987.05 22.9872 974.498 Z\" fill=\"#000000\" fill-rule=\"evenodd\" fill-opacity=\"1\" /><path clip-path=\"url(#clip250)\" d=\"M26.1122 894.655 L35.1746 894.655 Q33.0913 898.717 32.0496 903.092 Q31.008 907.467 31.008 912.155 Q31.008 919.29 33.1955 922.884 Q35.3829 926.426 39.7579 926.426 Q43.0912 926.426 45.0183 923.874 Q46.8933 921.321 48.612 913.613 L49.3412 910.332 Q51.5287 900.124 55.5391 895.853 Q59.4974 891.53 66.6328 891.53 Q74.7577 891.53 79.4973 897.988 Q84.2369 904.395 84.2369 915.644 Q84.2369 920.332 83.2994 925.436 Q82.4139 930.488 80.591 936.113 L70.6953 936.113 Q73.4557 930.801 74.8619 925.644 Q76.2161 920.488 76.2161 915.436 Q76.2161 908.665 73.9244 905.02 Q71.5807 901.374 67.3619 901.374 Q63.4557 901.374 61.3724 904.03 Q59.2891 906.634 57.362 915.54 L56.5807 918.874 Q54.7058 927.78 50.8516 931.738 Q46.9454 935.696 40.1746 935.696 Q31.9455 935.696 27.4663 929.863 Q22.9872 924.03 22.9872 913.301 Q22.9872 907.988 23.7684 903.301 Q24.5497 898.613 26.1122 894.655 Z\" fill=\"#000000\" fill-rule=\"evenodd\" fill-opacity=\"1\" /><path clip-path=\"url(#clip250)\" d=\"M26.1122 839.082 L35.1746 839.082 Q33.0913 843.145 32.0496 847.52 Q31.008 851.895 31.008 856.582 Q31.008 863.718 33.1955 867.311 Q35.3829 870.853 39.7579 870.853 Q43.0912 870.853 45.0183 868.301 Q46.8933 865.749 48.612 858.041 L49.3412 854.759 Q51.5287 844.551 55.5391 840.28 Q59.4974 835.957 66.6328 835.957 Q74.7577 835.957 79.4973 842.416 Q84.2369 848.822 84.2369 860.072 Q84.2369 864.759 83.2994 869.863 Q82.4139 874.915 80.591 880.54 L70.6953 880.54 Q73.4557 875.228 74.8619 870.072 Q76.2161 864.916 76.2161 859.863 Q76.2161 853.093 73.9244 849.447 Q71.5807 845.801 67.3619 845.801 Q63.4557 845.801 61.3724 848.457 Q59.2891 851.061 57.362 859.968 L56.5807 863.301 Q54.7058 872.207 50.8516 876.165 Q46.9454 880.124 40.1746 880.124 Q31.9455 880.124 27.4663 874.291 Q22.9872 868.457 22.9872 857.728 Q22.9872 852.416 23.7684 847.728 Q24.5497 843.041 26.1122 839.082 Z\" fill=\"#000000\" fill-rule=\"evenodd\" fill-opacity=\"1\" /><path clip-path=\"url(#clip250)\" d=\"M888.839 17.28 L961.929 17.28 L961.929 27.1179 L931.258 27.1179 L931.258 103.68 L919.51 103.68 L919.51 27.1179 L888.839 27.1179 L888.839 17.28 Z\" fill=\"#000000\" fill-rule=\"evenodd\" fill-opacity=\"1\" /><path clip-path=\"url(#clip250)\" d=\"M992.889 48.8192 Q991.095 47.7775 988.954 47.3146 Q986.871 46.7937 984.324 46.7937 Q975.297 46.7937 970.436 52.6965 Q965.632 58.5414 965.632 69.5367 L965.632 103.68 L954.926 103.68 L954.926 38.8655 L965.632 38.8655 L965.632 48.9349 Q968.989 43.0322 974.371 40.1965 Q979.753 37.303 987.449 37.303 Q988.549 37.303 989.88 37.4767 Q991.211 37.5924 992.831 37.8817 L992.889 48.8192 Z\" fill=\"#000000\" fill-rule=\"evenodd\" fill-opacity=\"1\" /><path clip-path=\"url(#clip250)\" d=\"M1033.51 71.0992 Q1020.61 71.0992 1015.63 74.0505 Q1010.66 77.0019 1010.66 84.1199 Q1010.66 89.7912 1014.36 93.1476 Q1018.12 96.4462 1024.54 96.4462 Q1033.4 96.4462 1038.72 90.1963 Q1044.1 83.8884 1044.1 73.4718 L1044.1 71.0992 L1033.51 71.0992 M1054.75 66.701 L1054.75 103.68 L1044.1 103.68 L1044.1 93.8421 Q1040.46 99.7448 1035.02 102.58 Q1029.58 105.358 1021.71 105.358 Q1011.75 105.358 1005.85 99.8027 Q1000.01 94.1893 1000.01 84.8144 Q1000.01 73.8769 1007.3 68.3214 Q1014.65 62.7659 1029.17 62.7659 L1044.1 62.7659 L1044.1 61.7242 Q1044.1 54.3747 1039.24 50.3817 Q1034.44 46.3308 1025.7 46.3308 Q1020.15 46.3308 1014.88 47.6618 Q1009.61 48.9928 1004.75 51.6548 L1004.75 41.8169 Q1010.6 39.56 1016.1 38.4604 Q1021.59 37.303 1026.8 37.303 Q1040.86 37.303 1047.81 44.5947 Q1054.75 51.8863 1054.75 66.701 Z\" fill=\"#000000\" fill-rule=\"evenodd\" fill-opacity=\"1\" /><path clip-path=\"url(#clip250)\" d=\"M1076.69 38.8655 L1087.33 38.8655 L1087.33 103.68 L1076.69 103.68 L1076.69 38.8655 M1076.69 13.6342 L1087.33 13.6342 L1087.33 27.1179 L1076.69 27.1179 L1076.69 13.6342 Z\" fill=\"#000000\" fill-rule=\"evenodd\" fill-opacity=\"1\" /><path clip-path=\"url(#clip250)\" d=\"M1163.49 64.5598 L1163.49 103.68 L1152.84 103.68 L1152.84 64.9071 Q1152.84 55.7057 1149.25 51.134 Q1145.67 46.5623 1138.49 46.5623 Q1129.87 46.5623 1124.89 52.0599 Q1119.91 57.5576 1119.91 67.0483 L1119.91 103.68 L1109.21 103.68 L1109.21 38.8655 L1119.91 38.8655 L1119.91 48.9349 Q1123.73 43.09 1128.88 40.1965 Q1134.09 37.303 1140.86 37.303 Q1152.03 37.303 1157.76 44.2474 Q1163.49 51.134 1163.49 64.5598 Z\" fill=\"#000000\" fill-rule=\"evenodd\" fill-opacity=\"1\" /><path clip-path=\"url(#clip250)\" d=\"M1222.86 17.28 L1277.49 17.28 L1277.49 27.1179 L1234.55 27.1179 L1234.55 52.6965 L1275.7 52.6965 L1275.7 62.5344 L1234.55 62.5344 L1234.55 93.8421 L1278.54 93.8421 L1278.54 103.68 L1222.86 103.68 L1222.86 17.28 Z\" fill=\"#000000\" fill-rule=\"evenodd\" fill-opacity=\"1\" /><path clip-path=\"url(#clip250)\" d=\"M1334.84 48.8192 Q1333.05 47.7775 1330.91 47.3146 Q1328.82 46.7937 1326.28 46.7937 Q1317.25 46.7937 1312.39 52.6965 Q1307.59 58.5414 1307.59 69.5367 L1307.59 103.68 L1296.88 103.68 L1296.88 38.8655 L1307.59 38.8655 L1307.59 48.9349 Q1310.94 43.0322 1316.32 40.1965 Q1321.71 37.303 1329.4 37.303 Q1330.5 37.303 1331.83 37.4767 Q1333.17 37.5924 1334.79 37.8817 L1334.84 48.8192 Z\" fill=\"#000000\" fill-rule=\"evenodd\" fill-opacity=\"1\" /><path clip-path=\"url(#clip250)\" d=\"M1381.49 48.8192 Q1379.69 47.7775 1377.55 47.3146 Q1375.47 46.7937 1372.92 46.7937 Q1363.89 46.7937 1359.03 52.6965 Q1354.23 58.5414 1354.23 69.5367 L1354.23 103.68 L1343.52 103.68 L1343.52 38.8655 L1354.23 38.8655 L1354.23 48.9349 Q1357.59 43.0322 1362.97 40.1965 Q1368.35 37.303 1376.05 37.303 Q1377.15 37.303 1378.48 37.4767 Q1379.81 37.5924 1381.43 37.8817 L1381.49 48.8192 Z\" fill=\"#000000\" fill-rule=\"evenodd\" fill-opacity=\"1\" /><path clip-path=\"url(#clip250)\" d=\"M1415.17 46.3308 Q1406.6 46.3308 1401.63 53.0437 Q1396.65 59.6988 1396.65 71.3306 Q1396.65 82.9625 1401.57 89.6754 Q1406.54 96.3305 1415.17 96.3305 Q1423.67 96.3305 1428.65 89.6176 Q1433.63 82.9046 1433.63 71.3306 Q1433.63 59.8145 1428.65 53.1016 Q1423.67 46.3308 1415.17 46.3308 M1415.17 37.303 Q1429.06 37.303 1436.98 46.3308 Q1444.91 55.3585 1444.91 71.3306 Q1444.91 87.2449 1436.98 96.3305 Q1429.06 105.358 1415.17 105.358 Q1401.22 105.358 1393.29 96.3305 Q1385.42 87.2449 1385.42 71.3306 Q1385.42 55.3585 1393.29 46.3308 Q1401.22 37.303 1415.17 37.303 Z\" fill=\"#000000\" fill-rule=\"evenodd\" fill-opacity=\"1\" /><path clip-path=\"url(#clip250)\" d=\"M1500.12 48.8192 Q1498.33 47.7775 1496.19 47.3146 Q1494.1 46.7937 1491.56 46.7937 Q1482.53 46.7937 1477.67 52.6965 Q1472.86 58.5414 1472.86 69.5367 L1472.86 103.68 L1462.16 103.68 L1462.16 38.8655 L1472.86 38.8655 L1472.86 48.9349 Q1476.22 43.0322 1481.6 40.1965 Q1486.98 37.303 1494.68 37.303 Q1495.78 37.303 1497.11 37.4767 Q1498.44 37.5924 1500.06 37.8817 L1500.12 48.8192 Z\" fill=\"#000000\" fill-rule=\"evenodd\" fill-opacity=\"1\" /><path clip-path=\"url(#clip250)\" d=\"M1542.77 38.8655 L1553.42 38.8655 L1566.73 89.444 L1579.98 38.8655 L1592.54 38.8655 L1605.85 89.444 L1619.1 38.8655 L1629.75 38.8655 L1612.79 103.68 L1600.24 103.68 L1586.29 50.5553 L1572.28 103.68 L1559.73 103.68 L1542.77 38.8655 Z\" fill=\"#000000\" fill-rule=\"evenodd\" fill-opacity=\"1\" /><path clip-path=\"url(#clip250)\" d=\"M1636.52 88.981 L1648.73 88.981 L1648.73 103.68 L1636.52 103.68 L1636.52 88.981 Z\" fill=\"#000000\" fill-rule=\"evenodd\" fill-opacity=\"1\" /><path clip-path=\"url(#clip250)\" d=\"M1710.25 48.8192 Q1708.45 47.7775 1706.31 47.3146 Q1704.23 46.7937 1701.68 46.7937 Q1692.65 46.7937 1687.79 52.6965 Q1682.99 58.5414 1682.99 69.5367 L1682.99 103.68 L1672.28 103.68 L1672.28 38.8655 L1682.99 38.8655 L1682.99 48.9349 Q1686.35 43.0322 1691.73 40.1965 Q1697.11 37.303 1704.81 37.303 Q1705.91 37.303 1707.24 37.4767 Q1708.57 37.5924 1710.19 37.8817 L1710.25 48.8192 Z\" fill=\"#000000\" fill-rule=\"evenodd\" fill-opacity=\"1\" /><path clip-path=\"url(#clip250)\" d=\"M1712.04 88.981 L1724.25 88.981 L1724.25 103.68 L1712.04 103.68 L1712.04 88.981 Z\" fill=\"#000000\" fill-rule=\"evenodd\" fill-opacity=\"1\" /><path clip-path=\"url(#clip250)\" d=\"M1758.74 20.4629 L1758.74 38.8655 L1780.67 38.8655 L1780.67 47.141 L1758.74 47.141 L1758.74 82.3259 Q1758.74 90.2541 1760.88 92.5111 Q1763.08 94.768 1769.74 94.768 L1780.67 94.768 L1780.67 103.68 L1769.74 103.68 Q1757.41 103.68 1752.72 99.1083 Q1748.04 94.4787 1748.04 82.3259 L1748.04 47.141 L1740.22 47.141 L1740.22 38.8655 L1748.04 38.8655 L1748.04 20.4629 L1758.74 20.4629 Z\" fill=\"#000000\" fill-rule=\"evenodd\" fill-opacity=\"1\" /><path clip-path=\"url(#clip250)\" d=\"M1796.18 88.981 L1808.39 88.981 L1808.39 103.68 L1796.18 103.68 L1796.18 88.981 Z\" fill=\"#000000\" fill-rule=\"evenodd\" fill-opacity=\"1\" /><path clip-path=\"url(#clip250)\" d=\"M1870.49 17.28 L1925.12 17.28 L1925.12 27.1179 L1882.18 27.1179 L1882.18 52.6965 L1923.32 52.6965 L1923.32 62.5344 L1882.18 62.5344 L1882.18 93.8421 L1926.16 93.8421 L1926.16 103.68 L1870.49 103.68 L1870.49 17.28 Z\" fill=\"#000000\" fill-rule=\"evenodd\" fill-opacity=\"1\" /><path clip-path=\"url(#clip250)\" d=\"M1955.21 93.9578 L1955.21 128.333 L1944.5 128.333 L1944.5 38.8655 L1955.21 38.8655 L1955.21 48.7034 Q1958.57 42.9164 1963.66 40.1387 Q1968.81 37.303 1975.93 37.303 Q1987.73 37.303 1995.08 46.678 Q2002.49 56.0529 2002.49 71.3306 Q2002.49 86.6083 1995.08 95.9833 Q1987.73 105.358 1975.93 105.358 Q1968.81 105.358 1963.66 102.58 Q1958.57 99.7448 1955.21 93.9578 M1991.44 71.3306 Q1991.44 59.583 1986.58 52.928 Q1981.77 46.215 1973.32 46.215 Q1964.87 46.215 1960.01 52.928 Q1955.21 59.583 1955.21 71.3306 Q1955.21 83.0783 1960.01 89.7912 Q1964.87 96.4462 1973.32 96.4462 Q1981.77 96.4462 1986.58 89.7912 Q1991.44 83.0783 1991.44 71.3306 Z\" fill=\"#000000\" fill-rule=\"evenodd\" fill-opacity=\"1\" /><path clip-path=\"url(#clip250)\" d=\"M2045.26 46.3308 Q2036.69 46.3308 2031.71 53.0437 Q2026.74 59.6988 2026.74 71.3306 Q2026.74 82.9625 2031.66 89.6754 Q2036.63 96.3305 2045.26 96.3305 Q2053.76 96.3305 2058.74 89.6176 Q2063.72 82.9046 2063.72 71.3306 Q2063.72 59.8145 2058.74 53.1016 Q2053.76 46.3308 2045.26 46.3308 M2045.26 37.303 Q2059.15 37.303 2067.07 46.3308 Q2075 55.3585 2075 71.3306 Q2075 87.2449 2067.07 96.3305 Q2059.15 105.358 2045.26 105.358 Q2031.31 105.358 2023.38 96.3305 Q2015.51 87.2449 2015.51 71.3306 Q2015.51 55.3585 2023.38 46.3308 Q2031.31 37.303 2045.26 37.303 Z\" fill=\"#000000\" fill-rule=\"evenodd\" fill-opacity=\"1\" /><path clip-path=\"url(#clip250)\" d=\"M2139.3 41.3539 L2139.3 51.3076 Q2134.78 48.8192 2130.21 47.6039 Q2125.7 46.3308 2121.07 46.3308 Q2110.71 46.3308 2104.98 52.928 Q2099.25 59.4673 2099.25 71.3306 Q2099.25 83.194 2104.98 89.7912 Q2110.71 96.3305 2121.07 96.3305 Q2125.7 96.3305 2130.21 95.1152 Q2134.78 93.8421 2139.3 91.3537 L2139.3 101.192 Q2134.84 103.275 2130.04 104.317 Q2125.29 105.358 2119.91 105.358 Q2105.27 105.358 2096.64 96.1569 Q2088.02 86.9556 2088.02 71.3306 Q2088.02 55.4742 2096.7 46.3886 Q2105.44 37.303 2120.6 37.303 Q2125.52 37.303 2130.21 38.3447 Q2134.9 39.3285 2139.3 41.3539 Z\" fill=\"#000000\" fill-rule=\"evenodd\" fill-opacity=\"1\" /><path clip-path=\"url(#clip250)\" d=\"M2211.69 64.5598 L2211.69 103.68 L2201.04 103.68 L2201.04 64.9071 Q2201.04 55.7057 2197.45 51.134 Q2193.87 46.5623 2186.69 46.5623 Q2178.07 46.5623 2173.09 52.0599 Q2168.11 57.5576 2168.11 67.0483 L2168.11 103.68 L2157.41 103.68 L2157.41 13.6342 L2168.11 13.6342 L2168.11 48.9349 Q2171.93 43.09 2177.08 40.1965 Q2182.29 37.303 2189.06 37.303 Q2200.23 37.303 2205.96 44.2474 Q2211.69 51.134 2211.69 64.5598 Z\" fill=\"#000000\" fill-rule=\"evenodd\" fill-opacity=\"1\" /><path clip-path=\"url(#clip250)\" d=\"M2274.25 40.7752 L2274.25 50.8446 Q2269.73 48.5298 2264.87 47.3724 Q2260.01 46.215 2254.8 46.215 Q2246.88 46.215 2242.88 48.6456 Q2238.95 51.0761 2238.95 55.9372 Q2238.95 59.6409 2241.78 61.7821 Q2244.62 63.8654 2253.18 65.7751 L2256.83 66.5853 Q2268.17 69.0158 2272.92 73.4718 Q2277.72 77.87 2277.72 85.7982 Q2277.72 94.8259 2270.54 100.092 Q2263.43 105.358 2250.93 105.358 Q2245.72 105.358 2240.05 104.317 Q2234.43 103.333 2228.18 101.307 L2228.18 90.312 Q2234.09 93.3791 2239.82 94.9416 Q2245.54 96.4462 2251.16 96.4462 Q2258.68 96.4462 2262.73 93.9 Q2266.78 91.2958 2266.78 86.6083 Q2266.78 82.2681 2263.83 79.9533 Q2260.94 77.6385 2251.04 75.4973 L2247.34 74.6292 Q2237.44 72.5459 2233.04 68.2635 Q2228.65 63.9233 2228.65 56.4002 Q2228.65 47.2567 2235.13 42.2799 Q2241.61 37.303 2253.53 37.303 Q2259.43 37.303 2264.64 38.1711 Q2269.85 39.0391 2274.25 40.7752 Z\" fill=\"#000000\" fill-rule=\"evenodd\" fill-opacity=\"1\" /><polyline clip-path=\"url(#clip252)\" style=\"stroke:#009af9; stroke-linecap:butt; stroke-linejoin:round; stroke-width:4; stroke-opacity:1; fill:none\" points=\"\n",
       "  480,200.254 490.408,1170.25 500.817,1170.84 511.225,1159.7 521.633,1184.98 532.042,1284.84 542.45,1320.65 552.858,1342.71 563.266,1333.4 573.675,1355.55 \n",
       "  584.083,1355.51 594.491,1365.09 604.9,1349.81 615.308,1350.56 625.716,1363.65 636.124,1363.35 646.533,1348 656.941,1357.99 667.349,1357.88 677.758,1367.03 \n",
       "  688.166,1374.85 698.574,1366.53 708.983,1357.04 719.391,1362.3 729.799,1371.93 740.207,1370.56 750.616,1373.27 761.024,1384.83 771.432,1376.71 781.841,1372.74 \n",
       "  792.249,1374.71 802.657,1376.18 813.066,1388.92 823.474,1385.94 833.882,1398.4 844.29,1403.47 854.699,1410.36 865.107,1416.42 875.515,1439.96 885.924,1444.61 \n",
       "  896.332,1460.06 906.74,1468.47 917.149,1479.24 927.557,1476.95 937.965,1477.54 948.373,1482.43 958.782,1500.98 969.19,1481.82 979.598,1496.56 990.007,1515.49 \n",
       "  1000.41,1518.09 1010.82,1509.29 1021.23,1431.35 1031.64,1492.41 1042.05,1510 1052.46,1513.41 1062.86,1517.79 1073.27,1511.67 1083.68,1532.63 1094.09,1549.14 \n",
       "  1104.5,1544.68 1114.91,1523.21 1125.31,1532.72 1135.72,1551.74 1146.13,1558.44 1156.54,1565.84 1166.95,1574.1 1177.36,1569.86 1187.76,1566.49 1198.17,1509.43 \n",
       "  1208.58,1560.36 1218.99,1571.28 1229.4,1504.99 1239.81,1572.35 1250.21,1575.75 1260.62,1588.3 1271.03,1597.18 1281.44,1598.52 1291.85,1609.09 1302.26,1603.02 \n",
       "  1312.66,1605.78 1323.07,1599.03 1333.48,1424.37 1343.89,1517.14 1354.3,1554.67 1364.71,1540.34 1375.11,1572.95 1385.52,1569.76 1395.93,1578.22 1406.34,1579.41 \n",
       "  1416.75,1586.41 1427.16,1593.36 1437.56,1597.16 1447.97,1594.75 1458.38,1594.02 1468.79,1607.44 1479.2,1599.83 1489.6,1599.66 1500.01,1613.05 1510.42,1577.16 \n",
       "  1520.83,1584.47 1531.24,1608.01 1541.65,1610 1552.05,1624.7 1562.46,1631.76 1572.87,1628.18 1583.28,1632.41 1593.69,1637.34 1604.1,1640.87 1614.5,1625.34 \n",
       "  1624.91,1635.88 1635.32,1642.77 1645.73,1636.92 1656.14,1637.72 1666.55,1617.45 1676.95,1587.81 1687.36,1520.61 1697.77,1587.42 1708.18,1604.43 1718.59,1598.46 \n",
       "  1729,1618.68 1739.4,1626.37 1749.81,1624.46 1760.22,1629.23 1770.63,1629.43 1781.04,1636.42 1791.45,1640.63 1801.85,1645.48 1812.26,1651.63 1822.67,1653.94 \n",
       "  1833.08,1647.58 1843.49,1655.01 1853.9,1649.55 1864.3,1645.41 1874.71,1640.92 1885.12,1575.42 1895.53,1597.54 1905.94,1626.7 1916.35,1631.56 1926.75,1647.49 \n",
       "  1937.16,1649.81 1947.57,1654.2 1957.98,1652.06 1968.39,1661.17 1978.79,1661.38 1989.2,1665.55 1999.61,1655.92 2010.02,1664.29 2020.43,1660.61 2030.84,1661.68 \n",
       "  2041.24,1664.09 2051.65,1666.79 2062.06,1666.89 2072.47,1673.16 2082.88,1668.89 2093.29,1673.44 2103.69,1623.21 2114.1,1540.31 2124.51,1565.19 2134.92,1631.36 \n",
       "  2145.33,1622.14 2155.74,1651.83 2166.14,1661.78 2176.55,1657.89 2186.96,1660.86 2197.37,1671.95 2207.78,1667.44 2218.19,1667.41 2228.59,1673.66 2239,1670.29 \n",
       "  2249.41,1680.57 2259.82,1675.18 2270.23,1674.12 2280.64,1677.61 2291.04,1676.24 2301.45,1673.96 2311.86,1652.43 2322.27,1661.22 2332.68,1678.71 2343.09,1681.02 \n",
       "  2353.49,1682.36 2363.9,1685.15 2374.31,1667.56 2384.72,1576.6 2395.13,1538.47 2405.54,1614.37 2415.94,1651.87 2426.35,1669.37 2436.76,1679.52 2447.17,1682.36 \n",
       "  2457.58,1683.62 2467.98,1680.16 2478.39,1680.28 2488.8,1680.9 2499.21,1680.79 2509.62,1682.82 2520.03,1676.85 2530.43,1686.24 2540.84,1673.24 2551.25,1667.33 \n",
       "  2561.66,1682.17 2572.07,1666.72 2582.48,1687.57 2592.88,1689.94 2603.29,1688.53 2613.7,1686.48 2624.11,1688.07 2634.52,1689.2 2644.93,1682.35 2655.33,1653.67 \n",
       "  2665.74,1665.4 2676.15,1650.72 2686.56,1481.84 \n",
       "  \"/>\n",
       "<polyline clip-path=\"url(#clip252)\" style=\"stroke:#e26f46; stroke-linecap:butt; stroke-linejoin:round; stroke-width:4; stroke-opacity:1; fill:none\" points=\"\n",
       "  480,203.067 490.408,1160.51 500.817,1161.28 511.225,1150.22 521.633,1175.18 532.042,1266.74 542.45,1298.82 552.858,1319.13 563.266,1310 573.675,1326.22 \n",
       "  584.083,1328.22 594.491,1333.49 604.9,1322.03 615.308,1323.04 625.716,1334.91 636.124,1326.08 646.533,1319.53 656.941,1328.03 667.349,1326.38 677.758,1335.26 \n",
       "  688.166,1339.27 698.574,1335.16 708.983,1328.26 719.391,1328.11 729.799,1337.8 740.207,1338.49 750.616,1339.33 761.024,1354.59 771.432,1342.76 781.841,1339.47 \n",
       "  792.249,1341.37 802.657,1340.66 813.066,1350.38 823.474,1350.13 833.882,1364.12 844.29,1370.92 854.699,1382.14 865.107,1387.5 875.515,1409.25 885.924,1415.28 \n",
       "  896.332,1431.44 906.74,1443.97 917.149,1451.15 927.557,1449.32 937.965,1449.98 948.373,1452.26 958.782,1469.65 969.19,1457.76 979.598,1464.19 990.007,1482.88 \n",
       "  1000.41,1484.86 1010.82,1473.35 1021.23,1414.5 1031.64,1465.52 1042.05,1477.13 1052.46,1483.08 1062.86,1486.53 1073.27,1482.56 1083.68,1502.28 1094.09,1517.2 \n",
       "  1104.5,1514.6 1114.91,1497.06 1125.31,1498.91 1135.72,1516.25 1146.13,1525.41 1156.54,1531.03 1166.95,1538.93 1177.36,1539.58 1187.76,1534.01 1198.17,1491.44 \n",
       "  1208.58,1530.94 1218.99,1538.42 1229.4,1474.02 1239.81,1537.19 1250.21,1544.11 1260.62,1553.59 1271.03,1563.49 1281.44,1565.43 1291.85,1572.97 1302.26,1569.16 \n",
       "  1312.66,1572.55 1323.07,1565.49 1333.48,1401.23 1343.89,1492.55 1354.3,1525.62 1364.71,1515.18 1375.11,1541.92 1385.52,1539.39 1395.93,1543.64 1406.34,1546 \n",
       "  1416.75,1552.98 1427.16,1557.13 1437.56,1562.89 1447.97,1561.78 1458.38,1563.2 1468.79,1572.54 1479.2,1564.41 1489.6,1565.31 1500.01,1573.8 1510.42,1541.52 \n",
       "  1520.83,1556.4 1531.24,1574.69 1541.65,1574.08 1552.05,1588.06 1562.46,1596.29 1572.87,1591.39 1583.28,1596.65 1593.69,1598.7 1604.1,1604.24 1614.5,1588.26 \n",
       "  1624.91,1597.95 1635.32,1603.88 1645.73,1594.43 1656.14,1597.52 1666.55,1579.73 1676.95,1548.02 1687.36,1490.33 1697.77,1553.93 1708.18,1569.83 1718.59,1566.39 \n",
       "  1729,1581.36 1739.4,1591.73 1749.81,1593.11 1760.22,1590.95 1770.63,1592.55 1781.04,1597.52 1791.45,1604.56 1801.85,1606.9 1812.26,1612.3 1822.67,1615.58 \n",
       "  1833.08,1614.2 1843.49,1616.7 1853.9,1610.63 1864.3,1610.11 1874.71,1602.68 1885.12,1545.47 1895.53,1564.64 1905.94,1588.71 1916.35,1598.41 1926.75,1608.99 \n",
       "  1937.16,1610.09 1947.57,1615.77 1957.98,1614.13 1968.39,1622.05 1978.79,1623.13 1989.2,1626.11 1999.61,1615.23 2010.02,1623.86 2020.43,1623.97 2030.84,1626.14 \n",
       "  2041.24,1623.12 2051.65,1629.86 2062.06,1627.78 2072.47,1632.99 2082.88,1629.75 2093.29,1632.31 2103.69,1591.75 2114.1,1509.85 2124.51,1535.21 2134.92,1597.3 \n",
       "  2145.33,1590.33 2155.74,1614.46 2166.14,1620.88 2176.55,1619.4 2186.96,1624.6 2197.37,1634.07 2207.78,1628.2 2218.19,1628.22 2228.59,1633.77 2239,1632.4 \n",
       "  2249.41,1640.11 2259.82,1636.13 2270.23,1634.71 2280.64,1639.43 2291.04,1635.9 2301.45,1632.29 2311.86,1614.82 2322.27,1624.42 2332.68,1640.06 2343.09,1641.87 \n",
       "  2353.49,1640.96 2363.9,1645.99 2374.31,1624.74 2384.72,1536.48 2395.13,1508.54 2405.54,1575.71 2415.94,1616.95 2426.35,1635.07 2436.76,1641.02 2447.17,1642.27 \n",
       "  2457.58,1642.17 2467.98,1638.84 2478.39,1638.8 2488.8,1638.85 2499.21,1636.14 2509.62,1640.42 2520.03,1635.8 2530.43,1644.6 2540.84,1634.85 2551.25,1626.55 \n",
       "  2561.66,1640.95 2572.07,1622.34 2582.48,1646.35 2592.88,1648.38 2603.29,1646.32 2613.7,1644.05 2624.11,1646.5 2634.52,1644.54 2644.93,1640.57 2655.33,1617.33 \n",
       "  2665.74,1622 2676.15,1600.59 2686.56,1453.5 \n",
       "  \"/>\n",
       "<path clip-path=\"url(#clip250)\" d=\"\n",
       "M2170.39 363.719 L2674.79 363.719 L2674.79 208.199 L2170.39 208.199  Z\n",
       "  \" fill=\"#ffffff\" fill-rule=\"evenodd\" fill-opacity=\"1\"/>\n",
       "<polyline clip-path=\"url(#clip250)\" style=\"stroke:#000000; stroke-linecap:butt; stroke-linejoin:round; stroke-width:4; stroke-opacity:1; fill:none\" points=\"\n",
       "  2170.39,363.719 2674.79,363.719 2674.79,208.199 2170.39,208.199 2170.39,363.719 \n",
       "  \"/>\n",
       "<polyline clip-path=\"url(#clip250)\" style=\"stroke:#009af9; stroke-linecap:butt; stroke-linejoin:round; stroke-width:9; stroke-opacity:1; fill:none\" points=\"\n",
       "  2196.38,260.039 2352.31,260.039 \n",
       "  \"/>\n",
       "<path clip-path=\"url(#clip250)\" d=\"M2378.3 242.759 L2407.54 242.759 L2407.54 246.694 L2395.27 246.694 L2395.27 277.319 L2390.57 277.319 L2390.57 246.694 L2378.3 246.694 L2378.3 242.759 Z\" fill=\"#000000\" fill-rule=\"evenodd\" fill-opacity=\"1\" /><path clip-path=\"url(#clip250)\" d=\"M2419.92 255.375 Q2419.2 254.958 2418.35 254.773 Q2417.51 254.565 2416.5 254.565 Q2412.88 254.565 2410.94 256.926 Q2409.02 259.264 2409.02 263.662 L2409.02 277.319 L2404.74 277.319 L2404.74 251.393 L2409.02 251.393 L2409.02 255.421 Q2410.36 253.06 2412.51 251.926 Q2414.67 250.768 2417.75 250.768 Q2418.19 250.768 2418.72 250.838 Q2419.25 250.884 2419.9 251 L2419.92 255.375 Z\" fill=\"#000000\" fill-rule=\"evenodd\" fill-opacity=\"1\" /><path clip-path=\"url(#clip250)\" d=\"M2436.17 264.287 Q2431.01 264.287 2429.02 265.467 Q2427.03 266.648 2427.03 269.495 Q2427.03 271.764 2428.51 273.106 Q2430.01 274.426 2432.58 274.426 Q2436.13 274.426 2438.25 271.926 Q2440.41 269.403 2440.41 265.236 L2440.41 264.287 L2436.17 264.287 M2444.67 262.528 L2444.67 277.319 L2440.41 277.319 L2440.41 273.384 Q2438.95 275.745 2436.77 276.879 Q2434.6 277.99 2431.45 277.99 Q2427.47 277.99 2425.11 275.768 Q2422.77 273.523 2422.77 269.773 Q2422.77 265.398 2425.69 263.176 Q2428.63 260.953 2434.44 260.953 L2440.41 260.953 L2440.41 260.537 Q2440.41 257.597 2438.46 256 Q2436.54 254.379 2433.05 254.379 Q2430.82 254.379 2428.72 254.912 Q2426.61 255.444 2424.67 256.509 L2424.67 252.574 Q2427 251.671 2429.2 251.231 Q2431.4 250.768 2433.49 250.768 Q2439.11 250.768 2441.89 253.685 Q2444.67 256.602 2444.67 262.528 Z\" fill=\"#000000\" fill-rule=\"evenodd\" fill-opacity=\"1\" /><path clip-path=\"url(#clip250)\" d=\"M2453.44 251.393 L2457.7 251.393 L2457.7 277.319 L2453.44 277.319 L2453.44 251.393 M2453.44 241.301 L2457.7 241.301 L2457.7 246.694 L2453.44 246.694 L2453.44 241.301 Z\" fill=\"#000000\" fill-rule=\"evenodd\" fill-opacity=\"1\" /><path clip-path=\"url(#clip250)\" d=\"M2488.16 261.671 L2488.16 277.319 L2483.9 277.319 L2483.9 261.81 Q2483.9 258.129 2482.47 256.301 Q2481.03 254.472 2478.16 254.472 Q2474.71 254.472 2472.72 256.671 Q2470.73 258.87 2470.73 262.666 L2470.73 277.319 L2466.45 277.319 L2466.45 251.393 L2470.73 251.393 L2470.73 255.421 Q2472.26 253.083 2474.32 251.926 Q2476.4 250.768 2479.11 250.768 Q2483.58 250.768 2485.87 253.546 Q2488.16 256.301 2488.16 261.671 Z\" fill=\"#000000\" fill-rule=\"evenodd\" fill-opacity=\"1\" /><path clip-path=\"url(#clip250)\" d=\"M2511.91 242.759 L2533.76 242.759 L2533.76 246.694 L2516.59 246.694 L2516.59 256.926 L2533.05 256.926 L2533.05 260.861 L2516.59 260.861 L2516.59 273.384 L2534.18 273.384 L2534.18 277.319 L2511.91 277.319 L2511.91 242.759 Z\" fill=\"#000000\" fill-rule=\"evenodd\" fill-opacity=\"1\" /><path clip-path=\"url(#clip250)\" d=\"M2556.7 255.375 Q2555.99 254.958 2555.13 254.773 Q2554.3 254.565 2553.28 254.565 Q2549.67 254.565 2547.72 256.926 Q2545.8 259.264 2545.8 263.662 L2545.8 277.319 L2541.52 277.319 L2541.52 251.393 L2545.8 251.393 L2545.8 255.421 Q2547.14 253.06 2549.3 251.926 Q2551.45 250.768 2554.53 250.768 Q2554.97 250.768 2555.5 250.838 Q2556.03 250.884 2556.68 251 L2556.7 255.375 Z\" fill=\"#000000\" fill-rule=\"evenodd\" fill-opacity=\"1\" /><path clip-path=\"url(#clip250)\" d=\"M2575.36 255.375 Q2574.64 254.958 2573.79 254.773 Q2572.95 254.565 2571.93 254.565 Q2568.32 254.565 2566.38 256.926 Q2564.46 259.264 2564.46 263.662 L2564.46 277.319 L2560.18 277.319 L2560.18 251.393 L2564.46 251.393 L2564.46 255.421 Q2565.8 253.06 2567.95 251.926 Q2570.11 250.768 2573.18 250.768 Q2573.62 250.768 2574.16 250.838 Q2574.69 250.884 2575.34 251 L2575.36 255.375 Z\" fill=\"#000000\" fill-rule=\"evenodd\" fill-opacity=\"1\" /><path clip-path=\"url(#clip250)\" d=\"M2588.83 254.379 Q2585.41 254.379 2583.42 257.065 Q2581.43 259.727 2581.43 264.379 Q2581.43 269.032 2583.39 271.717 Q2585.38 274.379 2588.83 274.379 Q2592.24 274.379 2594.23 271.694 Q2596.22 269.009 2596.22 264.379 Q2596.22 259.773 2594.23 257.088 Q2592.24 254.379 2588.83 254.379 M2588.83 250.768 Q2594.39 250.768 2597.56 254.379 Q2600.73 257.991 2600.73 264.379 Q2600.73 270.745 2597.56 274.379 Q2594.39 277.99 2588.83 277.99 Q2583.25 277.99 2580.08 274.379 Q2576.93 270.745 2576.93 264.379 Q2576.93 257.991 2580.08 254.379 Q2583.25 250.768 2588.83 250.768 Z\" fill=\"#000000\" fill-rule=\"evenodd\" fill-opacity=\"1\" /><path clip-path=\"url(#clip250)\" d=\"M2622.81 255.375 Q2622.1 254.958 2621.24 254.773 Q2620.41 254.565 2619.39 254.565 Q2615.78 254.565 2613.83 256.926 Q2611.91 259.264 2611.91 263.662 L2611.91 277.319 L2607.63 277.319 L2607.63 251.393 L2611.91 251.393 L2611.91 255.421 Q2613.25 253.06 2615.41 251.926 Q2617.56 250.768 2620.64 250.768 Q2621.08 250.768 2621.61 250.838 Q2622.14 250.884 2622.79 251 L2622.81 255.375 Z\" fill=\"#000000\" fill-rule=\"evenodd\" fill-opacity=\"1\" /><polyline clip-path=\"url(#clip250)\" style=\"stroke:#e26f46; stroke-linecap:butt; stroke-linejoin:round; stroke-width:9; stroke-opacity:1; fill:none\" points=\"\n",
       "  2196.38,311.879 2352.31,311.879 \n",
       "  \"/>\n",
       "<path clip-path=\"url(#clip250)\" d=\"M2378.3 294.599 L2407.54 294.599 L2407.54 298.534 L2395.27 298.534 L2395.27 329.159 L2390.57 329.159 L2390.57 298.534 L2378.3 298.534 L2378.3 294.599 Z\" fill=\"#000000\" fill-rule=\"evenodd\" fill-opacity=\"1\" /><path clip-path=\"url(#clip250)\" d=\"M2425.99 315.131 L2425.99 317.215 L2406.4 317.215 Q2406.68 321.613 2409.04 323.928 Q2411.43 326.219 2415.66 326.219 Q2418.12 326.219 2420.41 325.617 Q2422.72 325.016 2424.99 323.812 L2424.99 327.84 Q2422.7 328.812 2420.29 329.321 Q2417.88 329.83 2415.41 329.83 Q2409.2 329.83 2405.57 326.219 Q2401.96 322.608 2401.96 316.451 Q2401.96 310.085 2405.38 306.358 Q2408.83 302.608 2414.67 302.608 Q2419.9 302.608 2422.93 305.988 Q2425.99 309.344 2425.99 315.131 M2421.73 313.881 Q2421.68 310.386 2419.76 308.303 Q2417.86 306.219 2414.71 306.219 Q2411.15 306.219 2409 308.233 Q2406.87 310.247 2406.54 313.905 L2421.73 313.881 Z\" fill=\"#000000\" fill-rule=\"evenodd\" fill-opacity=\"1\" /><path clip-path=\"url(#clip250)\" d=\"M2449.5 303.997 L2449.5 308.025 Q2447.7 307.099 2445.75 306.636 Q2443.81 306.173 2441.73 306.173 Q2438.56 306.173 2436.96 307.145 Q2435.38 308.118 2435.38 310.062 Q2435.38 311.543 2436.52 312.4 Q2437.65 313.233 2441.08 313.997 L2442.54 314.321 Q2447.07 315.293 2448.97 317.076 Q2450.89 318.835 2450.89 322.006 Q2450.89 325.617 2448.02 327.724 Q2445.18 329.83 2440.18 329.83 Q2438.09 329.83 2435.82 329.414 Q2433.58 329.02 2431.08 328.21 L2431.08 323.812 Q2433.44 325.039 2435.73 325.664 Q2438.02 326.266 2440.27 326.266 Q2443.28 326.266 2444.9 325.247 Q2446.52 324.205 2446.52 322.33 Q2446.52 320.594 2445.34 319.668 Q2444.18 318.743 2440.22 317.886 L2438.74 317.539 Q2434.78 316.706 2433.02 314.993 Q2431.26 313.256 2431.26 310.247 Q2431.26 306.59 2433.86 304.599 Q2436.45 302.608 2441.22 302.608 Q2443.58 302.608 2445.66 302.956 Q2447.75 303.303 2449.5 303.997 Z\" fill=\"#000000\" fill-rule=\"evenodd\" fill-opacity=\"1\" /><path clip-path=\"url(#clip250)\" d=\"M2461.89 295.872 L2461.89 303.233 L2470.66 303.233 L2470.66 306.544 L2461.89 306.544 L2461.89 320.618 Q2461.89 323.789 2462.75 324.692 Q2463.63 325.594 2466.29 325.594 L2470.66 325.594 L2470.66 329.159 L2466.29 329.159 Q2461.36 329.159 2459.48 327.33 Q2457.61 325.479 2457.61 320.618 L2457.61 306.544 L2454.48 306.544 L2454.48 303.233 L2457.61 303.233 L2457.61 295.872 L2461.89 295.872 Z\" fill=\"#000000\" fill-rule=\"evenodd\" fill-opacity=\"1\" /><path clip-path=\"url(#clip250)\" d=\"M2491.52 294.599 L2496.19 294.599 L2496.19 325.224 L2513.02 325.224 L2513.02 329.159 L2491.52 329.159 L2491.52 294.599 Z\" fill=\"#000000\" fill-rule=\"evenodd\" fill-opacity=\"1\" /><path clip-path=\"url(#clip250)\" d=\"M2526.96 306.219 Q2523.53 306.219 2521.54 308.905 Q2519.55 311.567 2519.55 316.219 Q2519.55 320.872 2521.52 323.557 Q2523.51 326.219 2526.96 326.219 Q2530.36 326.219 2532.35 323.534 Q2534.34 320.849 2534.34 316.219 Q2534.34 311.613 2532.35 308.928 Q2530.36 306.219 2526.96 306.219 M2526.96 302.608 Q2532.51 302.608 2535.68 306.219 Q2538.86 309.831 2538.86 316.219 Q2538.86 322.585 2535.68 326.219 Q2532.51 329.83 2526.96 329.83 Q2521.38 329.83 2518.21 326.219 Q2515.06 322.585 2515.06 316.219 Q2515.06 309.831 2518.21 306.219 Q2521.38 302.608 2526.96 302.608 Z\" fill=\"#000000\" fill-rule=\"evenodd\" fill-opacity=\"1\" /><path clip-path=\"url(#clip250)\" d=\"M2562.44 303.997 L2562.44 308.025 Q2560.64 307.099 2558.69 306.636 Q2556.75 306.173 2554.67 306.173 Q2551.5 306.173 2549.9 307.145 Q2548.32 308.118 2548.32 310.062 Q2548.32 311.543 2549.46 312.4 Q2550.59 313.233 2554.02 313.997 L2555.48 314.321 Q2560.01 315.293 2561.91 317.076 Q2563.83 318.835 2563.83 322.006 Q2563.83 325.617 2560.96 327.724 Q2558.12 329.83 2553.12 329.83 Q2551.03 329.83 2548.76 329.414 Q2546.52 329.02 2544.02 328.21 L2544.02 323.812 Q2546.38 325.039 2548.67 325.664 Q2550.96 326.266 2553.21 326.266 Q2556.22 326.266 2557.84 325.247 Q2559.46 324.205 2559.46 322.33 Q2559.46 320.594 2558.28 319.668 Q2557.12 318.743 2553.16 317.886 L2551.68 317.539 Q2547.72 316.706 2545.96 314.993 Q2544.2 313.256 2544.2 310.247 Q2544.2 306.59 2546.8 304.599 Q2549.39 302.608 2554.16 302.608 Q2556.52 302.608 2558.6 302.956 Q2560.68 303.303 2562.44 303.997 Z\" fill=\"#000000\" fill-rule=\"evenodd\" fill-opacity=\"1\" /><path clip-path=\"url(#clip250)\" d=\"M2587.14 303.997 L2587.14 308.025 Q2585.34 307.099 2583.39 306.636 Q2581.45 306.173 2579.37 306.173 Q2576.19 306.173 2574.6 307.145 Q2573.02 308.118 2573.02 310.062 Q2573.02 311.543 2574.16 312.4 Q2575.29 313.233 2578.72 313.997 L2580.18 314.321 Q2584.71 315.293 2586.61 317.076 Q2588.53 318.835 2588.53 322.006 Q2588.53 325.617 2585.66 327.724 Q2582.81 329.83 2577.81 329.83 Q2575.73 329.83 2573.46 329.414 Q2571.22 329.02 2568.72 328.21 L2568.72 323.812 Q2571.08 325.039 2573.37 325.664 Q2575.66 326.266 2577.91 326.266 Q2580.92 326.266 2582.54 325.247 Q2584.16 324.205 2584.16 322.33 Q2584.16 320.594 2582.98 319.668 Q2581.82 318.743 2577.86 317.886 L2576.38 317.539 Q2572.42 316.706 2570.66 314.993 Q2568.9 313.256 2568.9 310.247 Q2568.9 306.59 2571.49 304.599 Q2574.09 302.608 2578.86 302.608 Q2581.22 302.608 2583.3 302.956 Q2585.38 303.303 2587.14 303.997 Z\" fill=\"#000000\" fill-rule=\"evenodd\" fill-opacity=\"1\" /></svg>\n"
      ]
     },
     "execution_count": 17,
     "metadata": {},
     "output_type": "execute_result"
    }
   ],
   "source": [
    "plot_error_curve(trn_loss_list, tst_loss_list)"
   ]
  }
 ],
 "metadata": {
  "kernelspec": {
   "display_name": "Julia 1.6.3",
   "language": "julia",
   "name": "julia-1.6"
  },
  "language_info": {
   "file_extension": ".jl",
   "mimetype": "application/julia",
   "name": "julia",
   "version": "1.6.3"
  }
 },
 "nbformat": 4,
 "nbformat_minor": 2
}
