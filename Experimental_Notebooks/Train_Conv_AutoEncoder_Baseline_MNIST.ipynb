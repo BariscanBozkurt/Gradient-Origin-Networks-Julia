{
 "cells": [
  {
   "cell_type": "code",
   "execution_count": 1,
   "metadata": {},
   "outputs": [
    {
     "data": {
      "text/plain": [
       "KnetArray{Float32, N} where N"
      ]
     },
     "execution_count": 1,
     "metadata": {},
     "output_type": "execute_result"
    }
   ],
   "source": [
    "# Set display width, load packages, import symbols\n",
    "ENV[\"COLUMNS\"]=72\n",
    "using Distributions\n",
    "using Interpolations\n",
    "using Knet: Knet, dir, accuracy, progress, sgd, load143, save, gc, Param, KnetArray, Data, minibatch, nll, relu, training, dropout,sigm # param, param0, xavier_uniform\n",
    "using Knet\n",
    "using Images\n",
    "using Plots\n",
    "using LinearAlgebra\n",
    "using IterTools: ncycle, takenth\n",
    "using MLDatasets\n",
    "using Base.Iterators: flatten\n",
    "import CUDA #: functional\n",
    "using ImageTransformations\n",
    "using Statistics\n",
    "using Memento\n",
    "using NPZ\n",
    "# using Interpolations\n",
    "atype=(CUDA.functional() ? KnetArray{Float32} : Array{Float32})\n",
    "# Atype = CuArray{Float32}"
   ]
  },
  {
   "cell_type": "code",
   "execution_count": 2,
   "metadata": {},
   "outputs": [
    {
     "data": {
      "text/plain": [
       "params (generic function with 2 methods)"
      ]
     },
     "execution_count": 2,
     "metadata": {},
     "output_type": "execute_result"
    }
   ],
   "source": [
    "const F = Float32\n",
    "params = Knet.params"
   ]
  },
  {
   "cell_type": "code",
   "execution_count": 3,
   "metadata": {},
   "outputs": [],
   "source": [
    "logger = Memento.config!(\"info\"; fmt=\"[{date} | {level} | {name}]: {msg}\");"
   ]
  },
  {
   "cell_type": "code",
   "execution_count": 4,
   "metadata": {},
   "outputs": [],
   "source": [
    "include(\"PlotUtility.jl\")\n",
    "include(\"ImageUtility.jl\")\n",
    "include(\"TrainUtility.jl\")\n",
    "include(\"LayerUtility.jl\")\n",
    "include(\"LossUtility.jl\")\n",
    "\n",
    "using .PlotUtility\n",
    "using .ImageUtility\n",
    "using .TrainUtility\n",
    "using .LayerUtility\n",
    "using .LossUtility"
   ]
  },
  {
   "cell_type": "code",
   "execution_count": 5,
   "metadata": {},
   "outputs": [],
   "source": [
    "dataset_name = \"mnist\"\n",
    "notebook_name = \"Conv_AutoEncoder_Baseline\" * \"_\" * dataset_name\n",
    "\n",
    "if !isdir(\"Results\")\n",
    "   mkdir(\"Results\") \n",
    "end\n",
    "if  !isdir(joinpath(\"Results\", notebook_name))\n",
    "    mkdir(joinpath(\"Results\", notebook_name))\n",
    "end\n",
    "\n",
    "if  !isdir(joinpath(\"Results\", notebook_name, \"Saved_Models\"))\n",
    "    mkdir(joinpath(\"Results\", notebook_name, \"Saved_Models\"))\n",
    "end\n",
    "\n",
    "if  !isdir(joinpath(\"Results\", notebook_name, \"Images\"))\n",
    "    mkdir(joinpath(\"Results\", notebook_name, \"Images\"))\n",
    "end\n",
    "if  !isdir(joinpath(\"Results\", notebook_name, \"Logger\"))\n",
    "    mkdir(joinpath(\"Results\", notebook_name, \"Logger\"))\n",
    "end"
   ]
  },
  {
   "cell_type": "code",
   "execution_count": 6,
   "metadata": {},
   "outputs": [],
   "source": [
    "push!(logger, DefaultHandler(joinpath(\"Results\", notebook_name, \"Logger\", \"logger.log\"),DefaultFormatter(\"[{date} | {level} | {name}]: {msg}\")));"
   ]
  },
  {
   "cell_type": "code",
   "execution_count": 7,
   "metadata": {},
   "outputs": [],
   "source": [
    "use_saved_data = true\n",
    "\n",
    "if dataset_name == \"mnist\"\n",
    "    \n",
    "    if use_saved_data\n",
    "        xtrn = npzread(\"Data/MNIST_Train_Images.npy\")\n",
    "        xtrn = permutedims(xtrn, (3,4,2,1))\n",
    "        xtst = npzread(\"Data/MNIST_Test_Images.npy\")\n",
    "        xtst = permutedims(xtst, (3,4,2,1))\n",
    "\n",
    "    else\n",
    "\n",
    "        xtrn,_ = MNIST.traindata()\n",
    "        xtst,_ = MNIST.testdata()\n",
    "        xtrn = Array{Float64, 3}(xtrn)\n",
    "        xtst = Array{Float64, 3}(xtst)\n",
    "\n",
    "        xtrn = resize_MNIST(xtrn, 32/28)\n",
    "        xtst = resize_MNIST(xtst, 32/28)\n",
    "        \n",
    "    end\n",
    "    \n",
    "elseif dataset_name == \"fashion\"\n",
    "    \n",
    "    if use_saved_data\n",
    "\n",
    "        xtrn = npzread(\"Data/Fashion_MNIST_Train_Images.npy\")\n",
    "        xtrn = permutedims(xtrn, (3,4,2,1))\n",
    "        xtst = npzread(\"Data/Fashion_MNIST_Test_Images.npy\")\n",
    "        xtst = permutedims(xtst, (3,4,2,1))\n",
    "        \n",
    "    else\n",
    "        \n",
    "        xtrn,_ = FashionMNIST.traindata()\n",
    "        xtst,_ = FashionMNIST.testdata()\n",
    "        xtrn = Array{Float64, 3}(xtrn)\n",
    "        xtst = Array{Float64, 3}(xtst)\n",
    "\n",
    "        xtrn = resize_MNIST(xtrn, 32/28)\n",
    "        xtst = resize_MNIST(xtst, 32/28)\n",
    "\n",
    "    end\n",
    "end\n",
    "\n",
    "batch_size = 64\n",
    "\n",
    "dtrn = minibatch(xtrn, batch_size; xsize = (32, 32, 1,:), xtype = atype, shuffle = true)\n",
    "dtst = minibatch(xtst, batch_size; xsize = (32, 32, 1,:), xtype = atype);"
   ]
  },
  {
   "cell_type": "code",
   "execution_count": 8,
   "metadata": {},
   "outputs": [
    {
     "data": {
      "text/html": [
       "<table><tbody><tr><td style='text-align:center;vertical-align:middle; margin: 0.5em;border:1px #90999f solid;border-collapse:collapse'><img style='max-width: 100px; max-height:100px;display:inline' src=\"data:image/png;base64,iVBORw0KGgoAAAANSUhEUgAAAIAAAACACAAAAADmVT4XAAAABGdBTUEAALGPC/xhBQAAAAFzUkdCAK7OHOkAAAAgY0hSTQAAeiYAAICEAAD6AAAAgOgAAHUwAADqYAAAOpgAABdwnLpRPAAAAxBJREFUeAHFwc9rFgQcB+Dn3fuR6RJllqkIpsJMENIiRSmxQx7Ei4G3rh2jY6e69B8EdejULRElDKU6WdBBIhQyy2m2NPs9fR0aus1tb4cdhhtu7zuj7/NEsSgWxaJYFItiUSyKRbEoFsWiWBSLYlEsikWxKBbFolgsUg9ixhosRy9G8Se2YK1pv2MILQ+KYlEsikUHlqCBXvRhKZbhSTNexCasxG84jTewF2M4ig/Q8qAoFsWiWCygiQ1Yjs3YjgGswz5zjeAKBrALt/AjvsYf5opiUSyKxTya2Ir3sQ29aKIHPeZq4yyOYBRHMIwWhjBirigWxaJYzGMKwxjDUvR50BQGcQebsQIXcQJTpk1gEuOYMlcUi2JRLObRxi0cx000sAG7MY4reAs3sAm78T1u6VwUi2JRLBZwH5/hMiaxE6vQj09wGv/gPM5jVHeiWBSLYtGBX/E3prAEQ3gWY5hEG3dwXveiWBSLYtGhcdOGMYgdOICPcA0TFieKRbEoFl0axHEM4CUcwBe4gdu4pztRLIpFsejSBL7Fe9iJN7Ef3+EUzuE+2joTxaJYFItFuIezeBvvYD9exhZ8iDMY0ZkoFsWiWCxCGyM4gb/wGl7AfqzAapxCy8KiWBSLYrFIk7iJL9HCXhzGLjyGfrxrYVEsikWxeARt3ME3uI4t2I4dGMVJXMWUh4tiUSyKxSNoYBWewhqsQgNN9KJhYVEsikWxWIRgBTbiOezGAJ5GA3dxFUNom18Ui2JRLLrQxDKswy68gj1YjSbuYxhX8APaFhbFolgUiw400IPH8TwO4SDWmjaJUfyMT3EUZ3UmikWxKBYd6MdGvIpDWIclZlzCMZzEJYzpXBSLYlEsHqIHq/E6tmET1mMlgnu4gI/xFa6ihTHdiWJRLIrFLP14BvuwFXvQjz40MYlf8DmO4TKGMY627kWxKBbFYpb1OIjDeAJ9aGEQt3ENZ3AOFzDh0USxKBbFYpa7uIgTZrTwE27jOgYx7r8RxaJYFItZhjDk/xPFolgUi2JRLIpFsSgWxaJYFPsX5dSlba33Cz0AAAAASUVORK5C\"></td><td style='text-align:center;vertical-align:middle; margin: 0.5em;border:1px #90999f solid;border-collapse:collapse'><img style='max-width: 100px; max-height:100px;display:inline' src=\"data:image/png;base64,iVBORw0KGgoAAAANSUhEUgAAAIAAAACACAAAAADmVT4XAAAABGdBTUEAALGPC/xhBQAAAAFzUkdCAK7OHOkAAAAgY0hSTQAAeiYAAICEAAD6AAAAgOgAAHUwAADqYAAAOpgAABdwnLpRPAAAAx9JREFUeAHFwU1oFgQcB+Dnff2ZH7GlNvtugeWKog8JZUSOKMgSD4p4q2uXDp2CzkHHDmFCh8CgwlvkIYU+qUAsAjWjmRlOUczQ5dLlpviuww4dtnd7t4z/80SxKBbFolgUi2JRLIpFsSgWxaJYFItiUSyKxXWwAqvRZ9JR/Iphs4tiUSyKxX/QQBeex3MYMOkb7MEus4tiUSyKxTw10YUBvIY+NNHCVqzCboyhpb0oFsWiWMxDE114Em+iFwswhotoogf9OIARtEwvikWxKBZzFPRgAK+jFwsxgfP4FJfwMnbhLbyLP0wvikWxKBZztA4vYQC3I/51C27FKfyC+/AgFmsvikWxKBZz0IN+PIM7cA1HcBj96MEwDqALfViCpvaiWBSLYtGhm7EZW7ASYxjEDlzBCEbxGQ7hGl7BA+jFWVw2VRSLYlEsOtCNddiCNRjDGezBR+jBCZzFSYzjFBq4F0/jJIZMFcWiWBSLWTSxFtvwEH7HQRzF5xjFCH4zVQPBeuzFkKmiWBSLYjGDBrrxAjZiHLvxHk4haJndctxgelEsikWxmEHwMJ7AMuzA2zju+oliUSyKxQwW4VXchmP4Did0poEmWmhoL4pFsSgWbdyI9XgMS3AIQ2jpzARamMAQLpleFItiUSzaCHrQjVHsx5DZNdGLTbiGQXyAIdOLYlEsikUbDTTRxCiGMGxmTazCZmzDOXyM/RgxvSgWxaJYdOAEzuOq9rrRhw3YgHFsxyc4h5bpRbEoFsWiAyO4or270Y9n8ThG8A52ml0Ui2JRLGbQQANrsBrHcBkNLMVNWIzN2Ip7MIj3sVNnolgUi2IxgwlMYBlexFIcwCKsxUbcj5UYxg/Yi291LopFsSgWHWjiKTyKYQR3YiGaOILv8SH24arORbEoFsWijcs4jJ/wCBajB8tNauICvsZ2HMefGDc3USyKRbFo4yqO4Q1swkbchQU4gy/wJX7EIMbMTxSLYlEs2mjhIr7CaezDCpMu4GccxV+YMH9RLIpFsZjBBP7GQRz0/4hiUSyKRbEoFsWiWBSLYlEsikWxKBbFotg/EiqeVkjSWIYAAAAASUVORK5C\"></td><td style='text-align:center;vertical-align:middle; margin: 0.5em;border:1px #90999f solid;border-collapse:collapse'><img style='max-width: 100px; max-height:100px;display:inline' src=\"data:image/png;base64,iVBORw0KGgoAAAANSUhEUgAAAIAAAACACAAAAADmVT4XAAAABGdBTUEAALGPC/xhBQAAAAFzUkdCAK7OHOkAAAAgY0hSTQAAeiYAAICEAAD6AAAAgOgAAHUwAADqYAAAOpgAABdwnLpRPAAAAnZJREFUeAHFwb1uFQQABtBz61egYFsKxICBCEETCf7EzQkHnNDJB3DyDXR38i3cTHwEB1YjGidFozGkmBI01qQQaQkV2+LAwKU/eL20+c6JsiiLsiiLsiiLsiiLsiiLsiiLsiiLsiiLsiiLsiiLPRIcw6u4iiWs2SrKoizKYpNJHMADrBjfIVzAx/gIX2LFVlEWZVEWmxzHeWzgsvEdwMuYx6qdRVmURVlschwXcB+XjWeA/TiF57EfA9uLsiiLstjkLN7EFePbhzN4F9/gOu7aXpRFWZTFJlOY9nTO4n0cxgKWsWF7URZlURZDZnEMU57OEbyGdXyHe3YWZVEWZTHkFF7EQeMLpjGHdfyCVTuLsiiLshjyAs546K7xnMDrOIoV3MKanUVZlEVZDJnBLJaxYHQTOIgZvI33EHyPO9iwsyiLsiiLbSxj3uMmMMAEnsEAA0ziEN7ARVzEOdzEp1jChp1FWZRFWWxjEtMedxKzOIlXcBQHcQlTWMdvWMd93MPPWPdkURZlURZD1vAPzuMTfOCR05hFMIlV3MTXmMcP+BWX8CFWcR0bnizKoizKYshXeBbv4Dkc8cgafsQ13MACVvAX7uA2TuEEJnALf/tvURZlURZDfscXuIY5Wy1hEbdw21Zv4RyWcdVooizKoiw2WcSi8czhMP7EFaOJsiiLstgDd3DNaKIsyqIs9sAE9hlNlEVZlMUuG+AQjhtNlEVZlMUue+ChCaOJsiiLstgDM3jJaKIsyqIsdtkAwZTRRFmURVnsokX8gVmji7Ioi7LYRT/hc5zGt0YTZVEWZbGLbuAz/0+URVmURVmURVmURVmURVmU/QsVwGKoBDA0PgAAAABJRU5ErkJg\"></td><td style='text-align:center;vertical-align:middle; margin: 0.5em;border:1px #90999f solid;border-collapse:collapse'><img style='max-width: 100px; max-height:100px;display:inline' src=\"data:image/png;base64,iVBORw0KGgoAAAANSUhEUgAAAIAAAACACAAAAADmVT4XAAAABGdBTUEAALGPC/xhBQAAAAFzUkdCAK7OHOkAAAAgY0hSTQAAeiYAAICEAAD6AAAAgOgAAHUwAADqYAAAOpgAABdwnLpRPAAAAkFJREFUeAHFwb+LlgUAB/CPL986sULu0CGJIoOKwCEKokOiH2QQ0uzS0tbW3NbU1n/g1miggxEI0Q+iwcogGhw0zCAKrqQzL+vufRsaWrSe570Hvp9PlEVZlEVZlEVZlEVZlEVZlEVZlEVZlEVZlEVZlEVZTGwVh3EfdnAeG9h2a1EWZVEWE9qHp/E6XsYNnMDHuO7WoizKoiwmdAQn8ALmmGPhv0VZlEVZTGg/1nCH4aIsyqIsJvIwjuMJ3MBXeBsX8Ifbi7Ioi7KYwGG8hpewhkt4D5/iT8zdXpRFWZTFBNbxPB7AJr7AWWz5f1EWZVEWu7QXx/Cgf1zEOXxnmCiLsiiLJc1wN45iHau4io/wieGiLMqiLJa0gsfwFg5hC5/hfVwxXJRFWZTFEmZYxXN4FMHXOI0vjRNlURZlsYSDeAVvYAXf4h2cw03jRFmURVmMdBeexZtYwx78iKvYxMI4URZlURYjPYJjOORfH+AK5saLsiiLshhhPx7Hk1hgBxfxOTYsJ8qiLMpihHUcx/3Yxg84icv4y3KiLMqiLEZ4Bi9iBdfwId7Fr5YXZVEWZTHQARzAXixwDaexiYXlRVmURVkMMMOrOIoZdvAbvsGO3YmyKIuyGOAhPIV7sY3LOIUNLOxOlEVZlMUA9+Ag9mEL53ESN7GwO1EWZVEWA8wQzDDHdfxsGlEWZVEWA/yC73EEe0wryqIsymKAn3AKl3AnLphOlEVZlMUAv+MMzphelEVZlEVZlEVZlEVZlEVZlP0NzmVe9Bifqs4AAAAASUVORK5C\"></td><td style='text-align:center;vertical-align:middle; margin: 0.5em;border:1px #90999f solid;border-collapse:collapse'><img style='max-width: 100px; max-height:100px;display:inline' src=\"data:image/png;base64,iVBORw0KGgoAAAANSUhEUgAAAIAAAACACAAAAADmVT4XAAAABGdBTUEAALGPC/xhBQAAAAFzUkdCAK7OHOkAAAAgY0hSTQAAeiYAAICEAAD6AAAAgOgAAHUwAADqYAAAOpgAABdwnLpRPAAAAs5JREFUeAHFwc9rFgQcB+Dn3ftZY200NxSCJTVJgi6GeBho/QH9LnfoEkHYoVu3/oa6dhLqqsEGdSiJIpMIRINWOopRy4KwNjLdoP1y797+gHjX+74Lvs8TxaJYFItiUSyKRbEoFsWiWBSLYlEsikWxKBbFolgUi2JRLIpFsSgWxaJYFIti0YcGgkE0MYAG7uIuGmjgLlr2FsWiWBSLPozhBJ7CcRzFEC7gczRxPy7gGlo6i2JRLIpFjx7Ec3gFD2AES2jiFB5HA5sYwyLWdRbFolgUiy4N4BCexhkcxhI+xhXs4Bk8i0msYA279hbFolgUiy49jOcxg0nM4yyu4iam0MS92MHv+AI79hbFolgUiy4cwwxOYwJfYhYfYhttnMI0xvEbPsG3aNlbFItiUSz20MQRvIoXMIpLeBcXsYUmxvEEjuA2vsJ5/O2/RbEoFsWigwaGcQYvYQiXcQ6fYQfDmMI0HsUAruAcFnQnikWxKBYdDGACpzGGq3gHn2IQ9+ERvIXHMIxvMIeLuhfFolgUiw4auAfjCM7jOqbxJE7iKCbQRBvXMI8t3YtiUSyKRQdtbGMVo3gTr2MIYxjCOu7gADZxHYto614Ui2JRLDrYxS28jTcwhTEs4RLmsYHXcAwL+AmbehPFolgUiw7aWMcHuIOD2MYKbmAZUziIQfyCP/UuikWxKBZ7aGMZ7/u3URzCJAbxI/7QuygWxaJY9KmF22ihjZ+xondRLIpFsejTFm5g1/5EsSgWxaJPI5hG7E8Ui2JRLPo0hMMYsD9RLIpFsejTOhawiwYa+hPFolgUiz5t4QfcxEM4gBFs6E0Ui2JRLPrUwl/4CC/jJBZxGWu6F8WiWBSLfdjGHE7gOG5hDV9jR3eiWBSLYrEPLXyHOcxgGr/ie6zqThSLYlEs9qGNDbyHZbyIEQxjVXeiWBSLYvE/2MAsZvUuikWxKPYPvhCMIXS75goAAAAASUVORK5C\"></td><td style='text-align:center;vertical-align:middle; margin: 0.5em;border:1px #90999f solid;border-collapse:collapse'><img style='max-width: 100px; max-height:100px;display:inline' src=\"data:image/png;base64,iVBORw0KGgoAAAANSUhEUgAAAIAAAACACAAAAADmVT4XAAAABGdBTUEAALGPC/xhBQAAAAFzUkdCAK7OHOkAAAAgY0hSTQAAeiYAAICEAAD6AAAAgOgAAHUwAADqYAAAOpgAABdwnLpRPAAAAy1JREFUeAHFwU1oFgQcB+DnffdLpTmbG0OpjMjMPkmMQos0kT69WHYo6tAHGNG5W+du1Sk6degSHgqMCClZGfahHaRDpWhh00x0ammba835dvAwpHdfVvyfJ4pFsSgWxaJYFItiUSyKRbEoFsWiWBSLYlEsikWxKBbF4j/QgWABujCKozhvelEsikWxuEQNzEUvetGNG7EUv+I9HDG9KBbFoljMUgNBJ5bhOazEMsxHA4fQhVdx3tSiWBSLYjFL3bgTT+JhdOEy/IYBdGIR1mMLDmLc5KJYFItiMUPzsB6bcBcW4wo0cAxv4Fs8is3ow0L8bGpRLIpFsZihm7ARG9CNDrRwDK9hK0awFg0EHaYXxaJYFIsZWomV6MVfGMQhbMX7OIIl6DI7USyKRbGYoUF8h0EcwQAOoB8nMY5udJudKBbFoljM0KcYxOX4CScw5GILsdDsRLEoFsVihobwtQlBH5omLMNVGMcwzqJlalEsikWxmKUmgivxBOahiRZuQR9OYje+x7ipRbEoFsViFuagD/fgGaxBA0200MQotuN1jJteFItiUSxmoANL8DQ2oA+dOI19uA3daGIMPbgdAxgztSgWxaJYTCO4GZvxEIbxMfbiAMbwCu5AJ+bgVjyPo9iDUbS0F8WiWBSLSTQwB+vxOB5AE9vwDg5jDM9iETqwD6dwNVbhZezATpzAeQzhdxOiWBSLYjGJ+ViNF7Eah/E5PsB+LMb92Iwe7MZH+AXLsQo34DqswCmcxU58YkIUi2JRLNroxAq8hHXYh3fxBYZxN+7FJpxDP7ZgJ06jBzuwCg/iPszFj9jvYlEsikWxaGMJnsIj+BPb8QOuwWqsxXIcw1vYhgGMuuA4jmMX9mAdFuAz7HCxKBbFoli0cS0eQwNNbMRG9GI+zuEI3sTbGEHLP42hH/0mF8WiWBSLNkZxCj2Yi6Uu2I8PsQtfYgAjaLl0USyKRbFoYw9ewBpcjyF8hb04iTMYxhha/p0oFsWiWLRxBt/gIBZgDMfxB8bR8t+JYlEsikUbLYzgkP9fFItiUSyKRbEoFsWiWBSLYlEsikWxKBbFolgUi2JR7G9yo6QKpKkAYAAAAABJRU5ErkJg\"></td><td style='text-align:center;vertical-align:middle; margin: 0.5em;border:1px #90999f solid;border-collapse:collapse'><img style='max-width: 100px; max-height:100px;display:inline' src=\"data:image/png;base64,iVBORw0KGgoAAAANSUhEUgAAAIAAAACACAAAAADmVT4XAAAABGdBTUEAALGPC/xhBQAAAAFzUkdCAK7OHOkAAAAgY0hSTQAAeiYAAICEAAD6AAAAgOgAAHUwAADqYAAAOpgAABdwnLpRPAAAAe5JREFUeAHFwTGrlXUAB+Dn4M+rRFGQyuValysiougk4ugWfZOWRr9HH6QhwsXFchEXwSFtKEShEL2T3hu34qSn4Qyu5/++wu95oizKoizKoizKoizKoizKoizKoizKoizKYoJTuI4LeI2f8BL/GRdlURZlMSi4hFu4iRf4FvdwYFyURVmUxaCT+BKXscAOzuIkDoyLsiiLshj0L/7AE5wxX5RFWZTFoCXeYN+HEWVRFmUxaAunsOvDiLIoi7IYFHyGbe/tYgd/4ciYKIuyKItBS+zjd5yz9jVe4Q2eGRNlURZlMWiJ3/AjvrJ2FZfws3FRFmVRFhPs4wEWWJknyqIsymKiBRZYmCfKoizKYqIV3mFlniiLsiiLsiiLsiiLsiiLsiiLiRZYeG8XnxsXZVEWZTHRytrK2lVcxkMc2FyURVmUxUT/4DEu4hi2cQ338cjmoizKoiwmOsRdnMcxa3vYwyObi7Ioi7KY6AiP8Te2sMDH+BTHsbSZKIuyKIuJXuN7fIMrOIFruIk7eGkzURZlURYzvMVTXMCWtZUxURZlURYzLPEDbuAT00RZlEVZzPAWv+A5TuMj46IsyqIsZniHP/EdvsAWfsWhzUVZlEVZzLDCIW6bLsqiLMqiLMqiLMqiLMqiLMqiLMqiLMr+BynSRObXHdPfAAAAAElFTkSuQmCC\"></td><td style='text-align:center;vertical-align:middle; margin: 0.5em;border:1px #90999f solid;border-collapse:collapse'><img style='max-width: 100px; max-height:100px;display:inline' src=\"data:image/png;base64,iVBORw0KGgoAAAANSUhEUgAAAIAAAACACAAAAADmVT4XAAAABGdBTUEAALGPC/xhBQAAAAFzUkdCAK7OHOkAAAAgY0hSTQAAeiYAAICEAAD6AAAAgOgAAHUwAADqYAAAOpgAABdwnLpRPAAAAxxJREFUeAHFwcuL1QUcB9Bz535m1GYGNDPw0cOKsiRDKGgIFJISysCF7QOhTbRrVbTpb2hXu7auCoKIUIIEeyCJEdpkD1NHMW3yMeO8bou7uAxzR3+DxPecKBbFolgUi2JRLIpFsSgWxaJYFItiUSyKRbEoFsWiWBSLFRrEagTr8SQGLDWLiziBWcuLYlEsikVDQxjBA9iCUTyLtzBkqev4Gu9iHNPoWCqKRbEoFg09iJewDzswiPvQQsdSw9iD9/EBTmHWUlEsikWxaGg/3sCjaKPlzobwGj7FOVy1VBSLYlEsGvodVzGIGZzHYbTQ0bUJ27FFzyDaaOkvikWxKBYNHcU1bMEcJnEKLXR0rcUBHMQI5nEcp3BDf1EsikWxaOgCrmAQHcxjymIPYRotXfM4jQnM6C+KRbEoFg11MI1p/W3GC9iJ1brmcAST6OgvikWxKBZ3YQAb8TDGsAs70MY8/sYX+NfyolgUi2LRUDCCUazSNYRX8DoexzBauIm/8B1uomN5USyKRbFoYACbsRt78JiuNnairWcaP+BDfINJLFheFItiUSwa2Ir3sBfrMKCrhaCj5yKO4DPMYcHtRbEoFsWigQGswTBWWWwAC3o24Xlsx3F3FsWiWBSLBi7gY/yKe3AWc7pa6OAZ7MZWjGJYM1EsikWxaOA6juIPBFcwb7FvsQ5brUwUi2JRLBqawrjljeCGlYtiUSyKxW20sR6TmEFHfxuxF09YuSgWxaJY9BGMYiN24XOcx5yeFtoYwX68iafQwQI6moliUSyKRR/34mUcxBjO4Rqm9AT3YzfexiNo4SYmMaWZKBbFolj0sQ3vYBuCA3gOc3pGMIansQZtnMGXOIQfNRPFolgUiz7aWI3oehWz6OgZwDDWYBIn8Am+wmXMayaKRbEoFn2cwUfYhzGstdg0ruICxnEY3+MnXMaC5qJYFIti0ccEDmEcZ/EiNuASfsHPOIl/cBGncQkzVi6KRbEoFn3cwp+YwAROYgMuYhzj+A033L0oFsWiWCyjg1s4hmP+P1EsikWxKBbFolgUi2JRLIpFsf8A62qeJvNzciAAAAAASUVORK5C\"></td><td style='text-align:center;vertical-align:middle; margin: 0.5em;border:1px #90999f solid;border-collapse:collapse'><img style='max-width: 100px; max-height:100px;display:inline' src=\"data:image/png;base64,iVBORw0KGgoAAAANSUhEUgAAAIAAAACACAAAAADmVT4XAAAABGdBTUEAALGPC/xhBQAAAAFzUkdCAK7OHOkAAAAgY0hSTQAAeiYAAICEAAD6AAAAgOgAAHUwAADqYAAAOpgAABdwnLpRPAAAAb9JREFUeAHFwTtqVVEABdCVZJuoJGAk/lAURLG2UOycggOwdUaOwMbKiaQQYuGnUATBRiH45ZnwEsdwz32w14qyKIuyKIuyKIuyKIuyKIuyKIuyKIuyKIuyKIuyKIsBawh2cRcH+G1MlEVZlMWAdezhCZ7iGd7jxHRRFmVRFgM2cA/P8R1X8AkL00VZlEVZzLCGPVzCFhami7Ioi7KYaR1rxkVZlEVZzHSKM1g3JsqiLMpiBa7hPA5NF2VRFmUxaIkjbOIWto2JsiiLshiwxB98xU1cwKYxURZlURYDljjEB1w3T5RFWZTFCqwZF2VRFmWxAjvYNCbKoizKYgUeYM+YKIuyKItBC7zFY2wjxkRZlEVZDPqHjzjBOnZwFgvTRFmURVkMOsFPnGID29jCwjRRFmVRFoOO8BW/cBE3sIsfpomyKIuyGPQX+3iHh7iDy/hsmiiLsiiLGZbYx228wmvTRVmURVmswCmOsTRdlEVZlMUKnMN9HOCLaaIsyqIsZtjAI5zHXxybLsqiLMpipgW+4TsWpouyKIuymOEIL3AVb7AwXZRFWZTFDEd4aZ4oi7Ioi7Ioi7Ioi7Ioi7Io+w8iqzuWllKOVQAAAABJRU5ErkJg\"></td><td style='text-align:center;vertical-align:middle; margin: 0.5em;border:1px #90999f solid;border-collapse:collapse'><img style='max-width: 100px; max-height:100px;display:inline' src=\"data:image/png;base64,iVBORw0KGgoAAAANSUhEUgAAAIAAAACACAAAAADmVT4XAAAABGdBTUEAALGPC/xhBQAAAAFzUkdCAK7OHOkAAAAgY0hSTQAAeiYAAICEAAD6AAAAgOgAAHUwAADqYAAAOpgAABdwnLpRPAAAAtVJREFUeAHFwU1oFgQcB+Bn22/TYTZDlohFsEZmlgXRiKGwkgXRpSIadfHUrQ9vUbeOXaVDUIc8eCkpCioPGYRpUlQkRAXOQPvENtuSNrc2O+wwZL7tfafr/zxRLIpFsSgWxaJYFItiUSyKRbEoFsWiWBSLYvE/2I0N+AYnXSqKRbEoFquoA1vxLNZhH066VBSLYlEsVkknbsReDOAY/rRUFItiUSxWyfXYixFcxLf4xVJRLIpFsVgla3En1uAEDuOUpaJYFItisQI9GMCDeBlnMW/RJuzGzfgNr+N7zFsqikWxKBYrcAuew604iElMWXQTHsd67MNhjLu8KBbFoliswHpsRS82osOia9CPHWjHKMYw6/KiWBSLYtGizbgd3RjHOOYs6EAf7kU3fsWPmNFYFItiUSxa0Im78TC6cAijmLHgBjyAIYzhAL7ElMaiWBSLYtGkLvRhCNvxA17BWcyhBw/hSWzBIbxkeVEsikWxaEIn+vE0HsME3sd3mEcbhjGC2/A13tScKBbFolgsIxjG8xhAF9qwC+exH2sxiD6M4iA+0JwoFsWiWPyHTtyPF3AXuvAXZjGI7diJ67AN6/A29mNWc6JYFIti0cA6DOJF3IF5vItP0YtH0YdhdGEN5rELe/AGxiwvikWxKBYNbMAj6McnOI4jGMUmXMAebEEHLqIdG9GLC5oTxaJYFIsG2hEcwEf4AucsmMIJzFpwFD9hBj/jY5zXnCgWxaJYNDCBd/AV/sCcBe3oQT82Ywqv4XP8jWlMal4Ui2JRLBqYxIeWuhY7cB/a8RmO4pSViWJRLIpFC9qwDU9gCKN4BmesXBSLYlEsWtCDe7AT43gLZzBr5aJYFIti0YIRPIV5vIdXMe3KRLEoFsWiBecwgX9wBL+7clEsikWxaMFxTKMbx1wdUSyKRbFowWmcdnVFsSgWxaJYFItiUSyKRbEoFsWiWBSLYlHsX0wwgMhGwZr2AAAAAElFTkSuQmCC\"></td></tr></tbody></table><div><small>(a vector displayed as a row to save space)</small></div>"
      ],
      "text/plain": [
       "10-element Vector{Matrix{Gray{Float32}}}:\n",
       " [Gray{Float32}(0.0f0) Gray{Float32}(0.0f0) … Gray{Float32}(0.0f0) Gray{Float32}(0.0f0); Gray{Float32}(0.0f0) Gray{Float32}(0.0f0) … Gray{Float32}(0.0f0) Gray{Float32}(0.0f0); … ; Gray{Float32}(0.0f0) Gray{Float32}(0.0f0) … Gray{Float32}(0.0f0) Gray{Float32}(0.0f0); Gray{Float32}(0.0f0) Gray{Float32}(0.0f0) … Gray{Float32}(0.0f0) Gray{Float32}(0.0f0)]\n",
       " [Gray{Float32}(0.0f0) Gray{Float32}(0.0f0) … Gray{Float32}(0.0f0) Gray{Float32}(0.0f0); Gray{Float32}(0.0f0) Gray{Float32}(0.0f0) … Gray{Float32}(0.0f0) Gray{Float32}(0.0f0); … ; Gray{Float32}(0.0f0) Gray{Float32}(0.0f0) … Gray{Float32}(0.0f0) Gray{Float32}(0.0f0); Gray{Float32}(0.0f0) Gray{Float32}(0.0f0) … Gray{Float32}(0.0f0) Gray{Float32}(0.0f0)]\n",
       " [Gray{Float32}(0.0f0) Gray{Float32}(0.0f0) … Gray{Float32}(0.0f0) Gray{Float32}(0.0f0); Gray{Float32}(0.0f0) Gray{Float32}(0.0f0) … Gray{Float32}(0.0f0) Gray{Float32}(0.0f0); … ; Gray{Float32}(0.0f0) Gray{Float32}(0.0f0) … Gray{Float32}(0.0f0) Gray{Float32}(0.0f0); Gray{Float32}(0.0f0) Gray{Float32}(0.0f0) … Gray{Float32}(0.0f0) Gray{Float32}(0.0f0)]\n",
       " [Gray{Float32}(0.0f0) Gray{Float32}(0.0f0) … Gray{Float32}(0.0f0) Gray{Float32}(0.0f0); Gray{Float32}(0.0f0) Gray{Float32}(0.0f0) … Gray{Float32}(0.0f0) Gray{Float32}(0.0f0); … ; Gray{Float32}(0.0f0) Gray{Float32}(0.0f0) … Gray{Float32}(0.0f0) Gray{Float32}(0.0f0); Gray{Float32}(0.0f0) Gray{Float32}(0.0f0) … Gray{Float32}(0.0f0) Gray{Float32}(0.0f0)]\n",
       " [Gray{Float32}(0.0f0) Gray{Float32}(0.0f0) … Gray{Float32}(0.0f0) Gray{Float32}(0.0f0); Gray{Float32}(0.0f0) Gray{Float32}(0.0f0) … Gray{Float32}(0.0f0) Gray{Float32}(0.0f0); … ; Gray{Float32}(0.0f0) Gray{Float32}(0.0f0) … Gray{Float32}(0.0f0) Gray{Float32}(0.0f0); Gray{Float32}(0.0f0) Gray{Float32}(0.0f0) … Gray{Float32}(0.0f0) Gray{Float32}(0.0f0)]\n",
       " [Gray{Float32}(0.0f0) Gray{Float32}(0.0f0) … Gray{Float32}(0.0f0) Gray{Float32}(0.0f0); Gray{Float32}(0.0f0) Gray{Float32}(0.0f0) … Gray{Float32}(0.0f0) Gray{Float32}(0.0f0); … ; Gray{Float32}(0.0f0) Gray{Float32}(0.0f0) … Gray{Float32}(0.0f0) Gray{Float32}(0.0f0); Gray{Float32}(0.0f0) Gray{Float32}(0.0f0) … Gray{Float32}(0.0f0) Gray{Float32}(0.0f0)]\n",
       " [Gray{Float32}(0.0f0) Gray{Float32}(0.0f0) … Gray{Float32}(0.0f0) Gray{Float32}(0.0f0); Gray{Float32}(0.0f0) Gray{Float32}(0.0f0) … Gray{Float32}(0.0f0) Gray{Float32}(0.0f0); … ; Gray{Float32}(0.0f0) Gray{Float32}(0.0f0) … Gray{Float32}(0.0f0) Gray{Float32}(0.0f0); Gray{Float32}(0.0f0) Gray{Float32}(0.0f0) … Gray{Float32}(0.0f0) Gray{Float32}(0.0f0)]\n",
       " [Gray{Float32}(0.0f0) Gray{Float32}(0.0f0) … Gray{Float32}(0.0f0) Gray{Float32}(0.0f0); Gray{Float32}(0.0f0) Gray{Float32}(0.0f0) … Gray{Float32}(0.0f0) Gray{Float32}(0.0f0); … ; Gray{Float32}(0.0f0) Gray{Float32}(0.0f0) … Gray{Float32}(0.0f0) Gray{Float32}(0.0f0); Gray{Float32}(0.0f0) Gray{Float32}(0.0f0) … Gray{Float32}(0.0f0) Gray{Float32}(0.0f0)]\n",
       " [Gray{Float32}(0.0f0) Gray{Float32}(0.0f0) … Gray{Float32}(0.0f0) Gray{Float32}(0.0f0); Gray{Float32}(0.0f0) Gray{Float32}(0.0f0) … Gray{Float32}(0.0f0) Gray{Float32}(0.0f0); … ; Gray{Float32}(0.0f0) Gray{Float32}(0.0f0) … Gray{Float32}(0.0f0) Gray{Float32}(0.0f0); Gray{Float32}(0.0f0) Gray{Float32}(0.0f0) … Gray{Float32}(0.0f0) Gray{Float32}(0.0f0)]\n",
       " [Gray{Float32}(0.0f0) Gray{Float32}(0.0f0) … Gray{Float32}(0.0f0) Gray{Float32}(0.0f0); Gray{Float32}(0.0f0) Gray{Float32}(0.0f0) … Gray{Float32}(0.0f0) Gray{Float32}(0.0f0); … ; Gray{Float32}(0.0f0) Gray{Float32}(0.0f0) … Gray{Float32}(0.0f0) Gray{Float32}(0.0f0); Gray{Float32}(0.0f0) Gray{Float32}(0.0f0) … Gray{Float32}(0.0f0) Gray{Float32}(0.0f0)]"
      ]
     },
     "execution_count": 8,
     "metadata": {},
     "output_type": "execute_result"
    }
   ],
   "source": [
    "k = 1:10\n",
    "if use_saved_data\n",
    "    [Matrix{Gray{Float32}}(reshape(xtrn[:,:,:,j], (32, 32))) for j in k]\n",
    "else\n",
    "    [Matrix{Gray{Float32}}(reshape(xtrn[:,:,j], (32, 32))) for j in k]\n",
    "end"
   ]
  },
  {
   "cell_type": "code",
   "execution_count": 9,
   "metadata": {},
   "outputs": [
    {
     "data": {
      "text/plain": [
       "weights (generic function with 1 method)"
      ]
     },
     "execution_count": 9,
     "metadata": {},
     "output_type": "execute_result"
    }
   ],
   "source": [
    "# WEIGHT INITIALIZATON FUNCTION\n",
    "function weights(nc, nz,  ngf) \n",
    "    \n",
    "    # Encoding Weights\n",
    "    phi = [] # x -> z\n",
    "    \n",
    "    w,b = conv_weight_init(4, 4, nc, ngf; bias = true, return_param = false)\n",
    "    push!(phi, w)\n",
    "    push!(phi, b)\n",
    "    push!(phi, bnparams(ngf))\n",
    "    \n",
    "    w,b = conv_weight_init(4, 4, ngf, ngf * 2; bias = true, return_param = false)\n",
    "    push!(phi, w)\n",
    "    push!(phi, b)\n",
    "    push!(phi, bnparams(ngf * 2))\n",
    "    \n",
    "    w,b = conv_weight_init(4, 4, ngf * 2, ngf * 4; bias = true, return_param = false)\n",
    "    push!(phi, w)\n",
    "    push!(phi, b)\n",
    "    push!(phi, bnparams(ngf * 4))\n",
    "    \n",
    "    w,b = conv_weight_init(4, 4, ngf * 4, nz; bias = true, return_param = false)\n",
    "    push!(phi, w)\n",
    "    push!(phi, b)\n",
    "    \n",
    "    # Decoding Weights\n",
    "    theta = [] # z -> x\n",
    "    \n",
    "    w, b = deconv_weight_init(4, 4, nz, ngf * 4;bias = true, return_param = false)\n",
    "    push!(theta, w)\n",
    "    push!(theta, b)\n",
    "    push!(theta, (bnparams(ngf * 4))) # Batch Normalization\n",
    "    \n",
    "    w, b = deconv_weight_init(4, 4, ngf * 4, ngf * 2;bias= true, return_param = false)\n",
    "    push!(theta, w)\n",
    "    push!(theta, b)\n",
    "    push!(theta, (bnparams(ngf * 2)))\n",
    "    \n",
    "    w, b = deconv_weight_init(4, 4, ngf * 2, ngf;bias = true, return_param = false)\n",
    "    push!(theta, w)\n",
    "    push!(theta, b)\n",
    "    push!(theta, (bnparams(ngf)))\n",
    "    \n",
    "    w,b = deconv_weight_init(4,4,ngf, nc;bias = true, return_param = false)\n",
    "    push!(theta, w)\n",
    "    push!(theta, b)\n",
    "    \n",
    "    phi = map(a->convert(atype,a), phi)\n",
    "    theta = map(a->convert(atype,a), theta)\n",
    "    \n",
    "    return Param.(theta), Param.(phi)\n",
    "end"
   ]
  },
  {
   "cell_type": "code",
   "execution_count": 10,
   "metadata": {},
   "outputs": [
    {
     "data": {
      "text/plain": [
       "encode_decode (generic function with 1 method)"
      ]
     },
     "execution_count": 10,
     "metadata": {},
     "output_type": "execute_result"
    }
   ],
   "source": [
    "# Define moments to be used in batchnormalization\n",
    "moments1 = bnmoments()\n",
    "moments2 = bnmoments()\n",
    "moments3 = bnmoments()\n",
    "moments4 = bnmoments()\n",
    "moments5 = bnmoments()\n",
    "moments6 = bnmoments()\n",
    "\n",
    "# DEFINE ENCODING FUNCTION (MODEL)\n",
    "function encode(phi, x; batch_size = 64, training = true)\n",
    "    \n",
    "    z =  conv4(phi[1], x, mode = 1, stride = 2, padding = 1) .+ phi[2]\n",
    "    z = mybatchnorm(z, moments1, phi[3]; training = training)\n",
    "    z = Knet.elu.(z)\n",
    "    \n",
    "    z = conv4(phi[4], z, mode = 1, stride = 2, padding = 1) .+ phi[5]\n",
    "    z = mybatchnorm(z, moments2, phi[6]; training = training)\n",
    "    z = Knet.elu.(z)\n",
    "    \n",
    "    z =  conv4(phi[7], z, mode = 1, stride = 2, padding = 1) .+ phi[8]\n",
    "    z = mybatchnorm(z, moments3, phi[9]; training = training)\n",
    "    z = Knet.elu.(z)\n",
    "    \n",
    "    z = conv4(phi[10], z, mode = 1) .+ phi[11]\n",
    "    z = Knet.elu.(z)\n",
    "    return z\n",
    "end\n",
    "\n",
    "# DEFINE DECODING FUNCTION (MODEL)\n",
    "function decode(theta, z; batch_size = 64, training = true)\n",
    "    \n",
    "    z = deconv4(theta[1], z, mode = 1) .+ theta[2]\n",
    "    z = mybatchnorm(z, moments4, theta[3]; training = training)\n",
    "    z = Knet.elu.(z)\n",
    "    \n",
    "    z = deconv4(theta[4], z, mode = 1, stride = 2, padding = 1) .+ theta[5]\n",
    "    z = mybatchnorm(z, moments5, theta[6]; training = training)\n",
    "    z = Knet.elu.(z)\n",
    "    \n",
    "    z = deconv4(theta[7], z, mode = 1, stride = 2, padding = 1) .+ theta[8]\n",
    "    z = mybatchnorm(z, moments6, theta[9]; training = training)\n",
    "    z = Knet.elu.(z)\n",
    "    \n",
    "    z = deconv4(theta[10], z, mode = 1, stride = 2, padding = 1) .+ theta[11]\n",
    "    x_hat = Knet.sigm.(z)\n",
    "    return x_hat\n",
    "    \n",
    "end\n",
    "\n",
    "# DEFINE ENCODE_DECODE FUNCTION (NOT REALLY NECESSARY)\n",
    "function encode_decode(theta, phi, x; batch_size = 64, training = true)\n",
    "\n",
    "    z = encode(phi, x; batch_size = 64, training = true)\n",
    "    x_hat = decode(theta, z; batch_size = 64, training = true)\n",
    "    \n",
    "    return x_hat\n",
    "end"
   ]
  },
  {
   "cell_type": "code",
   "execution_count": 11,
   "metadata": {},
   "outputs": [
    {
     "data": {
      "text/plain": [
       "rec_loss (generic function with 2 methods)"
      ]
     },
     "execution_count": 11,
     "metadata": {},
     "output_type": "execute_result"
    }
   ],
   "source": [
    "# DEFINE LOSS FUNCTIONS\n",
    "# inner loss for one batch\n",
    "function inner_loss(theta, phi, x)\n",
    "    z = encode(phi, x; batch_size = size(x,4))\n",
    "    x_hat = decode(theta, z; batch_size = size(x,4))\n",
    "    #x_hat = encode_decode(theta, phi, x)\n",
    "    L = mean(sum((x_hat - x).^2,dims = 3))\n",
    "    return L\n",
    "end\n",
    "\n",
    "# inner loss over the whole data\n",
    "function inner_loss(theta, phi, d::Data)\n",
    "    total_loss = 0\n",
    "    n_instance = 0\n",
    "   for x in d\n",
    "        total_loss += inner_loss(theta, phi, x) * size(x,4)\n",
    "        n_instance += size(x,4)\n",
    "    end\n",
    "    \n",
    "    total_loss /= n_instance\n",
    "end\n",
    "\n",
    "# Reconstruction Loss Definition (Reconstruction Error := Mean Squared Error)\n",
    "# reconstruction error over one batch\n",
    "rec_loss(theta, phi, x) = sum((x - encode_decode(theta, phi, x)).^2) / size(x,4)\n",
    "\n",
    "# reconstruction error on the whole data\n",
    "function rec_loss(theta, phi, d::Data)\n",
    "    total_loss = 0\n",
    "    n_instance = 0\n",
    "   for x in d\n",
    "        total_loss += rec_loss(theta, phi, x) * size(x,4)\n",
    "        n_instance += size(x,4)\n",
    "    end\n",
    "    \n",
    "    total_loss /= n_instance\n",
    "end"
   ]
  },
  {
   "cell_type": "code",
   "execution_count": 12,
   "metadata": {},
   "outputs": [
    {
     "data": {
      "text/plain": [
       "T(0.24880457)"
      ]
     },
     "execution_count": 12,
     "metadata": {},
     "output_type": "execute_result"
    }
   ],
   "source": [
    "nz = 48\n",
    "ngf = 32\n",
    "nc = 1\n",
    "\n",
    "x_test_first = first(dtst)\n",
    "\n",
    "theta, phi = weights(nc, nz,  ngf);\n",
    "\n",
    "derivative_model = @diff inner_loss(theta, phi, x_test_first)"
   ]
  },
  {
   "cell_type": "code",
   "execution_count": 13,
   "metadata": {},
   "outputs": [
    {
     "name": "stdout",
     "output_type": "stream",
     "text": [
      "\u001b[32m[2021-12-08 18:28:11 | info | root]: Epoch : 0\u001b[39m\n",
      "\u001b[32m[2021-12-08 18:28:11 | info | root]: Train Loss : 0.24915786\u001b[39m\n",
      "\u001b[32m[2021-12-08 18:28:11 | info | root]: Test Loss : 0.24955422\u001b[39m\n",
      "\u001b[32m[2021-12-08 18:28:11 | info | root]: Train Reconstruction Loss : 255.14102\u001b[39m\n",
      "\u001b[32m[2021-12-08 18:28:11 | info | root]: Test Reconstruction Loss : 255.54352 \u001b[39m\n",
      "\n"
     ]
    },
    {
     "name": "stderr",
     "output_type": "stream",
     "text": [
      "┣▏                   ┫ [1.00%, 5/500, 01:19/02:11:29, 14.31s/i] "
     ]
    },
    {
     "name": "stdout",
     "output_type": "stream",
     "text": [
      "\u001b[32m[2021-12-08 18:29:45 | info | root]: Epoch : 5\u001b[39m\n",
      "\u001b[32m[2021-12-08 18:29:45 | info | root]: Train Loss : 0.0029081886\u001b[39m\n",
      "\u001b[32m[2021-12-08 18:29:45 | info | root]: Test Loss : 0.0038450747\u001b[39m\n",
      "\u001b[32m[2021-12-08 18:29:45 | info | root]: Train Reconstruction Loss : 2.9727397\u001b[39m\n",
      "\u001b[32m[2021-12-08 18:29:45 | info | root]: Test Reconstruction Loss : 3.9373565 \u001b[39m\n",
      "\n"
     ]
    },
    {
     "name": "stderr",
     "output_type": "stream",
     "text": [
      "┣▍                   ┫ [2.00%, 10/500, 02:30/02:05:00, 14.31s/i] "
     ]
    },
    {
     "name": "stdout",
     "output_type": "stream",
     "text": [
      "\u001b[32m[2021-12-08 18:30:56 | info | root]: Epoch : 10\u001b[39m\n",
      "\u001b[32m[2021-12-08 18:30:56 | info | root]: Train Loss : 0.002161903\u001b[39m\n",
      "\u001b[32m[2021-12-08 18:30:56 | info | root]: Test Loss : 0.003026569\u001b[39m\n",
      "\u001b[32m[2021-12-08 18:30:56 | info | root]: Train Reconstruction Loss : 2.2154293\u001b[39m\n",
      "\u001b[32m[2021-12-08 18:30:56 | info | root]: Test Reconstruction Loss : 3.0992067 \u001b[39m\n",
      "\n"
     ]
    },
    {
     "name": "stderr",
     "output_type": "stream",
     "text": [
      "┣▌                   ┫ [3.00%, 15/500, 03:41/02:03:00, 14.17s/i] "
     ]
    },
    {
     "name": "stdout",
     "output_type": "stream",
     "text": [
      "\u001b[32m[2021-12-08 18:32:08 | info | root]: Epoch : 15\u001b[39m\n",
      "\u001b[32m[2021-12-08 18:32:08 | info | root]: Train Loss : 0.0020016031\u001b[39m\n",
      "\u001b[32m[2021-12-08 18:32:08 | info | root]: Test Loss : 0.0027863933\u001b[39m\n",
      "\u001b[32m[2021-12-08 18:32:08 | info | root]: Train Reconstruction Loss : 2.0440373\u001b[39m\n",
      "\u001b[32m[2021-12-08 18:32:08 | info | root]: Test Reconstruction Loss : 2.8532667 \u001b[39m\n",
      "\n"
     ]
    },
    {
     "name": "stderr",
     "output_type": "stream",
     "text": [
      "┣▊                   ┫ [4.00%, 20/500, 04:53/02:02:11, 14.33s/i] "
     ]
    },
    {
     "name": "stdout",
     "output_type": "stream",
     "text": [
      "\u001b[32m[2021-12-08 18:33:20 | info | root]: Epoch : 20\u001b[39m\n",
      "\u001b[32m[2021-12-08 18:33:20 | info | root]: Train Loss : 0.0016838055\u001b[39m\n",
      "\u001b[32m[2021-12-08 18:33:20 | info | root]: Test Loss : 0.0024718498\u001b[39m\n",
      "\u001b[32m[2021-12-08 18:33:20 | info | root]: Train Reconstruction Loss : 1.7258978\u001b[39m\n",
      "\u001b[32m[2021-12-08 18:33:20 | info | root]: Test Reconstruction Loss : 2.5311742 \u001b[39m\n",
      "\n"
     ]
    },
    {
     "name": "stderr",
     "output_type": "stream",
     "text": [
      "┣█                   ┫ [5.00%, 25/500, 06:05/02:01:45, 14.43s/i] "
     ]
    },
    {
     "name": "stdout",
     "output_type": "stream",
     "text": [
      "\u001b[32m[2021-12-08 18:34:32 | info | root]: Epoch : 25\u001b[39m\n",
      "\u001b[32m[2021-12-08 18:34:32 | info | root]: Train Loss : 0.0016839295\u001b[39m\n",
      "\u001b[32m[2021-12-08 18:34:32 | info | root]: Test Loss : 0.0023869893\u001b[39m\n",
      "\u001b[32m[2021-12-08 18:34:32 | info | root]: Train Reconstruction Loss : 1.721206\u001b[39m\n",
      "\u001b[32m[2021-12-08 18:34:32 | info | root]: Test Reconstruction Loss : 2.444277 \u001b[39m\n",
      "\n"
     ]
    },
    {
     "name": "stderr",
     "output_type": "stream",
     "text": [
      "┣█▏                  ┫ [6.00%, 30/500, 07:18/02:01:35, 14.52s/i] "
     ]
    },
    {
     "name": "stdout",
     "output_type": "stream",
     "text": [
      "\u001b[32m[2021-12-08 18:35:44 | info | root]: Epoch : 30\u001b[39m\n",
      "\u001b[32m[2021-12-08 18:35:44 | info | root]: Train Loss : 0.001613776\u001b[39m\n",
      "\u001b[32m[2021-12-08 18:35:44 | info | root]: Test Loss : 0.0023538761\u001b[39m\n",
      "\u001b[32m[2021-12-08 18:35:44 | info | root]: Train Reconstruction Loss : 1.6539079\u001b[39m\n",
      "\u001b[32m[2021-12-08 18:35:44 | info | root]: Test Reconstruction Loss : 2.4103692 \u001b[39m\n",
      "\n"
     ]
    },
    {
     "name": "stderr",
     "output_type": "stream",
     "text": [
      "┣█▍                  ┫ [7.00%, 35/500, 08:30/02:01:32, 14.50s/i] "
     ]
    },
    {
     "name": "stdout",
     "output_type": "stream",
     "text": [
      "\u001b[32m[2021-12-08 18:36:57 | info | root]: Epoch : 35\u001b[39m\n",
      "\u001b[32m[2021-12-08 18:36:57 | info | root]: Train Loss : 0.0015831334\u001b[39m\n",
      "\u001b[32m[2021-12-08 18:36:57 | info | root]: Test Loss : 0.0023327305\u001b[39m\n",
      "\u001b[32m[2021-12-08 18:36:57 | info | root]: Train Reconstruction Loss : 1.621071\u001b[39m\n",
      "\u001b[32m[2021-12-08 18:36:57 | info | root]: Test Reconstruction Loss : 2.388716 \u001b[39m\n",
      "\n"
     ]
    },
    {
     "name": "stderr",
     "output_type": "stream",
     "text": [
      "┣█▌                  ┫ [8.00%, 40/500, 09:43/02:01:30, 14.68s/i] "
     ]
    },
    {
     "name": "stdout",
     "output_type": "stream",
     "text": [
      "\u001b[32m[2021-12-08 18:38:10 | info | root]: Epoch : 40\u001b[39m\n",
      "\u001b[32m[2021-12-08 18:38:10 | info | root]: Train Loss : 0.0014623854\u001b[39m\n",
      "\u001b[32m[2021-12-08 18:38:10 | info | root]: Test Loss : 0.0020928276\u001b[39m\n",
      "\u001b[32m[2021-12-08 18:38:10 | info | root]: Train Reconstruction Loss : 1.4976039\u001b[39m\n",
      "\u001b[32m[2021-12-08 18:38:10 | info | root]: Test Reconstruction Loss : 2.1430554 \u001b[39m\n",
      "\n"
     ]
    },
    {
     "name": "stderr",
     "output_type": "stream",
     "text": [
      "┣█▊                  ┫ [9.00%, 45/500, 10:56/02:01:32, 14.68s/i] "
     ]
    },
    {
     "name": "stdout",
     "output_type": "stream",
     "text": [
      "\u001b[32m[2021-12-08 18:39:23 | info | root]: Epoch : 45\u001b[39m\n",
      "\u001b[32m[2021-12-08 18:39:23 | info | root]: Train Loss : 0.0014777279\u001b[39m\n",
      "\u001b[32m[2021-12-08 18:39:23 | info | root]: Test Loss : 0.0020830245\u001b[39m\n",
      "\u001b[32m[2021-12-08 18:39:23 | info | root]: Train Reconstruction Loss : 1.5159179\u001b[39m\n",
      "\u001b[32m[2021-12-08 18:39:23 | info | root]: Test Reconstruction Loss : 2.133017 \u001b[39m\n",
      "\n"
     ]
    },
    {
     "name": "stderr",
     "output_type": "stream",
     "text": [
      "┣██                  ┫ [10.00%, 50/500, 12:10/02:01:36, 14.77s/i] "
     ]
    },
    {
     "name": "stdout",
     "output_type": "stream",
     "text": [
      "\u001b[32m[2021-12-08 18:40:36 | info | root]: Epoch : 50\u001b[39m\n",
      "\u001b[32m[2021-12-08 18:40:36 | info | root]: Train Loss : 0.001422403\u001b[39m\n",
      "\u001b[32m[2021-12-08 18:40:36 | info | root]: Test Loss : 0.0020456063\u001b[39m\n",
      "\u001b[32m[2021-12-08 18:40:36 | info | root]: Train Reconstruction Loss : 1.4555565\u001b[39m\n",
      "\u001b[32m[2021-12-08 18:40:36 | info | root]: Test Reconstruction Loss : 2.0947008 \u001b[39m\n",
      "\n"
     ]
    },
    {
     "name": "stderr",
     "output_type": "stream",
     "text": [
      "┣██▏                 ┫ [11.00%, 55/500, 13:31/02:02:53, 14.50s/i] "
     ]
    },
    {
     "name": "stdout",
     "output_type": "stream",
     "text": [
      "\u001b[32m[2021-12-08 18:41:58 | info | root]: Epoch : 55\u001b[39m\n",
      "\u001b[32m[2021-12-08 18:41:58 | info | root]: Train Loss : 0.0013398791\u001b[39m\n",
      "\u001b[32m[2021-12-08 18:41:58 | info | root]: Test Loss : 0.0019172678\u001b[39m\n",
      "\u001b[32m[2021-12-08 18:41:58 | info | root]: Train Reconstruction Loss : 1.3687322\u001b[39m\n",
      "\u001b[32m[2021-12-08 18:41:58 | info | root]: Test Reconstruction Loss : 1.9632822 \u001b[39m\n",
      "\n"
     ]
    },
    {
     "name": "stderr",
     "output_type": "stream",
     "text": [
      "┣██▍                 ┫ [12.00%, 60/500, 14:45/02:02:53, 14.81s/i] "
     ]
    },
    {
     "name": "stdout",
     "output_type": "stream",
     "text": [
      "\u001b[32m[2021-12-08 18:43:12 | info | root]: Epoch : 60\u001b[39m\n",
      "\u001b[32m[2021-12-08 18:43:12 | info | root]: Train Loss : 0.0013124838\u001b[39m\n",
      "\u001b[32m[2021-12-08 18:43:12 | info | root]: Test Loss : 0.001821678\u001b[39m\n",
      "\u001b[32m[2021-12-08 18:43:12 | info | root]: Train Reconstruction Loss : 1.3451685\u001b[39m\n",
      "\u001b[32m[2021-12-08 18:43:12 | info | root]: Test Reconstruction Loss : 1.8653983 \u001b[39m\n",
      "\n"
     ]
    },
    {
     "name": "stderr",
     "output_type": "stream",
     "text": [
      "┣██▌                 ┫ [13.00%, 65/500, 15:59/02:02:54, 14.73s/i] "
     ]
    },
    {
     "name": "stdout",
     "output_type": "stream",
     "text": [
      "\u001b[32m[2021-12-08 18:44:25 | info | root]: Epoch : 65\u001b[39m\n",
      "\u001b[32m[2021-12-08 18:44:25 | info | root]: Train Loss : 0.0012578539\u001b[39m\n",
      "\u001b[32m[2021-12-08 18:44:25 | info | root]: Test Loss : 0.0017784375\u001b[39m\n",
      "\u001b[32m[2021-12-08 18:44:25 | info | root]: Train Reconstruction Loss : 1.2879957\u001b[39m\n",
      "\u001b[32m[2021-12-08 18:44:25 | info | root]: Test Reconstruction Loss : 1.82112 \u001b[39m\n",
      "\n"
     ]
    },
    {
     "name": "stderr",
     "output_type": "stream",
     "text": [
      "┣██▊                 ┫ [14.00%, 70/500, 17:13/02:02:56, 14.93s/i] "
     ]
    },
    {
     "name": "stdout",
     "output_type": "stream",
     "text": [
      "\u001b[32m[2021-12-08 18:45:40 | info | root]: Epoch : 70\u001b[39m\n",
      "\u001b[32m[2021-12-08 18:45:40 | info | root]: Train Loss : 0.0012182748\u001b[39m\n",
      "\u001b[32m[2021-12-08 18:45:40 | info | root]: Test Loss : 0.0017089385\u001b[39m\n",
      "\u001b[32m[2021-12-08 18:45:40 | info | root]: Train Reconstruction Loss : 1.2452946\u001b[39m\n",
      "\u001b[32m[2021-12-08 18:45:40 | info | root]: Test Reconstruction Loss : 1.749953 \u001b[39m\n",
      "\n"
     ]
    },
    {
     "name": "stderr",
     "output_type": "stream",
     "text": [
      "┣███                 ┫ [15.00%, 75/500, 18:27/02:02:59, 14.86s/i] "
     ]
    },
    {
     "name": "stdout",
     "output_type": "stream",
     "text": [
      "\u001b[32m[2021-12-08 18:46:54 | info | root]: Epoch : 75\u001b[39m\n",
      "\u001b[32m[2021-12-08 18:46:54 | info | root]: Train Loss : 0.0012429683\u001b[39m\n",
      "\u001b[32m[2021-12-08 18:46:54 | info | root]: Test Loss : 0.001685065\u001b[39m\n",
      "\u001b[32m[2021-12-08 18:46:54 | info | root]: Train Reconstruction Loss : 1.2724985\u001b[39m\n",
      "\u001b[32m[2021-12-08 18:46:54 | info | root]: Test Reconstruction Loss : 1.7255065 \u001b[39m\n",
      "\n"
     ]
    },
    {
     "name": "stderr",
     "output_type": "stream",
     "text": [
      "┣███▏                ┫ [16.00%, 80/500, 19:42/02:03:09, 14.83s/i] "
     ]
    },
    {
     "name": "stdout",
     "output_type": "stream",
     "text": [
      "\u001b[32m[2021-12-08 18:48:09 | info | root]: Epoch : 80\u001b[39m\n",
      "\u001b[32m[2021-12-08 18:48:09 | info | root]: Train Loss : 0.001249443\u001b[39m\n",
      "\u001b[32m[2021-12-08 18:48:09 | info | root]: Test Loss : 0.0016702431\u001b[39m\n",
      "\u001b[32m[2021-12-08 18:48:09 | info | root]: Train Reconstruction Loss : 1.2815624\u001b[39m\n",
      "\u001b[32m[2021-12-08 18:48:09 | info | root]: Test Reconstruction Loss : 1.7103289 \u001b[39m\n",
      "\n"
     ]
    },
    {
     "name": "stderr",
     "output_type": "stream",
     "text": [
      "┣███▍                ┫ [17.00%, 85/500, 20:57/02:03:12, 14.99s/i] "
     ]
    },
    {
     "name": "stdout",
     "output_type": "stream",
     "text": [
      "\u001b[32m[2021-12-08 18:49:24 | info | root]: Epoch : 85\u001b[39m\n",
      "\u001b[32m[2021-12-08 18:49:24 | info | root]: Train Loss : 0.0011901992\u001b[39m\n",
      "\u001b[32m[2021-12-08 18:49:24 | info | root]: Test Loss : 0.001625346\u001b[39m\n",
      "\u001b[32m[2021-12-08 18:49:24 | info | root]: Train Reconstruction Loss : 1.218835\u001b[39m\n",
      "\u001b[32m[2021-12-08 18:49:24 | info | root]: Test Reconstruction Loss : 1.6643546 \u001b[39m\n",
      "\n"
     ]
    },
    {
     "name": "stderr",
     "output_type": "stream",
     "text": [
      "┣███▌                ┫ [18.00%, 90/500, 22:11/02:03:17, 14.98s/i] "
     ]
    },
    {
     "name": "stdout",
     "output_type": "stream",
     "text": [
      "\u001b[32m[2021-12-08 18:50:39 | info | root]: Epoch : 90\u001b[39m\n",
      "\u001b[32m[2021-12-08 18:50:39 | info | root]: Train Loss : 0.001173964\u001b[39m\n",
      "\u001b[32m[2021-12-08 18:50:39 | info | root]: Test Loss : 0.0015790942\u001b[39m\n",
      "\u001b[32m[2021-12-08 18:50:39 | info | root]: Train Reconstruction Loss : 1.2009723\u001b[39m\n",
      "\u001b[32m[2021-12-08 18:50:39 | info | root]: Test Reconstruction Loss : 1.6169925 \u001b[39m\n",
      "\n"
     ]
    },
    {
     "name": "stderr",
     "output_type": "stream",
     "text": [
      "┣███▊                ┫ [19.00%, 95/500, 23:27/02:03:27, 15.01s/i] "
     ]
    },
    {
     "name": "stdout",
     "output_type": "stream",
     "text": [
      "\u001b[32m[2021-12-08 18:51:54 | info | root]: Epoch : 95\u001b[39m\n",
      "\u001b[32m[2021-12-08 18:51:54 | info | root]: Train Loss : 0.0011903514\u001b[39m\n",
      "\u001b[32m[2021-12-08 18:51:54 | info | root]: Test Loss : 0.0015768226\u001b[39m\n",
      "\u001b[32m[2021-12-08 18:51:54 | info | root]: Train Reconstruction Loss : 1.2216482\u001b[39m\n",
      "\u001b[32m[2021-12-08 18:51:54 | info | root]: Test Reconstruction Loss : 1.6146662 \u001b[39m\n",
      "\n"
     ]
    },
    {
     "name": "stderr",
     "output_type": "stream",
     "text": [
      "┣████                ┫ [20.00%, 100/500, 24:42/02:03:31, 14.88s/i] "
     ]
    },
    {
     "name": "stdout",
     "output_type": "stream",
     "text": [
      "\u001b[32m[2021-12-08 18:53:09 | info | root]: Epoch : 100\u001b[39m\n",
      "\u001b[32m[2021-12-08 18:53:09 | info | root]: Train Loss : 0.0011370697\u001b[39m\n",
      "\u001b[32m[2021-12-08 18:53:09 | info | root]: Test Loss : 0.0014972644\u001b[39m\n",
      "\u001b[32m[2021-12-08 18:53:09 | info | root]: Train Reconstruction Loss : 1.1623553\u001b[39m\n",
      "\u001b[32m[2021-12-08 18:53:09 | info | root]: Test Reconstruction Loss : 1.5331987 \u001b[39m\n",
      "\n"
     ]
    },
    {
     "name": "stderr",
     "output_type": "stream",
     "text": [
      "┣████▏               ┫ [21.00%, 105/500, 26:00/02:03:50, 15.11s/i] "
     ]
    },
    {
     "name": "stdout",
     "output_type": "stream",
     "text": [
      "\u001b[32m[2021-12-08 18:54:27 | info | root]: Epoch : 105\u001b[39m\n",
      "\u001b[32m[2021-12-08 18:54:27 | info | root]: Train Loss : 0.0011113374\u001b[39m\n",
      "\u001b[32m[2021-12-08 18:54:27 | info | root]: Test Loss : 0.0014759373\u001b[39m\n",
      "\u001b[32m[2021-12-08 18:54:27 | info | root]: Train Reconstruction Loss : 1.1370963\u001b[39m\n",
      "\u001b[32m[2021-12-08 18:54:27 | info | root]: Test Reconstruction Loss : 1.5113598 \u001b[39m\n",
      "\n"
     ]
    },
    {
     "name": "stderr",
     "output_type": "stream",
     "text": [
      "┣████▍               ┫ [22.00%, 110/500, 27:16/02:03:55, 15.14s/i] "
     ]
    },
    {
     "name": "stdout",
     "output_type": "stream",
     "text": [
      "\u001b[32m[2021-12-08 18:55:43 | info | root]: Epoch : 110\u001b[39m\n",
      "\u001b[32m[2021-12-08 18:55:43 | info | root]: Train Loss : 0.0011245072\u001b[39m\n",
      "\u001b[32m[2021-12-08 18:55:43 | info | root]: Test Loss : 0.0014500835\u001b[39m\n",
      "\u001b[32m[2021-12-08 18:55:43 | info | root]: Train Reconstruction Loss : 1.1518769\u001b[39m\n",
      "\u001b[32m[2021-12-08 18:55:43 | info | root]: Test Reconstruction Loss : 1.4848853 \u001b[39m\n",
      "\n"
     ]
    },
    {
     "name": "stderr",
     "output_type": "stream",
     "text": [
      "┣████▌               ┫ [23.00%, 115/500, 28:31/02:04:00, 15.25s/i] "
     ]
    },
    {
     "name": "stdout",
     "output_type": "stream",
     "text": [
      "\u001b[32m[2021-12-08 18:56:58 | info | root]: Epoch : 115\u001b[39m\n",
      "\u001b[32m[2021-12-08 18:56:58 | info | root]: Train Loss : 0.00107387\u001b[39m\n",
      "\u001b[32m[2021-12-08 18:56:58 | info | root]: Test Loss : 0.0014112357\u001b[39m\n",
      "\u001b[32m[2021-12-08 18:56:58 | info | root]: Train Reconstruction Loss : 1.0986645\u001b[39m\n",
      "\u001b[32m[2021-12-08 18:56:58 | info | root]: Test Reconstruction Loss : 1.4451053 \u001b[39m\n",
      "\n"
     ]
    },
    {
     "name": "stderr",
     "output_type": "stream",
     "text": [
      "┣████▊               ┫ [24.00%, 120/500, 29:47/02:04:04, 15.11s/i] "
     ]
    },
    {
     "name": "stdout",
     "output_type": "stream",
     "text": [
      "\u001b[32m[2021-12-08 18:58:14 | info | root]: Epoch : 120\u001b[39m\n",
      "\u001b[32m[2021-12-08 18:58:14 | info | root]: Train Loss : 0.0010673385\u001b[39m\n",
      "\u001b[32m[2021-12-08 18:58:14 | info | root]: Test Loss : 0.0014057789\u001b[39m\n",
      "\u001b[32m[2021-12-08 18:58:14 | info | root]: Train Reconstruction Loss : 1.0920978\u001b[39m\n",
      "\u001b[32m[2021-12-08 18:58:14 | info | root]: Test Reconstruction Loss : 1.4395176 \u001b[39m\n",
      "\n"
     ]
    },
    {
     "name": "stderr",
     "output_type": "stream",
     "text": [
      "┣█████               ┫ [25.00%, 125/500, 31:03/02:04:14, 15.13s/i] "
     ]
    },
    {
     "name": "stdout",
     "output_type": "stream",
     "text": [
      "\u001b[32m[2021-12-08 18:59:31 | info | root]: Epoch : 125\u001b[39m\n",
      "\u001b[32m[2021-12-08 18:59:31 | info | root]: Train Loss : 0.0010317803\u001b[39m\n",
      "\u001b[32m[2021-12-08 18:59:31 | info | root]: Test Loss : 0.0013454219\u001b[39m\n",
      "\u001b[32m[2021-12-08 18:59:31 | info | root]: Train Reconstruction Loss : 1.0567942\u001b[39m\n",
      "\u001b[32m[2021-12-08 18:59:31 | info | root]: Test Reconstruction Loss : 1.377712 \u001b[39m\n",
      "\n"
     ]
    },
    {
     "name": "stderr",
     "output_type": "stream",
     "text": [
      "┣█████▏              ┫ [26.00%, 130/500, 32:19/02:04:20, 15.20s/i] "
     ]
    },
    {
     "name": "stdout",
     "output_type": "stream",
     "text": [
      "\u001b[32m[2021-12-08 19:00:47 | info | root]: Epoch : 130\u001b[39m\n",
      "\u001b[32m[2021-12-08 19:00:47 | info | root]: Train Loss : 0.0010774194\u001b[39m\n",
      "\u001b[32m[2021-12-08 19:00:47 | info | root]: Test Loss : 0.0013661494\u001b[39m\n",
      "\u001b[32m[2021-12-08 19:00:47 | info | root]: Train Reconstruction Loss : 1.1053032\u001b[39m\n",
      "\u001b[32m[2021-12-08 19:00:47 | info | root]: Test Reconstruction Loss : 1.3989369 \u001b[39m\n",
      "\n"
     ]
    },
    {
     "name": "stderr",
     "output_type": "stream",
     "text": [
      "┣█████▍              ┫ [27.00%, 135/500, 33:36/02:04:25, 15.25s/i] "
     ]
    },
    {
     "name": "stdout",
     "output_type": "stream",
     "text": [
      "\u001b[32m[2021-12-08 19:02:03 | info | root]: Epoch : 135\u001b[39m\n",
      "\u001b[32m[2021-12-08 19:02:03 | info | root]: Train Loss : 0.0010348484\u001b[39m\n",
      "\u001b[32m[2021-12-08 19:02:03 | info | root]: Test Loss : 0.0013232161\u001b[39m\n",
      "\u001b[32m[2021-12-08 19:02:03 | info | root]: Train Reconstruction Loss : 1.0609872\u001b[39m\n",
      "\u001b[32m[2021-12-08 19:02:03 | info | root]: Test Reconstruction Loss : 1.3549733 \u001b[39m\n",
      "\n"
     ]
    },
    {
     "name": "stderr",
     "output_type": "stream",
     "text": [
      "┣█████▌              ┫ [28.00%, 140/500, 34:52/02:04:31, 15.30s/i] "
     ]
    },
    {
     "name": "stdout",
     "output_type": "stream",
     "text": [
      "\u001b[32m[2021-12-08 19:03:19 | info | root]: Epoch : 140\u001b[39m\n",
      "\u001b[32m[2021-12-08 19:03:19 | info | root]: Train Loss : 0.0010142497\u001b[39m\n",
      "\u001b[32m[2021-12-08 19:03:19 | info | root]: Test Loss : 0.0013096611\u001b[39m\n",
      "\u001b[32m[2021-12-08 19:03:19 | info | root]: Train Reconstruction Loss : 1.0396081\u001b[39m\n",
      "\u001b[32m[2021-12-08 19:03:19 | info | root]: Test Reconstruction Loss : 1.341093 \u001b[39m\n",
      "\n"
     ]
    },
    {
     "name": "stderr",
     "output_type": "stream",
     "text": [
      "┣█████▊              ┫ [29.00%, 145/500, 36:08/02:04:35, 15.16s/i] "
     ]
    },
    {
     "name": "stdout",
     "output_type": "stream",
     "text": [
      "\u001b[32m[2021-12-08 19:04:35 | info | root]: Epoch : 145\u001b[39m\n",
      "\u001b[32m[2021-12-08 19:04:35 | info | root]: Train Loss : 0.0010184267\u001b[39m\n",
      "\u001b[32m[2021-12-08 19:04:35 | info | root]: Test Loss : 0.0013092535\u001b[39m\n",
      "\u001b[32m[2021-12-08 19:04:35 | info | root]: Train Reconstruction Loss : 1.0430725\u001b[39m\n",
      "\u001b[32m[2021-12-08 19:04:35 | info | root]: Test Reconstruction Loss : 1.3406755 \u001b[39m\n",
      "\n"
     ]
    },
    {
     "name": "stderr",
     "output_type": "stream",
     "text": [
      "┣██████              ┫ [30.00%, 150/500, 37:24/02:04:40, 15.11s/i] "
     ]
    },
    {
     "name": "stdout",
     "output_type": "stream",
     "text": [
      "\u001b[32m[2021-12-08 19:05:51 | info | root]: Epoch : 150\u001b[39m\n",
      "\u001b[32m[2021-12-08 19:05:51 | info | root]: Train Loss : 0.0010207373\u001b[39m\n",
      "\u001b[32m[2021-12-08 19:05:51 | info | root]: Test Loss : 0.0013124369\u001b[39m\n",
      "\u001b[32m[2021-12-08 19:05:51 | info | root]: Train Reconstruction Loss : 1.0468723\u001b[39m\n",
      "\u001b[32m[2021-12-08 19:05:51 | info | root]: Test Reconstruction Loss : 1.3439354 \u001b[39m\n",
      "\n"
     ]
    },
    {
     "name": "stderr",
     "output_type": "stream",
     "text": [
      "┣██████▏             ┫ [31.00%, 155/500, 38:43/02:04:53, 15.17s/i] "
     ]
    },
    {
     "name": "stdout",
     "output_type": "stream",
     "text": [
      "\u001b[32m[2021-12-08 19:07:10 | info | root]: Epoch : 155\u001b[39m\n",
      "\u001b[32m[2021-12-08 19:07:10 | info | root]: Train Loss : 0.0010167602\u001b[39m\n",
      "\u001b[32m[2021-12-08 19:07:10 | info | root]: Test Loss : 0.0013140584\u001b[39m\n",
      "\u001b[32m[2021-12-08 19:07:10 | info | root]: Train Reconstruction Loss : 1.0416092\u001b[39m\n",
      "\u001b[32m[2021-12-08 19:07:10 | info | root]: Test Reconstruction Loss : 1.3455958 \u001b[39m\n",
      "\n"
     ]
    },
    {
     "name": "stderr",
     "output_type": "stream",
     "text": [
      "┣██████▍             ┫ [32.00%, 160/500, 39:59/02:04:58, 15.22s/i] "
     ]
    },
    {
     "name": "stdout",
     "output_type": "stream",
     "text": [
      "\u001b[32m[2021-12-08 19:08:26 | info | root]: Epoch : 160\u001b[39m\n",
      "\u001b[32m[2021-12-08 19:08:26 | info | root]: Train Loss : 0.0009787045\u001b[39m\n",
      "\u001b[32m[2021-12-08 19:08:26 | info | root]: Test Loss : 0.0012537137\u001b[39m\n",
      "\u001b[32m[2021-12-08 19:08:26 | info | root]: Train Reconstruction Loss : 1.0015246\u001b[39m\n",
      "\u001b[32m[2021-12-08 19:08:26 | info | root]: Test Reconstruction Loss : 1.2838029 \u001b[39m\n",
      "\n"
     ]
    },
    {
     "name": "stderr",
     "output_type": "stream",
     "text": [
      "┣██████▌             ┫ [33.00%, 165/500, 41:16/02:05:02, 15.42s/i] "
     ]
    },
    {
     "name": "stdout",
     "output_type": "stream",
     "text": [
      "\u001b[32m[2021-12-08 19:09:43 | info | root]: Epoch : 165\u001b[39m\n",
      "\u001b[32m[2021-12-08 19:09:43 | info | root]: Train Loss : 0.0010036294\u001b[39m\n",
      "\u001b[32m[2021-12-08 19:09:43 | info | root]: Test Loss : 0.0012824454\u001b[39m\n",
      "\u001b[32m[2021-12-08 19:09:43 | info | root]: Train Reconstruction Loss : 1.027095\u001b[39m\n",
      "\u001b[32m[2021-12-08 19:09:43 | info | root]: Test Reconstruction Loss : 1.3132242 \u001b[39m\n",
      "\n"
     ]
    },
    {
     "name": "stderr",
     "output_type": "stream",
     "text": [
      "┣██████▊             ┫ [34.00%, 170/500, 42:32/02:05:06, 15.47s/i] "
     ]
    },
    {
     "name": "stdout",
     "output_type": "stream",
     "text": [
      "\u001b[32m[2021-12-08 19:11:00 | info | root]: Epoch : 170\u001b[39m\n",
      "\u001b[32m[2021-12-08 19:11:00 | info | root]: Train Loss : 0.00097073516\u001b[39m\n",
      "\u001b[32m[2021-12-08 19:11:00 | info | root]: Test Loss : 0.001237057\u001b[39m\n",
      "\u001b[32m[2021-12-08 19:11:00 | info | root]: Train Reconstruction Loss : 0.9945534\u001b[39m\n",
      "\u001b[32m[2021-12-08 19:11:00 | info | root]: Test Reconstruction Loss : 1.2667465 \u001b[39m\n",
      "\n"
     ]
    },
    {
     "name": "stderr",
     "output_type": "stream",
     "text": [
      "┣███████             ┫ [35.00%, 175/500, 43:49/02:05:11, 15.41s/i] "
     ]
    },
    {
     "name": "stdout",
     "output_type": "stream",
     "text": [
      "\u001b[32m[2021-12-08 19:12:16 | info | root]: Epoch : 175\u001b[39m\n",
      "\u001b[32m[2021-12-08 19:12:16 | info | root]: Train Loss : 0.0009963214\u001b[39m\n",
      "\u001b[32m[2021-12-08 19:12:16 | info | root]: Test Loss : 0.0012728125\u001b[39m\n",
      "\u001b[32m[2021-12-08 19:12:16 | info | root]: Train Reconstruction Loss : 1.0193157\u001b[39m\n",
      "\u001b[32m[2021-12-08 19:12:16 | info | root]: Test Reconstruction Loss : 1.30336 \u001b[39m\n",
      "\n"
     ]
    },
    {
     "name": "stderr",
     "output_type": "stream",
     "text": [
      "┣███████▏            ┫ [36.00%, 180/500, 45:07/02:05:19, 15.19s/i] "
     ]
    },
    {
     "name": "stdout",
     "output_type": "stream",
     "text": [
      "\u001b[32m[2021-12-08 19:13:34 | info | root]: Epoch : 180\u001b[39m\n",
      "\u001b[32m[2021-12-08 19:13:34 | info | root]: Train Loss : 0.0009601505\u001b[39m\n",
      "\u001b[32m[2021-12-08 19:13:34 | info | root]: Test Loss : 0.0012219506\u001b[39m\n",
      "\u001b[32m[2021-12-08 19:13:34 | info | root]: Train Reconstruction Loss : 0.9823491\u001b[39m\n",
      "\u001b[32m[2021-12-08 19:13:34 | info | root]: Test Reconstruction Loss : 1.2512774 \u001b[39m\n",
      "\n"
     ]
    },
    {
     "name": "stderr",
     "output_type": "stream",
     "text": [
      "┣███████▍            ┫ [37.00%, 185/500, 46:24/02:05:24, 15.37s/i] "
     ]
    },
    {
     "name": "stdout",
     "output_type": "stream",
     "text": [
      "\u001b[32m[2021-12-08 19:14:52 | info | root]: Epoch : 185\u001b[39m\n",
      "\u001b[32m[2021-12-08 19:14:52 | info | root]: Train Loss : 0.0009892477\u001b[39m\n",
      "\u001b[32m[2021-12-08 19:14:52 | info | root]: Test Loss : 0.001248156\u001b[39m\n",
      "\u001b[32m[2021-12-08 19:14:52 | info | root]: Train Reconstruction Loss : 1.01274\u001b[39m\n",
      "\u001b[32m[2021-12-08 19:14:52 | info | root]: Test Reconstruction Loss : 1.2781117 \u001b[39m\n",
      "\n"
     ]
    },
    {
     "name": "stderr",
     "output_type": "stream",
     "text": [
      "┣███████▌            ┫ [38.00%, 190/500, 47:41/02:05:29, 15.38s/i] "
     ]
    },
    {
     "name": "stdout",
     "output_type": "stream",
     "text": [
      "\u001b[32m[2021-12-08 19:16:09 | info | root]: Epoch : 190\u001b[39m\n",
      "\u001b[32m[2021-12-08 19:16:09 | info | root]: Train Loss : 0.00096583384\u001b[39m\n",
      "\u001b[32m[2021-12-08 19:16:09 | info | root]: Test Loss : 0.0012226807\u001b[39m\n",
      "\u001b[32m[2021-12-08 19:16:09 | info | root]: Train Reconstruction Loss : 0.99065816\u001b[39m\n",
      "\u001b[32m[2021-12-08 19:16:09 | info | root]: Test Reconstruction Loss : 1.2520251 \u001b[39m\n",
      "\n"
     ]
    },
    {
     "name": "stderr",
     "output_type": "stream",
     "text": [
      "┣███████▊            ┫ [39.00%, 195/500, 48:58/02:05:35, 15.52s/i] "
     ]
    },
    {
     "name": "stdout",
     "output_type": "stream",
     "text": [
      "\u001b[32m[2021-12-08 19:17:26 | info | root]: Epoch : 195\u001b[39m\n",
      "\u001b[32m[2021-12-08 19:17:26 | info | root]: Train Loss : 0.00095270056\u001b[39m\n",
      "\u001b[32m[2021-12-08 19:17:26 | info | root]: Test Loss : 0.0012101475\u001b[39m\n",
      "\u001b[32m[2021-12-08 19:17:26 | info | root]: Train Reconstruction Loss : 0.9749498\u001b[39m\n",
      "\u001b[32m[2021-12-08 19:17:26 | info | root]: Test Reconstruction Loss : 1.239191 \u001b[39m\n",
      "\n"
     ]
    },
    {
     "name": "stderr",
     "output_type": "stream",
     "text": [
      "┣████████            ┫ [40.00%, 200/500, 50:16/02:05:40, 15.71s/i] "
     ]
    },
    {
     "name": "stdout",
     "output_type": "stream",
     "text": [
      "\u001b[32m[2021-12-08 19:18:44 | info | root]: Epoch : 200\u001b[39m\n",
      "\u001b[32m[2021-12-08 19:18:44 | info | root]: Train Loss : 0.0009595012\u001b[39m\n",
      "\u001b[32m[2021-12-08 19:18:44 | info | root]: Test Loss : 0.0012071576\u001b[39m\n",
      "\u001b[32m[2021-12-08 19:18:44 | info | root]: Train Reconstruction Loss : 0.98195034\u001b[39m\n",
      "\u001b[32m[2021-12-08 19:18:44 | info | root]: Test Reconstruction Loss : 1.2361294 \u001b[39m\n",
      "\n"
     ]
    },
    {
     "name": "stderr",
     "output_type": "stream",
     "text": [
      "┣████████▏           ┫ [41.00%, 205/500, 51:44/02:06:11, 15.56s/i] "
     ]
    },
    {
     "name": "stdout",
     "output_type": "stream",
     "text": [
      "\u001b[32m[2021-12-08 19:20:12 | info | root]: Epoch : 205\u001b[39m\n",
      "\u001b[32m[2021-12-08 19:20:12 | info | root]: Train Loss : 0.00093522493\u001b[39m\n",
      "\u001b[32m[2021-12-08 19:20:12 | info | root]: Test Loss : 0.0011921426\u001b[39m\n",
      "\u001b[32m[2021-12-08 19:20:12 | info | root]: Train Reconstruction Loss : 0.95886844\u001b[39m\n",
      "\u001b[32m[2021-12-08 19:20:12 | info | root]: Test Reconstruction Loss : 1.220754 \u001b[39m\n",
      "\n"
     ]
    },
    {
     "name": "stderr",
     "output_type": "stream",
     "text": [
      "┣████████▍           ┫ [42.00%, 210/500, 53:02/02:06:16, 15.58s/i] "
     ]
    },
    {
     "name": "stdout",
     "output_type": "stream",
     "text": [
      "\u001b[32m[2021-12-08 19:21:29 | info | root]: Epoch : 210\u001b[39m\n",
      "\u001b[32m[2021-12-08 19:21:29 | info | root]: Train Loss : 0.0009361076\u001b[39m\n",
      "\u001b[32m[2021-12-08 19:21:29 | info | root]: Test Loss : 0.0011774393\u001b[39m\n",
      "\u001b[32m[2021-12-08 19:21:29 | info | root]: Train Reconstruction Loss : 0.95854634\u001b[39m\n",
      "\u001b[32m[2021-12-08 19:21:29 | info | root]: Test Reconstruction Loss : 1.205698 \u001b[39m\n",
      "\n"
     ]
    },
    {
     "name": "stderr",
     "output_type": "stream",
     "text": [
      "┣████████▌           ┫ [43.00%, 215/500, 54:20/02:06:21, 15.62s/i] "
     ]
    },
    {
     "name": "stdout",
     "output_type": "stream",
     "text": [
      "\u001b[32m[2021-12-08 19:22:48 | info | root]: Epoch : 215\u001b[39m\n",
      "\u001b[32m[2021-12-08 19:22:48 | info | root]: Train Loss : 0.0009343581\u001b[39m\n",
      "\u001b[32m[2021-12-08 19:22:48 | info | root]: Test Loss : 0.0011804753\u001b[39m\n",
      "\u001b[32m[2021-12-08 19:22:48 | info | root]: Train Reconstruction Loss : 0.9566947\u001b[39m\n",
      "\u001b[32m[2021-12-08 19:22:48 | info | root]: Test Reconstruction Loss : 1.2088068 \u001b[39m\n",
      "\n"
     ]
    },
    {
     "name": "stderr",
     "output_type": "stream",
     "text": [
      "┣████████▊           ┫ [44.00%, 220/500, 55:38/02:06:25, 15.54s/i] "
     ]
    },
    {
     "name": "stdout",
     "output_type": "stream",
     "text": [
      "\u001b[32m[2021-12-08 19:24:05 | info | root]: Epoch : 220\u001b[39m\n",
      "\u001b[32m[2021-12-08 19:24:05 | info | root]: Train Loss : 0.00092584075\u001b[39m\n",
      "\u001b[32m[2021-12-08 19:24:05 | info | root]: Test Loss : 0.0011792876\u001b[39m\n",
      "\u001b[32m[2021-12-08 19:24:05 | info | root]: Train Reconstruction Loss : 0.948408\u001b[39m\n",
      "\u001b[32m[2021-12-08 19:24:05 | info | root]: Test Reconstruction Loss : 1.2075905 \u001b[39m\n",
      "\n"
     ]
    },
    {
     "name": "stderr",
     "output_type": "stream",
     "text": [
      "┣█████████           ┫ [45.00%, 225/500, 56:55/02:06:29, 15.39s/i] "
     ]
    },
    {
     "name": "stdout",
     "output_type": "stream",
     "text": [
      "\u001b[32m[2021-12-08 19:25:23 | info | root]: Epoch : 225\u001b[39m\n",
      "\u001b[32m[2021-12-08 19:25:23 | info | root]: Train Loss : 0.0009283347\u001b[39m\n",
      "\u001b[32m[2021-12-08 19:25:23 | info | root]: Test Loss : 0.0011575319\u001b[39m\n",
      "\u001b[32m[2021-12-08 19:25:23 | info | root]: Train Reconstruction Loss : 0.9510552\u001b[39m\n",
      "\u001b[32m[2021-12-08 19:25:23 | info | root]: Test Reconstruction Loss : 1.1853126 \u001b[39m\n",
      "\n"
     ]
    },
    {
     "name": "stderr",
     "output_type": "stream",
     "text": [
      "┣█████████▏          ┫ [46.00%, 230/500, 58:13/02:06:34, 15.66s/i] "
     ]
    },
    {
     "name": "stdout",
     "output_type": "stream",
     "text": [
      "\u001b[32m[2021-12-08 19:26:41 | info | root]: Epoch : 230\u001b[39m\n",
      "\u001b[32m[2021-12-08 19:26:41 | info | root]: Train Loss : 0.00091455056\u001b[39m\n",
      "\u001b[32m[2021-12-08 19:26:41 | info | root]: Test Loss : 0.0011531644\u001b[39m\n",
      "\u001b[32m[2021-12-08 19:26:41 | info | root]: Train Reconstruction Loss : 0.9372049\u001b[39m\n",
      "\u001b[32m[2021-12-08 19:26:41 | info | root]: Test Reconstruction Loss : 1.1808404 \u001b[39m\n",
      "\n"
     ]
    },
    {
     "name": "stderr",
     "output_type": "stream",
     "text": [
      "┣█████████▍          ┫ [47.00%, 235/500, 59:31/02:06:38, 15.66s/i] "
     ]
    },
    {
     "name": "stdout",
     "output_type": "stream",
     "text": [
      "\u001b[32m[2021-12-08 19:27:59 | info | root]: Epoch : 235\u001b[39m\n",
      "\u001b[32m[2021-12-08 19:27:59 | info | root]: Train Loss : 0.0009100823\u001b[39m\n",
      "\u001b[32m[2021-12-08 19:27:59 | info | root]: Test Loss : 0.001140756\u001b[39m\n",
      "\u001b[32m[2021-12-08 19:27:59 | info | root]: Train Reconstruction Loss : 0.9326207\u001b[39m\n",
      "\u001b[32m[2021-12-08 19:27:59 | info | root]: Test Reconstruction Loss : 1.1681341 \u001b[39m\n",
      "\n"
     ]
    },
    {
     "name": "stderr",
     "output_type": "stream",
     "text": [
      "┣█████████▌          ┫ [48.00%, 240/500, 01:00:49/02:06:43, 15.85s/i] "
     ]
    },
    {
     "name": "stdout",
     "output_type": "stream",
     "text": [
      "\u001b[32m[2021-12-08 19:29:17 | info | root]: Epoch : 240\u001b[39m\n",
      "\u001b[32m[2021-12-08 19:29:17 | info | root]: Train Loss : 0.00090662297\u001b[39m\n",
      "\u001b[32m[2021-12-08 19:29:17 | info | root]: Test Loss : 0.0011340604\u001b[39m\n",
      "\u001b[32m[2021-12-08 19:29:17 | info | root]: Train Reconstruction Loss : 0.9284374\u001b[39m\n",
      "\u001b[32m[2021-12-08 19:29:17 | info | root]: Test Reconstruction Loss : 1.1612779 \u001b[39m\n",
      "\n"
     ]
    },
    {
     "name": "stderr",
     "output_type": "stream",
     "text": [
      "┣█████████▊          ┫ [49.00%, 245/500, 01:02:08/02:06:48, 15.74s/i] "
     ]
    },
    {
     "name": "stdout",
     "output_type": "stream",
     "text": [
      "\u001b[32m[2021-12-08 19:30:35 | info | root]: Epoch : 245\u001b[39m\n",
      "\u001b[32m[2021-12-08 19:30:35 | info | root]: Train Loss : 0.00090703036\u001b[39m\n",
      "\u001b[32m[2021-12-08 19:30:35 | info | root]: Test Loss : 0.0011367841\u001b[39m\n",
      "\u001b[32m[2021-12-08 19:30:35 | info | root]: Train Reconstruction Loss : 0.9294556\u001b[39m\n",
      "\u001b[32m[2021-12-08 19:30:35 | info | root]: Test Reconstruction Loss : 1.1640667 \u001b[39m\n",
      "\n"
     ]
    },
    {
     "name": "stderr",
     "output_type": "stream",
     "text": [
      "┣██████████          ┫ [50.00%, 250/500, 01:03:26/02:06:52, 15.64s/i] "
     ]
    },
    {
     "name": "stdout",
     "output_type": "stream",
     "text": [
      "\u001b[32m[2021-12-08 19:31:54 | info | root]: Epoch : 250\u001b[39m\n",
      "\u001b[32m[2021-12-08 19:31:54 | info | root]: Train Loss : 0.00089501165\u001b[39m\n",
      "\u001b[32m[2021-12-08 19:31:54 | info | root]: Test Loss : 0.0011199786\u001b[39m\n",
      "\u001b[32m[2021-12-08 19:31:54 | info | root]: Train Reconstruction Loss : 0.9161167\u001b[39m\n",
      "\u001b[32m[2021-12-08 19:31:54 | info | root]: Test Reconstruction Loss : 1.1468583 \u001b[39m\n",
      "\n"
     ]
    },
    {
     "name": "stderr",
     "output_type": "stream",
     "text": [
      "┣██████████▏         ┫ [51.00%, 255/500, 01:04:49/02:07:06, 15.92s/i] "
     ]
    },
    {
     "name": "stdout",
     "output_type": "stream",
     "text": [
      "\u001b[32m[2021-12-08 19:33:17 | info | root]: Epoch : 255\u001b[39m\n",
      "\u001b[32m[2021-12-08 19:33:17 | info | root]: Train Loss : 0.0008816152\u001b[39m\n",
      "\u001b[32m[2021-12-08 19:33:17 | info | root]: Test Loss : 0.0011091363\u001b[39m\n",
      "\u001b[32m[2021-12-08 19:33:17 | info | root]: Train Reconstruction Loss : 0.9028649\u001b[39m\n",
      "\u001b[32m[2021-12-08 19:33:17 | info | root]: Test Reconstruction Loss : 1.1357555 \u001b[39m\n",
      "\n"
     ]
    },
    {
     "name": "stderr",
     "output_type": "stream",
     "text": [
      "┣██████████▍         ┫ [52.00%, 260/500, 01:06:08/02:07:11, 15.45s/i] "
     ]
    },
    {
     "name": "stdout",
     "output_type": "stream",
     "text": [
      "\u001b[32m[2021-12-08 19:34:36 | info | root]: Epoch : 260\u001b[39m\n",
      "\u001b[32m[2021-12-08 19:34:36 | info | root]: Train Loss : 0.00090726285\u001b[39m\n",
      "\u001b[32m[2021-12-08 19:34:36 | info | root]: Test Loss : 0.0011388204\u001b[39m\n",
      "\u001b[32m[2021-12-08 19:34:36 | info | root]: Train Reconstruction Loss : 0.9294801\u001b[39m\n",
      "\u001b[32m[2021-12-08 19:34:36 | info | root]: Test Reconstruction Loss : 1.166152 \u001b[39m\n",
      "\n"
     ]
    },
    {
     "name": "stderr",
     "output_type": "stream",
     "text": [
      "┣██████████▌         ┫ [53.00%, 265/500, 01:07:26/02:07:15, 15.39s/i] "
     ]
    },
    {
     "name": "stdout",
     "output_type": "stream",
     "text": [
      "\u001b[32m[2021-12-08 19:35:54 | info | root]: Epoch : 265\u001b[39m\n",
      "\u001b[32m[2021-12-08 19:35:54 | info | root]: Train Loss : 0.0008840816\u001b[39m\n",
      "\u001b[32m[2021-12-08 19:35:54 | info | root]: Test Loss : 0.0011195132\u001b[39m\n",
      "\u001b[32m[2021-12-08 19:35:54 | info | root]: Train Reconstruction Loss : 0.90564954\u001b[39m\n",
      "\u001b[32m[2021-12-08 19:35:54 | info | root]: Test Reconstruction Loss : 1.1463815 \u001b[39m\n",
      "\n"
     ]
    },
    {
     "name": "stderr",
     "output_type": "stream",
     "text": [
      "┣██████████▊         ┫ [54.00%, 270/500, 01:08:45/02:07:19, 15.60s/i] "
     ]
    },
    {
     "name": "stdout",
     "output_type": "stream",
     "text": [
      "\u001b[32m[2021-12-08 19:37:13 | info | root]: Epoch : 270\u001b[39m\n",
      "\u001b[32m[2021-12-08 19:37:13 | info | root]: Train Loss : 0.0008704071\u001b[39m\n",
      "\u001b[32m[2021-12-08 19:37:13 | info | root]: Test Loss : 0.0010972345\u001b[39m\n",
      "\u001b[32m[2021-12-08 19:37:13 | info | root]: Train Reconstruction Loss : 0.89179176\u001b[39m\n",
      "\u001b[32m[2021-12-08 19:37:13 | info | root]: Test Reconstruction Loss : 1.1235682 \u001b[39m\n",
      "\n"
     ]
    },
    {
     "name": "stderr",
     "output_type": "stream",
     "text": [
      "┣███████████         ┫ [55.00%, 275/500, 01:10:04/02:07:23, 15.94s/i] "
     ]
    },
    {
     "name": "stdout",
     "output_type": "stream",
     "text": [
      "\u001b[32m[2021-12-08 19:38:33 | info | root]: Epoch : 275\u001b[39m\n",
      "\u001b[32m[2021-12-08 19:38:33 | info | root]: Train Loss : 0.0008758313\u001b[39m\n",
      "\u001b[32m[2021-12-08 19:38:33 | info | root]: Test Loss : 0.0010985612\u001b[39m\n",
      "\u001b[32m[2021-12-08 19:38:33 | info | root]: Train Reconstruction Loss : 0.8965228\u001b[39m\n",
      "\u001b[32m[2021-12-08 19:38:33 | info | root]: Test Reconstruction Loss : 1.1249268 \u001b[39m\n",
      "\n"
     ]
    },
    {
     "name": "stderr",
     "output_type": "stream",
     "text": [
      "┣███████████▏        ┫ [56.00%, 280/500, 01:11:25/02:07:31, 15.92s/i] "
     ]
    },
    {
     "name": "stdout",
     "output_type": "stream",
     "text": [
      "\u001b[32m[2021-12-08 19:39:52 | info | root]: Epoch : 280\u001b[39m\n",
      "\u001b[32m[2021-12-08 19:39:52 | info | root]: Train Loss : 0.00087640673\u001b[39m\n",
      "\u001b[32m[2021-12-08 19:39:52 | info | root]: Test Loss : 0.0011020078\u001b[39m\n",
      "\u001b[32m[2021-12-08 19:39:52 | info | root]: Train Reconstruction Loss : 0.89730614\u001b[39m\n",
      "\u001b[32m[2021-12-08 19:39:52 | info | root]: Test Reconstruction Loss : 1.128456 \u001b[39m\n",
      "\n"
     ]
    },
    {
     "name": "stderr",
     "output_type": "stream",
     "text": [
      "┣███████████▍        ┫ [57.00%, 285/500, 01:12:44/02:07:36, 16.17s/i] "
     ]
    },
    {
     "name": "stdout",
     "output_type": "stream",
     "text": [
      "\u001b[32m[2021-12-08 19:41:12 | info | root]: Epoch : 285\u001b[39m\n",
      "\u001b[32m[2021-12-08 19:41:12 | info | root]: Train Loss : 0.0008727212\u001b[39m\n",
      "\u001b[32m[2021-12-08 19:41:12 | info | root]: Test Loss : 0.0010888543\u001b[39m\n",
      "\u001b[32m[2021-12-08 19:41:12 | info | root]: Train Reconstruction Loss : 0.89405215\u001b[39m\n",
      "\u001b[32m[2021-12-08 19:41:12 | info | root]: Test Reconstruction Loss : 1.1149868 \u001b[39m\n",
      "\n"
     ]
    },
    {
     "name": "stderr",
     "output_type": "stream",
     "text": [
      "┣███████████▌        ┫ [58.00%, 290/500, 01:14:04/02:07:43, 16.47s/i] "
     ]
    },
    {
     "name": "stdout",
     "output_type": "stream",
     "text": [
      "\u001b[32m[2021-12-08 19:42:33 | info | root]: Epoch : 290\u001b[39m\n",
      "\u001b[32m[2021-12-08 19:42:33 | info | root]: Train Loss : 0.00087904\u001b[39m\n",
      "\u001b[32m[2021-12-08 19:42:33 | info | root]: Test Loss : 0.0011095896\u001b[39m\n",
      "\u001b[32m[2021-12-08 19:42:33 | info | root]: Train Reconstruction Loss : 0.90046984\u001b[39m\n",
      "\u001b[32m[2021-12-08 19:42:33 | info | root]: Test Reconstruction Loss : 1.1362199 \u001b[39m\n",
      "\n"
     ]
    },
    {
     "name": "stderr",
     "output_type": "stream",
     "text": [
      "┣███████████▊        ┫ [59.00%, 295/500, 01:15:29/02:07:56, 16.83s/i] "
     ]
    },
    {
     "name": "stdout",
     "output_type": "stream",
     "text": [
      "\u001b[32m[2021-12-08 19:43:57 | info | root]: Epoch : 295\u001b[39m\n",
      "\u001b[32m[2021-12-08 19:43:57 | info | root]: Train Loss : 0.0008569109\u001b[39m\n",
      "\u001b[32m[2021-12-08 19:43:57 | info | root]: Test Loss : 0.0010742366\u001b[39m\n",
      "\u001b[32m[2021-12-08 19:43:57 | info | root]: Train Reconstruction Loss : 0.87796175\u001b[39m\n",
      "\u001b[32m[2021-12-08 19:43:57 | info | root]: Test Reconstruction Loss : 1.1000181 \u001b[39m\n",
      "\n"
     ]
    },
    {
     "name": "stderr",
     "output_type": "stream",
     "text": [
      "┣████████████        ┫ [60.00%, 300/500, 01:16:55/02:08:11, 18.16s/i] "
     ]
    },
    {
     "name": "stdout",
     "output_type": "stream",
     "text": [
      "\u001b[32m[2021-12-08 19:45:24 | info | root]: Epoch : 300\u001b[39m\n",
      "\u001b[32m[2021-12-08 19:45:24 | info | root]: Train Loss : 0.00084749836\u001b[39m\n",
      "\u001b[32m[2021-12-08 19:45:24 | info | root]: Test Loss : 0.0010575982\u001b[39m\n",
      "\u001b[32m[2021-12-08 19:45:24 | info | root]: Train Reconstruction Loss : 0.8677332\u001b[39m\n",
      "\u001b[32m[2021-12-08 19:45:24 | info | root]: Test Reconstruction Loss : 1.0829805 \u001b[39m\n",
      "\n"
     ]
    },
    {
     "name": "stderr",
     "output_type": "stream",
     "text": [
      "┣████████████▏       ┫ [61.00%, 305/500, 01:18:21/02:08:27, 14.48s/i] "
     ]
    },
    {
     "name": "stdout",
     "output_type": "stream",
     "text": [
      "\u001b[32m[2021-12-08 19:46:48 | info | root]: Epoch : 305\u001b[39m\n",
      "\u001b[32m[2021-12-08 19:46:48 | info | root]: Train Loss : 0.0008527896\u001b[39m\n",
      "\u001b[32m[2021-12-08 19:46:48 | info | root]: Test Loss : 0.001075599\u001b[39m\n",
      "\u001b[32m[2021-12-08 19:46:48 | info | root]: Train Reconstruction Loss : 0.87363005\u001b[39m\n",
      "\u001b[32m[2021-12-08 19:46:48 | info | root]: Test Reconstruction Loss : 1.1014134 \u001b[39m\n",
      "\n"
     ]
    },
    {
     "name": "stderr",
     "output_type": "stream",
     "text": [
      "┣████████████▍       ┫ [62.00%, 310/500, 01:19:34/02:08:20, 14.52s/i] "
     ]
    },
    {
     "name": "stdout",
     "output_type": "stream",
     "text": [
      "\u001b[32m[2021-12-08 19:48:00 | info | root]: Epoch : 310\u001b[39m\n",
      "\u001b[32m[2021-12-08 19:48:00 | info | root]: Train Loss : 0.0008442328\u001b[39m\n",
      "\u001b[32m[2021-12-08 19:48:00 | info | root]: Test Loss : 0.0010530745\u001b[39m\n",
      "\u001b[32m[2021-12-08 19:48:00 | info | root]: Train Reconstruction Loss : 0.86493015\u001b[39m\n",
      "\u001b[32m[2021-12-08 19:48:00 | info | root]: Test Reconstruction Loss : 1.0783483 \u001b[39m\n",
      "\n"
     ]
    },
    {
     "name": "stderr",
     "output_type": "stream",
     "text": [
      "┣████████████▌       ┫ [63.00%, 315/500, 01:20:46/02:08:12, 14.44s/i] "
     ]
    },
    {
     "name": "stdout",
     "output_type": "stream",
     "text": [
      "\u001b[32m[2021-12-08 19:49:13 | info | root]: Epoch : 315\u001b[39m\n",
      "\u001b[32m[2021-12-08 19:49:13 | info | root]: Train Loss : 0.00084550516\u001b[39m\n",
      "\u001b[32m[2021-12-08 19:49:13 | info | root]: Test Loss : 0.0010550136\u001b[39m\n",
      "\u001b[32m[2021-12-08 19:49:13 | info | root]: Train Reconstruction Loss : 0.86611056\u001b[39m\n",
      "\u001b[32m[2021-12-08 19:49:13 | info | root]: Test Reconstruction Loss : 1.080334 \u001b[39m\n",
      "\n"
     ]
    },
    {
     "name": "stderr",
     "output_type": "stream",
     "text": [
      "┣████████████▊       ┫ [64.00%, 320/500, 01:22:00/02:08:07, 14.53s/i] "
     ]
    },
    {
     "name": "stdout",
     "output_type": "stream",
     "text": [
      "\u001b[32m[2021-12-08 19:50:26 | info | root]: Epoch : 320\u001b[39m\n",
      "\u001b[32m[2021-12-08 19:50:26 | info | root]: Train Loss : 0.000850209\u001b[39m\n",
      "\u001b[32m[2021-12-08 19:50:26 | info | root]: Test Loss : 0.0010613791\u001b[39m\n",
      "\u001b[32m[2021-12-08 19:50:26 | info | root]: Train Reconstruction Loss : 0.8705316\u001b[39m\n",
      "\u001b[32m[2021-12-08 19:50:26 | info | root]: Test Reconstruction Loss : 1.0868522 \u001b[39m\n",
      "\n"
     ]
    },
    {
     "name": "stderr",
     "output_type": "stream",
     "text": [
      "┣█████████████       ┫ [65.00%, 325/500, 01:23:13/02:08:01, 14.71s/i] "
     ]
    },
    {
     "name": "stdout",
     "output_type": "stream",
     "text": [
      "\u001b[32m[2021-12-08 19:51:39 | info | root]: Epoch : 325\u001b[39m\n",
      "\u001b[32m[2021-12-08 19:51:39 | info | root]: Train Loss : 0.000844347\u001b[39m\n",
      "\u001b[32m[2021-12-08 19:51:39 | info | root]: Test Loss : 0.0010512548\u001b[39m\n",
      "\u001b[32m[2021-12-08 19:51:39 | info | root]: Train Reconstruction Loss : 0.86469835\u001b[39m\n",
      "\u001b[32m[2021-12-08 19:51:39 | info | root]: Test Reconstruction Loss : 1.0764849 \u001b[39m\n",
      "\n"
     ]
    },
    {
     "name": "stderr",
     "output_type": "stream",
     "text": [
      "┣█████████████▏      ┫ [66.00%, 330/500, 01:24:26/02:07:55, 14.50s/i] "
     ]
    },
    {
     "name": "stdout",
     "output_type": "stream",
     "text": [
      "\u001b[32m[2021-12-08 19:52:52 | info | root]: Epoch : 330\u001b[39m\n",
      "\u001b[32m[2021-12-08 19:52:52 | info | root]: Train Loss : 0.00084938685\u001b[39m\n",
      "\u001b[32m[2021-12-08 19:52:52 | info | root]: Test Loss : 0.0010527726\u001b[39m\n",
      "\u001b[32m[2021-12-08 19:52:52 | info | root]: Train Reconstruction Loss : 0.86934245\u001b[39m\n",
      "\u001b[32m[2021-12-08 19:52:52 | info | root]: Test Reconstruction Loss : 1.0780392 \u001b[39m\n",
      "\n"
     ]
    },
    {
     "name": "stderr",
     "output_type": "stream",
     "text": [
      "┣█████████████▍      ┫ [67.00%, 335/500, 01:25:39/02:07:50, 14.56s/i] "
     ]
    },
    {
     "name": "stdout",
     "output_type": "stream",
     "text": [
      "\u001b[32m[2021-12-08 19:54:05 | info | root]: Epoch : 335\u001b[39m\n",
      "\u001b[32m[2021-12-08 19:54:05 | info | root]: Train Loss : 0.00083427073\u001b[39m\n",
      "\u001b[32m[2021-12-08 19:54:05 | info | root]: Test Loss : 0.0010435128\u001b[39m\n",
      "\u001b[32m[2021-12-08 19:54:05 | info | root]: Train Reconstruction Loss : 0.85438555\u001b[39m\n",
      "\u001b[32m[2021-12-08 19:54:05 | info | root]: Test Reconstruction Loss : 1.0685573 \u001b[39m\n",
      "\n"
     ]
    },
    {
     "name": "stderr",
     "output_type": "stream",
     "text": [
      "┣█████████████▌      ┫ [68.00%, 340/500, 01:26:52/02:07:44, 14.58s/i] "
     ]
    },
    {
     "name": "stdout",
     "output_type": "stream",
     "text": [
      "\u001b[32m[2021-12-08 19:55:19 | info | root]: Epoch : 340\u001b[39m\n",
      "\u001b[32m[2021-12-08 19:55:19 | info | root]: Train Loss : 0.0008188372\u001b[39m\n",
      "\u001b[32m[2021-12-08 19:55:19 | info | root]: Test Loss : 0.001028708\u001b[39m\n",
      "\u001b[32m[2021-12-08 19:55:19 | info | root]: Train Reconstruction Loss : 0.83839256\u001b[39m\n",
      "\u001b[32m[2021-12-08 19:55:19 | info | root]: Test Reconstruction Loss : 1.0533969 \u001b[39m\n",
      "\n"
     ]
    },
    {
     "name": "stderr",
     "output_type": "stream",
     "text": [
      "┣█████████████▊      ┫ [69.00%, 345/500, 01:28:05/02:07:40, 14.74s/i] "
     ]
    },
    {
     "name": "stdout",
     "output_type": "stream",
     "text": [
      "\u001b[32m[2021-12-08 19:56:32 | info | root]: Epoch : 345\u001b[39m\n",
      "\u001b[32m[2021-12-08 19:56:32 | info | root]: Train Loss : 0.0008268687\u001b[39m\n",
      "\u001b[32m[2021-12-08 19:56:32 | info | root]: Test Loss : 0.0010329804\u001b[39m\n",
      "\u001b[32m[2021-12-08 19:56:32 | info | root]: Train Reconstruction Loss : 0.8465988\u001b[39m\n",
      "\u001b[32m[2021-12-08 19:56:32 | info | root]: Test Reconstruction Loss : 1.057772 \u001b[39m\n",
      "\n"
     ]
    },
    {
     "name": "stderr",
     "output_type": "stream",
     "text": [
      "┣██████████████      ┫ [70.00%, 350/500, 01:29:19/02:07:36, 14.67s/i] "
     ]
    },
    {
     "name": "stdout",
     "output_type": "stream",
     "text": [
      "\u001b[32m[2021-12-08 19:57:46 | info | root]: Epoch : 350\u001b[39m\n",
      "\u001b[32m[2021-12-08 19:57:46 | info | root]: Train Loss : 0.00083452417\u001b[39m\n",
      "\u001b[32m[2021-12-08 19:57:46 | info | root]: Test Loss : 0.001041428\u001b[39m\n",
      "\u001b[32m[2021-12-08 19:57:46 | info | root]: Train Reconstruction Loss : 0.85527176\u001b[39m\n",
      "\u001b[32m[2021-12-08 19:57:46 | info | root]: Test Reconstruction Loss : 1.0664222 \u001b[39m\n",
      "\n"
     ]
    },
    {
     "name": "stderr",
     "output_type": "stream",
     "text": [
      "┣██████████████▏     ┫ [71.00%, 355/500, 01:30:37/02:07:38, 14.60s/i] "
     ]
    },
    {
     "name": "stdout",
     "output_type": "stream",
     "text": [
      "\u001b[32m[2021-12-08 19:59:04 | info | root]: Epoch : 355\u001b[39m\n",
      "\u001b[32m[2021-12-08 19:59:04 | info | root]: Train Loss : 0.00083060766\u001b[39m\n",
      "\u001b[32m[2021-12-08 19:59:04 | info | root]: Test Loss : 0.0010357549\u001b[39m\n",
      "\u001b[32m[2021-12-08 19:59:04 | info | root]: Train Reconstruction Loss : 0.85046303\u001b[39m\n",
      "\u001b[32m[2021-12-08 19:59:04 | info | root]: Test Reconstruction Loss : 1.060613 \u001b[39m\n",
      "\n"
     ]
    },
    {
     "name": "stderr",
     "output_type": "stream",
     "text": [
      "┣██████████████▍     ┫ [72.00%, 360/500, 01:31:52/02:07:36, 15.01s/i] "
     ]
    },
    {
     "name": "stdout",
     "output_type": "stream",
     "text": [
      "\u001b[32m[2021-12-08 20:00:19 | info | root]: Epoch : 360\u001b[39m\n",
      "\u001b[32m[2021-12-08 20:00:19 | info | root]: Train Loss : 0.00081916887\u001b[39m\n",
      "\u001b[32m[2021-12-08 20:00:19 | info | root]: Test Loss : 0.0010268423\u001b[39m\n",
      "\u001b[32m[2021-12-08 20:00:19 | info | root]: Train Reconstruction Loss : 0.838632\u001b[39m\n",
      "\u001b[32m[2021-12-08 20:00:19 | info | root]: Test Reconstruction Loss : 1.0514865 \u001b[39m\n",
      "\n"
     ]
    },
    {
     "name": "stderr",
     "output_type": "stream",
     "text": [
      "┣██████████████▌     ┫ [73.00%, 365/500, 01:33:08/02:07:35, 15.16s/i] "
     ]
    },
    {
     "name": "stdout",
     "output_type": "stream",
     "text": [
      "\u001b[32m[2021-12-08 20:01:35 | info | root]: Epoch : 365\u001b[39m\n",
      "\u001b[32m[2021-12-08 20:01:35 | info | root]: Train Loss : 0.000822718\u001b[39m\n",
      "\u001b[32m[2021-12-08 20:01:35 | info | root]: Test Loss : 0.001030167\u001b[39m\n",
      "\u001b[32m[2021-12-08 20:01:35 | info | root]: Train Reconstruction Loss : 0.84242976\u001b[39m\n",
      "\u001b[32m[2021-12-08 20:01:35 | info | root]: Test Reconstruction Loss : 1.054891 \u001b[39m\n",
      "\n"
     ]
    },
    {
     "name": "stderr",
     "output_type": "stream",
     "text": [
      "┣██████████████▊     ┫ [74.00%, 370/500, 01:34:24/02:07:34, 15.32s/i] "
     ]
    },
    {
     "name": "stdout",
     "output_type": "stream",
     "text": [
      "\u001b[32m[2021-12-08 20:02:51 | info | root]: Epoch : 370\u001b[39m\n",
      "\u001b[32m[2021-12-08 20:02:51 | info | root]: Train Loss : 0.00081445626\u001b[39m\n",
      "\u001b[32m[2021-12-08 20:02:51 | info | root]: Test Loss : 0.0010228985\u001b[39m\n",
      "\u001b[32m[2021-12-08 20:02:51 | info | root]: Train Reconstruction Loss : 0.83406353\u001b[39m\n",
      "\u001b[32m[2021-12-08 20:02:51 | info | root]: Test Reconstruction Loss : 1.047448 \u001b[39m\n",
      "\n"
     ]
    },
    {
     "name": "stderr",
     "output_type": "stream",
     "text": [
      "┣███████████████     ┫ [75.00%, 375/500, 01:35:40/02:07:33, 15.07s/i] "
     ]
    },
    {
     "name": "stdout",
     "output_type": "stream",
     "text": [
      "\u001b[32m[2021-12-08 20:04:07 | info | root]: Epoch : 375\u001b[39m\n",
      "\u001b[32m[2021-12-08 20:04:07 | info | root]: Train Loss : 0.00079961866\u001b[39m\n",
      "\u001b[32m[2021-12-08 20:04:07 | info | root]: Test Loss : 0.0010041483\u001b[39m\n",
      "\u001b[32m[2021-12-08 20:04:07 | info | root]: Train Reconstruction Loss : 0.8186669\u001b[39m\n",
      "\u001b[32m[2021-12-08 20:04:07 | info | root]: Test Reconstruction Loss : 1.0282478 \u001b[39m\n",
      "\n"
     ]
    },
    {
     "name": "stderr",
     "output_type": "stream",
     "text": [
      "┣███████████████▏    ┫ [76.00%, 380/500, 01:36:56/02:07:33, 15.61s/i] "
     ]
    },
    {
     "name": "stdout",
     "output_type": "stream",
     "text": [
      "\u001b[32m[2021-12-08 20:05:24 | info | root]: Epoch : 380\u001b[39m\n",
      "\u001b[32m[2021-12-08 20:05:24 | info | root]: Train Loss : 0.00081433356\u001b[39m\n",
      "\u001b[32m[2021-12-08 20:05:24 | info | root]: Test Loss : 0.0010200946\u001b[39m\n",
      "\u001b[32m[2021-12-08 20:05:24 | info | root]: Train Reconstruction Loss : 0.83429503\u001b[39m\n",
      "\u001b[32m[2021-12-08 20:05:24 | info | root]: Test Reconstruction Loss : 1.0445769 \u001b[39m\n",
      "\n"
     ]
    },
    {
     "name": "stderr",
     "output_type": "stream",
     "text": [
      "┣███████████████▍    ┫ [77.00%, 385/500, 01:38:12/02:07:32, 15.11s/i] "
     ]
    },
    {
     "name": "stdout",
     "output_type": "stream",
     "text": [
      "\u001b[32m[2021-12-08 20:06:39 | info | root]: Epoch : 385\u001b[39m\n",
      "\u001b[32m[2021-12-08 20:06:39 | info | root]: Train Loss : 0.000807991\u001b[39m\n",
      "\u001b[32m[2021-12-08 20:06:39 | info | root]: Test Loss : 0.0010171961\u001b[39m\n",
      "\u001b[32m[2021-12-08 20:06:39 | info | root]: Train Reconstruction Loss : 0.82642317\u001b[39m\n",
      "\u001b[32m[2021-12-08 20:06:39 | info | root]: Test Reconstruction Loss : 1.0416088 \u001b[39m\n",
      "\n"
     ]
    },
    {
     "name": "stderr",
     "output_type": "stream",
     "text": [
      "┣███████████████▌    ┫ [78.00%, 390/500, 01:39:29/02:07:33, 16.36s/i] "
     ]
    },
    {
     "name": "stdout",
     "output_type": "stream",
     "text": [
      "\u001b[32m[2021-12-08 20:07:56 | info | root]: Epoch : 390\u001b[39m\n",
      "\u001b[32m[2021-12-08 20:07:56 | info | root]: Train Loss : 0.00082095107\u001b[39m\n",
      "\u001b[32m[2021-12-08 20:07:56 | info | root]: Test Loss : 0.0010217394\u001b[39m\n",
      "\u001b[32m[2021-12-08 20:07:56 | info | root]: Train Reconstruction Loss : 0.84018636\u001b[39m\n",
      "\u001b[32m[2021-12-08 20:07:56 | info | root]: Test Reconstruction Loss : 1.0462612 \u001b[39m\n",
      "\n"
     ]
    },
    {
     "name": "stderr",
     "output_type": "stream",
     "text": [
      "┣███████████████▊    ┫ [79.00%, 395/500, 01:40:47/02:07:34, 15.16s/i] "
     ]
    },
    {
     "name": "stdout",
     "output_type": "stream",
     "text": [
      "\u001b[32m[2021-12-08 20:09:14 | info | root]: Epoch : 395\u001b[39m\n",
      "\u001b[32m[2021-12-08 20:09:14 | info | root]: Train Loss : 0.00080758386\u001b[39m\n",
      "\u001b[32m[2021-12-08 20:09:14 | info | root]: Test Loss : 0.0010147183\u001b[39m\n",
      "\u001b[32m[2021-12-08 20:09:14 | info | root]: Train Reconstruction Loss : 0.82753694\u001b[39m\n",
      "\u001b[32m[2021-12-08 20:09:14 | info | root]: Test Reconstruction Loss : 1.0390716 \u001b[39m\n",
      "\n"
     ]
    },
    {
     "name": "stderr",
     "output_type": "stream",
     "text": [
      "┣████████████████    ┫ [80.00%, 400/500, 01:42:03/02:07:34, 15.25s/i] "
     ]
    },
    {
     "name": "stdout",
     "output_type": "stream",
     "text": [
      "\u001b[32m[2021-12-08 20:10:30 | info | root]: Epoch : 400\u001b[39m\n",
      "\u001b[32m[2021-12-08 20:10:30 | info | root]: Train Loss : 0.00080593635\u001b[39m\n",
      "\u001b[32m[2021-12-08 20:10:30 | info | root]: Test Loss : 0.0010107349\u001b[39m\n",
      "\u001b[32m[2021-12-08 20:10:30 | info | root]: Train Reconstruction Loss : 0.8253897\u001b[39m\n",
      "\u001b[32m[2021-12-08 20:10:30 | info | root]: Test Reconstruction Loss : 1.0349925 \u001b[39m\n",
      "\n"
     ]
    },
    {
     "name": "stderr",
     "output_type": "stream",
     "text": [
      "┣████████████████▏   ┫ [81.00%, 405/500, 01:43:34/02:07:52, 15.26s/i] "
     ]
    },
    {
     "name": "stdout",
     "output_type": "stream",
     "text": [
      "\u001b[32m[2021-12-08 20:12:02 | info | root]: Epoch : 405\u001b[39m\n",
      "\u001b[32m[2021-12-08 20:12:02 | info | root]: Train Loss : 0.0008086036\u001b[39m\n",
      "\u001b[32m[2021-12-08 20:12:02 | info | root]: Test Loss : 0.0010057273\u001b[39m\n",
      "\u001b[32m[2021-12-08 20:12:02 | info | root]: Train Reconstruction Loss : 0.8282055\u001b[39m\n",
      "\u001b[32m[2021-12-08 20:12:02 | info | root]: Test Reconstruction Loss : 1.0298648 \u001b[39m\n",
      "\n"
     ]
    },
    {
     "name": "stderr",
     "output_type": "stream",
     "text": [
      "┣████████████████▍   ┫ [82.00%, 410/500, 01:44:49/02:07:50, 14.68s/i] "
     ]
    },
    {
     "name": "stdout",
     "output_type": "stream",
     "text": [
      "\u001b[32m[2021-12-08 20:13:17 | info | root]: Epoch : 410\u001b[39m\n",
      "\u001b[32m[2021-12-08 20:13:17 | info | root]: Train Loss : 0.0008060129\u001b[39m\n",
      "\u001b[32m[2021-12-08 20:13:17 | info | root]: Test Loss : 0.0010084965\u001b[39m\n",
      "\u001b[32m[2021-12-08 20:13:17 | info | root]: Train Reconstruction Loss : 0.8258219\u001b[39m\n",
      "\u001b[32m[2021-12-08 20:13:17 | info | root]: Test Reconstruction Loss : 1.0327004 \u001b[39m\n",
      "\n"
     ]
    },
    {
     "name": "stderr",
     "output_type": "stream",
     "text": [
      "┣████████████████▌   ┫ [83.00%, 415/500, 01:46:07/02:07:51, 15.77s/i] "
     ]
    },
    {
     "name": "stdout",
     "output_type": "stream",
     "text": [
      "\u001b[32m[2021-12-08 20:14:35 | info | root]: Epoch : 415\u001b[39m\n",
      "\u001b[32m[2021-12-08 20:14:35 | info | root]: Train Loss : 0.0007954968\u001b[39m\n",
      "\u001b[32m[2021-12-08 20:14:35 | info | root]: Test Loss : 0.0010008923\u001b[39m\n",
      "\u001b[32m[2021-12-08 20:14:35 | info | root]: Train Reconstruction Loss : 0.81442374\u001b[39m\n",
      "\u001b[32m[2021-12-08 20:14:35 | info | root]: Test Reconstruction Loss : 1.0249137 \u001b[39m\n",
      "\n"
     ]
    },
    {
     "name": "stderr",
     "output_type": "stream",
     "text": [
      "┣████████████████▊   ┫ [84.00%, 420/500, 01:47:26/02:07:54, 15.37s/i] "
     ]
    },
    {
     "name": "stdout",
     "output_type": "stream",
     "text": [
      "\u001b[32m[2021-12-08 20:15:54 | info | root]: Epoch : 420\u001b[39m\n",
      "\u001b[32m[2021-12-08 20:15:54 | info | root]: Train Loss : 0.0007895013\u001b[39m\n",
      "\u001b[32m[2021-12-08 20:15:54 | info | root]: Test Loss : 0.0010009533\u001b[39m\n",
      "\u001b[32m[2021-12-08 20:15:54 | info | root]: Train Reconstruction Loss : 0.8087385\u001b[39m\n",
      "\u001b[32m[2021-12-08 20:15:54 | info | root]: Test Reconstruction Loss : 1.0249761 \u001b[39m\n",
      "\n"
     ]
    },
    {
     "name": "stderr",
     "output_type": "stream",
     "text": [
      "┣█████████████████   ┫ [85.00%, 425/500, 01:48:46/02:07:57, 15.73s/i] "
     ]
    },
    {
     "name": "stdout",
     "output_type": "stream",
     "text": [
      "\u001b[32m[2021-12-08 20:17:14 | info | root]: Epoch : 425\u001b[39m\n",
      "\u001b[32m[2021-12-08 20:17:14 | info | root]: Train Loss : 0.00079339446\u001b[39m\n",
      "\u001b[32m[2021-12-08 20:17:14 | info | root]: Test Loss : 0.0009947788\u001b[39m\n",
      "\u001b[32m[2021-12-08 20:17:14 | info | root]: Train Reconstruction Loss : 0.8126956\u001b[39m\n",
      "\u001b[32m[2021-12-08 20:17:14 | info | root]: Test Reconstruction Loss : 1.0186534 \u001b[39m\n",
      "\n"
     ]
    },
    {
     "name": "stderr",
     "output_type": "stream",
     "text": [
      "┣█████████████████▏  ┫ [86.00%, 430/500, 01:50:05/02:08:00, 15.91s/i] "
     ]
    },
    {
     "name": "stdout",
     "output_type": "stream",
     "text": [
      "\u001b[32m[2021-12-08 20:18:33 | info | root]: Epoch : 430\u001b[39m\n",
      "\u001b[32m[2021-12-08 20:18:33 | info | root]: Train Loss : 0.00078890927\u001b[39m\n",
      "\u001b[32m[2021-12-08 20:18:33 | info | root]: Test Loss : 0.0009957129\u001b[39m\n",
      "\u001b[32m[2021-12-08 20:18:33 | info | root]: Train Reconstruction Loss : 0.8077812\u001b[39m\n",
      "\u001b[32m[2021-12-08 20:18:33 | info | root]: Test Reconstruction Loss : 1.01961 \u001b[39m\n",
      "\n"
     ]
    },
    {
     "name": "stderr",
     "output_type": "stream",
     "text": [
      "┣█████████████████▍  ┫ [87.00%, 435/500, 01:51:23/02:08:01, 15.53s/i] "
     ]
    },
    {
     "name": "stdout",
     "output_type": "stream",
     "text": [
      "\u001b[32m[2021-12-08 20:19:50 | info | root]: Epoch : 435\u001b[39m\n",
      "\u001b[32m[2021-12-08 20:19:50 | info | root]: Train Loss : 0.0007880901\u001b[39m\n",
      "\u001b[32m[2021-12-08 20:19:50 | info | root]: Test Loss : 0.0009891724\u001b[39m\n",
      "\u001b[32m[2021-12-08 20:19:50 | info | root]: Train Reconstruction Loss : 0.8075731\u001b[39m\n",
      "\u001b[32m[2021-12-08 20:19:50 | info | root]: Test Reconstruction Loss : 1.0129125 \u001b[39m\n",
      "\n"
     ]
    },
    {
     "name": "stderr",
     "output_type": "stream",
     "text": [
      "┣█████████████████▌  ┫ [88.00%, 440/500, 01:52:41/02:08:03, 15.80s/i] "
     ]
    },
    {
     "name": "stdout",
     "output_type": "stream",
     "text": [
      "\u001b[32m[2021-12-08 20:21:08 | info | root]: Epoch : 440\u001b[39m\n",
      "\u001b[32m[2021-12-08 20:21:08 | info | root]: Train Loss : 0.0007905508\u001b[39m\n",
      "\u001b[32m[2021-12-08 20:21:08 | info | root]: Test Loss : 0.0009952957\u001b[39m\n",
      "\u001b[32m[2021-12-08 20:21:08 | info | root]: Train Reconstruction Loss : 0.8098006\u001b[39m\n",
      "\u001b[32m[2021-12-08 20:21:08 | info | root]: Test Reconstruction Loss : 1.0191828 \u001b[39m\n",
      "\n"
     ]
    },
    {
     "name": "stderr",
     "output_type": "stream",
     "text": [
      "┣█████████████████▊  ┫ [89.00%, 445/500, 01:53:59/02:08:04, 15.61s/i] "
     ]
    },
    {
     "name": "stdout",
     "output_type": "stream",
     "text": [
      "\u001b[32m[2021-12-08 20:22:27 | info | root]: Epoch : 445\u001b[39m\n",
      "\u001b[32m[2021-12-08 20:22:27 | info | root]: Train Loss : 0.0007755732\u001b[39m\n",
      "\u001b[32m[2021-12-08 20:22:27 | info | root]: Test Loss : 0.0009825049\u001b[39m\n",
      "\u001b[32m[2021-12-08 20:22:27 | info | root]: Train Reconstruction Loss : 0.7946329\u001b[39m\n",
      "\u001b[32m[2021-12-08 20:22:27 | info | root]: Test Reconstruction Loss : 1.006085 \u001b[39m\n",
      "\n"
     ]
    },
    {
     "name": "stderr",
     "output_type": "stream",
     "text": [
      "┣██████████████████  ┫ [90.00%, 450/500, 01:55:17/02:08:06, 15.64s/i] "
     ]
    },
    {
     "name": "stdout",
     "output_type": "stream",
     "text": [
      "\u001b[32m[2021-12-08 20:23:45 | info | root]: Epoch : 450\u001b[39m\n",
      "\u001b[32m[2021-12-08 20:23:45 | info | root]: Train Loss : 0.00078116637\u001b[39m\n",
      "\u001b[32m[2021-12-08 20:23:45 | info | root]: Test Loss : 0.0009812685\u001b[39m\n",
      "\u001b[32m[2021-12-08 20:23:45 | info | root]: Train Reconstruction Loss : 0.8000061\u001b[39m\n",
      "\u001b[32m[2021-12-08 20:23:45 | info | root]: Test Reconstruction Loss : 1.0048189 \u001b[39m\n",
      "\n"
     ]
    },
    {
     "name": "stderr",
     "output_type": "stream",
     "text": [
      "┣██████████████████▏ ┫ [91.00%, 455/500, 01:56:37/02:08:09, 15.68s/i] "
     ]
    },
    {
     "name": "stdout",
     "output_type": "stream",
     "text": [
      "\u001b[32m[2021-12-08 20:25:04 | info | root]: Epoch : 455\u001b[39m\n",
      "\u001b[32m[2021-12-08 20:25:04 | info | root]: Train Loss : 0.00076806004\u001b[39m\n",
      "\u001b[32m[2021-12-08 20:25:04 | info | root]: Test Loss : 0.00096607435\u001b[39m\n",
      "\u001b[32m[2021-12-08 20:25:04 | info | root]: Train Reconstruction Loss : 0.786912\u001b[39m\n",
      "\u001b[32m[2021-12-08 20:25:04 | info | root]: Test Reconstruction Loss : 0.98926014 \u001b[39m\n",
      "\n"
     ]
    },
    {
     "name": "stderr",
     "output_type": "stream",
     "text": [
      "┣██████████████████▍ ┫ [92.00%, 460/500, 01:57:55/02:08:10, 15.65s/i] "
     ]
    },
    {
     "name": "stdout",
     "output_type": "stream",
     "text": [
      "\u001b[32m[2021-12-08 20:26:23 | info | root]: Epoch : 460\u001b[39m\n",
      "\u001b[32m[2021-12-08 20:26:23 | info | root]: Train Loss : 0.0007694722\u001b[39m\n",
      "\u001b[32m[2021-12-08 20:26:23 | info | root]: Test Loss : 0.00096091983\u001b[39m\n",
      "\u001b[32m[2021-12-08 20:26:23 | info | root]: Train Reconstruction Loss : 0.7873741\u001b[39m\n",
      "\u001b[32m[2021-12-08 20:26:23 | info | root]: Test Reconstruction Loss : 0.9839819 \u001b[39m\n",
      "\n"
     ]
    },
    {
     "name": "stderr",
     "output_type": "stream",
     "text": [
      "┣██████████████████▌ ┫ [93.00%, 465/500, 01:59:13/02:08:12, 15.68s/i] "
     ]
    },
    {
     "name": "stdout",
     "output_type": "stream",
     "text": [
      "\u001b[32m[2021-12-08 20:27:41 | info | root]: Epoch : 465\u001b[39m\n",
      "\u001b[32m[2021-12-08 20:27:41 | info | root]: Train Loss : 0.00077087036\u001b[39m\n",
      "\u001b[32m[2021-12-08 20:27:41 | info | root]: Test Loss : 0.00097067165\u001b[39m\n",
      "\u001b[32m[2021-12-08 20:27:41 | info | root]: Train Reconstruction Loss : 0.78955364\u001b[39m\n",
      "\u001b[32m[2021-12-08 20:27:41 | info | root]: Test Reconstruction Loss : 0.9939677 \u001b[39m\n",
      "\n"
     ]
    },
    {
     "name": "stderr",
     "output_type": "stream",
     "text": [
      "┣██████████████████▊ ┫ [94.00%, 470/500, 02:00:32/02:08:14, 15.71s/i] "
     ]
    },
    {
     "name": "stdout",
     "output_type": "stream",
     "text": [
      "\u001b[32m[2021-12-08 20:29:00 | info | root]: Epoch : 470\u001b[39m\n",
      "\u001b[32m[2021-12-08 20:29:00 | info | root]: Train Loss : 0.0007747683\u001b[39m\n",
      "\u001b[32m[2021-12-08 20:29:00 | info | root]: Test Loss : 0.00097555784\u001b[39m\n",
      "\u001b[32m[2021-12-08 20:29:00 | info | root]: Train Reconstruction Loss : 0.7931762\u001b[39m\n",
      "\u001b[32m[2021-12-08 20:29:00 | info | root]: Test Reconstruction Loss : 0.9989713 \u001b[39m\n",
      "\n"
     ]
    },
    {
     "name": "stderr",
     "output_type": "stream",
     "text": [
      "┣███████████████████ ┫ [95.00%, 475/500, 02:01:51/02:08:16, 15.80s/i] "
     ]
    },
    {
     "name": "stdout",
     "output_type": "stream",
     "text": [
      "\u001b[32m[2021-12-08 20:30:19 | info | root]: Epoch : 475\u001b[39m\n",
      "\u001b[32m[2021-12-08 20:30:19 | info | root]: Train Loss : 0.00077801547\u001b[39m\n",
      "\u001b[32m[2021-12-08 20:30:19 | info | root]: Test Loss : 0.0009780092\u001b[39m\n",
      "\u001b[32m[2021-12-08 20:30:19 | info | root]: Train Reconstruction Loss : 0.7966034\u001b[39m\n",
      "\u001b[32m[2021-12-08 20:30:19 | info | root]: Test Reconstruction Loss : 1.0014814 \u001b[39m\n",
      "\n"
     ]
    },
    {
     "name": "stderr",
     "output_type": "stream",
     "text": [
      "┣███████████████████▏┫ [96.00%, 480/500, 02:03:11/02:08:19, 15.80s/i] "
     ]
    },
    {
     "name": "stdout",
     "output_type": "stream",
     "text": [
      "\u001b[32m[2021-12-08 20:31:39 | info | root]: Epoch : 480\u001b[39m\n",
      "\u001b[32m[2021-12-08 20:31:39 | info | root]: Train Loss : 0.0007723465\u001b[39m\n",
      "\u001b[32m[2021-12-08 20:31:39 | info | root]: Test Loss : 0.00096746936\u001b[39m\n",
      "\u001b[32m[2021-12-08 20:31:39 | info | root]: Train Reconstruction Loss : 0.79100347\u001b[39m\n",
      "\u001b[32m[2021-12-08 20:31:39 | info | root]: Test Reconstruction Loss : 0.9906886 \u001b[39m\n",
      "\n"
     ]
    },
    {
     "name": "stderr",
     "output_type": "stream",
     "text": [
      "┣███████████████████▍┫ [97.00%, 485/500, 02:04:30/02:08:21, 15.86s/i] "
     ]
    },
    {
     "name": "stdout",
     "output_type": "stream",
     "text": [
      "\u001b[32m[2021-12-08 20:32:58 | info | root]: Epoch : 485\u001b[39m\n",
      "\u001b[32m[2021-12-08 20:32:58 | info | root]: Train Loss : 0.00077311817\u001b[39m\n",
      "\u001b[32m[2021-12-08 20:32:58 | info | root]: Test Loss : 0.000970843\u001b[39m\n",
      "\u001b[32m[2021-12-08 20:32:58 | info | root]: Train Reconstruction Loss : 0.7912109\u001b[39m\n",
      "\u001b[32m[2021-12-08 20:32:58 | info | root]: Test Reconstruction Loss : 0.99414325 \u001b[39m\n",
      "\n"
     ]
    },
    {
     "name": "stderr",
     "output_type": "stream",
     "text": [
      "┣███████████████████▌┫ [98.00%, 490/500, 02:05:49/02:08:24, 15.88s/i] "
     ]
    },
    {
     "name": "stdout",
     "output_type": "stream",
     "text": [
      "\u001b[32m[2021-12-08 20:34:17 | info | root]: Epoch : 490\u001b[39m\n",
      "\u001b[32m[2021-12-08 20:34:17 | info | root]: Train Loss : 0.0007682592\u001b[39m\n",
      "\u001b[32m[2021-12-08 20:34:17 | info | root]: Test Loss : 0.0009594743\u001b[39m\n",
      "\u001b[32m[2021-12-08 20:34:17 | info | root]: Train Reconstruction Loss : 0.7871173\u001b[39m\n",
      "\u001b[32m[2021-12-08 20:34:17 | info | root]: Test Reconstruction Loss : 0.9825017 \u001b[39m\n",
      "\n"
     ]
    },
    {
     "name": "stderr",
     "output_type": "stream",
     "text": [
      "┣███████████████████▊┫ [99.00%, 495/500, 02:07:09/02:08:26, 15.81s/i] "
     ]
    },
    {
     "name": "stdout",
     "output_type": "stream",
     "text": [
      "\u001b[32m[2021-12-08 20:35:37 | info | root]: Epoch : 495\u001b[39m\n",
      "\u001b[32m[2021-12-08 20:35:37 | info | root]: Train Loss : 0.0007649135\u001b[39m\n",
      "\u001b[32m[2021-12-08 20:35:37 | info | root]: Test Loss : 0.0009611676\u001b[39m\n",
      "\u001b[32m[2021-12-08 20:35:37 | info | root]: Train Reconstruction Loss : 0.7829138\u001b[39m\n",
      "\u001b[32m[2021-12-08 20:35:37 | info | root]: Test Reconstruction Loss : 0.98423564 \u001b[39m\n",
      "\n"
     ]
    },
    {
     "name": "stderr",
     "output_type": "stream",
     "text": [
      "┣████████████████████┫ [100.00%, 500/500, 02:08:30/02:08:30, 16.91s/i] "
     ]
    },
    {
     "name": "stdout",
     "output_type": "stream",
     "text": [
      "\u001b[32m[2021-12-08 20:36:58 | info | root]: Epoch : 500\u001b[39m\n",
      "\u001b[32m[2021-12-08 20:36:58 | info | root]: Train Loss : 0.0007536692\u001b[39m\n",
      "\u001b[32m[2021-12-08 20:36:58 | info | root]: Test Loss : 0.0009518154\u001b[39m\n",
      "\u001b[32m[2021-12-08 20:36:58 | info | root]: Train Reconstruction Loss : 0.77287096\u001b[39m\n",
      "\u001b[32m[2021-12-08 20:36:58 | info | root]: Test Reconstruction Loss : 0.97465897 \u001b[39m\n",
      "\n"
     ]
    },
    {
     "name": "stderr",
     "output_type": "stream",
     "text": [
      "\r",
      "┣████████████████████┫ [100.00%, 500/500, 02:08:49/02:08:49, 15.46s/i] \n"
     ]
    }
   ],
   "source": [
    "nz = 48\n",
    "ngf = 32\n",
    "nc = 1\n",
    "\n",
    "# first batch of the test dataset\n",
    "x_test_first = first(dtrn);\n",
    "\n",
    "# define model weights\n",
    "theta, phi = weights(nc, nz,  ngf);\n",
    "\n",
    "# Define Learning Rate and Number of Epochs\n",
    "lr = 1e-4\n",
    "n_epochs = 500\n",
    "\n",
    "# Initialize Empty Lists for both training and test losses\n",
    "trn_loss_list = Float64[]\n",
    "tst_loss_list =Float64[]\n",
    "trn_rec_loss_list = Float64[]\n",
    "tst_rec_loss_list = Float64[]\n",
    "\n",
    "# RECORD INITIAL LOSS VALUES\n",
    "epoch_loss_trn_ = inner_loss(theta, phi, dtrn)\n",
    "epoch_loss_tst_ = inner_loss(theta, phi, dtst)\n",
    "epoch_rec_loss_trn_ = rec_loss(theta, phi, dtrn)\n",
    "epoch_rec_loss_tst_ = rec_loss(theta, phi, dtst)\n",
    "\n",
    "push!(trn_loss_list, epoch_loss_trn_)\n",
    "push!(tst_loss_list, epoch_loss_tst_)\n",
    "push!(trn_rec_loss_list, epoch_rec_loss_trn_)\n",
    "push!(tst_rec_loss_list, epoch_rec_loss_tst_)\n",
    "\n",
    "# println(\"Epoch : \", 0)\n",
    "# println(\"Train Loss : \",epoch_loss_trn)\n",
    "# println(\"Test Loss : \", epoch_loss_tst)\n",
    "# println(\"Train Reconstruction Loss : \", epoch_rec_loss_trn)\n",
    "# println(\"Test Reconstruction Loss : \", epoch_rec_loss_tst)\n",
    "\n",
    "\n",
    "info(logger, (\"Epoch : 0\"))\n",
    "info(logger, (\"Train Loss : $epoch_loss_trn_\"))\n",
    "info(logger, (\"Test Loss : $epoch_loss_tst_\"))\n",
    "info(logger, (\"Train Reconstruction Loss : $epoch_rec_loss_trn_\"))\n",
    "info(logger, (\"Test Reconstruction Loss : $epoch_rec_loss_tst_ \\n\"))\n",
    "\n",
    "# Define the step number of model save checkpoint\n",
    "model_save_checkpoint = 50\n",
    "logger_checkpoint = 5\n",
    "image_rec_checkpoint = 25\n",
    "\n",
    "# Training Loop\n",
    "for epoch in progress(1:n_epochs)\n",
    "    for (i,x) in enumerate(dtrn)\n",
    "        \n",
    "        derivative_model = @diff inner_loss(theta, phi, x)\n",
    "        \n",
    "        # update the model weights with ADAM optimizer\n",
    "        for p in theta\n",
    "            dp = grad(derivative_model, p)\n",
    "            update!(value(p), dp, Knet.Adam(lr = lr, beta1 = 0.9, beta2 = 0.999))\n",
    "        end\n",
    "\n",
    "        for p in phi\n",
    "            dp = grad(derivative_model, p)\n",
    "            update!(value(p), dp, Knet.Adam(lr = lr, beta1 = 0.9, beta2 = 0.999))\n",
    "        end\n",
    "    end\n",
    "    \n",
    "    # RECORD LOSS VALUES\n",
    "    epoch_loss_trn = inner_loss(theta, phi, dtrn)\n",
    "    epoch_loss_tst = inner_loss(theta, phi, dtst)\n",
    "    epoch_rec_loss_trn = rec_loss(theta, phi, dtrn)\n",
    "    epoch_rec_loss_tst = rec_loss(theta, phi, dtst)\n",
    "    \n",
    "    push!(trn_loss_list, epoch_loss_trn)\n",
    "    push!(tst_loss_list, epoch_loss_tst)\n",
    "    push!(trn_rec_loss_list, epoch_rec_loss_trn)\n",
    "    push!(tst_rec_loss_list, epoch_rec_loss_tst)\n",
    "    \n",
    "#     println(\"Epoch : \", epoch)\n",
    "#     println(\"Train Loss : \",epoch_loss_trn)\n",
    "#     println(\"Test Loss : \", epoch_loss_tst)\n",
    "#     println(\"Train Reconstruction Loss : \", epoch_rec_loss_trn)\n",
    "#     println(\"Test Reconstruction Loss : \", epoch_rec_loss_tst)\n",
    "    \n",
    "     # Print losses to the logger file\n",
    "    if epoch % logger_checkpoint == 0\n",
    "        info(logger,\"Epoch : $epoch\")\n",
    "        info(logger,\"Train Loss : $epoch_loss_trn\")\n",
    "        info(logger,\"Test Loss : $epoch_loss_tst\")\n",
    "        info(logger,\"Train Reconstruction Loss : $epoch_rec_loss_trn\")\n",
    "        info(logger,\"Test Reconstruction Loss : $epoch_rec_loss_tst \\n\")\n",
    "    end\n",
    "    \n",
    "    # Plot some reconstruction images\n",
    "    if ((epoch - 1) % image_rec_checkpoint == 0) || (epoch == n_epochs)\n",
    "        x_test_first_hat = encode_decode(theta, phi, x_test_first)\n",
    "        plot_reconstructed_images(x_test_first, x_test_first_hat, 10, batch_size, (900,300))\n",
    "        fig_name = \"Reconstructed_Imgs_ID\" * string(1000 + epoch) \n",
    "        savefig(joinpath(\"Results\", notebook_name, \"Images\", fig_name))\n",
    "    end\n",
    "    \n",
    "    # Save model at some steps\n",
    "    if (epoch % model_save_checkpoint == 0) || (epoch == n_epochs)\n",
    "        model_id = 1000 + epoch\n",
    "        model_name = joinpath(\"Results\", notebook_name, \"Saved_Models\",\"Model_Base$model_id.jld2\")\n",
    "        w = Dict(:encoder => phi, :decoder => theta)\n",
    "        Knet.save(model_name,\"model\",w) \n",
    "        ### TO LOAD THE MODEL WEIGHTS, USE THE FOLLOWING\n",
    "        # w = Knet.load(model_name,\"model\",) # Ex: model_name = \"Results/Conv_AutoEncoder_Baseline_MNIST/Saved_Models/Model_Base1500.jld2\"\n",
    "        # theta = w[:decoder]\n",
    "        # phi = w[:encoder]\n",
    "    end\n",
    "    \n",
    "end"
   ]
  },
  {
   "cell_type": "code",
   "execution_count": 14,
   "metadata": {},
   "outputs": [],
   "source": [
    "plot_loss_convergence(trn_loss_list[2:end], tst_loss_list[2:end]; title = \"Train & Test Loss w.r.t. Epochs\")\n",
    "fig_name = \"Train_and_test_loss\"\n",
    "savefig(joinpath(\"Results\", notebook_name, fig_name))"
   ]
  },
  {
   "cell_type": "code",
   "execution_count": 15,
   "metadata": {},
   "outputs": [],
   "source": [
    "plot_loss_convergence(trn_rec_loss_list[2:end], tst_rec_loss_list[2:end]; title = \"Train & Test Reconstruction Loss w.r.t. Epochs\")\n",
    "fig_name = \"Train_and_test_reconstruction_loss\"\n",
    "savefig(joinpath(\"Results\", notebook_name, fig_name))"
   ]
  },
  {
   "cell_type": "code",
   "execution_count": 16,
   "metadata": {},
   "outputs": [
    {
     "name": "stdout",
     "output_type": "stream",
     "text": [
      "\u001b[32m[2021-12-08 20:37:10 | info | root]: Training is done!\u001b[39m\n",
      "\u001b[32m[2021-12-08 20:37:10 | info | root]: We will report the last loss values for both training and test sets.\u001b[39m\n",
      "\n",
      "\u001b[32m[2021-12-08 20:37:16 | info | root]: Train Loss : 0.00075427623\u001b[39m\n",
      "\u001b[32m[2021-12-08 20:37:16 | info | root]: Test Loss : 0.0009518154\u001b[39m\n",
      "\u001b[32m[2021-12-08 20:37:16 | info | root]: Train Reconstruction Loss : 0.772598\u001b[39m\n",
      "\u001b[32m[2021-12-08 20:37:16 | info | root]: Test Reconstruction Loss : 0.97465897 \u001b[39m\n",
      "\n"
     ]
    }
   ],
   "source": [
    "info(logger, \"Training is done!\")\n",
    "info(logger, \"We will report the last loss values for both training and test sets.\\n\")\n",
    "\n",
    "epoch_loss_trn = inner_loss(theta, phi, dtrn)\n",
    "epoch_loss_tst = inner_loss(theta, phi, dtst)\n",
    "epoch_rec_loss_trn = rec_loss(theta, phi, dtrn)\n",
    "epoch_rec_loss_tst = rec_loss(theta, phi, dtst)\n",
    "\n",
    "info(logger,\"Train Loss : $epoch_loss_trn\")\n",
    "info(logger,\"Test Loss : $epoch_loss_tst\")\n",
    "info(logger,\"Train Reconstruction Loss : $epoch_rec_loss_trn\")\n",
    "info(logger,\"Test Reconstruction Loss : $epoch_rec_loss_tst \\n\")"
   ]
  },
  {
   "cell_type": "code",
   "execution_count": 17,
   "metadata": {},
   "outputs": [],
   "source": [
    "Knet.save(joinpath(\"Results\", notebook_name,\"trn_loss_list.jld2\"),\"trn_loss_list\",trn_loss_list) \n",
    "Knet.save(joinpath(\"Results\", notebook_name,\"tst_loss_list.jld2\"),\"tst_loss_list\",tst_loss_list) \n",
    "Knet.save(joinpath(\"Results\", notebook_name,\"trn_rec_loss_list.jld2\"),\"trn_rec_loss_list\",trn_rec_loss_list) \n",
    "Knet.save(joinpath(\"Results\", notebook_name,\"tst_rec_loss_list.jld2\"),\"tst_rec_loss_list\",tst_rec_loss_list) "
   ]
  }
 ],
 "metadata": {
  "kernelspec": {
   "display_name": "Julia 1.6.3",
   "language": "julia",
   "name": "julia-1.6"
  },
  "language_info": {
   "file_extension": ".jl",
   "mimetype": "application/julia",
   "name": "julia",
   "version": "1.6.3"
  }
 },
 "nbformat": 4,
 "nbformat_minor": 2
}
