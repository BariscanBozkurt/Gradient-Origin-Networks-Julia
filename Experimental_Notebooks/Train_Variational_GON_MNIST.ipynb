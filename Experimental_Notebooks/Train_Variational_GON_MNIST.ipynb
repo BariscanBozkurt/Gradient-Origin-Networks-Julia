{
 "cells": [
  {
   "cell_type": "code",
   "execution_count": 1,
   "metadata": {},
   "outputs": [
    {
     "data": {
      "text/plain": [
       "KnetArray{Float32, N} where N"
      ]
     },
     "execution_count": 1,
     "metadata": {},
     "output_type": "execute_result"
    }
   ],
   "source": [
    "# Set display width, load packages, import symbols\n",
    "ENV[\"COLUMNS\"]=72\n",
    "using Distributions\n",
    "using Interpolations\n",
    "using Knet: Knet, dir, accuracy, progress, sgd, load143, save, gc, Param, KnetArray, Data, minibatch, nll, relu, training, dropout,sigm # param, param0, xavier_uniform\n",
    "using Knet\n",
    "using Images\n",
    "using Plots\n",
    "using LinearAlgebra\n",
    "using IterTools: ncycle, takenth\n",
    "using MLDatasets\n",
    "using Base.Iterators: flatten\n",
    "import CUDA # functional\n",
    "using ImageTransformations\n",
    "using Statistics\n",
    "using Memento\n",
    "using NPZ\n",
    "# using Interpolations\n",
    "atype=(CUDA.functional() ? KnetArray{Float32} : Array{Float32})\n",
    "# Atype = CuArray{Float32}"
   ]
  },
  {
   "cell_type": "code",
   "execution_count": 2,
   "metadata": {},
   "outputs": [
    {
     "data": {
      "text/plain": [
       "params (generic function with 2 methods)"
      ]
     },
     "execution_count": 2,
     "metadata": {},
     "output_type": "execute_result"
    }
   ],
   "source": [
    "const F = Float32\n",
    "params = Knet.params"
   ]
  },
  {
   "cell_type": "code",
   "execution_count": 3,
   "metadata": {},
   "outputs": [],
   "source": [
    "logger = Memento.config!(\"info\"; fmt=\"[{date} | {level} | {name}]: {msg}\");"
   ]
  },
  {
   "cell_type": "code",
   "execution_count": 4,
   "metadata": {},
   "outputs": [],
   "source": [
    "include(\"PlotUtility.jl\")\n",
    "include(\"ImageUtility.jl\")\n",
    "include(\"TrainUtility.jl\")\n",
    "include(\"LayerUtility.jl\")\n",
    "include(\"LossUtility.jl\")\n",
    "\n",
    "using .PlotUtility\n",
    "using .ImageUtility\n",
    "using .TrainUtility\n",
    "using .LayerUtility\n",
    "using .LossUtility"
   ]
  },
  {
   "cell_type": "code",
   "execution_count": 5,
   "metadata": {},
   "outputs": [],
   "source": [
    "dataset_name = \"mnist\"\n",
    "notebook_name = \"Variational_GON_MNIST_w_BN\" * \"_\" * dataset_name\n",
    "\n",
    "if !isdir(\"Results\")\n",
    "   mkdir(\"Results\") \n",
    "end\n",
    "if  !isdir(joinpath(\"Results\", notebook_name))\n",
    "    mkdir(joinpath(\"Results\", notebook_name))\n",
    "end\n",
    "\n",
    "if  !isdir(joinpath(\"Results\", notebook_name, \"Saved_Models\"))\n",
    "    mkdir(joinpath(\"Results\", notebook_name, \"Saved_Models\"))\n",
    "end\n",
    "\n",
    "if  !isdir(joinpath(\"Results\", notebook_name, \"Images\"))\n",
    "    mkdir(joinpath(\"Results\", notebook_name, \"Images\"))\n",
    "end\n",
    "\n",
    "if  !isdir(joinpath(\"Results\", notebook_name, \"Logger\"))\n",
    "    mkdir(joinpath(\"Results\", notebook_name, \"Logger\"))\n",
    "end"
   ]
  },
  {
   "cell_type": "code",
   "execution_count": 6,
   "metadata": {},
   "outputs": [],
   "source": [
    "push!(logger, DefaultHandler(joinpath(\"Results\", notebook_name, \"Logger\", \"logger.log\"),DefaultFormatter(\"[{date} | {level} | {name}]: {msg}\")));"
   ]
  },
  {
   "cell_type": "code",
   "execution_count": 7,
   "metadata": {},
   "outputs": [],
   "source": [
    "use_saved_data = true\n",
    "\n",
    "if dataset_name == \"mnist\"\n",
    "    \n",
    "    if use_saved_data\n",
    "        xtrn = npzread(\"Data/MNIST_Train_Images.npy\")\n",
    "        xtrn = permutedims(xtrn, (3,4,2,1))\n",
    "        xtst = npzread(\"Data/MNIST_Test_Images.npy\")\n",
    "        xtst = permutedims(xtst, (3,4,2,1))\n",
    "\n",
    "    else\n",
    "\n",
    "        xtrn,_ = MNIST.traindata()\n",
    "        xtst,_ = MNIST.testdata()\n",
    "        xtrn = Array{Float64, 3}(xtrn)\n",
    "        xtst = Array{Float64, 3}(xtst)\n",
    "\n",
    "        xtrn = resize_MNIST(xtrn, 32/28)\n",
    "        xtst = resize_MNIST(xtst, 32/28)\n",
    "        \n",
    "    end\n",
    "    \n",
    "elseif dataset_name == \"fashion\"\n",
    "    \n",
    "    if use_saved_data\n",
    "\n",
    "        xtrn = npzread(\"Data/Fashion_MNIST_Train_Images.npy\")\n",
    "        xtrn = permutedims(xtrn, (3,4,2,1))\n",
    "        xtst = npzread(\"Data/Fashion_MNIST_Test_Images.npy\")\n",
    "        xtst = permutedims(xtst, (3,4,2,1))\n",
    "        \n",
    "    else\n",
    "        \n",
    "        xtrn,_ = FashionMNIST.traindata()\n",
    "        xtst,_ = FashionMNIST.testdata()\n",
    "        xtrn = Array{Float64, 3}(xtrn)\n",
    "        xtst = Array{Float64, 3}(xtst)\n",
    "\n",
    "        xtrn = resize_MNIST(xtrn, 32/28)\n",
    "        xtst = resize_MNIST(xtst, 32/28)\n",
    "\n",
    "    end\n",
    "end\n",
    "\n",
    "batch_size = 64\n",
    "\n",
    "dtrn = minibatch(xtrn, batch_size; xsize = (32, 32, 1,:), xtype = atype, shuffle = true)\n",
    "dtst = minibatch(xtst, batch_size; xsize = (32, 32, 1,:), xtype = atype);"
   ]
  },
  {
   "cell_type": "code",
   "execution_count": 8,
   "metadata": {},
   "outputs": [
    {
     "data": {
      "text/html": [
       "<table><tbody><tr><td style='text-align:center;vertical-align:middle; margin: 0.5em;border:1px #90999f solid;border-collapse:collapse'><img style='max-width: 100px; max-height:100px;display:inline' src=\"data:image/png;base64,iVBORw0KGgoAAAANSUhEUgAAAIAAAACACAAAAADmVT4XAAAABGdBTUEAALGPC/xhBQAAAAFzUkdCAK7OHOkAAAAgY0hSTQAAeiYAAICEAAD6AAAAgOgAAHUwAADqYAAAOpgAABdwnLpRPAAAAxBJREFUeAHFwc9rFgQcB+Dn3fuR6RJllqkIpsJMENIiRSmxQx7Ei4G3rh2jY6e69B8EdejULRElDKU6WdBBIhQyy2m2NPs9fR0aus1tb4cdhhtu7zuj7/NEsSgWxaJYFItiUSyKRbEoFsWiWBSLYlEsikWxKBbFolgsUg9ixhosRy9G8Se2YK1pv2MILQ+KYlEsikUHlqCBXvRhKZbhSTNexCasxG84jTewF2M4ig/Q8qAoFsWiWCygiQ1Yjs3YjgGswz5zjeAKBrALt/AjvsYf5opiUSyKxTya2Ir3sQ29aKIHPeZq4yyOYBRHMIwWhjBirigWxaJYzGMKwxjDUvR50BQGcQebsQIXcQJTpk1gEuOYMlcUi2JRLObRxi0cx000sAG7MY4reAs3sAm78T1u6VwUi2JRLBZwH5/hMiaxE6vQj09wGv/gPM5jVHeiWBSLYtGBX/E3prAEQ3gWY5hEG3dwXveiWBSLYtGhcdOGMYgdOICPcA0TFieKRbEoFl0axHEM4CUcwBe4gdu4pztRLIpFsejSBL7Fe9iJN7Ef3+EUzuE+2joTxaJYFItFuIezeBvvYD9exhZ8iDMY0ZkoFsWiWCxCGyM4gb/wGl7AfqzAapxCy8KiWBSLYrFIk7iJL9HCXhzGLjyGfrxrYVEsikWxeARt3ME3uI4t2I4dGMVJXMWUh4tiUSyKxSNoYBWewhqsQgNN9KJhYVEsikWxWIRgBTbiOezGAJ5GA3dxFUNom18Ui2JRLLrQxDKswy68gj1YjSbuYxhX8APaFhbFolgUiw400IPH8TwO4SDWmjaJUfyMT3EUZ3UmikWxKBYd6MdGvIpDWIclZlzCMZzEJYzpXBSLYlEsHqIHq/E6tmET1mMlgnu4gI/xFa6ihTHdiWJRLIrFLP14BvuwFXvQjz40MYlf8DmO4TKGMY627kWxKBbFYpb1OIjDeAJ9aGEQt3ENZ3AOFzDh0USxKBbFYpa7uIgTZrTwE27jOgYx7r8RxaJYFItZhjDk/xPFolgUi2JRLIpFsSgWxaJYFPsX5dSlba33Cz0AAAAASUVORK5C\"></td><td style='text-align:center;vertical-align:middle; margin: 0.5em;border:1px #90999f solid;border-collapse:collapse'><img style='max-width: 100px; max-height:100px;display:inline' src=\"data:image/png;base64,iVBORw0KGgoAAAANSUhEUgAAAIAAAACACAAAAADmVT4XAAAABGdBTUEAALGPC/xhBQAAAAFzUkdCAK7OHOkAAAAgY0hSTQAAeiYAAICEAAD6AAAAgOgAAHUwAADqYAAAOpgAABdwnLpRPAAAAx9JREFUeAHFwU1oFgQcB+Dnff2ZH7GlNvtugeWKog8JZUSOKMgSD4p4q2uXDp2CzkHHDmFCh8CgwlvkIYU+qUAsAjWjmRlOUczQ5dLlpviuww4dtnd7t4z/80SxKBbFolgUi2JRLIpFsSgWxaJYFItiUSyKxXWwAqvRZ9JR/Iphs4tiUSyKxX/QQBeex3MYMOkb7MEus4tiUSyKxTw10YUBvIY+NNHCVqzCboyhpb0oFsWiWMxDE114Em+iFwswhotoogf9OIARtEwvikWxKBZzFPRgAK+jFwsxgfP4FJfwMnbhLbyLP0wvikWxKBZztA4vYQC3I/51C27FKfyC+/AgFmsvikWxKBZz0IN+PIM7cA1HcBj96MEwDqALfViCpvaiWBSLYtGhm7EZW7ASYxjEDlzBCEbxGQ7hGl7BA+jFWVw2VRSLYlEsOtCNddiCNRjDGezBR+jBCZzFSYzjFBq4F0/jJIZMFcWiWBSLWTSxFtvwEH7HQRzF5xjFCH4zVQPBeuzFkKmiWBSLYjGDBrrxAjZiHLvxHk4haJndctxgelEsikWxmEHwMJ7AMuzA2zju+oliUSyKxQwW4VXchmP4Did0poEmWmhoL4pFsSgWbdyI9XgMS3AIQ2jpzARamMAQLpleFItiUSzaCHrQjVHsx5DZNdGLTbiGQXyAIdOLYlEsikUbDTTRxCiGMGxmTazCZmzDOXyM/RgxvSgWxaJYdOAEzuOq9rrRhw3YgHFsxyc4h5bpRbEoFsWiAyO4or270Y9n8ThG8A52ml0Ui2JRLGbQQANrsBrHcBkNLMVNWIzN2Ip7MIj3sVNnolgUi2IxgwlMYBlexFIcwCKsxUbcj5UYxg/Yi291LopFsSgWHWjiKTyKYQR3YiGaOILv8SH24arORbEoFsWijcs4jJ/wCBajB8tNauICvsZ2HMefGDc3USyKRbFo4yqO4Q1swkbchQU4gy/wJX7EIMbMTxSLYlEs2mjhIr7CaezDCpMu4GccxV+YMH9RLIpFsZjBBP7GQRz0/4hiUSyKRbEoFsWiWBSLYlEsikWxKBbFotg/EiqeVkjSWIYAAAAASUVORK5C\"></td><td style='text-align:center;vertical-align:middle; margin: 0.5em;border:1px #90999f solid;border-collapse:collapse'><img style='max-width: 100px; max-height:100px;display:inline' src=\"data:image/png;base64,iVBORw0KGgoAAAANSUhEUgAAAIAAAACACAAAAADmVT4XAAAABGdBTUEAALGPC/xhBQAAAAFzUkdCAK7OHOkAAAAgY0hSTQAAeiYAAICEAAD6AAAAgOgAAHUwAADqYAAAOpgAABdwnLpRPAAAAnZJREFUeAHFwb1uFQQABtBz61egYFsKxICBCEETCf7EzQkHnNDJB3DyDXR38i3cTHwEB1YjGidFozGkmBI01qQQaQkV2+LAwKU/eL20+c6JsiiLsiiLsiiLsiiLsiiLsiiLsiiLsiiLsiiLsiiLPRIcw6u4iiWs2SrKoizKYpNJHMADrBjfIVzAx/gIX2LFVlEWZVEWmxzHeWzgsvEdwMuYx6qdRVmURVlschwXcB+XjWeA/TiF57EfA9uLsiiLstjkLN7EFePbhzN4F9/gOu7aXpRFWZTFJlOY9nTO4n0cxgKWsWF7URZlURZDZnEMU57OEbyGdXyHe3YWZVEWZTHkFF7EQeMLpjGHdfyCVTuLsiiLshjyAs546K7xnMDrOIoV3MKanUVZlEVZDJnBLJaxYHQTOIgZvI33EHyPO9iwsyiLsiiLbSxj3uMmMMAEnsEAA0ziEN7ARVzEOdzEp1jChp1FWZRFWWxjEtMedxKzOIlXcBQHcQlTWMdvWMd93MPPWPdkURZlURZD1vAPzuMTfOCR05hFMIlV3MTXmMcP+BWX8CFWcR0bnizKoizKYshXeBbv4Dkc8cgafsQ13MACVvAX7uA2TuEEJnALf/tvURZlURZDfscXuIY5Wy1hEbdw21Zv4RyWcdVooizKoiw2WcSi8czhMP7EFaOJsiiLstgDd3DNaKIsyqIs9sAE9hlNlEVZlMUuG+AQjhtNlEVZlMUue+ChCaOJsiiLstgDM3jJaKIsyqIsdtkAwZTRRFmURVnsokX8gVmji7Ioi7LYRT/hc5zGt0YTZVEWZbGLbuAz/0+URVmURVmURVmURVmURVmU/QsVwGKoBDA0PgAAAABJRU5ErkJg\"></td><td style='text-align:center;vertical-align:middle; margin: 0.5em;border:1px #90999f solid;border-collapse:collapse'><img style='max-width: 100px; max-height:100px;display:inline' src=\"data:image/png;base64,iVBORw0KGgoAAAANSUhEUgAAAIAAAACACAAAAADmVT4XAAAABGdBTUEAALGPC/xhBQAAAAFzUkdCAK7OHOkAAAAgY0hSTQAAeiYAAICEAAD6AAAAgOgAAHUwAADqYAAAOpgAABdwnLpRPAAAAkFJREFUeAHFwb+LlgUAB/CPL986sULu0CGJIoOKwCEKokOiH2QQ0uzS0tbW3NbU1n/g1miggxEI0Q+iwcogGhw0zCAKrqQzL+vufRsaWrSe570Hvp9PlEVZlEVZlEVZlEVZlEVZlEVZlEVZlEVZlEVZlEVZTGwVh3EfdnAeG9h2a1EWZVEWE9qHp/E6XsYNnMDHuO7WoizKoiwmdAQn8ALmmGPhv0VZlEVZTGg/1nCH4aIsyqIsJvIwjuMJ3MBXeBsX8Ifbi7Ioi7KYwGG8hpewhkt4D5/iT8zdXpRFWZTFBNbxPB7AJr7AWWz5f1EWZVEWu7QXx/Cgf1zEOXxnmCiLsiiLJc1wN45iHau4io/wieGiLMqiLJa0gsfwFg5hC5/hfVwxXJRFWZTFEmZYxXN4FMHXOI0vjRNlURZlsYSDeAVvYAXf4h2cw03jRFmURVmMdBeexZtYwx78iKvYxMI4URZlURYjPYJjOORfH+AK5saLsiiLshhhPx7Hk1hgBxfxOTYsJ8qiLMpihHUcx/3Yxg84icv4y3KiLMqiLEZ4Bi9iBdfwId7Fr5YXZVEWZTHQARzAXixwDaexiYXlRVmURVkMMMOrOIoZdvAbvsGO3YmyKIuyGOAhPIV7sY3LOIUNLOxOlEVZlMUA9+Ag9mEL53ESN7GwO1EWZVEWA8wQzDDHdfxsGlEWZVEWA/yC73EEe0wryqIsymKAn3AKl3AnLphOlEVZlMUAv+MMzphelEVZlEVZlEVZlEVZlEVZlP0NzmVe9Bifqs4AAAAASUVORK5C\"></td><td style='text-align:center;vertical-align:middle; margin: 0.5em;border:1px #90999f solid;border-collapse:collapse'><img style='max-width: 100px; max-height:100px;display:inline' src=\"data:image/png;base64,iVBORw0KGgoAAAANSUhEUgAAAIAAAACACAAAAADmVT4XAAAABGdBTUEAALGPC/xhBQAAAAFzUkdCAK7OHOkAAAAgY0hSTQAAeiYAAICEAAD6AAAAgOgAAHUwAADqYAAAOpgAABdwnLpRPAAAAs5JREFUeAHFwc9rFgQcB+Dn3ftZY200NxSCJTVJgi6GeBho/QH9LnfoEkHYoVu3/oa6dhLqqsEGdSiJIpMIRINWOopRy4KwNjLdoP1y797+gHjX+74Lvs8TxaJYFItiUSyKRbEoFsWiWBSLYlEsikWxKBbFolgUi2JRLIpFsSgWxaJYFIti0YcGgkE0MYAG7uIuGmjgLlr2FsWiWBSLPozhBJ7CcRzFEC7gczRxPy7gGlo6i2JRLIpFjx7Ec3gFD2AES2jiFB5HA5sYwyLWdRbFolgUiy4N4BCexhkcxhI+xhXs4Bk8i0msYA279hbFolgUiy49jOcxg0nM4yyu4iam0MS92MHv+AI79hbFolgUiy4cwwxOYwJfYhYfYhttnMI0xvEbPsG3aNlbFItiUSz20MQRvIoXMIpLeBcXsYUmxvEEjuA2vsJ5/O2/RbEoFsWigwaGcQYvYQiXcQ6fYQfDmMI0HsUAruAcFnQnikWxKBYdDGACpzGGq3gHn2IQ9+ERvIXHMIxvMIeLuhfFolgUiw4auAfjCM7jOqbxJE7iKCbQRBvXMI8t3YtiUSyKRQdtbGMVo3gTr2MIYxjCOu7gADZxHYto614Ui2JRLDrYxS28jTcwhTEs4RLmsYHXcAwL+AmbehPFolgUiw7aWMcHuIOD2MYKbmAZUziIQfyCP/UuikWxKBZ7aGMZ7/u3URzCJAbxI/7QuygWxaJY9KmF22ihjZ+xondRLIpFsejTFm5g1/5EsSgWxaJPI5hG7E8Ui2JRLPo0hMMYsD9RLIpFsejTOhawiwYa+hPFolgUiz5t4QfcxEM4gBFs6E0Ui2JRLPrUwl/4CC/jJBZxGWu6F8WiWBSLfdjGHE7gOG5hDV9jR3eiWBSLYrEPLXyHOcxgGr/ie6zqThSLYlEs9qGNDbyHZbyIEQxjVXeiWBSLYvE/2MAsZvUuikWxKPYPvhCMIXS75goAAAAASUVORK5C\"></td><td style='text-align:center;vertical-align:middle; margin: 0.5em;border:1px #90999f solid;border-collapse:collapse'><img style='max-width: 100px; max-height:100px;display:inline' src=\"data:image/png;base64,iVBORw0KGgoAAAANSUhEUgAAAIAAAACACAAAAADmVT4XAAAABGdBTUEAALGPC/xhBQAAAAFzUkdCAK7OHOkAAAAgY0hSTQAAeiYAAICEAAD6AAAAgOgAAHUwAADqYAAAOpgAABdwnLpRPAAAAy1JREFUeAHFwU1oFgQcB+DnffdLpTmbG0OpjMjMPkmMQos0kT69WHYo6tAHGNG5W+du1Sk6degSHgqMCClZGfahHaRDpWhh00x0ammba835dvAwpHdfVvyfJ4pFsSgWxaJYFItiUSyKRbEoFsWiWBSLYlEsikWxKBbF4j/QgWABujCKozhvelEsikWxuEQNzEUvetGNG7EUv+I9HDG9KBbFoljMUgNBJ5bhOazEMsxHA4fQhVdx3tSiWBSLYjFL3bgTT+JhdOEy/IYBdGIR1mMLDmLc5KJYFItiMUPzsB6bcBcW4wo0cAxv4Fs8is3ow0L8bGpRLIpFsZihm7ARG9CNDrRwDK9hK0awFg0EHaYXxaJYFIsZWomV6MVfGMQhbMX7OIIl6DI7USyKRbGYoUF8h0EcwQAOoB8nMY5udJudKBbFoljM0KcYxOX4CScw5GILsdDsRLEoFsVihobwtQlBH5omLMNVGMcwzqJlalEsikWxmKUmgivxBOahiRZuQR9OYje+x7ipRbEoFsViFuagD/fgGaxBA0200MQotuN1jJteFItiUSxmoANL8DQ2oA+dOI19uA3daGIMPbgdAxgztSgWxaJYTCO4GZvxEIbxMfbiAMbwCu5AJ+bgVjyPo9iDUbS0F8WiWBSLSTQwB+vxOB5AE9vwDg5jDM9iETqwD6dwNVbhZezATpzAeQzhdxOiWBSLYjGJ+ViNF7Eah/E5PsB+LMb92Iwe7MZH+AXLsQo34DqswCmcxU58YkIUi2JRLNroxAq8hHXYh3fxBYZxN+7FJpxDP7ZgJ06jBzuwCg/iPszFj9jvYlEsikWxaGMJnsIj+BPb8QOuwWqsxXIcw1vYhgGMuuA4jmMX9mAdFuAz7HCxKBbFoli0cS0eQwNNbMRG9GI+zuEI3sTbGEHLP42hH/0mF8WiWBSLNkZxCj2Yi6Uu2I8PsQtfYgAjaLl0USyKRbFoYw9ewBpcjyF8hb04iTMYxhha/p0oFsWiWLRxBt/gIBZgDMfxB8bR8t+JYlEsikUbLYzgkP9fFItiUSyKRbEoFsWiWBSLYlEsikWxKBbFolgUi2JR7G9yo6QKpKkAYAAAAABJRU5ErkJg\"></td><td style='text-align:center;vertical-align:middle; margin: 0.5em;border:1px #90999f solid;border-collapse:collapse'><img style='max-width: 100px; max-height:100px;display:inline' src=\"data:image/png;base64,iVBORw0KGgoAAAANSUhEUgAAAIAAAACACAAAAADmVT4XAAAABGdBTUEAALGPC/xhBQAAAAFzUkdCAK7OHOkAAAAgY0hSTQAAeiYAAICEAAD6AAAAgOgAAHUwAADqYAAAOpgAABdwnLpRPAAAAe5JREFUeAHFwTGrlXUAB+Dn4M+rRFGQyuValysiougk4ugWfZOWRr9HH6QhwsXFchEXwSFtKEShEL2T3hu34qSn4Qyu5/++wu95oizKoizKoizKoizKoizKoizKoizKoizKYoJTuI4LeI2f8BL/GRdlURZlMSi4hFu4iRf4FvdwYFyURVmUxaCT+BKXscAOzuIkDoyLsiiLshj0L/7AE5wxX5RFWZTFoCXeYN+HEWVRFmUxaAunsOvDiLIoi7IYFHyGbe/tYgd/4ciYKIuyKItBS+zjd5yz9jVe4Q2eGRNlURZlMWiJ3/AjvrJ2FZfws3FRFmVRFhPs4wEWWJknyqIsymKiBRZYmCfKoizKYqIV3mFlniiLsiiLsiiLsiiLsiiLsiiLiRZYeG8XnxsXZVEWZTHRytrK2lVcxkMc2FyURVmUxUT/4DEu4hi2cQ338cjmoizKoiwmOsRdnMcxa3vYwyObi7Ioi7KY6AiP8Te2sMDH+BTHsbSZKIuyKIuJXuN7fIMrOIFruIk7eGkzURZlURYzvMVTXMCWtZUxURZlURYzLPEDbuAT00RZlEVZzPAWv+A5TuMj46IsyqIsZniHP/EdvsAWfsWhzUVZlEVZzLDCIW6bLsqiLMqiLMqiLMqiLMqiLMqiLMqiLMr+BynSRObXHdPfAAAAAElFTkSuQmCC\"></td><td style='text-align:center;vertical-align:middle; margin: 0.5em;border:1px #90999f solid;border-collapse:collapse'><img style='max-width: 100px; max-height:100px;display:inline' src=\"data:image/png;base64,iVBORw0KGgoAAAANSUhEUgAAAIAAAACACAAAAADmVT4XAAAABGdBTUEAALGPC/xhBQAAAAFzUkdCAK7OHOkAAAAgY0hSTQAAeiYAAICEAAD6AAAAgOgAAHUwAADqYAAAOpgAABdwnLpRPAAAAxxJREFUeAHFwcuL1QUcB9Bz535m1GYGNDPw0cOKsiRDKGgIFJISysCF7QOhTbRrVbTpb2hXu7auCoKIUIIEeyCJEdpkD1NHMW3yMeO8bou7uAxzR3+DxPecKBbFolgUi2JRLIpFsSgWxaJYFItiUSyKRbEoFsWiWBSLFRrEagTr8SQGLDWLiziBWcuLYlEsikVDQxjBA9iCUTyLtzBkqev4Gu9iHNPoWCqKRbEoFg09iJewDzswiPvQQsdSw9iD9/EBTmHWUlEsikWxaGg/3sCjaKPlzobwGj7FOVy1VBSLYlEsGvodVzGIGZzHYbTQ0bUJ27FFzyDaaOkvikWxKBYNHcU1bMEcJnEKLXR0rcUBHMQI5nEcp3BDf1EsikWxaOgCrmAQHcxjymIPYRotXfM4jQnM6C+KRbEoFg11MI1p/W3GC9iJ1brmcAST6OgvikWxKBZ3YQAb8TDGsAs70MY8/sYX+NfyolgUi2LRUDCCUazSNYRX8DoexzBauIm/8B1uomN5USyKRbFoYACbsRt78JiuNnairWcaP+BDfINJLFheFItiUSwa2Ir3sBfrMKCrhaCj5yKO4DPMYcHtRbEoFsWigQGswTBWWWwAC3o24Xlsx3F3FsWiWBSLBi7gY/yKe3AWc7pa6OAZ7MZWjGJYM1EsikWxaOA6juIPBFcwb7FvsQ5brUwUi2JRLBqawrjljeCGlYtiUSyKxW20sR6TmEFHfxuxF09YuSgWxaJY9BGMYiN24XOcx5yeFtoYwX68iafQwQI6moliUSyKRR/34mUcxBjO4Rqm9AT3YzfexiNo4SYmMaWZKBbFolj0sQ3vYBuCA3gOc3pGMIansQZtnMGXOIQfNRPFolgUiz7aWI3oehWz6OgZwDDWYBIn8Am+wmXMayaKRbEoFn2cwUfYhzGstdg0ruICxnEY3+MnXMaC5qJYFIti0ccEDmEcZ/EiNuASfsHPOIl/cBGncQkzVi6KRbEoFn3cwp+YwAROYgMuYhzj+A033L0oFsWiWCyjg1s4hmP+P1EsikWxKBbFolgUi2JRLIpFsf8A62qeJvNzciAAAAAASUVORK5C\"></td><td style='text-align:center;vertical-align:middle; margin: 0.5em;border:1px #90999f solid;border-collapse:collapse'><img style='max-width: 100px; max-height:100px;display:inline' src=\"data:image/png;base64,iVBORw0KGgoAAAANSUhEUgAAAIAAAACACAAAAADmVT4XAAAABGdBTUEAALGPC/xhBQAAAAFzUkdCAK7OHOkAAAAgY0hSTQAAeiYAAICEAAD6AAAAgOgAAHUwAADqYAAAOpgAABdwnLpRPAAAAb9JREFUeAHFwTtqVVEABdCVZJuoJGAk/lAURLG2UOycggOwdUaOwMbKiaQQYuGnUATBRiH45ZnwEsdwz32w14qyKIuyKIuyKIuyKIuyKIuyKIuyKIuyKIuyKIuyKIsBawh2cRcH+G1MlEVZlMWAdezhCZ7iGd7jxHRRFmVRFgM2cA/P8R1X8AkL00VZlEVZzLCGPVzCFhami7Ioi7KYaR1rxkVZlEVZzHSKM1g3JsqiLMpiBa7hPA5NF2VRFmUxaIkjbOIWto2JsiiLshiwxB98xU1cwKYxURZlURYDljjEB1w3T5RFWZTFCqwZF2VRFmWxAjvYNCbKoizKYgUeYM+YKIuyKItBC7zFY2wjxkRZlEVZDPqHjzjBOnZwFgvTRFmURVkMOsFPnGID29jCwjRRFmVRFoOO8BW/cBE3sIsfpomyKIuyGPQX+3iHh7iDy/hsmiiLsiiLGZbYx228wmvTRVmURVmswCmOsTRdlEVZlMUKnMN9HOCLaaIsyqIsZtjAI5zHXxybLsqiLMpipgW+4TsWpouyKIuymOEIL3AVb7AwXZRFWZTFDEd4aZ4oi7Ioi7Ioi7Ioi7Ioi7Io+w8iqzuWllKOVQAAAABJRU5ErkJg\"></td><td style='text-align:center;vertical-align:middle; margin: 0.5em;border:1px #90999f solid;border-collapse:collapse'><img style='max-width: 100px; max-height:100px;display:inline' src=\"data:image/png;base64,iVBORw0KGgoAAAANSUhEUgAAAIAAAACACAAAAADmVT4XAAAABGdBTUEAALGPC/xhBQAAAAFzUkdCAK7OHOkAAAAgY0hSTQAAeiYAAICEAAD6AAAAgOgAAHUwAADqYAAAOpgAABdwnLpRPAAAAtVJREFUeAHFwU1oFgQcB+Bn22/TYTZDlohFsEZmlgXRiKGwkgXRpSIadfHUrQ9vUbeOXaVDUIc8eCkpCioPGYRpUlQkRAXOQPvENtuSNrc2O+wwZL7tfafr/zxRLIpFsSgWxaJYFItiUSyKRbEoFsWiWBSLYvE/2I0N+AYnXSqKRbEoFquoA1vxLNZhH066VBSLYlEsVkknbsReDOAY/rRUFItiUSxWyfXYixFcxLf4xVJRLIpFsVgla3En1uAEDuOUpaJYFItisQI9GMCDeBlnMW/RJuzGzfgNr+N7zFsqikWxKBYrcAuew604iElMWXQTHsd67MNhjLu8KBbFoliswHpsRS82osOia9CPHWjHKMYw6/KiWBSLYtGizbgd3RjHOOYs6EAf7kU3fsWPmNFYFItiUSxa0Im78TC6cAijmLHgBjyAIYzhAL7ElMaiWBSLYtGkLvRhCNvxA17BWcyhBw/hSWzBIbxkeVEsikWxaEIn+vE0HsME3sd3mEcbhjGC2/A13tScKBbFolgsIxjG8xhAF9qwC+exH2sxiD6M4iA+0JwoFsWiWPyHTtyPF3AXuvAXZjGI7diJ67AN6/A29mNWc6JYFIti0cA6DOJF3IF5vItP0YtH0YdhdGEN5rELe/AGxiwvikWxKBYNbMAj6McnOI4jGMUmXMAebEEHLqIdG9GLC5oTxaJYFIsG2hEcwEf4AucsmMIJzFpwFD9hBj/jY5zXnCgWxaJYNDCBd/AV/sCcBe3oQT82Ywqv4XP8jWlMal4Ui2JRLBqYxIeWuhY7cB/a8RmO4pSViWJRLIpFC9qwDU9gCKN4BmesXBSLYlEsWtCDe7AT43gLZzBr5aJYFIti0YIRPIV5vIdXMe3KRLEoFsWiBecwgX9wBL+7clEsikWxaMFxTKMbx1wdUSyKRbFowWmcdnVFsSgWxaJYFItiUSyKRbEoFsWiWBSLYlHsX0wwgMhGwZr2AAAAAElFTkSuQmCC\"></td></tr></tbody></table><div><small>(a vector displayed as a row to save space)</small></div>"
      ],
      "text/plain": [
       "10-element Vector{Matrix{Gray{Float32}}}:\n",
       " [Gray{Float32}(0.0f0) Gray{Float32}(0.0f0) … Gray{Float32}(0.0f0) Gray{Float32}(0.0f0); Gray{Float32}(0.0f0) Gray{Float32}(0.0f0) … Gray{Float32}(0.0f0) Gray{Float32}(0.0f0); … ; Gray{Float32}(0.0f0) Gray{Float32}(0.0f0) … Gray{Float32}(0.0f0) Gray{Float32}(0.0f0); Gray{Float32}(0.0f0) Gray{Float32}(0.0f0) … Gray{Float32}(0.0f0) Gray{Float32}(0.0f0)]\n",
       " [Gray{Float32}(0.0f0) Gray{Float32}(0.0f0) … Gray{Float32}(0.0f0) Gray{Float32}(0.0f0); Gray{Float32}(0.0f0) Gray{Float32}(0.0f0) … Gray{Float32}(0.0f0) Gray{Float32}(0.0f0); … ; Gray{Float32}(0.0f0) Gray{Float32}(0.0f0) … Gray{Float32}(0.0f0) Gray{Float32}(0.0f0); Gray{Float32}(0.0f0) Gray{Float32}(0.0f0) … Gray{Float32}(0.0f0) Gray{Float32}(0.0f0)]\n",
       " [Gray{Float32}(0.0f0) Gray{Float32}(0.0f0) … Gray{Float32}(0.0f0) Gray{Float32}(0.0f0); Gray{Float32}(0.0f0) Gray{Float32}(0.0f0) … Gray{Float32}(0.0f0) Gray{Float32}(0.0f0); … ; Gray{Float32}(0.0f0) Gray{Float32}(0.0f0) … Gray{Float32}(0.0f0) Gray{Float32}(0.0f0); Gray{Float32}(0.0f0) Gray{Float32}(0.0f0) … Gray{Float32}(0.0f0) Gray{Float32}(0.0f0)]\n",
       " [Gray{Float32}(0.0f0) Gray{Float32}(0.0f0) … Gray{Float32}(0.0f0) Gray{Float32}(0.0f0); Gray{Float32}(0.0f0) Gray{Float32}(0.0f0) … Gray{Float32}(0.0f0) Gray{Float32}(0.0f0); … ; Gray{Float32}(0.0f0) Gray{Float32}(0.0f0) … Gray{Float32}(0.0f0) Gray{Float32}(0.0f0); Gray{Float32}(0.0f0) Gray{Float32}(0.0f0) … Gray{Float32}(0.0f0) Gray{Float32}(0.0f0)]\n",
       " [Gray{Float32}(0.0f0) Gray{Float32}(0.0f0) … Gray{Float32}(0.0f0) Gray{Float32}(0.0f0); Gray{Float32}(0.0f0) Gray{Float32}(0.0f0) … Gray{Float32}(0.0f0) Gray{Float32}(0.0f0); … ; Gray{Float32}(0.0f0) Gray{Float32}(0.0f0) … Gray{Float32}(0.0f0) Gray{Float32}(0.0f0); Gray{Float32}(0.0f0) Gray{Float32}(0.0f0) … Gray{Float32}(0.0f0) Gray{Float32}(0.0f0)]\n",
       " [Gray{Float32}(0.0f0) Gray{Float32}(0.0f0) … Gray{Float32}(0.0f0) Gray{Float32}(0.0f0); Gray{Float32}(0.0f0) Gray{Float32}(0.0f0) … Gray{Float32}(0.0f0) Gray{Float32}(0.0f0); … ; Gray{Float32}(0.0f0) Gray{Float32}(0.0f0) … Gray{Float32}(0.0f0) Gray{Float32}(0.0f0); Gray{Float32}(0.0f0) Gray{Float32}(0.0f0) … Gray{Float32}(0.0f0) Gray{Float32}(0.0f0)]\n",
       " [Gray{Float32}(0.0f0) Gray{Float32}(0.0f0) … Gray{Float32}(0.0f0) Gray{Float32}(0.0f0); Gray{Float32}(0.0f0) Gray{Float32}(0.0f0) … Gray{Float32}(0.0f0) Gray{Float32}(0.0f0); … ; Gray{Float32}(0.0f0) Gray{Float32}(0.0f0) … Gray{Float32}(0.0f0) Gray{Float32}(0.0f0); Gray{Float32}(0.0f0) Gray{Float32}(0.0f0) … Gray{Float32}(0.0f0) Gray{Float32}(0.0f0)]\n",
       " [Gray{Float32}(0.0f0) Gray{Float32}(0.0f0) … Gray{Float32}(0.0f0) Gray{Float32}(0.0f0); Gray{Float32}(0.0f0) Gray{Float32}(0.0f0) … Gray{Float32}(0.0f0) Gray{Float32}(0.0f0); … ; Gray{Float32}(0.0f0) Gray{Float32}(0.0f0) … Gray{Float32}(0.0f0) Gray{Float32}(0.0f0); Gray{Float32}(0.0f0) Gray{Float32}(0.0f0) … Gray{Float32}(0.0f0) Gray{Float32}(0.0f0)]\n",
       " [Gray{Float32}(0.0f0) Gray{Float32}(0.0f0) … Gray{Float32}(0.0f0) Gray{Float32}(0.0f0); Gray{Float32}(0.0f0) Gray{Float32}(0.0f0) … Gray{Float32}(0.0f0) Gray{Float32}(0.0f0); … ; Gray{Float32}(0.0f0) Gray{Float32}(0.0f0) … Gray{Float32}(0.0f0) Gray{Float32}(0.0f0); Gray{Float32}(0.0f0) Gray{Float32}(0.0f0) … Gray{Float32}(0.0f0) Gray{Float32}(0.0f0)]\n",
       " [Gray{Float32}(0.0f0) Gray{Float32}(0.0f0) … Gray{Float32}(0.0f0) Gray{Float32}(0.0f0); Gray{Float32}(0.0f0) Gray{Float32}(0.0f0) … Gray{Float32}(0.0f0) Gray{Float32}(0.0f0); … ; Gray{Float32}(0.0f0) Gray{Float32}(0.0f0) … Gray{Float32}(0.0f0) Gray{Float32}(0.0f0); Gray{Float32}(0.0f0) Gray{Float32}(0.0f0) … Gray{Float32}(0.0f0) Gray{Float32}(0.0f0)]"
      ]
     },
     "execution_count": 8,
     "metadata": {},
     "output_type": "execute_result"
    }
   ],
   "source": [
    "k = 1:10\n",
    "if use_saved_data\n",
    "    [Matrix{Gray{Float32}}(reshape(xtrn[:,:,:,j], (32, 32))) for j in k]\n",
    "else\n",
    "    [Matrix{Gray{Float32}}(reshape(xtrn[:,:,j], (32, 32))) for j in k]\n",
    "end"
   ]
  },
  {
   "cell_type": "code",
   "execution_count": 9,
   "metadata": {},
   "outputs": [
    {
     "data": {
      "text/plain": [
       "weights (generic function with 1 method)"
      ]
     },
     "execution_count": 9,
     "metadata": {},
     "output_type": "execute_result"
    }
   ],
   "source": [
    "function weights(nz, ngf) \n",
    "    \n",
    "    # Decoding Weights\n",
    "    theta = [] # z -> x\n",
    "\n",
    "    w, b = linlayer_weight_init(nz, nz;bias = true, return_param = false)\n",
    "    push!(theta, w)\n",
    "    push!(theta, b)\n",
    "    \n",
    "    w, b = linlayer_weight_init(nz, nz;bias = true, return_param = false)\n",
    "    push!(theta, w)\n",
    "    push!(theta, b)\n",
    "    \n",
    "    w, b = deconv_weight_init(4, 4, nz, ngf * 4;bias = true, return_param = false)\n",
    "    push!(theta, w)\n",
    "    push!(theta, b)\n",
    "    push!(theta, (bnparams(ngf * 4))) # Batch Normalization\n",
    "    \n",
    "    w, b = deconv_weight_init(4, 4, ngf * 4, ngf * 2;bias= true, return_param = false)\n",
    "    push!(theta, w)\n",
    "    push!(theta, b)\n",
    "    push!(theta, (bnparams(ngf * 2)))\n",
    "    \n",
    "    w, b = deconv_weight_init(4, 4, ngf * 2, ngf;bias = true, return_param = false)\n",
    "    push!(theta, w)\n",
    "    push!(theta, b)\n",
    "    push!(theta, (bnparams(ngf)))\n",
    "    \n",
    "    w,b = deconv_weight_init(4,4,ngf, 1;bias = true, return_param = false)\n",
    "    push!(theta, w)\n",
    "    push!(theta, b)\n",
    "    \n",
    "    theta = map(a->convert(atype,a), theta)\n",
    "#     theta = map(a->convert(Param,a), theta)\n",
    "    \n",
    "    return Param.(theta)\n",
    "end"
   ]
  },
  {
   "cell_type": "code",
   "execution_count": 10,
   "metadata": {},
   "outputs": [
    {
     "data": {
      "text/plain": [
       "GONsample (generic function with 1 method)"
      ]
     },
     "execution_count": 10,
     "metadata": {},
     "output_type": "execute_result"
    }
   ],
   "source": [
    "## THE FOLLOWING FUNCTION IS ADDED TO THE MODULE LayerUtility.jl\n",
    "\n",
    "# function mybatchnorm(x, moments, bparam; training = true)\n",
    "#     bparam_dim =  size(bparam,1)\n",
    "#     g = reshape(bparam[1:bparam_dim/2], (1,1,Int(bparam_dim/2), 1))\n",
    "#     b = reshape(bparam[bparam_dim/2 + 1 : bparam_dim], (1,1,Int(bparam_dim/2), 1))\n",
    "#     return g.* batchnorm(x, moments; training = training) .+ b\n",
    "# end\n",
    "\n",
    "function reparametrize(mu, logvar)\n",
    "    \n",
    "    std = exp.(0.5 .* logvar)\n",
    "    epsilon = convert(atype, randn(F, size(mu)))\n",
    "    z = mu .+ epsilon .* std\n",
    "    \n",
    "    return z\n",
    "end\n",
    "\n",
    "moments1 = bnmoments()\n",
    "moments2 = bnmoments()\n",
    "moments3 = bnmoments()\n",
    "\n",
    "function decode(theta, z; batch_size = 64, training = true)\n",
    "    \n",
    "    mu = theta[1] * z .+ theta[2]\n",
    "    logvar = theta[3] * z .+ theta[4]\n",
    "    \n",
    "    z = reparametrize(mu, logvar)\n",
    "    \n",
    "    z = reshape(z, (1, 1, nz, batch_size))\n",
    "    z = deconv4(theta[5], z, mode = 1) .+ theta[6]\n",
    "    z = mybatchnorm(z, moments1, theta[7]; training = training)\n",
    "    z = Knet.elu.(z)\n",
    "    \n",
    "    z = deconv4(theta[8], z, stride = 2, padding = 1, mode = 1) .+ theta[9]\n",
    "    z = mybatchnorm(z, moments2, theta[10]; training = training)\n",
    "    z = Knet.elu.(z)\n",
    "    \n",
    "    z = deconv4(theta[11], z, stride = 2, padding = 1, mode = 1) .+ theta[12]\n",
    "    z = mybatchnorm(z, moments3, theta[13]; training = training)\n",
    "    z = Knet.elu.(z)\n",
    "    \n",
    "    z = deconv4(theta[14], z, stride = 2, padding = 1, mode = 1) .+ theta[15]\n",
    "    x_hat = Knet.sigm.(z)\n",
    "\n",
    "    return x_hat, mu, logvar\n",
    "end\n",
    "\n",
    "function GONsample(theta, nz, batch_size; training = true)\n",
    "\n",
    "    z = atype(randn(1,1, nz, batch_size))\n",
    "    \n",
    "    z = deconv4(theta[5], z, mode = 1) .+ theta[6]\n",
    "    z = mybatchnorm(z, moments1, theta[7]; training = training)\n",
    "    z = Knet.elu.(z)\n",
    "    \n",
    "    z = deconv4(theta[8], z, stride = 2, padding = 1, mode = 1) .+ theta[9]\n",
    "    z = mybatchnorm(z, moments2, theta[10]; training = training)\n",
    "    z = Knet.elu.(z)\n",
    "    \n",
    "    z = deconv4(theta[11], z, stride = 2, padding = 1, mode = 1) .+ theta[12]\n",
    "    z = mybatchnorm(z, moments3, theta[13]; training = training)\n",
    "    z = Knet.elu.(z)\n",
    "    \n",
    "    z = deconv4(theta[14], z, stride = 2, padding = 1, mode = 1) .+ theta[15]\n",
    "    x_hat = Knet.sigm.(z)\n",
    "\n",
    "    return x_hat\n",
    "end"
   ]
  },
  {
   "cell_type": "code",
   "execution_count": 11,
   "metadata": {},
   "outputs": [
    {
     "data": {
      "text/plain": [
       "rec_loss (generic function with 2 methods)"
      ]
     },
     "execution_count": 11,
     "metadata": {},
     "output_type": "execute_result"
    }
   ],
   "source": [
    "function loss(theta, x, z)\n",
    "    x_hat, mu, logvar = decode(theta, z)\n",
    "    L = BCE(x, x_hat) + KLD(mu, logvar)\n",
    "    return L\n",
    "end\n",
    "\n",
    "function decode_train(theta, x; batch_size = 64,training = true)\n",
    "    origin = Param(atype(zeros(nz, batch_size)))\n",
    "\n",
    "    derivative_origin = @diff loss(theta, x, origin)\n",
    "    dz = grad(derivative_origin, origin)\n",
    "    z = -dz\n",
    "    x_hat, mu, logvar = decode(theta, z; training = training);\n",
    "    return x_hat, mu, logvar\n",
    "end\n",
    "\n",
    "function loss_train(theta, x)\n",
    "    x_hat, mu, logvar = decode_train(theta, x; batch_size = size(x,4))\n",
    "    L = BCE(x, x_hat) + KLD(mu, logvar)\n",
    "    return L\n",
    "end\n",
    "\n",
    "function loss_train(theta, d::Data)\n",
    "    total_loss = 0\n",
    "    n_instance = 0\n",
    "    for x in d\n",
    "        total_loss += loss_train(theta, x) * size(x,4)\n",
    "        n_instance += size(x,4)\n",
    "    end\n",
    "\n",
    "    total_loss /= n_instance\n",
    "end\n",
    "\n",
    "## Sum Squared Error Definition\n",
    "rec_loss(m, w ,x) = sum((x - m(w, x; batch_size = size(x,4))[1]).^2) / size(x,4)\n",
    "\n",
    "function rec_loss(m, w, d::Data)\n",
    "    total_loss = 0\n",
    "    n_instance = 0\n",
    "   for x in d\n",
    "        total_loss += rec_loss(m, w, x) * size(x,4)\n",
    "        n_instance += size(x,4)\n",
    "    end\n",
    "    \n",
    "    total_loss /= n_instance\n",
    "end"
   ]
  },
  {
   "cell_type": "code",
   "execution_count": 12,
   "metadata": {},
   "outputs": [
    {
     "name": "stdout",
     "output_type": "stream",
     "text": [
      "Epoch : 0\n",
      "Train Loss : 1084.020034781038\n",
      "Test Loss : 1083.06220222169\n",
      "Train Reconstruction Loss : 356.4441\n",
      "Test Reconstruction Loss : 356.3148\n",
      "\u001b[32m[2021-12-08 11:55:27 | info | root]: Epoch : 0\u001b[39m\n",
      "\u001b[32m[2021-12-08 11:55:27 | info | root]: Train Loss : 1084.020034781038\u001b[39m\n",
      "\u001b[32m[2021-12-08 11:55:27 | info | root]: Test Loss : 1083.06220222169\u001b[39m\n",
      "\u001b[32m[2021-12-08 11:55:27 | info | root]: Train Reconstruction Loss : 356.4441\u001b[39m\n",
      "\u001b[32m[2021-12-08 11:55:27 | info | root]: Test Reconstruction Loss : 356.3148 \u001b[39m\n",
      "\n"
     ]
    },
    {
     "name": "stderr",
     "output_type": "stream",
     "text": [
      "┣                    ┫ [0.50%, 5/1000, 02:45/09:11:21, 32.50s/i] "
     ]
    },
    {
     "name": "stdout",
     "output_type": "stream",
     "text": [
      "\u001b[32m[2021-12-08 11:58:46 | info | root]: Epoch : 5\u001b[39m\n",
      "\u001b[32m[2021-12-08 11:58:46 | info | root]: Train Loss : 169.7892092864567\u001b[39m\n",
      "\u001b[32m[2021-12-08 11:58:46 | info | root]: Test Loss : 173.46840562575903\u001b[39m\n",
      "\u001b[32m[2021-12-08 11:58:46 | info | root]: Train Reconstruction Loss : 17.18748\u001b[39m\n",
      "\u001b[32m[2021-12-08 11:58:46 | info | root]: Test Reconstruction Loss : 18.553438 \u001b[39m\n",
      "\n"
     ]
    },
    {
     "name": "stderr",
     "output_type": "stream",
     "text": [
      "┣▏                   ┫ [1.00%, 10/1000, 05:29/09:07:44, 32.68s/i] "
     ]
    },
    {
     "name": "stdout",
     "output_type": "stream",
     "text": [
      "\u001b[32m[2021-12-08 12:01:30 | info | root]: Epoch : 10\u001b[39m\n",
      "\u001b[32m[2021-12-08 12:01:30 | info | root]: Train Loss : 161.64510546982478\u001b[39m\n",
      "\u001b[32m[2021-12-08 12:01:30 | info | root]: Test Loss : 164.90123514028696\u001b[39m\n",
      "\u001b[32m[2021-12-08 12:01:30 | info | root]: Train Reconstruction Loss : 14.093423\u001b[39m\n",
      "\u001b[32m[2021-12-08 12:01:30 | info | root]: Test Reconstruction Loss : 15.264197 \u001b[39m\n",
      "\n"
     ]
    },
    {
     "name": "stderr",
     "output_type": "stream",
     "text": [
      "┣▎                   ┫ [1.50%, 15/1000, 08:12/09:07:00, 33.07s/i] "
     ]
    },
    {
     "name": "stdout",
     "output_type": "stream",
     "text": [
      "\u001b[32m[2021-12-08 12:04:13 | info | root]: Epoch : 15\u001b[39m\n",
      "\u001b[32m[2021-12-08 12:04:13 | info | root]: Train Loss : 158.35997167646312\u001b[39m\n",
      "\u001b[32m[2021-12-08 12:04:13 | info | root]: Test Loss : 161.23992660718088\u001b[39m\n",
      "\u001b[32m[2021-12-08 12:04:13 | info | root]: Train Reconstruction Loss : 12.757082\u001b[39m\n",
      "\u001b[32m[2021-12-08 12:04:13 | info | root]: Test Reconstruction Loss : 13.8502 \u001b[39m\n",
      "\n"
     ]
    },
    {
     "name": "stderr",
     "output_type": "stream",
     "text": [
      "┣▍                   ┫ [2.00%, 20/1000, 10:57/09:07:36, 33.19s/i] ┫ [1.90%, 19/1000, 10:24/09:07:19, 32.96s/i] "
     ]
    },
    {
     "name": "stdout",
     "output_type": "stream",
     "text": [
      "\u001b[32m[2021-12-08 12:06:58 | info | root]: Epoch : 20\u001b[39m\n",
      "\u001b[32m[2021-12-08 12:06:58 | info | root]: Train Loss : 156.09355076043812\u001b[39m\n",
      "\u001b[32m[2021-12-08 12:06:58 | info | root]: Test Loss : 158.87694234114426\u001b[39m\n",
      "\u001b[32m[2021-12-08 12:06:58 | info | root]: Train Reconstruction Loss : 11.825232\u001b[39m\n",
      "\u001b[32m[2021-12-08 12:06:58 | info | root]: Test Reconstruction Loss : 12.926547 \u001b[39m\n",
      "\n"
     ]
    },
    {
     "name": "stderr",
     "output_type": "stream",
     "text": [
      "┣▌                   ┫ [2.50%, 25/1000, 13:42/09:08:18, 33.32s/i] "
     ]
    },
    {
     "name": "stdout",
     "output_type": "stream",
     "text": [
      "\u001b[32m[2021-12-08 12:09:44 | info | root]: Epoch : 25\u001b[39m\n",
      "\u001b[32m[2021-12-08 12:09:44 | info | root]: Train Loss : 154.5980106850444\u001b[39m\n",
      "\u001b[32m[2021-12-08 12:09:44 | info | root]: Test Loss : 157.4026038830097\u001b[39m\n",
      "\u001b[32m[2021-12-08 12:09:44 | info | root]: Train Reconstruction Loss : 11.206085\u001b[39m\n",
      "\u001b[32m[2021-12-08 12:09:44 | info | root]: Test Reconstruction Loss : 12.281675 \u001b[39m\n",
      "\n"
     ]
    },
    {
     "name": "stderr",
     "output_type": "stream",
     "text": [
      "┣▌                   ┫ [3.00%, 30/1000, 16:31/09:10:45, 33.14s/i] "
     ]
    },
    {
     "name": "stdout",
     "output_type": "stream",
     "text": [
      "\u001b[32m[2021-12-08 12:12:33 | info | root]: Epoch : 30\u001b[39m\n",
      "\u001b[32m[2021-12-08 12:12:33 | info | root]: Train Loss : 154.30359315821303\u001b[39m\n",
      "\u001b[32m[2021-12-08 12:12:33 | info | root]: Test Loss : 157.16277882991693\u001b[39m\n",
      "\u001b[32m[2021-12-08 12:12:33 | info | root]: Train Reconstruction Loss : 11.065272\u001b[39m\n",
      "\u001b[32m[2021-12-08 12:12:33 | info | root]: Test Reconstruction Loss : 12.120366 \u001b[39m\n",
      "\n"
     ]
    },
    {
     "name": "stderr",
     "output_type": "stream",
     "text": [
      "┣▋                   ┫ [3.50%, 35/1000, 19:18/09:11:40, 33.68s/i] "
     ]
    },
    {
     "name": "stdout",
     "output_type": "stream",
     "text": [
      "\u001b[32m[2021-12-08 12:15:20 | info | root]: Epoch : 35\u001b[39m\n",
      "\u001b[32m[2021-12-08 12:15:20 | info | root]: Train Loss : 153.78777610835806\u001b[39m\n",
      "\u001b[32m[2021-12-08 12:15:20 | info | root]: Test Loss : 156.3503228456546\u001b[39m\n",
      "\u001b[32m[2021-12-08 12:15:20 | info | root]: Train Reconstruction Loss : 10.869592\u001b[39m\n",
      "\u001b[32m[2021-12-08 12:15:20 | info | root]: Test Reconstruction Loss : 11.862093 \u001b[39m\n",
      "\n"
     ]
    },
    {
     "name": "stderr",
     "output_type": "stream",
     "text": [
      "┣▊                   ┫ [4.00%, 40/1000, 22:07/09:12:53, 33.89s/i] "
     ]
    },
    {
     "name": "stdout",
     "output_type": "stream",
     "text": [
      "\u001b[32m[2021-12-08 12:18:09 | info | root]: Epoch : 40\u001b[39m\n",
      "\u001b[32m[2021-12-08 12:18:09 | info | root]: Train Loss : 153.13811565590515\u001b[39m\n",
      "\u001b[32m[2021-12-08 12:18:09 | info | root]: Test Loss : 155.6377846522209\u001b[39m\n",
      "\u001b[32m[2021-12-08 12:18:09 | info | root]: Train Reconstruction Loss : 10.713449\u001b[39m\n",
      "\u001b[32m[2021-12-08 12:18:09 | info | root]: Test Reconstruction Loss : 11.612808 \u001b[39m\n",
      "\n"
     ]
    },
    {
     "name": "stderr",
     "output_type": "stream",
     "text": [
      "┣▉                   ┫ [4.50%, 45/1000, 24:59/09:15:05, 34.25s/i] "
     ]
    },
    {
     "name": "stdout",
     "output_type": "stream",
     "text": [
      "\u001b[32m[2021-12-08 12:21:00 | info | root]: Epoch : 45\u001b[39m\n",
      "\u001b[32m[2021-12-08 12:21:00 | info | root]: Train Loss : 152.91577174289503\u001b[39m\n",
      "\u001b[32m[2021-12-08 12:21:00 | info | root]: Test Loss : 155.67708729474973\u001b[39m\n",
      "\u001b[32m[2021-12-08 12:21:00 | info | root]: Train Reconstruction Loss : 10.595081\u001b[39m\n",
      "\u001b[32m[2021-12-08 12:21:00 | info | root]: Test Reconstruction Loss : 11.651753 \u001b[39m\n",
      "\n"
     ]
    },
    {
     "name": "stderr",
     "output_type": "stream",
     "text": [
      "┣█                   ┫ [5.00%, 50/1000, 27:42/09:13:55, 32.37s/i] "
     ]
    },
    {
     "name": "stdout",
     "output_type": "stream",
     "text": [
      "\u001b[32m[2021-12-08 12:23:42 | info | root]: Epoch : 50\u001b[39m\n",
      "\u001b[32m[2021-12-08 12:23:42 | info | root]: Train Loss : 152.57269633770497\u001b[39m\n",
      "\u001b[32m[2021-12-08 12:23:42 | info | root]: Test Loss : 155.40451606114706\u001b[39m\n",
      "\u001b[32m[2021-12-08 12:23:42 | info | root]: Train Reconstruction Loss : 10.516458\u001b[39m\n",
      "\u001b[32m[2021-12-08 12:23:42 | info | root]: Test Reconstruction Loss : 11.564117 \u001b[39m\n",
      "\n"
     ]
    },
    {
     "name": "stderr",
     "output_type": "stream",
     "text": [
      "┣█                   ┫ [5.50%, 55/1000, 30:36/09:16:13, 32.54s/i] "
     ]
    },
    {
     "name": "stdout",
     "output_type": "stream",
     "text": [
      "\u001b[32m[2021-12-08 12:26:35 | info | root]: Epoch : 55\u001b[39m\n",
      "\u001b[32m[2021-12-08 12:26:35 | info | root]: Train Loss : 151.13921905200027\u001b[39m\n",
      "\u001b[32m[2021-12-08 12:26:35 | info | root]: Test Loss : 153.72937646278967\u001b[39m\n",
      "\u001b[32m[2021-12-08 12:26:35 | info | root]: Train Reconstruction Loss : 9.985429\u001b[39m\n",
      "\u001b[32m[2021-12-08 12:26:35 | info | root]: Test Reconstruction Loss : 10.940992 \u001b[39m\n",
      "\n"
     ]
    },
    {
     "name": "stderr",
     "output_type": "stream",
     "text": [
      "┣█▏                  ┫ [6.00%, 60/1000, 33:16/09:14:22, 32.01s/i] "
     ]
    },
    {
     "name": "stdout",
     "output_type": "stream",
     "text": [
      "\u001b[32m[2021-12-08 12:29:16 | info | root]: Epoch : 60\u001b[39m\n",
      "\u001b[32m[2021-12-08 12:29:16 | info | root]: Train Loss : 150.92191071647719\u001b[39m\n",
      "\u001b[32m[2021-12-08 12:29:16 | info | root]: Test Loss : 153.52595755992792\u001b[39m\n",
      "\u001b[32m[2021-12-08 12:29:16 | info | root]: Train Reconstruction Loss : 9.919383\u001b[39m\n",
      "\u001b[32m[2021-12-08 12:29:16 | info | root]: Test Reconstruction Loss : 10.8159075 \u001b[39m\n",
      "\n"
     ]
    },
    {
     "name": "stderr",
     "output_type": "stream",
     "text": [
      "┣█▎                  ┫ [6.50%, 65/1000, 36:00/09:13:50, 32.69s/i] "
     ]
    },
    {
     "name": "stdout",
     "output_type": "stream",
     "text": [
      "\u001b[32m[2021-12-08 12:32:00 | info | root]: Epoch : 65\u001b[39m\n",
      "\u001b[32m[2021-12-08 12:32:00 | info | root]: Train Loss : 150.80863073668587\u001b[39m\n",
      "\u001b[32m[2021-12-08 12:32:00 | info | root]: Test Loss : 153.23584233797513\u001b[39m\n",
      "\u001b[32m[2021-12-08 12:32:00 | info | root]: Train Reconstruction Loss : 9.860573\u001b[39m\n",
      "\u001b[32m[2021-12-08 12:32:00 | info | root]: Test Reconstruction Loss : 10.757342 \u001b[39m\n",
      "\n"
     ]
    },
    {
     "name": "stderr",
     "output_type": "stream",
     "text": [
      "┣█▍                  ┫ [7.00%, 70/1000, 38:41/09:12:30, 31.95s/i] "
     ]
    },
    {
     "name": "stdout",
     "output_type": "stream",
     "text": [
      "\u001b[32m[2021-12-08 12:34:41 | info | root]: Epoch : 70\u001b[39m\n",
      "\u001b[32m[2021-12-08 12:34:41 | info | root]: Train Loss : 150.6452893854587\u001b[39m\n",
      "\u001b[32m[2021-12-08 12:34:41 | info | root]: Test Loss : 153.08055959603726\u001b[39m\n",
      "\u001b[32m[2021-12-08 12:34:41 | info | root]: Train Reconstruction Loss : 9.794742\u001b[39m\n",
      "\u001b[32m[2021-12-08 12:34:41 | info | root]: Test Reconstruction Loss : 10.6543255 \u001b[39m\n",
      "\n"
     ]
    },
    {
     "name": "stderr",
     "output_type": "stream",
     "text": [
      "┣█▌                  ┫ [7.50%, 75/1000, 41:24/09:11:58, 33.04s/i] "
     ]
    },
    {
     "name": "stdout",
     "output_type": "stream",
     "text": [
      "\u001b[32m[2021-12-08 12:37:25 | info | root]: Epoch : 75\u001b[39m\n",
      "\u001b[32m[2021-12-08 12:37:25 | info | root]: Train Loss : 150.5681734522735\u001b[39m\n",
      "\u001b[32m[2021-12-08 12:37:25 | info | root]: Test Loss : 152.9294333091149\u001b[39m\n",
      "\u001b[32m[2021-12-08 12:37:25 | info | root]: Train Reconstruction Loss : 9.756597\u001b[39m\n",
      "\u001b[32m[2021-12-08 12:37:25 | info | root]: Test Reconstruction Loss : 10.612273 \u001b[39m\n",
      "\n"
     ]
    },
    {
     "name": "stderr",
     "output_type": "stream",
     "text": [
      "┣█▌                  ┫ [8.00%, 80/1000, 44:16/09:13:17, 33.75s/i] "
     ]
    },
    {
     "name": "stdout",
     "output_type": "stream",
     "text": [
      "\u001b[32m[2021-12-08 12:40:17 | info | root]: Epoch : 80\u001b[39m\n",
      "\u001b[32m[2021-12-08 12:40:17 | info | root]: Train Loss : 150.5385777342154\u001b[39m\n",
      "\u001b[32m[2021-12-08 12:40:17 | info | root]: Test Loss : 152.99248750393207\u001b[39m\n",
      "\u001b[32m[2021-12-08 12:40:17 | info | root]: Train Reconstruction Loss : 9.732509\u001b[39m\n",
      "\u001b[32m[2021-12-08 12:40:17 | info | root]: Test Reconstruction Loss : 10.619907 \u001b[39m\n",
      "\n"
     ]
    },
    {
     "name": "stderr",
     "output_type": "stream",
     "text": [
      "┣█▋                  ┫ [8.50%, 85/1000, 47:01/09:13:08, 33.08s/i] "
     ]
    },
    {
     "name": "stdout",
     "output_type": "stream",
     "text": [
      "\u001b[32m[2021-12-08 12:43:02 | info | root]: Epoch : 85\u001b[39m\n",
      "\u001b[32m[2021-12-08 12:43:02 | info | root]: Train Loss : 150.43180169112654\u001b[39m\n",
      "\u001b[32m[2021-12-08 12:43:02 | info | root]: Test Loss : 152.62324669422247\u001b[39m\n",
      "\u001b[32m[2021-12-08 12:43:02 | info | root]: Train Reconstruction Loss : 9.704291\u001b[39m\n",
      "\u001b[32m[2021-12-08 12:43:02 | info | root]: Test Reconstruction Loss : 10.519661 \u001b[39m\n",
      "\n"
     ]
    },
    {
     "name": "stderr",
     "output_type": "stream",
     "text": [
      "┣█▊                  ┫ [9.00%, 90/1000, 49:47/09:13:07, 33.28s/i] "
     ]
    },
    {
     "name": "stdout",
     "output_type": "stream",
     "text": [
      "\u001b[32m[2021-12-08 12:45:48 | info | root]: Epoch : 90\u001b[39m\n",
      "\u001b[32m[2021-12-08 12:45:48 | info | root]: Train Loss : 150.34950806364307\u001b[39m\n",
      "\u001b[32m[2021-12-08 12:45:48 | info | root]: Test Loss : 152.71958627456274\u001b[39m\n",
      "\u001b[32m[2021-12-08 12:45:48 | info | root]: Train Reconstruction Loss : 9.638042\u001b[39m\n",
      "\u001b[32m[2021-12-08 12:45:48 | info | root]: Test Reconstruction Loss : 10.540855 \u001b[39m\n",
      "\n"
     ]
    },
    {
     "name": "stderr",
     "output_type": "stream",
     "text": [
      "┣█▉                  ┫ [9.50%, 95/1000, 52:33/09:13:08, 33.26s/i] "
     ]
    },
    {
     "name": "stdout",
     "output_type": "stream",
     "text": [
      "\u001b[32m[2021-12-08 12:48:34 | info | root]: Epoch : 95\u001b[39m\n",
      "\u001b[32m[2021-12-08 12:48:34 | info | root]: Train Loss : 150.23018207163287\u001b[39m\n",
      "\u001b[32m[2021-12-08 12:48:34 | info | root]: Test Loss : 152.63165129148044\u001b[39m\n",
      "\u001b[32m[2021-12-08 12:48:34 | info | root]: Train Reconstruction Loss : 9.597102\u001b[39m\n",
      "\u001b[32m[2021-12-08 12:48:34 | info | root]: Test Reconstruction Loss : 10.44822 \u001b[39m\n",
      "\n"
     ]
    },
    {
     "name": "stderr",
     "output_type": "stream",
     "text": [
      "┣██                  ┫ [10.00%, 100/1000, 55:21/09:13:30, 33.49s/i] "
     ]
    },
    {
     "name": "stdout",
     "output_type": "stream",
     "text": [
      "\u001b[32m[2021-12-08 12:51:23 | info | root]: Epoch : 100\u001b[39m\n",
      "\u001b[32m[2021-12-08 12:51:23 | info | root]: Train Loss : 150.2372192354314\u001b[39m\n",
      "\u001b[32m[2021-12-08 12:51:23 | info | root]: Test Loss : 152.51132523707855\u001b[39m\n",
      "\u001b[32m[2021-12-08 12:51:23 | info | root]: Train Reconstruction Loss : 9.604041\u001b[39m\n",
      "\u001b[32m[2021-12-08 12:51:23 | info | root]: Test Reconstruction Loss : 10.405875 \u001b[39m\n",
      "\n"
     ]
    },
    {
     "name": "stderr",
     "output_type": "stream",
     "text": [
      "┣██                  ┫ [10.50%, 105/1000, 58:24/09:16:11, 36.36s/i] "
     ]
    },
    {
     "name": "stdout",
     "output_type": "stream",
     "text": [
      "\u001b[32m[2021-12-08 12:54:28 | info | root]: Epoch : 105\u001b[39m\n",
      "\u001b[32m[2021-12-08 12:54:28 | info | root]: Train Loss : 150.15296809624965\u001b[39m\n",
      "\u001b[32m[2021-12-08 12:54:28 | info | root]: Test Loss : 152.39859720376822\u001b[39m\n",
      "\u001b[32m[2021-12-08 12:54:28 | info | root]: Train Reconstruction Loss : 9.5812235\u001b[39m\n",
      "\u001b[32m[2021-12-08 12:54:28 | info | root]: Test Reconstruction Loss : 10.421867 \u001b[39m\n",
      "\n"
     ]
    },
    {
     "name": "stderr",
     "output_type": "stream",
     "text": [
      "┣██▏                 ┫ [11.00%, 110/1000, 01:01:27/09:18:37, 37.24s/i] "
     ]
    },
    {
     "name": "stdout",
     "output_type": "stream",
     "text": [
      "\u001b[32m[2021-12-08 12:57:32 | info | root]: Epoch : 110\u001b[39m\n",
      "\u001b[32m[2021-12-08 12:57:32 | info | root]: Train Loss : 150.1177120493723\u001b[39m\n",
      "\u001b[32m[2021-12-08 12:57:32 | info | root]: Test Loss : 152.39542710475433\u001b[39m\n",
      "\u001b[32m[2021-12-08 12:57:32 | info | root]: Train Reconstruction Loss : 9.591541\u001b[39m\n",
      "\u001b[32m[2021-12-08 12:57:32 | info | root]: Test Reconstruction Loss : 10.4472475 \u001b[39m\n",
      "\n"
     ]
    },
    {
     "name": "stderr",
     "output_type": "stream",
     "text": [
      "┣██▎                 ┫ [11.50%, 115/1000, 01:04:33/09:21:17, 37.68s/i] "
     ]
    },
    {
     "name": "stdout",
     "output_type": "stream",
     "text": [
      "\u001b[32m[2021-12-08 13:00:39 | info | root]: Epoch : 115\u001b[39m\n",
      "\u001b[32m[2021-12-08 13:00:39 | info | root]: Train Loss : 150.06230793996707\u001b[39m\n",
      "\u001b[32m[2021-12-08 13:00:39 | info | root]: Test Loss : 152.39308516184488\u001b[39m\n",
      "\u001b[32m[2021-12-08 13:00:39 | info | root]: Train Reconstruction Loss : 9.501984\u001b[39m\n",
      "\u001b[32m[2021-12-08 13:00:39 | info | root]: Test Reconstruction Loss : 10.3284 \u001b[39m\n",
      "\n"
     ]
    },
    {
     "name": "stderr",
     "output_type": "stream",
     "text": [
      "┣██▍                 ┫ [12.00%, 120/1000, 01:07:41/09:24:02, 37.86s/i] "
     ]
    },
    {
     "name": "stdout",
     "output_type": "stream",
     "text": [
      "\u001b[32m[2021-12-08 13:03:47 | info | root]: Epoch : 120\u001b[39m\n",
      "\u001b[32m[2021-12-08 13:03:47 | info | root]: Train Loss : 150.00881583255537\u001b[39m\n",
      "\u001b[32m[2021-12-08 13:03:47 | info | root]: Test Loss : 152.24341085629587\u001b[39m\n",
      "\u001b[32m[2021-12-08 13:03:47 | info | root]: Train Reconstruction Loss : 9.516402\u001b[39m\n",
      "\u001b[32m[2021-12-08 13:03:47 | info | root]: Test Reconstruction Loss : 10.356861 \u001b[39m\n",
      "\n"
     ]
    },
    {
     "name": "stderr",
     "output_type": "stream",
     "text": [
      "┣██▌                 ┫ [12.50%, 125/1000, 01:10:52/09:26:58, 38.44s/i] "
     ]
    },
    {
     "name": "stdout",
     "output_type": "stream",
     "text": [
      "\u001b[32m[2021-12-08 13:06:59 | info | root]: Epoch : 125\u001b[39m\n",
      "\u001b[32m[2021-12-08 13:06:59 | info | root]: Train Loss : 149.91328108145308\u001b[39m\n",
      "\u001b[32m[2021-12-08 13:06:59 | info | root]: Test Loss : 152.3140035042396\u001b[39m\n",
      "\u001b[32m[2021-12-08 13:06:59 | info | root]: Train Reconstruction Loss : 9.492937\u001b[39m\n",
      "\u001b[32m[2021-12-08 13:06:59 | info | root]: Test Reconstruction Loss : 10.313152 \u001b[39m\n",
      "\n"
     ]
    },
    {
     "name": "stderr",
     "output_type": "stream",
     "text": [
      "┣██▌                 ┫ [13.00%, 130/1000, 01:14:08/09:30:18, 39.31s/i] "
     ]
    },
    {
     "name": "stdout",
     "output_type": "stream",
     "text": [
      "\u001b[32m[2021-12-08 13:10:16 | info | root]: Epoch : 130\u001b[39m\n",
      "\u001b[32m[2021-12-08 13:10:16 | info | root]: Train Loss : 149.91949830721893\u001b[39m\n",
      "\u001b[32m[2021-12-08 13:10:16 | info | root]: Test Loss : 152.30922392087106\u001b[39m\n",
      "\u001b[32m[2021-12-08 13:10:16 | info | root]: Train Reconstruction Loss : 9.4938135\u001b[39m\n",
      "\u001b[32m[2021-12-08 13:10:16 | info | root]: Test Reconstruction Loss : 10.360367 \u001b[39m\n",
      "\n"
     ]
    },
    {
     "name": "stderr",
     "output_type": "stream",
     "text": [
      "┣██▋                 ┫ [13.50%, 135/1000, 01:17:31/09:34:11, 41.67s/i] "
     ]
    },
    {
     "name": "stdout",
     "output_type": "stream",
     "text": [
      "\u001b[32m[2021-12-08 13:13:41 | info | root]: Epoch : 135\u001b[39m\n",
      "\u001b[32m[2021-12-08 13:13:41 | info | root]: Train Loss : 149.88026067719517\u001b[39m\n",
      "\u001b[32m[2021-12-08 13:13:41 | info | root]: Test Loss : 152.2014246720534\u001b[39m\n",
      "\u001b[32m[2021-12-08 13:13:41 | info | root]: Train Reconstruction Loss : 9.457536\u001b[39m\n",
      "\u001b[32m[2021-12-08 13:13:41 | info | root]: Test Reconstruction Loss : 10.286464 \u001b[39m\n",
      "\n"
     ]
    },
    {
     "name": "stderr",
     "output_type": "stream",
     "text": [
      "┣██▊                 ┫ [14.00%, 140/1000, 01:21:17/09:40:37, 49.83s/i] "
     ]
    },
    {
     "name": "stdout",
     "output_type": "stream",
     "text": [
      "\u001b[32m[2021-12-08 13:17:21 | info | root]: Epoch : 140\u001b[39m\n",
      "\u001b[32m[2021-12-08 13:17:21 | info | root]: Train Loss : 149.8533411667212\u001b[39m\n",
      "\u001b[32m[2021-12-08 13:17:21 | info | root]: Test Loss : 152.17841263306445\u001b[39m\n",
      "\u001b[32m[2021-12-08 13:17:21 | info | root]: Train Reconstruction Loss : 9.461902\u001b[39m\n",
      "\u001b[32m[2021-12-08 13:17:21 | info | root]: Test Reconstruction Loss : 10.3050585 \u001b[39m\n",
      "\n"
     ]
    },
    {
     "name": "stderr",
     "output_type": "stream",
     "text": [
      "┣██▉                 ┫ [14.50%, 145/1000, 01:24:08/09:40:16, 33.40s/i] "
     ]
    },
    {
     "name": "stdout",
     "output_type": "stream",
     "text": [
      "\u001b[32m[2021-12-08 13:20:10 | info | root]: Epoch : 145\u001b[39m\n",
      "\u001b[32m[2021-12-08 13:20:10 | info | root]: Train Loss : 149.8198674730201\u001b[39m\n",
      "\u001b[32m[2021-12-08 13:20:10 | info | root]: Test Loss : 151.96580538382898\u001b[39m\n",
      "\u001b[32m[2021-12-08 13:20:10 | info | root]: Train Reconstruction Loss : 9.420014\u001b[39m\n",
      "\u001b[32m[2021-12-08 13:20:10 | info | root]: Test Reconstruction Loss : 10.240575 \u001b[39m\n",
      "\n"
     ]
    },
    {
     "name": "stderr",
     "output_type": "stream",
     "text": [
      "┣███                 ┫ [15.00%, 150/1000, 01:26:58/09:39:45, 33.66s/i] "
     ]
    },
    {
     "name": "stdout",
     "output_type": "stream",
     "text": [
      "\u001b[32m[2021-12-08 13:23:00 | info | root]: Epoch : 150\u001b[39m\n",
      "\u001b[32m[2021-12-08 13:23:00 | info | root]: Train Loss : 149.80703579221745\u001b[39m\n",
      "\u001b[32m[2021-12-08 13:23:00 | info | root]: Test Loss : 151.99078748165033\u001b[39m\n",
      "\u001b[32m[2021-12-08 13:23:00 | info | root]: Train Reconstruction Loss : 9.4020815\u001b[39m\n",
      "\u001b[32m[2021-12-08 13:23:00 | info | root]: Test Reconstruction Loss : 10.237123 \u001b[39m\n",
      "\n"
     ]
    },
    {
     "name": "stderr",
     "output_type": "stream",
     "text": [
      "┣███                 ┫ [15.50%, 155/1000, 01:29:52/09:39:46, 34.00s/i] "
     ]
    },
    {
     "name": "stdout",
     "output_type": "stream",
     "text": [
      "\u001b[32m[2021-12-08 13:25:54 | info | root]: Epoch : 155\u001b[39m\n",
      "\u001b[32m[2021-12-08 13:25:54 | info | root]: Train Loss : 149.78396797180176\u001b[39m\n",
      "\u001b[32m[2021-12-08 13:25:54 | info | root]: Test Loss : 151.95532275468875\u001b[39m\n",
      "\u001b[32m[2021-12-08 13:25:54 | info | root]: Train Reconstruction Loss : 9.4251\u001b[39m\n",
      "\u001b[32m[2021-12-08 13:25:54 | info | root]: Test Reconstruction Loss : 10.224756 \u001b[39m\n",
      "\n"
     ]
    },
    {
     "name": "stderr",
     "output_type": "stream",
     "text": [
      "┣███▏                ┫ [16.00%, 160/1000, 01:32:41/09:39:15, 33.76s/i] "
     ]
    },
    {
     "name": "stdout",
     "output_type": "stream",
     "text": [
      "\u001b[32m[2021-12-08 13:28:43 | info | root]: Epoch : 160\u001b[39m\n",
      "\u001b[32m[2021-12-08 13:28:43 | info | root]: Train Loss : 149.70654324966154\u001b[39m\n",
      "\u001b[32m[2021-12-08 13:28:43 | info | root]: Test Loss : 151.96805259508963\u001b[39m\n",
      "\u001b[32m[2021-12-08 13:28:43 | info | root]: Train Reconstruction Loss : 9.383987\u001b[39m\n",
      "\u001b[32m[2021-12-08 13:28:43 | info | root]: Test Reconstruction Loss : 10.215078 \u001b[39m\n",
      "\n"
     ]
    },
    {
     "name": "stderr",
     "output_type": "stream",
     "text": [
      "┣███▎                ┫ [16.50%, 165/1000, 01:35:30/09:38:50, 34.08s/i] "
     ]
    },
    {
     "name": "stdout",
     "output_type": "stream",
     "text": [
      "\u001b[32m[2021-12-08 13:31:32 | info | root]: Epoch : 165\u001b[39m\n",
      "\u001b[32m[2021-12-08 13:31:32 | info | root]: Train Loss : 149.71651160729732\u001b[39m\n",
      "\u001b[32m[2021-12-08 13:31:32 | info | root]: Test Loss : 151.80578214694293\u001b[39m\n",
      "\u001b[32m[2021-12-08 13:31:32 | info | root]: Train Reconstruction Loss : 9.409478\u001b[39m\n",
      "\u001b[32m[2021-12-08 13:31:32 | info | root]: Test Reconstruction Loss : 10.239673 \u001b[39m\n",
      "\n"
     ]
    },
    {
     "name": "stderr",
     "output_type": "stream",
     "text": [
      "┣███▍                ┫ [17.00%, 170/1000, 01:38:20/09:38:24, 33.54s/i] "
     ]
    },
    {
     "name": "stdout",
     "output_type": "stream",
     "text": [
      "\u001b[32m[2021-12-08 13:34:20 | info | root]: Epoch : 170\u001b[39m\n",
      "\u001b[32m[2021-12-08 13:34:20 | info | root]: Train Loss : 149.62836688356185\u001b[39m\n",
      "\u001b[32m[2021-12-08 13:34:20 | info | root]: Test Loss : 151.9538262807406\u001b[39m\n",
      "\u001b[32m[2021-12-08 13:34:20 | info | root]: Train Reconstruction Loss : 9.385945\u001b[39m\n",
      "\u001b[32m[2021-12-08 13:34:20 | info | root]: Test Reconstruction Loss : 10.205182 \u001b[39m\n",
      "\n"
     ]
    },
    {
     "name": "stderr",
     "output_type": "stream",
     "text": [
      "┣███▌                ┫ [17.50%, 175/1000, 01:41:04/09:37:30, 32.38s/i] "
     ]
    },
    {
     "name": "stdout",
     "output_type": "stream",
     "text": [
      "\u001b[32m[2021-12-08 13:37:04 | info | root]: Epoch : 175\u001b[39m\n",
      "\u001b[32m[2021-12-08 13:37:04 | info | root]: Train Loss : 149.60552084077003\u001b[39m\n",
      "\u001b[32m[2021-12-08 13:37:04 | info | root]: Test Loss : 151.81067196528116\u001b[39m\n",
      "\u001b[32m[2021-12-08 13:37:04 | info | root]: Train Reconstruction Loss : 9.369628\u001b[39m\n",
      "\u001b[32m[2021-12-08 13:37:04 | info | root]: Test Reconstruction Loss : 10.216365 \u001b[39m\n",
      "\n"
     ]
    },
    {
     "name": "stderr",
     "output_type": "stream",
     "text": [
      "┣███▌                ┫ [18.00%, 180/1000, 01:43:48/09:36:40, 33.11s/i] "
     ]
    },
    {
     "name": "stdout",
     "output_type": "stream",
     "text": [
      "\u001b[32m[2021-12-08 13:39:50 | info | root]: Epoch : 180\u001b[39m\n",
      "\u001b[32m[2021-12-08 13:39:50 | info | root]: Train Loss : 149.5954563096086\u001b[39m\n",
      "\u001b[32m[2021-12-08 13:39:50 | info | root]: Test Loss : 151.81751014024783\u001b[39m\n",
      "\u001b[32m[2021-12-08 13:39:50 | info | root]: Train Reconstruction Loss : 9.337903\u001b[39m\n",
      "\u001b[32m[2021-12-08 13:39:50 | info | root]: Test Reconstruction Loss : 10.178269 \u001b[39m\n",
      "\n"
     ]
    },
    {
     "name": "stderr",
     "output_type": "stream",
     "text": [
      "┣███▋                ┫ [18.50%, 185/1000, 01:46:37/09:36:16, 33.25s/i] "
     ]
    },
    {
     "name": "stdout",
     "output_type": "stream",
     "text": [
      "\u001b[32m[2021-12-08 13:42:36 | info | root]: Epoch : 185\u001b[39m\n",
      "\u001b[32m[2021-12-08 13:42:36 | info | root]: Train Loss : 149.5563828825569\u001b[39m\n",
      "\u001b[32m[2021-12-08 13:42:36 | info | root]: Test Loss : 151.776343920292\u001b[39m\n",
      "\u001b[32m[2021-12-08 13:42:36 | info | root]: Train Reconstruction Loss : 9.330433\u001b[39m\n",
      "\u001b[32m[2021-12-08 13:42:36 | info | root]: Test Reconstruction Loss : 10.146519 \u001b[39m\n",
      "\n"
     ]
    },
    {
     "name": "stderr",
     "output_type": "stream",
     "text": [
      "┣███▊                ┫ [19.00%, 190/1000, 01:49:19/09:35:20, 33.62s/i] "
     ]
    },
    {
     "name": "stdout",
     "output_type": "stream",
     "text": [
      "\u001b[32m[2021-12-08 13:45:21 | info | root]: Epoch : 190\u001b[39m\n",
      "\u001b[32m[2021-12-08 13:45:21 | info | root]: Train Loss : 149.56612822900078\u001b[39m\n",
      "\u001b[32m[2021-12-08 13:45:21 | info | root]: Test Loss : 151.8818653180049\u001b[39m\n",
      "\u001b[32m[2021-12-08 13:45:21 | info | root]: Train Reconstruction Loss : 9.351915\u001b[39m\n",
      "\u001b[32m[2021-12-08 13:45:21 | info | root]: Test Reconstruction Loss : 10.155482 \u001b[39m\n",
      "\n"
     ]
    },
    {
     "name": "stderr",
     "output_type": "stream",
     "text": [
      "┣███▉                ┫ [19.50%, 195/1000, 01:52:05/09:34:48, 34.66s/i] "
     ]
    },
    {
     "name": "stdout",
     "output_type": "stream",
     "text": [
      "\u001b[32m[2021-12-08 13:48:07 | info | root]: Epoch : 195\u001b[39m\n",
      "\u001b[32m[2021-12-08 13:48:07 | info | root]: Train Loss : 149.4941332989085\u001b[39m\n",
      "\u001b[32m[2021-12-08 13:48:07 | info | root]: Test Loss : 151.68972953160605\u001b[39m\n",
      "\u001b[32m[2021-12-08 13:48:07 | info | root]: Train Reconstruction Loss : 9.314303\u001b[39m\n",
      "\u001b[32m[2021-12-08 13:48:07 | info | root]: Test Reconstruction Loss : 10.124465 \u001b[39m\n",
      "\n"
     ]
    },
    {
     "name": "stderr",
     "output_type": "stream",
     "text": [
      "┣████                ┫ [20.00%, 200/1000, 01:54:53/09:34:26, 34.30s/i] "
     ]
    },
    {
     "name": "stdout",
     "output_type": "stream",
     "text": [
      "\u001b[32m[2021-12-08 13:50:55 | info | root]: Epoch : 200\u001b[39m\n",
      "\u001b[32m[2021-12-08 13:50:55 | info | root]: Train Loss : 149.48971678327726\u001b[39m\n",
      "\u001b[32m[2021-12-08 13:50:55 | info | root]: Test Loss : 151.6276533542535\u001b[39m\n",
      "\u001b[32m[2021-12-08 13:50:55 | info | root]: Train Reconstruction Loss : 9.302243\u001b[39m\n",
      "\u001b[32m[2021-12-08 13:50:55 | info | root]: Test Reconstruction Loss : 10.131038 \u001b[39m\n",
      "\n"
     ]
    },
    {
     "name": "stderr",
     "output_type": "stream",
     "text": [
      "┣████                ┫ [20.50%, 205/1000, 01:57:47/09:34:31, 34.40s/i] "
     ]
    },
    {
     "name": "stdout",
     "output_type": "stream",
     "text": [
      "\u001b[32m[2021-12-08 13:53:49 | info | root]: Epoch : 205\u001b[39m\n",
      "\u001b[32m[2021-12-08 13:53:49 | info | root]: Train Loss : 149.4955101623861\u001b[39m\n",
      "\u001b[32m[2021-12-08 13:53:49 | info | root]: Test Loss : 151.67351265442676\u001b[39m\n",
      "\u001b[32m[2021-12-08 13:53:49 | info | root]: Train Reconstruction Loss : 9.293787\u001b[39m\n",
      "\u001b[32m[2021-12-08 13:53:49 | info | root]: Test Reconstruction Loss : 10.109778 \u001b[39m\n",
      "\n"
     ]
    },
    {
     "name": "stderr",
     "output_type": "stream",
     "text": [
      "┣████▏               ┫ [21.00%, 210/1000, 02:00:38/09:34:27, 35.14s/i] "
     ]
    },
    {
     "name": "stdout",
     "output_type": "stream",
     "text": [
      "\u001b[32m[2021-12-08 13:56:41 | info | root]: Epoch : 210\u001b[39m\n",
      "\u001b[32m[2021-12-08 13:56:41 | info | root]: Train Loss : 149.40612150739835\u001b[39m\n",
      "\u001b[32m[2021-12-08 13:56:41 | info | root]: Test Loss : 151.5499310982533\u001b[39m\n",
      "\u001b[32m[2021-12-08 13:56:41 | info | root]: Train Reconstruction Loss : 9.290208\u001b[39m\n",
      "\u001b[32m[2021-12-08 13:56:41 | info | root]: Test Reconstruction Loss : 10.121056 \u001b[39m\n",
      "\n"
     ]
    },
    {
     "name": "stderr",
     "output_type": "stream",
     "text": [
      "┣████▎               ┫ [21.50%, 215/1000, 02:03:32/09:34:33, 34.65s/i] "
     ]
    },
    {
     "name": "stdout",
     "output_type": "stream",
     "text": [
      "\u001b[32m[2021-12-08 13:59:33 | info | root]: Epoch : 215\u001b[39m\n",
      "\u001b[32m[2021-12-08 13:59:33 | info | root]: Train Loss : 149.42960827887504\u001b[39m\n",
      "\u001b[32m[2021-12-08 13:59:33 | info | root]: Test Loss : 151.67914641209137\u001b[39m\n",
      "\u001b[32m[2021-12-08 13:59:33 | info | root]: Train Reconstruction Loss : 9.2678795\u001b[39m\n",
      "\u001b[32m[2021-12-08 13:59:33 | info | root]: Test Reconstruction Loss : 10.089786 \u001b[39m\n",
      "\n"
     ]
    },
    {
     "name": "stderr",
     "output_type": "stream",
     "text": [
      "┣████▍               ┫ [22.00%, 220/1000, 02:06:25/09:34:38, 35.38s/i] "
     ]
    },
    {
     "name": "stdout",
     "output_type": "stream",
     "text": [
      "\u001b[32m[2021-12-08 14:02:28 | info | root]: Epoch : 220\u001b[39m\n",
      "\u001b[32m[2021-12-08 14:02:28 | info | root]: Train Loss : 149.43116744172738\u001b[39m\n",
      "\u001b[32m[2021-12-08 14:02:28 | info | root]: Test Loss : 151.67351953799908\u001b[39m\n",
      "\u001b[32m[2021-12-08 14:02:28 | info | root]: Train Reconstruction Loss : 9.271979\u001b[39m\n",
      "\u001b[32m[2021-12-08 14:02:28 | info | root]: Test Reconstruction Loss : 10.103572 \u001b[39m\n",
      "\n"
     ]
    },
    {
     "name": "stderr",
     "output_type": "stream",
     "text": [
      "┣████▌               ┫ [22.50%, 225/1000, 02:09:18/09:34:41, 35.03s/i] "
     ]
    },
    {
     "name": "stdout",
     "output_type": "stream",
     "text": [
      "\u001b[32m[2021-12-08 14:05:20 | info | root]: Epoch : 225\u001b[39m\n",
      "\u001b[32m[2021-12-08 14:05:20 | info | root]: Train Loss : 149.37762979407702\u001b[39m\n",
      "\u001b[32m[2021-12-08 14:05:20 | info | root]: Test Loss : 151.6073077397469\u001b[39m\n",
      "\u001b[32m[2021-12-08 14:05:20 | info | root]: Train Reconstruction Loss : 9.227071\u001b[39m\n",
      "\u001b[32m[2021-12-08 14:05:20 | info | root]: Test Reconstruction Loss : 10.046945 \u001b[39m\n",
      "\n"
     ]
    },
    {
     "name": "stderr",
     "output_type": "stream",
     "text": [
      "┣████▌               ┫ [23.00%, 230/1000, 02:12:15/09:35:02, 35.42s/i] "
     ]
    },
    {
     "name": "stdout",
     "output_type": "stream",
     "text": [
      "\u001b[32m[2021-12-08 14:08:19 | info | root]: Epoch : 230\u001b[39m\n",
      "\u001b[32m[2021-12-08 14:08:19 | info | root]: Train Loss : 149.31972113235784\u001b[39m\n",
      "\u001b[32m[2021-12-08 14:08:19 | info | root]: Test Loss : 151.5339514781267\u001b[39m\n",
      "\u001b[32m[2021-12-08 14:08:19 | info | root]: Train Reconstruction Loss : 9.233713\u001b[39m\n",
      "\u001b[32m[2021-12-08 14:08:19 | info | root]: Test Reconstruction Loss : 10.040077 \u001b[39m\n",
      "\n"
     ]
    },
    {
     "name": "stderr",
     "output_type": "stream",
     "text": [
      "┣████▋               ┫ [23.50%, 235/1000, 02:15:13/09:35:23, 36.86s/i] "
     ]
    },
    {
     "name": "stdout",
     "output_type": "stream",
     "text": [
      "\u001b[32m[2021-12-08 14:11:17 | info | root]: Epoch : 235\u001b[39m\n",
      "\u001b[32m[2021-12-08 14:11:17 | info | root]: Train Loss : 149.30277626135307\u001b[39m\n",
      "\u001b[32m[2021-12-08 14:11:17 | info | root]: Test Loss : 151.4945792173728\u001b[39m\n",
      "\u001b[32m[2021-12-08 14:11:17 | info | root]: Train Reconstruction Loss : 9.230987\u001b[39m\n",
      "\u001b[32m[2021-12-08 14:11:17 | info | root]: Test Reconstruction Loss : 10.050984 \u001b[39m\n",
      "\n"
     ]
    },
    {
     "name": "stderr",
     "output_type": "stream",
     "text": [
      "┣████▊               ┫ [24.00%, 240/1000, 02:18:14/09:36:00, 37.64s/i] "
     ]
    },
    {
     "name": "stdout",
     "output_type": "stream",
     "text": [
      "\u001b[32m[2021-12-08 14:14:18 | info | root]: Epoch : 240\u001b[39m\n",
      "\u001b[32m[2021-12-08 14:14:18 | info | root]: Train Loss : 149.31166714207214\u001b[39m\n",
      "\u001b[32m[2021-12-08 14:14:18 | info | root]: Test Loss : 151.50694646590796\u001b[39m\n",
      "\u001b[32m[2021-12-08 14:14:18 | info | root]: Train Reconstruction Loss : 9.232177\u001b[39m\n",
      "\u001b[32m[2021-12-08 14:14:18 | info | root]: Test Reconstruction Loss : 10.021177 \u001b[39m\n",
      "\n"
     ]
    },
    {
     "name": "stderr",
     "output_type": "stream",
     "text": [
      "┣████▉               ┫ [24.50%, 245/1000, 02:21:10/09:36:11, 35.06s/i] "
     ]
    },
    {
     "name": "stdout",
     "output_type": "stream",
     "text": [
      "\u001b[32m[2021-12-08 14:17:15 | info | root]: Epoch : 245\u001b[39m\n",
      "\u001b[32m[2021-12-08 14:17:15 | info | root]: Train Loss : 149.27834804946102\u001b[39m\n",
      "\u001b[32m[2021-12-08 14:17:15 | info | root]: Test Loss : 151.35732950308383\u001b[39m\n",
      "\u001b[32m[2021-12-08 14:17:15 | info | root]: Train Reconstruction Loss : 9.218294\u001b[39m\n",
      "\u001b[32m[2021-12-08 14:17:15 | info | root]: Test Reconstruction Loss : 10.030405 \u001b[39m\n",
      "\n"
     ]
    },
    {
     "name": "stderr",
     "output_type": "stream",
     "text": [
      "┣█████               ┫ [25.00%, 250/1000, 02:24:11/09:36:45, 34.44s/i] "
     ]
    },
    {
     "name": "stdout",
     "output_type": "stream",
     "text": [
      "\u001b[32m[2021-12-08 14:20:15 | info | root]: Epoch : 250\u001b[39m\n",
      "\u001b[32m[2021-12-08 14:20:15 | info | root]: Train Loss : 149.26947260462742\u001b[39m\n",
      "\u001b[32m[2021-12-08 14:20:15 | info | root]: Test Loss : 151.4690495515481\u001b[39m\n",
      "\u001b[32m[2021-12-08 14:20:15 | info | root]: Train Reconstruction Loss : 9.174702\u001b[39m\n",
      "\u001b[32m[2021-12-08 14:20:15 | info | root]: Test Reconstruction Loss : 9.982099 \u001b[39m\n",
      "\n"
     ]
    },
    {
     "name": "stderr",
     "output_type": "stream",
     "text": [
      "┣█████               ┫ [25.50%, 255/1000, 02:27:24/09:38:03, 39.94s/i] "
     ]
    },
    {
     "name": "stdout",
     "output_type": "stream",
     "text": [
      "\u001b[32m[2021-12-08 14:23:32 | info | root]: Epoch : 255\u001b[39m\n",
      "\u001b[32m[2021-12-08 14:23:32 | info | root]: Train Loss : 149.22678742261172\u001b[39m\n",
      "\u001b[32m[2021-12-08 14:23:32 | info | root]: Test Loss : 151.5119299644079\u001b[39m\n",
      "\u001b[32m[2021-12-08 14:23:32 | info | root]: Train Reconstruction Loss : 9.174183\u001b[39m\n",
      "\u001b[32m[2021-12-08 14:23:32 | info | root]: Test Reconstruction Loss : 9.996514 \u001b[39m\n",
      "\n"
     ]
    },
    {
     "name": "stderr",
     "output_type": "stream",
     "text": [
      "┣█████▏              ┫ [26.00%, 260/1000, 02:30:42/09:39:37, 41.47s/i] "
     ]
    },
    {
     "name": "stdout",
     "output_type": "stream",
     "text": [
      "\u001b[32m[2021-12-08 14:26:49 | info | root]: Epoch : 260\u001b[39m\n",
      "\u001b[32m[2021-12-08 14:26:49 | info | root]: Train Loss : 149.18302568173078\u001b[39m\n",
      "\u001b[32m[2021-12-08 14:26:49 | info | root]: Test Loss : 151.4501221118829\u001b[39m\n",
      "\u001b[32m[2021-12-08 14:26:49 | info | root]: Train Reconstruction Loss : 9.21295\u001b[39m\n",
      "\u001b[32m[2021-12-08 14:26:49 | info | root]: Test Reconstruction Loss : 10.048216 \u001b[39m\n",
      "\n"
     ]
    },
    {
     "name": "stderr",
     "output_type": "stream",
     "text": [
      "┣█████▎              ┫ [26.50%, 265/1000, 02:33:59/09:41:05, 39.76s/i] "
     ]
    },
    {
     "name": "stdout",
     "output_type": "stream",
     "text": [
      "\u001b[32m[2021-12-08 14:30:07 | info | root]: Epoch : 265\u001b[39m\n",
      "\u001b[32m[2021-12-08 14:30:07 | info | root]: Train Loss : 149.20933814644178\u001b[39m\n",
      "\u001b[32m[2021-12-08 14:30:07 | info | root]: Test Loss : 151.39375433555017\u001b[39m\n",
      "\u001b[32m[2021-12-08 14:30:07 | info | root]: Train Reconstruction Loss : 9.201061\u001b[39m\n",
      "\u001b[32m[2021-12-08 14:30:07 | info | root]: Test Reconstruction Loss : 9.966437 \u001b[39m\n",
      "\n"
     ]
    },
    {
     "name": "stderr",
     "output_type": "stream",
     "text": [
      "┣█████▍              ┫ [27.00%, 270/1000, 02:37:19/09:42:39, 40.87s/i] "
     ]
    },
    {
     "name": "stdout",
     "output_type": "stream",
     "text": [
      "\u001b[32m[2021-12-08 14:33:28 | info | root]: Epoch : 270\u001b[39m\n",
      "\u001b[32m[2021-12-08 14:33:28 | info | root]: Train Loss : 149.2323984555272\u001b[39m\n",
      "\u001b[32m[2021-12-08 14:33:28 | info | root]: Test Loss : 151.41608838545972\u001b[39m\n",
      "\u001b[32m[2021-12-08 14:33:28 | info | root]: Train Reconstruction Loss : 9.199231\u001b[39m\n",
      "\u001b[32m[2021-12-08 14:33:28 | info | root]: Test Reconstruction Loss : 10.019551 \u001b[39m\n",
      "\n"
     ]
    },
    {
     "name": "stderr",
     "output_type": "stream",
     "text": [
      "┣█████▌              ┫ [27.50%, 275/1000, 02:40:48/09:44:42, 41.99s/i] "
     ]
    },
    {
     "name": "stdout",
     "output_type": "stream",
     "text": [
      "\u001b[32m[2021-12-08 14:36:59 | info | root]: Epoch : 275\u001b[39m\n",
      "\u001b[32m[2021-12-08 14:36:59 | info | root]: Train Loss : 149.1834828347254\u001b[39m\n",
      "\u001b[32m[2021-12-08 14:36:59 | info | root]: Test Loss : 151.50512175682263\u001b[39m\n",
      "\u001b[32m[2021-12-08 14:36:59 | info | root]: Train Reconstruction Loss : 9.160856\u001b[39m\n",
      "\u001b[32m[2021-12-08 14:36:59 | info | root]: Test Reconstruction Loss : 10.003548 \u001b[39m\n",
      "\n"
     ]
    },
    {
     "name": "stderr",
     "output_type": "stream",
     "text": [
      "┣█████▌              ┫ [28.00%, 280/1000, 02:44:30/09:47:29, 35.43s/i] "
     ]
    },
    {
     "name": "stdout",
     "output_type": "stream",
     "text": [
      "\u001b[32m[2021-12-08 14:40:33 | info | root]: Epoch : 280\u001b[39m\n",
      "\u001b[32m[2021-12-08 14:40:33 | info | root]: Train Loss : 149.13420008697022\u001b[39m\n",
      "\u001b[32m[2021-12-08 14:40:33 | info | root]: Test Loss : 151.44639879617935\u001b[39m\n",
      "\u001b[32m[2021-12-08 14:40:33 | info | root]: Train Reconstruction Loss : 9.180071\u001b[39m\n",
      "\u001b[32m[2021-12-08 14:40:33 | info | root]: Test Reconstruction Loss : 10.027824 \u001b[39m\n",
      "\n"
     ]
    },
    {
     "name": "stderr",
     "output_type": "stream",
     "text": [
      "┣█████▋              ┫ [28.50%, 285/1000, 02:47:23/09:47:18, 34.63s/i] "
     ]
    },
    {
     "name": "stdout",
     "output_type": "stream",
     "text": [
      "\u001b[32m[2021-12-08 14:43:25 | info | root]: Epoch : 285\u001b[39m\n",
      "\u001b[32m[2021-12-08 14:43:25 | info | root]: Train Loss : 149.14114336321168\u001b[39m\n",
      "\u001b[32m[2021-12-08 14:43:25 | info | root]: Test Loss : 151.36009486516318\u001b[39m\n",
      "\u001b[32m[2021-12-08 14:43:25 | info | root]: Train Reconstruction Loss : 9.165943\u001b[39m\n",
      "\u001b[32m[2021-12-08 14:43:25 | info | root]: Test Reconstruction Loss : 10.002596 \u001b[39m\n",
      "\n"
     ]
    },
    {
     "name": "stderr",
     "output_type": "stream",
     "text": [
      "┣█████▊              ┫ [29.00%, 290/1000, 02:50:15/09:47:04, 34.72s/i] "
     ]
    },
    {
     "name": "stdout",
     "output_type": "stream",
     "text": [
      "\u001b[32m[2021-12-08 14:46:17 | info | root]: Epoch : 290\u001b[39m\n",
      "\u001b[32m[2021-12-08 14:46:17 | info | root]: Train Loss : 149.120965249256\u001b[39m\n",
      "\u001b[32m[2021-12-08 14:46:17 | info | root]: Test Loss : 151.52423867201193\u001b[39m\n",
      "\u001b[32m[2021-12-08 14:46:17 | info | root]: Train Reconstruction Loss : 9.152689\u001b[39m\n",
      "\u001b[32m[2021-12-08 14:46:17 | info | root]: Test Reconstruction Loss : 10.02507 \u001b[39m\n",
      "\n"
     ]
    },
    {
     "name": "stderr",
     "output_type": "stream",
     "text": [
      "┣█████▉              ┫ [29.50%, 295/1000, 02:53:06/09:46:45, 33.92s/i] "
     ]
    },
    {
     "name": "stdout",
     "output_type": "stream",
     "text": [
      "\u001b[32m[2021-12-08 14:49:07 | info | root]: Epoch : 295\u001b[39m\n",
      "\u001b[32m[2021-12-08 14:49:07 | info | root]: Train Loss : 149.11644079438395\u001b[39m\n",
      "\u001b[32m[2021-12-08 14:49:07 | info | root]: Test Loss : 151.3810834028782\u001b[39m\n",
      "\u001b[32m[2021-12-08 14:49:07 | info | root]: Train Reconstruction Loss : 9.165394\u001b[39m\n",
      "\u001b[32m[2021-12-08 14:49:07 | info | root]: Test Reconstruction Loss : 9.966115 \u001b[39m\n",
      "\n"
     ]
    },
    {
     "name": "stderr",
     "output_type": "stream",
     "text": [
      "┣██████              ┫ [30.00%, 300/1000, 02:55:55/09:46:23, 34.05s/i] "
     ]
    },
    {
     "name": "stdout",
     "output_type": "stream",
     "text": [
      "\u001b[32m[2021-12-08 14:51:57 | info | root]: Epoch : 300\u001b[39m\n",
      "\u001b[32m[2021-12-08 14:51:57 | info | root]: Train Loss : 149.08507611123068\u001b[39m\n",
      "\u001b[32m[2021-12-08 14:51:57 | info | root]: Test Loss : 151.28676085594373\u001b[39m\n",
      "\u001b[32m[2021-12-08 14:51:57 | info | root]: Train Reconstruction Loss : 9.14634\u001b[39m\n",
      "\u001b[32m[2021-12-08 14:51:57 | info | root]: Test Reconstruction Loss : 9.993378 \u001b[39m\n",
      "\n"
     ]
    },
    {
     "name": "stderr",
     "output_type": "stream",
     "text": [
      "┣██████              ┫ [30.50%, 305/1000, 02:58:49/09:46:16, 33.63s/i] "
     ]
    },
    {
     "name": "stdout",
     "output_type": "stream",
     "text": [
      "\u001b[32m[2021-12-08 14:54:50 | info | root]: Epoch : 305\u001b[39m\n",
      "\u001b[32m[2021-12-08 14:54:50 | info | root]: Train Loss : 149.050551537643\u001b[39m\n",
      "\u001b[32m[2021-12-08 14:54:50 | info | root]: Test Loss : 151.2407642388955\u001b[39m\n",
      "\u001b[32m[2021-12-08 14:54:50 | info | root]: Train Reconstruction Loss : 9.139985\u001b[39m\n",
      "\u001b[32m[2021-12-08 14:54:50 | info | root]: Test Reconstruction Loss : 10.013183 \u001b[39m\n",
      "\n"
     ]
    },
    {
     "name": "stderr",
     "output_type": "stream",
     "text": [
      "┣██████▏             ┫ [31.00%, 310/1000, 03:01:39/09:45:57, 33.47s/i] "
     ]
    },
    {
     "name": "stdout",
     "output_type": "stream",
     "text": [
      "\u001b[32m[2021-12-08 14:57:40 | info | root]: Epoch : 310\u001b[39m\n",
      "\u001b[32m[2021-12-08 14:57:40 | info | root]: Train Loss : 149.070326077391\u001b[39m\n",
      "\u001b[32m[2021-12-08 14:57:40 | info | root]: Test Loss : 151.25088080381735\u001b[39m\n",
      "\u001b[32m[2021-12-08 14:57:40 | info | root]: Train Reconstruction Loss : 9.130817\u001b[39m\n",
      "\u001b[32m[2021-12-08 14:57:40 | info | root]: Test Reconstruction Loss : 9.994646 \u001b[39m\n",
      "\n"
     ]
    },
    {
     "name": "stderr",
     "output_type": "stream",
     "text": [
      "┣██████▎             ┫ [31.50%, 315/1000, 03:04:28/09:45:36, 33.84s/i] "
     ]
    },
    {
     "name": "stdout",
     "output_type": "stream",
     "text": [
      "\u001b[32m[2021-12-08 15:00:30 | info | root]: Epoch : 315\u001b[39m\n",
      "\u001b[32m[2021-12-08 15:00:30 | info | root]: Train Loss : 149.07073148159486\u001b[39m\n",
      "\u001b[32m[2021-12-08 15:00:30 | info | root]: Test Loss : 151.40098623129037\u001b[39m\n",
      "\u001b[32m[2021-12-08 15:00:30 | info | root]: Train Reconstruction Loss : 9.138699\u001b[39m\n",
      "\u001b[32m[2021-12-08 15:00:30 | info | root]: Test Reconstruction Loss : 10.045433 \u001b[39m\n",
      "\n"
     ]
    },
    {
     "name": "stderr",
     "output_type": "stream",
     "text": [
      "┣██████▍             ┫ [32.00%, 320/1000, 03:07:26/09:45:43, 33.79s/i] "
     ]
    },
    {
     "name": "stdout",
     "output_type": "stream",
     "text": [
      "\u001b[32m[2021-12-08 15:03:28 | info | root]: Epoch : 320\u001b[39m\n",
      "\u001b[32m[2021-12-08 15:03:28 | info | root]: Train Loss : 148.9953283983717\u001b[39m\n",
      "\u001b[32m[2021-12-08 15:03:28 | info | root]: Test Loss : 151.42607748814117\u001b[39m\n",
      "\u001b[32m[2021-12-08 15:03:28 | info | root]: Train Reconstruction Loss : 9.121522\u001b[39m\n",
      "\u001b[32m[2021-12-08 15:03:28 | info | root]: Test Reconstruction Loss : 9.998314 \u001b[39m\n",
      "\n"
     ]
    },
    {
     "name": "stderr",
     "output_type": "stream",
     "text": [
      "┣██████▌             ┫ [32.50%, 325/1000, 03:10:15/09:45:24, 34.81s/i] "
     ]
    },
    {
     "name": "stdout",
     "output_type": "stream",
     "text": [
      "\u001b[32m[2021-12-08 15:06:19 | info | root]: Epoch : 325\u001b[39m\n",
      "\u001b[32m[2021-12-08 15:06:19 | info | root]: Train Loss : 149.0319284583614\u001b[39m\n",
      "\u001b[32m[2021-12-08 15:06:19 | info | root]: Test Loss : 151.31017006360568\u001b[39m\n",
      "\u001b[32m[2021-12-08 15:06:19 | info | root]: Train Reconstruction Loss : 9.080895\u001b[39m\n",
      "\u001b[32m[2021-12-08 15:06:19 | info | root]: Test Reconstruction Loss : 9.946753 \u001b[39m\n",
      "\n"
     ]
    },
    {
     "name": "stderr",
     "output_type": "stream",
     "text": [
      "┣██████▌             ┫ [33.00%, 330/1000, 03:13:10/09:45:22, 34.94s/i] "
     ]
    },
    {
     "name": "stdout",
     "output_type": "stream",
     "text": [
      "\u001b[32m[2021-12-08 15:09:12 | info | root]: Epoch : 330\u001b[39m\n",
      "\u001b[32m[2021-12-08 15:09:12 | info | root]: Train Loss : 149.00464088659785\u001b[39m\n",
      "\u001b[32m[2021-12-08 15:09:12 | info | root]: Test Loss : 151.2640688725007\u001b[39m\n",
      "\u001b[32m[2021-12-08 15:09:12 | info | root]: Train Reconstruction Loss : 9.111885\u001b[39m\n",
      "\u001b[32m[2021-12-08 15:09:12 | info | root]: Test Reconstruction Loss : 9.946605 \u001b[39m\n",
      "\n"
     ]
    },
    {
     "name": "stderr",
     "output_type": "stream",
     "text": [
      "┣██████▋             ┫ [33.50%, 335/1000, 03:16:05/09:45:20, 36.61s/i] "
     ]
    },
    {
     "name": "stdout",
     "output_type": "stream",
     "text": [
      "\u001b[32m[2021-12-08 15:12:10 | info | root]: Epoch : 335\u001b[39m\n",
      "\u001b[32m[2021-12-08 15:12:10 | info | root]: Train Loss : 148.98978368093518\u001b[39m\n",
      "\u001b[32m[2021-12-08 15:12:10 | info | root]: Test Loss : 151.23824223493918\u001b[39m\n",
      "\u001b[32m[2021-12-08 15:12:10 | info | root]: Train Reconstruction Loss : 9.090129\u001b[39m\n",
      "\u001b[32m[2021-12-08 15:12:10 | info | root]: Test Reconstruction Loss : 9.9702635 \u001b[39m\n",
      "\n"
     ]
    },
    {
     "name": "stderr",
     "output_type": "stream",
     "text": [
      "┣██████▊             ┫ [34.00%, 340/1000, 03:19:05/09:45:33, 36.09s/i] "
     ]
    },
    {
     "name": "stdout",
     "output_type": "stream",
     "text": [
      "\u001b[32m[2021-12-08 15:15:10 | info | root]: Epoch : 340\u001b[39m\n",
      "\u001b[32m[2021-12-08 15:15:10 | info | root]: Train Loss : 148.9568109074677\u001b[39m\n",
      "\u001b[32m[2021-12-08 15:15:10 | info | root]: Test Loss : 151.15271573188977\u001b[39m\n",
      "\u001b[32m[2021-12-08 15:15:10 | info | root]: Train Reconstruction Loss : 9.064337\u001b[39m\n",
      "\u001b[32m[2021-12-08 15:15:10 | info | root]: Test Reconstruction Loss : 9.891415 \u001b[39m\n",
      "\n"
     ]
    },
    {
     "name": "stderr",
     "output_type": "stream",
     "text": [
      "┣██████▉             ┫ [34.50%, 345/1000, 03:22:00/09:45:30, 34.60s/i] "
     ]
    },
    {
     "name": "stdout",
     "output_type": "stream",
     "text": [
      "\u001b[32m[2021-12-08 15:18:05 | info | root]: Epoch : 345\u001b[39m\n",
      "\u001b[32m[2021-12-08 15:18:05 | info | root]: Train Loss : 148.99554329569847\u001b[39m\n",
      "\u001b[32m[2021-12-08 15:18:05 | info | root]: Test Loss : 151.2400694993826\u001b[39m\n",
      "\u001b[32m[2021-12-08 15:18:05 | info | root]: Train Reconstruction Loss : 9.103582\u001b[39m\n",
      "\u001b[32m[2021-12-08 15:18:05 | info | root]: Test Reconstruction Loss : 9.969976 \u001b[39m\n",
      "\n"
     ]
    },
    {
     "name": "stderr",
     "output_type": "stream",
     "text": [
      "┣███████             ┫ [35.00%, 350/1000, 03:24:55/09:45:29, 34.71s/i] "
     ]
    },
    {
     "name": "stdout",
     "output_type": "stream",
     "text": [
      "\u001b[32m[2021-12-08 15:20:58 | info | root]: Epoch : 350\u001b[39m\n",
      "\u001b[32m[2021-12-08 15:20:58 | info | root]: Train Loss : 149.01319628973016\u001b[39m\n",
      "\u001b[32m[2021-12-08 15:20:58 | info | root]: Test Loss : 151.2062441752507\u001b[39m\n",
      "\u001b[32m[2021-12-08 15:20:58 | info | root]: Train Reconstruction Loss : 9.110743\u001b[39m\n",
      "\u001b[32m[2021-12-08 15:20:58 | info | root]: Test Reconstruction Loss : 9.932253 \u001b[39m\n",
      "\n"
     ]
    },
    {
     "name": "stderr",
     "output_type": "stream",
     "text": [
      "┣███████             ┫ [35.50%, 355/1000, 03:28:11/09:46:26, 35.64s/i] "
     ]
    },
    {
     "name": "stdout",
     "output_type": "stream",
     "text": [
      "\u001b[32m[2021-12-08 15:24:15 | info | root]: Epoch : 355\u001b[39m\n",
      "\u001b[32m[2021-12-08 15:24:15 | info | root]: Train Loss : 148.9611758697249\u001b[39m\n",
      "\u001b[32m[2021-12-08 15:24:15 | info | root]: Test Loss : 151.3242934789413\u001b[39m\n",
      "\u001b[32m[2021-12-08 15:24:15 | info | root]: Train Reconstruction Loss : 9.1219\u001b[39m\n",
      "\u001b[32m[2021-12-08 15:24:15 | info | root]: Test Reconstruction Loss : 9.938078 \u001b[39m\n",
      "\n"
     ]
    },
    {
     "name": "stderr",
     "output_type": "stream",
     "text": [
      "┣███████▏            ┫ [36.00%, 360/1000, 03:31:17/09:46:55, 37.56s/i] "
     ]
    },
    {
     "name": "stdout",
     "output_type": "stream",
     "text": [
      "\u001b[32m[2021-12-08 15:27:22 | info | root]: Epoch : 360\u001b[39m\n",
      "\u001b[32m[2021-12-08 15:27:22 | info | root]: Train Loss : 148.95035618320983\u001b[39m\n",
      "\u001b[32m[2021-12-08 15:27:22 | info | root]: Test Loss : 151.20468058952918\u001b[39m\n",
      "\u001b[32m[2021-12-08 15:27:22 | info | root]: Train Reconstruction Loss : 9.101859\u001b[39m\n",
      "\u001b[32m[2021-12-08 15:27:22 | info | root]: Test Reconstruction Loss : 9.9702215 \u001b[39m\n",
      "\n"
     ]
    },
    {
     "name": "stderr",
     "output_type": "stream",
     "text": [
      "┣███████▎            ┫ [36.50%, 365/1000, 03:34:18/09:47:07, 38.08s/i] "
     ]
    },
    {
     "name": "stdout",
     "output_type": "stream",
     "text": [
      "\u001b[32m[2021-12-08 15:30:21 | info | root]: Epoch : 365\u001b[39m\n",
      "\u001b[32m[2021-12-08 15:30:21 | info | root]: Train Loss : 148.87878599543455\u001b[39m\n",
      "\u001b[32m[2021-12-08 15:30:21 | info | root]: Test Loss : 151.16440235040128\u001b[39m\n",
      "\u001b[32m[2021-12-08 15:30:21 | info | root]: Train Reconstruction Loss : 9.078774\u001b[39m\n",
      "\u001b[32m[2021-12-08 15:30:21 | info | root]: Test Reconstruction Loss : 9.93585 \u001b[39m\n",
      "\n"
     ]
    },
    {
     "name": "stderr",
     "output_type": "stream",
     "text": [
      "┣███████▍            ┫ [37.00%, 370/1000, 03:37:15/09:47:11, 35.57s/i] "
     ]
    },
    {
     "name": "stdout",
     "output_type": "stream",
     "text": [
      "\u001b[32m[2021-12-08 15:33:19 | info | root]: Epoch : 370\u001b[39m\n",
      "\u001b[32m[2021-12-08 15:33:19 | info | root]: Train Loss : 148.8994985517341\u001b[39m\n",
      "\u001b[32m[2021-12-08 15:33:19 | info | root]: Test Loss : 151.216230905973\u001b[39m\n",
      "\u001b[32m[2021-12-08 15:33:19 | info | root]: Train Reconstruction Loss : 9.08634\u001b[39m\n",
      "\u001b[32m[2021-12-08 15:33:19 | info | root]: Test Reconstruction Loss : 9.910151 \u001b[39m\n",
      "\n"
     ]
    },
    {
     "name": "stderr",
     "output_type": "stream",
     "text": [
      "┣███████▌            ┫ [37.50%, 375/1000, 03:40:15/09:47:21, 38.04s/i] "
     ]
    },
    {
     "name": "stdout",
     "output_type": "stream",
     "text": [
      "\u001b[32m[2021-12-08 15:36:19 | info | root]: Epoch : 375\u001b[39m\n",
      "\u001b[32m[2021-12-08 15:36:19 | info | root]: Train Loss : 148.92245853265297\u001b[39m\n",
      "\u001b[32m[2021-12-08 15:36:19 | info | root]: Test Loss : 151.2739315155225\u001b[39m\n",
      "\u001b[32m[2021-12-08 15:36:19 | info | root]: Train Reconstruction Loss : 9.037708\u001b[39m\n",
      "\u001b[32m[2021-12-08 15:36:19 | info | root]: Test Reconstruction Loss : 9.921695 \u001b[39m\n",
      "\n"
     ]
    },
    {
     "name": "stderr",
     "output_type": "stream",
     "text": [
      "┣███████▌            ┫ [38.00%, 380/1000, 03:43:15/09:47:29, 35.28s/i] "
     ]
    },
    {
     "name": "stdout",
     "output_type": "stream",
     "text": [
      "\u001b[32m[2021-12-08 15:39:18 | info | root]: Epoch : 380\u001b[39m\n",
      "\u001b[32m[2021-12-08 15:39:18 | info | root]: Train Loss : 148.8793654792973\u001b[39m\n",
      "\u001b[32m[2021-12-08 15:39:18 | info | root]: Test Loss : 151.35025314184335\u001b[39m\n",
      "\u001b[32m[2021-12-08 15:39:18 | info | root]: Train Reconstruction Loss : 9.052165\u001b[39m\n",
      "\u001b[32m[2021-12-08 15:39:18 | info | root]: Test Reconstruction Loss : 9.9781275 \u001b[39m\n",
      "\n"
     ]
    },
    {
     "name": "stderr",
     "output_type": "stream",
     "text": [
      "┣███████▋            ┫ [38.50%, 385/1000, 03:46:03/09:47:08, 31.93s/i] "
     ]
    },
    {
     "name": "stdout",
     "output_type": "stream",
     "text": [
      "\u001b[32m[2021-12-08 15:42:05 | info | root]: Epoch : 385\u001b[39m\n",
      "\u001b[32m[2021-12-08 15:42:05 | info | root]: Train Loss : 148.8963553551803\u001b[39m\n",
      "\u001b[32m[2021-12-08 15:42:05 | info | root]: Test Loss : 151.0552714543465\u001b[39m\n",
      "\u001b[32m[2021-12-08 15:42:05 | info | root]: Train Reconstruction Loss : 9.055152\u001b[39m\n",
      "\u001b[32m[2021-12-08 15:42:05 | info | root]: Test Reconstruction Loss : 9.880378 \u001b[39m\n",
      "\n"
     ]
    },
    {
     "name": "stderr",
     "output_type": "stream",
     "text": [
      "┣███████▊            ┫ [39.00%, 390/1000, 03:48:48/09:46:39, 31.86s/i] "
     ]
    },
    {
     "name": "stdout",
     "output_type": "stream",
     "text": [
      "\u001b[32m[2021-12-08 15:44:47 | info | root]: Epoch : 390\u001b[39m\n",
      "\u001b[32m[2021-12-08 15:44:47 | info | root]: Train Loss : 148.87852383575927\u001b[39m\n",
      "\u001b[32m[2021-12-08 15:44:47 | info | root]: Test Loss : 151.174656806848\u001b[39m\n",
      "\u001b[32m[2021-12-08 15:44:47 | info | root]: Train Reconstruction Loss : 9.090841\u001b[39m\n",
      "\u001b[32m[2021-12-08 15:44:47 | info | root]: Test Reconstruction Loss : 9.906289 \u001b[39m\n",
      "\n"
     ]
    },
    {
     "name": "stderr",
     "output_type": "stream",
     "text": [
      "┣███████▉            ┫ [39.50%, 395/1000, 03:51:28/09:46:00, 31.80s/i]             ┫ [39.30%, 393/1000, 03:50:24/09:46:16, 31.89s/i] "
     ]
    },
    {
     "name": "stdout",
     "output_type": "stream",
     "text": [
      "\u001b[32m[2021-12-08 15:47:28 | info | root]: Epoch : 395\u001b[39m\n",
      "\u001b[32m[2021-12-08 15:47:28 | info | root]: Train Loss : 148.8390008545736\u001b[39m\n",
      "\u001b[32m[2021-12-08 15:47:28 | info | root]: Test Loss : 151.09397411346436\u001b[39m\n",
      "\u001b[32m[2021-12-08 15:47:28 | info | root]: Train Reconstruction Loss : 9.073352\u001b[39m\n",
      "\u001b[32m[2021-12-08 15:47:28 | info | root]: Test Reconstruction Loss : 9.906379 \u001b[39m\n",
      "\n"
     ]
    },
    {
     "name": "stderr",
     "output_type": "stream",
     "text": [
      "┣████████            ┫ [40.00%, 400/1000, 03:54:09/09:45:23, 32.42s/i] "
     ]
    },
    {
     "name": "stdout",
     "output_type": "stream",
     "text": [
      "\u001b[32m[2021-12-08 15:50:10 | info | root]: Epoch : 400\u001b[39m\n",
      "\u001b[32m[2021-12-08 15:50:10 | info | root]: Train Loss : 148.81505294237982\u001b[39m\n",
      "\u001b[32m[2021-12-08 15:50:10 | info | root]: Test Loss : 151.065932567303\u001b[39m\n",
      "\u001b[32m[2021-12-08 15:50:10 | info | root]: Train Reconstruction Loss : 9.064542\u001b[39m\n",
      "\u001b[32m[2021-12-08 15:50:10 | info | root]: Test Reconstruction Loss : 9.900811 \u001b[39m\n",
      "\n"
     ]
    },
    {
     "name": "stderr",
     "output_type": "stream",
     "text": [
      "┣████████            ┫ [40.50%, 405/1000, 03:56:58/09:45:06, 32.61s/i] "
     ]
    },
    {
     "name": "stdout",
     "output_type": "stream",
     "text": [
      "\u001b[32m[2021-12-08 15:53:04 | info | root]: Epoch : 405\u001b[39m\n",
      "\u001b[32m[2021-12-08 15:53:04 | info | root]: Train Loss : 148.8797085353888\u001b[39m\n",
      "\u001b[32m[2021-12-08 15:53:04 | info | root]: Test Loss : 151.14572285383176\u001b[39m\n",
      "\u001b[32m[2021-12-08 15:53:04 | info | root]: Train Reconstruction Loss : 9.074688\u001b[39m\n",
      "\u001b[32m[2021-12-08 15:53:04 | info | root]: Test Reconstruction Loss : 9.891398 \u001b[39m\n",
      "\n"
     ]
    },
    {
     "name": "stderr",
     "output_type": "stream",
     "text": [
      "┣████████▏           ┫ [41.00%, 410/1000, 03:59:57/09:45:14, 33.19s/i] "
     ]
    },
    {
     "name": "stdout",
     "output_type": "stream",
     "text": [
      "\u001b[32m[2021-12-08 15:55:58 | info | root]: Epoch : 410\u001b[39m\n",
      "\u001b[32m[2021-12-08 15:55:58 | info | root]: Train Loss : 148.78335369969128\u001b[39m\n",
      "\u001b[32m[2021-12-08 15:55:58 | info | root]: Test Loss : 151.08561183244754\u001b[39m\n",
      "\u001b[32m[2021-12-08 15:55:58 | info | root]: Train Reconstruction Loss : 9.022648\u001b[39m\n",
      "\u001b[32m[2021-12-08 15:55:58 | info | root]: Test Reconstruction Loss : 9.905603 \u001b[39m\n",
      "\n"
     ]
    },
    {
     "name": "stderr",
     "output_type": "stream",
     "text": [
      "┣████████▎           ┫ [41.50%, 415/1000, 04:02:52/09:45:13, 34.52s/i] "
     ]
    },
    {
     "name": "stdout",
     "output_type": "stream",
     "text": [
      "\u001b[32m[2021-12-08 15:58:55 | info | root]: Epoch : 415\u001b[39m\n",
      "\u001b[32m[2021-12-08 15:58:55 | info | root]: Train Loss : 148.8065845851837\u001b[39m\n",
      "\u001b[32m[2021-12-08 15:58:55 | info | root]: Test Loss : 150.99128926105988\u001b[39m\n",
      "\u001b[32m[2021-12-08 15:58:55 | info | root]: Train Reconstruction Loss : 9.036624\u001b[39m\n",
      "\u001b[32m[2021-12-08 15:58:55 | info | root]: Test Reconstruction Loss : 9.886207 \u001b[39m\n",
      "\n"
     ]
    },
    {
     "name": "stderr",
     "output_type": "stream",
     "text": [
      "┣████████▍           ┫ [42.00%, 420/1000, 04:05:40/09:44:56, 29.89s/i] "
     ]
    },
    {
     "name": "stdout",
     "output_type": "stream",
     "text": [
      "\u001b[32m[2021-12-08 16:01:38 | info | root]: Epoch : 420\u001b[39m\n",
      "\u001b[32m[2021-12-08 16:01:38 | info | root]: Train Loss : 148.81631061794155\u001b[39m\n",
      "\u001b[32m[2021-12-08 16:01:38 | info | root]: Test Loss : 151.01536064881546\u001b[39m\n",
      "\u001b[32m[2021-12-08 16:01:38 | info | root]: Train Reconstruction Loss : 9.07103\u001b[39m\n",
      "\u001b[32m[2021-12-08 16:01:38 | info | root]: Test Reconstruction Loss : 9.891868 \u001b[39m\n",
      "\n"
     ]
    },
    {
     "name": "stderr",
     "output_type": "stream",
     "text": [
      "┣████████▌           ┫ [42.50%, 425/1000, 04:08:14/09:44:05, 29.94s/i] "
     ]
    },
    {
     "name": "stdout",
     "output_type": "stream",
     "text": [
      "\u001b[32m[2021-12-08 16:04:12 | info | root]: Epoch : 425\u001b[39m\n",
      "\u001b[32m[2021-12-08 16:04:12 | info | root]: Train Loss : 148.8078679661868\u001b[39m\n",
      "\u001b[32m[2021-12-08 16:04:12 | info | root]: Test Loss : 151.04200887680054\u001b[39m\n",
      "\u001b[32m[2021-12-08 16:04:12 | info | root]: Train Reconstruction Loss : 9.021588\u001b[39m\n",
      "\u001b[32m[2021-12-08 16:04:12 | info | root]: Test Reconstruction Loss : 9.892114 \u001b[39m\n",
      "\n"
     ]
    },
    {
     "name": "stderr",
     "output_type": "stream",
     "text": [
      "┣████████▌           ┫ [43.00%, 430/1000, 04:10:50/09:43:21, 30.16s/i] "
     ]
    },
    {
     "name": "stdout",
     "output_type": "stream",
     "text": [
      "\u001b[32m[2021-12-08 16:06:48 | info | root]: Epoch : 430\u001b[39m\n",
      "\u001b[32m[2021-12-08 16:06:48 | info | root]: Train Loss : 148.76067921242566\u001b[39m\n",
      "\u001b[32m[2021-12-08 16:06:48 | info | root]: Test Loss : 150.976149950272\u001b[39m\n",
      "\u001b[32m[2021-12-08 16:06:48 | info | root]: Train Reconstruction Loss : 9.0189295\u001b[39m\n",
      "\u001b[32m[2021-12-08 16:06:48 | info | root]: Test Reconstruction Loss : 9.865664 \u001b[39m\n",
      "\n"
     ]
    },
    {
     "name": "stderr",
     "output_type": "stream",
     "text": [
      "┣████████▋           ┫ [43.50%, 435/1000, 04:13:23/09:42:30, 29.80s/i] "
     ]
    },
    {
     "name": "stdout",
     "output_type": "stream",
     "text": [
      "\u001b[32m[2021-12-08 16:09:21 | info | root]: Epoch : 435\u001b[39m\n",
      "\u001b[32m[2021-12-08 16:09:21 | info | root]: Train Loss : 148.69584886190603\u001b[39m\n",
      "\u001b[32m[2021-12-08 16:09:21 | info | root]: Test Loss : 150.96579854916303\u001b[39m\n",
      "\u001b[32m[2021-12-08 16:09:21 | info | root]: Train Reconstruction Loss : 8.991531\u001b[39m\n",
      "\u001b[32m[2021-12-08 16:09:21 | info | root]: Test Reconstruction Loss : 9.841998 \u001b[39m\n",
      "\n"
     ]
    },
    {
     "name": "stderr",
     "output_type": "stream",
     "text": [
      "┣████████▊           ┫ [44.00%, 440/1000, 04:15:59/09:41:48, 30.98s/i] "
     ]
    },
    {
     "name": "stdout",
     "output_type": "stream",
     "text": [
      "\u001b[32m[2021-12-08 16:11:57 | info | root]: Epoch : 440\u001b[39m\n",
      "\u001b[32m[2021-12-08 16:11:57 | info | root]: Train Loss : 148.72655128796555\u001b[39m\n",
      "\u001b[32m[2021-12-08 16:11:57 | info | root]: Test Loss : 150.94381598937207\u001b[39m\n",
      "\u001b[32m[2021-12-08 16:11:57 | info | root]: Train Reconstruction Loss : 9.028635\u001b[39m\n",
      "\u001b[32m[2021-12-08 16:11:57 | info | root]: Test Reconstruction Loss : 9.902097 \u001b[39m\n",
      "\n"
     ]
    },
    {
     "name": "stderr",
     "output_type": "stream",
     "text": [
      "┣████████▉           ┫ [44.50%, 445/1000, 04:18:32/09:40:58, 33.17s/i] "
     ]
    },
    {
     "name": "stdout",
     "output_type": "stream",
     "text": [
      "\u001b[32m[2021-12-08 16:14:34 | info | root]: Epoch : 445\u001b[39m\n",
      "\u001b[32m[2021-12-08 16:14:34 | info | root]: Train Loss : 148.70964037265188\u001b[39m\n",
      "\u001b[32m[2021-12-08 16:14:34 | info | root]: Test Loss : 150.97804554914816\u001b[39m\n",
      "\u001b[32m[2021-12-08 16:14:34 | info | root]: Train Reconstruction Loss : 9.029287\u001b[39m\n",
      "\u001b[32m[2021-12-08 16:14:34 | info | root]: Test Reconstruction Loss : 9.852422 \u001b[39m\n",
      "\n"
     ]
    },
    {
     "name": "stderr",
     "output_type": "stream",
     "text": [
      "┣█████████           ┫ [45.00%, 450/1000, 04:21:07/09:40:15, 30.61s/i] "
     ]
    },
    {
     "name": "stdout",
     "output_type": "stream",
     "text": [
      "\u001b[32m[2021-12-08 16:17:08 | info | root]: Epoch : 450\u001b[39m\n",
      "\u001b[32m[2021-12-08 16:17:08 | info | root]: Train Loss : 148.7918319803928\u001b[39m\n",
      "\u001b[32m[2021-12-08 16:17:08 | info | root]: Test Loss : 150.94088747562506\u001b[39m\n",
      "\u001b[32m[2021-12-08 16:17:08 | info | root]: Train Reconstruction Loss : 9.020047\u001b[39m\n",
      "\u001b[32m[2021-12-08 16:17:08 | info | root]: Test Reconstruction Loss : 9.855338 \u001b[39m\n",
      "\n"
     ]
    },
    {
     "name": "stderr",
     "output_type": "stream",
     "text": [
      "┣█████████           ┫ [45.50%, 455/1000, 04:23:47/09:39:44, 29.87s/i] "
     ]
    },
    {
     "name": "stdout",
     "output_type": "stream",
     "text": [
      "\u001b[32m[2021-12-08 16:19:45 | info | root]: Epoch : 455\u001b[39m\n",
      "\u001b[32m[2021-12-08 16:19:45 | info | root]: Train Loss : 148.7115778195311\u001b[39m\n",
      "\u001b[32m[2021-12-08 16:19:45 | info | root]: Test Loss : 150.934233494294\u001b[39m\n",
      "\u001b[32m[2021-12-08 16:19:45 | info | root]: Train Reconstruction Loss : 8.992334\u001b[39m\n",
      "\u001b[32m[2021-12-08 16:19:45 | info | root]: Test Reconstruction Loss : 9.883006 \u001b[39m\n",
      "\n"
     ]
    },
    {
     "name": "stderr",
     "output_type": "stream",
     "text": [
      "┣█████████▏          ┫ [46.00%, 460/1000, 04:26:18/09:38:54, 30.04s/i] "
     ]
    },
    {
     "name": "stdout",
     "output_type": "stream",
     "text": [
      "\u001b[32m[2021-12-08 16:22:15 | info | root]: Epoch : 460\u001b[39m\n",
      "\u001b[32m[2021-12-08 16:22:15 | info | root]: Train Loss : 148.6684627553315\u001b[39m\n",
      "\u001b[32m[2021-12-08 16:22:15 | info | root]: Test Loss : 150.90852547914554\u001b[39m\n",
      "\u001b[32m[2021-12-08 16:22:15 | info | root]: Train Reconstruction Loss : 8.977029\u001b[39m\n",
      "\u001b[32m[2021-12-08 16:22:15 | info | root]: Test Reconstruction Loss : 9.838768 \u001b[39m\n",
      "\n"
     ]
    },
    {
     "name": "stderr",
     "output_type": "stream",
     "text": [
      "┣█████████▎          ┫ [46.50%, 465/1000, 04:28:49/09:38:06, 30.37s/i] "
     ]
    },
    {
     "name": "stdout",
     "output_type": "stream",
     "text": [
      "\u001b[32m[2021-12-08 16:24:47 | info | root]: Epoch : 465\u001b[39m\n",
      "\u001b[32m[2021-12-08 16:24:47 | info | root]: Train Loss : 148.63676303631468\u001b[39m\n",
      "\u001b[32m[2021-12-08 16:24:47 | info | root]: Test Loss : 150.8925941173847\u001b[39m\n",
      "\u001b[32m[2021-12-08 16:24:47 | info | root]: Train Reconstruction Loss : 8.983435\u001b[39m\n",
      "\u001b[32m[2021-12-08 16:24:47 | info | root]: Test Reconstruction Loss : 9.823847 \u001b[39m\n",
      "\n"
     ]
    },
    {
     "name": "stderr",
     "output_type": "stream",
     "text": [
      "┣█████████▍          ┫ [47.00%, 470/1000, 04:31:20/09:37:19, 30.02s/i] "
     ]
    },
    {
     "name": "stdout",
     "output_type": "stream",
     "text": [
      "\u001b[32m[2021-12-08 16:27:19 | info | root]: Epoch : 470\u001b[39m\n",
      "\u001b[32m[2021-12-08 16:27:19 | info | root]: Train Loss : 148.63576954380554\u001b[39m\n",
      "\u001b[32m[2021-12-08 16:27:19 | info | root]: Test Loss : 151.02369274237216\u001b[39m\n",
      "\u001b[32m[2021-12-08 16:27:19 | info | root]: Train Reconstruction Loss : 8.964218\u001b[39m\n",
      "\u001b[32m[2021-12-08 16:27:19 | info | root]: Test Reconstruction Loss : 9.822664 \u001b[39m\n",
      "\n"
     ]
    },
    {
     "name": "stderr",
     "output_type": "stream",
     "text": [
      "┣█████████▌          ┫ [47.50%, 475/1000, 04:33:52/09:36:33, 30.23s/i] "
     ]
    },
    {
     "name": "stdout",
     "output_type": "stream",
     "text": [
      "\u001b[32m[2021-12-08 16:29:50 | info | root]: Epoch : 475\u001b[39m\n",
      "\u001b[32m[2021-12-08 16:29:50 | info | root]: Train Loss : 148.62330892882454\u001b[39m\n",
      "\u001b[32m[2021-12-08 16:29:50 | info | root]: Test Loss : 150.81496483240372\u001b[39m\n",
      "\u001b[32m[2021-12-08 16:29:50 | info | root]: Train Reconstruction Loss : 9.020562\u001b[39m\n",
      "\u001b[32m[2021-12-08 16:29:50 | info | root]: Test Reconstruction Loss : 9.876952 \u001b[39m\n",
      "\n"
     ]
    },
    {
     "name": "stderr",
     "output_type": "stream",
     "text": [
      "┣█████████▌          ┫ [48.00%, 480/1000, 04:36:24/09:35:50, 30.44s/i] "
     ]
    },
    {
     "name": "stdout",
     "output_type": "stream",
     "text": [
      "\u001b[32m[2021-12-08 16:32:22 | info | root]: Epoch : 480\u001b[39m\n",
      "\u001b[32m[2021-12-08 16:32:22 | info | root]: Train Loss : 148.67300732591235\u001b[39m\n",
      "\u001b[32m[2021-12-08 16:32:22 | info | root]: Test Loss : 150.97328502703937\u001b[39m\n",
      "\u001b[32m[2021-12-08 16:32:22 | info | root]: Train Reconstruction Loss : 8.985093\u001b[39m\n",
      "\u001b[32m[2021-12-08 16:32:22 | info | root]: Test Reconstruction Loss : 9.871241 \u001b[39m\n",
      "\n"
     ]
    },
    {
     "name": "stderr",
     "output_type": "stream",
     "text": [
      "┣█████████▋          ┫ [48.50%, 485/1000, 04:38:56/09:35:07, 30.36s/i] "
     ]
    },
    {
     "name": "stdout",
     "output_type": "stream",
     "text": [
      "\u001b[32m[2021-12-08 16:34:54 | info | root]: Epoch : 485\u001b[39m\n",
      "\u001b[32m[2021-12-08 16:34:54 | info | root]: Train Loss : 148.64242719611593\u001b[39m\n",
      "\u001b[32m[2021-12-08 16:34:54 | info | root]: Test Loss : 150.90212743710248\u001b[39m\n",
      "\u001b[32m[2021-12-08 16:34:54 | info | root]: Train Reconstruction Loss : 8.975384\u001b[39m\n",
      "\u001b[32m[2021-12-08 16:34:54 | info | root]: Test Reconstruction Loss : 9.870904 \u001b[39m\n",
      "\n"
     ]
    },
    {
     "name": "stderr",
     "output_type": "stream",
     "text": [
      "┣█████████▊          ┫ [49.00%, 490/1000, 04:41:28/09:34:25, 30.50s/i] "
     ]
    },
    {
     "name": "stdout",
     "output_type": "stream",
     "text": [
      "\u001b[32m[2021-12-08 16:37:26 | info | root]: Epoch : 490\u001b[39m\n",
      "\u001b[32m[2021-12-08 16:37:26 | info | root]: Train Loss : 148.6993662468779\u001b[39m\n",
      "\u001b[32m[2021-12-08 16:37:26 | info | root]: Test Loss : 150.97368360177066\u001b[39m\n",
      "\u001b[32m[2021-12-08 16:37:26 | info | root]: Train Reconstruction Loss : 8.975882\u001b[39m\n",
      "\u001b[32m[2021-12-08 16:37:26 | info | root]: Test Reconstruction Loss : 9.844196 \u001b[39m\n",
      "\n"
     ]
    },
    {
     "name": "stderr",
     "output_type": "stream",
     "text": [
      "┣█████████▉          ┫ [49.50%, 495/1000, 04:44:00/09:33:44, 30.52s/i] "
     ]
    },
    {
     "name": "stdout",
     "output_type": "stream",
     "text": [
      "\u001b[32m[2021-12-08 16:39:58 | info | root]: Epoch : 495\u001b[39m\n",
      "\u001b[32m[2021-12-08 16:39:58 | info | root]: Train Loss : 148.65658309594545\u001b[39m\n",
      "\u001b[32m[2021-12-08 16:39:58 | info | root]: Test Loss : 151.03101961429303\u001b[39m\n",
      "\u001b[32m[2021-12-08 16:39:58 | info | root]: Train Reconstruction Loss : 8.980504\u001b[39m\n",
      "\u001b[32m[2021-12-08 16:39:58 | info | root]: Test Reconstruction Loss : 9.834284 \u001b[39m\n",
      "\n"
     ]
    },
    {
     "name": "stderr",
     "output_type": "stream",
     "text": [
      "┣██████████          ┫ [50.00%, 500/1000, 04:46:33/09:33:05, 30.65s/i] "
     ]
    },
    {
     "name": "stdout",
     "output_type": "stream",
     "text": [
      "\u001b[32m[2021-12-08 16:42:31 | info | root]: Epoch : 500\u001b[39m\n",
      "\u001b[32m[2021-12-08 16:42:31 | info | root]: Train Loss : 148.65373371250473\u001b[39m\n",
      "\u001b[32m[2021-12-08 16:42:31 | info | root]: Test Loss : 150.77374863013242\u001b[39m\n",
      "\u001b[32m[2021-12-08 16:42:31 | info | root]: Train Reconstruction Loss : 8.956608\u001b[39m\n",
      "\u001b[32m[2021-12-08 16:42:31 | info | root]: Test Reconstruction Loss : 9.792258 \u001b[39m\n",
      "\n"
     ]
    },
    {
     "name": "stderr",
     "output_type": "stream",
     "text": [
      "┣██████████          ┫ [50.50%, 505/1000, 04:49:17/09:32:51, 30.57s/i] "
     ]
    },
    {
     "name": "stdout",
     "output_type": "stream",
     "text": [
      "\u001b[32m[2021-12-08 16:45:16 | info | root]: Epoch : 505\u001b[39m\n",
      "\u001b[32m[2021-12-08 16:45:16 | info | root]: Train Loss : 148.6643496099124\u001b[39m\n",
      "\u001b[32m[2021-12-08 16:45:16 | info | root]: Test Loss : 150.76448568930994\u001b[39m\n",
      "\u001b[32m[2021-12-08 16:45:16 | info | root]: Train Reconstruction Loss : 8.973876\u001b[39m\n",
      "\u001b[32m[2021-12-08 16:45:16 | info | root]: Test Reconstruction Loss : 9.800513 \u001b[39m\n",
      "\n"
     ]
    },
    {
     "name": "stderr",
     "output_type": "stream",
     "text": [
      "┣██████████▏         ┫ [51.00%, 510/1000, 04:51:51/09:32:15, 30.42s/i] "
     ]
    },
    {
     "name": "stdout",
     "output_type": "stream",
     "text": [
      "\u001b[32m[2021-12-08 16:47:49 | info | root]: Epoch : 510\u001b[39m\n",
      "\u001b[32m[2021-12-08 16:47:49 | info | root]: Train Loss : 148.63973346209448\u001b[39m\n",
      "\u001b[32m[2021-12-08 16:47:49 | info | root]: Test Loss : 150.7803119268173\u001b[39m\n",
      "\u001b[32m[2021-12-08 16:47:49 | info | root]: Train Reconstruction Loss : 9.002804\u001b[39m\n",
      "\u001b[32m[2021-12-08 16:47:49 | info | root]: Test Reconstruction Loss : 9.795061 \u001b[39m\n",
      "\n"
     ]
    },
    {
     "name": "stderr",
     "output_type": "stream",
     "text": [
      "┣██████████▎         ┫ [51.50%, 515/1000, 04:54:23/09:31:37, 30.25s/i] "
     ]
    },
    {
     "name": "stdout",
     "output_type": "stream",
     "text": [
      "\u001b[32m[2021-12-08 16:50:22 | info | root]: Epoch : 515\u001b[39m\n",
      "\u001b[32m[2021-12-08 16:50:22 | info | root]: Train Loss : 148.53084464465033\u001b[39m\n",
      "\u001b[32m[2021-12-08 16:50:22 | info | root]: Test Loss : 150.81544412710727\u001b[39m\n",
      "\u001b[32m[2021-12-08 16:50:22 | info | root]: Train Reconstruction Loss : 8.947194\u001b[39m\n",
      "\u001b[32m[2021-12-08 16:50:22 | info | root]: Test Reconstruction Loss : 9.797479 \u001b[39m\n",
      "\n"
     ]
    },
    {
     "name": "stderr",
     "output_type": "stream",
     "text": [
      "┣██████████▍         ┫ [52.00%, 520/1000, 04:56:56/09:31:02, 30.65s/i] "
     ]
    },
    {
     "name": "stdout",
     "output_type": "stream",
     "text": [
      "\u001b[32m[2021-12-08 16:52:55 | info | root]: Epoch : 520\u001b[39m\n",
      "\u001b[32m[2021-12-08 16:52:55 | info | root]: Train Loss : 148.75859753172068\u001b[39m\n",
      "\u001b[32m[2021-12-08 16:52:55 | info | root]: Test Loss : 150.8814610456809\u001b[39m\n",
      "\u001b[32m[2021-12-08 16:52:55 | info | root]: Train Reconstruction Loss : 9.088512\u001b[39m\n",
      "\u001b[32m[2021-12-08 16:52:55 | info | root]: Test Reconstruction Loss : 9.842536 \u001b[39m\n",
      "\n"
     ]
    },
    {
     "name": "stderr",
     "output_type": "stream",
     "text": [
      "┣██████████▌         ┫ [52.50%, 525/1000, 04:59:30/09:30:28, 30.87s/i] "
     ]
    },
    {
     "name": "stdout",
     "output_type": "stream",
     "text": [
      "\u001b[32m[2021-12-08 16:55:29 | info | root]: Epoch : 525\u001b[39m\n",
      "\u001b[32m[2021-12-08 16:55:29 | info | root]: Train Loss : 148.58862401581624\u001b[39m\n",
      "\u001b[32m[2021-12-08 16:55:29 | info | root]: Test Loss : 150.79866673396185\u001b[39m\n",
      "\u001b[32m[2021-12-08 16:55:29 | info | root]: Train Reconstruction Loss : 8.974391\u001b[39m\n",
      "\u001b[32m[2021-12-08 16:55:29 | info | root]: Test Reconstruction Loss : 9.822586 \u001b[39m\n",
      "\n"
     ]
    },
    {
     "name": "stderr",
     "output_type": "stream",
     "text": [
      "┣██████████▌         ┫ [53.00%, 530/1000, 05:02:06/09:30:00, 31.00s/i] "
     ]
    },
    {
     "name": "stdout",
     "output_type": "stream",
     "text": [
      "\u001b[32m[2021-12-08 16:58:05 | info | root]: Epoch : 530\u001b[39m\n",
      "\u001b[32m[2021-12-08 16:58:05 | info | root]: Train Loss : 148.5615241255297\u001b[39m\n",
      "\u001b[32m[2021-12-08 16:58:05 | info | root]: Test Loss : 150.76728362303513\u001b[39m\n",
      "\u001b[32m[2021-12-08 16:58:05 | info | root]: Train Reconstruction Loss : 8.912422\u001b[39m\n",
      "\u001b[32m[2021-12-08 16:58:05 | info | root]: Test Reconstruction Loss : 9.771157 \u001b[39m\n",
      "\n"
     ]
    },
    {
     "name": "stderr",
     "output_type": "stream",
     "text": [
      "┣██████████▋         ┫ [53.50%, 535/1000, 05:04:41/09:29:30, 31.23s/i] "
     ]
    },
    {
     "name": "stdout",
     "output_type": "stream",
     "text": [
      "\u001b[32m[2021-12-08 17:00:40 | info | root]: Epoch : 535\u001b[39m\n",
      "\u001b[32m[2021-12-08 17:00:40 | info | root]: Train Loss : 148.5412566674557\u001b[39m\n",
      "\u001b[32m[2021-12-08 17:00:40 | info | root]: Test Loss : 150.63950010446402\u001b[39m\n",
      "\u001b[32m[2021-12-08 17:00:40 | info | root]: Train Reconstruction Loss : 8.987799\u001b[39m\n",
      "\u001b[32m[2021-12-08 17:00:40 | info | root]: Test Reconstruction Loss : 9.839438 \u001b[39m\n",
      "\n"
     ]
    },
    {
     "name": "stderr",
     "output_type": "stream",
     "text": [
      "┣██████████▊         ┫ [54.00%, 540/1000, 05:07:17/09:29:02, 30.99s/i] "
     ]
    },
    {
     "name": "stdout",
     "output_type": "stream",
     "text": [
      "\u001b[32m[2021-12-08 17:03:16 | info | root]: Epoch : 540\u001b[39m\n",
      "\u001b[32m[2021-12-08 17:03:16 | info | root]: Train Loss : 148.51937432222968\u001b[39m\n",
      "\u001b[32m[2021-12-08 17:03:16 | info | root]: Test Loss : 150.64934136317328\u001b[39m\n",
      "\u001b[32m[2021-12-08 17:03:16 | info | root]: Train Reconstruction Loss : 8.961503\u001b[39m\n",
      "\u001b[32m[2021-12-08 17:03:16 | info | root]: Test Reconstruction Loss : 9.811732 \u001b[39m\n",
      "\n"
     ]
    },
    {
     "name": "stderr",
     "output_type": "stream",
     "text": [
      "┣██████████▉         ┫ [54.50%, 545/1000, 05:09:53/09:28:36, 31.75s/i] "
     ]
    },
    {
     "name": "stdout",
     "output_type": "stream",
     "text": [
      "\u001b[32m[2021-12-08 17:05:53 | info | root]: Epoch : 545\u001b[39m\n",
      "\u001b[32m[2021-12-08 17:05:53 | info | root]: Train Loss : 148.56963494951214\u001b[39m\n",
      "\u001b[32m[2021-12-08 17:05:53 | info | root]: Test Loss : 150.90459376115066\u001b[39m\n",
      "\u001b[32m[2021-12-08 17:05:53 | info | root]: Train Reconstruction Loss : 8.96125\u001b[39m\n",
      "\u001b[32m[2021-12-08 17:05:53 | info | root]: Test Reconstruction Loss : 9.7728 \u001b[39m\n",
      "\n"
     ]
    },
    {
     "name": "stderr",
     "output_type": "stream",
     "text": [
      "┣███████████         ┫ [55.00%, 550/1000, 05:12:31/09:28:13, 31.68s/i] "
     ]
    },
    {
     "name": "stdout",
     "output_type": "stream",
     "text": [
      "\u001b[32m[2021-12-08 17:08:31 | info | root]: Epoch : 550\u001b[39m\n",
      "\u001b[32m[2021-12-08 17:08:31 | info | root]: Train Loss : 148.594829107425\u001b[39m\n",
      "\u001b[32m[2021-12-08 17:08:31 | info | root]: Test Loss : 150.76847752546652\u001b[39m\n",
      "\u001b[32m[2021-12-08 17:08:31 | info | root]: Train Reconstruction Loss : 8.952259\u001b[39m\n",
      "\u001b[32m[2021-12-08 17:08:31 | info | root]: Test Reconstruction Loss : 9.789352 \u001b[39m\n",
      "\n"
     ]
    },
    {
     "name": "stderr",
     "output_type": "stream",
     "text": [
      "┣███████████         ┫ [55.50%, 555/1000, 05:15:14/09:28:00, 33.66s/i] "
     ]
    },
    {
     "name": "stdout",
     "output_type": "stream",
     "text": [
      "\u001b[32m[2021-12-08 17:11:16 | info | root]: Epoch : 555\u001b[39m\n",
      "\u001b[32m[2021-12-08 17:11:16 | info | root]: Train Loss : 148.5307868318344\u001b[39m\n",
      "\u001b[32m[2021-12-08 17:11:16 | info | root]: Test Loss : 150.78761132558188\u001b[39m\n",
      "\u001b[32m[2021-12-08 17:11:16 | info | root]: Train Reconstruction Loss : 8.9216585\u001b[39m\n",
      "\u001b[32m[2021-12-08 17:11:16 | info | root]: Test Reconstruction Loss : 9.759918 \u001b[39m\n",
      "\n"
     ]
    },
    {
     "name": "stderr",
     "output_type": "stream",
     "text": [
      "┣███████████▏        ┫ [56.00%, 560/1000, 05:17:50/09:27:34, 28.99s/i] "
     ]
    },
    {
     "name": "stdout",
     "output_type": "stream",
     "text": [
      "\u001b[32m[2021-12-08 17:13:48 | info | root]: Epoch : 560\u001b[39m\n",
      "\u001b[32m[2021-12-08 17:13:48 | info | root]: Train Loss : 148.52474342313621\u001b[39m\n",
      "\u001b[32m[2021-12-08 17:13:48 | info | root]: Test Loss : 150.83833073347043\u001b[39m\n",
      "\u001b[32m[2021-12-08 17:13:48 | info | root]: Train Reconstruction Loss : 8.939824\u001b[39m\n",
      "\u001b[32m[2021-12-08 17:13:48 | info | root]: Test Reconstruction Loss : 9.764958 \u001b[39m\n",
      "\n"
     ]
    },
    {
     "name": "stderr",
     "output_type": "stream",
     "text": [
      "┣███████████▎        ┫ [56.50%, 565/1000, 05:20:17/09:26:53, 29.33s/i] "
     ]
    },
    {
     "name": "stdout",
     "output_type": "stream",
     "text": [
      "\u001b[32m[2021-12-08 17:16:15 | info | root]: Epoch : 565\u001b[39m\n",
      "\u001b[32m[2021-12-08 17:16:15 | info | root]: Train Loss : 148.51305990310718\u001b[39m\n",
      "\u001b[32m[2021-12-08 17:16:15 | info | root]: Test Loss : 150.72233437269162\u001b[39m\n",
      "\u001b[32m[2021-12-08 17:16:15 | info | root]: Train Reconstruction Loss : 8.969715\u001b[39m\n",
      "\u001b[32m[2021-12-08 17:16:15 | info | root]: Test Reconstruction Loss : 9.821798 \u001b[39m\n",
      "\n"
     ]
    },
    {
     "name": "stderr",
     "output_type": "stream",
     "text": [
      "┣███████████▍        ┫ [57.00%, 570/1000, 05:22:44/09:26:12, 29.38s/i] "
     ]
    },
    {
     "name": "stdout",
     "output_type": "stream",
     "text": [
      "\u001b[32m[2021-12-08 17:18:42 | info | root]: Epoch : 570\u001b[39m\n",
      "\u001b[32m[2021-12-08 17:18:42 | info | root]: Train Loss : 148.5306914542248\u001b[39m\n",
      "\u001b[32m[2021-12-08 17:18:42 | info | root]: Test Loss : 150.60689659607715\u001b[39m\n",
      "\u001b[32m[2021-12-08 17:18:42 | info | root]: Train Reconstruction Loss : 8.947722\u001b[39m\n",
      "\u001b[32m[2021-12-08 17:18:42 | info | root]: Test Reconstruction Loss : 9.798255 \u001b[39m\n",
      "\n"
     ]
    },
    {
     "name": "stderr",
     "output_type": "stream",
     "text": [
      "┣███████████▌        ┫ [57.50%, 575/1000, 05:25:11/09:25:32, 29.48s/i] "
     ]
    },
    {
     "name": "stdout",
     "output_type": "stream",
     "text": [
      "\u001b[32m[2021-12-08 17:21:08 | info | root]: Epoch : 575\u001b[39m\n",
      "\u001b[32m[2021-12-08 17:21:08 | info | root]: Train Loss : 148.46388789963697\u001b[39m\n",
      "\u001b[32m[2021-12-08 17:21:08 | info | root]: Test Loss : 150.65762283863165\u001b[39m\n",
      "\u001b[32m[2021-12-08 17:21:08 | info | root]: Train Reconstruction Loss : 8.950788\u001b[39m\n",
      "\u001b[32m[2021-12-08 17:21:08 | info | root]: Test Reconstruction Loss : 9.780047 \u001b[39m\n",
      "\n"
     ]
    },
    {
     "name": "stderr",
     "output_type": "stream",
     "text": [
      "┣███████████▌        ┫ [58.00%, 580/1000, 05:27:43/09:25:02, 29.47s/i] "
     ]
    },
    {
     "name": "stdout",
     "output_type": "stream",
     "text": [
      "\u001b[32m[2021-12-08 17:23:41 | info | root]: Epoch : 580\u001b[39m\n",
      "\u001b[32m[2021-12-08 17:23:41 | info | root]: Train Loss : 148.51952782613617\u001b[39m\n",
      "\u001b[32m[2021-12-08 17:23:41 | info | root]: Test Loss : 150.70968341827393\u001b[39m\n",
      "\u001b[32m[2021-12-08 17:23:41 | info | root]: Train Reconstruction Loss : 8.896328\u001b[39m\n",
      "\u001b[32m[2021-12-08 17:23:41 | info | root]: Test Reconstruction Loss : 9.712514 \u001b[39m\n",
      "\n"
     ]
    },
    {
     "name": "stderr",
     "output_type": "stream",
     "text": [
      "┣███████████▋        ┫ [58.50%, 585/1000, 05:30:10/09:24:24, 29.33s/i] "
     ]
    },
    {
     "name": "stdout",
     "output_type": "stream",
     "text": [
      "\u001b[32m[2021-12-08 17:26:08 | info | root]: Epoch : 585\u001b[39m\n",
      "\u001b[32m[2021-12-08 17:26:08 | info | root]: Train Loss : 148.4475452500448\u001b[39m\n",
      "\u001b[32m[2021-12-08 17:26:08 | info | root]: Test Loss : 150.5340921328618\u001b[39m\n",
      "\u001b[32m[2021-12-08 17:26:08 | info | root]: Train Reconstruction Loss : 8.889134\u001b[39m\n",
      "\u001b[32m[2021-12-08 17:26:08 | info | root]: Test Reconstruction Loss : 9.690741 \u001b[39m\n",
      "\n"
     ]
    },
    {
     "name": "stderr",
     "output_type": "stream",
     "text": [
      "┣███████████▊        ┫ [59.00%, 590/1000, 05:32:38/09:23:47, 29.73s/i] "
     ]
    },
    {
     "name": "stdout",
     "output_type": "stream",
     "text": [
      "\u001b[32m[2021-12-08 17:28:35 | info | root]: Epoch : 590\u001b[39m\n",
      "\u001b[32m[2021-12-08 17:28:35 | info | root]: Train Loss : 148.47730070091745\u001b[39m\n",
      "\u001b[32m[2021-12-08 17:28:35 | info | root]: Test Loss : 150.71530433801505\u001b[39m\n",
      "\u001b[32m[2021-12-08 17:28:35 | info | root]: Train Reconstruction Loss : 8.868999\u001b[39m\n",
      "\u001b[32m[2021-12-08 17:28:35 | info | root]: Test Reconstruction Loss : 9.692206 \u001b[39m\n",
      "\n"
     ]
    },
    {
     "name": "stderr",
     "output_type": "stream",
     "text": [
      "┣███████████▉        ┫ [59.50%, 595/1000, 05:35:06/09:23:12, 29.62s/i] "
     ]
    },
    {
     "name": "stdout",
     "output_type": "stream",
     "text": [
      "\u001b[32m[2021-12-08 17:31:04 | info | root]: Epoch : 595\u001b[39m\n",
      "\u001b[32m[2021-12-08 17:31:04 | info | root]: Train Loss : 148.45157037855085\u001b[39m\n",
      "\u001b[32m[2021-12-08 17:31:04 | info | root]: Test Loss : 150.62858878649197\u001b[39m\n",
      "\u001b[32m[2021-12-08 17:31:04 | info | root]: Train Reconstruction Loss : 8.869409\u001b[39m\n",
      "\u001b[32m[2021-12-08 17:31:04 | info | root]: Test Reconstruction Loss : 9.634837 \u001b[39m\n",
      "\n"
     ]
    },
    {
     "name": "stderr",
     "output_type": "stream",
     "text": [
      "┣████████████        ┫ [60.00%, 600/1000, 05:37:35/09:22:38, 29.50s/i] "
     ]
    },
    {
     "name": "stdout",
     "output_type": "stream",
     "text": [
      "\u001b[32m[2021-12-08 17:33:32 | info | root]: Epoch : 600\u001b[39m\n",
      "\u001b[32m[2021-12-08 17:33:32 | info | root]: Train Loss : 148.45571373010267\u001b[39m\n",
      "\u001b[32m[2021-12-08 17:33:32 | info | root]: Test Loss : 150.5821401033646\u001b[39m\n",
      "\u001b[32m[2021-12-08 17:33:32 | info | root]: Train Reconstruction Loss : 8.928366\u001b[39m\n",
      "\u001b[32m[2021-12-08 17:33:32 | info | root]: Test Reconstruction Loss : 9.719616 \u001b[39m\n",
      "\n"
     ]
    },
    {
     "name": "stderr",
     "output_type": "stream",
     "text": [
      "┣████████████        ┫ [60.50%, 605/1000, 05:40:13/09:22:20, 30.19s/i] "
     ]
    },
    {
     "name": "stdout",
     "output_type": "stream",
     "text": [
      "\u001b[32m[2021-12-08 17:36:10 | info | root]: Epoch : 605\u001b[39m\n",
      "\u001b[32m[2021-12-08 17:36:10 | info | root]: Train Loss : 148.49731621798227\u001b[39m\n",
      "\u001b[32m[2021-12-08 17:36:10 | info | root]: Test Loss : 150.50967715336725\u001b[39m\n",
      "\u001b[32m[2021-12-08 17:36:10 | info | root]: Train Reconstruction Loss : 8.934202\u001b[39m\n",
      "\u001b[32m[2021-12-08 17:36:10 | info | root]: Test Reconstruction Loss : 9.725924 \u001b[39m\n",
      "\n"
     ]
    },
    {
     "name": "stderr",
     "output_type": "stream",
     "text": [
      "┣████████████▏       ┫ [61.00%, 610/1000, 05:42:43/09:21:50, 29.81s/i] "
     ]
    },
    {
     "name": "stdout",
     "output_type": "stream",
     "text": [
      "\u001b[32m[2021-12-08 17:38:41 | info | root]: Epoch : 610\u001b[39m\n",
      "\u001b[32m[2021-12-08 17:38:41 | info | root]: Train Loss : 148.4777215308288\u001b[39m\n",
      "\u001b[32m[2021-12-08 17:38:41 | info | root]: Test Loss : 150.69554947584103\u001b[39m\n",
      "\u001b[32m[2021-12-08 17:38:41 | info | root]: Train Reconstruction Loss : 8.891383\u001b[39m\n",
      "\u001b[32m[2021-12-08 17:38:41 | info | root]: Test Reconstruction Loss : 9.720846 \u001b[39m\n",
      "\n"
     ]
    },
    {
     "name": "stderr",
     "output_type": "stream",
     "text": [
      "┣████████████▎       ┫ [61.50%, 615/1000, 05:45:12/09:21:19, 29.72s/i] "
     ]
    },
    {
     "name": "stdout",
     "output_type": "stream",
     "text": [
      "\u001b[32m[2021-12-08 17:41:11 | info | root]: Epoch : 615\u001b[39m\n",
      "\u001b[32m[2021-12-08 17:41:11 | info | root]: Train Loss : 148.42030971409037\u001b[39m\n",
      "\u001b[32m[2021-12-08 17:41:11 | info | root]: Test Loss : 150.54661498925626\u001b[39m\n",
      "\u001b[32m[2021-12-08 17:41:11 | info | root]: Train Reconstruction Loss : 8.880059\u001b[39m\n",
      "\u001b[32m[2021-12-08 17:41:11 | info | root]: Test Reconstruction Loss : 9.706414 \u001b[39m\n",
      "\n"
     ]
    },
    {
     "name": "stderr",
     "output_type": "stream",
     "text": [
      "┣████████████▍       ┫ [62.00%, 620/1000, 05:47:42/09:20:49, 30.18s/i] "
     ]
    },
    {
     "name": "stdout",
     "output_type": "stream",
     "text": [
      "\u001b[32m[2021-12-08 17:43:41 | info | root]: Epoch : 620\u001b[39m\n",
      "\u001b[32m[2021-12-08 17:43:41 | info | root]: Train Loss : 148.4186178185006\u001b[39m\n",
      "\u001b[32m[2021-12-08 17:43:41 | info | root]: Test Loss : 150.45845869259958\u001b[39m\n",
      "\u001b[32m[2021-12-08 17:43:41 | info | root]: Train Reconstruction Loss : 8.87797\u001b[39m\n",
      "\u001b[32m[2021-12-08 17:43:41 | info | root]: Test Reconstruction Loss : 9.687397 \u001b[39m\n",
      "\n"
     ]
    },
    {
     "name": "stderr",
     "output_type": "stream",
     "text": [
      "┣████████████▌       ┫ [62.50%, 625/1000, 05:50:14/09:20:22, 30.41s/i] "
     ]
    },
    {
     "name": "stdout",
     "output_type": "stream",
     "text": [
      "\u001b[32m[2021-12-08 17:46:12 | info | root]: Epoch : 625\u001b[39m\n",
      "\u001b[32m[2021-12-08 17:46:12 | info | root]: Train Loss : 148.358374083691\u001b[39m\n",
      "\u001b[32m[2021-12-08 17:46:12 | info | root]: Test Loss : 150.46200463710687\u001b[39m\n",
      "\u001b[32m[2021-12-08 17:46:12 | info | root]: Train Reconstruction Loss : 8.890099\u001b[39m\n",
      "\u001b[32m[2021-12-08 17:46:12 | info | root]: Test Reconstruction Loss : 9.719913 \u001b[39m\n",
      "\n"
     ]
    },
    {
     "name": "stderr",
     "output_type": "stream",
     "text": [
      "┣████████████▌       ┫ [63.00%, 630/1000, 05:52:47/09:19:58, 30.59s/i] "
     ]
    },
    {
     "name": "stdout",
     "output_type": "stream",
     "text": [
      "\u001b[32m[2021-12-08 17:48:45 | info | root]: Epoch : 630\u001b[39m\n",
      "\u001b[32m[2021-12-08 17:48:45 | info | root]: Train Loss : 148.3839661446554\u001b[39m\n",
      "\u001b[32m[2021-12-08 17:48:45 | info | root]: Test Loss : 150.56231886301285\u001b[39m\n",
      "\u001b[32m[2021-12-08 17:48:45 | info | root]: Train Reconstruction Loss : 8.884102\u001b[39m\n",
      "\u001b[32m[2021-12-08 17:48:45 | info | root]: Test Reconstruction Loss : 9.714291 \u001b[39m\n",
      "\n"
     ]
    },
    {
     "name": "stderr",
     "output_type": "stream",
     "text": [
      "┣████████████▋       ┫ [63.50%, 635/1000, 05:55:19/09:19:34, 30.64s/i] "
     ]
    },
    {
     "name": "stdout",
     "output_type": "stream",
     "text": [
      "\u001b[32m[2021-12-08 17:51:18 | info | root]: Epoch : 635\u001b[39m\n",
      "\u001b[32m[2021-12-08 17:51:18 | info | root]: Train Loss : 148.40345934131992\u001b[39m\n",
      "\u001b[32m[2021-12-08 17:51:18 | info | root]: Test Loss : 150.5729584204845\u001b[39m\n",
      "\u001b[32m[2021-12-08 17:51:18 | info | root]: Train Reconstruction Loss : 8.857164\u001b[39m\n",
      "\u001b[32m[2021-12-08 17:51:18 | info | root]: Test Reconstruction Loss : 9.686066 \u001b[39m\n",
      "\n"
     ]
    },
    {
     "name": "stderr",
     "output_type": "stream",
     "text": [
      "┣████████████▊       ┫ [64.00%, 640/1000, 05:57:52/09:19:10, 30.59s/i] "
     ]
    },
    {
     "name": "stdout",
     "output_type": "stream",
     "text": [
      "\u001b[32m[2021-12-08 17:53:50 | info | root]: Epoch : 640\u001b[39m\n",
      "\u001b[32m[2021-12-08 17:53:50 | info | root]: Train Loss : 148.42573424006474\u001b[39m\n",
      "\u001b[32m[2021-12-08 17:53:50 | info | root]: Test Loss : 150.35267364061795\u001b[39m\n",
      "\u001b[32m[2021-12-08 17:53:50 | info | root]: Train Reconstruction Loss : 8.895456\u001b[39m\n",
      "\u001b[32m[2021-12-08 17:53:50 | info | root]: Test Reconstruction Loss : 9.654068 \u001b[39m\n",
      "\n"
     ]
    },
    {
     "name": "stderr",
     "output_type": "stream",
     "text": [
      "┣████████████▉       ┫ [64.50%, 645/1000, 06:00:25/09:18:47, 30.67s/i] "
     ]
    },
    {
     "name": "stdout",
     "output_type": "stream",
     "text": [
      "\u001b[32m[2021-12-08 17:56:23 | info | root]: Epoch : 645\u001b[39m\n",
      "\u001b[32m[2021-12-08 17:56:23 | info | root]: Train Loss : 148.39771646929142\u001b[39m\n",
      "\u001b[32m[2021-12-08 17:56:23 | info | root]: Test Loss : 150.5539603844667\u001b[39m\n",
      "\u001b[32m[2021-12-08 17:56:23 | info | root]: Train Reconstruction Loss : 8.887872\u001b[39m\n",
      "\u001b[32m[2021-12-08 17:56:23 | info | root]: Test Reconstruction Loss : 9.666916 \u001b[39m\n",
      "\n"
     ]
    },
    {
     "name": "stderr",
     "output_type": "stream",
     "text": [
      "┣█████████████       ┫ [65.00%, 650/1000, 06:02:58/09:18:25, 30.81s/i] "
     ]
    },
    {
     "name": "stdout",
     "output_type": "stream",
     "text": [
      "\u001b[32m[2021-12-08 17:58:57 | info | root]: Epoch : 650\u001b[39m\n",
      "\u001b[32m[2021-12-08 17:58:57 | info | root]: Train Loss : 148.3886421574091\u001b[39m\n",
      "\u001b[32m[2021-12-08 17:58:57 | info | root]: Test Loss : 150.55172896996524\u001b[39m\n",
      "\u001b[32m[2021-12-08 17:58:57 | info | root]: Train Reconstruction Loss : 8.895987\u001b[39m\n",
      "\u001b[32m[2021-12-08 17:58:57 | info | root]: Test Reconstruction Loss : 9.66037 \u001b[39m\n",
      "\n"
     ]
    },
    {
     "name": "stderr",
     "output_type": "stream",
     "text": [
      "┣█████████████       ┫ [65.50%, 655/1000, 06:05:36/09:18:10, 31.34s/i] "
     ]
    },
    {
     "name": "stdout",
     "output_type": "stream",
     "text": [
      "\u001b[32m[2021-12-08 18:01:35 | info | root]: Epoch : 655\u001b[39m\n",
      "\u001b[32m[2021-12-08 18:01:35 | info | root]: Train Loss : 148.3425654978228\u001b[39m\n",
      "\u001b[32m[2021-12-08 18:01:35 | info | root]: Test Loss : 150.4800157913795\u001b[39m\n",
      "\u001b[32m[2021-12-08 18:01:35 | info | root]: Train Reconstruction Loss : 8.894259\u001b[39m\n",
      "\u001b[32m[2021-12-08 18:01:35 | info | root]: Test Reconstruction Loss : 9.663609 \u001b[39m\n",
      "\n"
     ]
    },
    {
     "name": "stderr",
     "output_type": "stream",
     "text": [
      "┣█████████████▏      ┫ [66.00%, 660/1000, 06:08:11/09:17:52, 31.15s/i] "
     ]
    },
    {
     "name": "stdout",
     "output_type": "stream",
     "text": [
      "\u001b[32m[2021-12-08 18:04:10 | info | root]: Epoch : 660\u001b[39m\n",
      "\u001b[32m[2021-12-08 18:04:10 | info | root]: Train Loss : 148.36756142989802\u001b[39m\n",
      "\u001b[32m[2021-12-08 18:04:10 | info | root]: Test Loss : 150.29403788004166\u001b[39m\n",
      "\u001b[32m[2021-12-08 18:04:10 | info | root]: Train Reconstruction Loss : 8.867901\u001b[39m\n",
      "\u001b[32m[2021-12-08 18:04:10 | info | root]: Test Reconstruction Loss : 9.606866 \u001b[39m\n",
      "\n"
     ]
    },
    {
     "name": "stderr",
     "output_type": "stream",
     "text": [
      "┣█████████████▎      ┫ [66.50%, 665/1000, 06:10:47/09:17:34, 31.22s/i] "
     ]
    },
    {
     "name": "stdout",
     "output_type": "stream",
     "text": [
      "\u001b[32m[2021-12-08 18:06:46 | info | root]: Epoch : 665\u001b[39m\n",
      "\u001b[32m[2021-12-08 18:06:46 | info | root]: Train Loss : 148.38555537929147\u001b[39m\n",
      "\u001b[32m[2021-12-08 18:06:46 | info | root]: Test Loss : 150.48457704446255\u001b[39m\n",
      "\u001b[32m[2021-12-08 18:06:46 | info | root]: Train Reconstruction Loss : 8.871882\u001b[39m\n",
      "\u001b[32m[2021-12-08 18:06:46 | info | root]: Test Reconstruction Loss : 9.662565 \u001b[39m\n",
      "\n"
     ]
    },
    {
     "name": "stderr",
     "output_type": "stream",
     "text": [
      "┣█████████████▍      ┫ [67.00%, 670/1000, 06:13:23/09:17:17, 31.30s/i] "
     ]
    },
    {
     "name": "stdout",
     "output_type": "stream",
     "text": [
      "\u001b[32m[2021-12-08 18:09:22 | info | root]: Epoch : 670\u001b[39m\n",
      "\u001b[32m[2021-12-08 18:09:22 | info | root]: Train Loss : 148.4186491645642\u001b[39m\n",
      "\u001b[32m[2021-12-08 18:09:22 | info | root]: Test Loss : 150.45615144876334\u001b[39m\n",
      "\u001b[32m[2021-12-08 18:09:22 | info | root]: Train Reconstruction Loss : 8.877106\u001b[39m\n",
      "\u001b[32m[2021-12-08 18:09:22 | info | root]: Test Reconstruction Loss : 9.668202 \u001b[39m\n",
      "\n"
     ]
    },
    {
     "name": "stderr",
     "output_type": "stream",
     "text": [
      "┣█████████████▌      ┫ [67.50%, 675/1000, 06:16:00/09:17:03, 31.63s/i] "
     ]
    },
    {
     "name": "stdout",
     "output_type": "stream",
     "text": [
      "\u001b[32m[2021-12-08 18:12:00 | info | root]: Epoch : 675\u001b[39m\n",
      "\u001b[32m[2021-12-08 18:12:00 | info | root]: Train Loss : 148.27153432432846\u001b[39m\n",
      "\u001b[32m[2021-12-08 18:12:00 | info | root]: Test Loss : 150.2525531939971\u001b[39m\n",
      "\u001b[32m[2021-12-08 18:12:00 | info | root]: Train Reconstruction Loss : 8.882321\u001b[39m\n",
      "\u001b[32m[2021-12-08 18:12:00 | info | root]: Test Reconstruction Loss : 9.609476 \u001b[39m\n",
      "\n"
     ]
    },
    {
     "name": "stderr",
     "output_type": "stream",
     "text": [
      "┣█████████████▌      ┫ [68.00%, 680/1000, 06:18:40/09:16:52, 31.76s/i] "
     ]
    },
    {
     "name": "stdout",
     "output_type": "stream",
     "text": [
      "\u001b[32m[2021-12-08 18:14:40 | info | root]: Epoch : 680\u001b[39m\n",
      "\u001b[32m[2021-12-08 18:14:40 | info | root]: Train Loss : 148.30451869252144\u001b[39m\n",
      "\u001b[32m[2021-12-08 18:14:40 | info | root]: Test Loss : 150.38010592338367\u001b[39m\n",
      "\u001b[32m[2021-12-08 18:14:40 | info | root]: Train Reconstruction Loss : 8.842443\u001b[39m\n",
      "\u001b[32m[2021-12-08 18:14:40 | info | root]: Test Reconstruction Loss : 9.633395 \u001b[39m\n",
      "\n"
     ]
    },
    {
     "name": "stderr",
     "output_type": "stream",
     "text": [
      "┣█████████████▋      ┫ [68.50%, 685/1000, 06:21:20/09:16:41, 32.28s/i] "
     ]
    },
    {
     "name": "stdout",
     "output_type": "stream",
     "text": [
      "\u001b[32m[2021-12-08 18:17:20 | info | root]: Epoch : 685\u001b[39m\n",
      "\u001b[32m[2021-12-08 18:17:20 | info | root]: Train Loss : 148.44809559035326\u001b[39m\n",
      "\u001b[32m[2021-12-08 18:17:20 | info | root]: Test Loss : 150.20778077687973\u001b[39m\n",
      "\u001b[32m[2021-12-08 18:17:20 | info | root]: Train Reconstruction Loss : 8.926407\u001b[39m\n",
      "\u001b[32m[2021-12-08 18:17:20 | info | root]: Test Reconstruction Loss : 9.667818 \u001b[39m\n",
      "\n"
     ]
    },
    {
     "name": "stderr",
     "output_type": "stream",
     "text": [
      "┣█████████████▊      ┫ [69.00%, 690/1000, 06:24:01/09:16:33, 32.65s/i] "
     ]
    },
    {
     "name": "stdout",
     "output_type": "stream",
     "text": [
      "\u001b[32m[2021-12-08 18:20:02 | info | root]: Epoch : 690\u001b[39m\n",
      "\u001b[32m[2021-12-08 18:20:02 | info | root]: Train Loss : 148.32898339441516\u001b[39m\n",
      "\u001b[32m[2021-12-08 18:20:02 | info | root]: Test Loss : 150.25481290083664\u001b[39m\n",
      "\u001b[32m[2021-12-08 18:20:02 | info | root]: Train Reconstruction Loss : 8.885573\u001b[39m\n",
      "\u001b[32m[2021-12-08 18:20:02 | info | root]: Test Reconstruction Loss : 9.642074 \u001b[39m\n",
      "\n"
     ]
    },
    {
     "name": "stderr",
     "output_type": "stream",
     "text": [
      "┣█████████████▉      ┫ [69.50%, 695/1000, 06:26:49/09:16:35, 34.79s/i] "
     ]
    },
    {
     "name": "stdout",
     "output_type": "stream",
     "text": [
      "\u001b[32m[2021-12-08 18:22:53 | info | root]: Epoch : 695\u001b[39m\n",
      "\u001b[32m[2021-12-08 18:22:53 | info | root]: Train Loss : 148.30870874663427\u001b[39m\n",
      "\u001b[32m[2021-12-08 18:22:53 | info | root]: Test Loss : 150.444638411204\u001b[39m\n",
      "\u001b[32m[2021-12-08 18:22:53 | info | root]: Train Reconstruction Loss : 8.859692\u001b[39m\n",
      "\u001b[32m[2021-12-08 18:22:53 | info | root]: Test Reconstruction Loss : 9.641484 \u001b[39m\n",
      "\n"
     ]
    },
    {
     "name": "stderr",
     "output_type": "stream",
     "text": [
      "┣██████████████      ┫ [70.00%, 700/1000, 06:29:23/09:16:16, 29.61s/i] "
     ]
    },
    {
     "name": "stdout",
     "output_type": "stream",
     "text": [
      "\u001b[32m[2021-12-08 18:25:21 | info | root]: Epoch : 700\u001b[39m\n",
      "\u001b[32m[2021-12-08 18:25:21 | info | root]: Train Loss : 148.27434240970183\u001b[39m\n",
      "\u001b[32m[2021-12-08 18:25:21 | info | root]: Test Loss : 150.28814697265625\u001b[39m\n",
      "\u001b[32m[2021-12-08 18:25:21 | info | root]: Train Reconstruction Loss : 8.8762865\u001b[39m\n",
      "\u001b[32m[2021-12-08 18:25:21 | info | root]: Test Reconstruction Loss : 9.623581 \u001b[39m\n",
      "\n"
     ]
    },
    {
     "name": "stderr",
     "output_type": "stream",
     "text": [
      "┣██████████████      ┫ [70.50%, 705/1000, 06:31:53/09:15:52, 29.56s/i] "
     ]
    },
    {
     "name": "stdout",
     "output_type": "stream",
     "text": [
      "\u001b[32m[2021-12-08 18:27:51 | info | root]: Epoch : 705\u001b[39m\n",
      "\u001b[32m[2021-12-08 18:27:51 | info | root]: Train Loss : 148.32758383613512\u001b[39m\n",
      "\u001b[32m[2021-12-08 18:27:51 | info | root]: Test Loss : 150.30604026256464\u001b[39m\n",
      "\u001b[32m[2021-12-08 18:27:51 | info | root]: Train Reconstruction Loss : 8.8919115\u001b[39m\n",
      "\u001b[32m[2021-12-08 18:27:51 | info | root]: Test Reconstruction Loss : 9.655449 \u001b[39m\n",
      "\n"
     ]
    },
    {
     "name": "stderr",
     "output_type": "stream",
     "text": [
      "┣██████████████▏     ┫ [71.00%, 710/1000, 06:34:21/09:15:26, 29.78s/i] "
     ]
    },
    {
     "name": "stdout",
     "output_type": "stream",
     "text": [
      "\u001b[32m[2021-12-08 18:30:19 | info | root]: Epoch : 710\u001b[39m\n",
      "\u001b[32m[2021-12-08 18:30:19 | info | root]: Train Loss : 148.3587415180186\u001b[39m\n",
      "\u001b[32m[2021-12-08 18:30:19 | info | root]: Test Loss : 150.25826438268027\u001b[39m\n",
      "\u001b[32m[2021-12-08 18:30:19 | info | root]: Train Reconstruction Loss : 8.901761\u001b[39m\n",
      "\u001b[32m[2021-12-08 18:30:19 | info | root]: Test Reconstruction Loss : 9.62767 \u001b[39m\n",
      "\n"
     ]
    },
    {
     "name": "stderr",
     "output_type": "stream",
     "text": [
      "┣██████████████▎     ┫ [71.50%, 715/1000, 06:36:49/09:14:59, 29.51s/i] "
     ]
    },
    {
     "name": "stdout",
     "output_type": "stream",
     "text": [
      "\u001b[32m[2021-12-08 18:32:47 | info | root]: Epoch : 715\u001b[39m\n",
      "\u001b[32m[2021-12-08 18:32:47 | info | root]: Train Loss : 148.28027198612372\u001b[39m\n",
      "\u001b[32m[2021-12-08 18:32:47 | info | root]: Test Loss : 150.18377460577548\u001b[39m\n",
      "\u001b[32m[2021-12-08 18:32:47 | info | root]: Train Reconstruction Loss : 8.874608\u001b[39m\n",
      "\u001b[32m[2021-12-08 18:32:47 | info | root]: Test Reconstruction Loss : 9.620819 \u001b[39m\n",
      "\n"
     ]
    },
    {
     "name": "stderr",
     "output_type": "stream",
     "text": [
      "┣██████████████▍     ┫ [72.00%, 720/1000, 06:39:18/09:14:35, 29.75s/i] "
     ]
    },
    {
     "name": "stdout",
     "output_type": "stream",
     "text": [
      "\u001b[32m[2021-12-08 18:35:16 | info | root]: Epoch : 720\u001b[39m\n",
      "\u001b[32m[2021-12-08 18:35:16 | info | root]: Train Loss : 148.30188627863896\u001b[39m\n",
      "\u001b[32m[2021-12-08 18:35:16 | info | root]: Test Loss : 150.22071767464664\u001b[39m\n",
      "\u001b[32m[2021-12-08 18:35:16 | info | root]: Train Reconstruction Loss : 8.8376665\u001b[39m\n",
      "\u001b[32m[2021-12-08 18:35:16 | info | root]: Test Reconstruction Loss : 9.610733 \u001b[39m\n",
      "\n"
     ]
    },
    {
     "name": "stderr",
     "output_type": "stream",
     "text": [
      "┣██████████████▌     ┫ [72.50%, 725/1000, 06:41:48/09:14:12, 29.91s/i] "
     ]
    },
    {
     "name": "stdout",
     "output_type": "stream",
     "text": [
      "\u001b[32m[2021-12-08 18:37:46 | info | root]: Epoch : 725\u001b[39m\n",
      "\u001b[32m[2021-12-08 18:37:46 | info | root]: Train Loss : 148.45024830707237\u001b[39m\n",
      "\u001b[32m[2021-12-08 18:37:46 | info | root]: Test Loss : 150.4124410702632\u001b[39m\n",
      "\u001b[32m[2021-12-08 18:37:46 | info | root]: Train Reconstruction Loss : 8.882554\u001b[39m\n",
      "\u001b[32m[2021-12-08 18:37:46 | info | root]: Test Reconstruction Loss : 9.644421 \u001b[39m\n",
      "\n"
     ]
    },
    {
     "name": "stderr",
     "output_type": "stream",
     "text": [
      "┣██████████████▌     ┫ [73.00%, 730/1000, 06:44:18/09:13:50, 29.90s/i] "
     ]
    },
    {
     "name": "stdout",
     "output_type": "stream",
     "text": [
      "\u001b[32m[2021-12-08 18:40:16 | info | root]: Epoch : 730\u001b[39m\n",
      "\u001b[32m[2021-12-08 18:40:16 | info | root]: Train Loss : 148.24021080489348\u001b[39m\n",
      "\u001b[32m[2021-12-08 18:40:16 | info | root]: Test Loss : 150.17603992804501\u001b[39m\n",
      "\u001b[32m[2021-12-08 18:40:16 | info | root]: Train Reconstruction Loss : 8.858916\u001b[39m\n",
      "\u001b[32m[2021-12-08 18:40:16 | info | root]: Test Reconstruction Loss : 9.615611 \u001b[39m\n",
      "\n"
     ]
    },
    {
     "name": "stderr",
     "output_type": "stream",
     "text": [
      "┣██████████████▋     ┫ [73.50%, 735/1000, 06:46:47/09:13:27, 29.79s/i] "
     ]
    },
    {
     "name": "stdout",
     "output_type": "stream",
     "text": [
      "\u001b[32m[2021-12-08 18:42:45 | info | root]: Epoch : 735\u001b[39m\n",
      "\u001b[32m[2021-12-08 18:42:45 | info | root]: Train Loss : 148.3059710560639\u001b[39m\n",
      "\u001b[32m[2021-12-08 18:42:45 | info | root]: Test Loss : 150.2702384239588\u001b[39m\n",
      "\u001b[32m[2021-12-08 18:42:45 | info | root]: Train Reconstruction Loss : 8.832975\u001b[39m\n",
      "\u001b[32m[2021-12-08 18:42:45 | info | root]: Test Reconstruction Loss : 9.595124 \u001b[39m\n",
      "\n"
     ]
    },
    {
     "name": "stderr",
     "output_type": "stream",
     "text": [
      "┣██████████████▊     ┫ [74.00%, 740/1000, 06:49:17/09:13:05, 29.88s/i] "
     ]
    },
    {
     "name": "stdout",
     "output_type": "stream",
     "text": [
      "\u001b[32m[2021-12-08 18:45:15 | info | root]: Epoch : 740\u001b[39m\n",
      "\u001b[32m[2021-12-08 18:45:15 | info | root]: Train Loss : 148.32750122575138\u001b[39m\n",
      "\u001b[32m[2021-12-08 18:45:15 | info | root]: Test Loss : 150.30716019410355\u001b[39m\n",
      "\u001b[32m[2021-12-08 18:45:15 | info | root]: Train Reconstruction Loss : 8.82485\u001b[39m\n",
      "\u001b[32m[2021-12-08 18:45:15 | info | root]: Test Reconstruction Loss : 9.589521 \u001b[39m\n",
      "\n"
     ]
    },
    {
     "name": "stderr",
     "output_type": "stream",
     "text": [
      "┣██████████████▉     ┫ [74.50%, 745/1000, 06:51:47/09:12:43, 30.14s/i] "
     ]
    },
    {
     "name": "stdout",
     "output_type": "stream",
     "text": [
      "\u001b[32m[2021-12-08 18:47:45 | info | root]: Epoch : 745\u001b[39m\n",
      "\u001b[32m[2021-12-08 18:47:45 | info | root]: Train Loss : 148.2230171154759\u001b[39m\n",
      "\u001b[32m[2021-12-08 18:47:45 | info | root]: Test Loss : 150.18383981020023\u001b[39m\n",
      "\u001b[32m[2021-12-08 18:47:45 | info | root]: Train Reconstruction Loss : 8.841168\u001b[39m\n",
      "\u001b[32m[2021-12-08 18:47:45 | info | root]: Test Reconstruction Loss : 9.568392 \u001b[39m\n",
      "\n"
     ]
    },
    {
     "name": "stderr",
     "output_type": "stream",
     "text": [
      "┣███████████████     ┫ [75.00%, 750/1000, 06:54:17/09:12:22, 29.91s/i] "
     ]
    },
    {
     "name": "stdout",
     "output_type": "stream",
     "text": [
      "\u001b[32m[2021-12-08 18:50:15 | info | root]: Epoch : 750\u001b[39m\n",
      "\u001b[32m[2021-12-08 18:50:15 | info | root]: Train Loss : 148.22921937557777\u001b[39m\n",
      "\u001b[32m[2021-12-08 18:50:15 | info | root]: Test Loss : 150.18170936291034\u001b[39m\n",
      "\u001b[32m[2021-12-08 18:50:15 | info | root]: Train Reconstruction Loss : 8.832918\u001b[39m\n",
      "\u001b[32m[2021-12-08 18:50:15 | info | root]: Test Reconstruction Loss : 9.510792 \u001b[39m\n",
      "\n"
     ]
    },
    {
     "name": "stderr",
     "output_type": "stream",
     "text": [
      "┣███████████████     ┫ [75.50%, 755/1000, 06:56:56/09:12:14, 30.06s/i] "
     ]
    },
    {
     "name": "stdout",
     "output_type": "stream",
     "text": [
      "\u001b[32m[2021-12-08 18:52:54 | info | root]: Epoch : 755\u001b[39m\n",
      "\u001b[32m[2021-12-08 18:52:54 | info | root]: Train Loss : 148.2702032046486\u001b[39m\n",
      "\u001b[32m[2021-12-08 18:52:54 | info | root]: Test Loss : 150.28924045807275\u001b[39m\n",
      "\u001b[32m[2021-12-08 18:52:54 | info | root]: Train Reconstruction Loss : 8.835123\u001b[39m\n",
      "\u001b[32m[2021-12-08 18:52:54 | info | root]: Test Reconstruction Loss : 9.591953 \u001b[39m\n",
      "\n"
     ]
    },
    {
     "name": "stderr",
     "output_type": "stream",
     "text": [
      "┣███████████████▏    ┫ [76.00%, 760/1000, 06:59:27/09:11:54, 30.26s/i] "
     ]
    },
    {
     "name": "stdout",
     "output_type": "stream",
     "text": [
      "\u001b[32m[2021-12-08 18:55:25 | info | root]: Epoch : 760\u001b[39m\n",
      "\u001b[32m[2021-12-08 18:55:25 | info | root]: Train Loss : 148.21595853929713\u001b[39m\n",
      "\u001b[32m[2021-12-08 18:55:25 | info | root]: Test Loss : 150.1016859763708\u001b[39m\n",
      "\u001b[32m[2021-12-08 18:55:25 | info | root]: Train Reconstruction Loss : 8.829133\u001b[39m\n",
      "\u001b[32m[2021-12-08 18:55:25 | info | root]: Test Reconstruction Loss : 9.545996 \u001b[39m\n",
      "\n"
     ]
    },
    {
     "name": "stderr",
     "output_type": "stream",
     "text": [
      "┣███████████████▎    ┫ [76.50%, 765/1000, 07:01:58/09:11:36, 30.24s/i] "
     ]
    },
    {
     "name": "stdout",
     "output_type": "stream",
     "text": [
      "\u001b[32m[2021-12-08 18:57:57 | info | root]: Epoch : 765\u001b[39m\n",
      "\u001b[32m[2021-12-08 18:57:57 | info | root]: Train Loss : 148.23246621424005\u001b[39m\n",
      "\u001b[32m[2021-12-08 18:57:57 | info | root]: Test Loss : 150.30075189394827\u001b[39m\n",
      "\u001b[32m[2021-12-08 18:57:57 | info | root]: Train Reconstruction Loss : 8.831873\u001b[39m\n",
      "\u001b[32m[2021-12-08 18:57:57 | info | root]: Test Reconstruction Loss : 9.584488 \u001b[39m\n",
      "\n"
     ]
    },
    {
     "name": "stderr",
     "output_type": "stream",
     "text": [
      "┣███████████████▍    ┫ [77.00%, 770/1000, 07:04:30/09:11:18, 30.35s/i] "
     ]
    },
    {
     "name": "stdout",
     "output_type": "stream",
     "text": [
      "\u001b[32m[2021-12-08 19:00:28 | info | root]: Epoch : 770\u001b[39m\n",
      "\u001b[32m[2021-12-08 19:00:28 | info | root]: Train Loss : 148.18306152848575\u001b[39m\n",
      "\u001b[32m[2021-12-08 19:00:28 | info | root]: Test Loss : 150.07871120403973\u001b[39m\n",
      "\u001b[32m[2021-12-08 19:00:28 | info | root]: Train Reconstruction Loss : 8.793159\u001b[39m\n",
      "\u001b[32m[2021-12-08 19:00:28 | info | root]: Test Reconstruction Loss : 9.506972 \u001b[39m\n",
      "\n"
     ]
    },
    {
     "name": "stderr",
     "output_type": "stream",
     "text": [
      "┣███████████████▌    ┫ [77.50%, 775/1000, 07:07:02/09:11:01, 30.57s/i] "
     ]
    },
    {
     "name": "stdout",
     "output_type": "stream",
     "text": [
      "\u001b[32m[2021-12-08 19:03:01 | info | root]: Epoch : 775\u001b[39m\n",
      "\u001b[32m[2021-12-08 19:03:01 | info | root]: Train Loss : 148.15748460213936\u001b[39m\n",
      "\u001b[32m[2021-12-08 19:03:01 | info | root]: Test Loss : 150.13243885529346\u001b[39m\n",
      "\u001b[32m[2021-12-08 19:03:01 | info | root]: Train Reconstruction Loss : 8.792906\u001b[39m\n",
      "\u001b[32m[2021-12-08 19:03:01 | info | root]: Test Reconstruction Loss : 9.553399 \u001b[39m\n",
      "\n"
     ]
    },
    {
     "name": "stderr",
     "output_type": "stream",
     "text": [
      "┣███████████████▌    ┫ [78.00%, 780/1000, 07:09:36/09:10:46, 30.56s/i] "
     ]
    },
    {
     "name": "stdout",
     "output_type": "stream",
     "text": [
      "\u001b[32m[2021-12-08 19:05:34 | info | root]: Epoch : 780\u001b[39m\n",
      "\u001b[32m[2021-12-08 19:05:34 | info | root]: Train Loss : 148.20541625089044\u001b[39m\n",
      "\u001b[32m[2021-12-08 19:05:34 | info | root]: Test Loss : 150.02111588991605\u001b[39m\n",
      "\u001b[32m[2021-12-08 19:05:34 | info | root]: Train Reconstruction Loss : 8.790929\u001b[39m\n",
      "\u001b[32m[2021-12-08 19:05:34 | info | root]: Test Reconstruction Loss : 9.530934 \u001b[39m\n",
      "\n"
     ]
    },
    {
     "name": "stderr",
     "output_type": "stream",
     "text": [
      "┣███████████████▋    ┫ [78.50%, 785/1000, 07:12:09/09:10:30, 30.58s/i] "
     ]
    },
    {
     "name": "stdout",
     "output_type": "stream",
     "text": [
      "\u001b[32m[2021-12-08 19:08:07 | info | root]: Epoch : 785\u001b[39m\n",
      "\u001b[32m[2021-12-08 19:08:07 | info | root]: Train Loss : 148.16502583115943\u001b[39m\n",
      "\u001b[32m[2021-12-08 19:08:07 | info | root]: Test Loss : 150.12801452783438\u001b[39m\n",
      "\u001b[32m[2021-12-08 19:08:07 | info | root]: Train Reconstruction Loss : 8.777161\u001b[39m\n",
      "\u001b[32m[2021-12-08 19:08:07 | info | root]: Test Reconstruction Loss : 9.514527 \u001b[39m\n",
      "\n"
     ]
    },
    {
     "name": "stderr",
     "output_type": "stream",
     "text": [
      "┣███████████████▊    ┫ [79.00%, 790/1000, 07:14:42/09:10:15, 30.86s/i] "
     ]
    },
    {
     "name": "stdout",
     "output_type": "stream",
     "text": [
      "\u001b[32m[2021-12-08 19:10:40 | info | root]: Epoch : 790\u001b[39m\n",
      "\u001b[32m[2021-12-08 19:10:40 | info | root]: Train Loss : 148.14891938338795\u001b[39m\n",
      "\u001b[32m[2021-12-08 19:10:40 | info | root]: Test Loss : 150.0121147693732\u001b[39m\n",
      "\u001b[32m[2021-12-08 19:10:40 | info | root]: Train Reconstruction Loss : 8.795407\u001b[39m\n",
      "\u001b[32m[2021-12-08 19:10:40 | info | root]: Test Reconstruction Loss : 9.525251 \u001b[39m\n",
      "\n"
     ]
    },
    {
     "name": "stderr",
     "output_type": "stream",
     "text": [
      "┣███████████████▉    ┫ [79.50%, 795/1000, 07:17:16/09:10:01, 31.08s/i] "
     ]
    },
    {
     "name": "stdout",
     "output_type": "stream",
     "text": [
      "\u001b[32m[2021-12-08 19:13:15 | info | root]: Epoch : 795\u001b[39m\n",
      "\u001b[32m[2021-12-08 19:13:15 | info | root]: Train Loss : 148.15087664063736\u001b[39m\n",
      "\u001b[32m[2021-12-08 19:13:15 | info | root]: Test Loss : 150.1723997531793\u001b[39m\n",
      "\u001b[32m[2021-12-08 19:13:15 | info | root]: Train Reconstruction Loss : 8.780681\u001b[39m\n",
      "\u001b[32m[2021-12-08 19:13:15 | info | root]: Test Reconstruction Loss : 9.520354 \u001b[39m\n",
      "\n"
     ]
    },
    {
     "name": "stderr",
     "output_type": "stream",
     "text": [
      "┣████████████████    ┫ [80.00%, 800/1000, 07:19:50/09:09:48, 30.94s/i] "
     ]
    },
    {
     "name": "stdout",
     "output_type": "stream",
     "text": [
      "\u001b[32m[2021-12-08 19:15:50 | info | root]: Epoch : 800\u001b[39m\n",
      "\u001b[32m[2021-12-08 19:15:50 | info | root]: Train Loss : 148.19915739932716\u001b[39m\n",
      "\u001b[32m[2021-12-08 19:15:50 | info | root]: Test Loss : 150.06010446792993\u001b[39m\n",
      "\u001b[32m[2021-12-08 19:15:50 | info | root]: Train Reconstruction Loss : 8.812688\u001b[39m\n",
      "\u001b[32m[2021-12-08 19:15:50 | info | root]: Test Reconstruction Loss : 9.5231495 \u001b[39m\n",
      "\n"
     ]
    },
    {
     "name": "stderr",
     "output_type": "stream",
     "text": [
      "┣████████████████    ┫ [80.50%, 805/1000, 07:22:30/09:09:42, 31.08s/i] "
     ]
    },
    {
     "name": "stdout",
     "output_type": "stream",
     "text": [
      "\u001b[32m[2021-12-08 19:18:29 | info | root]: Epoch : 805\u001b[39m\n",
      "\u001b[32m[2021-12-08 19:18:29 | info | root]: Train Loss : 148.09255700533774\u001b[39m\n",
      "\u001b[32m[2021-12-08 19:18:29 | info | root]: Test Loss : 150.01054290624765\u001b[39m\n",
      "\u001b[32m[2021-12-08 19:18:29 | info | root]: Train Reconstruction Loss : 8.778766\u001b[39m\n",
      "\u001b[32m[2021-12-08 19:18:29 | info | root]: Test Reconstruction Loss : 9.465492 \u001b[39m\n",
      "\n"
     ]
    },
    {
     "name": "stderr",
     "output_type": "stream",
     "text": [
      "┣████████████████▏   ┫ [81.00%, 810/1000, 07:25:06/09:09:31, 31.60s/i] "
     ]
    },
    {
     "name": "stdout",
     "output_type": "stream",
     "text": [
      "\u001b[32m[2021-12-08 19:21:05 | info | root]: Epoch : 810\u001b[39m\n",
      "\u001b[32m[2021-12-08 19:21:05 | info | root]: Train Loss : 148.18245621093945\u001b[39m\n",
      "\u001b[32m[2021-12-08 19:21:05 | info | root]: Test Loss : 150.05253332089154\u001b[39m\n",
      "\u001b[32m[2021-12-08 19:21:05 | info | root]: Train Reconstruction Loss : 8.800803\u001b[39m\n",
      "\u001b[32m[2021-12-08 19:21:05 | info | root]: Test Reconstruction Loss : 9.527094 \u001b[39m\n",
      "\n"
     ]
    },
    {
     "name": "stderr",
     "output_type": "stream",
     "text": [
      "┣████████████████▎   ┫ [81.50%, 815/1000, 07:27:43/09:09:21, 31.77s/i] "
     ]
    },
    {
     "name": "stdout",
     "output_type": "stream",
     "text": [
      "\u001b[32m[2021-12-08 19:23:43 | info | root]: Epoch : 815\u001b[39m\n",
      "\u001b[32m[2021-12-08 19:23:43 | info | root]: Train Loss : 148.10376064703584\u001b[39m\n",
      "\u001b[32m[2021-12-08 19:23:43 | info | root]: Test Loss : 149.99099513811942\u001b[39m\n",
      "\u001b[32m[2021-12-08 19:23:43 | info | root]: Train Reconstruction Loss : 8.772412\u001b[39m\n",
      "\u001b[32m[2021-12-08 19:23:43 | info | root]: Test Reconstruction Loss : 9.499532 \u001b[39m\n",
      "\n"
     ]
    },
    {
     "name": "stderr",
     "output_type": "stream",
     "text": [
      "┣████████████████▍   ┫ [82.00%, 820/1000, 07:30:22/09:09:13, 31.95s/i] "
     ]
    },
    {
     "name": "stdout",
     "output_type": "stream",
     "text": [
      "\u001b[32m[2021-12-08 19:26:21 | info | root]: Epoch : 820\u001b[39m\n",
      "\u001b[32m[2021-12-08 19:26:21 | info | root]: Train Loss : 148.11583294252702\u001b[39m\n",
      "\u001b[32m[2021-12-08 19:26:21 | info | root]: Test Loss : 149.91586192448935\u001b[39m\n",
      "\u001b[32m[2021-12-08 19:26:21 | info | root]: Train Reconstruction Loss : 8.747632\u001b[39m\n",
      "\u001b[32m[2021-12-08 19:26:21 | info | root]: Test Reconstruction Loss : 9.456314 \u001b[39m\n",
      "\n"
     ]
    },
    {
     "name": "stderr",
     "output_type": "stream",
     "text": [
      "┣████████████████▌   ┫ [82.50%, 825/1000, 07:33:00/09:09:06, 31.77s/i] "
     ]
    },
    {
     "name": "stdout",
     "output_type": "stream",
     "text": [
      "\u001b[32m[2021-12-08 19:29:00 | info | root]: Epoch : 825\u001b[39m\n",
      "\u001b[32m[2021-12-08 19:29:00 | info | root]: Train Loss : 148.08113028323766\u001b[39m\n",
      "\u001b[32m[2021-12-08 19:29:00 | info | root]: Test Loss : 149.93945799118433\u001b[39m\n",
      "\u001b[32m[2021-12-08 19:29:00 | info | root]: Train Reconstruction Loss : 8.737381\u001b[39m\n",
      "\u001b[32m[2021-12-08 19:29:00 | info | root]: Test Reconstruction Loss : 9.435266 \u001b[39m\n",
      "\n"
     ]
    },
    {
     "name": "stderr",
     "output_type": "stream",
     "text": [
      "┣████████████████▌   ┫ [83.00%, 830/1000, 07:35:45/09:09:06, 32.57s/i] "
     ]
    },
    {
     "name": "stdout",
     "output_type": "stream",
     "text": [
      "\u001b[32m[2021-12-08 19:31:46 | info | root]: Epoch : 830\u001b[39m\n",
      "\u001b[32m[2021-12-08 19:31:46 | info | root]: Train Loss : 148.1550457709118\u001b[39m\n",
      "\u001b[32m[2021-12-08 19:31:46 | info | root]: Test Loss : 149.9310590548393\u001b[39m\n",
      "\u001b[32m[2021-12-08 19:31:46 | info | root]: Train Reconstruction Loss : 8.797367\u001b[39m\n",
      "\u001b[32m[2021-12-08 19:31:46 | info | root]: Test Reconstruction Loss : 9.4821415 \u001b[39m\n",
      "\n"
     ]
    },
    {
     "name": "stderr",
     "output_type": "stream",
     "text": [
      "┣████████████████▋   ┫ [83.50%, 835/1000, 07:38:35/09:09:12, 35.20s/i] "
     ]
    },
    {
     "name": "stdout",
     "output_type": "stream",
     "text": [
      "\u001b[32m[2021-12-08 19:34:33 | info | root]: Epoch : 835\u001b[39m\n",
      "\u001b[32m[2021-12-08 19:34:33 | info | root]: Train Loss : 148.06941142128017\u001b[39m\n",
      "\u001b[32m[2021-12-08 19:34:33 | info | root]: Test Loss : 149.93030884327032\u001b[39m\n",
      "\u001b[32m[2021-12-08 19:34:33 | info | root]: Train Reconstruction Loss : 8.753141\u001b[39m\n",
      "\u001b[32m[2021-12-08 19:34:33 | info | root]: Test Reconstruction Loss : 9.423051 \u001b[39m\n",
      "\n"
     ]
    },
    {
     "name": "stderr",
     "output_type": "stream",
     "text": [
      "┣████████████████▊   ┫ [84.00%, 840/1000, 07:41:03/09:08:52, 29.44s/i] "
     ]
    },
    {
     "name": "stdout",
     "output_type": "stream",
     "text": [
      "\u001b[32m[2021-12-08 19:37:00 | info | root]: Epoch : 840\u001b[39m\n",
      "\u001b[32m[2021-12-08 19:37:00 | info | root]: Train Loss : 148.02883043767548\u001b[39m\n",
      "\u001b[32m[2021-12-08 19:37:00 | info | root]: Test Loss : 149.94198874938184\u001b[39m\n",
      "\u001b[32m[2021-12-08 19:37:00 | info | root]: Train Reconstruction Loss : 8.705077\u001b[39m\n",
      "\u001b[32m[2021-12-08 19:37:00 | info | root]: Test Reconstruction Loss : 9.431007 \u001b[39m\n",
      "\n"
     ]
    },
    {
     "name": "stderr",
     "output_type": "stream",
     "text": [
      "┣████████████████▉   ┫ [84.50%, 845/1000, 07:43:30/09:08:32, 29.51s/i] "
     ]
    },
    {
     "name": "stdout",
     "output_type": "stream",
     "text": [
      "\u001b[32m[2021-12-08 19:39:28 | info | root]: Epoch : 845\u001b[39m\n",
      "\u001b[32m[2021-12-08 19:39:28 | info | root]: Train Loss : 148.06850571973348\u001b[39m\n",
      "\u001b[32m[2021-12-08 19:39:28 | info | root]: Test Loss : 149.87359142303467\u001b[39m\n",
      "\u001b[32m[2021-12-08 19:39:28 | info | root]: Train Reconstruction Loss : 8.77405\u001b[39m\n",
      "\u001b[32m[2021-12-08 19:39:28 | info | root]: Test Reconstruction Loss : 9.448218 \u001b[39m\n",
      "\n"
     ]
    },
    {
     "name": "stderr",
     "output_type": "stream",
     "text": [
      "┣█████████████████   ┫ [85.00%, 850/1000, 07:45:59/09:08:12, 29.64s/i] "
     ]
    },
    {
     "name": "stdout",
     "output_type": "stream",
     "text": [
      "\u001b[32m[2021-12-08 19:41:56 | info | root]: Epoch : 850\u001b[39m\n",
      "\u001b[32m[2021-12-08 19:41:56 | info | root]: Train Loss : 148.05130471643795\u001b[39m\n",
      "\u001b[32m[2021-12-08 19:41:56 | info | root]: Test Loss : 149.89887879445\u001b[39m\n",
      "\u001b[32m[2021-12-08 19:41:56 | info | root]: Train Reconstruction Loss : 8.729593\u001b[39m\n",
      "\u001b[32m[2021-12-08 19:41:56 | info | root]: Test Reconstruction Loss : 9.393053 \u001b[39m\n",
      "\n"
     ]
    },
    {
     "name": "stderr",
     "output_type": "stream",
     "text": [
      "┣█████████████████   ┫ [85.50%, 855/1000, 07:48:30/09:07:57, 30.05s/i] "
     ]
    },
    {
     "name": "stdout",
     "output_type": "stream",
     "text": [
      "\u001b[32m[2021-12-08 19:44:28 | info | root]: Epoch : 855\u001b[39m\n",
      "\u001b[32m[2021-12-08 19:44:28 | info | root]: Train Loss : 147.99387559514162\u001b[39m\n",
      "\u001b[32m[2021-12-08 19:44:28 | info | root]: Test Loss : 149.82092437988672\u001b[39m\n",
      "\u001b[32m[2021-12-08 19:44:28 | info | root]: Train Reconstruction Loss : 8.718622\u001b[39m\n",
      "\u001b[32m[2021-12-08 19:44:28 | info | root]: Test Reconstruction Loss : 9.412312 \u001b[39m\n",
      "\n"
     ]
    },
    {
     "name": "stderr",
     "output_type": "stream",
     "text": [
      "┣█████████████████▏  ┫ [86.00%, 860/1000, 07:50:59/09:07:39, 29.53s/i] "
     ]
    },
    {
     "name": "stdout",
     "output_type": "stream",
     "text": [
      "\u001b[32m[2021-12-08 19:46:57 | info | root]: Epoch : 860\u001b[39m\n",
      "\u001b[32m[2021-12-08 19:46:57 | info | root]: Train Loss : 148.0550850793926\u001b[39m\n",
      "\u001b[32m[2021-12-08 19:46:57 | info | root]: Test Loss : 149.9499062269162\u001b[39m\n",
      "\u001b[32m[2021-12-08 19:46:57 | info | root]: Train Reconstruction Loss : 8.739318\u001b[39m\n",
      "\u001b[32m[2021-12-08 19:46:57 | info | root]: Test Reconstruction Loss : 9.416975 \u001b[39m\n",
      "\n"
     ]
    },
    {
     "name": "stderr",
     "output_type": "stream",
     "text": [
      "┣█████████████████▎  ┫ [86.50%, 865/1000, 07:53:28/09:07:21, 29.72s/i] "
     ]
    },
    {
     "name": "stdout",
     "output_type": "stream",
     "text": [
      "\u001b[32m[2021-12-08 19:49:25 | info | root]: Epoch : 865\u001b[39m\n",
      "\u001b[32m[2021-12-08 19:49:25 | info | root]: Train Loss : 147.9540366393652\u001b[39m\n",
      "\u001b[32m[2021-12-08 19:49:25 | info | root]: Test Loss : 149.81986970167893\u001b[39m\n",
      "\u001b[32m[2021-12-08 19:49:25 | info | root]: Train Reconstruction Loss : 8.682005\u001b[39m\n",
      "\u001b[32m[2021-12-08 19:49:25 | info | root]: Test Reconstruction Loss : 9.392867 \u001b[39m\n",
      "\n"
     ]
    },
    {
     "name": "stderr",
     "output_type": "stream",
     "text": [
      "┣█████████████████▍  ┫ [87.00%, 870/1000, 07:55:57/09:07:04, 29.90s/i] "
     ]
    },
    {
     "name": "stdout",
     "output_type": "stream",
     "text": [
      "\u001b[32m[2021-12-08 19:51:55 | info | root]: Epoch : 870\u001b[39m\n",
      "\u001b[32m[2021-12-08 19:51:55 | info | root]: Train Loss : 148.07445792174772\u001b[39m\n",
      "\u001b[32m[2021-12-08 19:51:55 | info | root]: Test Loss : 149.9593831209036\u001b[39m\n",
      "\u001b[32m[2021-12-08 19:51:55 | info | root]: Train Reconstruction Loss : 8.736537\u001b[39m\n",
      "\u001b[32m[2021-12-08 19:51:55 | info | root]: Test Reconstruction Loss : 9.468107 \u001b[39m\n",
      "\n"
     ]
    },
    {
     "name": "stderr",
     "output_type": "stream",
     "text": [
      "┣█████████████████▌  ┫ [87.50%, 875/1000, 07:58:26/09:06:47, 29.77s/i] "
     ]
    },
    {
     "name": "stdout",
     "output_type": "stream",
     "text": [
      "\u001b[32m[2021-12-08 19:54:24 | info | root]: Epoch : 875\u001b[39m\n",
      "\u001b[32m[2021-12-08 19:54:24 | info | root]: Train Loss : 147.91421160906586\u001b[39m\n",
      "\u001b[32m[2021-12-08 19:54:24 | info | root]: Test Loss : 149.86591714467758\u001b[39m\n",
      "\u001b[32m[2021-12-08 19:54:24 | info | root]: Train Reconstruction Loss : 8.718725\u001b[39m\n",
      "\u001b[32m[2021-12-08 19:54:24 | info | root]: Test Reconstruction Loss : 9.434248 \u001b[39m\n",
      "\n"
     ]
    },
    {
     "name": "stderr",
     "output_type": "stream",
     "text": [
      "┣█████████████████▌  ┫ [88.00%, 880/1000, 08:00:57/09:06:32, 29.91s/i] "
     ]
    },
    {
     "name": "stdout",
     "output_type": "stream",
     "text": [
      "\u001b[32m[2021-12-08 19:56:55 | info | root]: Epoch : 880\u001b[39m\n",
      "\u001b[32m[2021-12-08 19:56:55 | info | root]: Train Loss : 147.97513217376417\u001b[39m\n",
      "\u001b[32m[2021-12-08 19:56:55 | info | root]: Test Loss : 149.91364992581882\u001b[39m\n",
      "\u001b[32m[2021-12-08 19:56:55 | info | root]: Train Reconstruction Loss : 8.719046\u001b[39m\n",
      "\u001b[32m[2021-12-08 19:56:55 | info | root]: Test Reconstruction Loss : 9.406036 \u001b[39m\n",
      "\n"
     ]
    },
    {
     "name": "stderr",
     "output_type": "stream",
     "text": [
      "┣█████████████████▋  ┫ [88.50%, 885/1000, 08:03:27/09:06:17, 30.08s/i] "
     ]
    },
    {
     "name": "stdout",
     "output_type": "stream",
     "text": [
      "\u001b[32m[2021-12-08 19:59:26 | info | root]: Epoch : 885\u001b[39m\n",
      "\u001b[32m[2021-12-08 19:59:26 | info | root]: Train Loss : 148.0359828199877\u001b[39m\n",
      "\u001b[32m[2021-12-08 19:59:26 | info | root]: Test Loss : 149.7646499902774\u001b[39m\n",
      "\u001b[32m[2021-12-08 19:59:26 | info | root]: Train Reconstruction Loss : 8.70227\u001b[39m\n",
      "\u001b[32m[2021-12-08 19:59:26 | info | root]: Test Reconstruction Loss : 9.41308 \u001b[39m\n",
      "\n"
     ]
    },
    {
     "name": "stderr",
     "output_type": "stream",
     "text": [
      "┣█████████████████▊  ┫ [89.00%, 890/1000, 08:05:58/09:06:02, 30.26s/i] "
     ]
    },
    {
     "name": "stdout",
     "output_type": "stream",
     "text": [
      "\u001b[32m[2021-12-08 20:01:57 | info | root]: Epoch : 890\u001b[39m\n",
      "\u001b[32m[2021-12-08 20:01:57 | info | root]: Train Loss : 147.941447395398\u001b[39m\n",
      "\u001b[32m[2021-12-08 20:01:57 | info | root]: Test Loss : 149.7982286306528\u001b[39m\n",
      "\u001b[32m[2021-12-08 20:01:57 | info | root]: Train Reconstruction Loss : 8.718041\u001b[39m\n",
      "\u001b[32m[2021-12-08 20:01:57 | info | root]: Test Reconstruction Loss : 9.371872 \u001b[39m\n",
      "\n"
     ]
    },
    {
     "name": "stderr",
     "output_type": "stream",
     "text": [
      "┣█████████████████▉  ┫ [89.50%, 895/1000, 08:08:30/09:05:49, 30.57s/i] "
     ]
    },
    {
     "name": "stdout",
     "output_type": "stream",
     "text": [
      "\u001b[32m[2021-12-08 20:04:29 | info | root]: Epoch : 895\u001b[39m\n",
      "\u001b[32m[2021-12-08 20:04:29 | info | root]: Train Loss : 147.95891543768005\u001b[39m\n",
      "\u001b[32m[2021-12-08 20:04:29 | info | root]: Test Loss : 149.78799901864468\u001b[39m\n",
      "\u001b[32m[2021-12-08 20:04:29 | info | root]: Train Reconstruction Loss : 8.741798\u001b[39m\n",
      "\u001b[32m[2021-12-08 20:04:29 | info | root]: Test Reconstruction Loss : 9.41883 \u001b[39m\n",
      "\n"
     ]
    },
    {
     "name": "stderr",
     "output_type": "stream",
     "text": [
      "┣██████████████████  ┫ [90.00%, 900/1000, 08:11:04/09:05:37, 30.77s/i] "
     ]
    },
    {
     "name": "stdout",
     "output_type": "stream",
     "text": [
      "\u001b[32m[2021-12-08 20:07:02 | info | root]: Epoch : 900\u001b[39m\n",
      "\u001b[32m[2021-12-08 20:07:02 | info | root]: Train Loss : 147.8765178342512\u001b[39m\n",
      "\u001b[32m[2021-12-08 20:07:02 | info | root]: Test Loss : 149.6890729390658\u001b[39m\n",
      "\u001b[32m[2021-12-08 20:07:02 | info | root]: Train Reconstruction Loss : 8.708868\u001b[39m\n",
      "\u001b[32m[2021-12-08 20:07:02 | info | root]: Test Reconstruction Loss : 9.366038 \u001b[39m\n",
      "\n"
     ]
    },
    {
     "name": "stderr",
     "output_type": "stream",
     "text": [
      "┣██████████████████  ┫ [90.50%, 905/1000, 08:13:39/09:05:29, 30.79s/i] "
     ]
    },
    {
     "name": "stdout",
     "output_type": "stream",
     "text": [
      "\u001b[32m[2021-12-08 20:09:38 | info | root]: Epoch : 905\u001b[39m\n",
      "\u001b[32m[2021-12-08 20:09:38 | info | root]: Train Loss : 147.98887705930142\u001b[39m\n",
      "\u001b[32m[2021-12-08 20:09:38 | info | root]: Test Loss : 149.69757902927887\u001b[39m\n",
      "\u001b[32m[2021-12-08 20:09:38 | info | root]: Train Reconstruction Loss : 8.71399\u001b[39m\n",
      "\u001b[32m[2021-12-08 20:09:38 | info | root]: Test Reconstruction Loss : 9.371623 \u001b[39m\n",
      "\n"
     ]
    },
    {
     "name": "stderr",
     "output_type": "stream",
     "text": [
      "┣██████████████████▏ ┫ [91.00%, 910/1000, 08:16:14/09:05:18, 30.73s/i] "
     ]
    },
    {
     "name": "stdout",
     "output_type": "stream",
     "text": [
      "\u001b[32m[2021-12-08 20:12:12 | info | root]: Epoch : 910\u001b[39m\n",
      "\u001b[32m[2021-12-08 20:12:12 | info | root]: Train Loss : 147.94849704958204\u001b[39m\n",
      "\u001b[32m[2021-12-08 20:12:12 | info | root]: Test Loss : 149.7263561884562\u001b[39m\n",
      "\u001b[32m[2021-12-08 20:12:12 | info | root]: Train Reconstruction Loss : 8.691946\u001b[39m\n",
      "\u001b[32m[2021-12-08 20:12:12 | info | root]: Test Reconstruction Loss : 9.351487 \u001b[39m\n",
      "\n"
     ]
    },
    {
     "name": "stderr",
     "output_type": "stream",
     "text": [
      "┣██████████████████▎ ┫ [91.50%, 915/1000, 08:18:47/09:05:07, 30.38s/i] "
     ]
    },
    {
     "name": "stdout",
     "output_type": "stream",
     "text": [
      "\u001b[32m[2021-12-08 20:14:45 | info | root]: Epoch : 915\u001b[39m\n",
      "\u001b[32m[2021-12-08 20:14:45 | info | root]: Train Loss : 148.0067947534258\u001b[39m\n",
      "\u001b[32m[2021-12-08 20:14:45 | info | root]: Test Loss : 149.84368360959567\u001b[39m\n",
      "\u001b[32m[2021-12-08 20:14:45 | info | root]: Train Reconstruction Loss : 8.693609\u001b[39m\n",
      "\u001b[32m[2021-12-08 20:14:45 | info | root]: Test Reconstruction Loss : 9.373522 \u001b[39m\n",
      "\n"
     ]
    },
    {
     "name": "stderr",
     "output_type": "stream",
     "text": [
      "┣██████████████████▍ ┫ [92.00%, 920/1000, 08:21:20/09:04:55, 30.71s/i] "
     ]
    },
    {
     "name": "stdout",
     "output_type": "stream",
     "text": [
      "\u001b[32m[2021-12-08 20:17:18 | info | root]: Epoch : 920\u001b[39m\n",
      "\u001b[32m[2021-12-08 20:17:18 | info | root]: Train Loss : 147.96729509807574\u001b[39m\n",
      "\u001b[32m[2021-12-08 20:17:18 | info | root]: Test Loss : 149.79242631716605\u001b[39m\n",
      "\u001b[32m[2021-12-08 20:17:18 | info | root]: Train Reconstruction Loss : 8.662434\u001b[39m\n",
      "\u001b[32m[2021-12-08 20:17:18 | info | root]: Test Reconstruction Loss : 9.367595 \u001b[39m\n",
      "\n"
     ]
    },
    {
     "name": "stderr",
     "output_type": "stream",
     "text": [
      "┣██████████████████▌ ┫ [92.50%, 925/1000, 08:23:53/09:04:44, 30.73s/i] "
     ]
    },
    {
     "name": "stdout",
     "output_type": "stream",
     "text": [
      "\u001b[32m[2021-12-08 20:19:51 | info | root]: Epoch : 925\u001b[39m\n",
      "\u001b[32m[2021-12-08 20:19:51 | info | root]: Train Loss : 147.93122343879625\u001b[39m\n",
      "\u001b[32m[2021-12-08 20:19:51 | info | root]: Test Loss : 149.75700898048206\u001b[39m\n",
      "\u001b[32m[2021-12-08 20:19:51 | info | root]: Train Reconstruction Loss : 8.691137\u001b[39m\n",
      "\u001b[32m[2021-12-08 20:19:51 | info | root]: Test Reconstruction Loss : 9.4213505 \u001b[39m\n",
      "\n"
     ]
    },
    {
     "name": "stderr",
     "output_type": "stream",
     "text": [
      "┣██████████████████▌ ┫ [93.00%, 930/1000, 08:26:28/09:04:35, 31.01s/i] "
     ]
    },
    {
     "name": "stdout",
     "output_type": "stream",
     "text": [
      "\u001b[32m[2021-12-08 20:22:27 | info | root]: Epoch : 930\u001b[39m\n",
      "\u001b[32m[2021-12-08 20:22:27 | info | root]: Train Loss : 147.97391539118715\u001b[39m\n",
      "\u001b[32m[2021-12-08 20:22:27 | info | root]: Test Loss : 149.69407747953366\u001b[39m\n",
      "\u001b[32m[2021-12-08 20:22:27 | info | root]: Train Reconstruction Loss : 8.704016\u001b[39m\n",
      "\u001b[32m[2021-12-08 20:22:27 | info | root]: Test Reconstruction Loss : 9.376694 \u001b[39m\n",
      "\n"
     ]
    },
    {
     "name": "stderr",
     "output_type": "stream",
     "text": [
      "┣██████████████████▋ ┫ [93.50%, 935/1000, 08:29:02/09:04:25, 30.90s/i] "
     ]
    },
    {
     "name": "stdout",
     "output_type": "stream",
     "text": [
      "\u001b[32m[2021-12-08 20:25:01 | info | root]: Epoch : 935\u001b[39m\n",
      "\u001b[32m[2021-12-08 20:25:01 | info | root]: Train Loss : 147.9181709676313\u001b[39m\n",
      "\u001b[32m[2021-12-08 20:25:01 | info | root]: Test Loss : 149.64520367597922\u001b[39m\n",
      "\u001b[32m[2021-12-08 20:25:01 | info | root]: Train Reconstruction Loss : 8.629599\u001b[39m\n",
      "\u001b[32m[2021-12-08 20:25:01 | info | root]: Test Reconstruction Loss : 9.350771 \u001b[39m\n",
      "\n"
     ]
    },
    {
     "name": "stderr",
     "output_type": "stream",
     "text": [
      "┣██████████████████▊ ┫ [94.00%, 940/1000, 08:31:37/09:04:16, 31.04s/i] "
     ]
    },
    {
     "name": "stdout",
     "output_type": "stream",
     "text": [
      "\u001b[32m[2021-12-08 20:27:36 | info | root]: Epoch : 940\u001b[39m\n",
      "\u001b[32m[2021-12-08 20:27:36 | info | root]: Train Loss : 148.01435459385306\u001b[39m\n",
      "\u001b[32m[2021-12-08 20:27:36 | info | root]: Test Loss : 149.96211626590826\u001b[39m\n",
      "\u001b[32m[2021-12-08 20:27:36 | info | root]: Train Reconstruction Loss : 8.697954\u001b[39m\n",
      "\u001b[32m[2021-12-08 20:27:36 | info | root]: Test Reconstruction Loss : 9.370918 \u001b[39m\n",
      "\n"
     ]
    },
    {
     "name": "stderr",
     "output_type": "stream",
     "text": [
      "┣██████████████████▉ ┫ [94.50%, 945/1000, 08:34:12/09:04:08, 31.06s/i] "
     ]
    },
    {
     "name": "stdout",
     "output_type": "stream",
     "text": [
      "\u001b[32m[2021-12-08 20:30:11 | info | root]: Epoch : 945\u001b[39m\n",
      "\u001b[32m[2021-12-08 20:30:11 | info | root]: Train Loss : 147.84797787131978\u001b[39m\n",
      "\u001b[32m[2021-12-08 20:30:11 | info | root]: Test Loss : 149.71896249820026\u001b[39m\n",
      "\u001b[32m[2021-12-08 20:30:11 | info | root]: Train Reconstruction Loss : 8.682126\u001b[39m\n",
      "\u001b[32m[2021-12-08 20:30:11 | info | root]: Test Reconstruction Loss : 9.400616 \u001b[39m\n",
      "\n"
     ]
    },
    {
     "name": "stderr",
     "output_type": "stream",
     "text": [
      "┣███████████████████ ┫ [95.00%, 950/1000, 08:36:48/09:04:00, 31.56s/i] "
     ]
    },
    {
     "name": "stdout",
     "output_type": "stream",
     "text": [
      "\u001b[32m[2021-12-08 20:32:48 | info | root]: Epoch : 950\u001b[39m\n",
      "\u001b[32m[2021-12-08 20:32:48 | info | root]: Train Loss : 147.9168537754641\u001b[39m\n",
      "\u001b[32m[2021-12-08 20:32:48 | info | root]: Test Loss : 149.73183306669577\u001b[39m\n",
      "\u001b[32m[2021-12-08 20:32:48 | info | root]: Train Reconstruction Loss : 8.669777\u001b[39m\n",
      "\u001b[32m[2021-12-08 20:32:48 | info | root]: Test Reconstruction Loss : 9.351997 \u001b[39m\n",
      "\n"
     ]
    },
    {
     "name": "stderr",
     "output_type": "stream",
     "text": [
      "┣███████████████████ ┫ [95.50%, 955/1000, 08:39:32/09:04:01, 31.63s/i] "
     ]
    },
    {
     "name": "stdout",
     "output_type": "stream",
     "text": [
      "\u001b[32m[2021-12-08 20:35:32 | info | root]: Epoch : 955\u001b[39m\n",
      "\u001b[32m[2021-12-08 20:35:32 | info | root]: Train Loss : 147.8980931268812\u001b[39m\n",
      "\u001b[32m[2021-12-08 20:35:32 | info | root]: Test Loss : 149.63589753860083\u001b[39m\n",
      "\u001b[32m[2021-12-08 20:35:32 | info | root]: Train Reconstruction Loss : 8.724626\u001b[39m\n",
      "\u001b[32m[2021-12-08 20:35:32 | info | root]: Test Reconstruction Loss : 9.403543 \u001b[39m\n",
      "\n"
     ]
    },
    {
     "name": "stderr",
     "output_type": "stream",
     "text": [
      "┣███████████████████▏┫ [96.00%, 960/1000, 08:42:11/09:03:56, 31.99s/i] "
     ]
    },
    {
     "name": "stdout",
     "output_type": "stream",
     "text": [
      "\u001b[32m[2021-12-08 20:38:10 | info | root]: Epoch : 960\u001b[39m\n",
      "\u001b[32m[2021-12-08 20:38:10 | info | root]: Train Loss : 147.91349615791182\u001b[39m\n",
      "\u001b[32m[2021-12-08 20:38:10 | info | root]: Test Loss : 149.8563984235128\u001b[39m\n",
      "\u001b[32m[2021-12-08 20:38:10 | info | root]: Train Reconstruction Loss : 8.661815\u001b[39m\n",
      "\u001b[32m[2021-12-08 20:38:10 | info | root]: Test Reconstruction Loss : 9.356909 \u001b[39m\n",
      "\n"
     ]
    },
    {
     "name": "stderr",
     "output_type": "stream",
     "text": [
      "┣███████████████████▎┫ [96.50%, 965/1000, 08:44:50/09:03:52, 32.19s/i] "
     ]
    },
    {
     "name": "stdout",
     "output_type": "stream",
     "text": [
      "\u001b[32m[2021-12-08 20:40:50 | info | root]: Epoch : 965\u001b[39m\n",
      "\u001b[32m[2021-12-08 20:40:50 | info | root]: Train Loss : 147.89378100245585\u001b[39m\n",
      "\u001b[32m[2021-12-08 20:40:50 | info | root]: Test Loss : 149.78018519817255\u001b[39m\n",
      "\u001b[32m[2021-12-08 20:40:50 | info | root]: Train Reconstruction Loss : 8.642242\u001b[39m\n",
      "\u001b[32m[2021-12-08 20:40:50 | info | root]: Test Reconstruction Loss : 9.334766 \u001b[39m\n",
      "\n"
     ]
    },
    {
     "name": "stderr",
     "output_type": "stream",
     "text": [
      "┣███████████████████▍┫ [97.00%, 970/1000, 08:47:33/09:03:52, 32.98s/i] "
     ]
    },
    {
     "name": "stdout",
     "output_type": "stream",
     "text": [
      "\u001b[32m[2021-12-08 20:43:34 | info | root]: Epoch : 970\u001b[39m\n",
      "\u001b[32m[2021-12-08 20:43:34 | info | root]: Train Loss : 147.85261661851163\u001b[39m\n",
      "\u001b[32m[2021-12-08 20:43:34 | info | root]: Test Loss : 149.67921426968698\u001b[39m\n",
      "\u001b[32m[2021-12-08 20:43:34 | info | root]: Train Reconstruction Loss : 8.656278\u001b[39m\n",
      "\u001b[32m[2021-12-08 20:43:34 | info | root]: Test Reconstruction Loss : 9.389496 \u001b[39m\n",
      "\n"
     ]
    },
    {
     "name": "stderr",
     "output_type": "stream",
     "text": [
      "┣███████████████████▌┫ [97.50%, 975/1000, 08:50:14/09:03:50, 29.42s/i] "
     ]
    },
    {
     "name": "stdout",
     "output_type": "stream",
     "text": [
      "\u001b[32m[2021-12-08 20:46:12 | info | root]: Epoch : 975\u001b[39m\n",
      "\u001b[32m[2021-12-08 20:46:12 | info | root]: Train Loss : 147.8779262534582\u001b[39m\n",
      "\u001b[32m[2021-12-08 20:46:12 | info | root]: Test Loss : 149.68864708680374\u001b[39m\n",
      "\u001b[32m[2021-12-08 20:46:12 | info | root]: Train Reconstruction Loss : 8.690974\u001b[39m\n",
      "\u001b[32m[2021-12-08 20:46:12 | info | root]: Test Reconstruction Loss : 9.353647 \u001b[39m\n",
      "\n"
     ]
    },
    {
     "name": "stderr",
     "output_type": "stream",
     "text": [
      "┣███████████████████▌┫ [98.00%, 980/1000, 08:52:44/09:03:36, 29.41s/i] "
     ]
    },
    {
     "name": "stdout",
     "output_type": "stream",
     "text": [
      "\u001b[32m[2021-12-08 20:48:41 | info | root]: Epoch : 980\u001b[39m\n",
      "\u001b[32m[2021-12-08 20:48:41 | info | root]: Train Loss : 147.94450582587731\u001b[39m\n",
      "\u001b[32m[2021-12-08 20:48:41 | info | root]: Test Loss : 149.762269729223\u001b[39m\n",
      "\u001b[32m[2021-12-08 20:48:41 | info | root]: Train Reconstruction Loss : 8.70316\u001b[39m\n",
      "\u001b[32m[2021-12-08 20:48:41 | info | root]: Test Reconstruction Loss : 9.358725 \u001b[39m\n",
      "\n"
     ]
    },
    {
     "name": "stderr",
     "output_type": "stream",
     "text": [
      "┣███████████████████▋┫ [98.50%, 985/1000, 08:55:12/09:03:21, 29.55s/i] "
     ]
    },
    {
     "name": "stdout",
     "output_type": "stream",
     "text": [
      "\u001b[32m[2021-12-08 20:51:09 | info | root]: Epoch : 985\u001b[39m\n",
      "\u001b[32m[2021-12-08 20:51:09 | info | root]: Train Loss : 147.95785139566297\u001b[39m\n",
      "\u001b[32m[2021-12-08 20:51:09 | info | root]: Test Loss : 149.62481274971594\u001b[39m\n",
      "\u001b[32m[2021-12-08 20:51:09 | info | root]: Train Reconstruction Loss : 8.709915\u001b[39m\n",
      "\u001b[32m[2021-12-08 20:51:09 | info | root]: Test Reconstruction Loss : 9.414031 \u001b[39m\n",
      "\n"
     ]
    },
    {
     "name": "stderr",
     "output_type": "stream",
     "text": [
      "┣███████████████████▊┫ [99.00%, 990/1000, 08:57:40/09:03:06, 29.74s/i] "
     ]
    },
    {
     "name": "stdout",
     "output_type": "stream",
     "text": [
      "\u001b[32m[2021-12-08 20:53:38 | info | root]: Epoch : 990\u001b[39m\n",
      "\u001b[32m[2021-12-08 20:53:38 | info | root]: Train Loss : 147.93192051467162\u001b[39m\n",
      "\u001b[32m[2021-12-08 20:53:38 | info | root]: Test Loss : 149.78941027323404\u001b[39m\n",
      "\u001b[32m[2021-12-08 20:53:38 | info | root]: Train Reconstruction Loss : 8.651678\u001b[39m\n",
      "\u001b[32m[2021-12-08 20:53:38 | info | root]: Test Reconstruction Loss : 9.3596525 \u001b[39m\n",
      "\n"
     ]
    },
    {
     "name": "stderr",
     "output_type": "stream",
     "text": [
      "┣███████████████████▉┫ [99.50%, 995/1000, 09:00:08/09:02:51, 29.79s/i] "
     ]
    },
    {
     "name": "stdout",
     "output_type": "stream",
     "text": [
      "\u001b[32m[2021-12-08 20:56:06 | info | root]: Epoch : 995\u001b[39m\n",
      "\u001b[32m[2021-12-08 20:56:06 | info | root]: Train Loss : 147.9550850236174\u001b[39m\n",
      "\u001b[32m[2021-12-08 20:56:06 | info | root]: Test Loss : 149.61919695291763\u001b[39m\n",
      "\u001b[32m[2021-12-08 20:56:06 | info | root]: Train Reconstruction Loss : 8.686399\u001b[39m\n",
      "\u001b[32m[2021-12-08 20:56:06 | info | root]: Test Reconstruction Loss : 9.380461 \u001b[39m\n",
      "\n"
     ]
    },
    {
     "name": "stderr",
     "output_type": "stream",
     "text": [
      "┣████████████████████┫ [100.00%, 1000/1000, 09:02:37/09:02:37, 29.49s/i] "
     ]
    },
    {
     "name": "stdout",
     "output_type": "stream",
     "text": [
      "\u001b[32m[2021-12-08 20:58:35 | info | root]: Epoch : 1000\u001b[39m\n",
      "\u001b[32m[2021-12-08 20:58:35 | info | root]: Train Loss : 147.8751826006422\u001b[39m\n",
      "\u001b[32m[2021-12-08 20:58:35 | info | root]: Test Loss : 149.6434560677944\u001b[39m\n",
      "\u001b[32m[2021-12-08 20:58:35 | info | root]: Train Reconstruction Loss : 8.689086\u001b[39m\n",
      "\u001b[32m[2021-12-08 20:58:35 | info | root]: Test Reconstruction Loss : 9.377717 \u001b[39m\n",
      "\n"
     ]
    },
    {
     "name": "stderr",
     "output_type": "stream",
     "text": [
      "\r",
      "┣████████████████████┫ [100.00%, 1000/1000, 09:03:09/09:03:09, 32.59s/i] \n"
     ]
    }
   ],
   "source": [
    "nz = 48\n",
    "ngf = 32\n",
    "nc = 1\n",
    "\n",
    "# first batch of the test dataset\n",
    "x_test_first = first(dtrn);\n",
    "\n",
    "# Initialize random model weights\n",
    "theta = weights(nz, ngf);\n",
    "\n",
    "# Define Learning Rate and Number of Epochs\n",
    "lr = 1e-3\n",
    "n_epochs = 1000\n",
    "\n",
    "# Initialize Empty Lists for both training and test losses\n",
    "trn_loss_list = Float64[]\n",
    "tst_loss_list =Float64[]\n",
    "trn_rec_loss_list = Float64[]\n",
    "tst_rec_loss_list = Float64[]\n",
    "\n",
    "# RECORD INITIAL LOSS VALUES\n",
    "epoch_loss_trn_ = loss_train(theta, dtrn)\n",
    "epoch_loss_tst_ = loss_train(theta, dtst)\n",
    "epoch_rec_loss_trn_ = rec_loss(decode_train, theta, dtrn)\n",
    "epoch_rec_loss_tst_ = rec_loss(decode_train, theta, dtst)\n",
    "\n",
    "push!(trn_loss_list, epoch_loss_trn_)\n",
    "push!(tst_loss_list, epoch_loss_tst_)\n",
    "push!(trn_rec_loss_list, epoch_rec_loss_trn_)\n",
    "push!(tst_rec_loss_list, epoch_rec_loss_tst_)\n",
    "\n",
    "println(\"Epoch : \", 0)\n",
    "println(\"Train Loss : \",epoch_loss_trn_)\n",
    "println(\"Test Loss : \", epoch_loss_tst_)\n",
    "println(\"Train Reconstruction Loss : \", epoch_rec_loss_trn_)\n",
    "println(\"Test Reconstruction Loss : \", epoch_rec_loss_tst_)\n",
    "\n",
    "info(logger, (\"Epoch : 0\"))\n",
    "info(logger, (\"Train Loss : $epoch_loss_trn_\"))\n",
    "info(logger, (\"Test Loss : $epoch_loss_tst_\"))\n",
    "info(logger, (\"Train Reconstruction Loss : $epoch_rec_loss_trn_\"))\n",
    "info(logger, (\"Test Reconstruction Loss : $epoch_rec_loss_tst_ \\n\"))\n",
    "\n",
    "# Define the step number of model save checkpoint\n",
    "model_save_checkpoint = 50\n",
    "logger_checkpoint = 5\n",
    "image_rec_checkpoint = 25\n",
    "\n",
    "# Training Loop\n",
    "for epoch in progress(1:n_epochs)\n",
    "    \n",
    "    # DECREASE LEARNING RATE AFTER 50 EPOCHS\n",
    "    if epoch > 50\n",
    "       lr = 1e-4 \n",
    "    end\n",
    "    \n",
    "    for (i,x) in enumerate(dtrn)\n",
    "        \n",
    "        # CALCULATE THE GRADIENT OF THE LOSS FUNCTION W.R.T. MODEL WEIGHTS\n",
    "        derivative_model = @diff loss_train(theta, x)\n",
    "        \n",
    "        # UPDATE MODEL WEIGHTS WITH ADAM OPTIMIZER\n",
    "        for p in theta\n",
    "            dp = grad(derivative_model, p)\n",
    "            update!(value(p), dp, Knet.Adam(lr = lr, beta1 = 0.9, beta2 = 0.999))\n",
    "        end\n",
    "        \n",
    "    end\n",
    "    \n",
    "    # Record Training and Test Losses\n",
    "    epoch_loss_trn = loss_train(theta, dtrn)\n",
    "    epoch_loss_tst = loss_train(theta, dtst)\n",
    "    epoch_rec_loss_trn = rec_loss(decode_train, theta, dtrn)\n",
    "    epoch_rec_loss_tst = rec_loss(decode_train, theta, dtst)\n",
    "    \n",
    "    push!(trn_loss_list, epoch_loss_trn)\n",
    "    push!(tst_loss_list, epoch_loss_tst)\n",
    "    push!(trn_rec_loss_list, epoch_rec_loss_trn)\n",
    "    push!(tst_rec_loss_list, epoch_rec_loss_tst)\n",
    "    \n",
    "#     println(\"Epoch : \", epoch)\n",
    "#     println(\"Train Loss : \",epoch_loss_trn)\n",
    "#     println(\"Test Loss : \", epoch_loss_tst)\n",
    "#     println(\"Train Reconstruction Loss : \", epoch_rec_loss_trn)\n",
    "#     println(\"Test Reconstruction Loss : \", epoch_rec_loss_tst)\n",
    "    \n",
    "    # Print losses to the logger file\n",
    "    if epoch % logger_checkpoint == 0\n",
    "        info(logger,\"Epoch : $epoch\")\n",
    "        info(logger,\"Train Loss : $epoch_loss_trn\")\n",
    "        info(logger,\"Test Loss : $epoch_loss_tst\")\n",
    "        info(logger,\"Train Reconstruction Loss : $epoch_rec_loss_trn\")\n",
    "        info(logger,\"Test Reconstruction Loss : $epoch_rec_loss_tst \\n\")\n",
    "    end\n",
    "    \n",
    "    # Save Model Weights \n",
    "    if epoch % model_save_checkpoint == 0\n",
    "        model_id = 1000 + epoch\n",
    "        model_name = joinpath(\"Results\", notebook_name, \"Saved_Models\",\"Model_VAEGON$model_id.jld2\")\n",
    "        #Knet.save(model_name,\"model\",theta) \n",
    "        w = Dict(:decoder => theta)\n",
    "        Knet.save(model_name,\"model\",w) \n",
    "        ### TO LOAD THE MODEL WEIGHTS, USE THE FOLLOWING\n",
    "        # w = Knet.load(model_name,\"model\",) # Ex: model_name = \"Results/Conv_AutoEncoder_Baseline_MNIST/Saved_Models/Model_Base1500.jld2\"\n",
    "        # theta = w[:decoder]\n",
    "    end\n",
    "    \n",
    "    if (epoch-1) % image_rec_checkpoint == 0 \n",
    "        \n",
    "        # Plot and Save Reconstruction Images\n",
    "        origin2 = Param(atype(zeros(nz, batch_size)))\n",
    "        derivative_origin = @diff loss(theta, x_test_first, origin2)\n",
    "        dz2 = grad(derivative_origin, origin2)\n",
    "        z2 = -dz2\n",
    "        x_hat, mu, logvar = decode(theta, z2)\n",
    "\n",
    "        plot_reconstructed_images(x_test_first, x_hat, 10, batch_size, (900,300))\n",
    "        fig_name = \"Reconstructed_Imgs_ID\" * string(1000 + epoch) \n",
    "        savefig(joinpath(\"Results\", notebook_name, \"Images\", fig_name))\n",
    "\n",
    "        x_sampled = GONsample(theta, nz, 64)\n",
    "        plot_image_grid(x_sampled; grid_x_size = 8, grid_y_size = 8, title = \"VAE GON Sampled Images\")\n",
    "        fig_name = \"VAEGON_Sampled_Imgs_ID\" * string(1000 + epoch) \n",
    "        savefig(joinpath(\"Results\", notebook_name, \"Images\", fig_name))\n",
    "\n",
    "    end\n",
    "end"
   ]
  },
  {
   "cell_type": "code",
   "execution_count": 13,
   "metadata": {},
   "outputs": [
    {
     "data": {
      "image/svg+xml": [
       "<?xml version=\"1.0\" encoding=\"utf-8\"?>\n",
       "<svg xmlns=\"http://www.w3.org/2000/svg\" xmlns:xlink=\"http://www.w3.org/1999/xlink\" width=\"700\" height=\"500\" viewBox=\"0 0 2800 2000\">\n",
       "<defs>\n",
       "  <clipPath id=\"clip410\">\n",
       "    <rect x=\"0\" y=\"0\" width=\"2800\" height=\"2000\"/>\n",
       "  </clipPath>\n",
       "</defs>\n",
       "<path clip-path=\"url(#clip410)\" d=\"\n",
       "M0 2000 L2800 2000 L2800 0 L0 0  Z\n",
       "  \" fill=\"#ffffff\" fill-rule=\"evenodd\" fill-opacity=\"1\"/>\n",
       "<defs>\n",
       "  <clipPath id=\"clip411\">\n",
       "    <rect x=\"560\" y=\"0\" width=\"1961\" height=\"1961\"/>\n",
       "  </clipPath>\n",
       "</defs>\n",
       "<path clip-path=\"url(#clip410)\" d=\"\n",
       "M378.751 1734.63 L2752.76 1734.63 L2752.76 155.564 L378.751 155.564  Z\n",
       "  \" fill=\"#ffffff\" fill-rule=\"evenodd\" fill-opacity=\"1\"/>\n",
       "<defs>\n",
       "  <clipPath id=\"clip412\">\n",
       "    <rect x=\"378\" y=\"155\" width=\"2375\" height=\"1580\"/>\n",
       "  </clipPath>\n",
       "</defs>\n",
       "<polyline clip-path=\"url(#clip412)\" style=\"stroke:#000000; stroke-linecap:butt; stroke-linejoin:round; stroke-width:2; stroke-opacity:0.1; fill:none\" points=\"\n",
       "  443.698,1734.63 443.698,155.564 \n",
       "  \"/>\n",
       "<polyline clip-path=\"url(#clip412)\" style=\"stroke:#000000; stroke-linecap:butt; stroke-linejoin:round; stroke-width:2; stroke-opacity:0.1; fill:none\" points=\"\n",
       "  1004.17,1734.63 1004.17,155.564 \n",
       "  \"/>\n",
       "<polyline clip-path=\"url(#clip412)\" style=\"stroke:#000000; stroke-linecap:butt; stroke-linejoin:round; stroke-width:2; stroke-opacity:0.1; fill:none\" points=\"\n",
       "  1564.63,1734.63 1564.63,155.564 \n",
       "  \"/>\n",
       "<polyline clip-path=\"url(#clip412)\" style=\"stroke:#000000; stroke-linecap:butt; stroke-linejoin:round; stroke-width:2; stroke-opacity:0.1; fill:none\" points=\"\n",
       "  2125.1,1734.63 2125.1,155.564 \n",
       "  \"/>\n",
       "<polyline clip-path=\"url(#clip412)\" style=\"stroke:#000000; stroke-linecap:butt; stroke-linejoin:round; stroke-width:2; stroke-opacity:0.1; fill:none\" points=\"\n",
       "  2685.57,1734.63 2685.57,155.564 \n",
       "  \"/>\n",
       "<polyline clip-path=\"url(#clip412)\" style=\"stroke:#000000; stroke-linecap:butt; stroke-linejoin:round; stroke-width:2; stroke-opacity:0.05; fill:none\" points=\"\n",
       "  555.792,1734.63 555.792,155.564 \n",
       "  \"/>\n",
       "<polyline clip-path=\"url(#clip412)\" style=\"stroke:#000000; stroke-linecap:butt; stroke-linejoin:round; stroke-width:2; stroke-opacity:0.05; fill:none\" points=\"\n",
       "  667.885,1734.63 667.885,155.564 \n",
       "  \"/>\n",
       "<polyline clip-path=\"url(#clip412)\" style=\"stroke:#000000; stroke-linecap:butt; stroke-linejoin:round; stroke-width:2; stroke-opacity:0.05; fill:none\" points=\"\n",
       "  779.979,1734.63 779.979,155.564 \n",
       "  \"/>\n",
       "<polyline clip-path=\"url(#clip412)\" style=\"stroke:#000000; stroke-linecap:butt; stroke-linejoin:round; stroke-width:2; stroke-opacity:0.05; fill:none\" points=\"\n",
       "  892.072,1734.63 892.072,155.564 \n",
       "  \"/>\n",
       "<polyline clip-path=\"url(#clip412)\" style=\"stroke:#000000; stroke-linecap:butt; stroke-linejoin:round; stroke-width:2; stroke-opacity:0.05; fill:none\" points=\"\n",
       "  1116.26,1734.63 1116.26,155.564 \n",
       "  \"/>\n",
       "<polyline clip-path=\"url(#clip412)\" style=\"stroke:#000000; stroke-linecap:butt; stroke-linejoin:round; stroke-width:2; stroke-opacity:0.05; fill:none\" points=\"\n",
       "  1228.35,1734.63 1228.35,155.564 \n",
       "  \"/>\n",
       "<polyline clip-path=\"url(#clip412)\" style=\"stroke:#000000; stroke-linecap:butt; stroke-linejoin:round; stroke-width:2; stroke-opacity:0.05; fill:none\" points=\"\n",
       "  1340.45,1734.63 1340.45,155.564 \n",
       "  \"/>\n",
       "<polyline clip-path=\"url(#clip412)\" style=\"stroke:#000000; stroke-linecap:butt; stroke-linejoin:round; stroke-width:2; stroke-opacity:0.05; fill:none\" points=\"\n",
       "  1452.54,1734.63 1452.54,155.564 \n",
       "  \"/>\n",
       "<polyline clip-path=\"url(#clip412)\" style=\"stroke:#000000; stroke-linecap:butt; stroke-linejoin:round; stroke-width:2; stroke-opacity:0.05; fill:none\" points=\"\n",
       "  1676.73,1734.63 1676.73,155.564 \n",
       "  \"/>\n",
       "<polyline clip-path=\"url(#clip412)\" style=\"stroke:#000000; stroke-linecap:butt; stroke-linejoin:round; stroke-width:2; stroke-opacity:0.05; fill:none\" points=\"\n",
       "  1788.82,1734.63 1788.82,155.564 \n",
       "  \"/>\n",
       "<polyline clip-path=\"url(#clip412)\" style=\"stroke:#000000; stroke-linecap:butt; stroke-linejoin:round; stroke-width:2; stroke-opacity:0.05; fill:none\" points=\"\n",
       "  1900.91,1734.63 1900.91,155.564 \n",
       "  \"/>\n",
       "<polyline clip-path=\"url(#clip412)\" style=\"stroke:#000000; stroke-linecap:butt; stroke-linejoin:round; stroke-width:2; stroke-opacity:0.05; fill:none\" points=\"\n",
       "  2013.01,1734.63 2013.01,155.564 \n",
       "  \"/>\n",
       "<polyline clip-path=\"url(#clip412)\" style=\"stroke:#000000; stroke-linecap:butt; stroke-linejoin:round; stroke-width:2; stroke-opacity:0.05; fill:none\" points=\"\n",
       "  2237.19,1734.63 2237.19,155.564 \n",
       "  \"/>\n",
       "<polyline clip-path=\"url(#clip412)\" style=\"stroke:#000000; stroke-linecap:butt; stroke-linejoin:round; stroke-width:2; stroke-opacity:0.05; fill:none\" points=\"\n",
       "  2349.29,1734.63 2349.29,155.564 \n",
       "  \"/>\n",
       "<polyline clip-path=\"url(#clip412)\" style=\"stroke:#000000; stroke-linecap:butt; stroke-linejoin:round; stroke-width:2; stroke-opacity:0.05; fill:none\" points=\"\n",
       "  2461.38,1734.63 2461.38,155.564 \n",
       "  \"/>\n",
       "<polyline clip-path=\"url(#clip412)\" style=\"stroke:#000000; stroke-linecap:butt; stroke-linejoin:round; stroke-width:2; stroke-opacity:0.05; fill:none\" points=\"\n",
       "  2573.47,1734.63 2573.47,155.564 \n",
       "  \"/>\n",
       "<polyline clip-path=\"url(#clip410)\" style=\"stroke:#000000; stroke-linecap:butt; stroke-linejoin:round; stroke-width:4; stroke-opacity:1; fill:none\" points=\"\n",
       "  378.751,1734.63 2752.76,1734.63 \n",
       "  \"/>\n",
       "<polyline clip-path=\"url(#clip410)\" style=\"stroke:#000000; stroke-linecap:butt; stroke-linejoin:round; stroke-width:4; stroke-opacity:1; fill:none\" points=\"\n",
       "  443.698,1734.63 443.698,1715.73 \n",
       "  \"/>\n",
       "<polyline clip-path=\"url(#clip410)\" style=\"stroke:#000000; stroke-linecap:butt; stroke-linejoin:round; stroke-width:4; stroke-opacity:1; fill:none\" points=\"\n",
       "  1004.17,1734.63 1004.17,1715.73 \n",
       "  \"/>\n",
       "<polyline clip-path=\"url(#clip410)\" style=\"stroke:#000000; stroke-linecap:butt; stroke-linejoin:round; stroke-width:4; stroke-opacity:1; fill:none\" points=\"\n",
       "  1564.63,1734.63 1564.63,1715.73 \n",
       "  \"/>\n",
       "<polyline clip-path=\"url(#clip410)\" style=\"stroke:#000000; stroke-linecap:butt; stroke-linejoin:round; stroke-width:4; stroke-opacity:1; fill:none\" points=\"\n",
       "  2125.1,1734.63 2125.1,1715.73 \n",
       "  \"/>\n",
       "<polyline clip-path=\"url(#clip410)\" style=\"stroke:#000000; stroke-linecap:butt; stroke-linejoin:round; stroke-width:4; stroke-opacity:1; fill:none\" points=\"\n",
       "  2685.57,1734.63 2685.57,1715.73 \n",
       "  \"/>\n",
       "<polyline clip-path=\"url(#clip410)\" style=\"stroke:#000000; stroke-linecap:butt; stroke-linejoin:round; stroke-width:4; stroke-opacity:1; fill:none\" points=\"\n",
       "  555.792,1734.63 555.792,1725.18 \n",
       "  \"/>\n",
       "<polyline clip-path=\"url(#clip410)\" style=\"stroke:#000000; stroke-linecap:butt; stroke-linejoin:round; stroke-width:4; stroke-opacity:1; fill:none\" points=\"\n",
       "  667.885,1734.63 667.885,1725.18 \n",
       "  \"/>\n",
       "<polyline clip-path=\"url(#clip410)\" style=\"stroke:#000000; stroke-linecap:butt; stroke-linejoin:round; stroke-width:4; stroke-opacity:1; fill:none\" points=\"\n",
       "  779.979,1734.63 779.979,1725.18 \n",
       "  \"/>\n",
       "<polyline clip-path=\"url(#clip410)\" style=\"stroke:#000000; stroke-linecap:butt; stroke-linejoin:round; stroke-width:4; stroke-opacity:1; fill:none\" points=\"\n",
       "  892.072,1734.63 892.072,1725.18 \n",
       "  \"/>\n",
       "<polyline clip-path=\"url(#clip410)\" style=\"stroke:#000000; stroke-linecap:butt; stroke-linejoin:round; stroke-width:4; stroke-opacity:1; fill:none\" points=\"\n",
       "  1116.26,1734.63 1116.26,1725.18 \n",
       "  \"/>\n",
       "<polyline clip-path=\"url(#clip410)\" style=\"stroke:#000000; stroke-linecap:butt; stroke-linejoin:round; stroke-width:4; stroke-opacity:1; fill:none\" points=\"\n",
       "  1228.35,1734.63 1228.35,1725.18 \n",
       "  \"/>\n",
       "<polyline clip-path=\"url(#clip410)\" style=\"stroke:#000000; stroke-linecap:butt; stroke-linejoin:round; stroke-width:4; stroke-opacity:1; fill:none\" points=\"\n",
       "  1340.45,1734.63 1340.45,1725.18 \n",
       "  \"/>\n",
       "<polyline clip-path=\"url(#clip410)\" style=\"stroke:#000000; stroke-linecap:butt; stroke-linejoin:round; stroke-width:4; stroke-opacity:1; fill:none\" points=\"\n",
       "  1452.54,1734.63 1452.54,1725.18 \n",
       "  \"/>\n",
       "<polyline clip-path=\"url(#clip410)\" style=\"stroke:#000000; stroke-linecap:butt; stroke-linejoin:round; stroke-width:4; stroke-opacity:1; fill:none\" points=\"\n",
       "  1676.73,1734.63 1676.73,1725.18 \n",
       "  \"/>\n",
       "<polyline clip-path=\"url(#clip410)\" style=\"stroke:#000000; stroke-linecap:butt; stroke-linejoin:round; stroke-width:4; stroke-opacity:1; fill:none\" points=\"\n",
       "  1788.82,1734.63 1788.82,1725.18 \n",
       "  \"/>\n",
       "<polyline clip-path=\"url(#clip410)\" style=\"stroke:#000000; stroke-linecap:butt; stroke-linejoin:round; stroke-width:4; stroke-opacity:1; fill:none\" points=\"\n",
       "  1900.91,1734.63 1900.91,1725.18 \n",
       "  \"/>\n",
       "<polyline clip-path=\"url(#clip410)\" style=\"stroke:#000000; stroke-linecap:butt; stroke-linejoin:round; stroke-width:4; stroke-opacity:1; fill:none\" points=\"\n",
       "  2013.01,1734.63 2013.01,1725.18 \n",
       "  \"/>\n",
       "<polyline clip-path=\"url(#clip410)\" style=\"stroke:#000000; stroke-linecap:butt; stroke-linejoin:round; stroke-width:4; stroke-opacity:1; fill:none\" points=\"\n",
       "  2237.19,1734.63 2237.19,1725.18 \n",
       "  \"/>\n",
       "<polyline clip-path=\"url(#clip410)\" style=\"stroke:#000000; stroke-linecap:butt; stroke-linejoin:round; stroke-width:4; stroke-opacity:1; fill:none\" points=\"\n",
       "  2349.29,1734.63 2349.29,1725.18 \n",
       "  \"/>\n",
       "<polyline clip-path=\"url(#clip410)\" style=\"stroke:#000000; stroke-linecap:butt; stroke-linejoin:round; stroke-width:4; stroke-opacity:1; fill:none\" points=\"\n",
       "  2461.38,1734.63 2461.38,1725.18 \n",
       "  \"/>\n",
       "<polyline clip-path=\"url(#clip410)\" style=\"stroke:#000000; stroke-linecap:butt; stroke-linejoin:round; stroke-width:4; stroke-opacity:1; fill:none\" points=\"\n",
       "  2573.47,1734.63 2573.47,1725.18 \n",
       "  \"/>\n",
       "<path clip-path=\"url(#clip410)\" d=\"M443.698 1783.4 Q435.573 1783.4 431.459 1791.42 Q427.396 1799.39 427.396 1815.43 Q427.396 1831.42 431.459 1839.44 Q435.573 1847.41 443.698 1847.41 Q451.875 1847.41 455.938 1839.44 Q460.052 1831.42 460.052 1815.43 Q460.052 1799.39 455.938 1791.42 Q451.875 1783.4 443.698 1783.4 M443.698 1775.07 Q456.771 1775.07 463.646 1785.43 Q470.573 1795.74 470.573 1815.43 Q470.573 1835.06 463.646 1845.43 Q456.771 1855.74 443.698 1855.74 Q430.625 1855.74 423.698 1845.43 Q416.823 1835.06 416.823 1815.43 Q416.823 1795.74 423.698 1785.43 Q430.625 1775.07 443.698 1775.07 Z\" fill=\"#000000\" fill-rule=\"evenodd\" fill-opacity=\"1\" /><path clip-path=\"url(#clip410)\" d=\"M922.473 1845.38 L959.192 1845.38 L959.192 1854.23 L909.817 1854.23 L909.817 1845.38 Q915.807 1839.18 926.119 1828.76 Q936.484 1818.29 939.14 1815.27 Q944.192 1809.6 946.171 1805.69 Q948.202 1801.73 948.202 1797.93 Q948.202 1791.73 943.827 1787.83 Q939.504 1783.92 932.525 1783.92 Q927.577 1783.92 922.057 1785.64 Q916.588 1787.36 910.338 1790.85 L910.338 1780.22 Q916.692 1777.67 922.213 1776.37 Q927.734 1775.07 932.317 1775.07 Q944.4 1775.07 951.588 1781.11 Q958.775 1787.15 958.775 1797.25 Q958.775 1802.04 956.952 1806.37 Q955.181 1810.64 950.442 1816.47 Q949.14 1817.98 942.161 1825.22 Q935.181 1832.41 922.473 1845.38 Z\" fill=\"#000000\" fill-rule=\"evenodd\" fill-opacity=\"1\" /><path clip-path=\"url(#clip410)\" d=\"M981.379 1776.47 L1022.68 1776.47 L1022.68 1785.33 L991.015 1785.33 L991.015 1804.39 Q993.306 1803.61 995.598 1803.24 Q997.889 1802.83 1000.18 1802.83 Q1013.2 1802.83 1020.81 1809.96 Q1028.41 1817.1 1028.41 1829.28 Q1028.41 1841.84 1020.6 1848.81 Q1012.79 1855.74 998.567 1855.74 Q993.671 1855.74 988.567 1854.91 Q983.515 1854.08 978.098 1852.41 L978.098 1841.84 Q982.785 1844.39 987.785 1845.64 Q992.785 1846.89 998.358 1846.89 Q1007.37 1846.89 1012.63 1842.15 Q1017.89 1837.41 1017.89 1829.28 Q1017.89 1821.16 1012.63 1816.42 Q1007.37 1811.68 998.358 1811.68 Q994.14 1811.68 989.921 1812.62 Q985.754 1813.55 981.379 1815.53 L981.379 1776.47 Z\" fill=\"#000000\" fill-rule=\"evenodd\" fill-opacity=\"1\" /><path clip-path=\"url(#clip410)\" d=\"M1071.64 1783.4 Q1063.51 1783.4 1059.4 1791.42 Q1055.34 1799.39 1055.34 1815.43 Q1055.34 1831.42 1059.4 1839.44 Q1063.51 1847.41 1071.64 1847.41 Q1079.82 1847.41 1083.88 1839.44 Q1087.99 1831.42 1087.99 1815.43 Q1087.99 1799.39 1083.88 1791.42 Q1079.82 1783.4 1071.64 1783.4 M1071.64 1775.07 Q1084.71 1775.07 1091.59 1785.43 Q1098.51 1795.74 1098.51 1815.43 Q1098.51 1835.06 1091.59 1845.43 Q1084.71 1855.74 1071.64 1855.74 Q1058.57 1855.74 1051.64 1845.43 Q1044.76 1835.06 1044.76 1815.43 Q1044.76 1795.74 1051.64 1785.43 Q1058.57 1775.07 1071.64 1775.07 Z\" fill=\"#000000\" fill-rule=\"evenodd\" fill-opacity=\"1\" /><path clip-path=\"url(#clip410)\" d=\"M1473.77 1776.47 L1515.08 1776.47 L1515.08 1785.33 L1483.41 1785.33 L1483.41 1804.39 Q1485.7 1803.61 1487.99 1803.24 Q1490.28 1802.83 1492.58 1802.83 Q1505.6 1802.83 1513.2 1809.96 Q1520.8 1817.1 1520.8 1829.28 Q1520.8 1841.84 1512.99 1848.81 Q1505.18 1855.74 1490.96 1855.74 Q1486.07 1855.74 1480.96 1854.91 Q1475.91 1854.08 1470.49 1852.41 L1470.49 1841.84 Q1475.18 1844.39 1480.18 1845.64 Q1485.18 1846.89 1490.75 1846.89 Q1499.76 1846.89 1505.02 1842.15 Q1510.28 1837.41 1510.28 1829.28 Q1510.28 1821.16 1505.02 1816.42 Q1499.76 1811.68 1490.75 1811.68 Q1486.53 1811.68 1482.32 1812.62 Q1478.15 1813.55 1473.77 1815.53 L1473.77 1776.47 Z\" fill=\"#000000\" fill-rule=\"evenodd\" fill-opacity=\"1\" /><path clip-path=\"url(#clip410)\" d=\"M1564.03 1783.4 Q1555.91 1783.4 1551.79 1791.42 Q1547.73 1799.39 1547.73 1815.43 Q1547.73 1831.42 1551.79 1839.44 Q1555.91 1847.41 1564.03 1847.41 Q1572.21 1847.41 1576.27 1839.44 Q1580.39 1831.42 1580.39 1815.43 Q1580.39 1799.39 1576.27 1791.42 Q1572.21 1783.4 1564.03 1783.4 M1564.03 1775.07 Q1577.11 1775.07 1583.98 1785.43 Q1590.91 1795.74 1590.91 1815.43 Q1590.91 1835.06 1583.98 1845.43 Q1577.11 1855.74 1564.03 1855.74 Q1550.96 1855.74 1544.03 1845.43 Q1537.16 1835.06 1537.16 1815.43 Q1537.16 1795.74 1544.03 1785.43 Q1550.96 1775.07 1564.03 1775.07 Z\" fill=\"#000000\" fill-rule=\"evenodd\" fill-opacity=\"1\" /><path clip-path=\"url(#clip410)\" d=\"M1631.9 1783.4 Q1623.77 1783.4 1619.66 1791.42 Q1615.6 1799.39 1615.6 1815.43 Q1615.6 1831.42 1619.66 1839.44 Q1623.77 1847.41 1631.9 1847.41 Q1640.07 1847.41 1644.14 1839.44 Q1648.25 1831.42 1648.25 1815.43 Q1648.25 1799.39 1644.14 1791.42 Q1640.07 1783.4 1631.9 1783.4 M1631.9 1775.07 Q1644.97 1775.07 1651.85 1785.43 Q1658.77 1795.74 1658.77 1815.43 Q1658.77 1835.06 1651.85 1845.43 Q1644.97 1855.74 1631.9 1855.74 Q1618.83 1855.74 1611.9 1845.43 Q1605.02 1835.06 1605.02 1815.43 Q1605.02 1795.74 1611.9 1785.43 Q1618.83 1775.07 1631.9 1775.07 Z\" fill=\"#000000\" fill-rule=\"evenodd\" fill-opacity=\"1\" /><path clip-path=\"url(#clip410)\" d=\"M2031.22 1776.47 L2081.22 1776.47 L2081.22 1780.95 L2052.99 1854.23 L2042 1854.23 L2068.56 1785.33 L2031.22 1785.33 L2031.22 1776.47 Z\" fill=\"#000000\" fill-rule=\"evenodd\" fill-opacity=\"1\" /><path clip-path=\"url(#clip410)\" d=\"M2101.84 1776.47 L2143.15 1776.47 L2143.15 1785.33 L2111.48 1785.33 L2111.48 1804.39 Q2113.77 1803.61 2116.06 1803.24 Q2118.36 1802.83 2120.65 1802.83 Q2133.67 1802.83 2141.27 1809.96 Q2148.88 1817.1 2148.88 1829.28 Q2148.88 1841.84 2141.06 1848.81 Q2133.25 1855.74 2119.03 1855.74 Q2114.14 1855.74 2109.03 1854.91 Q2103.98 1854.08 2098.56 1852.41 L2098.56 1841.84 Q2103.25 1844.39 2108.25 1845.64 Q2113.25 1846.89 2118.82 1846.89 Q2127.83 1846.89 2133.09 1842.15 Q2138.36 1837.41 2138.36 1829.28 Q2138.36 1821.16 2133.09 1816.42 Q2127.83 1811.68 2118.82 1811.68 Q2114.61 1811.68 2110.39 1812.62 Q2106.22 1813.55 2101.84 1815.53 L2101.84 1776.47 Z\" fill=\"#000000\" fill-rule=\"evenodd\" fill-opacity=\"1\" /><path clip-path=\"url(#clip410)\" d=\"M2192.1 1783.4 Q2183.98 1783.4 2179.87 1791.42 Q2175.8 1799.39 2175.8 1815.43 Q2175.8 1831.42 2179.87 1839.44 Q2183.98 1847.41 2192.1 1847.41 Q2200.28 1847.41 2204.34 1839.44 Q2208.46 1831.42 2208.46 1815.43 Q2208.46 1799.39 2204.34 1791.42 Q2200.28 1783.4 2192.1 1783.4 M2192.1 1775.07 Q2205.18 1775.07 2212.05 1785.43 Q2218.98 1795.74 2218.98 1815.43 Q2218.98 1835.06 2212.05 1845.43 Q2205.18 1855.74 2192.1 1855.74 Q2179.03 1855.74 2172.1 1845.43 Q2165.23 1835.06 2165.23 1815.43 Q2165.23 1795.74 2172.1 1785.43 Q2179.03 1775.07 2192.1 1775.07 Z\" fill=\"#000000\" fill-rule=\"evenodd\" fill-opacity=\"1\" /><path clip-path=\"url(#clip410)\" d=\"M2560.75 1845.38 L2577.94 1845.38 L2577.94 1786.05 L2559.24 1789.8 L2559.24 1780.22 L2577.83 1776.47 L2588.35 1776.47 L2588.35 1845.38 L2605.54 1845.38 L2605.54 1854.23 L2560.75 1854.23 L2560.75 1845.38 Z\" fill=\"#000000\" fill-rule=\"evenodd\" fill-opacity=\"1\" /><path clip-path=\"url(#clip410)\" d=\"M2649.29 1783.4 Q2641.17 1783.4 2637.05 1791.42 Q2632.99 1799.39 2632.99 1815.43 Q2632.99 1831.42 2637.05 1839.44 Q2641.17 1847.41 2649.29 1847.41 Q2657.47 1847.41 2661.53 1839.44 Q2665.65 1831.42 2665.65 1815.43 Q2665.65 1799.39 2661.53 1791.42 Q2657.47 1783.4 2649.29 1783.4 M2649.29 1775.07 Q2662.36 1775.07 2669.24 1785.43 Q2676.17 1795.74 2676.17 1815.43 Q2676.17 1835.06 2669.24 1845.43 Q2662.36 1855.74 2649.29 1855.74 Q2636.22 1855.74 2629.29 1845.43 Q2622.42 1835.06 2622.42 1815.43 Q2622.42 1795.74 2629.29 1785.43 Q2636.22 1775.07 2649.29 1775.07 Z\" fill=\"#000000\" fill-rule=\"evenodd\" fill-opacity=\"1\" /><path clip-path=\"url(#clip410)\" d=\"M2717.16 1783.4 Q2709.03 1783.4 2704.92 1791.42 Q2700.85 1799.39 2700.85 1815.43 Q2700.85 1831.42 2704.92 1839.44 Q2709.03 1847.41 2717.16 1847.41 Q2725.33 1847.41 2729.39 1839.44 Q2733.51 1831.42 2733.51 1815.43 Q2733.51 1799.39 2729.39 1791.42 Q2725.33 1783.4 2717.16 1783.4 M2717.16 1775.07 Q2730.23 1775.07 2737.1 1785.43 Q2744.03 1795.74 2744.03 1815.43 Q2744.03 1835.06 2737.1 1845.43 Q2730.23 1855.74 2717.16 1855.74 Q2704.08 1855.74 2697.16 1845.43 Q2690.28 1835.06 2690.28 1815.43 Q2690.28 1795.74 2697.16 1785.43 Q2704.08 1775.07 2717.16 1775.07 Z\" fill=\"#000000\" fill-rule=\"evenodd\" fill-opacity=\"1\" /><path clip-path=\"url(#clip410)\" d=\"M2785.02 1783.4 Q2776.89 1783.4 2772.78 1791.42 Q2768.72 1799.39 2768.72 1815.43 Q2768.72 1831.42 2772.78 1839.44 Q2776.89 1847.41 2785.02 1847.41 Q2793.2 1847.41 2797.26 1839.44 Q2801.37 1831.42 2801.37 1815.43 Q2801.37 1799.39 2797.26 1791.42 Q2793.2 1783.4 2785.02 1783.4 M2785.02 1775.07 Q2798.09 1775.07 2804.97 1785.43 Q2811.89 1795.74 2811.89 1815.43 Q2811.89 1835.06 2804.97 1845.43 Q2798.09 1855.74 2785.02 1855.74 Q2771.95 1855.74 2765.02 1845.43 Q2758.14 1835.06 2758.14 1815.43 Q2758.14 1795.74 2765.02 1785.43 Q2771.95 1775.07 2785.02 1775.07 Z\" fill=\"#000000\" fill-rule=\"evenodd\" fill-opacity=\"1\" /><path clip-path=\"url(#clip410)\" d=\"M1382.5 1908.82 L1431.67 1908.82 L1431.67 1917.68 L1393.02 1917.68 L1393.02 1940.7 L1430.05 1940.7 L1430.05 1949.55 L1393.02 1949.55 L1393.02 1977.73 L1432.6 1977.73 L1432.6 1986.58 L1382.5 1986.58 L1382.5 1908.82 Z\" fill=\"#000000\" fill-rule=\"evenodd\" fill-opacity=\"1\" /><path clip-path=\"url(#clip410)\" d=\"M1458.75 1977.83 L1458.75 2008.77 L1449.11 2008.77 L1449.11 1928.25 L1458.75 1928.25 L1458.75 1937.1 Q1461.77 1931.9 1466.35 1929.4 Q1470.99 1926.84 1477.39 1926.84 Q1488.02 1926.84 1494.63 1935.28 Q1501.3 1943.72 1501.3 1957.47 Q1501.3 1971.22 1494.63 1979.66 Q1488.02 1988.09 1477.39 1988.09 Q1470.99 1988.09 1466.35 1985.59 Q1461.77 1983.04 1458.75 1977.83 M1491.35 1957.47 Q1491.35 1946.9 1486.98 1940.91 Q1482.66 1934.86 1475.05 1934.86 Q1467.45 1934.86 1463.07 1940.91 Q1458.75 1946.9 1458.75 1957.47 Q1458.75 1968.04 1463.07 1974.08 Q1467.45 1980.07 1475.05 1980.07 Q1482.66 1980.07 1486.98 1974.08 Q1491.35 1968.04 1491.35 1957.47 Z\" fill=\"#000000\" fill-rule=\"evenodd\" fill-opacity=\"1\" /><path clip-path=\"url(#clip410)\" d=\"M1539.79 1934.97 Q1532.08 1934.97 1527.6 1941.01 Q1523.12 1947 1523.12 1957.47 Q1523.12 1967.94 1527.55 1973.98 Q1532.03 1979.97 1539.79 1979.97 Q1547.45 1979.97 1551.93 1973.93 Q1556.4 1967.89 1556.4 1957.47 Q1556.4 1947.1 1551.93 1941.06 Q1547.45 1934.97 1539.79 1934.97 M1539.79 1926.84 Q1552.29 1926.84 1559.43 1934.97 Q1566.56 1943.09 1566.56 1957.47 Q1566.56 1971.79 1559.43 1979.97 Q1552.29 1988.09 1539.79 1988.09 Q1527.24 1988.09 1520.1 1979.97 Q1513.02 1971.79 1513.02 1957.47 Q1513.02 1943.09 1520.1 1934.97 Q1527.24 1926.84 1539.79 1926.84 Z\" fill=\"#000000\" fill-rule=\"evenodd\" fill-opacity=\"1\" /><path clip-path=\"url(#clip410)\" d=\"M1624.43 1930.49 L1624.43 1939.45 Q1620.36 1937.21 1616.25 1936.11 Q1612.19 1934.97 1608.02 1934.97 Q1598.7 1934.97 1593.54 1940.91 Q1588.38 1946.79 1588.38 1957.47 Q1588.38 1968.15 1593.54 1974.08 Q1598.7 1979.97 1608.02 1979.97 Q1612.19 1979.97 1616.25 1978.87 Q1620.36 1977.73 1624.43 1975.49 L1624.43 1984.34 Q1620.41 1986.22 1616.09 1987.16 Q1611.82 1988.09 1606.98 1988.09 Q1593.8 1988.09 1586.04 1979.81 Q1578.28 1971.53 1578.28 1957.47 Q1578.28 1943.2 1586.09 1935.02 Q1593.96 1926.84 1607.6 1926.84 Q1612.03 1926.84 1616.25 1927.78 Q1620.47 1928.67 1624.43 1930.49 Z\" fill=\"#000000\" fill-rule=\"evenodd\" fill-opacity=\"1\" /><path clip-path=\"url(#clip410)\" d=\"M1689.58 1951.38 L1689.58 1986.58 L1680 1986.58 L1680 1951.69 Q1680 1943.41 1676.77 1939.29 Q1673.54 1935.18 1667.08 1935.18 Q1659.32 1935.18 1654.84 1940.13 Q1650.36 1945.07 1650.36 1953.61 L1650.36 1986.58 L1640.73 1986.58 L1640.73 1905.54 L1650.36 1905.54 L1650.36 1937.31 Q1653.8 1932.05 1658.44 1929.45 Q1663.12 1926.84 1669.22 1926.84 Q1679.27 1926.84 1684.42 1933.09 Q1689.58 1939.29 1689.58 1951.38 Z\" fill=\"#000000\" fill-rule=\"evenodd\" fill-opacity=\"1\" /><path clip-path=\"url(#clip410)\" d=\"M1745.88 1929.97 L1745.88 1939.03 Q1741.82 1936.95 1737.45 1935.91 Q1733.07 1934.86 1728.38 1934.86 Q1721.25 1934.86 1717.65 1937.05 Q1714.11 1939.24 1714.11 1943.61 Q1714.11 1946.95 1716.66 1948.88 Q1719.22 1950.75 1726.92 1952.47 L1730.21 1953.2 Q1740.41 1955.39 1744.68 1959.4 Q1749.01 1963.35 1749.01 1970.49 Q1749.01 1978.61 1742.55 1983.35 Q1736.14 1988.09 1724.89 1988.09 Q1720.21 1988.09 1715.1 1987.16 Q1710.05 1986.27 1704.42 1984.45 L1704.42 1974.55 Q1709.74 1977.31 1714.89 1978.72 Q1720.05 1980.07 1725.1 1980.07 Q1731.87 1980.07 1735.52 1977.78 Q1739.16 1975.44 1739.16 1971.22 Q1739.16 1967.31 1736.51 1965.23 Q1733.9 1963.15 1725 1961.22 L1721.66 1960.44 Q1712.76 1958.56 1708.8 1954.71 Q1704.84 1950.8 1704.84 1944.03 Q1704.84 1935.8 1710.67 1931.32 Q1716.51 1926.84 1727.24 1926.84 Q1732.55 1926.84 1737.24 1927.63 Q1741.92 1928.41 1745.88 1929.97 Z\" fill=\"#000000\" fill-rule=\"evenodd\" fill-opacity=\"1\" /><polyline clip-path=\"url(#clip412)\" style=\"stroke:#000000; stroke-linecap:butt; stroke-linejoin:round; stroke-width:2; stroke-opacity:0.1; fill:none\" points=\"\n",
       "  378.751,1637.78 2752.76,1637.78 \n",
       "  \"/>\n",
       "<polyline clip-path=\"url(#clip412)\" style=\"stroke:#000000; stroke-linecap:butt; stroke-linejoin:round; stroke-width:2; stroke-opacity:0.1; fill:none\" points=\"\n",
       "  378.751,1395.4 2752.76,1395.4 \n",
       "  \"/>\n",
       "<polyline clip-path=\"url(#clip412)\" style=\"stroke:#000000; stroke-linecap:butt; stroke-linejoin:round; stroke-width:2; stroke-opacity:0.1; fill:none\" points=\"\n",
       "  378.751,1153.02 2752.76,1153.02 \n",
       "  \"/>\n",
       "<polyline clip-path=\"url(#clip412)\" style=\"stroke:#000000; stroke-linecap:butt; stroke-linejoin:round; stroke-width:2; stroke-opacity:0.1; fill:none\" points=\"\n",
       "  378.751,910.634 2752.76,910.634 \n",
       "  \"/>\n",
       "<polyline clip-path=\"url(#clip412)\" style=\"stroke:#000000; stroke-linecap:butt; stroke-linejoin:round; stroke-width:2; stroke-opacity:0.1; fill:none\" points=\"\n",
       "  378.751,668.252 2752.76,668.252 \n",
       "  \"/>\n",
       "<polyline clip-path=\"url(#clip412)\" style=\"stroke:#000000; stroke-linecap:butt; stroke-linejoin:round; stroke-width:2; stroke-opacity:0.1; fill:none\" points=\"\n",
       "  378.751,425.87 2752.76,425.87 \n",
       "  \"/>\n",
       "<polyline clip-path=\"url(#clip412)\" style=\"stroke:#000000; stroke-linecap:butt; stroke-linejoin:round; stroke-width:2; stroke-opacity:0.1; fill:none\" points=\"\n",
       "  378.751,183.488 2752.76,183.488 \n",
       "  \"/>\n",
       "<polyline clip-path=\"url(#clip412)\" style=\"stroke:#000000; stroke-linecap:butt; stroke-linejoin:round; stroke-width:2; stroke-opacity:0.05; fill:none\" points=\"\n",
       "  378.751,1686.26 2752.76,1686.26 \n",
       "  \"/>\n",
       "<polyline clip-path=\"url(#clip412)\" style=\"stroke:#000000; stroke-linecap:butt; stroke-linejoin:round; stroke-width:2; stroke-opacity:0.05; fill:none\" points=\"\n",
       "  378.751,1589.3 2752.76,1589.3 \n",
       "  \"/>\n",
       "<polyline clip-path=\"url(#clip412)\" style=\"stroke:#000000; stroke-linecap:butt; stroke-linejoin:round; stroke-width:2; stroke-opacity:0.05; fill:none\" points=\"\n",
       "  378.751,1540.83 2752.76,1540.83 \n",
       "  \"/>\n",
       "<polyline clip-path=\"url(#clip412)\" style=\"stroke:#000000; stroke-linecap:butt; stroke-linejoin:round; stroke-width:2; stroke-opacity:0.05; fill:none\" points=\"\n",
       "  378.751,1492.35 2752.76,1492.35 \n",
       "  \"/>\n",
       "<polyline clip-path=\"url(#clip412)\" style=\"stroke:#000000; stroke-linecap:butt; stroke-linejoin:round; stroke-width:2; stroke-opacity:0.05; fill:none\" points=\"\n",
       "  378.751,1443.87 2752.76,1443.87 \n",
       "  \"/>\n",
       "<polyline clip-path=\"url(#clip412)\" style=\"stroke:#000000; stroke-linecap:butt; stroke-linejoin:round; stroke-width:2; stroke-opacity:0.05; fill:none\" points=\"\n",
       "  378.751,1346.92 2752.76,1346.92 \n",
       "  \"/>\n",
       "<polyline clip-path=\"url(#clip412)\" style=\"stroke:#000000; stroke-linecap:butt; stroke-linejoin:round; stroke-width:2; stroke-opacity:0.05; fill:none\" points=\"\n",
       "  378.751,1298.44 2752.76,1298.44 \n",
       "  \"/>\n",
       "<polyline clip-path=\"url(#clip412)\" style=\"stroke:#000000; stroke-linecap:butt; stroke-linejoin:round; stroke-width:2; stroke-opacity:0.05; fill:none\" points=\"\n",
       "  378.751,1249.97 2752.76,1249.97 \n",
       "  \"/>\n",
       "<polyline clip-path=\"url(#clip412)\" style=\"stroke:#000000; stroke-linecap:butt; stroke-linejoin:round; stroke-width:2; stroke-opacity:0.05; fill:none\" points=\"\n",
       "  378.751,1201.49 2752.76,1201.49 \n",
       "  \"/>\n",
       "<polyline clip-path=\"url(#clip412)\" style=\"stroke:#000000; stroke-linecap:butt; stroke-linejoin:round; stroke-width:2; stroke-opacity:0.05; fill:none\" points=\"\n",
       "  378.751,1104.54 2752.76,1104.54 \n",
       "  \"/>\n",
       "<polyline clip-path=\"url(#clip412)\" style=\"stroke:#000000; stroke-linecap:butt; stroke-linejoin:round; stroke-width:2; stroke-opacity:0.05; fill:none\" points=\"\n",
       "  378.751,1056.06 2752.76,1056.06 \n",
       "  \"/>\n",
       "<polyline clip-path=\"url(#clip412)\" style=\"stroke:#000000; stroke-linecap:butt; stroke-linejoin:round; stroke-width:2; stroke-opacity:0.05; fill:none\" points=\"\n",
       "  378.751,1007.59 2752.76,1007.59 \n",
       "  \"/>\n",
       "<polyline clip-path=\"url(#clip412)\" style=\"stroke:#000000; stroke-linecap:butt; stroke-linejoin:round; stroke-width:2; stroke-opacity:0.05; fill:none\" points=\"\n",
       "  378.751,959.11 2752.76,959.11 \n",
       "  \"/>\n",
       "<polyline clip-path=\"url(#clip412)\" style=\"stroke:#000000; stroke-linecap:butt; stroke-linejoin:round; stroke-width:2; stroke-opacity:0.05; fill:none\" points=\"\n",
       "  378.751,862.158 2752.76,862.158 \n",
       "  \"/>\n",
       "<polyline clip-path=\"url(#clip412)\" style=\"stroke:#000000; stroke-linecap:butt; stroke-linejoin:round; stroke-width:2; stroke-opacity:0.05; fill:none\" points=\"\n",
       "  378.751,813.681 2752.76,813.681 \n",
       "  \"/>\n",
       "<polyline clip-path=\"url(#clip412)\" style=\"stroke:#000000; stroke-linecap:butt; stroke-linejoin:round; stroke-width:2; stroke-opacity:0.05; fill:none\" points=\"\n",
       "  378.751,765.205 2752.76,765.205 \n",
       "  \"/>\n",
       "<polyline clip-path=\"url(#clip412)\" style=\"stroke:#000000; stroke-linecap:butt; stroke-linejoin:round; stroke-width:2; stroke-opacity:0.05; fill:none\" points=\"\n",
       "  378.751,716.728 2752.76,716.728 \n",
       "  \"/>\n",
       "<polyline clip-path=\"url(#clip412)\" style=\"stroke:#000000; stroke-linecap:butt; stroke-linejoin:round; stroke-width:2; stroke-opacity:0.05; fill:none\" points=\"\n",
       "  378.751,619.776 2752.76,619.776 \n",
       "  \"/>\n",
       "<polyline clip-path=\"url(#clip412)\" style=\"stroke:#000000; stroke-linecap:butt; stroke-linejoin:round; stroke-width:2; stroke-opacity:0.05; fill:none\" points=\"\n",
       "  378.751,571.299 2752.76,571.299 \n",
       "  \"/>\n",
       "<polyline clip-path=\"url(#clip412)\" style=\"stroke:#000000; stroke-linecap:butt; stroke-linejoin:round; stroke-width:2; stroke-opacity:0.05; fill:none\" points=\"\n",
       "  378.751,522.823 2752.76,522.823 \n",
       "  \"/>\n",
       "<polyline clip-path=\"url(#clip412)\" style=\"stroke:#000000; stroke-linecap:butt; stroke-linejoin:round; stroke-width:2; stroke-opacity:0.05; fill:none\" points=\"\n",
       "  378.751,474.347 2752.76,474.347 \n",
       "  \"/>\n",
       "<polyline clip-path=\"url(#clip412)\" style=\"stroke:#000000; stroke-linecap:butt; stroke-linejoin:round; stroke-width:2; stroke-opacity:0.05; fill:none\" points=\"\n",
       "  378.751,377.394 2752.76,377.394 \n",
       "  \"/>\n",
       "<polyline clip-path=\"url(#clip412)\" style=\"stroke:#000000; stroke-linecap:butt; stroke-linejoin:round; stroke-width:2; stroke-opacity:0.05; fill:none\" points=\"\n",
       "  378.751,328.917 2752.76,328.917 \n",
       "  \"/>\n",
       "<polyline clip-path=\"url(#clip412)\" style=\"stroke:#000000; stroke-linecap:butt; stroke-linejoin:round; stroke-width:2; stroke-opacity:0.05; fill:none\" points=\"\n",
       "  378.751,280.441 2752.76,280.441 \n",
       "  \"/>\n",
       "<polyline clip-path=\"url(#clip412)\" style=\"stroke:#000000; stroke-linecap:butt; stroke-linejoin:round; stroke-width:2; stroke-opacity:0.05; fill:none\" points=\"\n",
       "  378.751,231.965 2752.76,231.965 \n",
       "  \"/>\n",
       "<polyline clip-path=\"url(#clip410)\" style=\"stroke:#000000; stroke-linecap:butt; stroke-linejoin:round; stroke-width:4; stroke-opacity:1; fill:none\" points=\"\n",
       "  378.751,1734.63 378.751,155.564 \n",
       "  \"/>\n",
       "<polyline clip-path=\"url(#clip410)\" style=\"stroke:#000000; stroke-linecap:butt; stroke-linejoin:round; stroke-width:4; stroke-opacity:1; fill:none\" points=\"\n",
       "  378.751,1637.78 397.649,1637.78 \n",
       "  \"/>\n",
       "<polyline clip-path=\"url(#clip410)\" style=\"stroke:#000000; stroke-linecap:butt; stroke-linejoin:round; stroke-width:4; stroke-opacity:1; fill:none\" points=\"\n",
       "  378.751,1395.4 397.649,1395.4 \n",
       "  \"/>\n",
       "<polyline clip-path=\"url(#clip410)\" style=\"stroke:#000000; stroke-linecap:butt; stroke-linejoin:round; stroke-width:4; stroke-opacity:1; fill:none\" points=\"\n",
       "  378.751,1153.02 397.649,1153.02 \n",
       "  \"/>\n",
       "<polyline clip-path=\"url(#clip410)\" style=\"stroke:#000000; stroke-linecap:butt; stroke-linejoin:round; stroke-width:4; stroke-opacity:1; fill:none\" points=\"\n",
       "  378.751,910.634 397.649,910.634 \n",
       "  \"/>\n",
       "<polyline clip-path=\"url(#clip410)\" style=\"stroke:#000000; stroke-linecap:butt; stroke-linejoin:round; stroke-width:4; stroke-opacity:1; fill:none\" points=\"\n",
       "  378.751,668.252 397.649,668.252 \n",
       "  \"/>\n",
       "<polyline clip-path=\"url(#clip410)\" style=\"stroke:#000000; stroke-linecap:butt; stroke-linejoin:round; stroke-width:4; stroke-opacity:1; fill:none\" points=\"\n",
       "  378.751,425.87 397.649,425.87 \n",
       "  \"/>\n",
       "<polyline clip-path=\"url(#clip410)\" style=\"stroke:#000000; stroke-linecap:butt; stroke-linejoin:round; stroke-width:4; stroke-opacity:1; fill:none\" points=\"\n",
       "  378.751,183.488 397.649,183.488 \n",
       "  \"/>\n",
       "<polyline clip-path=\"url(#clip410)\" style=\"stroke:#000000; stroke-linecap:butt; stroke-linejoin:round; stroke-width:4; stroke-opacity:1; fill:none\" points=\"\n",
       "  378.751,1686.26 388.2,1686.26 \n",
       "  \"/>\n",
       "<polyline clip-path=\"url(#clip410)\" style=\"stroke:#000000; stroke-linecap:butt; stroke-linejoin:round; stroke-width:4; stroke-opacity:1; fill:none\" points=\"\n",
       "  378.751,1589.3 388.2,1589.3 \n",
       "  \"/>\n",
       "<polyline clip-path=\"url(#clip410)\" style=\"stroke:#000000; stroke-linecap:butt; stroke-linejoin:round; stroke-width:4; stroke-opacity:1; fill:none\" points=\"\n",
       "  378.751,1540.83 388.2,1540.83 \n",
       "  \"/>\n",
       "<polyline clip-path=\"url(#clip410)\" style=\"stroke:#000000; stroke-linecap:butt; stroke-linejoin:round; stroke-width:4; stroke-opacity:1; fill:none\" points=\"\n",
       "  378.751,1492.35 388.2,1492.35 \n",
       "  \"/>\n",
       "<polyline clip-path=\"url(#clip410)\" style=\"stroke:#000000; stroke-linecap:butt; stroke-linejoin:round; stroke-width:4; stroke-opacity:1; fill:none\" points=\"\n",
       "  378.751,1443.87 388.2,1443.87 \n",
       "  \"/>\n",
       "<polyline clip-path=\"url(#clip410)\" style=\"stroke:#000000; stroke-linecap:butt; stroke-linejoin:round; stroke-width:4; stroke-opacity:1; fill:none\" points=\"\n",
       "  378.751,1346.92 388.2,1346.92 \n",
       "  \"/>\n",
       "<polyline clip-path=\"url(#clip410)\" style=\"stroke:#000000; stroke-linecap:butt; stroke-linejoin:round; stroke-width:4; stroke-opacity:1; fill:none\" points=\"\n",
       "  378.751,1298.44 388.2,1298.44 \n",
       "  \"/>\n",
       "<polyline clip-path=\"url(#clip410)\" style=\"stroke:#000000; stroke-linecap:butt; stroke-linejoin:round; stroke-width:4; stroke-opacity:1; fill:none\" points=\"\n",
       "  378.751,1249.97 388.2,1249.97 \n",
       "  \"/>\n",
       "<polyline clip-path=\"url(#clip410)\" style=\"stroke:#000000; stroke-linecap:butt; stroke-linejoin:round; stroke-width:4; stroke-opacity:1; fill:none\" points=\"\n",
       "  378.751,1201.49 388.2,1201.49 \n",
       "  \"/>\n",
       "<polyline clip-path=\"url(#clip410)\" style=\"stroke:#000000; stroke-linecap:butt; stroke-linejoin:round; stroke-width:4; stroke-opacity:1; fill:none\" points=\"\n",
       "  378.751,1104.54 388.2,1104.54 \n",
       "  \"/>\n",
       "<polyline clip-path=\"url(#clip410)\" style=\"stroke:#000000; stroke-linecap:butt; stroke-linejoin:round; stroke-width:4; stroke-opacity:1; fill:none\" points=\"\n",
       "  378.751,1056.06 388.2,1056.06 \n",
       "  \"/>\n",
       "<polyline clip-path=\"url(#clip410)\" style=\"stroke:#000000; stroke-linecap:butt; stroke-linejoin:round; stroke-width:4; stroke-opacity:1; fill:none\" points=\"\n",
       "  378.751,1007.59 388.2,1007.59 \n",
       "  \"/>\n",
       "<polyline clip-path=\"url(#clip410)\" style=\"stroke:#000000; stroke-linecap:butt; stroke-linejoin:round; stroke-width:4; stroke-opacity:1; fill:none\" points=\"\n",
       "  378.751,959.11 388.2,959.11 \n",
       "  \"/>\n",
       "<polyline clip-path=\"url(#clip410)\" style=\"stroke:#000000; stroke-linecap:butt; stroke-linejoin:round; stroke-width:4; stroke-opacity:1; fill:none\" points=\"\n",
       "  378.751,862.158 388.2,862.158 \n",
       "  \"/>\n",
       "<polyline clip-path=\"url(#clip410)\" style=\"stroke:#000000; stroke-linecap:butt; stroke-linejoin:round; stroke-width:4; stroke-opacity:1; fill:none\" points=\"\n",
       "  378.751,813.681 388.2,813.681 \n",
       "  \"/>\n",
       "<polyline clip-path=\"url(#clip410)\" style=\"stroke:#000000; stroke-linecap:butt; stroke-linejoin:round; stroke-width:4; stroke-opacity:1; fill:none\" points=\"\n",
       "  378.751,765.205 388.2,765.205 \n",
       "  \"/>\n",
       "<polyline clip-path=\"url(#clip410)\" style=\"stroke:#000000; stroke-linecap:butt; stroke-linejoin:round; stroke-width:4; stroke-opacity:1; fill:none\" points=\"\n",
       "  378.751,716.728 388.2,716.728 \n",
       "  \"/>\n",
       "<polyline clip-path=\"url(#clip410)\" style=\"stroke:#000000; stroke-linecap:butt; stroke-linejoin:round; stroke-width:4; stroke-opacity:1; fill:none\" points=\"\n",
       "  378.751,619.776 388.2,619.776 \n",
       "  \"/>\n",
       "<polyline clip-path=\"url(#clip410)\" style=\"stroke:#000000; stroke-linecap:butt; stroke-linejoin:round; stroke-width:4; stroke-opacity:1; fill:none\" points=\"\n",
       "  378.751,571.299 388.2,571.299 \n",
       "  \"/>\n",
       "<polyline clip-path=\"url(#clip410)\" style=\"stroke:#000000; stroke-linecap:butt; stroke-linejoin:round; stroke-width:4; stroke-opacity:1; fill:none\" points=\"\n",
       "  378.751,522.823 388.2,522.823 \n",
       "  \"/>\n",
       "<polyline clip-path=\"url(#clip410)\" style=\"stroke:#000000; stroke-linecap:butt; stroke-linejoin:round; stroke-width:4; stroke-opacity:1; fill:none\" points=\"\n",
       "  378.751,474.347 388.2,474.347 \n",
       "  \"/>\n",
       "<polyline clip-path=\"url(#clip410)\" style=\"stroke:#000000; stroke-linecap:butt; stroke-linejoin:round; stroke-width:4; stroke-opacity:1; fill:none\" points=\"\n",
       "  378.751,377.394 388.2,377.394 \n",
       "  \"/>\n",
       "<polyline clip-path=\"url(#clip410)\" style=\"stroke:#000000; stroke-linecap:butt; stroke-linejoin:round; stroke-width:4; stroke-opacity:1; fill:none\" points=\"\n",
       "  378.751,328.917 388.2,328.917 \n",
       "  \"/>\n",
       "<polyline clip-path=\"url(#clip410)\" style=\"stroke:#000000; stroke-linecap:butt; stroke-linejoin:round; stroke-width:4; stroke-opacity:1; fill:none\" points=\"\n",
       "  378.751,280.441 388.2,280.441 \n",
       "  \"/>\n",
       "<polyline clip-path=\"url(#clip410)\" style=\"stroke:#000000; stroke-linecap:butt; stroke-linejoin:round; stroke-width:4; stroke-opacity:1; fill:none\" points=\"\n",
       "  378.751,231.965 388.2,231.965 \n",
       "  \"/>\n",
       "<path clip-path=\"url(#clip410)\" d=\"M153.471 1667.81 L170.658 1667.81 L170.658 1608.48 L151.961 1612.23 L151.961 1602.65 L170.554 1598.9 L181.075 1598.9 L181.075 1667.81 L198.263 1667.81 L198.263 1676.66 L153.471 1676.66 L153.471 1667.81 Z\" fill=\"#000000\" fill-rule=\"evenodd\" fill-opacity=\"1\" /><path clip-path=\"url(#clip410)\" d=\"M219.617 1598.9 L260.918 1598.9 L260.918 1607.75 L229.252 1607.75 L229.252 1626.82 Q231.544 1626.03 233.835 1625.67 Q236.127 1625.25 238.419 1625.25 Q251.439 1625.25 259.043 1632.39 Q266.648 1639.52 266.648 1651.71 Q266.648 1664.26 258.835 1671.24 Q251.023 1678.17 236.804 1678.17 Q231.908 1678.17 226.804 1677.34 Q221.752 1676.5 216.335 1674.84 L216.335 1664.26 Q221.023 1666.82 226.023 1668.07 Q231.023 1669.32 236.596 1669.32 Q245.606 1669.32 250.866 1664.58 Q256.127 1659.84 256.127 1651.71 Q256.127 1643.59 250.866 1638.85 Q245.606 1634.11 236.596 1634.11 Q232.377 1634.11 228.158 1635.05 Q223.992 1635.98 219.617 1637.96 L219.617 1598.9 Z\" fill=\"#000000\" fill-rule=\"evenodd\" fill-opacity=\"1\" /><path clip-path=\"url(#clip410)\" d=\"M309.876 1605.83 Q301.752 1605.83 297.637 1613.85 Q293.574 1621.82 293.574 1637.86 Q293.574 1653.85 297.637 1661.87 Q301.752 1669.84 309.876 1669.84 Q318.054 1669.84 322.116 1661.87 Q326.231 1653.85 326.231 1637.86 Q326.231 1621.82 322.116 1613.85 Q318.054 1605.83 309.876 1605.83 M309.876 1597.49 Q322.949 1597.49 329.824 1607.86 Q336.751 1618.17 336.751 1637.86 Q336.751 1657.49 329.824 1667.86 Q322.949 1678.17 309.876 1678.17 Q296.804 1678.17 289.877 1667.86 Q283.002 1657.49 283.002 1637.86 Q283.002 1618.17 289.877 1607.86 Q296.804 1597.49 309.876 1597.49 Z\" fill=\"#000000\" fill-rule=\"evenodd\" fill-opacity=\"1\" /><path clip-path=\"url(#clip410)\" d=\"M153.471 1425.42 L170.658 1425.42 L170.658 1366.1 L151.961 1369.85 L151.961 1360.27 L170.554 1356.52 L181.075 1356.52 L181.075 1425.42 L198.263 1425.42 L198.263 1434.28 L153.471 1434.28 L153.471 1425.42 Z\" fill=\"#000000\" fill-rule=\"evenodd\" fill-opacity=\"1\" /><path clip-path=\"url(#clip410)\" d=\"M243.314 1391.2 Q236.231 1391.2 232.064 1396.05 Q227.95 1400.89 227.95 1409.33 Q227.95 1417.72 232.064 1422.61 Q236.231 1427.45 243.314 1427.45 Q250.398 1427.45 254.512 1422.61 Q258.679 1417.72 258.679 1409.33 Q258.679 1400.89 254.512 1396.05 Q250.398 1391.2 243.314 1391.2 M264.2 1358.24 L264.2 1367.82 Q260.241 1365.94 256.179 1364.96 Q252.168 1363.97 248.21 1363.97 Q237.794 1363.97 232.273 1371 Q226.804 1378.03 226.023 1392.25 Q229.096 1387.72 233.731 1385.32 Q238.366 1382.87 243.939 1382.87 Q255.658 1382.87 262.429 1390.01 Q269.252 1397.09 269.252 1409.33 Q269.252 1421.31 262.168 1428.55 Q255.085 1435.79 243.314 1435.79 Q229.825 1435.79 222.689 1425.48 Q215.554 1415.11 215.554 1395.48 Q215.554 1377.04 224.304 1366.1 Q233.054 1355.11 247.793 1355.11 Q251.752 1355.11 255.762 1355.89 Q259.825 1356.67 264.2 1358.24 Z\" fill=\"#000000\" fill-rule=\"evenodd\" fill-opacity=\"1\" /><path clip-path=\"url(#clip410)\" d=\"M309.876 1363.44 Q301.752 1363.44 297.637 1371.47 Q293.574 1379.43 293.574 1395.48 Q293.574 1411.47 297.637 1419.49 Q301.752 1427.45 309.876 1427.45 Q318.054 1427.45 322.116 1419.49 Q326.231 1411.47 326.231 1395.48 Q326.231 1379.43 322.116 1371.47 Q318.054 1363.44 309.876 1363.44 M309.876 1355.11 Q322.949 1355.11 329.824 1365.48 Q336.751 1375.79 336.751 1395.48 Q336.751 1415.11 329.824 1425.48 Q322.949 1435.79 309.876 1435.79 Q296.804 1435.79 289.877 1425.48 Q283.002 1415.11 283.002 1395.48 Q283.002 1375.79 289.877 1365.48 Q296.804 1355.11 309.876 1355.11 Z\" fill=\"#000000\" fill-rule=\"evenodd\" fill-opacity=\"1\" /><path clip-path=\"url(#clip410)\" d=\"M153.471 1183.04 L170.658 1183.04 L170.658 1123.72 L151.961 1127.47 L151.961 1117.89 L170.554 1114.14 L181.075 1114.14 L181.075 1183.04 L198.263 1183.04 L198.263 1191.9 L153.471 1191.9 L153.471 1183.04 Z\" fill=\"#000000\" fill-rule=\"evenodd\" fill-opacity=\"1\" /><path clip-path=\"url(#clip410)\" d=\"M216.856 1114.14 L266.856 1114.14 L266.856 1118.61 L238.627 1191.9 L227.637 1191.9 L254.2 1122.99 L216.856 1122.99 L216.856 1114.14 Z\" fill=\"#000000\" fill-rule=\"evenodd\" fill-opacity=\"1\" /><path clip-path=\"url(#clip410)\" d=\"M309.876 1121.06 Q301.752 1121.06 297.637 1129.08 Q293.574 1137.05 293.574 1153.09 Q293.574 1169.08 297.637 1177.1 Q301.752 1185.07 309.876 1185.07 Q318.054 1185.07 322.116 1177.1 Q326.231 1169.08 326.231 1153.09 Q326.231 1137.05 322.116 1129.08 Q318.054 1121.06 309.876 1121.06 M309.876 1112.73 Q322.949 1112.73 329.824 1123.09 Q336.751 1133.41 336.751 1153.09 Q336.751 1172.73 329.824 1183.09 Q322.949 1193.41 309.876 1193.41 Q296.804 1193.41 289.877 1183.09 Q283.002 1172.73 283.002 1153.09 Q283.002 1133.41 289.877 1123.09 Q296.804 1112.73 309.876 1112.73 Z\" fill=\"#000000\" fill-rule=\"evenodd\" fill-opacity=\"1\" /><path clip-path=\"url(#clip410)\" d=\"M153.471 940.66 L170.658 940.66 L170.658 881.337 L151.961 885.087 L151.961 875.504 L170.554 871.754 L181.075 871.754 L181.075 940.66 L198.263 940.66 L198.263 949.514 L153.471 949.514 L153.471 940.66 Z\" fill=\"#000000\" fill-rule=\"evenodd\" fill-opacity=\"1\" /><path clip-path=\"url(#clip410)\" d=\"M242.012 912.587 Q234.512 912.587 230.189 916.597 Q225.919 920.608 225.919 927.639 Q225.919 934.67 230.189 938.681 Q234.512 942.691 242.012 942.691 Q249.512 942.691 253.835 938.681 Q258.158 934.618 258.158 927.639 Q258.158 920.608 253.835 916.597 Q249.564 912.587 242.012 912.587 M231.491 908.108 Q224.721 906.441 220.919 901.806 Q217.169 897.17 217.169 890.504 Q217.169 881.181 223.783 875.764 Q230.45 870.348 242.012 870.348 Q253.627 870.348 260.241 875.764 Q266.856 881.181 266.856 890.504 Q266.856 897.17 263.054 901.806 Q259.304 906.441 252.585 908.108 Q260.189 909.879 264.408 915.035 Q268.679 920.191 268.679 927.639 Q268.679 938.941 261.752 944.983 Q254.877 951.024 242.012 951.024 Q229.148 951.024 222.221 944.983 Q215.346 938.941 215.346 927.639 Q215.346 920.191 219.617 915.035 Q223.887 909.879 231.491 908.108 M227.637 891.493 Q227.637 897.535 231.387 900.92 Q235.189 904.306 242.012 904.306 Q248.783 904.306 252.585 900.92 Q256.439 897.535 256.439 891.493 Q256.439 885.452 252.585 882.066 Q248.783 878.681 242.012 878.681 Q235.189 878.681 231.387 882.066 Q227.637 885.452 227.637 891.493 Z\" fill=\"#000000\" fill-rule=\"evenodd\" fill-opacity=\"1\" /><path clip-path=\"url(#clip410)\" d=\"M309.876 878.681 Q301.752 878.681 297.637 886.702 Q293.574 894.67 293.574 910.712 Q293.574 926.702 297.637 934.722 Q301.752 942.691 309.876 942.691 Q318.054 942.691 322.116 934.722 Q326.231 926.702 326.231 910.712 Q326.231 894.67 322.116 886.702 Q318.054 878.681 309.876 878.681 M309.876 870.348 Q322.949 870.348 329.824 880.712 Q336.751 891.025 336.751 910.712 Q336.751 930.347 329.824 940.712 Q322.949 951.024 309.876 951.024 Q296.804 951.024 289.877 940.712 Q283.002 930.347 283.002 910.712 Q283.002 891.025 289.877 880.712 Q296.804 870.348 309.876 870.348 Z\" fill=\"#000000\" fill-rule=\"evenodd\" fill-opacity=\"1\" /><path clip-path=\"url(#clip410)\" d=\"M153.471 698.278 L170.658 698.278 L170.658 638.955 L151.961 642.705 L151.961 633.122 L170.554 629.372 L181.075 629.372 L181.075 698.278 L198.263 698.278 L198.263 707.132 L153.471 707.132 L153.471 698.278 Z\" fill=\"#000000\" fill-rule=\"evenodd\" fill-opacity=\"1\" /><path clip-path=\"url(#clip410)\" d=\"M219.825 705.517 L219.825 695.934 Q223.783 697.809 227.846 698.799 Q231.908 699.788 235.814 699.788 Q246.231 699.788 251.7 692.809 Q257.221 685.778 258.002 671.507 Q254.981 675.986 250.346 678.382 Q245.71 680.778 240.085 680.778 Q228.419 680.778 221.596 673.747 Q214.825 666.664 214.825 654.424 Q214.825 642.445 221.908 635.205 Q228.992 627.966 240.762 627.966 Q254.252 627.966 261.335 638.33 Q268.47 648.643 268.47 668.33 Q268.47 686.715 259.721 697.705 Q251.023 708.642 236.283 708.642 Q232.325 708.642 228.262 707.861 Q224.2 707.08 219.825 705.517 M240.762 672.549 Q247.846 672.549 251.96 667.705 Q256.127 662.861 256.127 654.424 Q256.127 646.039 251.96 641.195 Q247.846 636.299 240.762 636.299 Q233.679 636.299 229.512 641.195 Q225.398 646.039 225.398 654.424 Q225.398 662.861 229.512 667.705 Q233.679 672.549 240.762 672.549 Z\" fill=\"#000000\" fill-rule=\"evenodd\" fill-opacity=\"1\" /><path clip-path=\"url(#clip410)\" d=\"M309.876 636.299 Q301.752 636.299 297.637 644.32 Q293.574 652.289 293.574 668.33 Q293.574 684.32 297.637 692.34 Q301.752 700.309 309.876 700.309 Q318.054 700.309 322.116 692.34 Q326.231 684.32 326.231 668.33 Q326.231 652.289 322.116 644.32 Q318.054 636.299 309.876 636.299 M309.876 627.966 Q322.949 627.966 329.824 638.33 Q336.751 648.643 336.751 668.33 Q336.751 687.965 329.824 698.33 Q322.949 708.642 309.876 708.642 Q296.804 708.642 289.877 698.33 Q283.002 687.965 283.002 668.33 Q283.002 648.643 289.877 638.33 Q296.804 627.966 309.876 627.966 Z\" fill=\"#000000\" fill-rule=\"evenodd\" fill-opacity=\"1\" /><path clip-path=\"url(#clip410)\" d=\"M160.711 455.896 L197.429 455.896 L197.429 464.75 L148.054 464.75 L148.054 455.896 Q154.044 449.698 164.356 439.282 Q174.721 428.813 177.377 425.792 Q182.429 420.115 184.408 416.209 Q186.44 412.25 186.44 408.448 Q186.44 402.251 182.065 398.344 Q177.742 394.438 170.763 394.438 Q165.815 394.438 160.294 396.157 Q154.825 397.876 148.575 401.365 L148.575 390.74 Q154.929 388.188 160.45 386.886 Q165.971 385.584 170.554 385.584 Q182.638 385.584 189.825 391.626 Q197.013 397.667 197.013 407.771 Q197.013 412.563 195.19 416.886 Q193.419 421.157 188.679 426.99 Q187.377 428.5 180.398 435.74 Q173.419 442.927 160.711 455.896 Z\" fill=\"#000000\" fill-rule=\"evenodd\" fill-opacity=\"1\" /><path clip-path=\"url(#clip410)\" d=\"M242.012 393.917 Q233.887 393.917 229.773 401.938 Q225.71 409.907 225.71 425.948 Q225.71 441.938 229.773 449.959 Q233.887 457.927 242.012 457.927 Q250.189 457.927 254.252 449.959 Q258.366 441.938 258.366 425.948 Q258.366 409.907 254.252 401.938 Q250.189 393.917 242.012 393.917 M242.012 385.584 Q255.085 385.584 261.96 395.948 Q268.887 406.261 268.887 425.948 Q268.887 445.584 261.96 455.948 Q255.085 466.261 242.012 466.261 Q228.939 466.261 222.012 455.948 Q215.137 445.584 215.137 425.948 Q215.137 406.261 222.012 395.948 Q228.939 385.584 242.012 385.584 Z\" fill=\"#000000\" fill-rule=\"evenodd\" fill-opacity=\"1\" /><path clip-path=\"url(#clip410)\" d=\"M309.876 393.917 Q301.752 393.917 297.637 401.938 Q293.574 409.907 293.574 425.948 Q293.574 441.938 297.637 449.959 Q301.752 457.927 309.876 457.927 Q318.054 457.927 322.116 449.959 Q326.231 441.938 326.231 425.948 Q326.231 409.907 322.116 401.938 Q318.054 393.917 309.876 393.917 M309.876 385.584 Q322.949 385.584 329.824 395.948 Q336.751 406.261 336.751 425.948 Q336.751 445.584 329.824 455.948 Q322.949 466.261 309.876 466.261 Q296.804 466.261 289.877 455.948 Q283.002 445.584 283.002 425.948 Q283.002 406.261 289.877 395.948 Q296.804 385.584 309.876 385.584 Z\" fill=\"#000000\" fill-rule=\"evenodd\" fill-opacity=\"1\" /><path clip-path=\"url(#clip410)\" d=\"M160.711 213.514 L197.429 213.514 L197.429 222.368 L148.054 222.368 L148.054 213.514 Q154.044 207.316 164.356 196.9 Q174.721 186.431 177.377 183.41 Q182.429 177.733 184.408 173.827 Q186.44 169.869 186.44 166.067 Q186.44 159.869 182.065 155.962 Q177.742 152.056 170.763 152.056 Q165.815 152.056 160.294 153.775 Q154.825 155.494 148.575 158.983 L148.575 148.358 Q154.929 145.806 160.45 144.504 Q165.971 143.202 170.554 143.202 Q182.638 143.202 189.825 149.244 Q197.013 155.285 197.013 165.389 Q197.013 170.181 195.19 174.504 Q193.419 178.775 188.679 184.608 Q187.377 186.118 180.398 193.358 Q173.419 200.545 160.711 213.514 Z\" fill=\"#000000\" fill-rule=\"evenodd\" fill-opacity=\"1\" /><path clip-path=\"url(#clip410)\" d=\"M221.335 213.514 L238.523 213.514 L238.523 154.192 L219.825 157.942 L219.825 148.358 L238.419 144.608 L248.939 144.608 L248.939 213.514 L266.127 213.514 L266.127 222.368 L221.335 222.368 L221.335 213.514 Z\" fill=\"#000000\" fill-rule=\"evenodd\" fill-opacity=\"1\" /><path clip-path=\"url(#clip410)\" d=\"M309.876 151.535 Q301.752 151.535 297.637 159.556 Q293.574 167.525 293.574 183.566 Q293.574 199.556 297.637 207.577 Q301.752 215.545 309.876 215.545 Q318.054 215.545 322.116 207.577 Q326.231 199.556 326.231 183.566 Q326.231 167.525 322.116 159.556 Q318.054 151.535 309.876 151.535 M309.876 143.202 Q322.949 143.202 329.824 153.567 Q336.751 163.879 336.751 183.566 Q336.751 203.202 329.824 213.566 Q322.949 223.879 309.876 223.879 Q296.804 223.879 289.877 213.566 Q283.002 203.202 283.002 183.566 Q283.002 163.879 289.877 153.567 Q296.804 143.202 309.876 143.202 Z\" fill=\"#000000\" fill-rule=\"evenodd\" fill-opacity=\"1\" /><path clip-path=\"url(#clip410)\" d=\"M4.96644 1054.24 L4.96644 1043.72 L73.8723 1043.72 L73.8723 1005.85 L82.7264 1005.85 L82.7264 1054.24 L4.96644 1054.24 Z\" fill=\"#000000\" fill-rule=\"evenodd\" fill-opacity=\"1\" /><path clip-path=\"url(#clip410)\" d=\"M31.1121 974.498 Q31.1121 982.207 37.1538 986.686 Q43.1433 991.165 53.612 991.165 Q64.0807 991.165 70.1223 986.738 Q76.1119 982.259 76.1119 974.498 Q76.1119 966.842 70.0703 962.363 Q64.0286 957.884 53.612 957.884 Q43.2475 957.884 37.2059 962.363 Q31.1121 966.842 31.1121 974.498 M22.9872 974.498 Q22.9872 961.998 31.1121 954.863 Q39.2371 947.728 53.612 947.728 Q67.9349 947.728 76.1119 954.863 Q84.2369 961.998 84.2369 974.498 Q84.2369 987.05 76.1119 994.186 Q67.9349 1001.27 53.612 1001.27 Q39.2371 1001.27 31.1121 994.186 Q22.9872 987.05 22.9872 974.498 Z\" fill=\"#000000\" fill-rule=\"evenodd\" fill-opacity=\"1\" /><path clip-path=\"url(#clip410)\" d=\"M26.1122 894.655 L35.1746 894.655 Q33.0913 898.717 32.0496 903.092 Q31.008 907.467 31.008 912.155 Q31.008 919.29 33.1955 922.884 Q35.3829 926.426 39.7579 926.426 Q43.0912 926.426 45.0183 923.874 Q46.8933 921.321 48.612 913.613 L49.3412 910.332 Q51.5287 900.124 55.5391 895.853 Q59.4974 891.53 66.6328 891.53 Q74.7577 891.53 79.4973 897.988 Q84.2369 904.395 84.2369 915.644 Q84.2369 920.332 83.2994 925.436 Q82.4139 930.488 80.591 936.113 L70.6953 936.113 Q73.4557 930.801 74.8619 925.644 Q76.2161 920.488 76.2161 915.436 Q76.2161 908.665 73.9244 905.02 Q71.5807 901.374 67.3619 901.374 Q63.4557 901.374 61.3724 904.03 Q59.2891 906.634 57.362 915.54 L56.5807 918.874 Q54.7058 927.78 50.8516 931.738 Q46.9454 935.696 40.1746 935.696 Q31.9455 935.696 27.4663 929.863 Q22.9872 924.03 22.9872 913.301 Q22.9872 907.988 23.7684 903.301 Q24.5497 898.613 26.1122 894.655 Z\" fill=\"#000000\" fill-rule=\"evenodd\" fill-opacity=\"1\" /><path clip-path=\"url(#clip410)\" d=\"M26.1122 839.082 L35.1746 839.082 Q33.0913 843.145 32.0496 847.52 Q31.008 851.895 31.008 856.582 Q31.008 863.718 33.1955 867.311 Q35.3829 870.853 39.7579 870.853 Q43.0912 870.853 45.0183 868.301 Q46.8933 865.749 48.612 858.041 L49.3412 854.759 Q51.5287 844.551 55.5391 840.28 Q59.4974 835.957 66.6328 835.957 Q74.7577 835.957 79.4973 842.416 Q84.2369 848.822 84.2369 860.072 Q84.2369 864.759 83.2994 869.863 Q82.4139 874.915 80.591 880.54 L70.6953 880.54 Q73.4557 875.228 74.8619 870.072 Q76.2161 864.916 76.2161 859.863 Q76.2161 853.093 73.9244 849.447 Q71.5807 845.801 67.3619 845.801 Q63.4557 845.801 61.3724 848.457 Q59.2891 851.061 57.362 859.968 L56.5807 863.301 Q54.7058 872.207 50.8516 876.165 Q46.9454 880.124 40.1746 880.124 Q31.9455 880.124 27.4663 874.291 Q22.9872 868.457 22.9872 857.728 Q22.9872 852.416 23.7684 847.728 Q24.5497 843.041 26.1122 839.082 Z\" fill=\"#000000\" fill-rule=\"evenodd\" fill-opacity=\"1\" /><path clip-path=\"url(#clip410)\" d=\"M685.203 17.28 L758.293 17.28 L758.293 27.1179 L727.622 27.1179 L727.622 103.68 L715.874 103.68 L715.874 27.1179 L685.203 27.1179 L685.203 17.28 Z\" fill=\"#000000\" fill-rule=\"evenodd\" fill-opacity=\"1\" /><path clip-path=\"url(#clip410)\" d=\"M789.253 48.8192 Q787.459 47.7775 785.318 47.3146 Q783.235 46.7937 780.688 46.7937 Q771.661 46.7937 766.8 52.6965 Q761.996 58.5414 761.996 69.5367 L761.996 103.68 L751.29 103.68 L751.29 38.8655 L761.996 38.8655 L761.996 48.9349 Q765.353 43.0322 770.735 40.1965 Q776.117 37.303 783.813 37.303 Q784.913 37.303 786.244 37.4767 Q787.575 37.5924 789.195 37.8817 L789.253 48.8192 Z\" fill=\"#000000\" fill-rule=\"evenodd\" fill-opacity=\"1\" /><path clip-path=\"url(#clip410)\" d=\"M829.878 71.0992 Q816.973 71.0992 811.996 74.0505 Q807.019 77.0019 807.019 84.1199 Q807.019 89.7912 810.723 93.1476 Q814.485 96.4462 820.908 96.4462 Q829.762 96.4462 835.086 90.1963 Q840.468 83.8884 840.468 73.4718 L840.468 71.0992 L829.878 71.0992 M851.116 66.701 L851.116 103.68 L840.468 103.68 L840.468 93.8421 Q836.822 99.7448 831.383 102.58 Q825.943 105.358 818.072 105.358 Q808.119 105.358 802.216 99.8027 Q796.371 94.1893 796.371 84.8144 Q796.371 73.8769 803.663 68.3214 Q811.012 62.7659 825.538 62.7659 L840.468 62.7659 L840.468 61.7242 Q840.468 54.3747 835.607 50.3817 Q830.804 46.3308 822.065 46.3308 Q816.51 46.3308 811.244 47.6618 Q805.978 48.9928 801.117 51.6548 L801.117 41.8169 Q806.961 39.56 812.459 38.4604 Q817.957 37.303 823.165 37.303 Q837.227 37.303 844.172 44.5947 Q851.116 51.8863 851.116 66.701 Z\" fill=\"#000000\" fill-rule=\"evenodd\" fill-opacity=\"1\" /><path clip-path=\"url(#clip410)\" d=\"M873.049 38.8655 L883.697 38.8655 L883.697 103.68 L873.049 103.68 L873.049 38.8655 M873.049 13.6342 L883.697 13.6342 L883.697 27.1179 L873.049 27.1179 L873.049 13.6342 Z\" fill=\"#000000\" fill-rule=\"evenodd\" fill-opacity=\"1\" /><path clip-path=\"url(#clip410)\" d=\"M959.854 64.5598 L959.854 103.68 L949.206 103.68 L949.206 64.9071 Q949.206 55.7057 945.618 51.134 Q942.03 46.5623 934.854 46.5623 Q926.232 46.5623 921.255 52.0599 Q916.278 57.5576 916.278 67.0483 L916.278 103.68 L905.572 103.68 L905.572 38.8655 L916.278 38.8655 L916.278 48.9349 Q920.097 43.09 925.248 40.1965 Q930.456 37.303 937.227 37.303 Q948.396 37.303 954.125 44.2474 Q959.854 51.134 959.854 64.5598 Z\" fill=\"#000000\" fill-rule=\"evenodd\" fill-opacity=\"1\" /><path clip-path=\"url(#clip410)\" d=\"M1036.42 57.2103 Q1031.15 61.8978 1028.66 66.5853 Q1026.23 71.2149 1026.23 76.3075 Q1026.23 84.7565 1032.37 90.3699 Q1038.5 95.9833 1047.76 95.9833 Q1053.26 95.9833 1058.06 94.1893 Q1062.86 92.3375 1067.09 88.6338 L1036.42 57.2103 M1044.58 50.7289 L1073.97 80.8213 Q1077.39 75.6709 1079.3 69.826 Q1081.21 63.9233 1081.55 57.3261 L1092.32 57.3261 Q1091.62 64.9649 1088.61 72.4302 Q1085.61 79.8954 1080.22 87.187 L1096.37 103.68 L1081.79 103.68 L1073.51 95.1731 Q1067.49 100.324 1060.9 102.87 Q1054.3 105.358 1046.72 105.358 Q1032.77 105.358 1023.92 97.43 Q1015.06 89.444 1015.06 77.0019 Q1015.06 69.5945 1018.94 63.1131 Q1022.82 56.5738 1030.57 50.8446 Q1027.79 47.1988 1026.35 43.6109 Q1024.9 39.9651 1024.9 36.4929 Q1024.9 27.1179 1031.32 21.4466 Q1037.75 15.7175 1048.4 15.7175 Q1053.2 15.7175 1057.94 16.7592 Q1062.75 17.8008 1067.67 19.8842 L1067.67 30.4165 Q1062.63 27.6966 1058.06 26.3077 Q1053.49 24.861 1049.55 24.861 Q1043.48 24.861 1039.66 28.1017 Q1035.9 31.2846 1035.9 36.3771 Q1035.9 39.3285 1037.57 42.3377 Q1039.31 45.2891 1044.58 50.7289 Z\" fill=\"#000000\" fill-rule=\"evenodd\" fill-opacity=\"1\" /><path clip-path=\"url(#clip410)\" d=\"M1137.34 17.28 L1210.43 17.28 L1210.43 27.1179 L1179.76 27.1179 L1179.76 103.68 L1168.01 103.68 L1168.01 27.1179 L1137.34 27.1179 L1137.34 17.28 Z\" fill=\"#000000\" fill-rule=\"evenodd\" fill-opacity=\"1\" /><path clip-path=\"url(#clip410)\" d=\"M1256.55 68.6107 L1256.55 73.819 L1207.6 73.819 Q1208.29 84.8144 1214.19 90.6014 Q1220.15 96.3305 1230.74 96.3305 Q1236.88 96.3305 1242.61 94.8259 Q1248.39 93.3213 1254.07 90.312 L1254.07 100.381 Q1248.34 102.812 1242.32 104.085 Q1236.3 105.358 1230.11 105.358 Q1214.6 105.358 1205.51 96.3305 Q1196.48 87.3028 1196.48 71.9093 Q1196.48 55.9951 1205.05 46.678 Q1213.67 37.303 1228.26 37.303 Q1241.33 37.303 1248.92 45.7521 Q1256.55 54.1432 1256.55 68.6107 M1245.91 65.4858 Q1245.79 56.7474 1240.99 51.5391 Q1236.24 46.3308 1228.37 46.3308 Q1219.46 46.3308 1214.08 51.3655 Q1208.75 56.4002 1207.94 65.5436 L1245.91 65.4858 Z\" fill=\"#000000\" fill-rule=\"evenodd\" fill-opacity=\"1\" /><path clip-path=\"url(#clip410)\" d=\"M1315.35 40.7752 L1315.35 50.8446 Q1310.84 48.5298 1305.97 47.3724 Q1301.11 46.215 1295.91 46.215 Q1287.98 46.215 1283.98 48.6456 Q1280.05 51.0761 1280.05 55.9372 Q1280.05 59.6409 1282.88 61.7821 Q1285.72 63.8654 1294.29 65.7751 L1297.93 66.5853 Q1309.27 69.0158 1314.02 73.4718 Q1318.82 77.87 1318.82 85.7982 Q1318.82 94.8259 1311.65 100.092 Q1304.53 105.358 1292.03 105.358 Q1286.82 105.358 1281.15 104.317 Q1275.54 103.333 1269.29 101.307 L1269.29 90.312 Q1275.19 93.3791 1280.92 94.9416 Q1286.65 96.4462 1292.26 96.4462 Q1299.78 96.4462 1303.83 93.9 Q1307.88 91.2958 1307.88 86.6083 Q1307.88 82.2681 1304.93 79.9533 Q1302.04 77.6385 1292.14 75.4973 L1288.44 74.6292 Q1278.54 72.5459 1274.15 68.2635 Q1269.75 63.9233 1269.75 56.4002 Q1269.75 47.2567 1276.23 42.2799 Q1282.71 37.303 1294.63 37.303 Q1300.54 37.303 1305.74 38.1711 Q1310.95 39.0391 1315.35 40.7752 Z\" fill=\"#000000\" fill-rule=\"evenodd\" fill-opacity=\"1\" /><path clip-path=\"url(#clip410)\" d=\"M1346.31 20.4629 L1346.31 38.8655 L1368.24 38.8655 L1368.24 47.141 L1346.31 47.141 L1346.31 82.3259 Q1346.31 90.2541 1348.45 92.5111 Q1350.65 94.768 1357.31 94.768 L1368.24 94.768 L1368.24 103.68 L1357.31 103.68 Q1344.98 103.68 1340.29 99.1083 Q1335.6 94.4787 1335.6 82.3259 L1335.6 47.141 L1327.79 47.141 L1327.79 38.8655 L1335.6 38.8655 L1335.6 20.4629 L1346.31 20.4629 Z\" fill=\"#000000\" fill-rule=\"evenodd\" fill-opacity=\"1\" /><path clip-path=\"url(#clip410)\" d=\"M1420.38 17.28 L1432.07 17.28 L1432.07 93.8421 L1474.15 93.8421 L1474.15 103.68 L1420.38 103.68 L1420.38 17.28 Z\" fill=\"#000000\" fill-rule=\"evenodd\" fill-opacity=\"1\" /><path clip-path=\"url(#clip410)\" d=\"M1508.98 46.3308 Q1500.42 46.3308 1495.44 53.0437 Q1490.46 59.6988 1490.46 71.3306 Q1490.46 82.9625 1495.38 89.6754 Q1500.36 96.3305 1508.98 96.3305 Q1517.49 96.3305 1522.47 89.6176 Q1527.44 82.9046 1527.44 71.3306 Q1527.44 59.8145 1522.47 53.1016 Q1517.49 46.3308 1508.98 46.3308 M1508.98 37.303 Q1522.87 37.303 1530.8 46.3308 Q1538.73 55.3585 1538.73 71.3306 Q1538.73 87.2449 1530.8 96.3305 Q1522.87 105.358 1508.98 105.358 Q1495.04 105.358 1487.11 96.3305 Q1479.24 87.2449 1479.24 71.3306 Q1479.24 55.3585 1487.11 46.3308 Q1495.04 37.303 1508.98 37.303 Z\" fill=\"#000000\" fill-rule=\"evenodd\" fill-opacity=\"1\" /><path clip-path=\"url(#clip410)\" d=\"M1597.7 40.7752 L1597.7 50.8446 Q1593.18 48.5298 1588.32 47.3724 Q1583.46 46.215 1578.25 46.215 Q1570.33 46.215 1566.33 48.6456 Q1562.4 51.0761 1562.4 55.9372 Q1562.4 59.6409 1565.23 61.7821 Q1568.07 63.8654 1576.63 65.7751 L1580.28 66.5853 Q1591.62 69.0158 1596.37 73.4718 Q1601.17 77.87 1601.17 85.7982 Q1601.17 94.8259 1593.99 100.092 Q1586.88 105.358 1574.38 105.358 Q1569.17 105.358 1563.5 104.317 Q1557.88 103.333 1551.63 101.307 L1551.63 90.312 Q1557.54 93.3791 1563.27 94.9416 Q1568.99 96.4462 1574.61 96.4462 Q1582.13 96.4462 1586.18 93.9 Q1590.23 91.2958 1590.23 86.6083 Q1590.23 82.2681 1587.28 79.9533 Q1584.39 77.6385 1574.49 75.4973 L1570.79 74.6292 Q1560.89 72.5459 1556.49 68.2635 Q1552.1 63.9233 1552.1 56.4002 Q1552.1 47.2567 1558.58 42.2799 Q1565.06 37.303 1576.98 37.303 Q1582.88 37.303 1588.09 38.1711 Q1593.3 39.0391 1597.7 40.7752 Z\" fill=\"#000000\" fill-rule=\"evenodd\" fill-opacity=\"1\" /><path clip-path=\"url(#clip410)\" d=\"M1659.45 40.7752 L1659.45 50.8446 Q1654.93 48.5298 1650.07 47.3724 Q1645.21 46.215 1640 46.215 Q1632.07 46.215 1628.08 48.6456 Q1624.14 51.0761 1624.14 55.9372 Q1624.14 59.6409 1626.98 61.7821 Q1629.82 63.8654 1638.38 65.7751 L1642.03 66.5853 Q1653.37 69.0158 1658.11 73.4718 Q1662.92 77.87 1662.92 85.7982 Q1662.92 94.8259 1655.74 100.092 Q1648.62 105.358 1636.12 105.358 Q1630.92 105.358 1625.24 104.317 Q1619.63 103.333 1613.38 101.307 L1613.38 90.312 Q1619.28 93.3791 1625.01 94.9416 Q1630.74 96.4462 1636.36 96.4462 Q1643.88 96.4462 1647.93 93.9 Q1651.98 91.2958 1651.98 86.6083 Q1651.98 82.2681 1649.03 79.9533 Q1646.14 77.6385 1636.24 75.4973 L1632.54 74.6292 Q1622.64 72.5459 1618.24 68.2635 Q1613.84 63.9233 1613.84 56.4002 Q1613.84 47.2567 1620.33 42.2799 Q1626.81 37.303 1638.73 37.303 Q1644.63 37.303 1649.84 38.1711 Q1655.05 39.0391 1659.45 40.7752 Z\" fill=\"#000000\" fill-rule=\"evenodd\" fill-opacity=\"1\" /><path clip-path=\"url(#clip410)\" d=\"M1711.35 38.8655 L1722 38.8655 L1735.31 89.444 L1748.57 38.8655 L1761.12 38.8655 L1774.43 89.444 L1787.69 38.8655 L1798.33 38.8655 L1781.38 103.68 L1768.82 103.68 L1754.87 50.5553 L1740.87 103.68 L1728.31 103.68 L1711.35 38.8655 Z\" fill=\"#000000\" fill-rule=\"evenodd\" fill-opacity=\"1\" /><path clip-path=\"url(#clip410)\" d=\"M1805.1 88.981 L1817.31 88.981 L1817.31 103.68 L1805.1 103.68 L1805.1 88.981 Z\" fill=\"#000000\" fill-rule=\"evenodd\" fill-opacity=\"1\" /><path clip-path=\"url(#clip410)\" d=\"M1878.83 48.8192 Q1877.04 47.7775 1874.9 47.3146 Q1872.81 46.7937 1870.27 46.7937 Q1861.24 46.7937 1856.38 52.6965 Q1851.57 58.5414 1851.57 69.5367 L1851.57 103.68 L1840.87 103.68 L1840.87 38.8655 L1851.57 38.8655 L1851.57 48.9349 Q1854.93 43.0322 1860.31 40.1965 Q1865.69 37.303 1873.39 37.303 Q1874.49 37.303 1875.82 37.4767 Q1877.15 37.5924 1878.77 37.8817 L1878.83 48.8192 Z\" fill=\"#000000\" fill-rule=\"evenodd\" fill-opacity=\"1\" /><path clip-path=\"url(#clip410)\" d=\"M1880.62 88.981 L1892.84 88.981 L1892.84 103.68 L1880.62 103.68 L1880.62 88.981 Z\" fill=\"#000000\" fill-rule=\"evenodd\" fill-opacity=\"1\" /><path clip-path=\"url(#clip410)\" d=\"M1927.33 20.4629 L1927.33 38.8655 L1949.26 38.8655 L1949.26 47.141 L1927.33 47.141 L1927.33 82.3259 Q1927.33 90.2541 1929.47 92.5111 Q1931.67 94.768 1938.32 94.768 L1949.26 94.768 L1949.26 103.68 L1938.32 103.68 Q1925.99 103.68 1921.31 99.1083 Q1916.62 94.4787 1916.62 82.3259 L1916.62 47.141 L1908.81 47.141 L1908.81 38.8655 L1916.62 38.8655 L1916.62 20.4629 L1927.33 20.4629 Z\" fill=\"#000000\" fill-rule=\"evenodd\" fill-opacity=\"1\" /><path clip-path=\"url(#clip410)\" d=\"M1964.77 88.981 L1976.98 88.981 L1976.98 103.68 L1964.77 103.68 L1964.77 88.981 Z\" fill=\"#000000\" fill-rule=\"evenodd\" fill-opacity=\"1\" /><path clip-path=\"url(#clip410)\" d=\"M2039.07 17.28 L2093.7 17.28 L2093.7 27.1179 L2050.76 27.1179 L2050.76 52.6965 L2091.91 52.6965 L2091.91 62.5344 L2050.76 62.5344 L2050.76 93.8421 L2094.74 93.8421 L2094.74 103.68 L2039.07 103.68 L2039.07 17.28 Z\" fill=\"#000000\" fill-rule=\"evenodd\" fill-opacity=\"1\" /><path clip-path=\"url(#clip410)\" d=\"M2123.79 93.9578 L2123.79 128.333 L2113.09 128.333 L2113.09 38.8655 L2123.79 38.8655 L2123.79 48.7034 Q2127.15 42.9164 2132.24 40.1387 Q2137.39 37.303 2144.51 37.303 Q2156.32 37.303 2163.67 46.678 Q2171.07 56.0529 2171.07 71.3306 Q2171.07 86.6083 2163.67 95.9833 Q2156.32 105.358 2144.51 105.358 Q2137.39 105.358 2132.24 102.58 Q2127.15 99.7448 2123.79 93.9578 M2160.02 71.3306 Q2160.02 59.583 2155.16 52.928 Q2150.36 46.215 2141.91 46.215 Q2133.46 46.215 2128.6 52.928 Q2123.79 59.583 2123.79 71.3306 Q2123.79 83.0783 2128.6 89.7912 Q2133.46 96.4462 2141.91 96.4462 Q2150.36 96.4462 2155.16 89.7912 Q2160.02 83.0783 2160.02 71.3306 Z\" fill=\"#000000\" fill-rule=\"evenodd\" fill-opacity=\"1\" /><path clip-path=\"url(#clip410)\" d=\"M2213.84 46.3308 Q2205.28 46.3308 2200.3 53.0437 Q2195.32 59.6988 2195.32 71.3306 Q2195.32 82.9625 2200.24 89.6754 Q2205.22 96.3305 2213.84 96.3305 Q2222.35 96.3305 2227.32 89.6176 Q2232.3 82.9046 2232.3 71.3306 Q2232.3 59.8145 2227.32 53.1016 Q2222.35 46.3308 2213.84 46.3308 M2213.84 37.303 Q2227.73 37.303 2235.66 46.3308 Q2243.59 55.3585 2243.59 71.3306 Q2243.59 87.2449 2235.66 96.3305 Q2227.73 105.358 2213.84 105.358 Q2199.89 105.358 2191.97 96.3305 Q2184.1 87.2449 2184.1 71.3306 Q2184.1 55.3585 2191.97 46.3308 Q2199.89 37.303 2213.84 37.303 Z\" fill=\"#000000\" fill-rule=\"evenodd\" fill-opacity=\"1\" /><path clip-path=\"url(#clip410)\" d=\"M2307.88 41.3539 L2307.88 51.3076 Q2303.37 48.8192 2298.79 47.6039 Q2294.28 46.3308 2289.65 46.3308 Q2279.29 46.3308 2273.56 52.928 Q2267.83 59.4673 2267.83 71.3306 Q2267.83 83.194 2273.56 89.7912 Q2279.29 96.3305 2289.65 96.3305 Q2294.28 96.3305 2298.79 95.1152 Q2303.37 93.8421 2307.88 91.3537 L2307.88 101.192 Q2303.42 103.275 2298.62 104.317 Q2293.87 105.358 2288.49 105.358 Q2273.85 105.358 2265.23 96.1569 Q2256.61 86.9556 2256.61 71.3306 Q2256.61 55.4742 2265.29 46.3886 Q2274.03 37.303 2289.19 37.303 Q2294.11 37.303 2298.79 38.3447 Q2303.48 39.3285 2307.88 41.3539 Z\" fill=\"#000000\" fill-rule=\"evenodd\" fill-opacity=\"1\" /><path clip-path=\"url(#clip410)\" d=\"M2380.27 64.5598 L2380.27 103.68 L2369.63 103.68 L2369.63 64.9071 Q2369.63 55.7057 2366.04 51.134 Q2362.45 46.5623 2355.27 46.5623 Q2346.65 46.5623 2341.68 52.0599 Q2336.7 57.5576 2336.7 67.0483 L2336.7 103.68 L2325.99 103.68 L2325.99 13.6342 L2336.7 13.6342 L2336.7 48.9349 Q2340.52 43.09 2345.67 40.1965 Q2350.88 37.303 2357.65 37.303 Q2368.82 37.303 2374.55 44.2474 Q2380.27 51.134 2380.27 64.5598 Z\" fill=\"#000000\" fill-rule=\"evenodd\" fill-opacity=\"1\" /><path clip-path=\"url(#clip410)\" d=\"M2442.83 40.7752 L2442.83 50.8446 Q2438.32 48.5298 2433.46 47.3724 Q2428.6 46.215 2423.39 46.215 Q2415.46 46.215 2411.47 48.6456 Q2407.53 51.0761 2407.53 55.9372 Q2407.53 59.6409 2410.37 61.7821 Q2413.2 63.8654 2421.77 65.7751 L2425.41 66.5853 Q2436.76 69.0158 2441.5 73.4718 Q2446.3 77.87 2446.3 85.7982 Q2446.3 94.8259 2439.13 100.092 Q2432.01 105.358 2419.51 105.358 Q2414.3 105.358 2408.63 104.317 Q2403.02 103.333 2396.77 101.307 L2396.77 90.312 Q2402.67 93.3791 2408.4 94.9416 Q2414.13 96.4462 2419.74 96.4462 Q2427.27 96.4462 2431.32 93.9 Q2435.37 91.2958 2435.37 86.6083 Q2435.37 82.2681 2432.42 79.9533 Q2429.52 77.6385 2419.63 75.4973 L2415.92 74.6292 Q2406.03 72.5459 2401.63 68.2635 Q2397.23 63.9233 2397.23 56.4002 Q2397.23 47.2567 2403.71 42.2799 Q2410.19 37.303 2422.11 37.303 Q2428.02 37.303 2433.23 38.1711 Q2438.43 39.0391 2442.83 40.7752 Z\" fill=\"#000000\" fill-rule=\"evenodd\" fill-opacity=\"1\" /><polyline clip-path=\"url(#clip412)\" style=\"stroke:#009af9; stroke-linecap:butt; stroke-linejoin:round; stroke-width:4; stroke-opacity:1; fill:none\" points=\"\n",
       "  445.94,238.929 448.182,700.463 450.424,919.438 452.666,1059.12 454.908,1158.12 457.15,1233.16 459.391,1252.03 461.633,1291.22 463.875,1326.13 466.117,1355.52 \n",
       "  468.359,1360.8 470.601,1386.84 472.843,1389.99 475.084,1415.96 477.326,1435.15 479.568,1437.17 481.81,1456.69 484.052,1460.7 486.294,1475.8 488.536,1490.08 \n",
       "  490.778,1500.63 493.019,1502.71 495.261,1514.93 497.503,1510.01 499.745,1526.33 501.987,1522.03 504.229,1521.42 506.471,1531.94 508.712,1516.44 510.954,1533.47 \n",
       "  513.196,1539.68 515.438,1544.62 517.68,1535.75 519.922,1548.27 522.164,1545.97 524.406,1554.64 526.647,1549.78 528.889,1556.69 531.131,1560.6 533.373,1561.72 \n",
       "  535.615,1560.56 537.857,1557.24 540.099,1557.69 542.341,1568.66 544.582,1567.11 546.824,1570.77 549.066,1568.64 551.308,1572.68 553.55,1568.59 555.792,1575.42 \n",
       "  558.034,1603.98 560.275,1607.48 562.517,1608.81 564.759,1610.17 567.001,1610.17 569.243,1612.91 571.485,1612.8 573.727,1614.37 575.969,1614.79 578.21,1615.43 \n",
       "  580.452,1615.55 582.694,1616.2 584.936,1617.29 587.178,1617.58 589.42,1618.18 591.662,1618.96 593.903,1619 596.145,1619.94 598.387,1621.42 600.629,1622.14 \n",
       "  602.871,1620.31 605.113,1622.56 607.355,1623.87 609.597,1623.66 611.838,1624.01 614.08,1625.37 616.322,1624.45 618.564,1626.11 620.806,1624.13 623.048,1624.73 \n",
       "  625.29,1624.63 627.532,1626.34 629.773,1626.47 632.015,1628.16 634.257,1627.31 636.499,1627.45 638.741,1627.68 640.983,1629.79 643.225,1628.66 645.466,1629.31 \n",
       "  647.708,1630.39 649.95,1629.61 652.192,1627.72 654.434,1631.02 656.676,1632.2 658.918,1631.18 661.16,1632.25 663.401,1632.12 665.643,1632.85 667.885,1632.03 \n",
       "  670.127,1632.15 672.369,1631.76 674.611,1633.99 676.853,1634.5 679.095,1634.07 681.336,1635.7 683.578,1634.14 685.82,1633.97 688.062,1634.78 690.304,1634.93 \n",
       "  692.546,1634.42 694.788,1636.32 697.029,1636.33 699.271,1636.62 701.513,1636.27 703.755,1636.61 705.997,1637.15 708.239,1636.96 710.481,1637.26 712.723,1637.57 \n",
       "  714.964,1637.2 717.206,1636.94 719.448,1638.09 721.69,1638.41 723.932,1639.88 726.174,1639.27 728.416,1638.05 730.657,1638.64 732.899,1639.09 735.141,1639.73 \n",
       "  737.383,1638.88 739.625,1638.76 741.867,1640.3 744.109,1640.08 746.351,1640.68 748.592,1641.2 750.834,1640.43 753.076,1640.86 755.318,1640.15 757.56,1641.33 \n",
       "  759.802,1641.43 762.044,1638.97 764.286,1641.14 766.527,1642.86 768.769,1642.15 771.011,1642.08 773.253,1642.73 775.495,1642.11 777.737,1642.28 779.979,1642.46 \n",
       "  782.22,1642.7 784.462,1643.61 786.704,1643.46 788.946,1644.55 791.188,1643.02 793.43,1644.04 795.672,1644.2 797.914,1644.34 800.155,1644.29 802.397,1644.89 \n",
       "  804.639,1645.06 806.881,1644.67 809.123,1645.24 811.365,1645.3 813.607,1644.65 815.849,1646.53 818.09,1645.83 820.332,1646.54 822.574,1645.29 824.816,1646.79 \n",
       "  827.058,1646.11 829.3,1646.24 831.542,1647.04 833.783,1645.51 836.025,1647.34 838.267,1646.58 840.509,1647.48 842.751,1646.43 844.993,1646.89 847.235,1647.58 \n",
       "  849.477,1646.72 851.718,1647.68 853.96,1648.49 856.202,1648.25 858.444,1648.53 860.686,1648.93 862.928,1647.44 865.17,1648.8 867.411,1648.52 869.653,1648.3 \n",
       "  871.895,1649.04 874.137,1650.29 876.379,1649.37 878.621,1649.79 880.863,1650.04 883.105,1649.41 885.346,1649.54 887.588,1650.51 889.83,1649.74 892.072,1650.15 \n",
       "  894.314,1651.7 896.556,1650.73 898.798,1650.37 901.04,1651.01 903.281,1650.01 905.523,1651.3 907.765,1649.65 910.007,1649.7 912.249,1650.68 914.491,1652.17 \n",
       "  916.733,1651.75 918.974,1651.91 921.216,1651.9 923.458,1651.4 925.7,1651.6 927.942,1651.69 930.184,1651.79 932.426,1652.94 934.668,1652.37 936.909,1651.57 \n",
       "  939.151,1653.53 941.393,1652.33 943.635,1652.2 945.877,1653.57 948.119,1652.86 950.361,1653.53 952.603,1654.2 954.844,1653.69 957.086,1653.77 959.328,1654.27 \n",
       "  961.57,1652.07 963.812,1653.6 966.054,1654.43 968.296,1653.95 970.537,1654.68 972.779,1655.03 975.021,1654.79 977.263,1652.91 979.505,1654.54 981.747,1654.46 \n",
       "  983.989,1654.63 986.231,1654.75 988.472,1654.6 990.714,1654.19 992.956,1655.27 995.198,1655.12 997.44,1654.54 999.682,1655.27 1001.92,1655.31 1004.17,1655.49 \n",
       "  1006.41,1655.58 1008.65,1657.49 1010.89,1655.56 1013.13,1656.45 1015.37,1656.52 1017.62,1655.33 1019.86,1656.97 1022.1,1656.94 1024.34,1657.48 1026.58,1657.58 \n",
       "  1028.83,1658.33 1031.07,1656.23 1033.31,1657.74 1035.55,1656.83 1037.79,1656.94 1040.04,1656.67 1042.28,1658.43 1044.52,1655.35 1046.76,1657.52 1049,1656.38 \n",
       "  1051.24,1656.98 1053.49,1657.48 1055.73,1657.6 1057.97,1657.03 1060.21,1657.57 1062.45,1658.31 1064.7,1657.58 1066.94,1658.75 1069.18,1659.27 1071.42,1658.76 \n",
       "  1073.66,1658.85 1075.91,1658 1078.15,1658 1080.39,1658.76 1082.63,1658.6 1084.87,1660.04 1087.11,1658.47 1089.36,1658.76 1091.6,1659 1093.84,1659.09 \n",
       "  1096.08,1657.86 1098.32,1658.77 1100.57,1659.56 1102.81,1660.01 1105.05,1659.2 1107.29,1658.98 1109.53,1658.1 1111.78,1659.88 1114.02,1659.71 1116.26,1659.96 \n",
       "  1118.5,1659.41 1120.74,1661.74 1122.98,1659.94 1125.23,1659.38 1127.47,1660.79 1129.71,1661.58 1131.95,1659.4 1134.19,1660.03 1136.44,1661.91 1138.68,1660.31 \n",
       "  1140.92,1660.46 1143.16,1661.45 1145.4,1660.62 1147.65,1661.94 1149.89,1660.3 1152.13,1659.62 1154.37,1662 1156.61,1660.89 1158.85,1661.72 1161.1,1662.13 \n",
       "  1163.34,1661.61 1165.58,1662.27 1167.82,1659.74 1170.06,1661.2 1172.31,1661.24 1174.55,1662.36 1176.79,1662.84 1179.03,1662.39 1181.27,1662.77 1183.51,1661.91 \n",
       "  1185.76,1660.73 1188,1662.62 1190.24,1661.16 1192.48,1661.38 1194.72,1662.27 1196.97,1662.68 1199.21,1661.66 1201.45,1663.79 1203.69,1663.53 1205.93,1663.06 \n",
       "  1208.18,1661.61 1210.42,1663.19 1212.66,1663.79 1214.9,1663.15 1217.14,1662.13 1219.38,1664.91 1221.63,1664.79 1223.87,1663 1226.11,1663.64 1228.35,1661.7 \n",
       "  1230.59,1663.93 1232.84,1662.97 1235.08,1664.56 1237.32,1660.4 1239.56,1662.96 1241.8,1662.95 1244.05,1663.78 1246.29,1664.17 1248.53,1664.84 1250.77,1663.22 \n",
       "  1253.01,1663.81 1255.25,1664.82 1257.5,1664.24 1259.74,1663.99 1261.98,1664.96 1264.22,1663.28 1266.46,1663.27 1268.71,1662.63 1270.95,1663.73 1273.19,1664.45 \n",
       "  1275.43,1664.79 1277.67,1665.7 1279.92,1662.14 1282.16,1665.06 1284.4,1663.9 1286.64,1665.99 1288.88,1664.28 1291.12,1664.29 1293.37,1664.98 1295.61,1664.94 \n",
       "  1297.85,1666.23 1300.09,1666.22 1302.33,1659.98 1304.58,1665.61 1306.82,1664.53 1309.06,1666.39 1311.3,1665.71 1313.54,1665.36 1315.79,1666.16 1318.03,1664.96 \n",
       "  1320.27,1666.8 1322.51,1665.54 1324.75,1664.7 1326.99,1666.14 1329.24,1665.92 1331.48,1665.67 1333.72,1665.2 1335.96,1665.63 1338.2,1666.42 1340.45,1666.5 \n",
       "  1342.69,1666.06 1344.93,1664.6 1347.17,1666.27 1349.41,1666.32 1351.66,1664.93 1353.9,1666.13 1356.14,1667.25 1358.38,1664.9 1360.62,1666.81 1362.86,1667.27 \n",
       "  1365.11,1660.61 1367.35,1666.05 1369.59,1667.09 1371.83,1666.57 1374.07,1666.71 1376.32,1667.77 1378.56,1668.5 1380.8,1667.77 1383.04,1667.17 1385.28,1666.47 \n",
       "  1387.53,1667.6 1389.77,1667.04 1392.01,1667.36 1394.25,1665.82 1396.49,1666.67 1398.73,1666.59 1400.98,1668.25 1403.22,1667.98 1405.46,1669.12 1407.7,1667.82 \n",
       "  1409.94,1668.06 1412.19,1667.58 1414.43,1668.16 1416.67,1666.58 1418.91,1669.39 1421.15,1667.74 1423.39,1669.44 1425.64,1668.78 1427.88,1667.72 1430.12,1668.65 \n",
       "  1432.36,1668.53 1434.6,1668.93 1436.85,1668.75 1439.09,1668.82 1441.33,1669.06 1443.57,1669.66 1445.81,1670.18 1448.06,1669.07 1450.3,1667.59 1452.54,1667.06 \n",
       "  1454.78,1668.3 1457.02,1668.34 1459.26,1669.3 1461.51,1666.92 1463.75,1669.01 1465.99,1669.53 1468.23,1669.78 1470.47,1670.62 1472.72,1669.6 1474.96,1670.05 \n",
       "  1477.2,1669.34 1479.44,1669.78 1481.68,1668.01 1483.93,1670.21 1486.17,1670.82 1488.41,1668.94 1490.65,1669.36 1492.89,1669.27 1495.13,1666.75 1497.38,1670.85 \n",
       "  1499.62,1668.96 1501.86,1669.5 1504.1,1671.19 1506.34,1669.92 1508.59,1671.15 1510.83,1670.75 1513.07,1668.56 1515.31,1670.3 1517.55,1670.95 1519.8,1669.94 \n",
       "  1522.04,1670.93 1524.28,1672.06 1526.52,1671.11 1528.76,1671.54 1531,1670.68 1533.25,1670.72 1535.49,1672.19 1537.73,1669.66 1539.97,1671.56 1542.21,1669.3 \n",
       "  1544.46,1671.72 1546.7,1669.84 1548.94,1670.96 1551.18,1671.88 1553.42,1670.34 1555.67,1672.2 1557.91,1672.13 1560.15,1671.6 1562.39,1671.82 1564.63,1670.41 \n",
       "  1566.87,1671.5 1569.12,1670.03 1571.36,1671.84 1573.6,1669.92 1575.84,1670.15 1578.08,1670.76 1580.33,1671.97 1582.57,1672.59 1584.81,1671.65 1587.05,1670.75 \n",
       "  1589.29,1672.77 1591.54,1671.7 1593.78,1672.04 1596.02,1670.89 1598.26,1673.39 1600.5,1673.45 1602.74,1671.72 1604.99,1671.38 1607.23,1671.7 1609.47,1667.87 \n",
       "  1611.71,1672.45 1613.95,1671.41 1616.2,1670.99 1618.44,1672.36 1620.68,1671.99 1622.92,1673.49 1625.16,1672.22 1627.41,1674.44 1629.65,1672.36 1631.89,1672.65 \n",
       "  1634.13,1673.47 1636.37,1671.56 1638.61,1672.48 1640.86,1673.75 1643.1,1673.14 1645.34,1672.37 1647.58,1673.05 1649.82,1672.24 1652.07,1673.59 1654.31,1673.67 \n",
       "  1656.55,1671.11 1658.79,1671.44 1661.03,1672.33 1663.27,1673.84 1665.52,1672.45 1667.76,1673.4 1670,1672.24 1672.24,1674.23 1674.48,1674.05 1676.73,1671.84 \n",
       "  1678.97,1674.32 1681.21,1674.47 1683.45,1672.37 1685.69,1673.1 1687.94,1673.39 1690.18,1674.05 1692.42,1673.72 1694.66,1673.24 1696.9,1673.56 1699.14,1673.54 \n",
       "  1701.39,1673.83 1703.63,1674.26 1705.87,1671.86 1708.11,1671.6 1710.35,1673.82 1712.6,1674.28 1714.84,1672.48 1717.08,1674.48 1719.32,1674.33 1721.56,1673.39 \n",
       "  1723.81,1673.86 1726.05,1676.06 1728.29,1674.49 1730.53,1674.92 1732.77,1675.01 1735.01,1674.76 1737.26,1674.34 1739.5,1674.4 1741.74,1674.83 1743.98,1673.66 \n",
       "  1746.22,1675.53 1748.47,1675.03 1750.71,1675.99 1752.95,1675.49 1755.19,1675.41 1757.43,1675.72 1759.68,1675.38 1761.92,1675.8 1764.16,1674.29 1766.4,1674.69 \n",
       "  1768.64,1676.1 1770.88,1675.76 1773.13,1675.02 1775.37,1673.77 1777.61,1675.31 1779.85,1675.07 1782.09,1676.16 1784.34,1674.16 1786.58,1674.79 1788.82,1675.21 \n",
       "  1791.06,1675.72 1793.3,1673.95 1795.55,1674.33 1797.79,1675.08 1800.03,1674.2 1802.27,1675.13 1804.51,1676.87 1806.75,1675.5 1809,1677.34 1811.24,1674.68 \n",
       "  1813.48,1674.96 1815.72,1674.01 1817.96,1676.16 1820.21,1675.55 1822.45,1676.07 1824.69,1675.55 1826.93,1676 1829.17,1675.71 1831.42,1676.41 1833.66,1676.11 \n",
       "  1835.9,1675.62 1838.14,1676.7 1840.38,1674.6 1842.62,1675.95 1844.87,1677.57 1847.11,1676.32 1849.35,1675.43 1851.59,1677.28 1853.83,1673.48 1856.08,1676.95 \n",
       "  1858.32,1677.23 1860.56,1675.59 1862.8,1676.49 1865.04,1676.04 1867.28,1676.48 1869.53,1676.77 1871.77,1677.97 1874.01,1677.34 1876.25,1677.04 1878.49,1675.94 \n",
       "  1880.74,1676.6 1882.98,1676.8 1885.22,1677.55 1887.46,1676.5 1889.7,1676.62 1891.95,1676.43 1894.19,1677.52 1896.43,1677.92 1898.67,1678.49 1900.91,1676.84 \n",
       "  1903.15,1676.69 1905.4,1676.78 1907.64,1676.95 1909.88,1677.75 1912.12,1677.95 1914.36,1678.55 1916.61,1675.83 1918.85,1677.88 1921.09,1678.87 1923.33,1677.35 \n",
       "  1925.57,1677.84 1927.82,1675.09 1930.06,1677.69 1932.3,1676.6 1934.54,1676.91 1936.78,1678.49 1939.02,1676.32 1941.27,1676.57 1943.51,1676.96 1945.75,1676.11 \n",
       "  1947.99,1675.57 1950.23,1677.71 1952.48,1678.02 1954.72,1680.04 1956.96,1679.67 1959.2,1676.88 1961.44,1678.81 1963.69,1676.81 1965.93,1678.37 1968.17,1678.87 \n",
       "  1970.41,1677.93 1972.65,1677.92 1974.89,1677.47 1977.14,1678.11 1979.38,1675.39 1981.62,1679.19 1983.86,1678.9 1986.1,1677.71 1988.35,1678.09 1990.59,1678.28 \n",
       "  1992.83,1677.59 1995.07,1678.39 1997.31,1678.8 1999.56,1678.9 2001.8,1678.77 2004.04,1678.15 2006.28,1679.59 2008.52,1678.54 2010.76,1677.8 2013.01,1679.61 \n",
       "  2015.25,1677.82 2017.49,1678.9 2019.73,1677.66 2021.97,1674.94 2024.22,1678.32 2026.46,1678.66 2028.7,1678.38 2030.94,1679.64 2033.18,1678.93 2035.43,1677.56 \n",
       "  2037.67,1678.66 2039.91,1678.31 2042.15,1677.75 2044.39,1680.12 2046.63,1679.46 2048.88,1679.57 2051.12,1678.96 2053.36,1678.98 2055.6,1678.02 2057.84,1678.94 \n",
       "  2060.09,1679.31 2062.33,1679.54 2064.57,1679.98 2066.81,1679.73 2069.05,1675.34 2071.3,1676.45 2073.54,1680.19 2075.78,1680.63 2078.02,1679.13 2080.26,1680.43 \n",
       "  2082.5,1678.57 2084.75,1680.22 2086.99,1679.64 2089.23,1678.98 2091.47,1678.84 2093.71,1680.23 2095.96,1681.01 2098.2,1679.24 2100.44,1679.39 2102.68,1678.32 \n",
       "  2104.92,1680.36 2107.16,1681.11 2109.41,1678.88 2111.65,1679.84 2113.89,1680.85 2116.13,1681.3 2118.37,1680.91 2120.62,1680.3 2122.86,1681.09 2125.1,1680.7 \n",
       "  2127.34,1681.02 2129.58,1679.17 2131.83,1680.27 2134.07,1680.85 2136.31,1679.71 2138.55,1679.2 2140.79,1678.48 2143.03,1679.71 2145.28,1681.18 2147.52,1681.02 \n",
       "  2149.76,1681.3 2152,1679.56 2154.24,1681.41 2156.49,1679.53 2158.73,1680.62 2160.97,1680.65 2163.21,1681.09 2165.45,1681.1 2167.7,1680.78 2169.94,1681.82 \n",
       "  2172.18,1680.32 2174.42,1682.03 2176.66,1680.62 2178.9,1682.63 2181.15,1682.44 2183.39,1682.4 2185.63,1681.12 2187.87,1682.31 2190.11,1681.21 2192.36,1681.28 \n",
       "  2194.6,1681.59 2196.84,1681.67 2199.08,1682.8 2201.32,1682.18 2203.57,1682.26 2205.81,1682.56 2208.05,1683.82 2210.29,1680.99 2212.53,1682.12 2214.77,1682.65 \n",
       "  2217.02,1680.81 2219.26,1682.78 2221.5,1682.35 2223.74,1682.66 2225.98,1682.6 2228.23,1683.1 2230.47,1683.17 2232.71,1682.9 2234.95,1683.23 2237.19,1681.43 \n",
       "  2239.44,1681.94 2241.68,1683.86 2243.92,1683.62 2246.16,1682.68 2248.4,1684.01 2250.64,1684.78 2252.89,1680.65 2255.13,1682.75 2257.37,1682.49 2259.61,1681.83 \n",
       "  2261.85,1682.97 2264.1,1683.34 2266.34,1684.29 2268.58,1684.85 2270.82,1683.74 2273.06,1684.19 2275.31,1683.29 2277.55,1684.82 2279.79,1684.15 2282.03,1683.45 \n",
       "  2284.27,1683.54 2286.51,1682.88 2288.76,1683.24 2291,1683.97 2293.24,1684.29 2295.48,1684.8 2297.72,1684.17 2299.97,1683.47 2302.21,1684.59 2304.45,1682.5 \n",
       "  2306.69,1685.42 2308.93,1684.3 2311.18,1684.42 2313.42,1684.43 2315.66,1684.57 2317.9,1683.16 2320.14,1685.74 2322.38,1685.38 2324.63,1684.87 2326.87,1685.56 \n",
       "  2329.11,1684.19 2331.35,1684.24 2333.59,1685.43 2335.84,1685.74 2338.08,1684.6 2340.32,1683.86 2342.56,1685.15 2344.8,1684.43 2347.04,1683.38 2349.29,1685.01 \n",
       "  2351.53,1683.29 2353.77,1685.92 2356.01,1686.03 2358.25,1684.96 2360.5,1686.4 2362.74,1686.13 2364.98,1685.05 2367.22,1684.44 2369.46,1685.23 2371.71,1684.92 \n",
       "  2373.95,1686.75 2376.19,1686.03 2378.43,1686.66 2380.67,1686.18 2382.91,1687.37 2385.16,1685.42 2387.4,1684.86 2389.64,1686.32 2391.88,1686.55 2394.12,1684.45 \n",
       "  2396.37,1685.89 2398.61,1685.69 2400.85,1684.94 2403.09,1685.91 2405.33,1688.34 2407.58,1687.32 2409.82,1684.93 2412.06,1685.8 2414.3,1687.07 2416.54,1686.86 \n",
       "  2418.78,1684.91 2421.03,1686.2 2423.27,1687.34 2425.51,1685.38 2427.75,1685.38 2429.99,1686.86 2432.24,1687.27 2434.48,1686.54 2436.72,1686.5 2438.96,1687.68 \n",
       "  2441.2,1687.01 2443.45,1687.07 2445.69,1686.37 2447.93,1687.16 2450.17,1687.25 2452.41,1685.57 2454.65,1685.99 2456.9,1687.94 2459.14,1686.67 2461.38,1689.25 \n",
       "  2463.62,1688.19 2465.86,1686.45 2468.11,1686.46 2470.35,1687.79 2472.59,1686.53 2474.83,1686.56 2477.07,1687.44 2479.32,1684.17 2481.56,1687.65 2483.8,1687.5 \n",
       "  2486.04,1686.98 2488.28,1685.91 2490.52,1688.29 2492.77,1685.83 2495.01,1686.09 2497.25,1686.01 2499.49,1685.58 2501.73,1687.6 2503.98,1687.86 2506.22,1687.05 \n",
       "  2508.46,1685.88 2510.7,1687.68 2512.94,1687.01 2515.19,1686.74 2517.43,1687.92 2519.67,1688.58 2521.91,1686.38 2524.15,1688.89 2526.39,1687.19 2528.64,1686.89 \n",
       "  2530.88,1689.08 2533.12,1686.53 2535.36,1688.24 2537.6,1687.86 2539.85,1688.24 2542.09,1688.24 2544.33,1687.35 2546.57,1688.17 2548.81,1689.18 2551.05,1685.91 \n",
       "  2553.3,1687.61 2555.54,1686.31 2557.78,1686.85 2560.02,1687.87 2562.26,1689.94 2564.51,1687.47 2566.75,1686.16 2568.99,1688.05 2571.23,1688.85 2573.47,1688.27 \n",
       "  2575.72,1686.5 2577.96,1686.83 2580.2,1688.77 2582.44,1687.47 2584.68,1688.73 2586.92,1688.44 2589.17,1688.26 2591.41,1688.49 2593.65,1687.01 2595.89,1688.35 \n",
       "  2598.13,1689.12 2600.38,1688.2 2602.62,1688.58 2604.86,1687.07 2607.1,1688.83 2609.34,1687.8 2611.59,1687.93 2613.83,1687.81 2616.07,1687.75 2618.31,1689.83 \n",
       "  2620.55,1688.22 2622.79,1688.99 2625.04,1688.04 2627.28,1689.21 2629.52,1689.21 2631.76,1688.65 2634,1688.8 2636.25,1687.92 2638.49,1687.2 2640.73,1687.6 \n",
       "  2642.97,1688.78 2645.21,1688.62 2647.46,1689.74 2649.7,1688.46 2651.94,1687.28 2654.18,1688.77 2656.42,1688.92 2658.66,1689.24 2660.91,1689.13 2663.15,1687.91 \n",
       "  2665.39,1689.42 2667.63,1689.39 2669.87,1688.53 2672.12,1687.41 2674.36,1687.34 2676.6,1689.26 2678.84,1686.41 2681.08,1688.28 2683.33,1686.9 2685.57,1689.28 \n",
       "  \n",
       "  \"/>\n",
       "<polyline clip-path=\"url(#clip412)\" style=\"stroke:#e26f46; stroke-linecap:butt; stroke-linejoin:round; stroke-width:4; stroke-opacity:1; fill:none\" points=\"\n",
       "  445.94,200.254 448.182,645.471 450.424,830.73 452.666,996.159 454.908,1068.95 457.15,1146.14 459.391,1156.1 461.633,1198.75 463.875,1243.81 466.117,1276.6 \n",
       "  468.359,1277.27 470.601,1325.55 472.843,1316.8 475.084,1357.23 477.326,1365.34 479.568,1371.11 481.81,1375.72 484.052,1394.1 486.294,1413.62 488.536,1422.62 \n",
       "  490.778,1431.99 493.019,1440.8 495.261,1443.54 497.503,1448.17 499.745,1458.35 501.987,1451.06 504.229,1464.95 506.471,1467.04 508.712,1460.3 510.954,1464.17 \n",
       "  513.196,1475.89 515.438,1478.27 517.68,1467.88 519.922,1485.34 522.164,1483.86 524.406,1487.69 526.647,1477.64 528.889,1492.46 531.131,1495.99 533.373,1501.13 \n",
       "  535.615,1498.32 537.857,1493.45 540.099,1498.01 542.341,1501.6 544.582,1500.18 546.824,1502.49 549.066,1502.67 551.308,1505.66 553.55,1498.33 555.792,1506.78 \n",
       "  558.034,1534.89 560.275,1542 562.517,1545.22 564.759,1545.42 567.001,1547.39 569.243,1548.3 571.485,1551.1 573.727,1555.21 575.969,1552.4 578.21,1552.32 \n",
       "  580.452,1555.12 582.694,1556.59 584.936,1558.28 587.178,1556.15 589.42,1559.35 591.662,1559.19 593.903,1561.58 596.145,1562.88 598.387,1560.34 600.629,1563.11 \n",
       "  602.871,1563.3 605.113,1565.97 607.355,1562.44 609.597,1567.85 611.838,1566.78 614.08,1567.49 616.322,1567.56 618.564,1568.58 620.806,1568.6 623.048,1565.25 \n",
       "  625.29,1568.06 627.532,1569.8 629.773,1569.74 632.015,1570.6 634.257,1574.2 636.499,1571.37 638.741,1573.96 640.983,1569.8 643.225,1571.1 645.466,1571.86 \n",
       "  647.708,1572.72 649.95,1571.53 652.192,1572.32 654.434,1575.08 656.676,1573.99 658.918,1575.32 661.16,1577.8 663.401,1573.56 665.643,1580.97 667.885,1576.91 \n",
       "  670.127,1576.74 672.369,1581.1 674.611,1578.61 676.853,1577.64 679.095,1579.64 681.336,1578.61 683.578,1577.88 685.82,1580.01 688.062,1581.1 690.304,1579.72 \n",
       "  692.546,1579.55 694.788,1575.61 697.029,1581.97 699.271,1579.51 701.513,1579.78 703.755,1581.01 705.997,1578.98 708.239,1583.83 710.481,1582.6 712.723,1583.4 \n",
       "  714.964,1581.02 717.206,1583.7 719.448,1585.63 721.69,1583.58 723.932,1581.69 726.174,1582.02 728.416,1583.38 730.657,1585.46 732.899,1583 735.141,1581.81 \n",
       "  737.383,1585.11 739.625,1583.45 741.867,1584.08 744.109,1584.26 746.351,1584.42 748.592,1585.23 750.834,1586.05 753.076,1584.81 755.318,1583.14 757.56,1584.98 \n",
       "  759.802,1586.22 762.044,1581.7 764.286,1585.61 766.527,1586.32 768.769,1590.13 771.011,1588.11 773.253,1589.06 775.495,1587.24 777.737,1588.67 779.979,1589.53 \n",
       "  782.22,1590.02 784.462,1589.94 786.704,1589.2 788.946,1590.75 791.188,1590.39 793.43,1591.81 795.672,1592.26 797.914,1592.95 800.155,1590.32 802.397,1590.08 \n",
       "  804.639,1592.09 806.881,1590.15 809.123,1590.22 811.365,1590.35 813.607,1594.01 815.849,1590.7 818.09,1591.52 820.332,1592.12 822.574,1593.19 824.816,1590.42 \n",
       "  827.058,1595.02 829.3,1593.8 831.542,1593.83 833.783,1593.26 836.025,1593.89 838.267,1592.17 840.509,1594.86 842.751,1592.78 844.993,1590.98 847.235,1593.73 \n",
       "  849.477,1594.29 851.718,1591.23 853.96,1592.02 856.202,1591.89 858.444,1594.72 860.686,1591.58 862.928,1594.6 865.17,1595.06 867.411,1597.52 869.653,1592.17 \n",
       "  871.895,1596.93 874.137,1595.78 876.379,1595.79 878.621,1596.67 880.863,1596.82 883.105,1593.31 885.346,1595.73 887.588,1595.9 889.83,1595.6 892.072,1598.33 \n",
       "  894.314,1598.26 896.556,1595.57 898.798,1595.23 901.04,1598.88 903.281,1597.22 905.523,1598.57 907.765,1598 910.007,1597.43 912.249,1600.1 914.491,1600.21 \n",
       "  916.733,1596.73 918.974,1597.75 921.216,1596.42 923.458,1594.92 925.7,1597.08 927.942,1600.44 930.184,1599.79 932.426,1596.81 934.668,1595.71 936.909,1597.22 \n",
       "  939.151,1599.48 941.393,1598.56 943.635,1598.65 945.877,1601.51 948.119,1598.82 950.361,1600.85 952.603,1599.29 954.844,1600.38 957.086,1601.15 959.328,1600.6 \n",
       "  961.57,1596.39 963.812,1599.23 966.054,1601.18 968.296,1600.62 970.537,1601.55 972.779,1601.77 975.021,1600.28 977.263,1599.27 979.505,1600.76 981.747,1601.25 \n",
       "  983.989,1599.56 986.231,1602.2 988.472,1600.29 990.714,1598.71 992.956,1604.88 995.198,1604.32 997.44,1598.76 999.682,1601.91 1001.92,1598.08 1004.17,1602.17 \n",
       "  1006.41,1599.32 1008.65,1600.74 1010.89,1604.43 1013.13,1598.74 1015.37,1601.13 1017.62,1599.92 1019.86,1603.18 1022.1,1602.62 1024.34,1605.06 1026.58,1602.63 \n",
       "  1028.83,1604.01 1031.07,1607.03 1033.31,1602.14 1035.55,1602.28 1037.79,1604 1040.04,1605.17 1042.28,1601.2 1044.52,1596.29 1046.76,1602.54 1049,1603.46 \n",
       "  1051.24,1603.54 1053.49,1602.59 1055.73,1604.16 1057.97,1604.37 1060.21,1601.3 1062.45,1602.86 1064.7,1603.72 1066.94,1605.23 1069.18,1605.85 1071.42,1602.72 \n",
       "  1073.66,1605.7 1075.91,1599.64 1078.15,1601.64 1080.39,1604.62 1082.63,1604.81 1084.87,1605.79 1087.11,1604.02 1089.36,1602.95 1091.6,1605.11 1093.84,1600.83 \n",
       "  1096.08,1604.84 1098.32,1602.71 1100.57,1604.37 1102.81,1605.6 1105.05,1604.3 1107.29,1605.85 1109.53,1604.01 1111.78,1605.96 1114.02,1604 1116.26,1606.59 \n",
       "  1118.5,1603.44 1120.74,1606.75 1122.98,1601.21 1125.23,1607.45 1127.47,1607.71 1129.71,1605.61 1131.95,1606.49 1134.19,1606.37 1136.44,1605.86 1138.68,1607.46 \n",
       "  1140.92,1606.3 1143.16,1606.79 1145.4,1601.62 1147.65,1608.31 1149.89,1603.82 1152.13,1608.28 1154.37,1602.98 1156.61,1604.22 1158.85,1606.12 1161.1,1603.21 \n",
       "  1163.34,1609.03 1165.58,1607.54 1167.82,1604.37 1170.06,1605.06 1172.31,1606.02 1174.55,1604.33 1176.79,1610.11 1179.03,1609.47 1181.27,1609.61 1183.51,1607.14 \n",
       "  1185.76,1603.8 1188,1606.32 1190.24,1606.54 1192.48,1609.73 1194.72,1607.77 1196.97,1608.08 1199.21,1607.18 1201.45,1606.07 1203.69,1607.55 1205.93,1609.84 \n",
       "  1208.18,1607.78 1210.42,1608.44 1212.66,1609.16 1214.9,1605.94 1217.14,1607.72 1219.38,1608.05 1221.63,1606.82 1223.87,1609.1 1226.11,1606.96 1228.35,1608.54 \n",
       "  1230.59,1608.88 1232.84,1608.76 1235.08,1606.42 1237.32,1603.74 1239.56,1605.68 1241.8,1605.46 1244.05,1606.93 1246.29,1610.38 1248.53,1609.05 1250.77,1608.58 \n",
       "  1253.01,1611.96 1255.25,1607.93 1257.5,1608.86 1259.74,1605.2 1261.98,1609.56 1264.22,1605.91 1266.46,1607.72 1268.71,1605.26 1270.95,1609.64 1273.19,1608.3 \n",
       "  1275.43,1611.59 1277.67,1608.79 1279.92,1603.46 1282.16,1609.63 1284.4,1606.9 1286.64,1607.6 1288.88,1611.47 1291.12,1610.82 1293.37,1610.39 1295.61,1605.05 \n",
       "  1297.85,1611.16 1300.09,1608.76 1302.33,1598.28 1304.58,1612.39 1306.82,1612.2 1309.06,1612.21 1311.3,1613.07 1313.54,1611.44 1315.79,1611.86 1318.03,1609.31 \n",
       "  1320.27,1609.78 1322.51,1610.24 1324.75,1609.92 1326.99,1610.67 1329.24,1611.26 1331.48,1607.43 1333.72,1608.63 1335.96,1610.77 1338.2,1611.94 1340.45,1611.94 \n",
       "  1342.69,1611.34 1344.93,1606.68 1347.17,1609.93 1349.41,1610.41 1351.66,1610.01 1353.9,1610.57 1356.14,1612.85 1358.38,1608.07 1360.62,1612.51 1362.86,1611.47 \n",
       "  1365.11,1602.52 1367.35,1613.3 1369.59,1611.36 1371.83,1612.94 1374.07,1613.75 1376.32,1611.54 1378.56,1614.6 1380.8,1612.64 1383.04,1612.26 1385.28,1613.17 \n",
       "  1387.53,1607.79 1389.77,1613.11 1392.01,1612.95 1394.25,1609.11 1396.49,1612.52 1398.73,1614.37 1400.98,1612.17 1403.22,1610.01 1405.46,1611.94 1407.7,1614.12 \n",
       "  1409.94,1611.46 1412.19,1612.86 1414.43,1612.03 1416.67,1609.92 1418.91,1614.37 1421.15,1615.47 1423.39,1612.78 1425.64,1615.28 1427.88,1613.33 1430.12,1614.9 \n",
       "  1432.36,1613.85 1434.6,1612.81 1436.85,1613.12 1439.09,1612.9 1441.33,1614.07 1443.57,1612.89 1445.81,1614.53 1448.06,1614.81 1450.3,1610.77 1452.54,1614.97 \n",
       "  1454.78,1611.98 1457.02,1611.67 1459.26,1611.98 1461.51,1611.68 1463.75,1615.14 1465.99,1614.39 1468.23,1616.25 1470.47,1617.11 1472.72,1615.13 1474.96,1615.76 \n",
       "  1477.2,1614.95 1479.44,1613.19 1481.68,1614.01 1483.93,1615.31 1486.17,1616.14 1488.41,1615.9 1490.65,1612.91 1492.89,1614.73 1495.13,1614.48 1497.38,1612.97 \n",
       "  1499.62,1614.48 1501.86,1611.64 1504.1,1614.32 1506.34,1613.73 1508.59,1618.03 1510.83,1621.06 1513.07,1615.88 1515.31,1618.69 1517.55,1614.61 1519.8,1614.19 \n",
       "  1522.04,1614.02 1524.28,1615.76 1526.52,1617.96 1528.76,1613 1531,1615.91 1533.25,1615.35 1535.49,1616.55 1537.73,1615.82 1539.97,1618.92 1542.21,1614.18 \n",
       "  1544.46,1619.44 1546.7,1614.79 1548.94,1617.54 1551.18,1617.36 1553.42,1612.79 1555.67,1615.56 1557.91,1616.61 1560.15,1618.09 1562.39,1616.81 1564.63,1619.03 \n",
       "  1566.87,1621.06 1569.12,1615.6 1571.36,1618.54 1573.6,1616.76 1575.84,1619.25 1578.08,1619.03 1580.33,1618.22 1582.57,1617.38 1584.81,1618.06 1587.05,1618.87 \n",
       "  1589.29,1618.43 1591.54,1621.32 1593.78,1615.4 1596.02,1620.41 1598.26,1618.01 1600.5,1618.62 1602.74,1617.67 1604.99,1617.35 1607.23,1619.02 1609.47,1616.41 \n",
       "  1611.71,1619.82 1613.95,1617.07 1616.2,1614.78 1618.44,1616.99 1620.68,1618.42 1622.92,1618.51 1625.16,1617.17 1627.41,1619.58 1629.65,1621.35 1631.89,1619.18 \n",
       "  1634.13,1620.2 1636.37,1618.52 1638.61,1618.77 1640.86,1620.2 1643.1,1622.28 1645.34,1622.48 1647.58,1615.92 1649.82,1618.9 1652.07,1622.53 1654.31,1622.04 \n",
       "  1656.55,1618.83 1658.79,1617.08 1661.03,1621.47 1663.27,1621.3 1665.52,1615.85 1667.76,1621.14 1670,1621.05 1672.24,1621.42 1674.48,1622.05 1676.73,1619.15 \n",
       "  1678.97,1619.31 1681.21,1621.81 1683.45,1618.77 1685.69,1622.49 1687.94,1618.69 1690.18,1624.29 1692.42,1621.73 1694.66,1621 1696.9,1620.87 1699.14,1617.46 \n",
       "  1701.39,1620.84 1703.63,1624.45 1705.87,1623.52 1708.11,1621.75 1710.35,1620.27 1712.6,1621.66 1714.84,1621.64 1717.08,1618.27 1719.32,1620.39 1721.56,1623.07 \n",
       "  1723.81,1622.43 1726.05,1621.7 1728.29,1621.01 1730.53,1620.91 1732.77,1621.84 1735.01,1623.05 1737.26,1625.06 1739.5,1621.55 1741.74,1623.97 1743.98,1620.58 \n",
       "  1746.22,1622.64 1748.47,1622.25 1750.71,1621.13 1752.95,1621.86 1755.19,1624.83 1757.43,1623.97 1759.68,1625.19 1761.92,1622.77 1764.16,1625.85 1766.4,1620.44 \n",
       "  1768.64,1621.47 1770.88,1624.27 1773.13,1622.84 1775.37,1624.64 1777.61,1622.54 1779.85,1624.62 1782.09,1626.62 1784.34,1624.56 1786.58,1621.94 1788.82,1623.67 \n",
       "  1791.06,1625.49 1793.3,1623.32 1795.55,1622.28 1797.79,1626.85 1800.03,1625.43 1802.27,1622.4 1804.51,1626.06 1806.75,1623.76 1809,1625.13 1811.24,1620.92 \n",
       "  1813.48,1625.92 1815.72,1619.66 1817.96,1625.57 1820.21,1624.75 1822.45,1624.53 1824.69,1628.12 1826.93,1623.68 1829.17,1625.29 1831.42,1625.51 1833.66,1626.67 \n",
       "  1835.9,1624.87 1838.14,1626.56 1840.38,1624.57 1842.62,1625.02 1844.87,1626.58 1847.11,1623.41 1849.35,1624.52 1851.59,1626.02 1853.83,1626.36 1856.08,1624.15 \n",
       "  1858.32,1627.07 1860.56,1625.06 1862.8,1628.16 1865.04,1624.95 1867.28,1623.89 1869.53,1628.37 1871.77,1626.27 1874.01,1627.54 1876.25,1629.8 1878.49,1629.23 \n",
       "  1880.74,1628.71 1882.98,1624.8 1885.22,1626.53 1887.46,1628.51 1889.7,1624.35 1891.95,1625.55 1894.19,1626.87 1896.43,1625.9 1898.67,1625.35 1900.91,1624.41 \n",
       "  1903.15,1629.2 1905.4,1628.57 1907.64,1626.46 1909.88,1625.92 1912.12,1626.14 1914.36,1630.32 1916.61,1627.58 1918.85,1627.76 1921.09,1628.67 1923.33,1630.65 \n",
       "  1925.57,1630.16 1927.82,1625.64 1930.06,1630.47 1932.3,1625.6 1934.54,1626.03 1936.78,1628.84 1939.02,1631.1 1941.27,1626.36 1943.51,1626.91 1945.75,1626.72 \n",
       "  1947.99,1626.87 1950.23,1629.5 1952.48,1628.03 1954.72,1632.05 1956.96,1631.66 1959.2,1624.18 1961.44,1624.65 1963.69,1630.64 1965.93,1628.6 1968.17,1628.57 \n",
       "  1970.41,1632.58 1972.65,1632.52 1974.89,1630.01 1977.14,1628.21 1979.38,1632.74 1981.62,1630.19 1983.86,1630.4 1986.1,1631.73 1988.35,1626.87 1990.59,1631.6 \n",
       "  1992.83,1632.08 1995.07,1631.17 1997.31,1630.19 1999.56,1628.72 2001.8,1627 2004.04,1628.19 2006.28,1630.93 2008.52,1630.22 2010.76,1631.64 2013.01,1630.8 \n",
       "  2015.25,1630.73 2017.49,1631 2019.73,1630.78 2021.97,1624.44 2024.22,1630.36 2026.46,1629.37 2028.7,1631.46 2030.94,1633.5 2033.18,1630.37 2035.43,1631.52 \n",
       "  2037.67,1630 2039.91,1631.44 2042.15,1633.31 2044.39,1630.75 2046.63,1633.33 2048.88,1632.42 2051.12,1636.59 2053.36,1630.35 2055.6,1631.07 2057.84,1632.43 \n",
       "  2060.09,1630.22 2062.33,1631.59 2064.57,1631.81 2066.81,1634.19 2069.05,1627.78 2071.3,1633.65 2073.54,1631.94 2075.78,1630.81 2078.02,1633.16 2080.26,1633.51 \n",
       "  2082.5,1632.71 2084.75,1634.13 2086.99,1635.69 2089.23,1631.53 2091.47,1631.23 2093.71,1632.02 2095.96,1633.75 2098.2,1634.83 2100.44,1633.2 2102.68,1630.33 \n",
       "  2104.92,1632.88 2107.16,1630.42 2109.41,1636.15 2111.65,1631.79 2113.89,1633.32 2116.13,1633.34 2118.37,1631.61 2120.62,1635.43 2122.86,1632.81 2125.1,1633.38 \n",
       "  2127.34,1633.94 2129.58,1629.83 2131.83,1633.51 2134.07,1634.46 2136.31,1630.77 2138.55,1633.45 2140.79,1631.32 2143.03,1634.74 2145.28,1633.01 2147.52,1635.31 \n",
       "  2149.76,1634.29 2152,1635.33 2154.24,1635.53 2156.49,1633.89 2158.73,1630.49 2160.97,1632.59 2163.21,1633.5 2165.45,1635.6 2167.7,1634.32 2169.94,1635.87 \n",
       "  2172.18,1635.6 2174.42,1636.22 2176.66,1635.29 2178.9,1637.19 2181.15,1634.57 2183.39,1634.59 2185.63,1632.29 2187.87,1637.55 2190.11,1636.14 2192.36,1637.27 \n",
       "  2194.6,1636.58 2196.84,1637.3 2199.08,1635.99 2201.32,1634.85 2203.57,1634.68 2205.81,1635.52 2208.05,1637.99 2210.29,1633.74 2212.53,1637.16 2214.77,1637.49 \n",
       "  2217.02,1640.05 2219.26,1636.44 2221.5,1638.92 2223.74,1635.97 2225.98,1633.6 2228.23,1638.86 2230.47,1636.47 2232.71,1635.98 2234.95,1636.4 2237.19,1636.32 \n",
       "  2239.44,1638.32 2241.68,1636.81 2243.92,1640.11 2246.16,1638.92 2248.4,1637.52 2250.64,1636.45 2252.89,1636.88 2255.13,1639.27 2257.37,1638.35 2259.61,1636.51 \n",
       "  2261.85,1639.21 2264.1,1637.77 2266.34,1635.07 2268.58,1638.68 2270.82,1638 2273.06,1637.67 2275.31,1637.06 2277.55,1637.4 2279.79,1637.48 2282.03,1639.82 \n",
       "  2284.27,1638.8 2286.51,1639.34 2288.76,1636.82 2291,1638.22 2293.24,1639.25 2295.48,1642.9 2297.72,1640.91 2299.97,1639.41 2302.21,1642.9 2304.45,1639.45 \n",
       "  2306.69,1640.84 2308.93,1639.91 2311.18,1641.81 2313.42,1640.37 2315.66,1639.47 2317.9,1639.75 2320.14,1641.64 2322.38,1640.44 2324.63,1639.52 2326.87,1639.19 \n",
       "  2329.11,1643.93 2331.35,1638.86 2333.59,1641.12 2335.84,1639.47 2338.08,1640.84 2340.32,1638.75 2342.56,1641.76 2344.8,1640.21 2347.04,1642.38 2349.29,1640.23 \n",
       "  2351.53,1640.36 2353.77,1639.81 2356.01,1641.06 2358.25,1640.05 2360.5,1642.12 2362.74,1640.27 2364.98,1637.86 2367.22,1641.33 2369.46,1640.01 2371.71,1638.99 \n",
       "  2373.95,1643.19 2376.19,1639.22 2378.43,1642.1 2380.67,1641.9 2382.91,1642.15 2385.16,1640.22 2387.4,1639.3 2389.64,1645.2 2391.88,1643.31 2394.12,1638.76 \n",
       "  2396.37,1640.78 2398.61,1640.26 2400.85,1643.14 2403.09,1639.85 2405.33,1641.03 2407.58,1640.86 2409.82,1640.31 2412.06,1642.09 2414.3,1642.12 2416.54,1639.87 \n",
       "  2418.78,1642.06 2421.03,1641.33 2423.27,1641.32 2425.51,1640.23 2427.75,1643.48 2429.99,1643.83 2432.24,1641.96 2434.48,1642.78 2436.72,1641.88 2438.96,1642.67 \n",
       "  2441.2,1641.83 2443.45,1644.85 2445.69,1645.71 2447.93,1645.14 2450.17,1642.92 2452.41,1639.82 2454.65,1643.46 2456.9,1642.92 2459.14,1643.08 2461.38,1645.32 \n",
       "  2463.62,1643.98 2465.86,1642.59 2468.11,1642.48 2470.35,1645.14 2472.59,1645.11 2474.83,1645.76 2477.07,1641.04 2479.32,1639.73 2481.56,1642.3 2483.8,1644.41 \n",
       "  2486.04,1641.13 2488.28,1641.51 2490.52,1645.45 2492.77,1642.56 2495.01,1641.57 2497.25,1640.32 2499.49,1642.85 2501.73,1645.35 2503.98,1643.32 2506.22,1642.81 \n",
       "  2508.46,1639 2510.7,1642.33 2512.94,1640.23 2515.19,1641.68 2517.43,1643.67 2519.67,1642.25 2521.91,1643.41 2524.15,1644.27 2526.39,1646.24 2528.64,1645.19 \n",
       "  2530.88,1645 2533.12,1642.03 2535.36,1641.16 2537.6,1643.75 2539.85,1646.38 2542.09,1641.91 2544.33,1642.61 2546.57,1642.45 2548.81,1643.29 2551.05,1638.7 \n",
       "  2553.3,1643.38 2555.54,1642.6 2557.78,1643.78 2560.02,1642.53 2562.26,1644.59 2564.51,1643.42 2566.75,1644.69 2568.99,1646.69 2571.23,1645.72 2573.47,1644.28 \n",
       "  2575.72,1643.78 2577.96,1640.24 2580.2,1643.86 2582.44,1644.53 2584.68,1646.6 2586.92,1646.31 2589.17,1642.76 2591.41,1645.83 2593.65,1644.67 2595.89,1641.26 \n",
       "  2598.13,1644.71 2600.38,1644.54 2602.62,1645.29 2604.86,1642.12 2607.1,1643.11 2609.34,1645.66 2611.59,1643.59 2613.83,1644.09 2616.07,1646.64 2618.31,1645.55 \n",
       "  2620.55,1645.18 2622.79,1644.11 2625.04,1643.99 2627.28,1647.19 2629.52,1645.33 2631.76,1643.22 2634,1641.72 2636.25,1647.01 2638.49,1643.94 2640.73,1643.54 \n",
       "  2642.97,1643.58 2645.21,1643.73 2647.46,1643.02 2649.7,1641.27 2651.94,1646.87 2654.18,1643.6 2656.42,1647.61 2658.66,1645.48 2660.91,1645.78 2663.15,1642.88 \n",
       "  2665.39,1647.23 2667.63,1641.79 2669.87,1643.18 2672.12,1645.16 2674.36,1647.01 2676.6,1645.89 2678.84,1641.75 2681.08,1645.69 2683.33,1643.65 2685.57,1646.42 \n",
       "  \n",
       "  \"/>\n",
       "<path clip-path=\"url(#clip410)\" d=\"\n",
       "M2179.22 363.719 L2673.62 363.719 L2673.62 208.199 L2179.22 208.199  Z\n",
       "  \" fill=\"#ffffff\" fill-rule=\"evenodd\" fill-opacity=\"1\"/>\n",
       "<polyline clip-path=\"url(#clip410)\" style=\"stroke:#000000; stroke-linecap:butt; stroke-linejoin:round; stroke-width:4; stroke-opacity:1; fill:none\" points=\"\n",
       "  2179.22,363.719 2673.62,363.719 2673.62,208.199 2179.22,208.199 2179.22,363.719 \n",
       "  \"/>\n",
       "<polyline clip-path=\"url(#clip410)\" style=\"stroke:#009af9; stroke-linecap:butt; stroke-linejoin:round; stroke-width:9; stroke-opacity:1; fill:none\" points=\"\n",
       "  2205.6,260.039 2363.87,260.039 \n",
       "  \"/>\n",
       "<path clip-path=\"url(#clip410)\" d=\"M2390.24 242.759 L2419.48 242.759 L2419.48 246.694 L2407.21 246.694 L2407.21 277.319 L2402.51 277.319 L2402.51 246.694 L2390.24 246.694 L2390.24 242.759 Z\" fill=\"#000000\" fill-rule=\"evenodd\" fill-opacity=\"1\" /><path clip-path=\"url(#clip410)\" d=\"M2431.86 255.375 Q2431.15 254.958 2430.29 254.773 Q2429.46 254.565 2428.44 254.565 Q2424.83 254.565 2422.88 256.926 Q2420.96 259.264 2420.96 263.662 L2420.96 277.319 L2416.68 277.319 L2416.68 251.393 L2420.96 251.393 L2420.96 255.421 Q2422.3 253.06 2424.46 251.926 Q2426.61 250.768 2429.69 250.768 Q2430.13 250.768 2430.66 250.838 Q2431.19 250.884 2431.84 251 L2431.86 255.375 Z\" fill=\"#000000\" fill-rule=\"evenodd\" fill-opacity=\"1\" /><path clip-path=\"url(#clip410)\" d=\"M2448.11 264.287 Q2442.95 264.287 2440.96 265.467 Q2438.97 266.648 2438.97 269.495 Q2438.97 271.764 2440.45 273.106 Q2441.96 274.426 2444.53 274.426 Q2448.07 274.426 2450.2 271.926 Q2452.35 269.403 2452.35 265.236 L2452.35 264.287 L2448.11 264.287 M2456.61 262.528 L2456.61 277.319 L2452.35 277.319 L2452.35 273.384 Q2450.89 275.745 2448.71 276.879 Q2446.54 277.99 2443.39 277.99 Q2439.41 277.99 2437.05 275.768 Q2434.71 273.523 2434.71 269.773 Q2434.71 265.398 2437.63 263.176 Q2440.57 260.953 2446.38 260.953 L2452.35 260.953 L2452.35 260.537 Q2452.35 257.597 2450.4 256 Q2448.48 254.379 2444.99 254.379 Q2442.77 254.379 2440.66 254.912 Q2438.55 255.444 2436.61 256.509 L2436.61 252.574 Q2438.95 251.671 2441.15 251.231 Q2443.34 250.768 2445.43 250.768 Q2451.05 250.768 2453.83 253.685 Q2456.61 256.602 2456.61 262.528 Z\" fill=\"#000000\" fill-rule=\"evenodd\" fill-opacity=\"1\" /><path clip-path=\"url(#clip410)\" d=\"M2465.38 251.393 L2469.64 251.393 L2469.64 277.319 L2465.38 277.319 L2465.38 251.393 M2465.38 241.301 L2469.64 241.301 L2469.64 246.694 L2465.38 246.694 L2465.38 241.301 Z\" fill=\"#000000\" fill-rule=\"evenodd\" fill-opacity=\"1\" /><path clip-path=\"url(#clip410)\" d=\"M2500.1 261.671 L2500.1 277.319 L2495.84 277.319 L2495.84 261.81 Q2495.84 258.129 2494.41 256.301 Q2492.97 254.472 2490.1 254.472 Q2486.65 254.472 2484.66 256.671 Q2482.67 258.87 2482.67 262.666 L2482.67 277.319 L2478.39 277.319 L2478.39 251.393 L2482.67 251.393 L2482.67 255.421 Q2484.2 253.083 2486.26 251.926 Q2488.34 250.768 2491.05 250.768 Q2495.52 250.768 2497.81 253.546 Q2500.1 256.301 2500.1 261.671 Z\" fill=\"#000000\" fill-rule=\"evenodd\" fill-opacity=\"1\" /><path clip-path=\"url(#clip410)\" d=\"M2523.85 242.759 L2528.53 242.759 L2528.53 273.384 L2545.36 273.384 L2545.36 277.319 L2523.85 277.319 L2523.85 242.759 Z\" fill=\"#000000\" fill-rule=\"evenodd\" fill-opacity=\"1\" /><path clip-path=\"url(#clip410)\" d=\"M2559.29 254.379 Q2555.87 254.379 2553.88 257.065 Q2551.89 259.727 2551.89 264.379 Q2551.89 269.032 2553.85 271.717 Q2555.84 274.379 2559.29 274.379 Q2562.7 274.379 2564.69 271.694 Q2566.68 269.009 2566.68 264.379 Q2566.68 259.773 2564.69 257.088 Q2562.7 254.379 2559.29 254.379 M2559.29 250.768 Q2564.85 250.768 2568.02 254.379 Q2571.19 257.991 2571.19 264.379 Q2571.19 270.745 2568.02 274.379 Q2564.85 277.99 2559.29 277.99 Q2553.71 277.99 2550.54 274.379 Q2547.39 270.745 2547.39 264.379 Q2547.39 257.991 2550.54 254.379 Q2553.71 250.768 2559.29 250.768 Z\" fill=\"#000000\" fill-rule=\"evenodd\" fill-opacity=\"1\" /><path clip-path=\"url(#clip410)\" d=\"M2594.78 252.157 L2594.78 256.185 Q2592.97 255.259 2591.03 254.796 Q2589.08 254.333 2587 254.333 Q2583.83 254.333 2582.23 255.305 Q2580.66 256.278 2580.66 258.222 Q2580.66 259.703 2581.79 260.56 Q2582.93 261.393 2586.35 262.157 L2587.81 262.481 Q2592.35 263.453 2594.25 265.236 Q2596.17 266.995 2596.17 270.166 Q2596.17 273.777 2593.3 275.884 Q2590.45 277.99 2585.45 277.99 Q2583.37 277.99 2581.1 277.574 Q2578.85 277.18 2576.35 276.37 L2576.35 271.972 Q2578.71 273.199 2581.01 273.824 Q2583.3 274.426 2585.54 274.426 Q2588.55 274.426 2590.17 273.407 Q2591.79 272.365 2591.79 270.49 Q2591.79 268.754 2590.61 267.828 Q2589.45 266.903 2585.5 266.046 L2584.02 265.699 Q2580.06 264.866 2578.3 263.153 Q2576.54 261.416 2576.54 258.407 Q2576.54 254.75 2579.13 252.759 Q2581.72 250.768 2586.49 250.768 Q2588.85 250.768 2590.94 251.116 Q2593.02 251.463 2594.78 252.157 Z\" fill=\"#000000\" fill-rule=\"evenodd\" fill-opacity=\"1\" /><path clip-path=\"url(#clip410)\" d=\"M2619.48 252.157 L2619.48 256.185 Q2617.67 255.259 2615.73 254.796 Q2613.78 254.333 2611.7 254.333 Q2608.53 254.333 2606.93 255.305 Q2605.36 256.278 2605.36 258.222 Q2605.36 259.703 2606.49 260.56 Q2607.63 261.393 2611.05 262.157 L2612.51 262.481 Q2617.05 263.453 2618.95 265.236 Q2620.87 266.995 2620.87 270.166 Q2620.87 273.777 2618 275.884 Q2615.15 277.99 2610.15 277.99 Q2608.07 277.99 2605.8 277.574 Q2603.55 277.18 2601.05 276.37 L2601.05 271.972 Q2603.41 273.199 2605.7 273.824 Q2608 274.426 2610.24 274.426 Q2613.25 274.426 2614.87 273.407 Q2616.49 272.365 2616.49 270.49 Q2616.49 268.754 2615.31 267.828 Q2614.15 266.903 2610.2 266.046 L2608.71 265.699 Q2604.76 264.866 2603 263.153 Q2601.24 261.416 2601.24 258.407 Q2601.24 254.75 2603.83 252.759 Q2606.42 250.768 2611.19 250.768 Q2613.55 250.768 2615.64 251.116 Q2617.72 251.463 2619.48 252.157 Z\" fill=\"#000000\" fill-rule=\"evenodd\" fill-opacity=\"1\" /><polyline clip-path=\"url(#clip410)\" style=\"stroke:#e26f46; stroke-linecap:butt; stroke-linejoin:round; stroke-width:9; stroke-opacity:1; fill:none\" points=\"\n",
       "  2205.6,311.879 2363.87,311.879 \n",
       "  \"/>\n",
       "<path clip-path=\"url(#clip410)\" d=\"M2390.24 294.599 L2419.48 294.599 L2419.48 298.534 L2407.21 298.534 L2407.21 329.159 L2402.51 329.159 L2402.51 298.534 L2390.24 298.534 L2390.24 294.599 Z\" fill=\"#000000\" fill-rule=\"evenodd\" fill-opacity=\"1\" /><path clip-path=\"url(#clip410)\" d=\"M2437.93 315.131 L2437.93 317.215 L2418.34 317.215 Q2418.62 321.613 2420.98 323.928 Q2423.37 326.219 2427.6 326.219 Q2430.06 326.219 2432.35 325.617 Q2434.66 325.016 2436.93 323.812 L2436.93 327.84 Q2434.64 328.812 2432.23 329.321 Q2429.83 329.83 2427.35 329.83 Q2421.15 329.83 2417.51 326.219 Q2413.9 322.608 2413.9 316.451 Q2413.9 310.085 2417.33 306.358 Q2420.78 302.608 2426.61 302.608 Q2431.84 302.608 2434.87 305.988 Q2437.93 309.344 2437.93 315.131 M2433.67 313.881 Q2433.62 310.386 2431.7 308.303 Q2429.8 306.219 2426.65 306.219 Q2423.09 306.219 2420.94 308.233 Q2418.81 310.247 2418.48 313.905 L2433.67 313.881 Z\" fill=\"#000000\" fill-rule=\"evenodd\" fill-opacity=\"1\" /><path clip-path=\"url(#clip410)\" d=\"M2461.45 303.997 L2461.45 308.025 Q2459.64 307.099 2457.7 306.636 Q2455.75 306.173 2453.67 306.173 Q2450.5 306.173 2448.9 307.145 Q2447.33 308.118 2447.33 310.062 Q2447.33 311.543 2448.46 312.4 Q2449.59 313.233 2453.02 313.997 L2454.48 314.321 Q2459.02 315.293 2460.91 317.076 Q2462.84 318.835 2462.84 322.006 Q2462.84 325.617 2459.96 327.724 Q2457.12 329.83 2452.12 329.83 Q2450.03 329.83 2447.77 329.414 Q2445.52 329.02 2443.02 328.21 L2443.02 323.812 Q2445.38 325.039 2447.67 325.664 Q2449.96 326.266 2452.21 326.266 Q2455.22 326.266 2456.84 325.247 Q2458.46 324.205 2458.46 322.33 Q2458.46 320.594 2457.28 319.668 Q2456.12 318.743 2452.16 317.886 L2450.68 317.539 Q2446.72 316.706 2444.96 314.993 Q2443.21 313.256 2443.21 310.247 Q2443.21 306.59 2445.8 304.599 Q2448.39 302.608 2453.16 302.608 Q2455.52 302.608 2457.6 302.956 Q2459.69 303.303 2461.45 303.997 Z\" fill=\"#000000\" fill-rule=\"evenodd\" fill-opacity=\"1\" /><path clip-path=\"url(#clip410)\" d=\"M2473.83 295.872 L2473.83 303.233 L2482.6 303.233 L2482.6 306.544 L2473.83 306.544 L2473.83 320.618 Q2473.83 323.789 2474.69 324.692 Q2475.57 325.594 2478.23 325.594 L2482.6 325.594 L2482.6 329.159 L2478.23 329.159 Q2473.3 329.159 2471.42 327.33 Q2469.55 325.479 2469.55 320.618 L2469.55 306.544 L2466.42 306.544 L2466.42 303.233 L2469.55 303.233 L2469.55 295.872 L2473.83 295.872 Z\" fill=\"#000000\" fill-rule=\"evenodd\" fill-opacity=\"1\" /><path clip-path=\"url(#clip410)\" d=\"M2503.46 294.599 L2508.14 294.599 L2508.14 325.224 L2524.96 325.224 L2524.96 329.159 L2503.46 329.159 L2503.46 294.599 Z\" fill=\"#000000\" fill-rule=\"evenodd\" fill-opacity=\"1\" /><path clip-path=\"url(#clip410)\" d=\"M2538.9 306.219 Q2535.47 306.219 2533.48 308.905 Q2531.49 311.567 2531.49 316.219 Q2531.49 320.872 2533.46 323.557 Q2535.45 326.219 2538.9 326.219 Q2542.3 326.219 2544.29 323.534 Q2546.28 320.849 2546.28 316.219 Q2546.28 311.613 2544.29 308.928 Q2542.3 306.219 2538.9 306.219 M2538.9 302.608 Q2544.46 302.608 2547.63 306.219 Q2550.8 309.831 2550.8 316.219 Q2550.8 322.585 2547.63 326.219 Q2544.46 329.83 2538.9 329.83 Q2533.32 329.83 2530.15 326.219 Q2527 322.585 2527 316.219 Q2527 309.831 2530.15 306.219 Q2533.32 302.608 2538.9 302.608 Z\" fill=\"#000000\" fill-rule=\"evenodd\" fill-opacity=\"1\" /><path clip-path=\"url(#clip410)\" d=\"M2574.39 303.997 L2574.39 308.025 Q2572.58 307.099 2570.64 306.636 Q2568.69 306.173 2566.61 306.173 Q2563.44 306.173 2561.84 307.145 Q2560.27 308.118 2560.27 310.062 Q2560.27 311.543 2561.4 312.4 Q2562.53 313.233 2565.96 313.997 L2567.42 314.321 Q2571.95 315.293 2573.85 317.076 Q2575.77 318.835 2575.77 322.006 Q2575.77 325.617 2572.9 327.724 Q2570.06 329.83 2565.06 329.83 Q2562.97 329.83 2560.71 329.414 Q2558.46 329.02 2555.96 328.21 L2555.96 323.812 Q2558.32 325.039 2560.61 325.664 Q2562.9 326.266 2565.15 326.266 Q2568.16 326.266 2569.78 325.247 Q2571.4 324.205 2571.4 322.33 Q2571.4 320.594 2570.22 319.668 Q2569.06 318.743 2565.1 317.886 L2563.62 317.539 Q2559.66 316.706 2557.9 314.993 Q2556.14 313.256 2556.14 310.247 Q2556.14 306.59 2558.74 304.599 Q2561.33 302.608 2566.1 302.608 Q2568.46 302.608 2570.54 302.956 Q2572.63 303.303 2574.39 303.997 Z\" fill=\"#000000\" fill-rule=\"evenodd\" fill-opacity=\"1\" /><path clip-path=\"url(#clip410)\" d=\"M2599.08 303.997 L2599.08 308.025 Q2597.28 307.099 2595.33 306.636 Q2593.39 306.173 2591.31 306.173 Q2588.14 306.173 2586.54 307.145 Q2584.96 308.118 2584.96 310.062 Q2584.96 311.543 2586.1 312.4 Q2587.23 313.233 2590.66 313.997 L2592.12 314.321 Q2596.65 315.293 2598.55 317.076 Q2600.47 318.835 2600.47 322.006 Q2600.47 325.617 2597.6 327.724 Q2594.76 329.83 2589.76 329.83 Q2587.67 329.83 2585.4 329.414 Q2583.16 329.02 2580.66 328.21 L2580.66 323.812 Q2583.02 325.039 2585.31 325.664 Q2587.6 326.266 2589.85 326.266 Q2592.86 326.266 2594.48 325.247 Q2596.1 324.205 2596.1 322.33 Q2596.1 320.594 2594.92 319.668 Q2593.76 318.743 2589.8 317.886 L2588.32 317.539 Q2584.36 316.706 2582.6 314.993 Q2580.84 313.256 2580.84 310.247 Q2580.84 306.59 2583.44 304.599 Q2586.03 302.608 2590.8 302.608 Q2593.16 302.608 2595.24 302.956 Q2597.33 303.303 2599.08 303.997 Z\" fill=\"#000000\" fill-rule=\"evenodd\" fill-opacity=\"1\" /></svg>\n"
      ]
     },
     "metadata": {},
     "output_type": "display_data"
    }
   ],
   "source": [
    "display(plot_loss_convergence(trn_loss_list[2:end], tst_loss_list[2:end]; title = \"Train & Test Loss w.r.t. Epochs\"))\n",
    "fig_name = \"Train_and_test_loss\"\n",
    "savefig(joinpath(\"Results\", notebook_name, fig_name))"
   ]
  },
  {
   "cell_type": "code",
   "execution_count": 14,
   "metadata": {},
   "outputs": [
    {
     "data": {
      "image/svg+xml": [
       "<?xml version=\"1.0\" encoding=\"utf-8\"?>\n",
       "<svg xmlns=\"http://www.w3.org/2000/svg\" xmlns:xlink=\"http://www.w3.org/1999/xlink\" width=\"700\" height=\"500\" viewBox=\"0 0 2800 2000\">\n",
       "<defs>\n",
       "  <clipPath id=\"clip460\">\n",
       "    <rect x=\"0\" y=\"0\" width=\"2800\" height=\"2000\"/>\n",
       "  </clipPath>\n",
       "</defs>\n",
       "<path clip-path=\"url(#clip460)\" d=\"\n",
       "M0 2000 L2800 2000 L2800 0 L0 0  Z\n",
       "  \" fill=\"#ffffff\" fill-rule=\"evenodd\" fill-opacity=\"1\"/>\n",
       "<defs>\n",
       "  <clipPath id=\"clip461\">\n",
       "    <rect x=\"560\" y=\"0\" width=\"1961\" height=\"1961\"/>\n",
       "  </clipPath>\n",
       "</defs>\n",
       "<path clip-path=\"url(#clip460)\" d=\"\n",
       "M310.887 1734.63 L2752.76 1734.63 L2752.76 155.564 L310.887 155.564  Z\n",
       "  \" fill=\"#ffffff\" fill-rule=\"evenodd\" fill-opacity=\"1\"/>\n",
       "<defs>\n",
       "  <clipPath id=\"clip462\">\n",
       "    <rect x=\"310\" y=\"155\" width=\"2443\" height=\"1580\"/>\n",
       "  </clipPath>\n",
       "</defs>\n",
       "<polyline clip-path=\"url(#clip462)\" style=\"stroke:#000000; stroke-linecap:butt; stroke-linejoin:round; stroke-width:2; stroke-opacity:0.1; fill:none\" points=\"\n",
       "  377.691,1734.63 377.691,155.564 \n",
       "  \"/>\n",
       "<polyline clip-path=\"url(#clip462)\" style=\"stroke:#000000; stroke-linecap:butt; stroke-linejoin:round; stroke-width:2; stroke-opacity:0.1; fill:none\" points=\"\n",
       "  954.18,1734.63 954.18,155.564 \n",
       "  \"/>\n",
       "<polyline clip-path=\"url(#clip462)\" style=\"stroke:#000000; stroke-linecap:butt; stroke-linejoin:round; stroke-width:2; stroke-opacity:0.1; fill:none\" points=\"\n",
       "  1530.67,1734.63 1530.67,155.564 \n",
       "  \"/>\n",
       "<polyline clip-path=\"url(#clip462)\" style=\"stroke:#000000; stroke-linecap:butt; stroke-linejoin:round; stroke-width:2; stroke-opacity:0.1; fill:none\" points=\"\n",
       "  2107.16,1734.63 2107.16,155.564 \n",
       "  \"/>\n",
       "<polyline clip-path=\"url(#clip462)\" style=\"stroke:#000000; stroke-linecap:butt; stroke-linejoin:round; stroke-width:2; stroke-opacity:0.1; fill:none\" points=\"\n",
       "  2683.65,1734.63 2683.65,155.564 \n",
       "  \"/>\n",
       "<polyline clip-path=\"url(#clip462)\" style=\"stroke:#000000; stroke-linecap:butt; stroke-linejoin:round; stroke-width:2; stroke-opacity:0.05; fill:none\" points=\"\n",
       "  492.988,1734.63 492.988,155.564 \n",
       "  \"/>\n",
       "<polyline clip-path=\"url(#clip462)\" style=\"stroke:#000000; stroke-linecap:butt; stroke-linejoin:round; stroke-width:2; stroke-opacity:0.05; fill:none\" points=\"\n",
       "  608.286,1734.63 608.286,155.564 \n",
       "  \"/>\n",
       "<polyline clip-path=\"url(#clip462)\" style=\"stroke:#000000; stroke-linecap:butt; stroke-linejoin:round; stroke-width:2; stroke-opacity:0.05; fill:none\" points=\"\n",
       "  723.584,1734.63 723.584,155.564 \n",
       "  \"/>\n",
       "<polyline clip-path=\"url(#clip462)\" style=\"stroke:#000000; stroke-linecap:butt; stroke-linejoin:round; stroke-width:2; stroke-opacity:0.05; fill:none\" points=\"\n",
       "  838.882,1734.63 838.882,155.564 \n",
       "  \"/>\n",
       "<polyline clip-path=\"url(#clip462)\" style=\"stroke:#000000; stroke-linecap:butt; stroke-linejoin:round; stroke-width:2; stroke-opacity:0.05; fill:none\" points=\"\n",
       "  1069.48,1734.63 1069.48,155.564 \n",
       "  \"/>\n",
       "<polyline clip-path=\"url(#clip462)\" style=\"stroke:#000000; stroke-linecap:butt; stroke-linejoin:round; stroke-width:2; stroke-opacity:0.05; fill:none\" points=\"\n",
       "  1184.78,1734.63 1184.78,155.564 \n",
       "  \"/>\n",
       "<polyline clip-path=\"url(#clip462)\" style=\"stroke:#000000; stroke-linecap:butt; stroke-linejoin:round; stroke-width:2; stroke-opacity:0.05; fill:none\" points=\"\n",
       "  1300.07,1734.63 1300.07,155.564 \n",
       "  \"/>\n",
       "<polyline clip-path=\"url(#clip462)\" style=\"stroke:#000000; stroke-linecap:butt; stroke-linejoin:round; stroke-width:2; stroke-opacity:0.05; fill:none\" points=\"\n",
       "  1415.37,1734.63 1415.37,155.564 \n",
       "  \"/>\n",
       "<polyline clip-path=\"url(#clip462)\" style=\"stroke:#000000; stroke-linecap:butt; stroke-linejoin:round; stroke-width:2; stroke-opacity:0.05; fill:none\" points=\"\n",
       "  1645.97,1734.63 1645.97,155.564 \n",
       "  \"/>\n",
       "<polyline clip-path=\"url(#clip462)\" style=\"stroke:#000000; stroke-linecap:butt; stroke-linejoin:round; stroke-width:2; stroke-opacity:0.05; fill:none\" points=\"\n",
       "  1761.26,1734.63 1761.26,155.564 \n",
       "  \"/>\n",
       "<polyline clip-path=\"url(#clip462)\" style=\"stroke:#000000; stroke-linecap:butt; stroke-linejoin:round; stroke-width:2; stroke-opacity:0.05; fill:none\" points=\"\n",
       "  1876.56,1734.63 1876.56,155.564 \n",
       "  \"/>\n",
       "<polyline clip-path=\"url(#clip462)\" style=\"stroke:#000000; stroke-linecap:butt; stroke-linejoin:round; stroke-width:2; stroke-opacity:0.05; fill:none\" points=\"\n",
       "  1991.86,1734.63 1991.86,155.564 \n",
       "  \"/>\n",
       "<polyline clip-path=\"url(#clip462)\" style=\"stroke:#000000; stroke-linecap:butt; stroke-linejoin:round; stroke-width:2; stroke-opacity:0.05; fill:none\" points=\"\n",
       "  2222.46,1734.63 2222.46,155.564 \n",
       "  \"/>\n",
       "<polyline clip-path=\"url(#clip462)\" style=\"stroke:#000000; stroke-linecap:butt; stroke-linejoin:round; stroke-width:2; stroke-opacity:0.05; fill:none\" points=\"\n",
       "  2337.75,1734.63 2337.75,155.564 \n",
       "  \"/>\n",
       "<polyline clip-path=\"url(#clip462)\" style=\"stroke:#000000; stroke-linecap:butt; stroke-linejoin:round; stroke-width:2; stroke-opacity:0.05; fill:none\" points=\"\n",
       "  2453.05,1734.63 2453.05,155.564 \n",
       "  \"/>\n",
       "<polyline clip-path=\"url(#clip462)\" style=\"stroke:#000000; stroke-linecap:butt; stroke-linejoin:round; stroke-width:2; stroke-opacity:0.05; fill:none\" points=\"\n",
       "  2568.35,1734.63 2568.35,155.564 \n",
       "  \"/>\n",
       "<polyline clip-path=\"url(#clip460)\" style=\"stroke:#000000; stroke-linecap:butt; stroke-linejoin:round; stroke-width:4; stroke-opacity:1; fill:none\" points=\"\n",
       "  310.887,1734.63 2752.76,1734.63 \n",
       "  \"/>\n",
       "<polyline clip-path=\"url(#clip460)\" style=\"stroke:#000000; stroke-linecap:butt; stroke-linejoin:round; stroke-width:4; stroke-opacity:1; fill:none\" points=\"\n",
       "  377.691,1734.63 377.691,1715.73 \n",
       "  \"/>\n",
       "<polyline clip-path=\"url(#clip460)\" style=\"stroke:#000000; stroke-linecap:butt; stroke-linejoin:round; stroke-width:4; stroke-opacity:1; fill:none\" points=\"\n",
       "  954.18,1734.63 954.18,1715.73 \n",
       "  \"/>\n",
       "<polyline clip-path=\"url(#clip460)\" style=\"stroke:#000000; stroke-linecap:butt; stroke-linejoin:round; stroke-width:4; stroke-opacity:1; fill:none\" points=\"\n",
       "  1530.67,1734.63 1530.67,1715.73 \n",
       "  \"/>\n",
       "<polyline clip-path=\"url(#clip460)\" style=\"stroke:#000000; stroke-linecap:butt; stroke-linejoin:round; stroke-width:4; stroke-opacity:1; fill:none\" points=\"\n",
       "  2107.16,1734.63 2107.16,1715.73 \n",
       "  \"/>\n",
       "<polyline clip-path=\"url(#clip460)\" style=\"stroke:#000000; stroke-linecap:butt; stroke-linejoin:round; stroke-width:4; stroke-opacity:1; fill:none\" points=\"\n",
       "  2683.65,1734.63 2683.65,1715.73 \n",
       "  \"/>\n",
       "<polyline clip-path=\"url(#clip460)\" style=\"stroke:#000000; stroke-linecap:butt; stroke-linejoin:round; stroke-width:4; stroke-opacity:1; fill:none\" points=\"\n",
       "  492.988,1734.63 492.988,1725.18 \n",
       "  \"/>\n",
       "<polyline clip-path=\"url(#clip460)\" style=\"stroke:#000000; stroke-linecap:butt; stroke-linejoin:round; stroke-width:4; stroke-opacity:1; fill:none\" points=\"\n",
       "  608.286,1734.63 608.286,1725.18 \n",
       "  \"/>\n",
       "<polyline clip-path=\"url(#clip460)\" style=\"stroke:#000000; stroke-linecap:butt; stroke-linejoin:round; stroke-width:4; stroke-opacity:1; fill:none\" points=\"\n",
       "  723.584,1734.63 723.584,1725.18 \n",
       "  \"/>\n",
       "<polyline clip-path=\"url(#clip460)\" style=\"stroke:#000000; stroke-linecap:butt; stroke-linejoin:round; stroke-width:4; stroke-opacity:1; fill:none\" points=\"\n",
       "  838.882,1734.63 838.882,1725.18 \n",
       "  \"/>\n",
       "<polyline clip-path=\"url(#clip460)\" style=\"stroke:#000000; stroke-linecap:butt; stroke-linejoin:round; stroke-width:4; stroke-opacity:1; fill:none\" points=\"\n",
       "  1069.48,1734.63 1069.48,1725.18 \n",
       "  \"/>\n",
       "<polyline clip-path=\"url(#clip460)\" style=\"stroke:#000000; stroke-linecap:butt; stroke-linejoin:round; stroke-width:4; stroke-opacity:1; fill:none\" points=\"\n",
       "  1184.78,1734.63 1184.78,1725.18 \n",
       "  \"/>\n",
       "<polyline clip-path=\"url(#clip460)\" style=\"stroke:#000000; stroke-linecap:butt; stroke-linejoin:round; stroke-width:4; stroke-opacity:1; fill:none\" points=\"\n",
       "  1300.07,1734.63 1300.07,1725.18 \n",
       "  \"/>\n",
       "<polyline clip-path=\"url(#clip460)\" style=\"stroke:#000000; stroke-linecap:butt; stroke-linejoin:round; stroke-width:4; stroke-opacity:1; fill:none\" points=\"\n",
       "  1415.37,1734.63 1415.37,1725.18 \n",
       "  \"/>\n",
       "<polyline clip-path=\"url(#clip460)\" style=\"stroke:#000000; stroke-linecap:butt; stroke-linejoin:round; stroke-width:4; stroke-opacity:1; fill:none\" points=\"\n",
       "  1645.97,1734.63 1645.97,1725.18 \n",
       "  \"/>\n",
       "<polyline clip-path=\"url(#clip460)\" style=\"stroke:#000000; stroke-linecap:butt; stroke-linejoin:round; stroke-width:4; stroke-opacity:1; fill:none\" points=\"\n",
       "  1761.26,1734.63 1761.26,1725.18 \n",
       "  \"/>\n",
       "<polyline clip-path=\"url(#clip460)\" style=\"stroke:#000000; stroke-linecap:butt; stroke-linejoin:round; stroke-width:4; stroke-opacity:1; fill:none\" points=\"\n",
       "  1876.56,1734.63 1876.56,1725.18 \n",
       "  \"/>\n",
       "<polyline clip-path=\"url(#clip460)\" style=\"stroke:#000000; stroke-linecap:butt; stroke-linejoin:round; stroke-width:4; stroke-opacity:1; fill:none\" points=\"\n",
       "  1991.86,1734.63 1991.86,1725.18 \n",
       "  \"/>\n",
       "<polyline clip-path=\"url(#clip460)\" style=\"stroke:#000000; stroke-linecap:butt; stroke-linejoin:round; stroke-width:4; stroke-opacity:1; fill:none\" points=\"\n",
       "  2222.46,1734.63 2222.46,1725.18 \n",
       "  \"/>\n",
       "<polyline clip-path=\"url(#clip460)\" style=\"stroke:#000000; stroke-linecap:butt; stroke-linejoin:round; stroke-width:4; stroke-opacity:1; fill:none\" points=\"\n",
       "  2337.75,1734.63 2337.75,1725.18 \n",
       "  \"/>\n",
       "<polyline clip-path=\"url(#clip460)\" style=\"stroke:#000000; stroke-linecap:butt; stroke-linejoin:round; stroke-width:4; stroke-opacity:1; fill:none\" points=\"\n",
       "  2453.05,1734.63 2453.05,1725.18 \n",
       "  \"/>\n",
       "<polyline clip-path=\"url(#clip460)\" style=\"stroke:#000000; stroke-linecap:butt; stroke-linejoin:round; stroke-width:4; stroke-opacity:1; fill:none\" points=\"\n",
       "  2568.35,1734.63 2568.35,1725.18 \n",
       "  \"/>\n",
       "<path clip-path=\"url(#clip460)\" d=\"M377.691 1783.4 Q369.566 1783.4 365.451 1791.42 Q361.389 1799.39 361.389 1815.43 Q361.389 1831.42 365.451 1839.44 Q369.566 1847.41 377.691 1847.41 Q385.868 1847.41 389.93 1839.44 Q394.045 1831.42 394.045 1815.43 Q394.045 1799.39 389.93 1791.42 Q385.868 1783.4 377.691 1783.4 M377.691 1775.07 Q390.764 1775.07 397.638 1785.43 Q404.566 1795.74 404.566 1815.43 Q404.566 1835.06 397.638 1845.43 Q390.764 1855.74 377.691 1855.74 Q364.618 1855.74 357.691 1845.43 Q350.816 1835.06 350.816 1815.43 Q350.816 1795.74 357.691 1785.43 Q364.618 1775.07 377.691 1775.07 Z\" fill=\"#000000\" fill-rule=\"evenodd\" fill-opacity=\"1\" /><path clip-path=\"url(#clip460)\" d=\"M872.487 1845.38 L909.206 1845.38 L909.206 1854.23 L859.831 1854.23 L859.831 1845.38 Q865.821 1839.18 876.133 1828.76 Q886.498 1818.29 889.154 1815.27 Q894.206 1809.6 896.185 1805.69 Q898.216 1801.73 898.216 1797.93 Q898.216 1791.73 893.841 1787.83 Q889.518 1783.92 882.539 1783.92 Q877.591 1783.92 872.071 1785.64 Q866.602 1787.36 860.352 1790.85 L860.352 1780.22 Q866.706 1777.67 872.227 1776.37 Q877.748 1775.07 882.331 1775.07 Q894.414 1775.07 901.602 1781.11 Q908.789 1787.15 908.789 1797.25 Q908.789 1802.04 906.966 1806.37 Q905.195 1810.64 900.456 1816.47 Q899.154 1817.98 892.175 1825.22 Q885.196 1832.41 872.487 1845.38 Z\" fill=\"#000000\" fill-rule=\"evenodd\" fill-opacity=\"1\" /><path clip-path=\"url(#clip460)\" d=\"M931.393 1776.47 L972.695 1776.47 L972.695 1785.33 L941.029 1785.33 L941.029 1804.39 Q943.32 1803.61 945.612 1803.24 Q947.904 1802.83 950.195 1802.83 Q963.216 1802.83 970.82 1809.96 Q978.424 1817.1 978.424 1829.28 Q978.424 1841.84 970.612 1848.81 Q962.799 1855.74 948.581 1855.74 Q943.685 1855.74 938.581 1854.91 Q933.529 1854.08 928.112 1852.41 L928.112 1841.84 Q932.8 1844.39 937.799 1845.64 Q942.799 1846.89 948.372 1846.89 Q957.383 1846.89 962.643 1842.15 Q967.903 1837.41 967.903 1829.28 Q967.903 1821.16 962.643 1816.42 Q957.383 1811.68 948.372 1811.68 Q944.154 1811.68 939.935 1812.62 Q935.768 1813.55 931.393 1815.53 L931.393 1776.47 Z\" fill=\"#000000\" fill-rule=\"evenodd\" fill-opacity=\"1\" /><path clip-path=\"url(#clip460)\" d=\"M1021.65 1783.4 Q1013.53 1783.4 1009.41 1791.42 Q1005.35 1799.39 1005.35 1815.43 Q1005.35 1831.42 1009.41 1839.44 Q1013.53 1847.41 1021.65 1847.41 Q1029.83 1847.41 1033.89 1839.44 Q1038.01 1831.42 1038.01 1815.43 Q1038.01 1799.39 1033.89 1791.42 Q1029.83 1783.4 1021.65 1783.4 M1021.65 1775.07 Q1034.73 1775.07 1041.6 1785.43 Q1048.53 1795.74 1048.53 1815.43 Q1048.53 1835.06 1041.6 1845.43 Q1034.73 1855.74 1021.65 1855.74 Q1008.58 1855.74 1001.65 1845.43 Q994.778 1835.06 994.778 1815.43 Q994.778 1795.74 1001.65 1785.43 Q1008.58 1775.07 1021.65 1775.07 Z\" fill=\"#000000\" fill-rule=\"evenodd\" fill-opacity=\"1\" /><path clip-path=\"url(#clip460)\" d=\"M1439.81 1776.47 L1481.11 1776.47 L1481.11 1785.33 L1449.45 1785.33 L1449.45 1804.39 Q1451.74 1803.61 1454.03 1803.24 Q1456.32 1802.83 1458.61 1802.83 Q1471.63 1802.83 1479.24 1809.96 Q1486.84 1817.1 1486.84 1829.28 Q1486.84 1841.84 1479.03 1848.81 Q1471.22 1855.74 1457 1855.74 Q1452.1 1855.74 1447 1854.91 Q1441.95 1854.08 1436.53 1852.41 L1436.53 1841.84 Q1441.22 1844.39 1446.22 1845.64 Q1451.22 1846.89 1456.79 1846.89 Q1465.8 1846.89 1471.06 1842.15 Q1476.32 1837.41 1476.32 1829.28 Q1476.32 1821.16 1471.06 1816.42 Q1465.8 1811.68 1456.79 1811.68 Q1452.57 1811.68 1448.35 1812.62 Q1444.18 1813.55 1439.81 1815.53 L1439.81 1776.47 Z\" fill=\"#000000\" fill-rule=\"evenodd\" fill-opacity=\"1\" /><path clip-path=\"url(#clip460)\" d=\"M1530.07 1783.4 Q1521.94 1783.4 1517.83 1791.42 Q1513.77 1799.39 1513.77 1815.43 Q1513.77 1831.42 1517.83 1839.44 Q1521.94 1847.41 1530.07 1847.41 Q1538.25 1847.41 1542.31 1839.44 Q1546.42 1831.42 1546.42 1815.43 Q1546.42 1799.39 1542.31 1791.42 Q1538.25 1783.4 1530.07 1783.4 M1530.07 1775.07 Q1543.14 1775.07 1550.02 1785.43 Q1556.94 1795.74 1556.94 1815.43 Q1556.94 1835.06 1550.02 1845.43 Q1543.14 1855.74 1530.07 1855.74 Q1517 1855.74 1510.07 1845.43 Q1503.19 1835.06 1503.19 1815.43 Q1503.19 1795.74 1510.07 1785.43 Q1517 1775.07 1530.07 1775.07 Z\" fill=\"#000000\" fill-rule=\"evenodd\" fill-opacity=\"1\" /><path clip-path=\"url(#clip460)\" d=\"M1597.93 1783.4 Q1589.81 1783.4 1585.69 1791.42 Q1581.63 1799.39 1581.63 1815.43 Q1581.63 1831.42 1585.69 1839.44 Q1589.81 1847.41 1597.93 1847.41 Q1606.11 1847.41 1610.17 1839.44 Q1614.29 1831.42 1614.29 1815.43 Q1614.29 1799.39 1610.17 1791.42 Q1606.11 1783.4 1597.93 1783.4 M1597.93 1775.07 Q1611.01 1775.07 1617.88 1785.43 Q1624.81 1795.74 1624.81 1815.43 Q1624.81 1835.06 1617.88 1845.43 Q1611.01 1855.74 1597.93 1855.74 Q1584.86 1855.74 1577.93 1845.43 Q1571.06 1835.06 1571.06 1815.43 Q1571.06 1795.74 1577.93 1785.43 Q1584.86 1775.07 1597.93 1775.07 Z\" fill=\"#000000\" fill-rule=\"evenodd\" fill-opacity=\"1\" /><path clip-path=\"url(#clip460)\" d=\"M2013.28 1776.47 L2063.28 1776.47 L2063.28 1780.95 L2035.05 1854.23 L2024.06 1854.23 L2050.62 1785.33 L2013.28 1785.33 L2013.28 1776.47 Z\" fill=\"#000000\" fill-rule=\"evenodd\" fill-opacity=\"1\" /><path clip-path=\"url(#clip460)\" d=\"M2083.9 1776.47 L2125.2 1776.47 L2125.2 1785.33 L2093.54 1785.33 L2093.54 1804.39 Q2095.83 1803.61 2098.12 1803.24 Q2100.41 1802.83 2102.7 1802.83 Q2115.73 1802.83 2123.33 1809.96 Q2130.93 1817.1 2130.93 1829.28 Q2130.93 1841.84 2123.12 1848.81 Q2115.31 1855.74 2101.09 1855.74 Q2096.19 1855.74 2091.09 1854.91 Q2086.04 1854.08 2080.62 1852.41 L2080.62 1841.84 Q2085.31 1844.39 2090.31 1845.64 Q2095.31 1846.89 2100.88 1846.89 Q2109.89 1846.89 2115.15 1842.15 Q2120.41 1837.41 2120.41 1829.28 Q2120.41 1821.16 2115.15 1816.42 Q2109.89 1811.68 2100.88 1811.68 Q2096.66 1811.68 2092.44 1812.62 Q2088.28 1813.55 2083.9 1815.53 L2083.9 1776.47 Z\" fill=\"#000000\" fill-rule=\"evenodd\" fill-opacity=\"1\" /><path clip-path=\"url(#clip460)\" d=\"M2174.16 1783.4 Q2166.04 1783.4 2161.92 1791.42 Q2157.86 1799.39 2157.86 1815.43 Q2157.86 1831.42 2161.92 1839.44 Q2166.04 1847.41 2174.16 1847.41 Q2182.34 1847.41 2186.4 1839.44 Q2190.52 1831.42 2190.52 1815.43 Q2190.52 1799.39 2186.4 1791.42 Q2182.34 1783.4 2174.16 1783.4 M2174.16 1775.07 Q2187.24 1775.07 2194.11 1785.43 Q2201.04 1795.74 2201.04 1815.43 Q2201.04 1835.06 2194.11 1845.43 Q2187.24 1855.74 2174.16 1855.74 Q2161.09 1855.74 2154.16 1845.43 Q2147.29 1835.06 2147.29 1815.43 Q2147.29 1795.74 2154.16 1785.43 Q2161.09 1775.07 2174.16 1775.07 Z\" fill=\"#000000\" fill-rule=\"evenodd\" fill-opacity=\"1\" /><path clip-path=\"url(#clip460)\" d=\"M2558.83 1845.38 L2576.02 1845.38 L2576.02 1786.05 L2557.32 1789.8 L2557.32 1780.22 L2575.91 1776.47 L2586.43 1776.47 L2586.43 1845.38 L2603.62 1845.38 L2603.62 1854.23 L2558.83 1854.23 L2558.83 1845.38 Z\" fill=\"#000000\" fill-rule=\"evenodd\" fill-opacity=\"1\" /><path clip-path=\"url(#clip460)\" d=\"M2647.37 1783.4 Q2639.25 1783.4 2635.13 1791.42 Q2631.07 1799.39 2631.07 1815.43 Q2631.07 1831.42 2635.13 1839.44 Q2639.25 1847.41 2647.37 1847.41 Q2655.55 1847.41 2659.61 1839.44 Q2663.72 1831.42 2663.72 1815.43 Q2663.72 1799.39 2659.61 1791.42 Q2655.55 1783.4 2647.37 1783.4 M2647.37 1775.07 Q2660.44 1775.07 2667.32 1785.43 Q2674.25 1795.74 2674.25 1815.43 Q2674.25 1835.06 2667.32 1845.43 Q2660.44 1855.74 2647.37 1855.74 Q2634.3 1855.74 2627.37 1845.43 Q2620.5 1835.06 2620.5 1815.43 Q2620.5 1795.74 2627.37 1785.43 Q2634.3 1775.07 2647.37 1775.07 Z\" fill=\"#000000\" fill-rule=\"evenodd\" fill-opacity=\"1\" /><path clip-path=\"url(#clip460)\" d=\"M2715.23 1783.4 Q2707.11 1783.4 2703 1791.42 Q2698.93 1799.39 2698.93 1815.43 Q2698.93 1831.42 2703 1839.44 Q2707.11 1847.41 2715.23 1847.41 Q2723.41 1847.41 2727.47 1839.44 Q2731.59 1831.42 2731.59 1815.43 Q2731.59 1799.39 2727.47 1791.42 Q2723.41 1783.4 2715.23 1783.4 M2715.23 1775.07 Q2728.31 1775.07 2735.18 1785.43 Q2742.11 1795.74 2742.11 1815.43 Q2742.11 1835.06 2735.18 1845.43 Q2728.31 1855.74 2715.23 1855.74 Q2702.16 1855.74 2695.23 1845.43 Q2688.36 1835.06 2688.36 1815.43 Q2688.36 1795.74 2695.23 1785.43 Q2702.16 1775.07 2715.23 1775.07 Z\" fill=\"#000000\" fill-rule=\"evenodd\" fill-opacity=\"1\" /><path clip-path=\"url(#clip460)\" d=\"M2783.1 1783.4 Q2774.97 1783.4 2770.86 1791.42 Q2766.8 1799.39 2766.8 1815.43 Q2766.8 1831.42 2770.86 1839.44 Q2774.97 1847.41 2783.1 1847.41 Q2791.28 1847.41 2795.34 1839.44 Q2799.45 1831.42 2799.45 1815.43 Q2799.45 1799.39 2795.34 1791.42 Q2791.28 1783.4 2783.1 1783.4 M2783.1 1775.07 Q2796.17 1775.07 2803.05 1785.43 Q2809.97 1795.74 2809.97 1815.43 Q2809.97 1835.06 2803.05 1845.43 Q2796.17 1855.74 2783.1 1855.74 Q2770.03 1855.74 2763.1 1845.43 Q2756.22 1835.06 2756.22 1815.43 Q2756.22 1795.74 2763.1 1785.43 Q2770.03 1775.07 2783.1 1775.07 Z\" fill=\"#000000\" fill-rule=\"evenodd\" fill-opacity=\"1\" /><path clip-path=\"url(#clip460)\" d=\"M1348.57 1908.82 L1397.73 1908.82 L1397.73 1917.68 L1359.09 1917.68 L1359.09 1940.7 L1396.12 1940.7 L1396.12 1949.55 L1359.09 1949.55 L1359.09 1977.73 L1398.67 1977.73 L1398.67 1986.58 L1348.57 1986.58 L1348.57 1908.82 Z\" fill=\"#000000\" fill-rule=\"evenodd\" fill-opacity=\"1\" /><path clip-path=\"url(#clip460)\" d=\"M1424.82 1977.83 L1424.82 2008.77 L1415.18 2008.77 L1415.18 1928.25 L1424.82 1928.25 L1424.82 1937.1 Q1427.84 1931.9 1432.42 1929.4 Q1437.06 1926.84 1443.46 1926.84 Q1454.09 1926.84 1460.7 1935.28 Q1467.37 1943.72 1467.37 1957.47 Q1467.37 1971.22 1460.7 1979.66 Q1454.09 1988.09 1443.46 1988.09 Q1437.06 1988.09 1432.42 1985.59 Q1427.84 1983.04 1424.82 1977.83 M1457.42 1957.47 Q1457.42 1946.9 1453.05 1940.91 Q1448.72 1934.86 1441.12 1934.86 Q1433.51 1934.86 1429.14 1940.91 Q1424.82 1946.9 1424.82 1957.47 Q1424.82 1968.04 1429.14 1974.08 Q1433.51 1980.07 1441.12 1980.07 Q1448.72 1980.07 1453.05 1974.08 Q1457.42 1968.04 1457.42 1957.47 Z\" fill=\"#000000\" fill-rule=\"evenodd\" fill-opacity=\"1\" /><path clip-path=\"url(#clip460)\" d=\"M1505.86 1934.97 Q1498.15 1934.97 1493.67 1941.01 Q1489.19 1947 1489.19 1957.47 Q1489.19 1967.94 1493.62 1973.98 Q1498.1 1979.97 1505.86 1979.97 Q1513.51 1979.97 1517.99 1973.93 Q1522.47 1967.89 1522.47 1957.47 Q1522.47 1947.1 1517.99 1941.06 Q1513.51 1934.97 1505.86 1934.97 M1505.86 1926.84 Q1518.36 1926.84 1525.49 1934.97 Q1532.63 1943.09 1532.63 1957.47 Q1532.63 1971.79 1525.49 1979.97 Q1518.36 1988.09 1505.86 1988.09 Q1493.31 1988.09 1486.17 1979.97 Q1479.09 1971.79 1479.09 1957.47 Q1479.09 1943.09 1486.17 1934.97 Q1493.31 1926.84 1505.86 1926.84 Z\" fill=\"#000000\" fill-rule=\"evenodd\" fill-opacity=\"1\" /><path clip-path=\"url(#clip460)\" d=\"M1590.49 1930.49 L1590.49 1939.45 Q1586.43 1937.21 1582.32 1936.11 Q1578.25 1934.97 1574.09 1934.97 Q1564.76 1934.97 1559.61 1940.91 Q1554.45 1946.79 1554.45 1957.47 Q1554.45 1968.15 1559.61 1974.08 Q1564.76 1979.97 1574.09 1979.97 Q1578.25 1979.97 1582.32 1978.87 Q1586.43 1977.73 1590.49 1975.49 L1590.49 1984.34 Q1586.48 1986.22 1582.16 1987.16 Q1577.89 1988.09 1573.05 1988.09 Q1559.87 1988.09 1552.11 1979.81 Q1544.35 1971.53 1544.35 1957.47 Q1544.35 1943.2 1552.16 1935.02 Q1560.02 1926.84 1573.67 1926.84 Q1578.1 1926.84 1582.32 1927.78 Q1586.53 1928.67 1590.49 1930.49 Z\" fill=\"#000000\" fill-rule=\"evenodd\" fill-opacity=\"1\" /><path clip-path=\"url(#clip460)\" d=\"M1655.65 1951.38 L1655.65 1986.58 L1646.07 1986.58 L1646.07 1951.69 Q1646.07 1943.41 1642.84 1939.29 Q1639.61 1935.18 1633.15 1935.18 Q1625.39 1935.18 1620.91 1940.13 Q1616.43 1945.07 1616.43 1953.61 L1616.43 1986.58 L1606.8 1986.58 L1606.8 1905.54 L1616.43 1905.54 L1616.43 1937.31 Q1619.87 1932.05 1624.5 1929.45 Q1629.19 1926.84 1635.28 1926.84 Q1645.34 1926.84 1650.49 1933.09 Q1655.65 1939.29 1655.65 1951.38 Z\" fill=\"#000000\" fill-rule=\"evenodd\" fill-opacity=\"1\" /><path clip-path=\"url(#clip460)\" d=\"M1711.95 1929.97 L1711.95 1939.03 Q1707.89 1936.95 1703.51 1935.91 Q1699.14 1934.86 1694.45 1934.86 Q1687.32 1934.86 1683.72 1937.05 Q1680.18 1939.24 1680.18 1943.61 Q1680.18 1946.95 1682.73 1948.88 Q1685.28 1950.75 1692.99 1952.47 L1696.27 1953.2 Q1706.48 1955.39 1710.75 1959.4 Q1715.08 1963.35 1715.08 1970.49 Q1715.08 1978.61 1708.62 1983.35 Q1702.21 1988.09 1690.96 1988.09 Q1686.27 1988.09 1681.17 1987.16 Q1676.12 1986.27 1670.49 1984.45 L1670.49 1974.55 Q1675.81 1977.31 1680.96 1978.72 Q1686.12 1980.07 1691.17 1980.07 Q1697.94 1980.07 1701.59 1977.78 Q1705.23 1975.44 1705.23 1971.22 Q1705.23 1967.31 1702.58 1965.23 Q1699.97 1963.15 1691.07 1961.22 L1687.73 1960.44 Q1678.83 1958.56 1674.87 1954.71 Q1670.91 1950.8 1670.91 1944.03 Q1670.91 1935.8 1676.74 1931.32 Q1682.58 1926.84 1693.31 1926.84 Q1698.62 1926.84 1703.3 1927.63 Q1707.99 1928.41 1711.95 1929.97 Z\" fill=\"#000000\" fill-rule=\"evenodd\" fill-opacity=\"1\" /><polyline clip-path=\"url(#clip462)\" style=\"stroke:#000000; stroke-linecap:butt; stroke-linejoin:round; stroke-width:2; stroke-opacity:0.1; fill:none\" points=\"\n",
       "  310.887,1591.44 2752.76,1591.44 \n",
       "  \"/>\n",
       "<polyline clip-path=\"url(#clip462)\" style=\"stroke:#000000; stroke-linecap:butt; stroke-linejoin:round; stroke-width:2; stroke-opacity:0.1; fill:none\" points=\"\n",
       "  310.887,1236.08 2752.76,1236.08 \n",
       "  \"/>\n",
       "<polyline clip-path=\"url(#clip462)\" style=\"stroke:#000000; stroke-linecap:butt; stroke-linejoin:round; stroke-width:2; stroke-opacity:0.1; fill:none\" points=\"\n",
       "  310.887,880.732 2752.76,880.732 \n",
       "  \"/>\n",
       "<polyline clip-path=\"url(#clip462)\" style=\"stroke:#000000; stroke-linecap:butt; stroke-linejoin:round; stroke-width:2; stroke-opacity:0.1; fill:none\" points=\"\n",
       "  310.887,525.379 2752.76,525.379 \n",
       "  \"/>\n",
       "<polyline clip-path=\"url(#clip462)\" style=\"stroke:#000000; stroke-linecap:butt; stroke-linejoin:round; stroke-width:2; stroke-opacity:0.1; fill:none\" points=\"\n",
       "  310.887,170.027 2752.76,170.027 \n",
       "  \"/>\n",
       "<polyline clip-path=\"url(#clip462)\" style=\"stroke:#000000; stroke-linecap:butt; stroke-linejoin:round; stroke-width:2; stroke-opacity:0.05; fill:none\" points=\"\n",
       "  310.887,1733.58 2752.76,1733.58 \n",
       "  \"/>\n",
       "<polyline clip-path=\"url(#clip462)\" style=\"stroke:#000000; stroke-linecap:butt; stroke-linejoin:round; stroke-width:2; stroke-opacity:0.05; fill:none\" points=\"\n",
       "  310.887,1662.51 2752.76,1662.51 \n",
       "  \"/>\n",
       "<polyline clip-path=\"url(#clip462)\" style=\"stroke:#000000; stroke-linecap:butt; stroke-linejoin:round; stroke-width:2; stroke-opacity:0.05; fill:none\" points=\"\n",
       "  310.887,1520.37 2752.76,1520.37 \n",
       "  \"/>\n",
       "<polyline clip-path=\"url(#clip462)\" style=\"stroke:#000000; stroke-linecap:butt; stroke-linejoin:round; stroke-width:2; stroke-opacity:0.05; fill:none\" points=\"\n",
       "  310.887,1449.3 2752.76,1449.3 \n",
       "  \"/>\n",
       "<polyline clip-path=\"url(#clip462)\" style=\"stroke:#000000; stroke-linecap:butt; stroke-linejoin:round; stroke-width:2; stroke-opacity:0.05; fill:none\" points=\"\n",
       "  310.887,1378.23 2752.76,1378.23 \n",
       "  \"/>\n",
       "<polyline clip-path=\"url(#clip462)\" style=\"stroke:#000000; stroke-linecap:butt; stroke-linejoin:round; stroke-width:2; stroke-opacity:0.05; fill:none\" points=\"\n",
       "  310.887,1307.15 2752.76,1307.15 \n",
       "  \"/>\n",
       "<polyline clip-path=\"url(#clip462)\" style=\"stroke:#000000; stroke-linecap:butt; stroke-linejoin:round; stroke-width:2; stroke-opacity:0.05; fill:none\" points=\"\n",
       "  310.887,1165.01 2752.76,1165.01 \n",
       "  \"/>\n",
       "<polyline clip-path=\"url(#clip462)\" style=\"stroke:#000000; stroke-linecap:butt; stroke-linejoin:round; stroke-width:2; stroke-opacity:0.05; fill:none\" points=\"\n",
       "  310.887,1093.94 2752.76,1093.94 \n",
       "  \"/>\n",
       "<polyline clip-path=\"url(#clip462)\" style=\"stroke:#000000; stroke-linecap:butt; stroke-linejoin:round; stroke-width:2; stroke-opacity:0.05; fill:none\" points=\"\n",
       "  310.887,1022.87 2752.76,1022.87 \n",
       "  \"/>\n",
       "<polyline clip-path=\"url(#clip462)\" style=\"stroke:#000000; stroke-linecap:butt; stroke-linejoin:round; stroke-width:2; stroke-opacity:0.05; fill:none\" points=\"\n",
       "  310.887,951.802 2752.76,951.802 \n",
       "  \"/>\n",
       "<polyline clip-path=\"url(#clip462)\" style=\"stroke:#000000; stroke-linecap:butt; stroke-linejoin:round; stroke-width:2; stroke-opacity:0.05; fill:none\" points=\"\n",
       "  310.887,809.661 2752.76,809.661 \n",
       "  \"/>\n",
       "<polyline clip-path=\"url(#clip462)\" style=\"stroke:#000000; stroke-linecap:butt; stroke-linejoin:round; stroke-width:2; stroke-opacity:0.05; fill:none\" points=\"\n",
       "  310.887,738.591 2752.76,738.591 \n",
       "  \"/>\n",
       "<polyline clip-path=\"url(#clip462)\" style=\"stroke:#000000; stroke-linecap:butt; stroke-linejoin:round; stroke-width:2; stroke-opacity:0.05; fill:none\" points=\"\n",
       "  310.887,667.52 2752.76,667.52 \n",
       "  \"/>\n",
       "<polyline clip-path=\"url(#clip462)\" style=\"stroke:#000000; stroke-linecap:butt; stroke-linejoin:round; stroke-width:2; stroke-opacity:0.05; fill:none\" points=\"\n",
       "  310.887,596.45 2752.76,596.45 \n",
       "  \"/>\n",
       "<polyline clip-path=\"url(#clip462)\" style=\"stroke:#000000; stroke-linecap:butt; stroke-linejoin:round; stroke-width:2; stroke-opacity:0.05; fill:none\" points=\"\n",
       "  310.887,454.309 2752.76,454.309 \n",
       "  \"/>\n",
       "<polyline clip-path=\"url(#clip462)\" style=\"stroke:#000000; stroke-linecap:butt; stroke-linejoin:round; stroke-width:2; stroke-opacity:0.05; fill:none\" points=\"\n",
       "  310.887,383.238 2752.76,383.238 \n",
       "  \"/>\n",
       "<polyline clip-path=\"url(#clip462)\" style=\"stroke:#000000; stroke-linecap:butt; stroke-linejoin:round; stroke-width:2; stroke-opacity:0.05; fill:none\" points=\"\n",
       "  310.887,312.168 2752.76,312.168 \n",
       "  \"/>\n",
       "<polyline clip-path=\"url(#clip462)\" style=\"stroke:#000000; stroke-linecap:butt; stroke-linejoin:round; stroke-width:2; stroke-opacity:0.05; fill:none\" points=\"\n",
       "  310.887,241.097 2752.76,241.097 \n",
       "  \"/>\n",
       "<polyline clip-path=\"url(#clip460)\" style=\"stroke:#000000; stroke-linecap:butt; stroke-linejoin:round; stroke-width:4; stroke-opacity:1; fill:none\" points=\"\n",
       "  310.887,1734.63 310.887,155.564 \n",
       "  \"/>\n",
       "<polyline clip-path=\"url(#clip460)\" style=\"stroke:#000000; stroke-linecap:butt; stroke-linejoin:round; stroke-width:4; stroke-opacity:1; fill:none\" points=\"\n",
       "  310.887,1591.44 329.785,1591.44 \n",
       "  \"/>\n",
       "<polyline clip-path=\"url(#clip460)\" style=\"stroke:#000000; stroke-linecap:butt; stroke-linejoin:round; stroke-width:4; stroke-opacity:1; fill:none\" points=\"\n",
       "  310.887,1236.08 329.785,1236.08 \n",
       "  \"/>\n",
       "<polyline clip-path=\"url(#clip460)\" style=\"stroke:#000000; stroke-linecap:butt; stroke-linejoin:round; stroke-width:4; stroke-opacity:1; fill:none\" points=\"\n",
       "  310.887,880.732 329.785,880.732 \n",
       "  \"/>\n",
       "<polyline clip-path=\"url(#clip460)\" style=\"stroke:#000000; stroke-linecap:butt; stroke-linejoin:round; stroke-width:4; stroke-opacity:1; fill:none\" points=\"\n",
       "  310.887,525.379 329.785,525.379 \n",
       "  \"/>\n",
       "<polyline clip-path=\"url(#clip460)\" style=\"stroke:#000000; stroke-linecap:butt; stroke-linejoin:round; stroke-width:4; stroke-opacity:1; fill:none\" points=\"\n",
       "  310.887,170.027 329.785,170.027 \n",
       "  \"/>\n",
       "<polyline clip-path=\"url(#clip460)\" style=\"stroke:#000000; stroke-linecap:butt; stroke-linejoin:round; stroke-width:4; stroke-opacity:1; fill:none\" points=\"\n",
       "  310.887,1733.58 320.336,1733.58 \n",
       "  \"/>\n",
       "<polyline clip-path=\"url(#clip460)\" style=\"stroke:#000000; stroke-linecap:butt; stroke-linejoin:round; stroke-width:4; stroke-opacity:1; fill:none\" points=\"\n",
       "  310.887,1662.51 320.336,1662.51 \n",
       "  \"/>\n",
       "<polyline clip-path=\"url(#clip460)\" style=\"stroke:#000000; stroke-linecap:butt; stroke-linejoin:round; stroke-width:4; stroke-opacity:1; fill:none\" points=\"\n",
       "  310.887,1520.37 320.336,1520.37 \n",
       "  \"/>\n",
       "<polyline clip-path=\"url(#clip460)\" style=\"stroke:#000000; stroke-linecap:butt; stroke-linejoin:round; stroke-width:4; stroke-opacity:1; fill:none\" points=\"\n",
       "  310.887,1449.3 320.336,1449.3 \n",
       "  \"/>\n",
       "<polyline clip-path=\"url(#clip460)\" style=\"stroke:#000000; stroke-linecap:butt; stroke-linejoin:round; stroke-width:4; stroke-opacity:1; fill:none\" points=\"\n",
       "  310.887,1378.23 320.336,1378.23 \n",
       "  \"/>\n",
       "<polyline clip-path=\"url(#clip460)\" style=\"stroke:#000000; stroke-linecap:butt; stroke-linejoin:round; stroke-width:4; stroke-opacity:1; fill:none\" points=\"\n",
       "  310.887,1307.15 320.336,1307.15 \n",
       "  \"/>\n",
       "<polyline clip-path=\"url(#clip460)\" style=\"stroke:#000000; stroke-linecap:butt; stroke-linejoin:round; stroke-width:4; stroke-opacity:1; fill:none\" points=\"\n",
       "  310.887,1165.01 320.336,1165.01 \n",
       "  \"/>\n",
       "<polyline clip-path=\"url(#clip460)\" style=\"stroke:#000000; stroke-linecap:butt; stroke-linejoin:round; stroke-width:4; stroke-opacity:1; fill:none\" points=\"\n",
       "  310.887,1093.94 320.336,1093.94 \n",
       "  \"/>\n",
       "<polyline clip-path=\"url(#clip460)\" style=\"stroke:#000000; stroke-linecap:butt; stroke-linejoin:round; stroke-width:4; stroke-opacity:1; fill:none\" points=\"\n",
       "  310.887,1022.87 320.336,1022.87 \n",
       "  \"/>\n",
       "<polyline clip-path=\"url(#clip460)\" style=\"stroke:#000000; stroke-linecap:butt; stroke-linejoin:round; stroke-width:4; stroke-opacity:1; fill:none\" points=\"\n",
       "  310.887,951.802 320.336,951.802 \n",
       "  \"/>\n",
       "<polyline clip-path=\"url(#clip460)\" style=\"stroke:#000000; stroke-linecap:butt; stroke-linejoin:round; stroke-width:4; stroke-opacity:1; fill:none\" points=\"\n",
       "  310.887,809.661 320.336,809.661 \n",
       "  \"/>\n",
       "<polyline clip-path=\"url(#clip460)\" style=\"stroke:#000000; stroke-linecap:butt; stroke-linejoin:round; stroke-width:4; stroke-opacity:1; fill:none\" points=\"\n",
       "  310.887,738.591 320.336,738.591 \n",
       "  \"/>\n",
       "<polyline clip-path=\"url(#clip460)\" style=\"stroke:#000000; stroke-linecap:butt; stroke-linejoin:round; stroke-width:4; stroke-opacity:1; fill:none\" points=\"\n",
       "  310.887,667.52 320.336,667.52 \n",
       "  \"/>\n",
       "<polyline clip-path=\"url(#clip460)\" style=\"stroke:#000000; stroke-linecap:butt; stroke-linejoin:round; stroke-width:4; stroke-opacity:1; fill:none\" points=\"\n",
       "  310.887,596.45 320.336,596.45 \n",
       "  \"/>\n",
       "<polyline clip-path=\"url(#clip460)\" style=\"stroke:#000000; stroke-linecap:butt; stroke-linejoin:round; stroke-width:4; stroke-opacity:1; fill:none\" points=\"\n",
       "  310.887,454.309 320.336,454.309 \n",
       "  \"/>\n",
       "<polyline clip-path=\"url(#clip460)\" style=\"stroke:#000000; stroke-linecap:butt; stroke-linejoin:round; stroke-width:4; stroke-opacity:1; fill:none\" points=\"\n",
       "  310.887,383.238 320.336,383.238 \n",
       "  \"/>\n",
       "<polyline clip-path=\"url(#clip460)\" style=\"stroke:#000000; stroke-linecap:butt; stroke-linejoin:round; stroke-width:4; stroke-opacity:1; fill:none\" points=\"\n",
       "  310.887,312.168 320.336,312.168 \n",
       "  \"/>\n",
       "<polyline clip-path=\"url(#clip460)\" style=\"stroke:#000000; stroke-linecap:butt; stroke-linejoin:round; stroke-width:4; stroke-opacity:1; fill:none\" points=\"\n",
       "  310.887,241.097 320.336,241.097 \n",
       "  \"/>\n",
       "<path clip-path=\"url(#clip460)\" d=\"M153.471 1621.46 L170.658 1621.46 L170.658 1562.14 L151.961 1565.89 L151.961 1556.31 L170.554 1552.56 L181.075 1552.56 L181.075 1621.46 L198.263 1621.46 L198.263 1630.32 L153.471 1630.32 L153.471 1621.46 Z\" fill=\"#000000\" fill-rule=\"evenodd\" fill-opacity=\"1\" /><path clip-path=\"url(#clip460)\" d=\"M242.012 1559.48 Q233.887 1559.48 229.773 1567.5 Q225.71 1575.47 225.71 1591.51 Q225.71 1607.5 229.773 1615.53 Q233.887 1623.49 242.012 1623.49 Q250.189 1623.49 254.252 1615.53 Q258.366 1607.5 258.366 1591.51 Q258.366 1575.47 254.252 1567.5 Q250.189 1559.48 242.012 1559.48 M242.012 1551.15 Q255.085 1551.15 261.96 1561.52 Q268.887 1571.83 268.887 1591.51 Q268.887 1611.15 261.96 1621.51 Q255.085 1631.83 242.012 1631.83 Q228.939 1631.83 222.012 1621.51 Q215.137 1611.15 215.137 1591.51 Q215.137 1571.83 222.012 1561.52 Q228.939 1551.15 242.012 1551.15 Z\" fill=\"#000000\" fill-rule=\"evenodd\" fill-opacity=\"1\" /><path clip-path=\"url(#clip460)\" d=\"M155.711 1266.11 L172.898 1266.11 L172.898 1206.79 L154.2 1210.54 L154.2 1200.95 L172.794 1197.2 L183.315 1197.2 L183.315 1266.11 L200.502 1266.11 L200.502 1274.96 L155.711 1274.96 L155.711 1266.11 Z\" fill=\"#000000\" fill-rule=\"evenodd\" fill-opacity=\"1\" /><path clip-path=\"url(#clip460)\" d=\"M221.856 1197.2 L263.158 1197.2 L263.158 1206.06 L231.491 1206.06 L231.491 1225.12 Q233.783 1224.34 236.075 1223.97 Q238.366 1223.56 240.658 1223.56 Q253.679 1223.56 261.283 1230.69 Q268.887 1237.83 268.887 1250.02 Q268.887 1262.57 261.075 1269.55 Q253.262 1276.47 239.044 1276.47 Q234.148 1276.47 229.044 1275.64 Q223.992 1274.81 218.575 1273.14 L218.575 1262.57 Q223.262 1265.12 228.262 1266.37 Q233.262 1267.62 238.835 1267.62 Q247.846 1267.62 253.106 1262.88 Q258.366 1258.14 258.366 1250.02 Q258.366 1241.89 253.106 1237.15 Q247.846 1232.41 238.835 1232.41 Q234.616 1232.41 230.398 1233.35 Q226.231 1234.29 221.856 1236.27 L221.856 1197.2 Z\" fill=\"#000000\" fill-rule=\"evenodd\" fill-opacity=\"1\" /><path clip-path=\"url(#clip460)\" d=\"M160.711 910.758 L197.429 910.758 L197.429 919.612 L148.054 919.612 L148.054 910.758 Q154.044 904.56 164.356 894.143 Q174.721 883.674 177.377 880.654 Q182.429 874.977 184.408 871.07 Q186.44 867.112 186.44 863.31 Q186.44 857.112 182.065 853.206 Q177.742 849.3 170.763 849.3 Q165.815 849.3 160.294 851.018 Q154.825 852.737 148.575 856.227 L148.575 845.602 Q154.929 843.05 160.45 841.748 Q165.971 840.445 170.554 840.445 Q182.638 840.445 189.825 846.487 Q197.013 852.529 197.013 862.633 Q197.013 867.424 195.19 871.747 Q193.419 876.018 188.679 881.852 Q187.377 883.362 180.398 890.601 Q173.419 897.789 160.711 910.758 Z\" fill=\"#000000\" fill-rule=\"evenodd\" fill-opacity=\"1\" /><path clip-path=\"url(#clip460)\" d=\"M242.012 848.779 Q233.887 848.779 229.773 856.8 Q225.71 864.768 225.71 880.81 Q225.71 896.799 229.773 904.82 Q233.887 912.789 242.012 912.789 Q250.189 912.789 254.252 904.82 Q258.366 896.799 258.366 880.81 Q258.366 864.768 254.252 856.8 Q250.189 848.779 242.012 848.779 M242.012 840.445 Q255.085 840.445 261.96 850.81 Q268.887 861.122 268.887 880.81 Q268.887 900.445 261.96 910.81 Q255.085 921.122 242.012 921.122 Q228.939 921.122 222.012 910.81 Q215.137 900.445 215.137 880.81 Q215.137 861.122 222.012 850.81 Q228.939 840.445 242.012 840.445 Z\" fill=\"#000000\" fill-rule=\"evenodd\" fill-opacity=\"1\" /><path clip-path=\"url(#clip460)\" d=\"M162.95 555.405 L199.669 555.405 L199.669 564.259 L150.294 564.259 L150.294 555.405 Q156.284 549.207 166.596 538.791 Q176.961 528.322 179.617 525.301 Q184.669 519.624 186.648 515.718 Q188.679 511.759 188.679 507.957 Q188.679 501.759 184.304 497.853 Q179.981 493.947 173.002 493.947 Q168.054 493.947 162.534 495.666 Q157.065 497.385 150.815 500.874 L150.815 490.249 Q157.169 487.697 162.69 486.395 Q168.211 485.093 172.794 485.093 Q184.877 485.093 192.065 491.135 Q199.252 497.176 199.252 507.28 Q199.252 512.072 197.429 516.395 Q195.658 520.666 190.919 526.499 Q189.617 528.009 182.638 535.249 Q175.658 542.436 162.95 555.405 Z\" fill=\"#000000\" fill-rule=\"evenodd\" fill-opacity=\"1\" /><path clip-path=\"url(#clip460)\" d=\"M221.856 486.499 L263.158 486.499 L263.158 495.353 L231.491 495.353 L231.491 514.416 Q233.783 513.634 236.075 513.27 Q238.366 512.853 240.658 512.853 Q253.679 512.853 261.283 519.989 Q268.887 527.124 268.887 539.311 Q268.887 551.863 261.075 558.843 Q253.262 565.77 239.044 565.77 Q234.148 565.77 229.044 564.936 Q223.992 564.103 218.575 562.436 L218.575 551.863 Q223.262 554.415 228.262 555.665 Q233.262 556.915 238.835 556.915 Q247.846 556.915 253.106 552.176 Q258.366 547.436 258.366 539.311 Q258.366 531.186 253.106 526.447 Q247.846 521.707 238.835 521.707 Q234.616 521.707 230.398 522.645 Q226.231 523.582 221.856 525.561 L221.856 486.499 Z\" fill=\"#000000\" fill-rule=\"evenodd\" fill-opacity=\"1\" /><path clip-path=\"url(#clip460)\" d=\"M183.523 166.98 Q191.075 168.594 195.294 173.698 Q199.565 178.803 199.565 186.303 Q199.565 197.813 191.648 204.115 Q183.731 210.417 169.148 210.417 Q164.252 210.417 159.044 209.427 Q153.888 208.49 148.367 206.563 L148.367 196.407 Q152.742 198.959 157.95 200.261 Q163.159 201.563 168.836 201.563 Q178.731 201.563 183.888 197.657 Q189.096 193.75 189.096 186.303 Q189.096 179.428 184.252 175.573 Q179.461 171.667 170.867 171.667 L161.804 171.667 L161.804 163.021 L171.283 163.021 Q179.044 163.021 183.158 159.949 Q187.273 156.824 187.273 150.99 Q187.273 145.001 183.002 141.824 Q178.783 138.594 170.867 138.594 Q166.544 138.594 161.596 139.532 Q156.648 140.469 150.711 142.449 L150.711 133.074 Q156.7 131.407 161.909 130.574 Q167.169 129.74 171.804 129.74 Q183.783 129.74 190.763 135.209 Q197.742 140.626 197.742 149.896 Q197.742 156.355 194.044 160.834 Q190.346 165.261 183.523 166.98 Z\" fill=\"#000000\" fill-rule=\"evenodd\" fill-opacity=\"1\" /><path clip-path=\"url(#clip460)\" d=\"M242.012 138.074 Q233.887 138.074 229.773 146.094 Q225.71 154.063 225.71 170.105 Q225.71 186.094 229.773 194.115 Q233.887 202.084 242.012 202.084 Q250.189 202.084 254.252 194.115 Q258.366 186.094 258.366 170.105 Q258.366 154.063 254.252 146.094 Q250.189 138.074 242.012 138.074 M242.012 129.74 Q255.085 129.74 261.96 140.105 Q268.887 150.417 268.887 170.105 Q268.887 189.74 261.96 200.105 Q255.085 210.417 242.012 210.417 Q228.939 210.417 222.012 200.105 Q215.137 189.74 215.137 170.105 Q215.137 150.417 222.012 140.105 Q228.939 129.74 242.012 129.74 Z\" fill=\"#000000\" fill-rule=\"evenodd\" fill-opacity=\"1\" /><path clip-path=\"url(#clip460)\" d=\"M4.96644 1054.24 L4.96644 1043.72 L73.8723 1043.72 L73.8723 1005.85 L82.7264 1005.85 L82.7264 1054.24 L4.96644 1054.24 Z\" fill=\"#000000\" fill-rule=\"evenodd\" fill-opacity=\"1\" /><path clip-path=\"url(#clip460)\" d=\"M31.1121 974.498 Q31.1121 982.207 37.1538 986.686 Q43.1433 991.165 53.612 991.165 Q64.0807 991.165 70.1223 986.738 Q76.1119 982.259 76.1119 974.498 Q76.1119 966.842 70.0703 962.363 Q64.0286 957.884 53.612 957.884 Q43.2475 957.884 37.2059 962.363 Q31.1121 966.842 31.1121 974.498 M22.9872 974.498 Q22.9872 961.998 31.1121 954.863 Q39.2371 947.728 53.612 947.728 Q67.9349 947.728 76.1119 954.863 Q84.2369 961.998 84.2369 974.498 Q84.2369 987.05 76.1119 994.186 Q67.9349 1001.27 53.612 1001.27 Q39.2371 1001.27 31.1121 994.186 Q22.9872 987.05 22.9872 974.498 Z\" fill=\"#000000\" fill-rule=\"evenodd\" fill-opacity=\"1\" /><path clip-path=\"url(#clip460)\" d=\"M26.1122 894.655 L35.1746 894.655 Q33.0913 898.717 32.0496 903.092 Q31.008 907.467 31.008 912.155 Q31.008 919.29 33.1955 922.884 Q35.3829 926.426 39.7579 926.426 Q43.0912 926.426 45.0183 923.874 Q46.8933 921.321 48.612 913.613 L49.3412 910.332 Q51.5287 900.124 55.5391 895.853 Q59.4974 891.53 66.6328 891.53 Q74.7577 891.53 79.4973 897.988 Q84.2369 904.395 84.2369 915.644 Q84.2369 920.332 83.2994 925.436 Q82.4139 930.488 80.591 936.113 L70.6953 936.113 Q73.4557 930.801 74.8619 925.644 Q76.2161 920.488 76.2161 915.436 Q76.2161 908.665 73.9244 905.02 Q71.5807 901.374 67.3619 901.374 Q63.4557 901.374 61.3724 904.03 Q59.2891 906.634 57.362 915.54 L56.5807 918.874 Q54.7058 927.78 50.8516 931.738 Q46.9454 935.696 40.1746 935.696 Q31.9455 935.696 27.4663 929.863 Q22.9872 924.03 22.9872 913.301 Q22.9872 907.988 23.7684 903.301 Q24.5497 898.613 26.1122 894.655 Z\" fill=\"#000000\" fill-rule=\"evenodd\" fill-opacity=\"1\" /><path clip-path=\"url(#clip460)\" d=\"M26.1122 839.082 L35.1746 839.082 Q33.0913 843.145 32.0496 847.52 Q31.008 851.895 31.008 856.582 Q31.008 863.718 33.1955 867.311 Q35.3829 870.853 39.7579 870.853 Q43.0912 870.853 45.0183 868.301 Q46.8933 865.749 48.612 858.041 L49.3412 854.759 Q51.5287 844.551 55.5391 840.28 Q59.4974 835.957 66.6328 835.957 Q74.7577 835.957 79.4973 842.416 Q84.2369 848.822 84.2369 860.072 Q84.2369 864.759 83.2994 869.863 Q82.4139 874.915 80.591 880.54 L70.6953 880.54 Q73.4557 875.228 74.8619 870.072 Q76.2161 864.916 76.2161 859.863 Q76.2161 853.093 73.9244 849.447 Q71.5807 845.801 67.3619 845.801 Q63.4557 845.801 61.3724 848.457 Q59.2891 851.061 57.362 859.968 L56.5807 863.301 Q54.7058 872.207 50.8516 876.165 Q46.9454 880.124 40.1746 880.124 Q31.9455 880.124 27.4663 874.291 Q22.9872 868.457 22.9872 857.728 Q22.9872 852.416 23.7684 847.728 Q24.5497 843.041 26.1122 839.082 Z\" fill=\"#000000\" fill-rule=\"evenodd\" fill-opacity=\"1\" /><path clip-path=\"url(#clip460)\" d=\"M188.947 17.28 L262.037 17.28 L262.037 27.1179 L231.366 27.1179 L231.366 103.68 L219.618 103.68 L219.618 27.1179 L188.947 27.1179 L188.947 17.28 Z\" fill=\"#000000\" fill-rule=\"evenodd\" fill-opacity=\"1\" /><path clip-path=\"url(#clip460)\" d=\"M292.997 48.8192 Q291.203 47.7775 289.062 47.3146 Q286.979 46.7937 284.432 46.7937 Q275.405 46.7937 270.544 52.6965 Q265.74 58.5414 265.74 69.5367 L265.74 103.68 L255.034 103.68 L255.034 38.8655 L265.74 38.8655 L265.74 48.9349 Q269.097 43.0322 274.479 40.1965 Q279.861 37.303 287.557 37.303 Q288.657 37.303 289.988 37.4767 Q291.319 37.5924 292.939 37.8817 L292.997 48.8192 Z\" fill=\"#000000\" fill-rule=\"evenodd\" fill-opacity=\"1\" /><path clip-path=\"url(#clip460)\" d=\"M333.622 71.0992 Q320.717 71.0992 315.74 74.0505 Q310.763 77.0019 310.763 84.1199 Q310.763 89.7912 314.467 93.1476 Q318.228 96.4462 324.652 96.4462 Q333.506 96.4462 338.83 90.1963 Q344.212 83.8884 344.212 73.4718 L344.212 71.0992 L333.622 71.0992 M354.86 66.701 L354.86 103.68 L344.212 103.68 L344.212 93.8421 Q340.566 99.7448 335.127 102.58 Q329.687 105.358 321.816 105.358 Q311.863 105.358 305.96 99.8027 Q300.115 94.1893 300.115 84.8144 Q300.115 73.8769 307.407 68.3214 Q314.756 62.7659 329.282 62.7659 L344.212 62.7659 L344.212 61.7242 Q344.212 54.3747 339.351 50.3817 Q334.548 46.3308 325.809 46.3308 Q320.254 46.3308 314.988 47.6618 Q309.722 48.9928 304.86 51.6548 L304.86 41.8169 Q310.705 39.56 316.203 38.4604 Q321.701 37.303 326.909 37.303 Q340.971 37.303 347.916 44.5947 Q354.86 51.8863 354.86 66.701 Z\" fill=\"#000000\" fill-rule=\"evenodd\" fill-opacity=\"1\" /><path clip-path=\"url(#clip460)\" d=\"M376.793 38.8655 L387.441 38.8655 L387.441 103.68 L376.793 103.68 L376.793 38.8655 M376.793 13.6342 L387.441 13.6342 L387.441 27.1179 L376.793 27.1179 L376.793 13.6342 Z\" fill=\"#000000\" fill-rule=\"evenodd\" fill-opacity=\"1\" /><path clip-path=\"url(#clip460)\" d=\"M463.598 64.5598 L463.598 103.68 L452.95 103.68 L452.95 64.9071 Q452.95 55.7057 449.362 51.134 Q445.774 46.5623 438.598 46.5623 Q429.976 46.5623 424.999 52.0599 Q420.022 57.5576 420.022 67.0483 L420.022 103.68 L409.316 103.68 L409.316 38.8655 L420.022 38.8655 L420.022 48.9349 Q423.841 43.09 428.992 40.1965 Q434.2 37.303 440.971 37.303 Q452.14 37.303 457.869 44.2474 Q463.598 51.134 463.598 64.5598 Z\" fill=\"#000000\" fill-rule=\"evenodd\" fill-opacity=\"1\" /><path clip-path=\"url(#clip460)\" d=\"M540.16 57.2103 Q534.894 61.8978 532.406 66.5853 Q529.975 71.2149 529.975 76.3075 Q529.975 84.7565 536.109 90.3699 Q542.243 95.9833 551.503 95.9833 Q557 95.9833 561.804 94.1893 Q566.607 92.3375 570.831 88.6338 L540.16 57.2103 M548.32 50.7289 L577.718 80.8213 Q581.132 75.6709 583.042 69.826 Q584.952 63.9233 585.299 57.3261 L596.063 57.3261 Q595.368 64.9649 592.359 72.4302 Q589.35 79.8954 583.968 87.187 L600.114 103.68 L585.53 103.68 L577.255 95.1731 Q571.236 100.324 564.639 102.87 Q558.042 105.358 550.461 105.358 Q536.514 105.358 527.66 97.43 Q518.806 89.444 518.806 77.0019 Q518.806 69.5945 522.683 63.1131 Q526.561 56.5738 534.315 50.8446 Q531.538 47.1988 530.091 43.6109 Q528.644 39.9651 528.644 36.4929 Q528.644 27.1179 535.068 21.4466 Q541.491 15.7175 552.139 15.7175 Q556.942 15.7175 561.688 16.7592 Q566.491 17.8008 571.41 19.8842 L571.41 30.4165 Q566.375 27.6966 561.804 26.3077 Q557.232 24.861 553.297 24.861 Q547.22 24.861 543.401 28.1017 Q539.639 31.2846 539.639 36.3771 Q539.639 39.3285 541.318 42.3377 Q543.054 45.2891 548.32 50.7289 Z\" fill=\"#000000\" fill-rule=\"evenodd\" fill-opacity=\"1\" /><path clip-path=\"url(#clip460)\" d=\"M641.086 17.28 L714.175 17.28 L714.175 27.1179 L683.504 27.1179 L683.504 103.68 L671.757 103.68 L671.757 27.1179 L641.086 27.1179 L641.086 17.28 Z\" fill=\"#000000\" fill-rule=\"evenodd\" fill-opacity=\"1\" /><path clip-path=\"url(#clip460)\" d=\"M760.298 68.6107 L760.298 73.819 L711.34 73.819 Q712.034 84.8144 717.937 90.6014 Q723.898 96.3305 734.488 96.3305 Q740.622 96.3305 746.351 94.8259 Q752.138 93.3213 757.809 90.312 L757.809 100.381 Q752.08 102.812 746.062 104.085 Q740.043 105.358 733.851 105.358 Q718.342 105.358 709.256 96.3305 Q700.229 87.3028 700.229 71.9093 Q700.229 55.9951 708.794 46.678 Q717.416 37.303 731.999 37.303 Q745.078 37.303 752.659 45.7521 Q760.298 54.1432 760.298 68.6107 M749.65 65.4858 Q749.534 56.7474 744.731 51.5391 Q739.985 46.3308 732.115 46.3308 Q723.203 46.3308 717.821 51.3655 Q712.497 56.4002 711.687 65.5436 L749.65 65.4858 Z\" fill=\"#000000\" fill-rule=\"evenodd\" fill-opacity=\"1\" /><path clip-path=\"url(#clip460)\" d=\"M819.094 40.7752 L819.094 50.8446 Q814.58 48.5298 809.719 47.3724 Q804.858 46.215 799.65 46.215 Q791.721 46.215 787.728 48.6456 Q783.793 51.0761 783.793 55.9372 Q783.793 59.6409 786.629 61.7821 Q789.464 63.8654 798.029 65.7751 L801.675 66.5853 Q813.017 69.0158 817.763 73.4718 Q822.566 77.87 822.566 85.7982 Q822.566 94.8259 815.39 100.092 Q808.272 105.358 795.772 105.358 Q790.564 105.358 784.893 104.317 Q779.279 103.333 773.029 101.307 L773.029 90.312 Q778.932 93.3791 784.661 94.9416 Q790.39 96.4462 796.004 96.4462 Q803.527 96.4462 807.578 93.9 Q811.629 91.2958 811.629 86.6083 Q811.629 82.2681 808.677 79.9533 Q805.784 77.6385 795.888 75.4973 L792.184 74.6292 Q782.288 72.5459 777.89 68.2635 Q773.492 63.9233 773.492 56.4002 Q773.492 47.2567 779.974 42.2799 Q786.455 37.303 798.376 37.303 Q804.279 37.303 809.487 38.1711 Q814.696 39.0391 819.094 40.7752 Z\" fill=\"#000000\" fill-rule=\"evenodd\" fill-opacity=\"1\" /><path clip-path=\"url(#clip460)\" d=\"M850.054 20.4629 L850.054 38.8655 L871.987 38.8655 L871.987 47.141 L850.054 47.141 L850.054 82.3259 Q850.054 90.2541 852.196 92.5111 Q854.395 94.768 861.05 94.768 L871.987 94.768 L871.987 103.68 L861.05 103.68 Q848.723 103.68 844.036 99.1083 Q839.348 94.4787 839.348 82.3259 L839.348 47.141 L831.536 47.141 L831.536 38.8655 L839.348 38.8655 L839.348 20.4629 L850.054 20.4629 Z\" fill=\"#000000\" fill-rule=\"evenodd\" fill-opacity=\"1\" /><path clip-path=\"url(#clip460)\" d=\"M965.1 63.171 Q968.862 64.4441 972.392 68.6107 Q975.98 72.7774 979.568 80.069 L991.431 103.68 L978.873 103.68 L967.82 81.5158 Q963.538 72.8353 959.487 69.9996 Q955.494 67.164 948.549 67.164 L935.818 67.164 L935.818 103.68 L924.128 103.68 L924.128 17.28 L950.517 17.28 Q965.331 17.28 972.623 23.4721 Q979.915 29.6642 979.915 42.1641 Q979.915 50.3238 976.095 55.7057 Q972.334 61.0876 965.1 63.171 M935.818 26.8864 L935.818 57.5576 L950.517 57.5576 Q958.966 57.5576 963.248 53.6803 Q967.588 49.7451 967.588 42.1641 Q967.588 34.5831 963.248 30.7637 Q958.966 26.8864 950.517 26.8864 L935.818 26.8864 Z\" fill=\"#000000\" fill-rule=\"evenodd\" fill-opacity=\"1\" /><path clip-path=\"url(#clip460)\" d=\"M1056.13 68.6107 L1056.13 73.819 L1007.17 73.819 Q1007.87 84.8144 1013.77 90.6014 Q1019.73 96.3305 1030.32 96.3305 Q1036.45 96.3305 1042.18 94.8259 Q1047.97 93.3213 1053.64 90.312 L1053.64 100.381 Q1047.91 102.812 1041.89 104.085 Q1035.88 105.358 1029.68 105.358 Q1014.17 105.358 1005.09 96.3305 Q996.06 87.3028 996.06 71.9093 Q996.06 55.9951 1004.63 46.678 Q1013.25 37.303 1027.83 37.303 Q1040.91 37.303 1048.49 45.7521 Q1056.13 54.1432 1056.13 68.6107 M1045.48 65.4858 Q1045.37 56.7474 1040.56 51.5391 Q1035.82 46.3308 1027.95 46.3308 Q1019.03 46.3308 1013.65 51.3655 Q1008.33 56.4002 1007.52 65.5436 L1045.48 65.4858 Z\" fill=\"#000000\" fill-rule=\"evenodd\" fill-opacity=\"1\" /><path clip-path=\"url(#clip460)\" d=\"M1120.25 41.3539 L1120.25 51.3076 Q1115.74 48.8192 1111.16 47.6039 Q1106.65 46.3308 1102.02 46.3308 Q1091.66 46.3308 1085.93 52.928 Q1080.2 59.4673 1080.2 71.3306 Q1080.2 83.194 1085.93 89.7912 Q1091.66 96.3305 1102.02 96.3305 Q1106.65 96.3305 1111.16 95.1152 Q1115.74 93.8421 1120.25 91.3537 L1120.25 101.192 Q1115.79 103.275 1110.99 104.317 Q1106.25 105.358 1100.86 105.358 Q1086.22 105.358 1077.6 96.1569 Q1068.98 86.9556 1068.98 71.3306 Q1068.98 55.4742 1077.66 46.3886 Q1086.4 37.303 1101.56 37.303 Q1106.48 37.303 1111.16 38.3447 Q1115.85 39.3285 1120.25 41.3539 Z\" fill=\"#000000\" fill-rule=\"evenodd\" fill-opacity=\"1\" /><path clip-path=\"url(#clip460)\" d=\"M1163.88 46.3308 Q1155.32 46.3308 1150.34 53.0437 Q1145.37 59.6988 1145.37 71.3306 Q1145.37 82.9625 1150.28 89.6754 Q1155.26 96.3305 1163.88 96.3305 Q1172.39 96.3305 1177.37 89.6176 Q1182.34 82.9046 1182.34 71.3306 Q1182.34 59.8145 1177.37 53.1016 Q1172.39 46.3308 1163.88 46.3308 M1163.88 37.303 Q1177.77 37.303 1185.7 46.3308 Q1193.63 55.3585 1193.63 71.3306 Q1193.63 87.2449 1185.7 96.3305 Q1177.77 105.358 1163.88 105.358 Q1149.94 105.358 1142.01 96.3305 Q1134.14 87.2449 1134.14 71.3306 Q1134.14 55.3585 1142.01 46.3308 Q1149.94 37.303 1163.88 37.303 Z\" fill=\"#000000\" fill-rule=\"evenodd\" fill-opacity=\"1\" /><path clip-path=\"url(#clip460)\" d=\"M1265.16 64.5598 L1265.16 103.68 L1254.51 103.68 L1254.51 64.9071 Q1254.51 55.7057 1250.92 51.134 Q1247.33 46.5623 1240.16 46.5623 Q1231.53 46.5623 1226.56 52.0599 Q1221.58 57.5576 1221.58 67.0483 L1221.58 103.68 L1210.87 103.68 L1210.87 38.8655 L1221.58 38.8655 L1221.58 48.9349 Q1225.4 43.09 1230.55 40.1965 Q1235.76 37.303 1242.53 37.303 Q1253.7 37.303 1259.43 44.2474 Q1265.16 51.134 1265.16 64.5598 Z\" fill=\"#000000\" fill-rule=\"evenodd\" fill-opacity=\"1\" /><path clip-path=\"url(#clip460)\" d=\"M1327.71 40.7752 L1327.71 50.8446 Q1323.2 48.5298 1318.34 47.3724 Q1313.48 46.215 1308.27 46.215 Q1300.34 46.215 1296.35 48.6456 Q1292.41 51.0761 1292.41 55.9372 Q1292.41 59.6409 1295.25 61.7821 Q1298.08 63.8654 1306.65 65.7751 L1310.29 66.5853 Q1321.64 69.0158 1326.38 73.4718 Q1331.19 77.87 1331.19 85.7982 Q1331.19 94.8259 1324.01 100.092 Q1316.89 105.358 1304.39 105.358 Q1299.18 105.358 1293.51 104.317 Q1287.9 103.333 1281.65 101.307 L1281.65 90.312 Q1287.55 93.3791 1293.28 94.9416 Q1299.01 96.4462 1304.62 96.4462 Q1312.15 96.4462 1316.2 93.9 Q1320.25 91.2958 1320.25 86.6083 Q1320.25 82.2681 1317.3 79.9533 Q1314.4 77.6385 1304.51 75.4973 L1300.8 74.6292 Q1290.91 72.5459 1286.51 68.2635 Q1282.11 63.9233 1282.11 56.4002 Q1282.11 47.2567 1288.59 42.2799 Q1295.08 37.303 1307 37.303 Q1312.9 37.303 1318.11 38.1711 Q1323.32 39.0391 1327.71 40.7752 Z\" fill=\"#000000\" fill-rule=\"evenodd\" fill-opacity=\"1\" /><path clip-path=\"url(#clip460)\" d=\"M1358.67 20.4629 L1358.67 38.8655 L1380.61 38.8655 L1380.61 47.141 L1358.67 47.141 L1358.67 82.3259 Q1358.67 90.2541 1360.82 92.5111 Q1363.01 94.768 1369.67 94.768 L1380.61 94.768 L1380.61 103.68 L1369.67 103.68 Q1357.34 103.68 1352.66 99.1083 Q1347.97 94.4787 1347.97 82.3259 L1347.97 47.141 L1340.16 47.141 L1340.16 38.8655 L1347.97 38.8655 L1347.97 20.4629 L1358.67 20.4629 Z\" fill=\"#000000\" fill-rule=\"evenodd\" fill-opacity=\"1\" /><path clip-path=\"url(#clip460)\" d=\"M1432.17 48.8192 Q1430.38 47.7775 1428.23 47.3146 Q1426.15 46.7937 1423.6 46.7937 Q1414.58 46.7937 1409.72 52.6965 Q1404.91 58.5414 1404.91 69.5367 L1404.91 103.68 L1394.21 103.68 L1394.21 38.8655 L1404.91 38.8655 L1404.91 48.9349 Q1408.27 43.0322 1413.65 40.1965 Q1419.03 37.303 1426.73 37.303 Q1427.83 37.303 1429.16 37.4767 Q1430.49 37.5924 1432.11 37.8817 L1432.17 48.8192 Z\" fill=\"#000000\" fill-rule=\"evenodd\" fill-opacity=\"1\" /><path clip-path=\"url(#clip460)\" d=\"M1442.24 78.1014 L1442.24 38.8655 L1452.89 38.8655 L1452.89 77.6963 Q1452.89 86.8977 1456.47 91.5273 Q1460.06 96.099 1467.24 96.099 Q1475.86 96.099 1480.84 90.6014 Q1485.87 85.1037 1485.87 75.613 L1485.87 38.8655 L1496.52 38.8655 L1496.52 103.68 L1485.87 103.68 L1485.87 93.7263 Q1482 99.6291 1476.84 102.523 Q1471.75 105.358 1464.98 105.358 Q1453.81 105.358 1448.03 98.4138 Q1442.24 91.4694 1442.24 78.1014 M1469.03 37.303 L1469.03 37.303 Z\" fill=\"#000000\" fill-rule=\"evenodd\" fill-opacity=\"1\" /><path clip-path=\"url(#clip460)\" d=\"M1565.1 41.3539 L1565.1 51.3076 Q1560.58 48.8192 1556.01 47.6039 Q1551.5 46.3308 1546.87 46.3308 Q1536.51 46.3308 1530.78 52.928 Q1525.05 59.4673 1525.05 71.3306 Q1525.05 83.194 1530.78 89.7912 Q1536.51 96.3305 1546.87 96.3305 Q1551.5 96.3305 1556.01 95.1152 Q1560.58 93.8421 1565.1 91.3537 L1565.1 101.192 Q1560.64 103.275 1555.84 104.317 Q1551.09 105.358 1545.71 105.358 Q1531.07 105.358 1522.45 96.1569 Q1513.82 86.9556 1513.82 71.3306 Q1513.82 55.4742 1522.5 46.3886 Q1531.24 37.303 1546.4 37.303 Q1551.32 37.303 1556.01 38.3447 Q1560.7 39.3285 1565.1 41.3539 Z\" fill=\"#000000\" fill-rule=\"evenodd\" fill-opacity=\"1\" /><path clip-path=\"url(#clip460)\" d=\"M1594.15 20.4629 L1594.15 38.8655 L1616.08 38.8655 L1616.08 47.141 L1594.15 47.141 L1594.15 82.3259 Q1594.15 90.2541 1596.29 92.5111 Q1598.49 94.768 1605.14 94.768 L1616.08 94.768 L1616.08 103.68 L1605.14 103.68 Q1592.82 103.68 1588.13 99.1083 Q1583.44 94.4787 1583.44 82.3259 L1583.44 47.141 L1575.63 47.141 L1575.63 38.8655 L1583.44 38.8655 L1583.44 20.4629 L1594.15 20.4629 Z\" fill=\"#000000\" fill-rule=\"evenodd\" fill-opacity=\"1\" /><path clip-path=\"url(#clip460)\" d=\"M1630.08 38.8655 L1640.73 38.8655 L1640.73 103.68 L1630.08 103.68 L1630.08 38.8655 M1630.08 13.6342 L1640.73 13.6342 L1640.73 27.1179 L1630.08 27.1179 L1630.08 13.6342 Z\" fill=\"#000000\" fill-rule=\"evenodd\" fill-opacity=\"1\" /><path clip-path=\"url(#clip460)\" d=\"M1688.13 46.3308 Q1679.56 46.3308 1674.59 53.0437 Q1669.61 59.6988 1669.61 71.3306 Q1669.61 82.9625 1674.53 89.6754 Q1679.51 96.3305 1688.13 96.3305 Q1696.64 96.3305 1701.61 89.6176 Q1706.59 82.9046 1706.59 71.3306 Q1706.59 59.8145 1701.61 53.1016 Q1696.64 46.3308 1688.13 46.3308 M1688.13 37.303 Q1702.02 37.303 1709.95 46.3308 Q1717.87 55.3585 1717.87 71.3306 Q1717.87 87.2449 1709.95 96.3305 Q1702.02 105.358 1688.13 105.358 Q1674.18 105.358 1666.25 96.3305 Q1658.38 87.2449 1658.38 71.3306 Q1658.38 55.3585 1666.25 46.3308 Q1674.18 37.303 1688.13 37.303 Z\" fill=\"#000000\" fill-rule=\"evenodd\" fill-opacity=\"1\" /><path clip-path=\"url(#clip460)\" d=\"M1789.4 64.5598 L1789.4 103.68 L1778.75 103.68 L1778.75 64.9071 Q1778.75 55.7057 1775.17 51.134 Q1771.58 46.5623 1764.4 46.5623 Q1755.78 46.5623 1750.8 52.0599 Q1745.83 57.5576 1745.83 67.0483 L1745.83 103.68 L1735.12 103.68 L1735.12 38.8655 L1745.83 38.8655 L1745.83 48.9349 Q1749.64 43.09 1754.79 40.1965 Q1760 37.303 1766.77 37.303 Q1777.94 37.303 1783.67 44.2474 Q1789.4 51.134 1789.4 64.5598 Z\" fill=\"#000000\" fill-rule=\"evenodd\" fill-opacity=\"1\" /><path clip-path=\"url(#clip460)\" d=\"M1848.78 17.28 L1860.47 17.28 L1860.47 93.8421 L1902.54 93.8421 L1902.54 103.68 L1848.78 103.68 L1848.78 17.28 Z\" fill=\"#000000\" fill-rule=\"evenodd\" fill-opacity=\"1\" /><path clip-path=\"url(#clip460)\" d=\"M1937.37 46.3308 Q1928.81 46.3308 1923.83 53.0437 Q1918.86 59.6988 1918.86 71.3306 Q1918.86 82.9625 1923.78 89.6754 Q1928.75 96.3305 1937.37 96.3305 Q1945.88 96.3305 1950.86 89.6176 Q1955.84 82.9046 1955.84 71.3306 Q1955.84 59.8145 1950.86 53.1016 Q1945.88 46.3308 1937.37 46.3308 M1937.37 37.303 Q1951.26 37.303 1959.19 46.3308 Q1967.12 55.3585 1967.12 71.3306 Q1967.12 87.2449 1959.19 96.3305 Q1951.26 105.358 1937.37 105.358 Q1923.43 105.358 1915.5 96.3305 Q1907.63 87.2449 1907.63 71.3306 Q1907.63 55.3585 1915.5 46.3308 Q1923.43 37.303 1937.37 37.303 Z\" fill=\"#000000\" fill-rule=\"evenodd\" fill-opacity=\"1\" /><path clip-path=\"url(#clip460)\" d=\"M2026.09 40.7752 L2026.09 50.8446 Q2021.58 48.5298 2016.71 47.3724 Q2011.85 46.215 2006.65 46.215 Q1998.72 46.215 1994.72 48.6456 Q1990.79 51.0761 1990.79 55.9372 Q1990.79 59.6409 1993.62 61.7821 Q1996.46 63.8654 2005.03 65.7751 L2008.67 66.5853 Q2020.01 69.0158 2024.76 73.4718 Q2029.56 77.87 2029.56 85.7982 Q2029.56 94.8259 2022.39 100.092 Q2015.27 105.358 2002.77 105.358 Q1997.56 105.358 1991.89 104.317 Q1986.28 103.333 1980.03 101.307 L1980.03 90.312 Q1985.93 93.3791 1991.66 94.9416 Q1997.39 96.4462 2003 96.4462 Q2010.52 96.4462 2014.57 93.9 Q2018.62 91.2958 2018.62 86.6083 Q2018.62 82.2681 2015.67 79.9533 Q2012.78 77.6385 2002.88 75.4973 L1999.18 74.6292 Q1989.28 72.5459 1984.89 68.2635 Q1980.49 63.9233 1980.49 56.4002 Q1980.49 47.2567 1986.97 42.2799 Q1993.45 37.303 2005.37 37.303 Q2011.27 37.303 2016.48 38.1711 Q2021.69 39.0391 2026.09 40.7752 Z\" fill=\"#000000\" fill-rule=\"evenodd\" fill-opacity=\"1\" /><path clip-path=\"url(#clip460)\" d=\"M2087.84 40.7752 L2087.84 50.8446 Q2083.32 48.5298 2078.46 47.3724 Q2073.6 46.215 2068.39 46.215 Q2060.46 46.215 2056.47 48.6456 Q2052.54 51.0761 2052.54 55.9372 Q2052.54 59.6409 2055.37 61.7821 Q2058.21 63.8654 2066.77 65.7751 L2070.42 66.5853 Q2081.76 69.0158 2086.51 73.4718 Q2091.31 77.87 2091.31 85.7982 Q2091.31 94.8259 2084.13 100.092 Q2077.02 105.358 2064.52 105.358 Q2059.31 105.358 2053.64 104.317 Q2048.02 103.333 2041.77 101.307 L2041.77 90.312 Q2047.68 93.3791 2053.4 94.9416 Q2059.13 96.4462 2064.75 96.4462 Q2072.27 96.4462 2076.32 93.9 Q2080.37 91.2958 2080.37 86.6083 Q2080.37 82.2681 2077.42 79.9533 Q2074.53 77.6385 2064.63 75.4973 L2060.93 74.6292 Q2051.03 72.5459 2046.63 68.2635 Q2042.24 63.9233 2042.24 56.4002 Q2042.24 47.2567 2048.72 42.2799 Q2055.2 37.303 2067.12 37.303 Q2073.02 37.303 2078.23 38.1711 Q2083.44 39.0391 2087.84 40.7752 Z\" fill=\"#000000\" fill-rule=\"evenodd\" fill-opacity=\"1\" /><path clip-path=\"url(#clip460)\" d=\"M2139.75 38.8655 L2150.39 38.8655 L2163.7 89.444 L2176.96 38.8655 L2189.51 38.8655 L2202.82 89.444 L2216.08 38.8655 L2226.73 38.8655 L2209.77 103.68 L2197.21 103.68 L2183.26 50.5553 L2169.26 103.68 L2156.7 103.68 L2139.75 38.8655 Z\" fill=\"#000000\" fill-rule=\"evenodd\" fill-opacity=\"1\" /><path clip-path=\"url(#clip460)\" d=\"M2233.5 88.981 L2245.71 88.981 L2245.71 103.68 L2233.5 103.68 L2233.5 88.981 Z\" fill=\"#000000\" fill-rule=\"evenodd\" fill-opacity=\"1\" /><path clip-path=\"url(#clip460)\" d=\"M2307.22 48.8192 Q2305.43 47.7775 2303.29 47.3146 Q2301.2 46.7937 2298.66 46.7937 Q2289.63 46.7937 2284.77 52.6965 Q2279.97 58.5414 2279.97 69.5367 L2279.97 103.68 L2269.26 103.68 L2269.26 38.8655 L2279.97 38.8655 L2279.97 48.9349 Q2283.32 43.0322 2288.7 40.1965 Q2294.09 37.303 2301.78 37.303 Q2302.88 37.303 2304.21 37.4767 Q2305.54 37.5924 2307.16 37.8817 L2307.22 48.8192 Z\" fill=\"#000000\" fill-rule=\"evenodd\" fill-opacity=\"1\" /><path clip-path=\"url(#clip460)\" d=\"M2309.02 88.981 L2321.23 88.981 L2321.23 103.68 L2309.02 103.68 L2309.02 88.981 Z\" fill=\"#000000\" fill-rule=\"evenodd\" fill-opacity=\"1\" /><path clip-path=\"url(#clip460)\" d=\"M2355.72 20.4629 L2355.72 38.8655 L2377.65 38.8655 L2377.65 47.141 L2355.72 47.141 L2355.72 82.3259 Q2355.72 90.2541 2357.86 92.5111 Q2360.06 94.768 2366.71 94.768 L2377.65 94.768 L2377.65 103.68 L2366.71 103.68 Q2354.39 103.68 2349.7 99.1083 Q2345.01 94.4787 2345.01 82.3259 L2345.01 47.141 L2337.2 47.141 L2337.2 38.8655 L2345.01 38.8655 L2345.01 20.4629 L2355.72 20.4629 Z\" fill=\"#000000\" fill-rule=\"evenodd\" fill-opacity=\"1\" /><path clip-path=\"url(#clip460)\" d=\"M2393.16 88.981 L2405.37 88.981 L2405.37 103.68 L2393.16 103.68 L2393.16 88.981 Z\" fill=\"#000000\" fill-rule=\"evenodd\" fill-opacity=\"1\" /><path clip-path=\"url(#clip460)\" d=\"M2467.46 17.28 L2522.09 17.28 L2522.09 27.1179 L2479.15 27.1179 L2479.15 52.6965 L2520.3 52.6965 L2520.3 62.5344 L2479.15 62.5344 L2479.15 93.8421 L2523.14 93.8421 L2523.14 103.68 L2467.46 103.68 L2467.46 17.28 Z\" fill=\"#000000\" fill-rule=\"evenodd\" fill-opacity=\"1\" /><path clip-path=\"url(#clip460)\" d=\"M2552.19 93.9578 L2552.19 128.333 L2541.48 128.333 L2541.48 38.8655 L2552.19 38.8655 L2552.19 48.7034 Q2555.54 42.9164 2560.64 40.1387 Q2565.79 37.303 2572.9 37.303 Q2584.71 37.303 2592.06 46.678 Q2599.47 56.0529 2599.47 71.3306 Q2599.47 86.6083 2592.06 95.9833 Q2584.71 105.358 2572.9 105.358 Q2565.79 105.358 2560.64 102.58 Q2555.54 99.7448 2552.19 93.9578 M2588.41 71.3306 Q2588.41 59.583 2583.55 52.928 Q2578.75 46.215 2570.3 46.215 Q2561.85 46.215 2556.99 52.928 Q2552.19 59.583 2552.19 71.3306 Q2552.19 83.0783 2556.99 89.7912 Q2561.85 96.4462 2570.3 96.4462 Q2578.75 96.4462 2583.55 89.7912 Q2588.41 83.0783 2588.41 71.3306 Z\" fill=\"#000000\" fill-rule=\"evenodd\" fill-opacity=\"1\" /><path clip-path=\"url(#clip460)\" d=\"M2642.23 46.3308 Q2633.67 46.3308 2628.69 53.0437 Q2623.71 59.6988 2623.71 71.3306 Q2623.71 82.9625 2628.63 89.6754 Q2633.61 96.3305 2642.23 96.3305 Q2650.74 96.3305 2655.72 89.6176 Q2660.69 82.9046 2660.69 71.3306 Q2660.69 59.8145 2655.72 53.1016 Q2650.74 46.3308 2642.23 46.3308 M2642.23 37.303 Q2656.12 37.303 2664.05 46.3308 Q2671.98 55.3585 2671.98 71.3306 Q2671.98 87.2449 2664.05 96.3305 Q2656.12 105.358 2642.23 105.358 Q2628.29 105.358 2620.36 96.3305 Q2612.49 87.2449 2612.49 71.3306 Q2612.49 55.3585 2620.36 46.3308 Q2628.29 37.303 2642.23 37.303 Z\" fill=\"#000000\" fill-rule=\"evenodd\" fill-opacity=\"1\" /><path clip-path=\"url(#clip460)\" d=\"M2736.27 41.3539 L2736.27 51.3076 Q2731.76 48.8192 2727.19 47.6039 Q2722.67 46.3308 2718.04 46.3308 Q2707.68 46.3308 2701.95 52.928 Q2696.23 59.4673 2696.23 71.3306 Q2696.23 83.194 2701.95 89.7912 Q2707.68 96.3305 2718.04 96.3305 Q2722.67 96.3305 2727.19 95.1152 Q2731.76 93.8421 2736.27 91.3537 L2736.27 101.192 Q2731.82 103.275 2727.01 104.317 Q2722.27 105.358 2716.88 105.358 Q2702.24 105.358 2693.62 96.1569 Q2685 86.9556 2685 71.3306 Q2685 55.4742 2693.68 46.3886 Q2702.42 37.303 2717.58 37.303 Q2722.5 37.303 2727.19 38.3447 Q2731.87 39.3285 2736.27 41.3539 Z\" fill=\"#000000\" fill-rule=\"evenodd\" fill-opacity=\"1\" /><path clip-path=\"url(#clip460)\" d=\"M2808.67 64.5598 L2808.67 103.68 L2798.02 103.68 L2798.02 64.9071 Q2798.02 55.7057 2794.43 51.134 Q2790.84 46.5623 2783.67 46.5623 Q2775.04 46.5623 2770.07 52.0599 Q2765.09 57.5576 2765.09 67.0483 L2765.09 103.68 L2754.38 103.68 L2754.38 13.6342 L2765.09 13.6342 L2765.09 48.9349 Q2768.91 43.09 2774.06 40.1965 Q2779.27 37.303 2786.04 37.303 Q2797.21 37.303 2802.94 44.2474 Q2808.67 51.134 2808.67 64.5598 Z\" fill=\"#000000\" fill-rule=\"evenodd\" fill-opacity=\"1\" /><path clip-path=\"url(#clip460)\" d=\"M2871.22 40.7752 L2871.22 50.8446 Q2866.71 48.5298 2861.85 47.3724 Q2856.99 46.215 2851.78 46.215 Q2843.85 46.215 2839.86 48.6456 Q2835.92 51.0761 2835.92 55.9372 Q2835.92 59.6409 2838.76 61.7821 Q2841.59 63.8654 2850.16 65.7751 L2853.81 66.5853 Q2865.15 69.0158 2869.89 73.4718 Q2874.7 77.87 2874.7 85.7982 Q2874.7 94.8259 2867.52 100.092 Q2860.4 105.358 2847.9 105.358 Q2842.69 105.358 2837.02 104.317 Q2831.41 103.333 2825.16 101.307 L2825.16 90.312 Q2831.06 93.3791 2836.79 94.9416 Q2842.52 96.4462 2848.13 96.4462 Q2855.66 96.4462 2859.71 93.9 Q2863.76 91.2958 2863.76 86.6083 Q2863.76 82.2681 2860.81 79.9533 Q2857.91 77.6385 2848.02 75.4973 L2844.31 74.6292 Q2834.42 72.5459 2830.02 68.2635 Q2825.62 63.9233 2825.62 56.4002 Q2825.62 47.2567 2832.1 42.2799 Q2838.59 37.303 2850.51 37.303 Q2856.41 37.303 2861.62 38.1711 Q2866.83 39.0391 2871.22 40.7752 Z\" fill=\"#000000\" fill-rule=\"evenodd\" fill-opacity=\"1\" /><polyline clip-path=\"url(#clip462)\" style=\"stroke:#009af9; stroke-linecap:butt; stroke-linejoin:round; stroke-width:4; stroke-opacity:1; fill:none\" points=\"\n",
       "  379.997,236.956 382.303,668.988 384.609,855.318 386.914,989.369 389.22,1080.62 391.526,1155.64 393.832,1214.47 396.138,1242.49 398.444,1270.62 400.75,1300.52 \n",
       "  403.056,1308.83 405.362,1337.58 407.668,1342.87 409.974,1367.76 412.28,1395.49 414.586,1394.81 416.892,1422.51 419.198,1431.53 421.504,1448.59 423.81,1461.72 \n",
       "  426.116,1474.97 428.422,1476.02 430.728,1490.28 433.034,1486.05 435.34,1505.72 437.646,1497.44 439.951,1496.72 442.257,1508.84 444.563,1492.08 446.869,1515.73 \n",
       "  449.175,1519.88 451.481,1522.35 453.787,1514.1 456.093,1522.7 458.399,1529.63 460.705,1536.66 463.011,1524.96 465.317,1533.09 467.623,1539.21 469.929,1540.73 \n",
       "  472.235,1542.89 474.541,1540.39 476.847,1538.79 479.153,1553.77 481.459,1549.14 483.765,1548.2 486.071,1550.86 488.377,1551.5 490.682,1551.85 492.988,1554.73 \n",
       "  495.294,1582.94 497.6,1587.59 499.906,1592.03 502.212,1591.37 504.518,1592.47 506.824,1594.83 509.13,1596.34 511.436,1596.48 513.742,1598.6 516.048,1597.17 \n",
       "  518.354,1597.66 520.66,1600.53 522.966,1601.17 525.272,1602.22 527.578,1601.35 529.884,1600.71 532.19,1602.61 534.496,1602.05 536.802,1604.92 539.108,1606.02 \n",
       "  541.414,1606.94 543.719,1608.2 546.025,1607.7 548.331,1607.39 550.637,1608.74 552.943,1609.01 555.249,1610.66 557.555,1609.43 559.861,1610.58 562.167,1610.45 \n",
       "  564.473,1613.43 566.779,1611.65 569.085,1611.13 571.391,1614.05 573.697,1612.45 576.003,1612.81 578.309,1614.76 580.615,1614.44 582.921,1614.39 585.227,1617.16 \n",
       "  587.533,1615.84 589.839,1618.17 592.145,1616.95 594.451,1617.2 596.756,1620.07 599.062,1616.69 601.368,1616.86 603.674,1618.9 605.98,1619.64 608.286,1619.58 \n",
       "  610.592,1618.59 612.898,1618.67 615.204,1619.67 617.51,1620.64 619.816,1621.2 622.122,1621.42 624.428,1622.91 626.734,1622.93 629.04,1623.63 631.346,1620.47 \n",
       "  633.652,1622.22 635.958,1624.9 638.264,1624.39 640.57,1624.98 642.876,1626.83 645.182,1625.26 647.487,1625.07 649.793,1625.77 652.099,1625.03 654.405,1625.81 \n",
       "  656.711,1625.65 659.017,1626.34 661.323,1626.4 663.629,1627.13 665.935,1627.47 668.241,1627.54 670.547,1627.48 672.853,1627.53 675.159,1627.88 677.465,1627.41 \n",
       "  679.771,1627.77 682.077,1626.54 684.383,1628.7 686.689,1628.14 688.995,1629.99 691.301,1628.45 693.607,1629.45 695.913,1630.33 698.219,1632.36 700.524,1629.68 \n",
       "  702.83,1630.97 705.136,1628.64 707.442,1631.39 709.748,1633.11 712.054,1632.66 714.36,1631.47 716.666,1629.92 718.972,1629.91 721.278,1631.08 723.584,1633.93 \n",
       "  725.89,1633.47 728.196,1632.52 730.502,1632.3 732.808,1631.18 735.114,1632.3 737.42,1632.75 739.726,1633.42 742.032,1636.35 744.338,1631.75 746.644,1635.22 \n",
       "  748.95,1636.06 751.255,1631.84 753.561,1634.68 755.867,1634.15 758.173,1633.41 760.479,1637.21 762.785,1634.1 765.091,1635.93 767.397,1638.59 769.703,1635.08 \n",
       "  772.009,1637.91 774.315,1638.35 776.621,1638.2 778.927,1635.39 781.233,1636.24 783.539,1635.98 785.845,1634.97 788.151,1633.83 790.457,1636.53 792.763,1638.49 \n",
       "  795.069,1637.72 797.375,1640.47 799.681,1638.13 801.987,1637.12 804.292,1639.02 806.598,1641.47 808.904,1637.32 811.21,1635.83 813.516,1636.56 815.822,1637.5 \n",
       "  818.128,1638.19 820.434,1639.91 822.74,1640.3 825.046,1640.18 827.352,1640.17 829.658,1638.29 831.964,1642.28 834.27,1640.28 836.576,1640.08 838.882,1641.03 \n",
       "  841.188,1641.19 843.494,1640.59 845.8,1642.26 848.106,1641.68 850.412,1641.63 852.718,1639.78 855.024,1642.83 857.329,1639.81 859.635,1644.99 861.941,1641.88 \n",
       "  864.247,1643.13 866.553,1644.68 868.859,1645.36 871.165,1644.3 873.471,1643.47 875.777,1642.73 878.083,1641.81 880.389,1643.38 882.695,1644.41 885.001,1643.18 \n",
       "  887.307,1644.81 889.613,1641.75 891.919,1645.1 894.225,1643.45 896.531,1646.37 898.837,1645.45 901.143,1644.07 903.449,1646.19 905.755,1644.15 908.06,1645.9 \n",
       "  910.366,1643.89 912.672,1645.54 914.978,1646.56 917.284,1645.22 919.59,1646.09 921.896,1646.47 924.202,1644.92 926.508,1646.25 928.814,1646.62 931.12,1646.01 \n",
       "  933.426,1649.27 935.732,1647.48 938.038,1644.25 940.344,1646.92 942.65,1646.99 944.956,1646.45 947.262,1645.01 949.568,1648.3 951.874,1647.9 954.18,1650.09 \n",
       "  956.486,1648.03 958.792,1647.4 961.097,1647.2 963.403,1649.14 965.709,1650.13 968.015,1647.6 970.321,1648.54 972.627,1647.93 974.933,1649.57 977.239,1647.37 \n",
       "  979.545,1648.66 981.851,1650.05 984.157,1650.89 986.463,1651.14 988.769,1648.22 991.075,1650.32 993.381,1649.44 995.687,1647.17 997.993,1650.34 1000.3,1648.35 \n",
       "  1002.6,1649.42 1004.91,1651.91 1007.22,1649.89 1009.52,1648.69 1011.83,1651.08 1014.13,1652.33 1016.44,1649.51 1018.75,1649.51 1021.05,1649.93 1023.36,1649.71 \n",
       "  1025.66,1650.33 1027.97,1651.59 1030.28,1652.03 1032.58,1650.34 1034.89,1650.71 1037.19,1652.09 1039.5,1654.12 1041.81,1650.95 1044.11,1649.22 1046.42,1651.66 \n",
       "  1048.72,1652.65 1051.03,1651.2 1053.34,1651.12 1055.64,1653.67 1057.95,1650.75 1060.25,1652.23 1062.56,1649.91 1064.87,1652.78 1067.17,1652.37 1069.48,1652.11 \n",
       "  1071.78,1652.93 1074.09,1651.32 1076.4,1651.58 1078.7,1651.57 1081.01,1652.56 1083.31,1654.4 1085.62,1653.16 1087.93,1652.52 1090.23,1654.99 1092.54,1653.21 \n",
       "  1094.84,1652.93 1097.15,1653.09 1099.45,1653.25 1101.76,1653.5 1104.07,1652.65 1106.37,1653.64 1108.68,1653.56 1110.98,1653.73 1113.29,1654.02 1115.6,1653.87 \n",
       "  1117.9,1654.64 1120.21,1653.67 1122.51,1651.65 1124.82,1654.88 1127.13,1656.76 1129.43,1654.84 1131.74,1656.89 1134.04,1655.52 1136.35,1654.9 1138.66,1654.56 \n",
       "  1140.96,1652.45 1143.27,1656.38 1145.57,1651.82 1147.88,1651.36 1150.19,1656.1 1152.49,1656.05 1154.8,1652.62 1157.1,1654.91 1159.41,1654.3 1161.72,1657.93 \n",
       "  1164.02,1654.58 1166.33,1656.52 1168.63,1656.56 1170.94,1655.19 1173.25,1655.15 1175.55,1657.63 1177.86,1655.39 1180.16,1656.37 1182.47,1656.55 1184.78,1654.64 \n",
       "  1187.08,1655.02 1189.39,1654.91 1191.69,1658.02 1194,1656.95 1196.3,1653.84 1198.61,1658.42 1200.92,1654.68 1203.22,1655.8 1205.53,1657.54 1207.83,1655.27 \n",
       "  1210.14,1656.59 1212.45,1659.33 1214.75,1657.89 1217.06,1655.43 1219.36,1656.91 1221.67,1655.67 1223.98,1657.25 1226.28,1657.18 1228.59,1657.66 1230.89,1656.37 \n",
       "  1233.2,1657.5 1235.51,1659.02 1237.81,1658.46 1240.12,1658.43 1242.42,1659.83 1244.73,1658.91 1247.04,1657.91 1249.34,1658.94 1251.65,1660.27 1253.95,1658.8 \n",
       "  1256.26,1658.37 1258.57,1656.03 1260.87,1656.53 1263.18,1656.69 1265.48,1658.59 1267.79,1656.95 1270.1,1657.26 1272.4,1656.84 1274.71,1661 1277.01,1656.05 \n",
       "  1279.32,1659.53 1281.63,1656.45 1283.93,1655.2 1286.24,1657.45 1288.54,1657.29 1290.85,1659.37 1293.16,1656.83 1295.46,1658.73 1297.77,1660.41 1300.07,1657.92 \n",
       "  1302.38,1656.79 1304.68,1659.25 1306.99,1662.61 1309.3,1661.9 1311.6,1657.2 1313.91,1661.46 1316.21,1658.41 1318.52,1657.23 1320.83,1660.17 1323.13,1660.9 \n",
       "  1325.44,1656.14 1327.74,1661.23 1330.05,1660.17 1332.36,1661.1 1334.66,1659.9 1336.97,1660.42 1339.27,1659.41 1341.58,1657.94 1343.89,1662.31 1346.19,1657.46 \n",
       "  1348.5,1660.53 1350.8,1661.61 1353.11,1660.64 1355.42,1660.4 1357.72,1660.97 1360.03,1658.79 1362.33,1659.76 1364.64,1660.22 1366.95,1659.88 1369.25,1661.16 \n",
       "  1371.56,1661.62 1373.86,1659.04 1376.17,1660.96 1378.48,1659.46 1380.78,1663.11 1383.09,1662.32 1385.39,1664.33 1387.7,1660.64 1390.01,1662.46 1392.31,1660.47 \n",
       "  1394.62,1663.05 1396.92,1662.47 1399.23,1662.17 1401.54,1662.94 1403.84,1660.43 1406.15,1661.21 1408.45,1661.89 1410.76,1664.83 1413.06,1662.59 1415.37,1661.08 \n",
       "  1417.68,1662.6 1419.98,1661.02 1422.29,1664.67 1424.59,1660.28 1426.9,1663.05 1429.21,1664.12 1431.51,1661.74 1433.82,1665.78 1436.12,1664.1 1438.43,1664.14 \n",
       "  1440.74,1663.53 1443.04,1663.09 1445.35,1659.33 1447.65,1661.35 1449.96,1663.68 1452.27,1663.62 1454.57,1662.96 1456.88,1662.51 1459.18,1659.07 1461.49,1665.05 \n",
       "  1463.8,1664.59 1466.1,1664.58 1468.41,1664.63 1470.71,1663.89 1473.02,1661.05 1475.33,1663.52 1477.63,1663.93 1479.94,1663.84 1482.24,1664 1484.55,1663.57 \n",
       "  1486.86,1662.53 1489.16,1664.75 1491.47,1666.14 1493.77,1662.21 1496.08,1664.26 1498.39,1663.05 1500.69,1664.87 1503,1664.33 1505.3,1664.95 1507.61,1664.22 \n",
       "  1509.91,1665.21 1512.22,1665.85 1514.53,1667.09 1516.83,1663.83 1519.14,1663.89 1521.44,1663.28 1523.75,1667.54 1526.06,1662.55 1528.36,1665.92 1530.67,1665.59 \n",
       "  1532.97,1665.35 1535.28,1666.47 1537.59,1665.91 1539.89,1663.52 1542.2,1664.36 1544.5,1662.53 1546.81,1663.38 1549.12,1664.65 1551.42,1662.46 1553.73,1662.31 \n",
       "  1556.03,1662.14 1558.34,1666.84 1560.65,1668.81 1562.95,1667.76 1565.26,1666.26 1567.56,1664.49 1569.87,1665.35 1572.18,1666.51 1574.48,1668.36 1576.79,1656.22 \n",
       "  1579.09,1667.76 1581.4,1667.88 1583.71,1668.42 1586.01,1665.25 1588.32,1664.33 1590.62,1667.52 1592.93,1665 1595.24,1665.96 1597.54,1664.02 1599.85,1668.73 \n",
       "  1602.15,1668.17 1604.46,1667.41 1606.77,1667.78 1609.07,1669.16 1611.38,1663.37 1613.68,1666.74 1615.99,1667.84 1618.29,1664.88 1620.6,1668.06 1622.91,1665.24 \n",
       "  1625.21,1663.93 1627.52,1663.43 1629.82,1668.48 1632.13,1664.98 1634.44,1665.26 1636.74,1667.51 1639.05,1666.08 1641.35,1664.88 1643.66,1667.02 1645.97,1665.9 \n",
       "  1648.27,1666.46 1650.58,1668.61 1652.88,1666.62 1655.19,1665.92 1657.5,1668.08 1659.8,1666.95 1662.11,1667.01 1664.41,1667.03 1666.72,1668.42 1669.03,1666.78 \n",
       "  1671.33,1667.72 1673.64,1668.22 1675.94,1664.36 1678.25,1666.38 1680.56,1664.66 1682.86,1668.39 1685.17,1665.48 1687.47,1667.18 1689.78,1668.41 1692.09,1666.22 \n",
       "  1694.39,1665.46 1696.7,1672.11 1699,1666.18 1701.31,1665.12 1703.62,1666 1705.92,1666.83 1708.23,1667.31 1710.53,1666.26 1712.84,1667.9 1715.14,1669.88 \n",
       "  1717.45,1669.02 1719.76,1669.29 1722.06,1666.96 1724.37,1669.11 1726.67,1670.39 1728.98,1670.27 1731.29,1667.8 1733.59,1667.95 1735.9,1667.51 1738.2,1671.82 \n",
       "  1740.51,1668.55 1742.82,1666.71 1745.12,1667.3 1747.43,1667.48 1749.73,1671.79 1752.04,1666.07 1754.35,1670.36 1756.65,1668.81 1758.96,1670.41 1761.26,1667.6 \n",
       "  1763.57,1667.37 1765.88,1664.79 1768.18,1667.17 1770.49,1669.39 1772.79,1667.18 1775.1,1671.35 1777.41,1671.59 1779.71,1667.41 1782.02,1666.98 1784.32,1670.23 \n",
       "  1786.63,1669.37 1788.94,1669.37 1791.24,1672.97 1793.55,1671.13 1795.85,1671.03 1798.16,1669.03 1800.47,1668.41 1802.77,1671.08 1805.08,1666.22 1807.38,1671.18 \n",
       "  1809.69,1667.67 1812,1669.51 1814.3,1666.16 1816.61,1672.18 1818.91,1670.32 1821.22,1670.57 1823.52,1668.61 1825.83,1670.18 1828.14,1670.15 1830.44,1670.74 \n",
       "  1832.75,1672.14 1835.05,1669.73 1837.36,1667.59 1839.67,1670.6 1841.97,1672.66 1844.28,1671.22 1846.58,1669.25 1848.89,1672.51 1851.2,1668.03 1853.5,1669.94 \n",
       "  1855.81,1668.66 1858.11,1669.24 1860.42,1670.51 1862.73,1667.41 1865.03,1670.48 1867.34,1669.2 1869.64,1672.58 1871.95,1670.78 1874.26,1668.12 1876.56,1669.9 \n",
       "  1878.87,1669.88 1881.17,1672.43 1883.48,1668.83 1885.79,1673.54 1888.09,1670.02 1890.4,1672.72 1892.7,1669.85 1895.01,1671.92 1897.32,1672.47 1899.62,1671.9 \n",
       "  1901.93,1670.42 1904.23,1672.33 1906.54,1669.87 1908.85,1670.73 1911.15,1671.61 1913.46,1671.28 1915.76,1668.44 1918.07,1671.35 1920.38,1673.16 1922.68,1671.24 \n",
       "  1924.99,1670.75 1927.29,1672.83 1929.6,1670.53 1931.9,1673.28 1934.21,1670.87 1936.52,1668.63 1938.82,1672.47 1941.13,1670.73 1943.43,1676.06 1945.74,1673.7 \n",
       "  1948.05,1669.24 1950.35,1668.46 1952.66,1672.59 1954.96,1669.18 1957.27,1667.74 1959.58,1671.95 1961.88,1669.33 1964.19,1670.01 1966.49,1673.94 1968.8,1670.64 \n",
       "  1971.11,1669.83 1973.41,1669.79 1975.72,1674 1978.02,1669.62 1980.33,1672.48 1982.64,1672.65 1984.94,1674.23 1987.25,1673.75 1989.55,1670.79 1991.86,1671.3 \n",
       "  1994.17,1670.88 1996.47,1672.24 1998.78,1668.86 2001.08,1671.81 2003.39,1670.19 2005.7,1669.33 2008,1669.57 2010.31,1673.44 2012.61,1674.76 2014.92,1669.49 \n",
       "  2017.23,1674.07 2019.53,1674.93 2021.84,1675.42 2024.14,1672.18 2026.45,1671.42 2028.75,1675.24 2031.06,1676.89 2033.37,1672.39 2035.67,1671.6 2037.98,1674.04 \n",
       "  2040.28,1672.71 2042.59,1671.79 2044.9,1675.94 2047.2,1675.75 2049.51,1670.85 2051.81,1670.87 2054.12,1672.25 2056.43,1675.25 2058.73,1672.65 2061.04,1672.53 \n",
       "  2063.34,1673.43 2065.65,1673.18 2067.96,1674.96 2070.26,1675.25 2072.57,1674.38 2074.87,1674.47 2077.18,1674.54 2079.49,1670.44 2081.79,1674.86 2084.1,1674.96 \n",
       "  2086.4,1673.86 2088.71,1673.89 2091.02,1676.39 2093.32,1672.04 2095.63,1673.8 2097.93,1673.93 2100.24,1674.31 2102.55,1676.53 2104.85,1677.65 2107.16,1674.38 \n",
       "  2109.46,1673.15 2111.77,1677.03 2114.08,1676.04 2116.38,1674.99 2118.69,1674.23 2120.99,1675.03 2123.3,1672.15 2125.61,1674.77 2127.91,1675.71 2130.22,1674.65 \n",
       "  2132.52,1671.75 2134.83,1673.17 2137.13,1675.53 2139.44,1676.03 2141.75,1674.46 2144.05,1678.74 2146.36,1676.61 2148.66,1675.29 2150.97,1676.72 2153.28,1677.21 \n",
       "  2155.58,1674.45 2157.89,1677.28 2160.19,1676.15 2162.5,1674.08 2164.81,1677.23 2167.11,1676.09 2169.42,1675.2 2171.72,1676.17 2174.03,1677.96 2176.34,1677.37 \n",
       "  2178.64,1675.69 2180.95,1676.61 2183.25,1679.59 2185.56,1678.09 2187.87,1678.34 2190.17,1677.45 2192.48,1678.31 2194.78,1673.72 2197.09,1678.85 2199.4,1677.05 \n",
       "  2201.7,1673.78 2204.01,1677.33 2206.31,1676.36 2208.62,1677.34 2210.93,1678.09 2213.23,1675.72 2215.54,1677.77 2217.84,1676.54 2220.15,1677.43 2222.46,1675.82 \n",
       "  2224.76,1675.16 2227.07,1679.12 2229.37,1681.88 2231.68,1679.04 2233.99,1678.23 2236.29,1679.43 2238.6,1676.09 2240.9,1678.42 2243.21,1679.4 2245.51,1676.66 \n",
       "  2247.82,1680.31 2250.13,1680.64 2252.43,1680.85 2254.74,1684.9 2257.04,1678.68 2259.35,1675.41 2261.66,1682.91 2263.96,1680.47 2266.27,1677.71 2268.57,1680.44 \n",
       "  2270.88,1680.47 2273.19,1675.19 2275.49,1680.41 2277.8,1679.96 2280.1,1681.17 2282.41,1682.56 2284.72,1680.13 2287.02,1681.8 2289.33,1679.78 2291.63,1676.91 \n",
       "  2293.94,1678.35 2296.25,1675.27 2298.55,1681.98 2300.86,1678.25 2303.16,1680.05 2305.47,1681.06 2307.78,1677.72 2310.08,1685.61 2312.39,1680.27 2314.69,1683.47 \n",
       "  2317,1681.22 2319.31,1679.51 2321.61,1681.35 2323.92,1679.86 2326.22,1678.57 2328.53,1682.71 2330.84,1683.54 2333.14,1680.45 2335.45,1679.33 2337.75,1681.73 \n",
       "  2340.06,1680.16 2342.36,1682.82 2344.67,1680.89 2346.98,1682.24 2349.28,1682.51 2351.59,1683.74 2353.89,1683.25 2356.2,1681.15 2358.51,1683.14 2360.81,1681.03 \n",
       "  2363.12,1683.08 2365.42,1680.14 2367.73,1680.77 2370.04,1681.8 2372.34,1685.11 2374.65,1680.96 2376.95,1683.28 2379.26,1683.17 2381.57,1681.9 2383.87,1681.23 \n",
       "  2386.18,1684.1 2388.48,1681.52 2390.79,1680.88 2393.1,1682.44 2395.4,1682.5 2397.71,1683.74 2400.01,1681.69 2402.32,1683.84 2404.63,1685.08 2406.93,1682.47 \n",
       "  2409.24,1678.16 2411.54,1689.94 2413.85,1685.29 2416.16,1681.66 2418.46,1683.67 2420.77,1683.83 2423.07,1684.41 2425.38,1681.24 2427.69,1687.22 2429.99,1682.55 \n",
       "  2432.3,1686.15 2434.6,1685.81 2436.91,1683.15 2439.22,1683.37 2441.52,1680.86 2443.83,1684.8 2446.13,1683.54 2448.44,1685.77 2450.74,1682.22 2453.05,1683.2 \n",
       "  2455.36,1684.14 2457.66,1683.01 2459.97,1683.86 2462.27,1686.24 2464.58,1682.83 2466.89,1683.62 2469.19,1686.42 2471.5,1680.2 2473.8,1686.16 2476.11,1684.4 \n",
       "  2478.42,1687.01 2480.72,1686.51 2483.03,1687.67 2485.33,1680.35 2487.64,1684.28 2489.95,1680.4 2492.25,1684.59 2494.56,1682.3 2496.86,1687.44 2499.17,1686.5 \n",
       "  2501.48,1683.8 2503.78,1688.26 2506.09,1685.93 2508.39,1682.27 2510.7,1684.46 2513.01,1684.74 2515.31,1684.77 2517.62,1685.57 2519.92,1683.1 2522.23,1683.54 \n",
       "  2524.54,1687.25 2526.84,1684.73 2529.15,1685.48 2531.45,1685.24 2533.76,1688.83 2536.07,1686.59 2538.37,1685.75 2540.68,1687.21 2542.98,1682.77 2545.29,1683.97 \n",
       "  2547.6,1683.26 2549.9,1685.94 2552.21,1686.23 2554.51,1685.08 2556.82,1685.1 2559.12,1684.05 2561.43,1679.69 2563.74,1684.71 2566.04,1685.7 2568.35,1685.98 \n",
       "  2570.65,1683.83 2572.96,1683.11 2575.27,1684.92 2577.57,1686.26 2579.88,1682.08 2582.18,1687.21 2584.49,1686.26 2586.8,1683.22 2589.1,1685.71 2591.41,1686.54 \n",
       "  2593.71,1684.88 2596.02,1687.87 2598.33,1686.33 2600.63,1682.43 2602.94,1687.93 2605.24,1685.53 2607.55,1688.18 2609.86,1683.3 2612.16,1683.02 2614.47,1686.94 \n",
       "  2616.77,1685.8 2619.08,1683.96 2621.39,1687.37 2623.69,1688.25 2626,1684.47 2628.3,1687.05 2630.61,1684.34 2632.92,1686.57 2635.22,1683.69 2637.53,1683.6 \n",
       "  2639.83,1685.82 2642.14,1686.1 2644.45,1687.18 2646.75,1688.57 2649.06,1683.12 2651.36,1685.2 2653.67,1685.18 2655.97,1687.28 2658.28,1687.67 2660.59,1687.26 \n",
       "  2662.89,1688.06 2665.2,1688.09 2667.5,1686.35 2669.81,1683.85 2672.12,1684.8 2674.42,1686.33 2676.73,1683.69 2679.03,1684.32 2681.34,1687.91 2683.65,1684.6 \n",
       "  \n",
       "  \"/>\n",
       "<polyline clip-path=\"url(#clip462)\" style=\"stroke:#e26f46; stroke-linecap:butt; stroke-linejoin:round; stroke-width:4; stroke-opacity:1; fill:none\" points=\"\n",
       "  379.997,200.254 382.303,602.397 384.609,752.815 386.914,917.614 389.22,983.54 391.526,1061.34 393.832,1115.58 396.138,1145.5 398.444,1182.79 400.75,1217.31 \n",
       "  403.056,1221.57 405.362,1265.71 407.668,1263.33 409.974,1304.31 412.28,1317.8 414.586,1324.46 416.892,1332.75 419.198,1360.14 421.504,1382.76 423.81,1383.45 \n",
       "  426.116,1400.67 428.422,1410.61 430.728,1412.4 433.034,1423.42 435.34,1429.28 437.646,1425.46 439.951,1433.32 442.257,1436.54 444.563,1434.78 446.869,1440.74 \n",
       "  449.175,1448.92 451.481,1448.73 453.787,1438.56 456.093,1457.05 458.399,1459.1 460.705,1465.79 463.011,1451.1 465.317,1463.95 467.623,1468.72 469.929,1476.81 \n",
       "  472.235,1474.56 474.541,1466 476.847,1472.86 479.153,1481.07 481.459,1474.05 483.765,1475.65 486.071,1476.8 488.377,1482.63 490.682,1477.06 492.988,1480.27 \n",
       "  495.294,1512.06 497.6,1516.9 499.906,1521.8 502.212,1522.6 504.518,1524.56 506.824,1526.3 509.13,1530.21 511.436,1529.09 513.742,1530.62 516.048,1533.45 \n",
       "  518.354,1530.97 520.66,1536 522.966,1538.93 525.272,1537.02 527.578,1537.61 529.884,1537.68 532.19,1539.88 534.496,1541 536.802,1539.95 539.108,1544.93 \n",
       "  541.414,1542.77 543.719,1544.22 546.025,1544.05 548.331,1545.25 550.637,1547.92 552.943,1547.8 555.249,1550.95 557.555,1547.09 559.861,1550.21 562.167,1547.38 \n",
       "  564.473,1549.71 566.779,1552.48 569.085,1549.15 571.391,1550.09 573.697,1554.5 576.003,1552.67 578.309,1553.29 580.615,1554.31 582.921,1549.09 585.227,1553 \n",
       "  587.533,1552.38 589.839,1556.72 592.145,1555.65 594.451,1556.78 596.756,1559.58 599.062,1556.3 601.368,1559.05 603.674,1557.64 605.98,1557.65 608.286,1562.59 \n",
       "  610.592,1558.93 612.898,1563.32 615.204,1560.47 617.51,1559.9 619.816,1561.45 622.122,1560.4 624.428,1561.8 626.734,1561.72 629.04,1563.49 631.346,1559.65 \n",
       "  633.652,1559.66 635.958,1564.81 638.264,1563.7 640.57,1565.04 642.876,1568.1 645.182,1568.68 647.487,1564.37 649.793,1564.06 652.099,1566.42 654.405,1566.07 \n",
       "  656.711,1564.82 659.017,1563.93 661.323,1565.35 663.629,1570.29 665.935,1569.18 668.241,1564.95 670.547,1567.82 672.853,1567.41 675.159,1567.07 677.465,1565.83 \n",
       "  679.771,1568.53 682.077,1567.28 684.383,1570.34 686.689,1569.26 688.995,1571.08 691.301,1570.55 693.607,1570.61 695.913,1569.26 698.219,1571.43 700.524,1569.76 \n",
       "  702.83,1569.21 705.136,1565.89 707.442,1571.68 709.748,1572.23 712.054,1574.34 714.36,1573.96 716.666,1571.79 718.972,1569 721.278,1570.86 723.584,1574.58 \n",
       "  725.89,1575.47 728.196,1573.88 730.502,1570.69 732.808,1575.13 735.114,1575.46 737.42,1575.74 739.726,1576.02 742.032,1576.28 744.338,1573.86 746.644,1576.15 \n",
       "  748.95,1579.38 751.255,1572.49 753.561,1576.27 755.867,1575.96 758.173,1574.4 760.479,1577.83 762.785,1573.63 765.091,1577.36 767.397,1578.98 769.703,1576.85 \n",
       "  772.009,1576.08 774.315,1580.27 776.621,1579.84 778.927,1575.27 781.233,1576.06 783.539,1578.68 785.845,1577.81 788.151,1577.06 790.457,1574.44 792.763,1578.77 \n",
       "  795.069,1578.2 797.375,1582.25 799.681,1580.1 801.987,1576.7 804.292,1581.02 806.598,1579.16 808.904,1580 811.21,1578.19 813.516,1582.81 815.822,1580.39 \n",
       "  818.128,1577.46 820.434,1580.65 822.74,1580.05 825.046,1578.42 827.352,1582.59 829.658,1581.08 831.964,1585.25 834.27,1581.06 836.576,1580.54 838.882,1582.12 \n",
       "  841.188,1581.08 843.494,1581.97 845.8,1582.51 848.106,1579.65 850.412,1583.63 852.718,1579.89 855.024,1583.32 857.329,1581.24 859.635,1584.35 861.941,1582.83 \n",
       "  864.247,1583.08 866.553,1583.54 868.859,1585.17 871.165,1584.68 873.471,1585.06 875.777,1584.77 878.083,1587 880.389,1584.96 882.695,1587.23 885.001,1584.08 \n",
       "  887.307,1584.03 889.613,1580.17 891.919,1586.91 894.225,1585.31 896.531,1588.1 898.837,1589.8 901.143,1586.25 903.449,1589.27 905.755,1586.58 908.06,1588.59 \n",
       "  910.366,1582.43 912.672,1587.9 914.978,1591.11 917.284,1585.08 919.59,1587.81 921.896,1588.68 924.202,1585.63 926.508,1587.03 928.814,1584.32 931.12,1589.93 \n",
       "  933.426,1589.49 935.732,1589.26 938.038,1587.58 940.344,1585.77 942.65,1589.28 944.956,1587.18 947.262,1585.16 949.568,1589.17 951.874,1589.38 954.18,1592.71 \n",
       "  956.486,1587.39 958.792,1588.49 961.097,1590.09 963.403,1590.4 965.709,1591.68 968.015,1586.43 970.321,1588.1 972.627,1586.34 974.933,1592.22 977.239,1588.01 \n",
       "  979.545,1590.78 981.851,1592.18 984.157,1589.71 986.463,1591.01 988.769,1593.82 991.075,1590.64 993.381,1588.37 995.687,1587.11 997.993,1589.31 1000.3,1590.05 \n",
       "  1002.6,1589.72 1004.91,1589.8 1007.22,1588.42 1009.52,1590.84 1011.83,1591.18 1014.13,1592.11 1016.44,1591.62 1018.75,1592.67 1021.05,1592.26 1023.36,1589.46 \n",
       "  1025.66,1590.99 1027.97,1591 1030.28,1588.53 1032.58,1588.23 1034.89,1591.25 1037.19,1594.37 1039.5,1594.46 1041.81,1592.48 1044.11,1591.56 1046.42,1589.66 \n",
       "  1048.72,1595.18 1051.03,1587.76 1053.34,1591.52 1055.64,1594.85 1057.95,1593.85 1060.25,1593.48 1062.56,1588.15 1064.87,1596.94 1067.17,1594.86 1069.48,1591.91 \n",
       "  1071.78,1591.11 1074.09,1594.19 1076.4,1589.42 1078.7,1588.16 1081.01,1590.5 1083.31,1595.87 1085.62,1594.71 1087.93,1594.55 1090.23,1596.44 1092.54,1591.82 \n",
       "  1094.84,1594.32 1097.15,1593.17 1099.45,1593.11 1101.76,1594.19 1104.07,1588.21 1106.37,1595.44 1108.68,1590.37 1110.98,1593.48 1113.29,1593.32 1115.6,1591.56 \n",
       "  1117.9,1593.93 1120.21,1595.64 1122.51,1592.53 1124.82,1593.46 1127.13,1595.22 1129.43,1594.17 1131.74,1595.96 1134.04,1594.07 1136.35,1596.05 1138.66,1595.23 \n",
       "  1140.96,1593.29 1143.27,1596.24 1145.57,1595.33 1147.88,1593.43 1150.19,1593.55 1152.49,1596.66 1154.8,1593.27 1157.1,1595.7 1159.41,1596.74 1161.72,1599.15 \n",
       "  1164.02,1593.23 1166.33,1597.48 1168.63,1598.37 1170.94,1593.83 1173.25,1593.57 1175.55,1596.91 1177.86,1594.27 1180.16,1597.39 1182.47,1595.05 1184.78,1596.25 \n",
       "  1187.08,1594.83 1189.39,1591.66 1191.69,1595.57 1194,1594.06 1196.3,1595.84 1198.61,1596.64 1200.92,1594.37 1203.22,1598.47 1205.53,1597.5 1207.83,1593.55 \n",
       "  1210.14,1596.34 1212.45,1598.32 1214.75,1596.85 1217.06,1593.3 1219.36,1596 1221.67,1595.03 1223.98,1597.12 1226.28,1598.52 1228.59,1594.93 1230.89,1597.82 \n",
       "  1233.2,1597.04 1235.51,1598.63 1237.81,1596.5 1240.12,1601.34 1242.42,1597 1244.73,1598.34 1247.04,1597.32 1249.34,1595.5 1251.65,1597.92 1253.95,1592.99 \n",
       "  1256.26,1595.75 1258.57,1599.28 1260.87,1592.06 1263.18,1595.25 1265.48,1599.94 1267.79,1595.59 1270.1,1597.96 1272.4,1597.16 1274.71,1600.52 1277.01,1598.1 \n",
       "  1279.32,1598.39 1281.63,1596.62 1283.93,1593.56 1286.24,1599.02 1288.54,1598.09 1290.85,1599.83 1293.16,1595.99 1295.46,1597.34 1297.77,1600.28 1300.07,1598.49 \n",
       "  1302.38,1599.27 1304.68,1597.39 1306.99,1601.16 1309.3,1599.74 1311.6,1599.16 1313.91,1603.49 1316.21,1600.52 1318.52,1597.62 1320.83,1601.26 1323.13,1598.15 \n",
       "  1325.44,1590.6 1327.74,1599.9 1330.05,1597.4 1332.36,1601.32 1334.66,1599.52 1336.97,1597.81 1339.27,1599.22 1341.58,1599.86 1343.89,1602.06 1346.19,1599.12 \n",
       "  1348.5,1598.74 1350.8,1600.62 1353.11,1604.98 1355.42,1597.81 1357.72,1599.1 1360.03,1600.76 1362.33,1599.6 1364.64,1598.69 1366.95,1600.19 1369.25,1600.98 \n",
       "  1371.56,1601.65 1373.86,1597.54 1376.17,1600.54 1378.48,1599.98 1380.78,1602.67 1383.09,1604.35 1385.39,1603.03 1387.7,1603.76 1390.01,1603.21 1392.31,1598.39 \n",
       "  1394.62,1602.21 1396.92,1597.66 1399.23,1601.28 1401.54,1603.31 1403.84,1601.93 1406.15,1599.69 1408.45,1600.51 1410.76,1604.38 1413.06,1605.98 1415.37,1601.72 \n",
       "  1417.68,1598.78 1419.98,1599.34 1422.29,1604.08 1424.59,1597.41 1426.9,1599.75 1429.21,1602.93 1431.51,1602.86 1433.82,1608.53 1436.12,1605.13 1438.43,1602.9 \n",
       "  1440.74,1605.18 1443.04,1601.36 1445.35,1599.35 1447.65,1598.87 1449.96,1603.96 1452.27,1600.78 1454.57,1600.72 1456.88,1599.99 1459.18,1600.15 1461.49,1604.04 \n",
       "  1463.8,1604.9 1466.1,1600.49 1468.41,1604.85 1470.71,1602.72 1473.02,1600.18 1475.33,1604.67 1477.63,1604.38 1479.94,1605.66 1482.24,1601.91 1484.55,1600.59 \n",
       "  1486.86,1601.44 1489.16,1601.27 1491.47,1604.55 1493.77,1601.79 1496.08,1600.61 1498.39,1602.15 1500.69,1606.51 1503,1604.5 1505.3,1605.24 1507.61,1602.51 \n",
       "  1509.91,1603.98 1512.22,1600.48 1514.53,1607.7 1516.83,1602.62 1519.14,1603.21 1521.44,1607.09 1523.75,1607.69 1526.06,1602.54 1528.36,1608.93 1530.67,1606.2 \n",
       "  1532.97,1605.28 1535.28,1605.63 1537.59,1610.08 1539.89,1603.67 1542.2,1605.61 1544.5,1604.24 1546.81,1603.77 1549.12,1606.38 1551.42,1603.92 1553.73,1606 \n",
       "  1556.03,1604.03 1558.34,1610.64 1560.65,1606.86 1562.95,1607.77 1565.26,1605.83 1567.56,1605.17 1569.87,1603.94 1572.18,1604.12 1574.48,1603.28 1576.79,1602.63 \n",
       "  1579.09,1609.37 1581.4,1609.28 1583.71,1607.01 1586.01,1606.33 1588.32,1604.05 1590.62,1608.07 1592.93,1604.83 1595.24,1606.83 1597.54,1605.47 1599.85,1607.7 \n",
       "  1602.15,1607.71 1604.46,1606.76 1606.77,1608.12 1609.07,1607.62 1611.38,1602.85 1613.68,1610.58 1615.99,1610.26 1618.29,1608.7 1620.6,1608.76 1622.91,1604.82 \n",
       "  1625.21,1603.15 1627.52,1604.44 1629.82,1611.42 1632.13,1605.93 1634.44,1607.58 1636.74,1609.13 1639.05,1609.06 1641.35,1605.39 1643.66,1608.4 1645.97,1606.41 \n",
       "  1648.27,1605.97 1650.58,1611.12 1652.88,1609.09 1655.19,1608.65 1657.5,1608.5 1659.8,1610.21 1662.11,1608.41 1664.41,1608.3 1666.72,1609.65 1669.03,1608.14 \n",
       "  1671.33,1609.37 1673.64,1609.43 1675.94,1611.87 1678.25,1610.92 1680.56,1604.1 1682.86,1609.38 1685.17,1608.43 1687.47,1607.8 1689.78,1607.93 1692.09,1605.77 \n",
       "  1694.39,1610.86 1696.7,1612.28 1699,1605.79 1701.31,1610.79 1703.62,1607.07 1705.92,1610.36 1708.23,1610.78 1710.53,1609.68 1712.84,1611.17 1715.14,1611.87 \n",
       "  1717.45,1610.53 1719.76,1610.51 1722.06,1613.39 1724.37,1610.39 1726.67,1613.42 1728.98,1611.32 1731.29,1611.43 1733.59,1607.83 1735.9,1610.77 1738.2,1613.31 \n",
       "  1740.51,1606.05 1742.82,1611.66 1745.12,1608.01 1747.43,1607.51 1749.73,1617.39 1752.04,1610.11 1754.35,1611.58 1756.65,1611.31 1758.96,1611.41 1761.26,1611.36 \n",
       "  1763.57,1610.1 1765.88,1607.48 1768.18,1609.32 1770.49,1612.87 1772.79,1610.92 1775.1,1614.25 1777.41,1612.58 1779.71,1611.61 1782.02,1611.71 1784.32,1611.28 \n",
       "  1786.63,1613.34 1788.94,1609.07 1791.24,1613.83 1793.55,1615.27 1795.85,1612.3 1798.16,1613.61 1800.47,1611.58 1802.77,1612.28 1805.08,1610.71 1807.38,1613.65 \n",
       "  1809.69,1612.5 1812,1612.62 1814.3,1611.74 1816.61,1617.72 1818.91,1611.34 1821.22,1612.31 1823.52,1612.71 1825.83,1615.75 1828.14,1616.27 1830.44,1611.74 \n",
       "  1832.75,1617.34 1835.05,1613.31 1837.36,1612.36 1839.67,1612.3 1841.97,1613.75 1844.28,1613.86 1846.58,1615.97 1848.89,1614.47 1851.2,1611.58 1853.5,1616.02 \n",
       "  1855.81,1614.02 1858.11,1613.53 1860.42,1613.29 1862.73,1611.93 1865.03,1615.11 1867.34,1612.8 1869.64,1613.01 1871.95,1615.21 1874.26,1612.3 1876.56,1615.57 \n",
       "  1878.87,1612.09 1881.17,1616.07 1883.48,1612.92 1885.79,1616.28 1888.09,1615.34 1890.4,1620.61 1892.7,1615.85 1895.01,1618.31 1897.32,1617.23 1899.62,1619.38 \n",
       "  1901.93,1612.9 1904.23,1613.96 1906.54,1615.73 1908.85,1615.47 1911.15,1615.42 1913.46,1616.52 1915.76,1614.81 1918.07,1614.06 1920.38,1616.97 1922.68,1615.02 \n",
       "  1924.99,1612.76 1927.29,1614.54 1929.6,1615.79 1931.9,1618.04 1934.21,1619.19 1936.52,1608.58 1938.82,1617.85 1941.13,1618.78 1943.43,1619.73 1945.74,1617.49 \n",
       "  1948.05,1618.29 1950.35,1613.45 1952.66,1618.93 1954.96,1615.43 1957.27,1615.05 1959.58,1616.1 1961.88,1614.68 1964.19,1613.93 1966.49,1618.48 1968.8,1616.87 \n",
       "  1971.11,1622.57 1973.41,1616.85 1975.72,1620.88 1978.02,1611.93 1980.33,1616.92 1982.64,1618.1 1984.94,1617.51 1987.25,1617.96 1989.55,1616.92 1991.86,1618.19 \n",
       "  1994.17,1619.35 1996.47,1618.8 1998.78,1614.27 2001.08,1616.03 2003.39,1615.92 2005.7,1615.78 2008,1617.36 2010.31,1619.55 2012.61,1617.85 2014.92,1617.9 \n",
       "  2017.23,1622.19 2019.53,1621.64 2021.84,1621.42 2024.14,1619.42 2026.45,1618.39 2028.75,1618.16 2031.06,1623.56 2033.37,1619.68 2035.67,1618.97 2037.98,1619.1 \n",
       "  2040.28,1621.21 2042.59,1616.72 2044.9,1618.75 2047.2,1623.46 2049.51,1616.71 2051.81,1621.47 2054.12,1618.54 2056.43,1621.97 2058.73,1615.6 2061.04,1618.76 \n",
       "  2063.34,1620.13 2065.65,1622.43 2067.96,1623.38 2070.26,1621.07 2072.57,1620.21 2074.87,1621.58 2077.18,1621.46 2079.49,1619.84 2081.79,1620.36 2084.1,1620.61 \n",
       "  2086.4,1622.42 2088.71,1619.74 2091.02,1625.75 2093.32,1618.79 2095.63,1622.11 2097.93,1621.49 2100.24,1621.71 2102.55,1623.57 2104.85,1623.62 2107.16,1626.21 \n",
       "  2109.46,1622.28 2111.77,1624.69 2114.08,1623.3 2116.38,1622.48 2118.69,1620.44 2120.99,1625.7 2123.3,1621.12 2125.61,1620.78 2127.91,1621.19 2130.22,1623.7 \n",
       "  2132.52,1620.82 2134.83,1622.18 2137.13,1623.95 2139.44,1622.37 2141.75,1620.97 2144.05,1626.83 2146.36,1624.9 2148.66,1622.08 2150.97,1625.03 2153.28,1626.48 \n",
       "  2155.58,1624.1 2157.89,1624.64 2160.19,1623.58 2162.5,1621.56 2164.81,1623.18 2167.11,1622.76 2169.42,1622.82 2171.72,1623.42 2174.03,1624.24 2176.34,1624.77 \n",
       "  2178.64,1627.07 2180.95,1628.82 2183.25,1627.48 2185.56,1625.63 2187.87,1625.94 2190.17,1625.83 2192.48,1625.49 2194.78,1623.74 2197.09,1628.03 2199.4,1625.18 \n",
       "  2201.7,1624.69 2204.01,1626.64 2206.31,1626.94 2208.62,1625.25 2210.93,1625.53 2213.23,1624.15 2215.54,1628.91 2217.84,1623.65 2220.15,1625.1 2222.46,1625.33 \n",
       "  2224.76,1625.43 2227.07,1630.63 2229.37,1630.57 2231.68,1627.71 2233.99,1629.42 2236.29,1627.92 2238.6,1627.43 2240.9,1626.38 2243.21,1627.43 2245.51,1625.05 \n",
       "  2247.82,1626.76 2250.13,1627 2252.43,1630.01 2254.74,1634.64 2257.04,1627.01 2259.35,1621.18 2261.66,1631.2 2263.96,1628.47 2266.27,1627.52 2268.57,1630.08 \n",
       "  2270.88,1630.5 2273.19,1625.52 2275.49,1632.31 2277.8,1628.11 2280.1,1631.57 2282.41,1631.25 2284.72,1628.3 2287.02,1630.01 2289.33,1629.16 2291.63,1628.24 \n",
       "  2293.94,1630.03 2296.25,1626.04 2298.55,1632.05 2300.86,1628.28 2303.16,1632.44 2305.47,1631.18 2307.78,1628.16 2310.08,1634.89 2312.39,1628.44 2314.69,1631.88 \n",
       "  2317,1630.17 2319.31,1630.16 2321.61,1632.56 2323.92,1627.67 2326.22,1630.65 2328.53,1632.54 2330.84,1633.13 2333.14,1631 2335.45,1631.26 2337.75,1634.57 \n",
       "  2340.06,1627.48 2342.36,1630.87 2344.67,1632.3 2346.98,1631.27 2349.28,1633.2 2351.59,1632.08 2353.89,1631.11 2356.2,1634.36 2358.51,1634.36 2360.81,1632.87 \n",
       "  2363.12,1632.64 2365.42,1628.86 2367.73,1630.13 2370.04,1632.27 2372.34,1634.59 2374.65,1630.15 2376.95,1631.61 2379.26,1634.92 2381.57,1631.33 2383.87,1629.24 \n",
       "  2386.18,1634.84 2388.48,1629.82 2390.79,1634.37 2393.1,1632.8 2395.4,1631.65 2397.71,1632.51 2400.01,1630.58 2402.32,1633.55 2404.63,1634.38 2406.93,1633.65 \n",
       "  2409.24,1631.05 2411.54,1636.96 2413.85,1633.83 2416.16,1632.54 2418.46,1633.15 2420.77,1629.84 2423.07,1635.83 2425.38,1635.47 2427.69,1637.5 2429.99,1636.08 \n",
       "  2432.3,1635.54 2434.6,1636.4 2436.91,1636.08 2439.22,1635.13 2441.52,1632.74 2443.83,1636.37 2446.13,1633.35 2448.44,1634.89 2450.74,1634.8 2453.05,1636.49 \n",
       "  2455.36,1636.05 2457.66,1632.17 2459.97,1634.73 2462.27,1636.06 2464.58,1636.1 2466.89,1634.29 2469.19,1635.16 2471.5,1631.6 2473.8,1636.99 2476.11,1637.53 \n",
       "  2478.42,1641.4 2480.72,1638.83 2483.03,1639.38 2485.33,1633.02 2487.64,1635.96 2489.95,1629.57 2492.25,1632.09 2494.56,1634 2496.86,1639.04 2499.17,1636.38 \n",
       "  2501.48,1635.45 2503.78,1638.85 2506.09,1633.1 2508.39,1629.76 2510.7,1632.56 2513.01,1636.48 2515.31,1632.51 2517.62,1635.45 2519.92,1636.24 2522.23,1635.74 \n",
       "  2524.54,1641.59 2526.84,1635.66 2529.15,1637.65 2531.45,1634.09 2533.76,1637.58 2536.07,1637.93 2538.37,1637.93 2540.68,1638.31 2542.98,1634.61 2545.29,1636.15 \n",
       "  2547.6,1631.37 2549.9,1633.97 2552.21,1638.86 2554.51,1637.52 2556.82,1634.04 2559.12,1636.93 2561.43,1633.96 2563.74,1636.39 2566.04,1638.73 2568.35,1637.49 \n",
       "  2570.65,1634.07 2572.96,1634.51 2575.27,1638.58 2577.57,1638.29 2579.88,1633.83 2582.18,1636.28 2584.49,1633.01 2586.8,1636.41 2589.1,1636.95 2591.41,1637.14 \n",
       "  2593.71,1635.44 2596.02,1639.29 2598.33,1636.31 2600.63,1634.09 2602.94,1638.72 2605.24,1636.68 2607.55,1639.87 2609.86,1635.93 2612.16,1634.88 2614.47,1634.83 \n",
       "  2616.77,1635.33 2619.08,1634.39 2621.39,1633.04 2623.69,1640.3 2626,1637.37 2628.3,1636.94 2630.61,1634.42 2632.92,1635.98 2635.22,1635.42 2637.53,1637.01 \n",
       "  2639.83,1634.55 2642.14,1637.15 2644.45,1638.4 2646.75,1638.32 2649.06,1633.08 2651.36,1640.66 2653.67,1638.59 2655.97,1638.45 2658.28,1637.88 2660.59,1636.95 \n",
       "  2662.89,1640.05 2665.2,1641.37 2667.5,1638.38 2669.81,1636.36 2672.12,1635.47 2674.42,1636.78 2676.73,1636.54 2679.03,1635.64 2681.34,1639.75 2683.65,1635.66 \n",
       "  \n",
       "  \"/>\n",
       "<path clip-path=\"url(#clip460)\" d=\"\n",
       "M2169.42 363.719 L2671.36 363.719 L2671.36 208.199 L2169.42 208.199  Z\n",
       "  \" fill=\"#ffffff\" fill-rule=\"evenodd\" fill-opacity=\"1\"/>\n",
       "<polyline clip-path=\"url(#clip460)\" style=\"stroke:#000000; stroke-linecap:butt; stroke-linejoin:round; stroke-width:4; stroke-opacity:1; fill:none\" points=\"\n",
       "  2169.42,363.719 2671.36,363.719 2671.36,208.199 2169.42,208.199 2169.42,363.719 \n",
       "  \"/>\n",
       "<polyline clip-path=\"url(#clip460)\" style=\"stroke:#009af9; stroke-linecap:butt; stroke-linejoin:round; stroke-width:9; stroke-opacity:1; fill:none\" points=\"\n",
       "  2196.55,260.039 2359.34,260.039 \n",
       "  \"/>\n",
       "<path clip-path=\"url(#clip460)\" d=\"M2386.47 242.759 L2415.71 242.759 L2415.71 246.694 L2403.44 246.694 L2403.44 277.319 L2398.74 277.319 L2398.74 246.694 L2386.47 246.694 L2386.47 242.759 Z\" fill=\"#000000\" fill-rule=\"evenodd\" fill-opacity=\"1\" /><path clip-path=\"url(#clip460)\" d=\"M2428.09 255.375 Q2427.38 254.958 2426.52 254.773 Q2425.69 254.565 2424.67 254.565 Q2421.06 254.565 2419.11 256.926 Q2417.19 259.264 2417.19 263.662 L2417.19 277.319 L2412.91 277.319 L2412.91 251.393 L2417.19 251.393 L2417.19 255.421 Q2418.53 253.06 2420.69 251.926 Q2422.84 250.768 2425.92 250.768 Q2426.36 250.768 2426.89 250.838 Q2427.42 250.884 2428.07 251 L2428.09 255.375 Z\" fill=\"#000000\" fill-rule=\"evenodd\" fill-opacity=\"1\" /><path clip-path=\"url(#clip460)\" d=\"M2444.34 264.287 Q2439.18 264.287 2437.19 265.467 Q2435.2 266.648 2435.2 269.495 Q2435.2 271.764 2436.68 273.106 Q2438.19 274.426 2440.75 274.426 Q2444.3 274.426 2446.43 271.926 Q2448.58 269.403 2448.58 265.236 L2448.58 264.287 L2444.34 264.287 M2452.84 262.528 L2452.84 277.319 L2448.58 277.319 L2448.58 273.384 Q2447.12 275.745 2444.94 276.879 Q2442.77 277.99 2439.62 277.99 Q2435.64 277.99 2433.28 275.768 Q2430.94 273.523 2430.94 269.773 Q2430.94 265.398 2433.86 263.176 Q2436.8 260.953 2442.61 260.953 L2448.58 260.953 L2448.58 260.537 Q2448.58 257.597 2446.63 256 Q2444.71 254.379 2441.22 254.379 Q2439 254.379 2436.89 254.912 Q2434.78 255.444 2432.84 256.509 L2432.84 252.574 Q2435.18 251.671 2437.38 251.231 Q2439.57 250.768 2441.66 250.768 Q2447.28 250.768 2450.06 253.685 Q2452.84 256.602 2452.84 262.528 Z\" fill=\"#000000\" fill-rule=\"evenodd\" fill-opacity=\"1\" /><path clip-path=\"url(#clip460)\" d=\"M2461.61 251.393 L2465.87 251.393 L2465.87 277.319 L2461.61 277.319 L2461.61 251.393 M2461.61 241.301 L2465.87 241.301 L2465.87 246.694 L2461.61 246.694 L2461.61 241.301 Z\" fill=\"#000000\" fill-rule=\"evenodd\" fill-opacity=\"1\" /><path clip-path=\"url(#clip460)\" d=\"M2496.33 261.671 L2496.33 277.319 L2492.07 277.319 L2492.07 261.81 Q2492.07 258.129 2490.64 256.301 Q2489.2 254.472 2486.33 254.472 Q2482.88 254.472 2480.89 256.671 Q2478.9 258.87 2478.9 262.666 L2478.9 277.319 L2474.62 277.319 L2474.62 251.393 L2478.9 251.393 L2478.9 255.421 Q2480.43 253.083 2482.49 251.926 Q2484.57 250.768 2487.28 250.768 Q2491.75 250.768 2494.04 253.546 Q2496.33 256.301 2496.33 261.671 Z\" fill=\"#000000\" fill-rule=\"evenodd\" fill-opacity=\"1\" /><path clip-path=\"url(#clip460)\" d=\"M2520.08 242.759 L2524.76 242.759 L2524.76 273.384 L2541.59 273.384 L2541.59 277.319 L2520.08 277.319 L2520.08 242.759 Z\" fill=\"#000000\" fill-rule=\"evenodd\" fill-opacity=\"1\" /><path clip-path=\"url(#clip460)\" d=\"M2555.52 254.379 Q2552.1 254.379 2550.11 257.065 Q2548.12 259.727 2548.12 264.379 Q2548.12 269.032 2550.08 271.717 Q2552.07 274.379 2555.52 274.379 Q2558.93 274.379 2560.92 271.694 Q2562.91 269.009 2562.91 264.379 Q2562.91 259.773 2560.92 257.088 Q2558.93 254.379 2555.52 254.379 M2555.52 250.768 Q2561.08 250.768 2564.25 254.379 Q2567.42 257.991 2567.42 264.379 Q2567.42 270.745 2564.25 274.379 Q2561.08 277.99 2555.52 277.99 Q2549.94 277.99 2546.77 274.379 Q2543.62 270.745 2543.62 264.379 Q2543.62 257.991 2546.77 254.379 Q2549.94 250.768 2555.52 250.768 Z\" fill=\"#000000\" fill-rule=\"evenodd\" fill-opacity=\"1\" /><path clip-path=\"url(#clip460)\" d=\"M2591.01 252.157 L2591.01 256.185 Q2589.2 255.259 2587.26 254.796 Q2585.31 254.333 2583.23 254.333 Q2580.06 254.333 2578.46 255.305 Q2576.89 256.278 2576.89 258.222 Q2576.89 259.703 2578.02 260.56 Q2579.16 261.393 2582.58 262.157 L2584.04 262.481 Q2588.58 263.453 2590.48 265.236 Q2592.4 266.995 2592.4 270.166 Q2592.4 273.777 2589.53 275.884 Q2586.68 277.99 2581.68 277.99 Q2579.6 277.99 2577.33 277.574 Q2575.08 277.18 2572.58 276.37 L2572.58 271.972 Q2574.94 273.199 2577.24 273.824 Q2579.53 274.426 2581.77 274.426 Q2584.78 274.426 2586.4 273.407 Q2588.02 272.365 2588.02 270.49 Q2588.02 268.754 2586.84 267.828 Q2585.68 266.903 2581.73 266.046 L2580.24 265.699 Q2576.29 264.866 2574.53 263.153 Q2572.77 261.416 2572.77 258.407 Q2572.77 254.75 2575.36 252.759 Q2577.95 250.768 2582.72 250.768 Q2585.08 250.768 2587.17 251.116 Q2589.25 251.463 2591.01 252.157 Z\" fill=\"#000000\" fill-rule=\"evenodd\" fill-opacity=\"1\" /><path clip-path=\"url(#clip460)\" d=\"M2615.71 252.157 L2615.71 256.185 Q2613.9 255.259 2611.96 254.796 Q2610.01 254.333 2607.93 254.333 Q2604.76 254.333 2603.16 255.305 Q2601.59 256.278 2601.59 258.222 Q2601.59 259.703 2602.72 260.56 Q2603.86 261.393 2607.28 262.157 L2608.74 262.481 Q2613.28 263.453 2615.18 265.236 Q2617.1 266.995 2617.1 270.166 Q2617.1 273.777 2614.23 275.884 Q2611.38 277.99 2606.38 277.99 Q2604.3 277.99 2602.03 277.574 Q2599.78 277.18 2597.28 276.37 L2597.28 271.972 Q2599.64 273.199 2601.93 273.824 Q2604.23 274.426 2606.47 274.426 Q2609.48 274.426 2611.1 273.407 Q2612.72 272.365 2612.72 270.49 Q2612.72 268.754 2611.54 267.828 Q2610.38 266.903 2606.43 266.046 L2604.94 265.699 Q2600.99 264.866 2599.23 263.153 Q2597.47 261.416 2597.47 258.407 Q2597.47 254.75 2600.06 252.759 Q2602.65 250.768 2607.42 250.768 Q2609.78 250.768 2611.87 251.116 Q2613.95 251.463 2615.71 252.157 Z\" fill=\"#000000\" fill-rule=\"evenodd\" fill-opacity=\"1\" /><polyline clip-path=\"url(#clip460)\" style=\"stroke:#e26f46; stroke-linecap:butt; stroke-linejoin:round; stroke-width:9; stroke-opacity:1; fill:none\" points=\"\n",
       "  2196.55,311.879 2359.34,311.879 \n",
       "  \"/>\n",
       "<path clip-path=\"url(#clip460)\" d=\"M2386.47 294.599 L2415.71 294.599 L2415.71 298.534 L2403.44 298.534 L2403.44 329.159 L2398.74 329.159 L2398.74 298.534 L2386.47 298.534 L2386.47 294.599 Z\" fill=\"#000000\" fill-rule=\"evenodd\" fill-opacity=\"1\" /><path clip-path=\"url(#clip460)\" d=\"M2434.16 315.131 L2434.16 317.215 L2414.57 317.215 Q2414.85 321.613 2417.21 323.928 Q2419.6 326.219 2423.83 326.219 Q2426.29 326.219 2428.58 325.617 Q2430.89 325.016 2433.16 323.812 L2433.16 327.84 Q2430.87 328.812 2428.46 329.321 Q2426.06 329.83 2423.58 329.83 Q2417.38 329.83 2413.74 326.219 Q2410.13 322.608 2410.13 316.451 Q2410.13 310.085 2413.56 306.358 Q2417.01 302.608 2422.84 302.608 Q2428.07 302.608 2431.1 305.988 Q2434.16 309.344 2434.16 315.131 M2429.9 313.881 Q2429.85 310.386 2427.93 308.303 Q2426.03 306.219 2422.88 306.219 Q2419.32 306.219 2417.17 308.233 Q2415.04 310.247 2414.71 313.905 L2429.9 313.881 Z\" fill=\"#000000\" fill-rule=\"evenodd\" fill-opacity=\"1\" /><path clip-path=\"url(#clip460)\" d=\"M2457.68 303.997 L2457.68 308.025 Q2455.87 307.099 2453.93 306.636 Q2451.98 306.173 2449.9 306.173 Q2446.73 306.173 2445.13 307.145 Q2443.56 308.118 2443.56 310.062 Q2443.56 311.543 2444.69 312.4 Q2445.82 313.233 2449.25 313.997 L2450.71 314.321 Q2455.25 315.293 2457.14 317.076 Q2459.06 318.835 2459.06 322.006 Q2459.06 325.617 2456.19 327.724 Q2453.35 329.83 2448.35 329.83 Q2446.26 329.83 2444 329.414 Q2441.75 329.02 2439.25 328.21 L2439.25 323.812 Q2441.61 325.039 2443.9 325.664 Q2446.19 326.266 2448.44 326.266 Q2451.45 326.266 2453.07 325.247 Q2454.69 324.205 2454.69 322.33 Q2454.69 320.594 2453.51 319.668 Q2452.35 318.743 2448.39 317.886 L2446.91 317.539 Q2442.95 316.706 2441.19 314.993 Q2439.44 313.256 2439.44 310.247 Q2439.44 306.59 2442.03 304.599 Q2444.62 302.608 2449.39 302.608 Q2451.75 302.608 2453.83 302.956 Q2455.92 303.303 2457.68 303.997 Z\" fill=\"#000000\" fill-rule=\"evenodd\" fill-opacity=\"1\" /><path clip-path=\"url(#clip460)\" d=\"M2470.06 295.872 L2470.06 303.233 L2478.83 303.233 L2478.83 306.544 L2470.06 306.544 L2470.06 320.618 Q2470.06 323.789 2470.92 324.692 Q2471.8 325.594 2474.46 325.594 L2478.83 325.594 L2478.83 329.159 L2474.46 329.159 Q2469.53 329.159 2467.65 327.33 Q2465.78 325.479 2465.78 320.618 L2465.78 306.544 L2462.65 306.544 L2462.65 303.233 L2465.78 303.233 L2465.78 295.872 L2470.06 295.872 Z\" fill=\"#000000\" fill-rule=\"evenodd\" fill-opacity=\"1\" /><path clip-path=\"url(#clip460)\" d=\"M2499.69 294.599 L2504.37 294.599 L2504.37 325.224 L2521.19 325.224 L2521.19 329.159 L2499.69 329.159 L2499.69 294.599 Z\" fill=\"#000000\" fill-rule=\"evenodd\" fill-opacity=\"1\" /><path clip-path=\"url(#clip460)\" d=\"M2535.13 306.219 Q2531.7 306.219 2529.71 308.905 Q2527.72 311.567 2527.72 316.219 Q2527.72 320.872 2529.69 323.557 Q2531.68 326.219 2535.13 326.219 Q2538.53 326.219 2540.52 323.534 Q2542.51 320.849 2542.51 316.219 Q2542.51 311.613 2540.52 308.928 Q2538.53 306.219 2535.13 306.219 M2535.13 302.608 Q2540.68 302.608 2543.86 306.219 Q2547.03 309.831 2547.03 316.219 Q2547.03 322.585 2543.86 326.219 Q2540.68 329.83 2535.13 329.83 Q2529.55 329.83 2526.38 326.219 Q2523.23 322.585 2523.23 316.219 Q2523.23 309.831 2526.38 306.219 Q2529.55 302.608 2535.13 302.608 Z\" fill=\"#000000\" fill-rule=\"evenodd\" fill-opacity=\"1\" /><path clip-path=\"url(#clip460)\" d=\"M2570.62 303.997 L2570.62 308.025 Q2568.81 307.099 2566.87 306.636 Q2564.92 306.173 2562.84 306.173 Q2559.67 306.173 2558.07 307.145 Q2556.5 308.118 2556.5 310.062 Q2556.5 311.543 2557.63 312.4 Q2558.76 313.233 2562.19 313.997 L2563.65 314.321 Q2568.18 315.293 2570.08 317.076 Q2572 318.835 2572 322.006 Q2572 325.617 2569.13 327.724 Q2566.29 329.83 2561.29 329.83 Q2559.2 329.83 2556.93 329.414 Q2554.69 329.02 2552.19 328.21 L2552.19 323.812 Q2554.55 325.039 2556.84 325.664 Q2559.13 326.266 2561.38 326.266 Q2564.39 326.266 2566.01 325.247 Q2567.63 324.205 2567.63 322.33 Q2567.63 320.594 2566.45 319.668 Q2565.29 318.743 2561.33 317.886 L2559.85 317.539 Q2555.89 316.706 2554.13 314.993 Q2552.37 313.256 2552.37 310.247 Q2552.37 306.59 2554.97 304.599 Q2557.56 302.608 2562.33 302.608 Q2564.69 302.608 2566.77 302.956 Q2568.86 303.303 2570.62 303.997 Z\" fill=\"#000000\" fill-rule=\"evenodd\" fill-opacity=\"1\" /><path clip-path=\"url(#clip460)\" d=\"M2595.31 303.997 L2595.31 308.025 Q2593.51 307.099 2591.56 306.636 Q2589.62 306.173 2587.54 306.173 Q2584.37 306.173 2582.77 307.145 Q2581.19 308.118 2581.19 310.062 Q2581.19 311.543 2582.33 312.4 Q2583.46 313.233 2586.89 313.997 L2588.35 314.321 Q2592.88 315.293 2594.78 317.076 Q2596.7 318.835 2596.7 322.006 Q2596.7 325.617 2593.83 327.724 Q2590.99 329.83 2585.99 329.83 Q2583.9 329.83 2581.63 329.414 Q2579.39 329.02 2576.89 328.21 L2576.89 323.812 Q2579.25 325.039 2581.54 325.664 Q2583.83 326.266 2586.08 326.266 Q2589.09 326.266 2590.71 325.247 Q2592.33 324.205 2592.33 322.33 Q2592.33 320.594 2591.15 319.668 Q2589.99 318.743 2586.03 317.886 L2584.55 317.539 Q2580.59 316.706 2578.83 314.993 Q2577.07 313.256 2577.07 310.247 Q2577.07 306.59 2579.67 304.599 Q2582.26 302.608 2587.03 302.608 Q2589.39 302.608 2591.47 302.956 Q2593.55 303.303 2595.31 303.997 Z\" fill=\"#000000\" fill-rule=\"evenodd\" fill-opacity=\"1\" /></svg>\n"
      ]
     },
     "metadata": {},
     "output_type": "display_data"
    }
   ],
   "source": [
    "display(plot_loss_convergence(trn_rec_loss_list[2:end], tst_rec_loss_list[2:end]; title = \"Train & Test Reconstruction Loss w.r.t. Epochs\"))\n",
    "fig_name = \"Train_and_test_reconstruction_loss\"\n",
    "savefig(joinpath(\"Results\", notebook_name, fig_name))"
   ]
  },
  {
   "cell_type": "code",
   "execution_count": 15,
   "metadata": {},
   "outputs": [
    {
     "name": "stdout",
     "output_type": "stream",
     "text": [
      "\u001b[32m[2021-12-08 21:13:10 | info | root]: Training is done!\u001b[39m\n",
      "\u001b[32m[2021-12-08 21:13:10 | info | root]: We will report the last loss values for both training and test sets.\u001b[39m\n",
      "\n",
      "\u001b[32m[2021-12-08 21:13:24 | info | root]: Train Loss : 147.87773402854245\u001b[39m\n",
      "\u001b[32m[2021-12-08 21:13:24 | info | root]: Test Loss : 149.65584264657437\u001b[39m\n",
      "\u001b[32m[2021-12-08 21:13:24 | info | root]: Train Reconstruction Loss : 8.6909895\u001b[39m\n",
      "\u001b[32m[2021-12-08 21:13:24 | info | root]: Test Reconstruction Loss : 9.377888 \u001b[39m\n",
      "\n"
     ]
    }
   ],
   "source": [
    "info(logger, \"Training is done!\")\n",
    "info(logger, \"We will report the last loss values for both training and test sets.\\n\")\n",
    "\n",
    "# Record Training and Test Losses\n",
    "epoch_loss_trn = loss_train(theta, dtrn)\n",
    "epoch_loss_tst = loss_train(theta, dtst)\n",
    "epoch_rec_loss_trn = rec_loss(decode_train, theta, dtrn)\n",
    "epoch_rec_loss_tst = rec_loss(decode_train, theta, dtst)\n",
    "\n",
    "info(logger,\"Train Loss : $epoch_loss_trn\")\n",
    "info(logger,\"Test Loss : $epoch_loss_tst\")\n",
    "info(logger,\"Train Reconstruction Loss : $epoch_rec_loss_trn\")\n",
    "info(logger,\"Test Reconstruction Loss : $epoch_rec_loss_tst \\n\")"
   ]
  },
  {
   "cell_type": "markdown",
   "metadata": {},
   "source": [
    "# Save Loss Curves"
   ]
  },
  {
   "cell_type": "code",
   "execution_count": 16,
   "metadata": {},
   "outputs": [],
   "source": [
    "Knet.save(joinpath(\"Results\", notebook_name,\"trn_loss_list.jld2\"),\"trn_loss_list\",trn_loss_list) \n",
    "Knet.save(joinpath(\"Results\", notebook_name,\"tst_loss_list.jld2\"),\"tst_loss_list\",tst_loss_list) \n",
    "Knet.save(joinpath(\"Results\", notebook_name,\"trn_rec_loss_list.jld2\"),\"trn_rec_loss_list\",trn_rec_loss_list) \n",
    "Knet.save(joinpath(\"Results\", notebook_name,\"tst_rec_loss_list.jld2\"),\"tst_rec_loss_list\",tst_rec_loss_list) "
   ]
  },
  {
   "cell_type": "code",
   "execution_count": null,
   "metadata": {},
   "outputs": [],
   "source": []
  }
 ],
 "metadata": {
  "kernelspec": {
   "display_name": "Julia 1.6.3",
   "language": "julia",
   "name": "julia-1.6"
  },
  "language_info": {
   "file_extension": ".jl",
   "mimetype": "application/julia",
   "name": "julia",
   "version": "1.6.3"
  }
 },
 "nbformat": 4,
 "nbformat_minor": 2
}
