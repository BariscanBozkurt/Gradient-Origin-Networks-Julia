{
 "cells": [
  {
   "cell_type": "code",
   "execution_count": 1,
   "metadata": {},
   "outputs": [
    {
     "data": {
      "text/plain": [
       "KnetArray{Float32, N} where N"
      ]
     },
     "execution_count": 1,
     "metadata": {},
     "output_type": "execute_result"
    }
   ],
   "source": [
    "# Set display width, load packages, import symbols\n",
    "ENV[\"COLUMNS\"]=72\n",
    "using Distributions\n",
    "using Interpolations\n",
    "using Knet: Knet, dir, accuracy, progress, sgd, load143, save, gc, Param, KnetArray, Data, minibatch, nll, relu, training, dropout,sigm # param, param0, xavier_uniform\n",
    "using Knet\n",
    "using Images\n",
    "using Plots\n",
    "using LinearAlgebra\n",
    "using IterTools: ncycle, takenth\n",
    "using MLDatasets\n",
    "using Base.Iterators: flatten\n",
    "import CUDA # functional\n",
    "using ImageTransformations\n",
    "using Statistics\n",
    "using Memento\n",
    "using NPZ\n",
    "# using Interpolations\n",
    "atype=(CUDA.functional() ? KnetArray{Float32} : Array{Float32})"
   ]
  },
  {
   "cell_type": "code",
   "execution_count": 2,
   "metadata": {},
   "outputs": [
    {
     "data": {
      "text/plain": [
       "params (generic function with 2 methods)"
      ]
     },
     "execution_count": 2,
     "metadata": {},
     "output_type": "execute_result"
    }
   ],
   "source": [
    "const F = Float32\n",
    "params = Knet.params"
   ]
  },
  {
   "cell_type": "code",
   "execution_count": 3,
   "metadata": {},
   "outputs": [],
   "source": [
    "logger = Memento.config!(\"info\"; fmt=\"[{date} | {level} | {name}]: {msg}\");"
   ]
  },
  {
   "cell_type": "code",
   "execution_count": 4,
   "metadata": {},
   "outputs": [],
   "source": [
    "include(\"PlotUtility.jl\")\n",
    "include(\"ImageUtility.jl\")\n",
    "include(\"TrainUtility.jl\")\n",
    "include(\"LayerUtility.jl\")\n",
    "include(\"LossUtility.jl\")\n",
    "\n",
    "using .PlotUtility\n",
    "using .ImageUtility\n",
    "using .TrainUtility\n",
    "using .LayerUtility\n",
    "using .LossUtility"
   ]
  },
  {
   "cell_type": "code",
   "execution_count": 5,
   "metadata": {},
   "outputs": [
    {
     "data": {
      "text/plain": [
       "\"Results/GON_Autoencoder_w_BN_exp2_mnist/Logger\""
      ]
     },
     "execution_count": 5,
     "metadata": {},
     "output_type": "execute_result"
    }
   ],
   "source": [
    "dataset_name = \"mnist\"\n",
    "notebook_name = \"GON_Autoencoder_w_BN_exp2\" * \"_\" * dataset_name\n",
    "\n",
    "if !isdir(\"Results\")\n",
    "   mkdir(\"Results\") \n",
    "end\n",
    "if  !isdir(joinpath(\"Results\", notebook_name))\n",
    "    mkdir(joinpath(\"Results\", notebook_name))\n",
    "end\n",
    "\n",
    "if  !isdir(joinpath(\"Results\", notebook_name, \"Saved_Models\"))\n",
    "    mkdir(joinpath(\"Results\", notebook_name, \"Saved_Models\"))\n",
    "end\n",
    "\n",
    "if  !isdir(joinpath(\"Results\", notebook_name, \"Images\"))\n",
    "    mkdir(joinpath(\"Results\", notebook_name, \"Images\"))\n",
    "end\n",
    "\n",
    "if  !isdir(joinpath(\"Results\", notebook_name, \"Logger\"))\n",
    "    mkdir(joinpath(\"Results\", notebook_name, \"Logger\"))\n",
    "end"
   ]
  },
  {
   "cell_type": "code",
   "execution_count": 6,
   "metadata": {},
   "outputs": [],
   "source": [
    "push!(logger, DefaultHandler(joinpath(\"Results\", notebook_name, \"Logger\", \"logger.log\"),DefaultFormatter(\"[{date} | {level} | {name}]: {msg}\")));"
   ]
  },
  {
   "cell_type": "code",
   "execution_count": 7,
   "metadata": {},
   "outputs": [],
   "source": [
    "use_saved_data = true\n",
    "\n",
    "if dataset_name == \"mnist\"\n",
    "    \n",
    "    if use_saved_data\n",
    "        xtrn = npzread(\"Data/MNIST_Train_Images.npy\")\n",
    "        xtrn = permutedims(xtrn, (3,4,2,1))\n",
    "        xtst = npzread(\"Data/MNIST_Test_Images.npy\")\n",
    "        xtst = permutedims(xtst, (3,4,2,1))\n",
    "\n",
    "    else\n",
    "\n",
    "        xtrn,_ = MNIST.traindata()\n",
    "        xtst,_ = MNIST.testdata()\n",
    "        xtrn = Array{Float64, 3}(xtrn)\n",
    "        xtst = Array{Float64, 3}(xtst)\n",
    "\n",
    "        xtrn = resize_MNIST(xtrn, 32/28)\n",
    "        xtst = resize_MNIST(xtst, 32/28)\n",
    "        \n",
    "    end\n",
    "    \n",
    "elseif dataset_name == \"fashion\"\n",
    "    \n",
    "    if use_saved_data\n",
    "\n",
    "        xtrn = npzread(\"Data/Fashion_MNIST_Train_Images.npy\")\n",
    "        xtrn = permutedims(xtrn, (3,4,2,1))\n",
    "        xtst = npzread(\"Data/Fashion_MNIST_Test_Images.npy\")\n",
    "        xtst = permutedims(xtst, (3,4,2,1))\n",
    "        \n",
    "    else\n",
    "        \n",
    "        xtrn,_ = FashionMNIST.traindata()\n",
    "        xtst,_ = FashionMNIST.testdata()\n",
    "        xtrn = Array{Float64, 3}(xtrn)\n",
    "        xtst = Array{Float64, 3}(xtst)\n",
    "\n",
    "        xtrn = resize_MNIST(xtrn, 32/28)\n",
    "        xtst = resize_MNIST(xtst, 32/28)\n",
    "\n",
    "    end\n",
    "end\n",
    "\n",
    "batch_size = 64\n",
    "\n",
    "dtrn = minibatch(xtrn, batch_size; xsize = (32, 32, 1,:), xtype = atype, shuffle = true)\n",
    "dtst = minibatch(xtst, batch_size; xsize = (32, 32, 1,:), xtype = atype);"
   ]
  },
  {
   "cell_type": "code",
   "execution_count": 8,
   "metadata": {},
   "outputs": [
    {
     "data": {
      "text/html": [
       "<table><tbody><tr><td style='text-align:center;vertical-align:middle; margin: 0.5em;border:1px #90999f solid;border-collapse:collapse'><img style='max-width: 100px; max-height:100px;display:inline' src=\"data:image/png;base64,iVBORw0KGgoAAAANSUhEUgAAAIAAAACACAAAAADmVT4XAAAABGdBTUEAALGPC/xhBQAAAAFzUkdCAK7OHOkAAAAgY0hSTQAAeiYAAICEAAD6AAAAgOgAAHUwAADqYAAAOpgAABdwnLpRPAAAAxBJREFUeAHFwc9rFgQcB+Dn3fuR6RJllqkIpsJMENIiRSmxQx7Ei4G3rh2jY6e69B8EdejULRElDKU6WdBBIhQyy2m2NPs9fR0aus1tb4cdhhtu7zuj7/NEsSgWxaJYFItiUSyKRbEoFsWiWBSLYlEsikWxKBbFolgsUg9ixhosRy9G8Se2YK1pv2MILQ+KYlEsikUHlqCBXvRhKZbhSTNexCasxG84jTewF2M4ig/Q8qAoFsWiWCygiQ1Yjs3YjgGswz5zjeAKBrALt/AjvsYf5opiUSyKxTya2Ir3sQ29aKIHPeZq4yyOYBRHMIwWhjBirigWxaJYzGMKwxjDUvR50BQGcQebsQIXcQJTpk1gEuOYMlcUi2JRLObRxi0cx000sAG7MY4reAs3sAm78T1u6VwUi2JRLBZwH5/hMiaxE6vQj09wGv/gPM5jVHeiWBSLYtGBX/E3prAEQ3gWY5hEG3dwXveiWBSLYtGhcdOGMYgdOICPcA0TFieKRbEoFl0axHEM4CUcwBe4gdu4pztRLIpFsejSBL7Fe9iJN7Ef3+EUzuE+2joTxaJYFItFuIezeBvvYD9exhZ8iDMY0ZkoFsWiWCxCGyM4gb/wGl7AfqzAapxCy8KiWBSLYrFIk7iJL9HCXhzGLjyGfrxrYVEsikWxeARt3ME3uI4t2I4dGMVJXMWUh4tiUSyKxSNoYBWewhqsQgNN9KJhYVEsikWxWIRgBTbiOezGAJ5GA3dxFUNom18Ui2JRLLrQxDKswy68gj1YjSbuYxhX8APaFhbFolgUiw400IPH8TwO4SDWmjaJUfyMT3EUZ3UmikWxKBYd6MdGvIpDWIclZlzCMZzEJYzpXBSLYlEsHqIHq/E6tmET1mMlgnu4gI/xFa6ihTHdiWJRLIrFLP14BvuwFXvQjz40MYlf8DmO4TKGMY627kWxKBbFYpb1OIjDeAJ9aGEQt3ENZ3AOFzDh0USxKBbFYpa7uIgTZrTwE27jOgYx7r8RxaJYFItZhjDk/xPFolgUi2JRLIpFsSgWxaJYFPsX5dSlba33Cz0AAAAASUVORK5C\"></td><td style='text-align:center;vertical-align:middle; margin: 0.5em;border:1px #90999f solid;border-collapse:collapse'><img style='max-width: 100px; max-height:100px;display:inline' src=\"data:image/png;base64,iVBORw0KGgoAAAANSUhEUgAAAIAAAACACAAAAADmVT4XAAAABGdBTUEAALGPC/xhBQAAAAFzUkdCAK7OHOkAAAAgY0hSTQAAeiYAAICEAAD6AAAAgOgAAHUwAADqYAAAOpgAABdwnLpRPAAAAx9JREFUeAHFwU1oFgQcB+Dnff2ZH7GlNvtugeWKog8JZUSOKMgSD4p4q2uXDp2CzkHHDmFCh8CgwlvkIYU+qUAsAjWjmRlOUczQ5dLlpviuww4dtnd7t4z/80SxKBbFolgUi2JRLIpFsSgWxaJYFItiUSyKxXWwAqvRZ9JR/Iphs4tiUSyKxX/QQBeex3MYMOkb7MEus4tiUSyKxTw10YUBvIY+NNHCVqzCboyhpb0oFsWiWMxDE114Em+iFwswhotoogf9OIARtEwvikWxKBZzFPRgAK+jFwsxgfP4FJfwMnbhLbyLP0wvikWxKBZztA4vYQC3I/51C27FKfyC+/AgFmsvikWxKBZz0IN+PIM7cA1HcBj96MEwDqALfViCpvaiWBSLYtGhm7EZW7ASYxjEDlzBCEbxGQ7hGl7BA+jFWVw2VRSLYlEsOtCNddiCNRjDGezBR+jBCZzFSYzjFBq4F0/jJIZMFcWiWBSLWTSxFtvwEH7HQRzF5xjFCH4zVQPBeuzFkKmiWBSLYjGDBrrxAjZiHLvxHk4haJndctxgelEsikWxmEHwMJ7AMuzA2zju+oliUSyKxQwW4VXchmP4Did0poEmWmhoL4pFsSgWbdyI9XgMS3AIQ2jpzARamMAQLpleFItiUSzaCHrQjVHsx5DZNdGLTbiGQXyAIdOLYlEsikUbDTTRxCiGMGxmTazCZmzDOXyM/RgxvSgWxaJYdOAEzuOq9rrRhw3YgHFsxyc4h5bpRbEoFsWiAyO4or270Y9n8ThG8A52ml0Ui2JRLGbQQANrsBrHcBkNLMVNWIzN2Ip7MIj3sVNnolgUi2IxgwlMYBlexFIcwCKsxUbcj5UYxg/Yi291LopFsSgWHWjiKTyKYQR3YiGaOILv8SH24arORbEoFsWijcs4jJ/wCBajB8tNauICvsZ2HMefGDc3USyKRbFo4yqO4Q1swkbchQU4gy/wJX7EIMbMTxSLYlEs2mjhIr7CaezDCpMu4GccxV+YMH9RLIpFsZjBBP7GQRz0/4hiUSyKRbEoFsWiWBSLYlEsikWxKBbFotg/EiqeVkjSWIYAAAAASUVORK5C\"></td><td style='text-align:center;vertical-align:middle; margin: 0.5em;border:1px #90999f solid;border-collapse:collapse'><img style='max-width: 100px; max-height:100px;display:inline' src=\"data:image/png;base64,iVBORw0KGgoAAAANSUhEUgAAAIAAAACACAAAAADmVT4XAAAABGdBTUEAALGPC/xhBQAAAAFzUkdCAK7OHOkAAAAgY0hSTQAAeiYAAICEAAD6AAAAgOgAAHUwAADqYAAAOpgAABdwnLpRPAAAAnZJREFUeAHFwb1uFQQABtBz61egYFsKxICBCEETCf7EzQkHnNDJB3DyDXR38i3cTHwEB1YjGidFozGkmBI01qQQaQkV2+LAwKU/eL20+c6JsiiLsiiLsiiLsiiLsiiLsiiLsiiLsiiLsiiLsiiLPRIcw6u4iiWs2SrKoizKYpNJHMADrBjfIVzAx/gIX2LFVlEWZVEWmxzHeWzgsvEdwMuYx6qdRVmURVlschwXcB+XjWeA/TiF57EfA9uLsiiLstjkLN7EFePbhzN4F9/gOu7aXpRFWZTFJlOY9nTO4n0cxgKWsWF7URZlURZDZnEMU57OEbyGdXyHe3YWZVEWZTHkFF7EQeMLpjGHdfyCVTuLsiiLshjyAs546K7xnMDrOIoV3MKanUVZlEVZDJnBLJaxYHQTOIgZvI33EHyPO9iwsyiLsiiLbSxj3uMmMMAEnsEAA0ziEN7ARVzEOdzEp1jChp1FWZRFWWxjEtMedxKzOIlXcBQHcQlTWMdvWMd93MPPWPdkURZlURZD1vAPzuMTfOCR05hFMIlV3MTXmMcP+BWX8CFWcR0bnizKoizKYshXeBbv4Dkc8cgafsQ13MACVvAX7uA2TuEEJnALf/tvURZlURZDfscXuIY5Wy1hEbdw21Zv4RyWcdVooizKoiw2WcSi8czhMP7EFaOJsiiLstgDd3DNaKIsyqIs9sAE9hlNlEVZlMUuG+AQjhtNlEVZlMUue+ChCaOJsiiLstgDM3jJaKIsyqIsdtkAwZTRRFmURVnsokX8gVmji7Ioi7LYRT/hc5zGt0YTZVEWZbGLbuAz/0+URVmURVmURVmURVmURVmU/QsVwGKoBDA0PgAAAABJRU5ErkJg\"></td><td style='text-align:center;vertical-align:middle; margin: 0.5em;border:1px #90999f solid;border-collapse:collapse'><img style='max-width: 100px; max-height:100px;display:inline' src=\"data:image/png;base64,iVBORw0KGgoAAAANSUhEUgAAAIAAAACACAAAAADmVT4XAAAABGdBTUEAALGPC/xhBQAAAAFzUkdCAK7OHOkAAAAgY0hSTQAAeiYAAICEAAD6AAAAgOgAAHUwAADqYAAAOpgAABdwnLpRPAAAAkFJREFUeAHFwb+LlgUAB/CPL986sULu0CGJIoOKwCEKokOiH2QQ0uzS0tbW3NbU1n/g1miggxEI0Q+iwcogGhw0zCAKrqQzL+vufRsaWrSe570Hvp9PlEVZlEVZlEVZlEVZlEVZlEVZlEVZlEVZlEVZlEVZTGwVh3EfdnAeG9h2a1EWZVEWE9qHp/E6XsYNnMDHuO7WoizKoiwmdAQn8ALmmGPhv0VZlEVZTGg/1nCH4aIsyqIsJvIwjuMJ3MBXeBsX8Ifbi7Ioi7KYwGG8hpewhkt4D5/iT8zdXpRFWZTFBNbxPB7AJr7AWWz5f1EWZVEWu7QXx/Cgf1zEOXxnmCiLsiiLJc1wN45iHau4io/wieGiLMqiLJa0gsfwFg5hC5/hfVwxXJRFWZTFEmZYxXN4FMHXOI0vjRNlURZlsYSDeAVvYAXf4h2cw03jRFmURVmMdBeexZtYwx78iKvYxMI4URZlURYjPYJjOORfH+AK5saLsiiLshhhPx7Hk1hgBxfxOTYsJ8qiLMpihHUcx/3Yxg84icv4y3KiLMqiLEZ4Bi9iBdfwId7Fr5YXZVEWZTHQARzAXixwDaexiYXlRVmURVkMMMOrOIoZdvAbvsGO3YmyKIuyGOAhPIV7sY3LOIUNLOxOlEVZlMUA9+Ag9mEL53ESN7GwO1EWZVEWA8wQzDDHdfxsGlEWZVEWA/yC73EEe0wryqIsymKAn3AKl3AnLphOlEVZlMUAv+MMzphelEVZlEVZlEVZlEVZlEVZlP0NzmVe9Bifqs4AAAAASUVORK5C\"></td><td style='text-align:center;vertical-align:middle; margin: 0.5em;border:1px #90999f solid;border-collapse:collapse'><img style='max-width: 100px; max-height:100px;display:inline' src=\"data:image/png;base64,iVBORw0KGgoAAAANSUhEUgAAAIAAAACACAAAAADmVT4XAAAABGdBTUEAALGPC/xhBQAAAAFzUkdCAK7OHOkAAAAgY0hSTQAAeiYAAICEAAD6AAAAgOgAAHUwAADqYAAAOpgAABdwnLpRPAAAAs5JREFUeAHFwc9rFgQcB+Dn3ftZY200NxSCJTVJgi6GeBho/QH9LnfoEkHYoVu3/oa6dhLqqsEGdSiJIpMIRINWOopRy4KwNjLdoP1y797+gHjX+74Lvs8TxaJYFItiUSyKRbEoFsWiWBSLYlEsikWxKBbFolgUi2JRLIpFsSgWxaJYFIti0YcGgkE0MYAG7uIuGmjgLlr2FsWiWBSLPozhBJ7CcRzFEC7gczRxPy7gGlo6i2JRLIpFjx7Ec3gFD2AES2jiFB5HA5sYwyLWdRbFolgUiy4N4BCexhkcxhI+xhXs4Bk8i0msYA279hbFolgUiy49jOcxg0nM4yyu4iam0MS92MHv+AI79hbFolgUiy4cwwxOYwJfYhYfYhttnMI0xvEbPsG3aNlbFItiUSz20MQRvIoXMIpLeBcXsYUmxvEEjuA2vsJ5/O2/RbEoFsWigwaGcQYvYQiXcQ6fYQfDmMI0HsUAruAcFnQnikWxKBYdDGACpzGGq3gHn2IQ9+ERvIXHMIxvMIeLuhfFolgUiw4auAfjCM7jOqbxJE7iKCbQRBvXMI8t3YtiUSyKRQdtbGMVo3gTr2MIYxjCOu7gADZxHYto614Ui2JRLDrYxS28jTcwhTEs4RLmsYHXcAwL+AmbehPFolgUiw7aWMcHuIOD2MYKbmAZUziIQfyCP/UuikWxKBZ7aGMZ7/u3URzCJAbxI/7QuygWxaJY9KmF22ihjZ+xondRLIpFsejTFm5g1/5EsSgWxaJPI5hG7E8Ui2JRLPo0hMMYsD9RLIpFsejTOhawiwYa+hPFolgUiz5t4QfcxEM4gBFs6E0Ui2JRLPrUwl/4CC/jJBZxGWu6F8WiWBSLfdjGHE7gOG5hDV9jR3eiWBSLYrEPLXyHOcxgGr/ie6zqThSLYlEs9qGNDbyHZbyIEQxjVXeiWBSLYvE/2MAsZvUuikWxKPYPvhCMIXS75goAAAAASUVORK5C\"></td><td style='text-align:center;vertical-align:middle; margin: 0.5em;border:1px #90999f solid;border-collapse:collapse'><img style='max-width: 100px; max-height:100px;display:inline' src=\"data:image/png;base64,iVBORw0KGgoAAAANSUhEUgAAAIAAAACACAAAAADmVT4XAAAABGdBTUEAALGPC/xhBQAAAAFzUkdCAK7OHOkAAAAgY0hSTQAAeiYAAICEAAD6AAAAgOgAAHUwAADqYAAAOpgAABdwnLpRPAAAAy1JREFUeAHFwU1oFgQcB+DnffdLpTmbG0OpjMjMPkmMQos0kT69WHYo6tAHGNG5W+du1Sk6degSHgqMCClZGfahHaRDpWhh00x0ammba835dvAwpHdfVvyfJ4pFsSgWxaJYFItiUSyKRbEoFsWiWBSLYlEsikWxKBbF4j/QgWABujCKozhvelEsikWxuEQNzEUvetGNG7EUv+I9HDG9KBbFoljMUgNBJ5bhOazEMsxHA4fQhVdx3tSiWBSLYjFL3bgTT+JhdOEy/IYBdGIR1mMLDmLc5KJYFItiMUPzsB6bcBcW4wo0cAxv4Fs8is3ow0L8bGpRLIpFsZihm7ARG9CNDrRwDK9hK0awFg0EHaYXxaJYFIsZWomV6MVfGMQhbMX7OIIl6DI7USyKRbGYoUF8h0EcwQAOoB8nMY5udJudKBbFoljM0KcYxOX4CScw5GILsdDsRLEoFsVihobwtQlBH5omLMNVGMcwzqJlalEsikWxmKUmgivxBOahiRZuQR9OYje+x7ipRbEoFsViFuagD/fgGaxBA0200MQotuN1jJteFItiUSxmoANL8DQ2oA+dOI19uA3daGIMPbgdAxgztSgWxaJYTCO4GZvxEIbxMfbiAMbwCu5AJ+bgVjyPo9iDUbS0F8WiWBSLSTQwB+vxOB5AE9vwDg5jDM9iETqwD6dwNVbhZezATpzAeQzhdxOiWBSLYjGJ+ViNF7Eah/E5PsB+LMb92Iwe7MZH+AXLsQo34DqswCmcxU58YkIUi2JRLNroxAq8hHXYh3fxBYZxN+7FJpxDP7ZgJ06jBzuwCg/iPszFj9jvYlEsikWxaGMJnsIj+BPb8QOuwWqsxXIcw1vYhgGMuuA4jmMX9mAdFuAz7HCxKBbFoli0cS0eQwNNbMRG9GI+zuEI3sTbGEHLP42hH/0mF8WiWBSLNkZxCj2Yi6Uu2I8PsQtfYgAjaLl0USyKRbFoYw9ewBpcjyF8hb04iTMYxhha/p0oFsWiWLRxBt/gIBZgDMfxB8bR8t+JYlEsikUbLYzgkP9fFItiUSyKRbEoFsWiWBSLYlEsikWxKBbFolgUi2JR7G9yo6QKpKkAYAAAAABJRU5ErkJg\"></td><td style='text-align:center;vertical-align:middle; margin: 0.5em;border:1px #90999f solid;border-collapse:collapse'><img style='max-width: 100px; max-height:100px;display:inline' src=\"data:image/png;base64,iVBORw0KGgoAAAANSUhEUgAAAIAAAACACAAAAADmVT4XAAAABGdBTUEAALGPC/xhBQAAAAFzUkdCAK7OHOkAAAAgY0hSTQAAeiYAAICEAAD6AAAAgOgAAHUwAADqYAAAOpgAABdwnLpRPAAAAe5JREFUeAHFwTGrlXUAB+Dn4M+rRFGQyuValysiougk4ugWfZOWRr9HH6QhwsXFchEXwSFtKEShEL2T3hu34qSn4Qyu5/++wu95oizKoizKoizKoizKoizKoizKoizKoizKYoJTuI4LeI2f8BL/GRdlURZlMSi4hFu4iRf4FvdwYFyURVmUxaCT+BKXscAOzuIkDoyLsiiLshj0L/7AE5wxX5RFWZTFoCXeYN+HEWVRFmUxaAunsOvDiLIoi7IYFHyGbe/tYgd/4ciYKIuyKItBS+zjd5yz9jVe4Q2eGRNlURZlMWiJ3/AjvrJ2FZfws3FRFmVRFhPs4wEWWJknyqIsymKiBRZYmCfKoizKYqIV3mFlniiLsiiLsiiLsiiLsiiLsiiLiRZYeG8XnxsXZVEWZTHRytrK2lVcxkMc2FyURVmUxUT/4DEu4hi2cQ338cjmoizKoiwmOsRdnMcxa3vYwyObi7Ioi7KY6AiP8Te2sMDH+BTHsbSZKIuyKIuJXuN7fIMrOIFruIk7eGkzURZlURYzvMVTXMCWtZUxURZlURYzLPEDbuAT00RZlEVZzPAWv+A5TuMj46IsyqIsZniHP/EdvsAWfsWhzUVZlEVZzLDCIW6bLsqiLMqiLMqiLMqiLMqiLMqiLMqiLMr+BynSRObXHdPfAAAAAElFTkSuQmCC\"></td><td style='text-align:center;vertical-align:middle; margin: 0.5em;border:1px #90999f solid;border-collapse:collapse'><img style='max-width: 100px; max-height:100px;display:inline' src=\"data:image/png;base64,iVBORw0KGgoAAAANSUhEUgAAAIAAAACACAAAAADmVT4XAAAABGdBTUEAALGPC/xhBQAAAAFzUkdCAK7OHOkAAAAgY0hSTQAAeiYAAICEAAD6AAAAgOgAAHUwAADqYAAAOpgAABdwnLpRPAAAAxxJREFUeAHFwcuL1QUcB9Bz535m1GYGNDPw0cOKsiRDKGgIFJISysCF7QOhTbRrVbTpb2hXu7auCoKIUIIEeyCJEdpkD1NHMW3yMeO8bou7uAxzR3+DxPecKBbFolgUi2JRLIpFsSgWxaJYFItiUSyKRbEoFsWiWBSLFRrEagTr8SQGLDWLiziBWcuLYlEsikVDQxjBA9iCUTyLtzBkqev4Gu9iHNPoWCqKRbEoFg09iJewDzswiPvQQsdSw9iD9/EBTmHWUlEsikWxaGg/3sCjaKPlzobwGj7FOVy1VBSLYlEsGvodVzGIGZzHYbTQ0bUJ27FFzyDaaOkvikWxKBYNHcU1bMEcJnEKLXR0rcUBHMQI5nEcp3BDf1EsikWxaOgCrmAQHcxjymIPYRotXfM4jQnM6C+KRbEoFg11MI1p/W3GC9iJ1brmcAST6OgvikWxKBZ3YQAb8TDGsAs70MY8/sYX+NfyolgUi2LRUDCCUazSNYRX8DoexzBauIm/8B1uomN5USyKRbFoYACbsRt78JiuNnairWcaP+BDfINJLFheFItiUSwa2Ir3sBfrMKCrhaCj5yKO4DPMYcHtRbEoFsWigQGswTBWWWwAC3o24Xlsx3F3FsWiWBSLBi7gY/yKe3AWc7pa6OAZ7MZWjGJYM1EsikWxaOA6juIPBFcwb7FvsQ5brUwUi2JRLBqawrjljeCGlYtiUSyKxW20sR6TmEFHfxuxF09YuSgWxaJY9BGMYiN24XOcx5yeFtoYwX68iafQwQI6moliUSyKRR/34mUcxBjO4Rqm9AT3YzfexiNo4SYmMaWZKBbFolj0sQ3vYBuCA3gOc3pGMIansQZtnMGXOIQfNRPFolgUiz7aWI3oehWz6OgZwDDWYBIn8Am+wmXMayaKRbEoFn2cwUfYhzGstdg0ruICxnEY3+MnXMaC5qJYFIti0ccEDmEcZ/EiNuASfsHPOIl/cBGncQkzVi6KRbEoFn3cwp+YwAROYgMuYhzj+A033L0oFsWiWCyjg1s4hmP+P1EsikWxKBbFolgUi2JRLIpFsf8A62qeJvNzciAAAAAASUVORK5C\"></td><td style='text-align:center;vertical-align:middle; margin: 0.5em;border:1px #90999f solid;border-collapse:collapse'><img style='max-width: 100px; max-height:100px;display:inline' src=\"data:image/png;base64,iVBORw0KGgoAAAANSUhEUgAAAIAAAACACAAAAADmVT4XAAAABGdBTUEAALGPC/xhBQAAAAFzUkdCAK7OHOkAAAAgY0hSTQAAeiYAAICEAAD6AAAAgOgAAHUwAADqYAAAOpgAABdwnLpRPAAAAb9JREFUeAHFwTtqVVEABdCVZJuoJGAk/lAURLG2UOycggOwdUaOwMbKiaQQYuGnUATBRiH45ZnwEsdwz32w14qyKIuyKIuyKIuyKIuyKIuyKIuyKIuyKIuyKIuyKIsBawh2cRcH+G1MlEVZlMWAdezhCZ7iGd7jxHRRFmVRFgM2cA/P8R1X8AkL00VZlEVZzLCGPVzCFhami7Ioi7KYaR1rxkVZlEVZzHSKM1g3JsqiLMpiBa7hPA5NF2VRFmUxaIkjbOIWto2JsiiLshiwxB98xU1cwKYxURZlURYDljjEB1w3T5RFWZTFCqwZF2VRFmWxAjvYNCbKoizKYgUeYM+YKIuyKItBC7zFY2wjxkRZlEVZDPqHjzjBOnZwFgvTRFmURVkMOsFPnGID29jCwjRRFmVRFoOO8BW/cBE3sIsfpomyKIuyGPQX+3iHh7iDy/hsmiiLsiiLGZbYx228wmvTRVmURVmswCmOsTRdlEVZlMUKnMN9HOCLaaIsyqIsZtjAI5zHXxybLsqiLMpipgW+4TsWpouyKIuymOEIL3AVb7AwXZRFWZTFDEd4aZ4oi7Ioi7Ioi7Ioi7Ioi7Io+w8iqzuWllKOVQAAAABJRU5ErkJg\"></td><td style='text-align:center;vertical-align:middle; margin: 0.5em;border:1px #90999f solid;border-collapse:collapse'><img style='max-width: 100px; max-height:100px;display:inline' src=\"data:image/png;base64,iVBORw0KGgoAAAANSUhEUgAAAIAAAACACAAAAADmVT4XAAAABGdBTUEAALGPC/xhBQAAAAFzUkdCAK7OHOkAAAAgY0hSTQAAeiYAAICEAAD6AAAAgOgAAHUwAADqYAAAOpgAABdwnLpRPAAAAtVJREFUeAHFwU1oFgQcB+Bn22/TYTZDlohFsEZmlgXRiKGwkgXRpSIadfHUrQ9vUbeOXaVDUIc8eCkpCioPGYRpUlQkRAXOQPvENtuSNrc2O+wwZL7tfafr/zxRLIpFsSgWxaJYFItiUSyKRbEoFsWiWBSLYvE/2I0N+AYnXSqKRbEoFquoA1vxLNZhH066VBSLYlEsVkknbsReDOAY/rRUFItiUSxWyfXYixFcxLf4xVJRLIpFsVgla3En1uAEDuOUpaJYFItisQI9GMCDeBlnMW/RJuzGzfgNr+N7zFsqikWxKBYrcAuew604iElMWXQTHsd67MNhjLu8KBbFoliswHpsRS82osOia9CPHWjHKMYw6/KiWBSLYtGizbgd3RjHOOYs6EAf7kU3fsWPmNFYFItiUSxa0Im78TC6cAijmLHgBjyAIYzhAL7ElMaiWBSLYtGkLvRhCNvxA17BWcyhBw/hSWzBIbxkeVEsikWxaEIn+vE0HsME3sd3mEcbhjGC2/A13tScKBbFolgsIxjG8xhAF9qwC+exH2sxiD6M4iA+0JwoFsWiWPyHTtyPF3AXuvAXZjGI7diJ67AN6/A29mNWc6JYFIti0cA6DOJF3IF5vItP0YtH0YdhdGEN5rELe/AGxiwvikWxKBYNbMAj6McnOI4jGMUmXMAebEEHLqIdG9GLC5oTxaJYFIsG2hEcwEf4AucsmMIJzFpwFD9hBj/jY5zXnCgWxaJYNDCBd/AV/sCcBe3oQT82Ywqv4XP8jWlMal4Ui2JRLBqYxIeWuhY7cB/a8RmO4pSViWJRLIpFC9qwDU9gCKN4BmesXBSLYlEsWtCDe7AT43gLZzBr5aJYFIti0YIRPIV5vIdXMe3KRLEoFsWiBecwgX9wBL+7clEsikWxaMFxTKMbx1wdUSyKRbFowWmcdnVFsSgWxaJYFItiUSyKRbEoFsWiWBSLYlHsX0wwgMhGwZr2AAAAAElFTkSuQmCC\"></td></tr></tbody></table><div><small>(a vector displayed as a row to save space)</small></div>"
      ],
      "text/plain": [
       "10-element Vector{Matrix{Gray{Float32}}}:\n",
       " [Gray{Float32}(0.0f0) Gray{Float32}(0.0f0) … Gray{Float32}(0.0f0) Gray{Float32}(0.0f0); Gray{Float32}(0.0f0) Gray{Float32}(0.0f0) … Gray{Float32}(0.0f0) Gray{Float32}(0.0f0); … ; Gray{Float32}(0.0f0) Gray{Float32}(0.0f0) … Gray{Float32}(0.0f0) Gray{Float32}(0.0f0); Gray{Float32}(0.0f0) Gray{Float32}(0.0f0) … Gray{Float32}(0.0f0) Gray{Float32}(0.0f0)]\n",
       " [Gray{Float32}(0.0f0) Gray{Float32}(0.0f0) … Gray{Float32}(0.0f0) Gray{Float32}(0.0f0); Gray{Float32}(0.0f0) Gray{Float32}(0.0f0) … Gray{Float32}(0.0f0) Gray{Float32}(0.0f0); … ; Gray{Float32}(0.0f0) Gray{Float32}(0.0f0) … Gray{Float32}(0.0f0) Gray{Float32}(0.0f0); Gray{Float32}(0.0f0) Gray{Float32}(0.0f0) … Gray{Float32}(0.0f0) Gray{Float32}(0.0f0)]\n",
       " [Gray{Float32}(0.0f0) Gray{Float32}(0.0f0) … Gray{Float32}(0.0f0) Gray{Float32}(0.0f0); Gray{Float32}(0.0f0) Gray{Float32}(0.0f0) … Gray{Float32}(0.0f0) Gray{Float32}(0.0f0); … ; Gray{Float32}(0.0f0) Gray{Float32}(0.0f0) … Gray{Float32}(0.0f0) Gray{Float32}(0.0f0); Gray{Float32}(0.0f0) Gray{Float32}(0.0f0) … Gray{Float32}(0.0f0) Gray{Float32}(0.0f0)]\n",
       " [Gray{Float32}(0.0f0) Gray{Float32}(0.0f0) … Gray{Float32}(0.0f0) Gray{Float32}(0.0f0); Gray{Float32}(0.0f0) Gray{Float32}(0.0f0) … Gray{Float32}(0.0f0) Gray{Float32}(0.0f0); … ; Gray{Float32}(0.0f0) Gray{Float32}(0.0f0) … Gray{Float32}(0.0f0) Gray{Float32}(0.0f0); Gray{Float32}(0.0f0) Gray{Float32}(0.0f0) … Gray{Float32}(0.0f0) Gray{Float32}(0.0f0)]\n",
       " [Gray{Float32}(0.0f0) Gray{Float32}(0.0f0) … Gray{Float32}(0.0f0) Gray{Float32}(0.0f0); Gray{Float32}(0.0f0) Gray{Float32}(0.0f0) … Gray{Float32}(0.0f0) Gray{Float32}(0.0f0); … ; Gray{Float32}(0.0f0) Gray{Float32}(0.0f0) … Gray{Float32}(0.0f0) Gray{Float32}(0.0f0); Gray{Float32}(0.0f0) Gray{Float32}(0.0f0) … Gray{Float32}(0.0f0) Gray{Float32}(0.0f0)]\n",
       " [Gray{Float32}(0.0f0) Gray{Float32}(0.0f0) … Gray{Float32}(0.0f0) Gray{Float32}(0.0f0); Gray{Float32}(0.0f0) Gray{Float32}(0.0f0) … Gray{Float32}(0.0f0) Gray{Float32}(0.0f0); … ; Gray{Float32}(0.0f0) Gray{Float32}(0.0f0) … Gray{Float32}(0.0f0) Gray{Float32}(0.0f0); Gray{Float32}(0.0f0) Gray{Float32}(0.0f0) … Gray{Float32}(0.0f0) Gray{Float32}(0.0f0)]\n",
       " [Gray{Float32}(0.0f0) Gray{Float32}(0.0f0) … Gray{Float32}(0.0f0) Gray{Float32}(0.0f0); Gray{Float32}(0.0f0) Gray{Float32}(0.0f0) … Gray{Float32}(0.0f0) Gray{Float32}(0.0f0); … ; Gray{Float32}(0.0f0) Gray{Float32}(0.0f0) … Gray{Float32}(0.0f0) Gray{Float32}(0.0f0); Gray{Float32}(0.0f0) Gray{Float32}(0.0f0) … Gray{Float32}(0.0f0) Gray{Float32}(0.0f0)]\n",
       " [Gray{Float32}(0.0f0) Gray{Float32}(0.0f0) … Gray{Float32}(0.0f0) Gray{Float32}(0.0f0); Gray{Float32}(0.0f0) Gray{Float32}(0.0f0) … Gray{Float32}(0.0f0) Gray{Float32}(0.0f0); … ; Gray{Float32}(0.0f0) Gray{Float32}(0.0f0) … Gray{Float32}(0.0f0) Gray{Float32}(0.0f0); Gray{Float32}(0.0f0) Gray{Float32}(0.0f0) … Gray{Float32}(0.0f0) Gray{Float32}(0.0f0)]\n",
       " [Gray{Float32}(0.0f0) Gray{Float32}(0.0f0) … Gray{Float32}(0.0f0) Gray{Float32}(0.0f0); Gray{Float32}(0.0f0) Gray{Float32}(0.0f0) … Gray{Float32}(0.0f0) Gray{Float32}(0.0f0); … ; Gray{Float32}(0.0f0) Gray{Float32}(0.0f0) … Gray{Float32}(0.0f0) Gray{Float32}(0.0f0); Gray{Float32}(0.0f0) Gray{Float32}(0.0f0) … Gray{Float32}(0.0f0) Gray{Float32}(0.0f0)]\n",
       " [Gray{Float32}(0.0f0) Gray{Float32}(0.0f0) … Gray{Float32}(0.0f0) Gray{Float32}(0.0f0); Gray{Float32}(0.0f0) Gray{Float32}(0.0f0) … Gray{Float32}(0.0f0) Gray{Float32}(0.0f0); … ; Gray{Float32}(0.0f0) Gray{Float32}(0.0f0) … Gray{Float32}(0.0f0) Gray{Float32}(0.0f0); Gray{Float32}(0.0f0) Gray{Float32}(0.0f0) … Gray{Float32}(0.0f0) Gray{Float32}(0.0f0)]"
      ]
     },
     "execution_count": 8,
     "metadata": {},
     "output_type": "execute_result"
    }
   ],
   "source": [
    "k = 1:10\n",
    "if use_saved_data\n",
    "    [Matrix{Gray{Float32}}(reshape(xtrn[:,:,:,j], (32, 32))) for j in k]\n",
    "else\n",
    "    [Matrix{Gray{Float32}}(reshape(xtrn[:,:,j], (32, 32))) for j in k]\n",
    "end"
   ]
  },
  {
   "cell_type": "code",
   "execution_count": 9,
   "metadata": {},
   "outputs": [
    {
     "data": {
      "text/plain": [
       "weights (generic function with 1 method)"
      ]
     },
     "execution_count": 9,
     "metadata": {},
     "output_type": "execute_result"
    }
   ],
   "source": [
    "function weights(nc, nz,  ngf) \n",
    "        \n",
    "    # Decoding Weights\n",
    "    theta = [] # z -> x\n",
    "    \n",
    "    w, b = deconv_weight_init(4, 4, nz, ngf * 4;bias = true, return_param = false)\n",
    "    push!(theta, w)\n",
    "    push!(theta, b)\n",
    "    push!(theta, (bnparams(ngf * 4))) # Batch Normalization\n",
    "    \n",
    "    w, b = deconv_weight_init(4, 4, ngf * 4, ngf * 2;bias= true, return_param = false)\n",
    "    push!(theta, w)\n",
    "    push!(theta, b)\n",
    "    push!(theta, (bnparams(ngf * 2)))\n",
    "    \n",
    "    w, b = deconv_weight_init(4, 4, ngf * 2, ngf;bias = true, return_param = false)\n",
    "    push!(theta, w)\n",
    "    push!(theta, b)\n",
    "    push!(theta, (bnparams(ngf)))\n",
    "    \n",
    "    w,b = deconv_weight_init(4,4,ngf, nc;bias = true, return_param = false)\n",
    "    push!(theta, w)\n",
    "    push!(theta, b)\n",
    "\n",
    "    theta = map(a->convert(atype,a), theta)\n",
    "    \n",
    "    return Param.(theta)\n",
    "end"
   ]
  },
  {
   "cell_type": "code",
   "execution_count": 10,
   "metadata": {},
   "outputs": [
    {
     "data": {
      "text/plain": [
       "rec_loss (generic function with 2 methods)"
      ]
     },
     "execution_count": 10,
     "metadata": {},
     "output_type": "execute_result"
    }
   ],
   "source": [
    "moments1 = bnmoments()\n",
    "moments2 = bnmoments()\n",
    "moments3 = bnmoments()\n",
    "\n",
    "function decode(theta, z; batch_size = 64, training = true)\n",
    "    \n",
    "    z = deconv4(theta[1], z, mode = 1) .+ theta[2]\n",
    "    z = mybatchnorm(z, moments1, theta[3]; training = training)\n",
    "    z = Knet.elu.(z)\n",
    "    \n",
    "    z = deconv4(theta[4], z, mode = 1, stride = 2, padding = 1) .+ theta[5]\n",
    "    z = mybatchnorm(z, moments2, theta[6]; training = training)\n",
    "    z = Knet.elu.(z)\n",
    "    \n",
    "    z = deconv4(theta[7], z, mode = 1, stride = 2, padding = 1) .+ theta[8]\n",
    "    z = mybatchnorm(z, moments3, theta[9]; training = training)\n",
    "    z = Knet.elu.(z)\n",
    "    \n",
    "    z = deconv4(theta[10], z, mode = 1, stride = 2, padding = 1) .+ theta[11]\n",
    "    x_hat = Knet.sigm.(z)\n",
    "    return x_hat\n",
    "    \n",
    "end\n",
    "\n",
    "function decode_train(theta, x; batch_size = 64)\n",
    "    origin = Param(atype(zeros(1, 1, nz, batch_size)))\n",
    "    derivative_origin = @diff inner_loss(x,origin)\n",
    "    dz = grad(derivative_origin, origin)\n",
    "    z = -dz\n",
    "    x_hat = decode(theta, z; batch_size = batch_size, training = true)\n",
    "    return x_hat\n",
    "end\n",
    "\n",
    "# (Reconstruction Error := Mean Squared Error)\n",
    "inner_loss(x, z) = mean(sum((decode(theta, z; batch_size = size(x,4)) - x).^2, dims = 3))\n",
    "\n",
    "function loss_train(theta, x)\n",
    "    x_hat =  decode_train(theta, x; batch_size = size(x,4))\n",
    "    L = mean(sum((x_hat - x).^2, dims = 3))\n",
    "end\n",
    "\n",
    "function loss_train(theta, d::Data)\n",
    "    total_loss = 0\n",
    "    n_instance = 0\n",
    "    for x in d\n",
    "        total_loss += loss_train(theta, x) * size(x,4)\n",
    "        n_instance += size(x,4)\n",
    "    end\n",
    "    \n",
    "    total_loss /= n_instance\n",
    "end\n",
    "\n",
    "## Sum Squared Error Definition\n",
    "# function rec_loss(theta, x)\n",
    "#     x_hat =  decode_train(theta, x; batch_size = size(x,4))\n",
    "#     x_hat = (floor.(x_hat * 255))./255\n",
    "#     L = sum((x - x_hat).^2) / size(x,4)\n",
    "# end\n",
    "\n",
    "# Sum Squared Error Definition\n",
    "rec_loss(theta, x) = sum((x - decode_train(theta, x; batch_size = size(x,4))).^2) / size(x,4)\n",
    "\n",
    "function rec_loss(theta, d::Data)\n",
    "    total_loss = 0\n",
    "    n_instance = 0\n",
    "    for x in d\n",
    "        total_loss += rec_loss(theta, x) * size(x,4)\n",
    "        n_instance += size(x,4)\n",
    "    end\n",
    "    \n",
    "    total_loss /= n_instance\n",
    "end"
   ]
  },
  {
   "cell_type": "code",
   "execution_count": 11,
   "metadata": {},
   "outputs": [
    {
     "name": "stdout",
     "output_type": "stream",
     "text": [
      "\u001b[32m[2021-12-08 13:33:46 | info | root]: Epoch : 0\u001b[39m\n",
      "\u001b[32m[2021-12-08 13:33:46 | info | root]: Train Loss : 0.23333599\u001b[39m\n",
      "\u001b[32m[2021-12-08 13:33:46 | info | root]: Test Loss : 0.23341976\u001b[39m\n",
      "\u001b[32m[2021-12-08 13:33:46 | info | root]: Train Reconstruction Loss : 237.56425\u001b[39m\n",
      "\u001b[32m[2021-12-08 13:33:46 | info | root]: Test Reconstruction Loss : 237.6555 \u001b[39m\n",
      "\n"
     ]
    },
    {
     "name": "stderr",
     "output_type": "stream",
     "text": [
      "┣▏                   ┫ [1.00%, 5/500, 02:09/03:34:44, 25.19s/i] "
     ]
    },
    {
     "name": "stdout",
     "output_type": "stream",
     "text": [
      "\u001b[32m[2021-12-08 13:36:21 | info | root]: Epoch : 5\u001b[39m\n",
      "\u001b[32m[2021-12-08 13:36:21 | info | root]: Train Loss : 0.0028015396\u001b[39m\n",
      "\u001b[32m[2021-12-08 13:36:21 | info | root]: Test Loss : 0.0031562932\u001b[39m\n",
      "\u001b[32m[2021-12-08 13:36:21 | info | root]: Train Reconstruction Loss : 2.8552864\u001b[39m\n",
      "\u001b[32m[2021-12-08 13:36:21 | info | root]: Test Reconstruction Loss : 3.2226336 \u001b[39m\n",
      "\n"
     ]
    },
    {
     "name": "stderr",
     "output_type": "stream",
     "text": [
      "┣▍                   ┫ [2.00%, 10/500, 04:14/03:32:05, 25.22s/i] "
     ]
    },
    {
     "name": "stdout",
     "output_type": "stream",
     "text": [
      "\u001b[32m[2021-12-08 13:38:27 | info | root]: Epoch : 10\u001b[39m\n",
      "\u001b[32m[2021-12-08 13:38:27 | info | root]: Train Loss : 0.002306774\u001b[39m\n",
      "\u001b[32m[2021-12-08 13:38:27 | info | root]: Test Loss : 0.0025737735\u001b[39m\n",
      "\u001b[32m[2021-12-08 13:38:27 | info | root]: Train Reconstruction Loss : 2.350961\u001b[39m\n",
      "\u001b[32m[2021-12-08 13:38:27 | info | root]: Test Reconstruction Loss : 2.6288424 \u001b[39m\n",
      "\n"
     ]
    },
    {
     "name": "stderr",
     "output_type": "stream",
     "text": [
      "┣▌                   ┫ [3.00%, 15/500, 06:22/03:32:02, 25.43s/i] "
     ]
    },
    {
     "name": "stdout",
     "output_type": "stream",
     "text": [
      "\u001b[32m[2021-12-08 13:40:34 | info | root]: Epoch : 15\u001b[39m\n",
      "\u001b[32m[2021-12-08 13:40:34 | info | root]: Train Loss : 0.0020279728\u001b[39m\n",
      "\u001b[32m[2021-12-08 13:40:34 | info | root]: Test Loss : 0.0022579178\u001b[39m\n",
      "\u001b[32m[2021-12-08 13:40:34 | info | root]: Train Reconstruction Loss : 2.0701299\u001b[39m\n",
      "\u001b[32m[2021-12-08 13:40:34 | info | root]: Test Reconstruction Loss : 2.3070703 \u001b[39m\n",
      "\n"
     ]
    },
    {
     "name": "stderr",
     "output_type": "stream",
     "text": [
      "┣▊                   ┫ [4.00%, 20/500, 08:29/03:32:02, 25.41s/i] "
     ]
    },
    {
     "name": "stdout",
     "output_type": "stream",
     "text": [
      "\u001b[32m[2021-12-08 13:42:41 | info | root]: Epoch : 20\u001b[39m\n",
      "\u001b[32m[2021-12-08 13:42:41 | info | root]: Train Loss : 0.0019304843\u001b[39m\n",
      "\u001b[32m[2021-12-08 13:42:41 | info | root]: Test Loss : 0.0021071604\u001b[39m\n",
      "\u001b[32m[2021-12-08 13:42:41 | info | root]: Train Reconstruction Loss : 1.9646951\u001b[39m\n",
      "\u001b[32m[2021-12-08 13:42:41 | info | root]: Test Reconstruction Loss : 2.1475968 \u001b[39m\n",
      "\n"
     ]
    },
    {
     "name": "stderr",
     "output_type": "stream",
     "text": [
      "┣█                   ┫ [5.00%, 25/500, 10:37/03:32:23, 25.72s/i] "
     ]
    },
    {
     "name": "stdout",
     "output_type": "stream",
     "text": [
      "\u001b[32m[2021-12-08 13:44:50 | info | root]: Epoch : 25\u001b[39m\n",
      "\u001b[32m[2021-12-08 13:44:50 | info | root]: Train Loss : 0.0018002647\u001b[39m\n",
      "\u001b[32m[2021-12-08 13:44:50 | info | root]: Test Loss : 0.0019997007\u001b[39m\n",
      "\u001b[32m[2021-12-08 13:44:50 | info | root]: Train Reconstruction Loss : 1.8331022\u001b[39m\n",
      "\u001b[32m[2021-12-08 13:44:50 | info | root]: Test Reconstruction Loss : 2.0402548 \u001b[39m\n",
      "\n"
     ]
    },
    {
     "name": "stderr",
     "output_type": "stream",
     "text": [
      "┣█▏                  ┫ [6.00%, 30/500, 12:46/03:32:52, 25.87s/i] "
     ]
    },
    {
     "name": "stdout",
     "output_type": "stream",
     "text": [
      "\u001b[32m[2021-12-08 13:46:59 | info | root]: Epoch : 30\u001b[39m\n",
      "\u001b[32m[2021-12-08 13:46:59 | info | root]: Train Loss : 0.0017336771\u001b[39m\n",
      "\u001b[32m[2021-12-08 13:46:59 | info | root]: Test Loss : 0.001934351\u001b[39m\n",
      "\u001b[32m[2021-12-08 13:46:59 | info | root]: Train Reconstruction Loss : 1.7701766\u001b[39m\n",
      "\u001b[32m[2021-12-08 13:46:59 | info | root]: Test Reconstruction Loss : 1.9782498 \u001b[39m\n",
      "\n"
     ]
    },
    {
     "name": "stderr",
     "output_type": "stream",
     "text": [
      "┣█▍                  ┫ [7.00%, 35/500, 14:55/03:33:09, 25.74s/i] "
     ]
    },
    {
     "name": "stdout",
     "output_type": "stream",
     "text": [
      "\u001b[32m[2021-12-08 13:49:08 | info | root]: Epoch : 35\u001b[39m\n",
      "\u001b[32m[2021-12-08 13:49:08 | info | root]: Train Loss : 0.001696955\u001b[39m\n",
      "\u001b[32m[2021-12-08 13:49:08 | info | root]: Test Loss : 0.0018789308\u001b[39m\n",
      "\u001b[32m[2021-12-08 13:49:08 | info | root]: Train Reconstruction Loss : 1.7361822\u001b[39m\n",
      "\u001b[32m[2021-12-08 13:49:08 | info | root]: Test Reconstruction Loss : 1.925624 \u001b[39m\n",
      "\n"
     ]
    },
    {
     "name": "stderr",
     "output_type": "stream",
     "text": [
      "┣█▌                  ┫ [8.00%, 40/500, 17:05/03:33:30, 25.93s/i] "
     ]
    },
    {
     "name": "stdout",
     "output_type": "stream",
     "text": [
      "\u001b[32m[2021-12-08 13:51:18 | info | root]: Epoch : 40\u001b[39m\n",
      "\u001b[32m[2021-12-08 13:51:18 | info | root]: Train Loss : 0.0016235166\u001b[39m\n",
      "\u001b[32m[2021-12-08 13:51:18 | info | root]: Test Loss : 0.0017875242\u001b[39m\n",
      "\u001b[32m[2021-12-08 13:51:18 | info | root]: Train Reconstruction Loss : 1.6564171\u001b[39m\n",
      "\u001b[32m[2021-12-08 13:51:18 | info | root]: Test Reconstruction Loss : 1.8273994 \u001b[39m\n",
      "\n"
     ]
    },
    {
     "name": "stderr",
     "output_type": "stream",
     "text": [
      "┣█▊                  ┫ [9.00%, 45/500, 19:15/03:33:55, 26.04s/i] "
     ]
    },
    {
     "name": "stdout",
     "output_type": "stream",
     "text": [
      "\u001b[32m[2021-12-08 13:53:28 | info | root]: Epoch : 45\u001b[39m\n",
      "\u001b[32m[2021-12-08 13:53:28 | info | root]: Train Loss : 0.0015836885\u001b[39m\n",
      "\u001b[32m[2021-12-08 13:53:28 | info | root]: Test Loss : 0.0017675007\u001b[39m\n",
      "\u001b[32m[2021-12-08 13:53:28 | info | root]: Train Reconstruction Loss : 1.6159059\u001b[39m\n",
      "\u001b[32m[2021-12-08 13:53:28 | info | root]: Test Reconstruction Loss : 1.8070191 \u001b[39m\n",
      "\n"
     ]
    },
    {
     "name": "stderr",
     "output_type": "stream",
     "text": [
      "┣██                  ┫ [10.00%, 50/500, 21:25/03:34:09, 26.13s/i] "
     ]
    },
    {
     "name": "stdout",
     "output_type": "stream",
     "text": [
      "\u001b[32m[2021-12-08 13:55:38 | info | root]: Epoch : 50\u001b[39m\n",
      "\u001b[32m[2021-12-08 13:55:38 | info | root]: Train Loss : 0.0015260987\u001b[39m\n",
      "\u001b[32m[2021-12-08 13:55:38 | info | root]: Test Loss : 0.0017062277\u001b[39m\n",
      "\u001b[32m[2021-12-08 13:55:38 | info | root]: Train Reconstruction Loss : 1.5588906\u001b[39m\n",
      "\u001b[32m[2021-12-08 13:55:38 | info | root]: Test Reconstruction Loss : 1.7457312 \u001b[39m\n",
      "\n"
     ]
    },
    {
     "name": "stderr",
     "output_type": "stream",
     "text": [
      "┣██▏                 ┫ [11.00%, 55/500, 23:53/03:37:05, 26.06s/i] "
     ]
    },
    {
     "name": "stdout",
     "output_type": "stream",
     "text": [
      "\u001b[32m[2021-12-08 13:58:06 | info | root]: Epoch : 55\u001b[39m\n",
      "\u001b[32m[2021-12-08 13:58:06 | info | root]: Train Loss : 0.0015076873\u001b[39m\n",
      "\u001b[32m[2021-12-08 13:58:06 | info | root]: Test Loss : 0.0016902629\u001b[39m\n",
      "\u001b[32m[2021-12-08 13:58:06 | info | root]: Train Reconstruction Loss : 1.5361449\u001b[39m\n",
      "\u001b[32m[2021-12-08 13:58:06 | info | root]: Test Reconstruction Loss : 1.7269553 \u001b[39m\n",
      "\n"
     ]
    },
    {
     "name": "stderr",
     "output_type": "stream",
     "text": [
      "┣██▍                 ┫ [12.00%, 60/500, 26:03/03:37:08, 26.11s/i] "
     ]
    },
    {
     "name": "stdout",
     "output_type": "stream",
     "text": [
      "\u001b[32m[2021-12-08 14:00:17 | info | root]: Epoch : 60\u001b[39m\n",
      "\u001b[32m[2021-12-08 14:00:17 | info | root]: Train Loss : 0.0014545561\u001b[39m\n",
      "\u001b[32m[2021-12-08 14:00:17 | info | root]: Test Loss : 0.0016299585\u001b[39m\n",
      "\u001b[32m[2021-12-08 14:00:17 | info | root]: Train Reconstruction Loss : 1.4869009\u001b[39m\n",
      "\u001b[32m[2021-12-08 14:00:17 | info | root]: Test Reconstruction Loss : 1.6685891 \u001b[39m\n",
      "\n"
     ]
    },
    {
     "name": "stderr",
     "output_type": "stream",
     "text": [
      "┣██▌                 ┫ [13.00%, 65/500, 28:14/03:37:14, 26.35s/i] "
     ]
    },
    {
     "name": "stdout",
     "output_type": "stream",
     "text": [
      "\u001b[32m[2021-12-08 14:02:28 | info | root]: Epoch : 65\u001b[39m\n",
      "\u001b[32m[2021-12-08 14:02:28 | info | root]: Train Loss : 0.0014397765\u001b[39m\n",
      "\u001b[32m[2021-12-08 14:02:28 | info | root]: Test Loss : 0.0016178525\u001b[39m\n",
      "\u001b[32m[2021-12-08 14:02:28 | info | root]: Train Reconstruction Loss : 1.4798094\u001b[39m\n",
      "\u001b[32m[2021-12-08 14:02:28 | info | root]: Test Reconstruction Loss : 1.6648425 \u001b[39m\n",
      "\n"
     ]
    },
    {
     "name": "stderr",
     "output_type": "stream",
     "text": [
      "┣██▊                 ┫ [14.00%, 70/500, 30:26/03:37:22, 26.40s/i] "
     ]
    },
    {
     "name": "stdout",
     "output_type": "stream",
     "text": [
      "\u001b[32m[2021-12-08 14:04:39 | info | root]: Epoch : 70\u001b[39m\n",
      "\u001b[32m[2021-12-08 14:04:39 | info | root]: Train Loss : 0.0014120041\u001b[39m\n",
      "\u001b[32m[2021-12-08 14:04:39 | info | root]: Test Loss : 0.001580616\u001b[39m\n",
      "\u001b[32m[2021-12-08 14:04:39 | info | root]: Train Reconstruction Loss : 1.4488423\u001b[39m\n",
      "\u001b[32m[2021-12-08 14:04:39 | info | root]: Test Reconstruction Loss : 1.6232765 \u001b[39m\n",
      "\n"
     ]
    },
    {
     "name": "stderr",
     "output_type": "stream",
     "text": [
      "┣███                 ┫ [15.00%, 75/500, 32:37/03:37:30, 26.45s/i] "
     ]
    },
    {
     "name": "stdout",
     "output_type": "stream",
     "text": [
      "\u001b[32m[2021-12-08 14:06:51 | info | root]: Epoch : 75\u001b[39m\n",
      "\u001b[32m[2021-12-08 14:06:51 | info | root]: Train Loss : 0.0014007582\u001b[39m\n",
      "\u001b[32m[2021-12-08 14:06:51 | info | root]: Test Loss : 0.0015831612\u001b[39m\n",
      "\u001b[32m[2021-12-08 14:06:51 | info | root]: Train Reconstruction Loss : 1.4378512\u001b[39m\n",
      "\u001b[32m[2021-12-08 14:06:51 | info | root]: Test Reconstruction Loss : 1.6287436 \u001b[39m\n",
      "\n"
     ]
    },
    {
     "name": "stderr",
     "output_type": "stream",
     "text": [
      "┣███▏                ┫ [16.00%, 80/500, 34:51/03:37:49, 27.58s/i] "
     ]
    },
    {
     "name": "stdout",
     "output_type": "stream",
     "text": [
      "\u001b[32m[2021-12-08 14:09:05 | info | root]: Epoch : 80\u001b[39m\n",
      "\u001b[32m[2021-12-08 14:09:05 | info | root]: Train Loss : 0.001387015\u001b[39m\n",
      "\u001b[32m[2021-12-08 14:09:05 | info | root]: Test Loss : 0.0015364039\u001b[39m\n",
      "\u001b[32m[2021-12-08 14:09:05 | info | root]: Train Reconstruction Loss : 1.4116788\u001b[39m\n",
      "\u001b[32m[2021-12-08 14:09:05 | info | root]: Test Reconstruction Loss : 1.567288 \u001b[39m\n",
      "\n"
     ]
    },
    {
     "name": "stderr",
     "output_type": "stream",
     "text": [
      "┣███▍                ┫ [17.00%, 85/500, 37:03/03:37:54, 26.41s/i] "
     ]
    },
    {
     "name": "stdout",
     "output_type": "stream",
     "text": [
      "\u001b[32m[2021-12-08 14:11:16 | info | root]: Epoch : 85\u001b[39m\n",
      "\u001b[32m[2021-12-08 14:11:16 | info | root]: Train Loss : 0.0013563153\u001b[39m\n",
      "\u001b[32m[2021-12-08 14:11:16 | info | root]: Test Loss : 0.0015160162\u001b[39m\n",
      "\u001b[32m[2021-12-08 14:11:16 | info | root]: Train Reconstruction Loss : 1.3876318\u001b[39m\n",
      "\u001b[32m[2021-12-08 14:11:16 | info | root]: Test Reconstruction Loss : 1.554077 \u001b[39m\n",
      "\n"
     ]
    },
    {
     "name": "stderr",
     "output_type": "stream",
     "text": [
      "┣███▌                ┫ [18.00%, 90/500, 39:14/03:37:58, 26.56s/i] "
     ]
    },
    {
     "name": "stdout",
     "output_type": "stream",
     "text": [
      "\u001b[32m[2021-12-08 14:13:27 | info | root]: Epoch : 90\u001b[39m\n",
      "\u001b[32m[2021-12-08 14:13:27 | info | root]: Train Loss : 0.0013512019\u001b[39m\n",
      "\u001b[32m[2021-12-08 14:13:27 | info | root]: Test Loss : 0.0015243207\u001b[39m\n",
      "\u001b[32m[2021-12-08 14:13:27 | info | root]: Train Reconstruction Loss : 1.3892354\u001b[39m\n",
      "\u001b[32m[2021-12-08 14:13:27 | info | root]: Test Reconstruction Loss : 1.5693166 \u001b[39m\n",
      "\n"
     ]
    },
    {
     "name": "stderr",
     "output_type": "stream",
     "text": [
      "┣███▊                ┫ [19.00%, 95/500, 41:26/03:38:04, 26.52s/i] "
     ]
    },
    {
     "name": "stdout",
     "output_type": "stream",
     "text": [
      "\u001b[32m[2021-12-08 14:15:39 | info | root]: Epoch : 95\u001b[39m\n",
      "\u001b[32m[2021-12-08 14:15:39 | info | root]: Train Loss : 0.0013430705\u001b[39m\n",
      "\u001b[32m[2021-12-08 14:15:39 | info | root]: Test Loss : 0.0015043704\u001b[39m\n",
      "\u001b[32m[2021-12-08 14:15:39 | info | root]: Train Reconstruction Loss : 1.3733497\u001b[39m\n",
      "\u001b[32m[2021-12-08 14:15:39 | info | root]: Test Reconstruction Loss : 1.5417621 \u001b[39m\n",
      "\n"
     ]
    },
    {
     "name": "stderr",
     "output_type": "stream",
     "text": [
      "┣████                ┫ [20.00%, 100/500, 43:39/03:38:14, 26.60s/i] "
     ]
    },
    {
     "name": "stdout",
     "output_type": "stream",
     "text": [
      "\u001b[32m[2021-12-08 14:17:52 | info | root]: Epoch : 100\u001b[39m\n",
      "\u001b[32m[2021-12-08 14:17:52 | info | root]: Train Loss : 0.0013034728\u001b[39m\n",
      "\u001b[32m[2021-12-08 14:17:52 | info | root]: Test Loss : 0.0014623065\u001b[39m\n",
      "\u001b[32m[2021-12-08 14:17:52 | info | root]: Train Reconstruction Loss : 1.3325424\u001b[39m\n",
      "\u001b[32m[2021-12-08 14:17:52 | info | root]: Test Reconstruction Loss : 1.4977338 \u001b[39m\n",
      "\n"
     ]
    },
    {
     "name": "stderr",
     "output_type": "stream",
     "text": [
      "┣████▏               ┫ [21.00%, 105/500, 45:56/03:38:44, 26.73s/i] "
     ]
    },
    {
     "name": "stdout",
     "output_type": "stream",
     "text": [
      "\u001b[32m[2021-12-08 14:20:10 | info | root]: Epoch : 105\u001b[39m\n",
      "\u001b[32m[2021-12-08 14:20:10 | info | root]: Train Loss : 0.0013000079\u001b[39m\n",
      "\u001b[32m[2021-12-08 14:20:10 | info | root]: Test Loss : 0.0014493734\u001b[39m\n",
      "\u001b[32m[2021-12-08 14:20:10 | info | root]: Train Reconstruction Loss : 1.3297616\u001b[39m\n",
      "\u001b[32m[2021-12-08 14:20:10 | info | root]: Test Reconstruction Loss : 1.4855043 \u001b[39m\n",
      "\n"
     ]
    },
    {
     "name": "stderr",
     "output_type": "stream",
     "text": [
      "┣████▍               ┫ [22.00%, 110/500, 48:10/03:38:56, 26.78s/i] "
     ]
    },
    {
     "name": "stdout",
     "output_type": "stream",
     "text": [
      "\u001b[32m[2021-12-08 14:22:24 | info | root]: Epoch : 110\u001b[39m\n",
      "\u001b[32m[2021-12-08 14:22:24 | info | root]: Train Loss : 0.0012960117\u001b[39m\n",
      "\u001b[32m[2021-12-08 14:22:24 | info | root]: Test Loss : 0.0014484957\u001b[39m\n",
      "\u001b[32m[2021-12-08 14:22:24 | info | root]: Train Reconstruction Loss : 1.3219614\u001b[39m\n",
      "\u001b[32m[2021-12-08 14:22:24 | info | root]: Test Reconstruction Loss : 1.4809912 \u001b[39m\n",
      "\n"
     ]
    },
    {
     "name": "stderr",
     "output_type": "stream",
     "text": [
      "┣████▌               ┫ [23.00%, 115/500, 50:24/03:39:07, 26.88s/i] "
     ]
    },
    {
     "name": "stdout",
     "output_type": "stream",
     "text": [
      "\u001b[32m[2021-12-08 14:24:37 | info | root]: Epoch : 115\u001b[39m\n",
      "\u001b[32m[2021-12-08 14:24:37 | info | root]: Train Loss : 0.0012960319\u001b[39m\n",
      "\u001b[32m[2021-12-08 14:24:37 | info | root]: Test Loss : 0.0014403925\u001b[39m\n",
      "\u001b[32m[2021-12-08 14:24:37 | info | root]: Train Reconstruction Loss : 1.3193213\u001b[39m\n",
      "\u001b[32m[2021-12-08 14:24:37 | info | root]: Test Reconstruction Loss : 1.4705842 \u001b[39m\n",
      "\n"
     ]
    },
    {
     "name": "stderr",
     "output_type": "stream",
     "text": [
      "┣████▊               ┫ [24.00%, 120/500, 52:38/03:39:20, 27.10s/i] "
     ]
    },
    {
     "name": "stdout",
     "output_type": "stream",
     "text": [
      "\u001b[32m[2021-12-08 14:26:52 | info | root]: Epoch : 120\u001b[39m\n",
      "\u001b[32m[2021-12-08 14:26:52 | info | root]: Train Loss : 0.0012899642\u001b[39m\n",
      "\u001b[32m[2021-12-08 14:26:52 | info | root]: Test Loss : 0.0014356909\u001b[39m\n",
      "\u001b[32m[2021-12-08 14:26:52 | info | root]: Train Reconstruction Loss : 1.3195051\u001b[39m\n",
      "\u001b[32m[2021-12-08 14:26:52 | info | root]: Test Reconstruction Loss : 1.470805 \u001b[39m\n",
      "\n"
     ]
    },
    {
     "name": "stderr",
     "output_type": "stream",
     "text": [
      "┣█████               ┫ [25.00%, 125/500, 54:53/03:39:31, 27.05s/i] "
     ]
    },
    {
     "name": "stdout",
     "output_type": "stream",
     "text": [
      "\u001b[32m[2021-12-08 14:29:07 | info | root]: Epoch : 125\u001b[39m\n",
      "\u001b[32m[2021-12-08 14:29:07 | info | root]: Train Loss : 0.0012657623\u001b[39m\n",
      "\u001b[32m[2021-12-08 14:29:07 | info | root]: Test Loss : 0.0014205312\u001b[39m\n",
      "\u001b[32m[2021-12-08 14:29:07 | info | root]: Train Reconstruction Loss : 1.3040794\u001b[39m\n",
      "\u001b[32m[2021-12-08 14:29:07 | info | root]: Test Reconstruction Loss : 1.465078 \u001b[39m\n",
      "\n"
     ]
    },
    {
     "name": "stderr",
     "output_type": "stream",
     "text": [
      "┣█████▏              ┫ [26.00%, 130/500, 57:09/03:39:48, 27.64s/i] "
     ]
    },
    {
     "name": "stdout",
     "output_type": "stream",
     "text": [
      "\u001b[32m[2021-12-08 14:31:23 | info | root]: Epoch : 130\u001b[39m\n",
      "\u001b[32m[2021-12-08 14:31:23 | info | root]: Train Loss : 0.0012518172\u001b[39m\n",
      "\u001b[32m[2021-12-08 14:31:23 | info | root]: Test Loss : 0.0014052505\u001b[39m\n",
      "\u001b[32m[2021-12-08 14:31:23 | info | root]: Train Reconstruction Loss : 1.2810239\u001b[39m\n",
      "\u001b[32m[2021-12-08 14:31:23 | info | root]: Test Reconstruction Loss : 1.4405853 \u001b[39m\n",
      "\n"
     ]
    },
    {
     "name": "stderr",
     "output_type": "stream",
     "text": [
      "┣█████▍              ┫ [27.00%, 135/500, 59:25/03:40:05, 27.87s/i] "
     ]
    },
    {
     "name": "stdout",
     "output_type": "stream",
     "text": [
      "\u001b[32m[2021-12-08 14:33:40 | info | root]: Epoch : 135\u001b[39m\n",
      "\u001b[32m[2021-12-08 14:33:40 | info | root]: Train Loss : 0.0012400337\u001b[39m\n",
      "\u001b[32m[2021-12-08 14:33:40 | info | root]: Test Loss : 0.0013942274\u001b[39m\n",
      "\u001b[32m[2021-12-08 14:33:40 | info | root]: Train Reconstruction Loss : 1.2653384\u001b[39m\n",
      "\u001b[32m[2021-12-08 14:33:40 | info | root]: Test Reconstruction Loss : 1.4265248 \u001b[39m\n",
      "\n"
     ]
    },
    {
     "name": "stderr",
     "output_type": "stream",
     "text": [
      "┣█████▌              ┫ [28.00%, 140/500, 01:01:43/03:40:26, 27.53s/i] "
     ]
    },
    {
     "name": "stdout",
     "output_type": "stream",
     "text": [
      "\u001b[32m[2021-12-08 14:35:58 | info | root]: Epoch : 140\u001b[39m\n",
      "\u001b[32m[2021-12-08 14:35:58 | info | root]: Train Loss : 0.0012440503\u001b[39m\n",
      "\u001b[32m[2021-12-08 14:35:58 | info | root]: Test Loss : 0.0014041305\u001b[39m\n",
      "\u001b[32m[2021-12-08 14:35:58 | info | root]: Train Reconstruction Loss : 1.2802962\u001b[39m\n",
      "\u001b[32m[2021-12-08 14:35:58 | info | root]: Test Reconstruction Loss : 1.4461306 \u001b[39m\n",
      "\n"
     ]
    },
    {
     "name": "stderr",
     "output_type": "stream",
     "text": [
      "┣█████▊              ┫ [29.00%, 145/500, 01:04:03/03:40:53, 28.60s/i] "
     ]
    },
    {
     "name": "stdout",
     "output_type": "stream",
     "text": [
      "\u001b[32m[2021-12-08 14:38:20 | info | root]: Epoch : 145\u001b[39m\n",
      "\u001b[32m[2021-12-08 14:38:20 | info | root]: Train Loss : 0.001228253\u001b[39m\n",
      "\u001b[32m[2021-12-08 14:38:20 | info | root]: Test Loss : 0.0013658678\u001b[39m\n",
      "\u001b[32m[2021-12-08 14:38:20 | info | root]: Train Reconstruction Loss : 1.2525706\u001b[39m\n",
      "\u001b[32m[2021-12-08 14:38:20 | info | root]: Test Reconstruction Loss : 1.3955362 \u001b[39m\n",
      "\n"
     ]
    },
    {
     "name": "stderr",
     "output_type": "stream",
     "text": [
      "┣██████              ┫ [30.00%, 150/500, 01:06:30/03:41:41, 25.79s/i] "
     ]
    },
    {
     "name": "stdout",
     "output_type": "stream",
     "text": [
      "\u001b[32m[2021-12-08 14:40:43 | info | root]: Epoch : 150\u001b[39m\n",
      "\u001b[32m[2021-12-08 14:40:43 | info | root]: Train Loss : 0.001219296\u001b[39m\n",
      "\u001b[32m[2021-12-08 14:40:43 | info | root]: Test Loss : 0.0013573833\u001b[39m\n",
      "\u001b[32m[2021-12-08 14:40:43 | info | root]: Train Reconstruction Loss : 1.2438279\u001b[39m\n",
      "\u001b[32m[2021-12-08 14:40:43 | info | root]: Test Reconstruction Loss : 1.3878405 \u001b[39m\n",
      "\n"
     ]
    },
    {
     "name": "stderr",
     "output_type": "stream",
     "text": [
      "┣██████▏             ┫ [31.00%, 155/500, 01:08:40/03:41:30, 25.21s/i] "
     ]
    },
    {
     "name": "stdout",
     "output_type": "stream",
     "text": [
      "\u001b[32m[2021-12-08 14:42:52 | info | root]: Epoch : 155\u001b[39m\n",
      "\u001b[32m[2021-12-08 14:42:52 | info | root]: Train Loss : 0.001207732\u001b[39m\n",
      "\u001b[32m[2021-12-08 14:42:52 | info | root]: Test Loss : 0.0013615055\u001b[39m\n",
      "\u001b[32m[2021-12-08 14:42:52 | info | root]: Train Reconstruction Loss : 1.2386316\u001b[39m\n",
      "\u001b[32m[2021-12-08 14:42:52 | info | root]: Test Reconstruction Loss : 1.3992541 \u001b[39m\n",
      "\n"
     ]
    },
    {
     "name": "stderr",
     "output_type": "stream",
     "text": [
      "┣██████▍             ┫ [32.00%, 160/500, 01:10:47/03:41:12, 25.45s/i] "
     ]
    },
    {
     "name": "stdout",
     "output_type": "stream",
     "text": [
      "\u001b[32m[2021-12-08 14:45:00 | info | root]: Epoch : 160\u001b[39m\n",
      "\u001b[32m[2021-12-08 14:45:00 | info | root]: Train Loss : 0.0012046398\u001b[39m\n",
      "\u001b[32m[2021-12-08 14:45:00 | info | root]: Test Loss : 0.0013487885\u001b[39m\n",
      "\u001b[32m[2021-12-08 14:45:00 | info | root]: Train Reconstruction Loss : 1.2287714\u001b[39m\n",
      "\u001b[32m[2021-12-08 14:45:00 | info | root]: Test Reconstruction Loss : 1.3789171 \u001b[39m\n",
      "\n"
     ]
    },
    {
     "name": "stderr",
     "output_type": "stream",
     "text": [
      "┣██████▌             ┫ [33.00%, 165/500, 01:12:55/03:40:57, 25.47s/i] "
     ]
    },
    {
     "name": "stdout",
     "output_type": "stream",
     "text": [
      "\u001b[32m[2021-12-08 14:47:07 | info | root]: Epoch : 165\u001b[39m\n",
      "\u001b[32m[2021-12-08 14:47:07 | info | root]: Train Loss : 0.0012009841\u001b[39m\n",
      "\u001b[32m[2021-12-08 14:47:07 | info | root]: Test Loss : 0.0013428418\u001b[39m\n",
      "\u001b[32m[2021-12-08 14:47:07 | info | root]: Train Reconstruction Loss : 1.2235898\u001b[39m\n",
      "\u001b[32m[2021-12-08 14:47:07 | info | root]: Test Reconstruction Loss : 1.371916 \u001b[39m\n",
      "\n"
     ]
    },
    {
     "name": "stderr",
     "output_type": "stream",
     "text": [
      "┣██████▊             ┫ [34.00%, 170/500, 01:15:02/03:40:41, 25.43s/i] "
     ]
    },
    {
     "name": "stdout",
     "output_type": "stream",
     "text": [
      "\u001b[32m[2021-12-08 14:49:15 | info | root]: Epoch : 170\u001b[39m\n",
      "\u001b[32m[2021-12-08 14:49:15 | info | root]: Train Loss : 0.0011840416\u001b[39m\n",
      "\u001b[32m[2021-12-08 14:49:15 | info | root]: Test Loss : 0.0013253478\u001b[39m\n",
      "\u001b[32m[2021-12-08 14:49:15 | info | root]: Train Reconstruction Loss : 1.2099161\u001b[39m\n",
      "\u001b[32m[2021-12-08 14:49:15 | info | root]: Test Reconstruction Loss : 1.3570174 \u001b[39m\n",
      "\n"
     ]
    },
    {
     "name": "stderr",
     "output_type": "stream",
     "text": [
      "┣███████             ┫ [35.00%, 175/500, 01:17:10/03:40:29, 25.61s/i] "
     ]
    },
    {
     "name": "stdout",
     "output_type": "stream",
     "text": [
      "\u001b[32m[2021-12-08 14:51:23 | info | root]: Epoch : 175\u001b[39m\n",
      "\u001b[32m[2021-12-08 14:51:23 | info | root]: Train Loss : 0.0011957309\u001b[39m\n",
      "\u001b[32m[2021-12-08 14:51:23 | info | root]: Test Loss : 0.0013288724\u001b[39m\n",
      "\u001b[32m[2021-12-08 14:51:23 | info | root]: Train Reconstruction Loss : 1.2199631\u001b[39m\n",
      "\u001b[32m[2021-12-08 14:51:23 | info | root]: Test Reconstruction Loss : 1.3587672 \u001b[39m\n",
      "\n"
     ]
    },
    {
     "name": "stderr",
     "output_type": "stream",
     "text": [
      "┣███████▏            ┫ [36.00%, 180/500, 01:19:19/03:40:19, 25.41s/i] "
     ]
    },
    {
     "name": "stdout",
     "output_type": "stream",
     "text": [
      "\u001b[32m[2021-12-08 14:53:32 | info | root]: Epoch : 180\u001b[39m\n",
      "\u001b[32m[2021-12-08 14:53:32 | info | root]: Train Loss : 0.0011790118\u001b[39m\n",
      "\u001b[32m[2021-12-08 14:53:32 | info | root]: Test Loss : 0.0013322633\u001b[39m\n",
      "\u001b[32m[2021-12-08 14:53:32 | info | root]: Train Reconstruction Loss : 1.2079793\u001b[39m\n",
      "\u001b[32m[2021-12-08 14:53:32 | info | root]: Test Reconstruction Loss : 1.3676935 \u001b[39m\n",
      "\n"
     ]
    },
    {
     "name": "stderr",
     "output_type": "stream",
     "text": [
      "┣███████▍            ┫ [37.00%, 185/500, 01:21:26/03:40:06, 25.48s/i] "
     ]
    },
    {
     "name": "stdout",
     "output_type": "stream",
     "text": [
      "\u001b[32m[2021-12-08 14:55:39 | info | root]: Epoch : 185\u001b[39m\n",
      "\u001b[32m[2021-12-08 14:55:39 | info | root]: Train Loss : 0.0011644912\u001b[39m\n",
      "\u001b[32m[2021-12-08 14:55:39 | info | root]: Test Loss : 0.0013182213\u001b[39m\n",
      "\u001b[32m[2021-12-08 14:55:39 | info | root]: Train Reconstruction Loss : 1.1954032\u001b[39m\n",
      "\u001b[32m[2021-12-08 14:55:39 | info | root]: Test Reconstruction Loss : 1.3557186 \u001b[39m\n",
      "\n"
     ]
    },
    {
     "name": "stderr",
     "output_type": "stream",
     "text": [
      "┣███████▌            ┫ [38.00%, 190/500, 01:23:33/03:39:53, 25.54s/i] "
     ]
    },
    {
     "name": "stdout",
     "output_type": "stream",
     "text": [
      "\u001b[32m[2021-12-08 14:57:46 | info | root]: Epoch : 190\u001b[39m\n",
      "\u001b[32m[2021-12-08 14:57:46 | info | root]: Train Loss : 0.0011650309\u001b[39m\n",
      "\u001b[32m[2021-12-08 14:57:46 | info | root]: Test Loss : 0.0012948188\u001b[39m\n",
      "\u001b[32m[2021-12-08 14:57:46 | info | root]: Train Reconstruction Loss : 1.186826\u001b[39m\n",
      "\u001b[32m[2021-12-08 14:57:46 | info | root]: Test Reconstruction Loss : 1.3221084 \u001b[39m\n",
      "\n"
     ]
    },
    {
     "name": "stderr",
     "output_type": "stream",
     "text": [
      "┣███████▊            ┫ [39.00%, 195/500, 01:25:41/03:39:41, 25.44s/i] "
     ]
    },
    {
     "name": "stdout",
     "output_type": "stream",
     "text": [
      "\u001b[32m[2021-12-08 14:59:53 | info | root]: Epoch : 195\u001b[39m\n",
      "\u001b[32m[2021-12-08 14:59:53 | info | root]: Train Loss : 0.0011685886\u001b[39m\n",
      "\u001b[32m[2021-12-08 14:59:53 | info | root]: Test Loss : 0.0013102015\u001b[39m\n",
      "\u001b[32m[2021-12-08 14:59:53 | info | root]: Train Reconstruction Loss : 1.1957651\u001b[39m\n",
      "\u001b[32m[2021-12-08 14:59:53 | info | root]: Test Reconstruction Loss : 1.3434087 \u001b[39m\n",
      "\n"
     ]
    },
    {
     "name": "stderr",
     "output_type": "stream",
     "text": [
      "┣████████            ┫ [40.00%, 200/500, 01:27:47/03:39:28, 25.26s/i] "
     ]
    },
    {
     "name": "stdout",
     "output_type": "stream",
     "text": [
      "\u001b[32m[2021-12-08 15:01:59 | info | root]: Epoch : 200\u001b[39m\n",
      "\u001b[32m[2021-12-08 15:01:59 | info | root]: Train Loss : 0.0011507621\u001b[39m\n",
      "\u001b[32m[2021-12-08 15:01:59 | info | root]: Test Loss : 0.0012928899\u001b[39m\n",
      "\u001b[32m[2021-12-08 15:01:59 | info | root]: Train Reconstruction Loss : 1.1777253\u001b[39m\n",
      "\u001b[32m[2021-12-08 15:01:59 | info | root]: Test Reconstruction Loss : 1.3259295 \u001b[39m\n",
      "\n"
     ]
    },
    {
     "name": "stderr",
     "output_type": "stream",
     "text": [
      "┣████████▏           ┫ [41.00%, 205/500, 01:29:56/03:39:21, 25.18s/i] "
     ]
    },
    {
     "name": "stdout",
     "output_type": "stream",
     "text": [
      "\u001b[32m[2021-12-08 15:04:08 | info | root]: Epoch : 205\u001b[39m\n",
      "\u001b[32m[2021-12-08 15:04:08 | info | root]: Train Loss : 0.001162703\u001b[39m\n",
      "\u001b[32m[2021-12-08 15:04:08 | info | root]: Test Loss : 0.0013202457\u001b[39m\n",
      "\u001b[32m[2021-12-08 15:04:08 | info | root]: Train Reconstruction Loss : 1.1982237\u001b[39m\n",
      "\u001b[32m[2021-12-08 15:04:08 | info | root]: Test Reconstruction Loss : 1.3622279 \u001b[39m\n",
      "\n"
     ]
    },
    {
     "name": "stderr",
     "output_type": "stream",
     "text": [
      "┣████████▍           ┫ [42.00%, 210/500, 01:32:03/03:39:09, 25.32s/i] "
     ]
    },
    {
     "name": "stdout",
     "output_type": "stream",
     "text": [
      "\u001b[32m[2021-12-08 15:06:15 | info | root]: Epoch : 210\u001b[39m\n",
      "\u001b[32m[2021-12-08 15:06:15 | info | root]: Train Loss : 0.0011460963\u001b[39m\n",
      "\u001b[32m[2021-12-08 15:06:15 | info | root]: Test Loss : 0.0012864728\u001b[39m\n",
      "\u001b[32m[2021-12-08 15:06:15 | info | root]: Train Reconstruction Loss : 1.1746924\u001b[39m\n",
      "\u001b[32m[2021-12-08 15:06:15 | info | root]: Test Reconstruction Loss : 1.3214473 \u001b[39m\n",
      "\n"
     ]
    },
    {
     "name": "stderr",
     "output_type": "stream",
     "text": [
      "┣████████▌           ┫ [43.00%, 215/500, 01:34:10/03:38:59, 25.45s/i] "
     ]
    },
    {
     "name": "stdout",
     "output_type": "stream",
     "text": [
      "\u001b[32m[2021-12-08 15:08:22 | info | root]: Epoch : 215\u001b[39m\n",
      "\u001b[32m[2021-12-08 15:08:22 | info | root]: Train Loss : 0.0011436921\u001b[39m\n",
      "\u001b[32m[2021-12-08 15:08:22 | info | root]: Test Loss : 0.0012867738\u001b[39m\n",
      "\u001b[32m[2021-12-08 15:08:22 | info | root]: Train Reconstruction Loss : 1.1710012\u001b[39m\n",
      "\u001b[32m[2021-12-08 15:08:22 | info | root]: Test Reconstruction Loss : 1.319986 \u001b[39m\n",
      "\n"
     ]
    },
    {
     "name": "stderr",
     "output_type": "stream",
     "text": [
      "┣████████▊           ┫ [44.00%, 220/500, 01:36:17/03:38:49, 25.43s/i] "
     ]
    },
    {
     "name": "stdout",
     "output_type": "stream",
     "text": [
      "\u001b[32m[2021-12-08 15:10:29 | info | root]: Epoch : 220\u001b[39m\n",
      "\u001b[32m[2021-12-08 15:10:29 | info | root]: Train Loss : 0.0011435136\u001b[39m\n",
      "\u001b[32m[2021-12-08 15:10:29 | info | root]: Test Loss : 0.0013003072\u001b[39m\n",
      "\u001b[32m[2021-12-08 15:10:29 | info | root]: Train Reconstruction Loss : 1.1786305\u001b[39m\n",
      "\u001b[32m[2021-12-08 15:10:29 | info | root]: Test Reconstruction Loss : 1.3414418 \u001b[39m\n",
      "\n"
     ]
    },
    {
     "name": "stderr",
     "output_type": "stream",
     "text": [
      "┣█████████           ┫ [45.00%, 225/500, 01:38:24/03:38:41, 25.52s/i] "
     ]
    },
    {
     "name": "stdout",
     "output_type": "stream",
     "text": [
      "\u001b[32m[2021-12-08 15:12:37 | info | root]: Epoch : 225\u001b[39m\n",
      "\u001b[32m[2021-12-08 15:12:37 | info | root]: Train Loss : 0.0011276935\u001b[39m\n",
      "\u001b[32m[2021-12-08 15:12:37 | info | root]: Test Loss : 0.0012781962\u001b[39m\n",
      "\u001b[32m[2021-12-08 15:12:37 | info | root]: Train Reconstruction Loss : 1.1570091\u001b[39m\n",
      "\u001b[32m[2021-12-08 15:12:37 | info | root]: Test Reconstruction Loss : 1.3134619 \u001b[39m\n",
      "\n"
     ]
    },
    {
     "name": "stderr",
     "output_type": "stream",
     "text": [
      "┣█████████▏          ┫ [46.00%, 230/500, 01:40:32/03:38:33, 25.45s/i] "
     ]
    },
    {
     "name": "stdout",
     "output_type": "stream",
     "text": [
      "\u001b[32m[2021-12-08 15:14:45 | info | root]: Epoch : 230\u001b[39m\n",
      "\u001b[32m[2021-12-08 15:14:45 | info | root]: Train Loss : 0.001133827\u001b[39m\n",
      "\u001b[32m[2021-12-08 15:14:45 | info | root]: Test Loss : 0.0012817989\u001b[39m\n",
      "\u001b[32m[2021-12-08 15:14:45 | info | root]: Train Reconstruction Loss : 1.1608684\u001b[39m\n",
      "\u001b[32m[2021-12-08 15:14:45 | info | root]: Test Reconstruction Loss : 1.3150637 \u001b[39m\n",
      "\n"
     ]
    },
    {
     "name": "stderr",
     "output_type": "stream",
     "text": [
      "┣█████████▍          ┫ [47.00%, 235/500, 01:42:40/03:38:26, 25.50s/i] "
     ]
    },
    {
     "name": "stdout",
     "output_type": "stream",
     "text": [
      "\u001b[32m[2021-12-08 15:16:52 | info | root]: Epoch : 235\u001b[39m\n",
      "\u001b[32m[2021-12-08 15:16:52 | info | root]: Train Loss : 0.0011210479\u001b[39m\n",
      "\u001b[32m[2021-12-08 15:16:52 | info | root]: Test Loss : 0.0012661413\u001b[39m\n",
      "\u001b[32m[2021-12-08 15:16:52 | info | root]: Train Reconstruction Loss : 1.1548505\u001b[39m\n",
      "\u001b[32m[2021-12-08 15:16:52 | info | root]: Test Reconstruction Loss : 1.3049482 \u001b[39m\n",
      "\n"
     ]
    },
    {
     "name": "stderr",
     "output_type": "stream",
     "text": [
      "┣█████████▌          ┫ [48.00%, 240/500, 01:44:48/03:38:20, 25.71s/i] "
     ]
    },
    {
     "name": "stdout",
     "output_type": "stream",
     "text": [
      "\u001b[32m[2021-12-08 15:19:01 | info | root]: Epoch : 240\u001b[39m\n",
      "\u001b[32m[2021-12-08 15:19:01 | info | root]: Train Loss : 0.0011178979\u001b[39m\n",
      "\u001b[32m[2021-12-08 15:19:01 | info | root]: Test Loss : 0.0012615991\u001b[39m\n",
      "\u001b[32m[2021-12-08 15:19:01 | info | root]: Train Reconstruction Loss : 1.144158\u001b[39m\n",
      "\u001b[32m[2021-12-08 15:19:01 | info | root]: Test Reconstruction Loss : 1.2932109 \u001b[39m\n",
      "\n"
     ]
    },
    {
     "name": "stderr",
     "output_type": "stream",
     "text": [
      "┣█████████▊          ┫ [49.00%, 245/500, 01:46:57/03:38:15, 25.92s/i] "
     ]
    },
    {
     "name": "stdout",
     "output_type": "stream",
     "text": [
      "\u001b[32m[2021-12-08 15:21:09 | info | root]: Epoch : 245\u001b[39m\n",
      "\u001b[32m[2021-12-08 15:21:09 | info | root]: Train Loss : 0.0011198758\u001b[39m\n",
      "\u001b[32m[2021-12-08 15:21:09 | info | root]: Test Loss : 0.0012568658\u001b[39m\n",
      "\u001b[32m[2021-12-08 15:21:09 | info | root]: Train Reconstruction Loss : 1.1473006\u001b[39m\n",
      "\u001b[32m[2021-12-08 15:21:09 | info | root]: Test Reconstruction Loss : 1.2893255 \u001b[39m\n",
      "\n"
     ]
    },
    {
     "name": "stderr",
     "output_type": "stream",
     "text": [
      "┣██████████          ┫ [50.00%, 250/500, 01:49:06/03:38:11, 25.78s/i] "
     ]
    },
    {
     "name": "stdout",
     "output_type": "stream",
     "text": [
      "\u001b[32m[2021-12-08 15:23:18 | info | root]: Epoch : 250\u001b[39m\n",
      "\u001b[32m[2021-12-08 15:23:18 | info | root]: Train Loss : 0.001112597\u001b[39m\n",
      "\u001b[32m[2021-12-08 15:23:18 | info | root]: Test Loss : 0.0012573757\u001b[39m\n",
      "\u001b[32m[2021-12-08 15:23:18 | info | root]: Train Reconstruction Loss : 1.1407324\u001b[39m\n",
      "\u001b[32m[2021-12-08 15:23:18 | info | root]: Test Reconstruction Loss : 1.2912984 \u001b[39m\n",
      "\n"
     ]
    },
    {
     "name": "stderr",
     "output_type": "stream",
     "text": [
      "┣██████████▏         ┫ [51.00%, 255/500, 01:51:19/03:38:16, 25.92s/i] "
     ]
    },
    {
     "name": "stdout",
     "output_type": "stream",
     "text": [
      "\u001b[32m[2021-12-08 15:25:32 | info | root]: Epoch : 255\u001b[39m\n",
      "\u001b[32m[2021-12-08 15:25:32 | info | root]: Train Loss : 0.0011057643\u001b[39m\n",
      "\u001b[32m[2021-12-08 15:25:32 | info | root]: Test Loss : 0.0012543976\u001b[39m\n",
      "\u001b[32m[2021-12-08 15:25:32 | info | root]: Train Reconstruction Loss : 1.1350714\u001b[39m\n",
      "\u001b[32m[2021-12-08 15:25:32 | info | root]: Test Reconstruction Loss : 1.2895597 \u001b[39m\n",
      "\n"
     ]
    },
    {
     "name": "stderr",
     "output_type": "stream",
     "text": [
      "┣██████████▍         ┫ [52.00%, 260/500, 01:53:29/03:38:15, 26.24s/i] "
     ]
    },
    {
     "name": "stdout",
     "output_type": "stream",
     "text": [
      "\u001b[32m[2021-12-08 15:27:42 | info | root]: Epoch : 260\u001b[39m\n",
      "\u001b[32m[2021-12-08 15:27:42 | info | root]: Train Loss : 0.0011084653\u001b[39m\n",
      "\u001b[32m[2021-12-08 15:27:42 | info | root]: Test Loss : 0.0012416436\u001b[39m\n",
      "\u001b[32m[2021-12-08 15:27:42 | info | root]: Train Reconstruction Loss : 1.1321992\u001b[39m\n",
      "\u001b[32m[2021-12-08 15:27:42 | info | root]: Test Reconstruction Loss : 1.2706808 \u001b[39m\n",
      "\n"
     ]
    },
    {
     "name": "stderr",
     "output_type": "stream",
     "text": [
      "┣██████████▌         ┫ [53.00%, 265/500, 01:55:41/03:38:16, 26.46s/i] "
     ]
    },
    {
     "name": "stdout",
     "output_type": "stream",
     "text": [
      "\u001b[32m[2021-12-08 15:29:54 | info | root]: Epoch : 265\u001b[39m\n",
      "\u001b[32m[2021-12-08 15:29:54 | info | root]: Train Loss : 0.0010931686\u001b[39m\n",
      "\u001b[32m[2021-12-08 15:29:54 | info | root]: Test Loss : 0.0012313836\u001b[39m\n",
      "\u001b[32m[2021-12-08 15:29:54 | info | root]: Train Reconstruction Loss : 1.1194896\u001b[39m\n",
      "\u001b[32m[2021-12-08 15:29:54 | info | root]: Test Reconstruction Loss : 1.2633734 \u001b[39m\n",
      "\n"
     ]
    },
    {
     "name": "stderr",
     "output_type": "stream",
     "text": [
      "┣██████████▊         ┫ [54.00%, 270/500, 01:57:53/03:38:17, 26.64s/i] "
     ]
    },
    {
     "name": "stdout",
     "output_type": "stream",
     "text": [
      "\u001b[32m[2021-12-08 15:32:06 | info | root]: Epoch : 270\u001b[39m\n",
      "\u001b[32m[2021-12-08 15:32:06 | info | root]: Train Loss : 0.0010999006\u001b[39m\n",
      "\u001b[32m[2021-12-08 15:32:06 | info | root]: Test Loss : 0.0012368622\u001b[39m\n",
      "\u001b[32m[2021-12-08 15:32:06 | info | root]: Train Reconstruction Loss : 1.1231649\u001b[39m\n",
      "\u001b[32m[2021-12-08 15:32:06 | info | root]: Test Reconstruction Loss : 1.2659956 \u001b[39m\n",
      "\n"
     ]
    },
    {
     "name": "stderr",
     "output_type": "stream",
     "text": [
      "┣███████████         ┫ [55.00%, 275/500, 02:00:05/03:38:20, 26.56s/i] "
     ]
    },
    {
     "name": "stdout",
     "output_type": "stream",
     "text": [
      "\u001b[32m[2021-12-08 15:34:18 | info | root]: Epoch : 275\u001b[39m\n",
      "\u001b[32m[2021-12-08 15:34:18 | info | root]: Train Loss : 0.001091493\u001b[39m\n",
      "\u001b[32m[2021-12-08 15:34:18 | info | root]: Test Loss : 0.0012411874\u001b[39m\n",
      "\u001b[32m[2021-12-08 15:34:18 | info | root]: Train Reconstruction Loss : 1.1224122\u001b[39m\n",
      "\u001b[32m[2021-12-08 15:34:18 | info | root]: Test Reconstruction Loss : 1.2776494 \u001b[39m\n",
      "\n"
     ]
    },
    {
     "name": "stderr",
     "output_type": "stream",
     "text": [
      "┣███████████▏        ┫ [56.00%, 280/500, 02:02:17/03:38:23, 26.84s/i] "
     ]
    },
    {
     "name": "stdout",
     "output_type": "stream",
     "text": [
      "\u001b[32m[2021-12-08 15:36:31 | info | root]: Epoch : 280\u001b[39m\n",
      "\u001b[32m[2021-12-08 15:36:31 | info | root]: Train Loss : 0.001091319\u001b[39m\n",
      "\u001b[32m[2021-12-08 15:36:31 | info | root]: Test Loss : 0.0012339912\u001b[39m\n",
      "\u001b[32m[2021-12-08 15:36:31 | info | root]: Train Reconstruction Loss : 1.117618\u001b[39m\n",
      "\u001b[32m[2021-12-08 15:36:31 | info | root]: Test Reconstruction Loss : 1.2664185 \u001b[39m\n",
      "\n"
     ]
    },
    {
     "name": "stderr",
     "output_type": "stream",
     "text": [
      "┣███████████▍        ┫ [57.00%, 285/500, 02:04:30/03:38:25, 26.53s/i] "
     ]
    },
    {
     "name": "stdout",
     "output_type": "stream",
     "text": [
      "\u001b[32m[2021-12-08 15:38:44 | info | root]: Epoch : 285\u001b[39m\n",
      "\u001b[32m[2021-12-08 15:38:44 | info | root]: Train Loss : 0.0010842807\u001b[39m\n",
      "\u001b[32m[2021-12-08 15:38:44 | info | root]: Test Loss : 0.0012234894\u001b[39m\n",
      "\u001b[32m[2021-12-08 15:38:44 | info | root]: Train Reconstruction Loss : 1.1086284\u001b[39m\n",
      "\u001b[32m[2021-12-08 15:38:44 | info | root]: Test Reconstruction Loss : 1.2534317 \u001b[39m\n",
      "\n"
     ]
    },
    {
     "name": "stderr",
     "output_type": "stream",
     "text": [
      "┣███████████▌        ┫ [58.00%, 290/500, 02:06:46/03:38:34, 27.71s/i] "
     ]
    },
    {
     "name": "stdout",
     "output_type": "stream",
     "text": [
      "\u001b[32m[2021-12-08 15:41:01 | info | root]: Epoch : 290\u001b[39m\n",
      "\u001b[32m[2021-12-08 15:41:01 | info | root]: Train Loss : 0.0010853383\u001b[39m\n",
      "\u001b[32m[2021-12-08 15:41:01 | info | root]: Test Loss : 0.0012212178\u001b[39m\n",
      "\u001b[32m[2021-12-08 15:41:01 | info | root]: Train Reconstruction Loss : 1.1087674\u001b[39m\n",
      "\u001b[32m[2021-12-08 15:41:01 | info | root]: Test Reconstruction Loss : 1.2504632 \u001b[39m\n",
      "\n"
     ]
    },
    {
     "name": "stderr",
     "output_type": "stream",
     "text": [
      "┣███████████▊        ┫ [59.00%, 295/500, 02:09:09/03:38:55, 29.86s/i] "
     ]
    },
    {
     "name": "stdout",
     "output_type": "stream",
     "text": [
      "\u001b[32m[2021-12-08 15:43:22 | info | root]: Epoch : 295\u001b[39m\n",
      "\u001b[32m[2021-12-08 15:43:22 | info | root]: Train Loss : 0.0010755553\u001b[39m\n",
      "\u001b[32m[2021-12-08 15:43:22 | info | root]: Test Loss : 0.0012235481\u001b[39m\n",
      "\u001b[32m[2021-12-08 15:43:22 | info | root]: Train Reconstruction Loss : 1.1037544\u001b[39m\n",
      "\u001b[32m[2021-12-08 15:43:22 | info | root]: Test Reconstruction Loss : 1.2573376 \u001b[39m\n",
      "\n"
     ]
    },
    {
     "name": "stderr",
     "output_type": "stream",
     "text": [
      "┣████████████        ┫ [60.00%, 300/500, 02:11:16/03:38:47, 25.24s/i] "
     ]
    },
    {
     "name": "stdout",
     "output_type": "stream",
     "text": [
      "\u001b[32m[2021-12-08 15:45:28 | info | root]: Epoch : 300\u001b[39m\n",
      "\u001b[32m[2021-12-08 15:45:28 | info | root]: Train Loss : 0.0010760608\u001b[39m\n",
      "\u001b[32m[2021-12-08 15:45:28 | info | root]: Test Loss : 0.0012225612\u001b[39m\n",
      "\u001b[32m[2021-12-08 15:45:28 | info | root]: Train Reconstruction Loss : 1.1051\u001b[39m\n",
      "\u001b[32m[2021-12-08 15:45:28 | info | root]: Test Reconstruction Loss : 1.2571476 \u001b[39m\n",
      "\n"
     ]
    },
    {
     "name": "stderr",
     "output_type": "stream",
     "text": [
      "┣████████████▏       ┫ [61.00%, 305/500, 02:13:23/03:38:40, 25.54s/i] "
     ]
    },
    {
     "name": "stdout",
     "output_type": "stream",
     "text": [
      "\u001b[32m[2021-12-08 15:47:35 | info | root]: Epoch : 305\u001b[39m\n",
      "\u001b[32m[2021-12-08 15:47:35 | info | root]: Train Loss : 0.0010768862\u001b[39m\n",
      "\u001b[32m[2021-12-08 15:47:35 | info | root]: Test Loss : 0.0012175562\u001b[39m\n",
      "\u001b[32m[2021-12-08 15:47:35 | info | root]: Train Reconstruction Loss : 1.1047311\u001b[39m\n",
      "\u001b[32m[2021-12-08 15:47:35 | info | root]: Test Reconstruction Loss : 1.2514256 \u001b[39m\n",
      "\n"
     ]
    },
    {
     "name": "stderr",
     "output_type": "stream",
     "text": [
      "┣████████████▍       ┫ [62.00%, 310/500, 02:15:30/03:38:33, 25.45s/i] "
     ]
    },
    {
     "name": "stdout",
     "output_type": "stream",
     "text": [
      "\u001b[32m[2021-12-08 15:49:42 | info | root]: Epoch : 310\u001b[39m\n",
      "\u001b[32m[2021-12-08 15:49:42 | info | root]: Train Loss : 0.0010786081\u001b[39m\n",
      "\u001b[32m[2021-12-08 15:49:42 | info | root]: Test Loss : 0.0012322825\u001b[39m\n",
      "\u001b[32m[2021-12-08 15:49:42 | info | root]: Train Reconstruction Loss : 1.1093582\u001b[39m\n",
      "\u001b[32m[2021-12-08 15:49:42 | info | root]: Test Reconstruction Loss : 1.2689599 \u001b[39m\n",
      "\n"
     ]
    },
    {
     "name": "stderr",
     "output_type": "stream",
     "text": [
      "┣████████████▌       ┫ [63.00%, 315/500, 02:17:37/03:38:27, 25.50s/i] "
     ]
    },
    {
     "name": "stdout",
     "output_type": "stream",
     "text": [
      "\u001b[32m[2021-12-08 15:51:50 | info | root]: Epoch : 315\u001b[39m\n",
      "\u001b[32m[2021-12-08 15:51:50 | info | root]: Train Loss : 0.0010687534\u001b[39m\n",
      "\u001b[32m[2021-12-08 15:51:50 | info | root]: Test Loss : 0.0012135314\u001b[39m\n",
      "\u001b[32m[2021-12-08 15:51:50 | info | root]: Train Reconstruction Loss : 1.0928689\u001b[39m\n",
      "\u001b[32m[2021-12-08 15:51:50 | info | root]: Test Reconstruction Loss : 1.2437412 \u001b[39m\n",
      "\n"
     ]
    },
    {
     "name": "stderr",
     "output_type": "stream",
     "text": [
      "┣████████████▊       ┫ [64.00%, 320/500, 02:19:45/03:38:22, 25.54s/i] "
     ]
    },
    {
     "name": "stdout",
     "output_type": "stream",
     "text": [
      "\u001b[32m[2021-12-08 15:53:57 | info | root]: Epoch : 320\u001b[39m\n",
      "\u001b[32m[2021-12-08 15:53:57 | info | root]: Train Loss : 0.0010724447\u001b[39m\n",
      "\u001b[32m[2021-12-08 15:53:57 | info | root]: Test Loss : 0.00121831\u001b[39m\n",
      "\u001b[32m[2021-12-08 15:53:57 | info | root]: Train Reconstruction Loss : 1.0989087\u001b[39m\n",
      "\u001b[32m[2021-12-08 15:53:57 | info | root]: Test Reconstruction Loss : 1.251187 \u001b[39m\n",
      "\n"
     ]
    },
    {
     "name": "stderr",
     "output_type": "stream",
     "text": [
      "┣█████████████       ┫ [65.00%, 325/500, 02:21:53/03:38:16, 25.60s/i] "
     ]
    },
    {
     "name": "stdout",
     "output_type": "stream",
     "text": [
      "\u001b[32m[2021-12-08 15:56:05 | info | root]: Epoch : 325\u001b[39m\n",
      "\u001b[32m[2021-12-08 15:56:05 | info | root]: Train Loss : 0.0010584191\u001b[39m\n",
      "\u001b[32m[2021-12-08 15:56:05 | info | root]: Test Loss : 0.001205596\u001b[39m\n",
      "\u001b[32m[2021-12-08 15:56:05 | info | root]: Train Reconstruction Loss : 1.0826359\u001b[39m\n",
      "\u001b[32m[2021-12-08 15:56:05 | info | root]: Test Reconstruction Loss : 1.2355556 \u001b[39m\n",
      "\n"
     ]
    },
    {
     "name": "stderr",
     "output_type": "stream",
     "text": [
      "┣█████████████▏      ┫ [66.00%, 330/500, 02:24:01/03:38:13, 25.88s/i] "
     ]
    },
    {
     "name": "stdout",
     "output_type": "stream",
     "text": [
      "\u001b[32m[2021-12-08 15:58:14 | info | root]: Epoch : 330\u001b[39m\n",
      "\u001b[32m[2021-12-08 15:58:14 | info | root]: Train Loss : 0.001058932\u001b[39m\n",
      "\u001b[32m[2021-12-08 15:58:14 | info | root]: Test Loss : 0.0012085508\u001b[39m\n",
      "\u001b[32m[2021-12-08 15:58:14 | info | root]: Train Reconstruction Loss : 1.0854114\u001b[39m\n",
      "\u001b[32m[2021-12-08 15:58:14 | info | root]: Test Reconstruction Loss : 1.2410374 \u001b[39m\n",
      "\n"
     ]
    },
    {
     "name": "stderr",
     "output_type": "stream",
     "text": [
      "┣█████████████▍      ┫ [67.00%, 335/500, 02:26:12/03:38:12, 25.87s/i] "
     ]
    },
    {
     "name": "stdout",
     "output_type": "stream",
     "text": [
      "\u001b[32m[2021-12-08 16:00:24 | info | root]: Epoch : 335\u001b[39m\n",
      "\u001b[32m[2021-12-08 16:00:24 | info | root]: Train Loss : 0.0010623556\u001b[39m\n",
      "\u001b[32m[2021-12-08 16:00:24 | info | root]: Test Loss : 0.0012018598\u001b[39m\n",
      "\u001b[32m[2021-12-08 16:00:24 | info | root]: Train Reconstruction Loss : 1.0874479\u001b[39m\n",
      "\u001b[32m[2021-12-08 16:00:24 | info | root]: Test Reconstruction Loss : 1.2320205 \u001b[39m\n",
      "\n"
     ]
    },
    {
     "name": "stderr",
     "output_type": "stream",
     "text": [
      "┣█████████████▌      ┫ [68.00%, 340/500, 02:28:21/03:38:10, 25.90s/i] "
     ]
    },
    {
     "name": "stdout",
     "output_type": "stream",
     "text": [
      "\u001b[32m[2021-12-08 16:02:34 | info | root]: Epoch : 340\u001b[39m\n",
      "\u001b[32m[2021-12-08 16:02:34 | info | root]: Train Loss : 0.0010527676\u001b[39m\n",
      "\u001b[32m[2021-12-08 16:02:34 | info | root]: Test Loss : 0.001197278\u001b[39m\n",
      "\u001b[32m[2021-12-08 16:02:34 | info | root]: Train Reconstruction Loss : 1.0769557\u001b[39m\n",
      "\u001b[32m[2021-12-08 16:02:34 | info | root]: Test Reconstruction Loss : 1.2273221 \u001b[39m\n",
      "\n"
     ]
    },
    {
     "name": "stderr",
     "output_type": "stream",
     "text": [
      "┣█████████████▊      ┫ [69.00%, 345/500, 02:30:30/03:38:07, 25.69s/i] "
     ]
    },
    {
     "name": "stdout",
     "output_type": "stream",
     "text": [
      "\u001b[32m[2021-12-08 16:04:43 | info | root]: Epoch : 345\u001b[39m\n",
      "\u001b[32m[2021-12-08 16:04:43 | info | root]: Train Loss : 0.0010584444\u001b[39m\n",
      "\u001b[32m[2021-12-08 16:04:43 | info | root]: Test Loss : 0.0011991401\u001b[39m\n",
      "\u001b[32m[2021-12-08 16:04:43 | info | root]: Train Reconstruction Loss : 1.0828108\u001b[39m\n",
      "\u001b[32m[2021-12-08 16:04:43 | info | root]: Test Reconstruction Loss : 1.2294664 \u001b[39m\n",
      "\n"
     ]
    },
    {
     "name": "stderr",
     "output_type": "stream",
     "text": [
      "┣██████████████      ┫ [70.00%, 350/500, 02:32:40/03:38:06, 26.04s/i] "
     ]
    },
    {
     "name": "stdout",
     "output_type": "stream",
     "text": [
      "\u001b[32m[2021-12-08 16:06:53 | info | root]: Epoch : 350\u001b[39m\n",
      "\u001b[32m[2021-12-08 16:06:53 | info | root]: Train Loss : 0.0010617357\u001b[39m\n",
      "\u001b[32m[2021-12-08 16:06:53 | info | root]: Test Loss : 0.0012184887\u001b[39m\n",
      "\u001b[32m[2021-12-08 16:06:53 | info | root]: Train Reconstruction Loss : 1.0932536\u001b[39m\n",
      "\u001b[32m[2021-12-08 16:06:53 | info | root]: Test Reconstruction Loss : 1.2563132 \u001b[39m\n",
      "\n"
     ]
    },
    {
     "name": "stderr",
     "output_type": "stream",
     "text": [
      "┣██████████████▏     ┫ [71.00%, 355/500, 02:34:59/03:38:18, 26.26s/i] "
     ]
    },
    {
     "name": "stdout",
     "output_type": "stream",
     "text": [
      "\u001b[32m[2021-12-08 16:09:12 | info | root]: Epoch : 355\u001b[39m\n",
      "\u001b[32m[2021-12-08 16:09:12 | info | root]: Train Loss : 0.0010562072\u001b[39m\n",
      "\u001b[32m[2021-12-08 16:09:12 | info | root]: Test Loss : 0.0011972266\u001b[39m\n",
      "\u001b[32m[2021-12-08 16:09:12 | info | root]: Train Reconstruction Loss : 1.0774727\u001b[39m\n",
      "\u001b[32m[2021-12-08 16:09:12 | info | root]: Test Reconstruction Loss : 1.2243971 \u001b[39m\n",
      "\n"
     ]
    },
    {
     "name": "stderr",
     "output_type": "stream",
     "text": [
      "┣██████████████▍     ┫ [72.00%, 360/500, 02:37:10/03:38:17, 26.21s/i] "
     ]
    },
    {
     "name": "stdout",
     "output_type": "stream",
     "text": [
      "\u001b[32m[2021-12-08 16:11:23 | info | root]: Epoch : 360\u001b[39m\n",
      "\u001b[32m[2021-12-08 16:11:23 | info | root]: Train Loss : 0.0010476067\u001b[39m\n",
      "\u001b[32m[2021-12-08 16:11:23 | info | root]: Test Loss : 0.0011970861\u001b[39m\n",
      "\u001b[32m[2021-12-08 16:11:23 | info | root]: Train Reconstruction Loss : 1.0786353\u001b[39m\n",
      "\u001b[32m[2021-12-08 16:11:23 | info | root]: Test Reconstruction Loss : 1.2333567 \u001b[39m\n",
      "\n"
     ]
    },
    {
     "name": "stderr",
     "output_type": "stream",
     "text": [
      "┣██████████████▌     ┫ [73.00%, 365/500, 02:39:20/03:38:17, 26.14s/i] "
     ]
    },
    {
     "name": "stdout",
     "output_type": "stream",
     "text": [
      "\u001b[32m[2021-12-08 16:13:33 | info | root]: Epoch : 365\u001b[39m\n",
      "\u001b[32m[2021-12-08 16:13:33 | info | root]: Train Loss : 0.0010449669\u001b[39m\n",
      "\u001b[32m[2021-12-08 16:13:33 | info | root]: Test Loss : 0.0011924241\u001b[39m\n",
      "\u001b[32m[2021-12-08 16:13:33 | info | root]: Train Reconstruction Loss : 1.0718141\u001b[39m\n",
      "\u001b[32m[2021-12-08 16:13:33 | info | root]: Test Reconstruction Loss : 1.2249786 \u001b[39m\n",
      "\n"
     ]
    },
    {
     "name": "stderr",
     "output_type": "stream",
     "text": [
      "┣██████████████▊     ┫ [74.00%, 370/500, 02:41:32/03:38:17, 26.34s/i] "
     ]
    },
    {
     "name": "stdout",
     "output_type": "stream",
     "text": [
      "\u001b[32m[2021-12-08 16:15:45 | info | root]: Epoch : 370\u001b[39m\n",
      "\u001b[32m[2021-12-08 16:15:45 | info | root]: Train Loss : 0.001046892\u001b[39m\n",
      "\u001b[32m[2021-12-08 16:15:45 | info | root]: Test Loss : 0.0011856497\u001b[39m\n",
      "\u001b[32m[2021-12-08 16:15:45 | info | root]: Train Reconstruction Loss : 1.0684067\u001b[39m\n",
      "\u001b[32m[2021-12-08 16:15:45 | info | root]: Test Reconstruction Loss : 1.212673 \u001b[39m\n",
      "\n"
     ]
    },
    {
     "name": "stderr",
     "output_type": "stream",
     "text": [
      "┣███████████████     ┫ [75.00%, 375/500, 02:43:43/03:38:18, 26.37s/i] "
     ]
    },
    {
     "name": "stdout",
     "output_type": "stream",
     "text": [
      "\u001b[32m[2021-12-08 16:17:57 | info | root]: Epoch : 375\u001b[39m\n",
      "\u001b[32m[2021-12-08 16:17:57 | info | root]: Train Loss : 0.0010440804\u001b[39m\n",
      "\u001b[32m[2021-12-08 16:17:57 | info | root]: Test Loss : 0.0011901639\u001b[39m\n",
      "\u001b[32m[2021-12-08 16:17:57 | info | root]: Train Reconstruction Loss : 1.0720766\u001b[39m\n",
      "\u001b[32m[2021-12-08 16:17:57 | info | root]: Test Reconstruction Loss : 1.223426 \u001b[39m\n",
      "\n"
     ]
    },
    {
     "name": "stderr",
     "output_type": "stream",
     "text": [
      "┣███████████████▏    ┫ [76.00%, 380/500, 02:45:56/03:38:20, 26.32s/i] "
     ]
    },
    {
     "name": "stdout",
     "output_type": "stream",
     "text": [
      "\u001b[32m[2021-12-08 16:20:09 | info | root]: Epoch : 380\u001b[39m\n",
      "\u001b[32m[2021-12-08 16:20:09 | info | root]: Train Loss : 0.001053362\u001b[39m\n",
      "\u001b[32m[2021-12-08 16:20:09 | info | root]: Test Loss : 0.0011994777\u001b[39m\n",
      "\u001b[32m[2021-12-08 16:20:09 | info | root]: Train Reconstruction Loss : 1.0786293\u001b[39m\n",
      "\u001b[32m[2021-12-08 16:20:09 | info | root]: Test Reconstruction Loss : 1.2305677 \u001b[39m\n",
      "\n"
     ]
    },
    {
     "name": "stderr",
     "output_type": "stream",
     "text": [
      "┣███████████████▍    ┫ [77.00%, 385/500, 02:48:08/03:38:21, 26.48s/i] "
     ]
    },
    {
     "name": "stdout",
     "output_type": "stream",
     "text": [
      "\u001b[32m[2021-12-08 16:22:21 | info | root]: Epoch : 385\u001b[39m\n",
      "\u001b[32m[2021-12-08 16:22:21 | info | root]: Train Loss : 0.0010383688\u001b[39m\n",
      "\u001b[32m[2021-12-08 16:22:21 | info | root]: Test Loss : 0.0011913305\u001b[39m\n",
      "\u001b[32m[2021-12-08 16:22:21 | info | root]: Train Reconstruction Loss : 1.0686957\u001b[39m\n",
      "\u001b[32m[2021-12-08 16:22:21 | info | root]: Test Reconstruction Loss : 1.2274864 \u001b[39m\n",
      "\n"
     ]
    },
    {
     "name": "stderr",
     "output_type": "stream",
     "text": [
      "┣███████████████▌    ┫ [78.00%, 390/500, 02:50:20/03:38:23, 26.38s/i] "
     ]
    },
    {
     "name": "stdout",
     "output_type": "stream",
     "text": [
      "\u001b[32m[2021-12-08 16:24:34 | info | root]: Epoch : 390\u001b[39m\n",
      "\u001b[32m[2021-12-08 16:24:34 | info | root]: Train Loss : 0.0010376535\u001b[39m\n",
      "\u001b[32m[2021-12-08 16:24:34 | info | root]: Test Loss : 0.0011818532\u001b[39m\n",
      "\u001b[32m[2021-12-08 16:24:34 | info | root]: Train Reconstruction Loss : 1.0617042\u001b[39m\n",
      "\u001b[32m[2021-12-08 16:24:34 | info | root]: Test Reconstruction Loss : 1.2117506 \u001b[39m\n",
      "\n"
     ]
    },
    {
     "name": "stderr",
     "output_type": "stream",
     "text": [
      "┣███████████████▊    ┫ [79.00%, 395/500, 02:52:33/03:38:25, 26.52s/i] "
     ]
    },
    {
     "name": "stdout",
     "output_type": "stream",
     "text": [
      "\u001b[32m[2021-12-08 16:26:46 | info | root]: Epoch : 395\u001b[39m\n",
      "\u001b[32m[2021-12-08 16:26:46 | info | root]: Train Loss : 0.0010333628\u001b[39m\n",
      "\u001b[32m[2021-12-08 16:26:46 | info | root]: Test Loss : 0.0011815055\u001b[39m\n",
      "\u001b[32m[2021-12-08 16:26:46 | info | root]: Train Reconstruction Loss : 1.0579823\u001b[39m\n",
      "\u001b[32m[2021-12-08 16:26:46 | info | root]: Test Reconstruction Loss : 1.2113885 \u001b[39m\n",
      "\n"
     ]
    },
    {
     "name": "stderr",
     "output_type": "stream",
     "text": [
      "┣████████████████    ┫ [80.00%, 400/500, 02:54:45/03:38:27, 26.58s/i] "
     ]
    },
    {
     "name": "stdout",
     "output_type": "stream",
     "text": [
      "\u001b[32m[2021-12-08 16:28:59 | info | root]: Epoch : 400\u001b[39m\n",
      "\u001b[32m[2021-12-08 16:28:59 | info | root]: Train Loss : 0.0010391185\u001b[39m\n",
      "\u001b[32m[2021-12-08 16:28:59 | info | root]: Test Loss : 0.0011937158\u001b[39m\n",
      "\u001b[32m[2021-12-08 16:28:59 | info | root]: Train Reconstruction Loss : 1.0702382\u001b[39m\n",
      "\u001b[32m[2021-12-08 16:28:59 | info | root]: Test Reconstruction Loss : 1.2306517 \u001b[39m\n",
      "\n"
     ]
    },
    {
     "name": "stderr",
     "output_type": "stream",
     "text": [
      "┣████████████████▏   ┫ [81.00%, 405/500, 02:57:04/03:38:36, 26.97s/i] "
     ]
    },
    {
     "name": "stdout",
     "output_type": "stream",
     "text": [
      "\u001b[32m[2021-12-08 16:31:17 | info | root]: Epoch : 405\u001b[39m\n",
      "\u001b[32m[2021-12-08 16:31:17 | info | root]: Train Loss : 0.001028683\u001b[39m\n",
      "\u001b[32m[2021-12-08 16:31:17 | info | root]: Test Loss : 0.0011783339\u001b[39m\n",
      "\u001b[32m[2021-12-08 16:31:17 | info | root]: Train Reconstruction Loss : 1.0538949\u001b[39m\n",
      "\u001b[32m[2021-12-08 16:31:17 | info | root]: Test Reconstruction Loss : 1.2098521 \u001b[39m\n",
      "\n"
     ]
    },
    {
     "name": "stderr",
     "output_type": "stream",
     "text": [
      "┣████████████████▍   ┫ [82.00%, 410/500, 02:59:17/03:38:38, 26.76s/i] "
     ]
    },
    {
     "name": "stdout",
     "output_type": "stream",
     "text": [
      "\u001b[32m[2021-12-08 16:33:31 | info | root]: Epoch : 410\u001b[39m\n",
      "\u001b[32m[2021-12-08 16:33:31 | info | root]: Train Loss : 0.0010304162\u001b[39m\n",
      "\u001b[32m[2021-12-08 16:33:31 | info | root]: Test Loss : 0.0011728273\u001b[39m\n",
      "\u001b[32m[2021-12-08 16:33:31 | info | root]: Train Reconstruction Loss : 1.0542215\u001b[39m\n",
      "\u001b[32m[2021-12-08 16:33:31 | info | root]: Test Reconstruction Loss : 1.2021075 \u001b[39m\n",
      "\n"
     ]
    },
    {
     "name": "stderr",
     "output_type": "stream",
     "text": [
      "┣████████████████▌   ┫ [83.00%, 415/500, 03:01:31/03:38:42, 26.76s/i] "
     ]
    },
    {
     "name": "stdout",
     "output_type": "stream",
     "text": [
      "\u001b[32m[2021-12-08 16:35:45 | info | root]: Epoch : 415\u001b[39m\n",
      "\u001b[32m[2021-12-08 16:35:45 | info | root]: Train Loss : 0.001028202\u001b[39m\n",
      "\u001b[32m[2021-12-08 16:35:45 | info | root]: Test Loss : 0.0011663178\u001b[39m\n",
      "\u001b[32m[2021-12-08 16:35:45 | info | root]: Train Reconstruction Loss : 1.050202\u001b[39m\n",
      "\u001b[32m[2021-12-08 16:35:45 | info | root]: Test Reconstruction Loss : 1.1940329 \u001b[39m\n",
      "\n"
     ]
    },
    {
     "name": "stderr",
     "output_type": "stream",
     "text": [
      "┣████████████████▊   ┫ [84.00%, 420/500, 03:03:45/03:38:45, 26.52s/i] "
     ]
    },
    {
     "name": "stdout",
     "output_type": "stream",
     "text": [
      "\u001b[32m[2021-12-08 16:37:59 | info | root]: Epoch : 420\u001b[39m\n",
      "\u001b[32m[2021-12-08 16:37:59 | info | root]: Train Loss : 0.0010298935\u001b[39m\n",
      "\u001b[32m[2021-12-08 16:37:59 | info | root]: Test Loss : 0.0011867223\u001b[39m\n",
      "\u001b[32m[2021-12-08 16:37:59 | info | root]: Train Reconstruction Loss : 1.059636\u001b[39m\n",
      "\u001b[32m[2021-12-08 16:37:59 | info | root]: Test Reconstruction Loss : 1.2223917 \u001b[39m\n",
      "\n"
     ]
    },
    {
     "name": "stderr",
     "output_type": "stream",
     "text": [
      "┣█████████████████   ┫ [85.00%, 425/500, 03:06:00/03:38:50, 26.66s/i] "
     ]
    },
    {
     "name": "stdout",
     "output_type": "stream",
     "text": [
      "\u001b[32m[2021-12-08 16:40:14 | info | root]: Epoch : 425\u001b[39m\n",
      "\u001b[32m[2021-12-08 16:40:14 | info | root]: Train Loss : 0.001023585\u001b[39m\n",
      "\u001b[32m[2021-12-08 16:40:14 | info | root]: Test Loss : 0.0011635539\u001b[39m\n",
      "\u001b[32m[2021-12-08 16:40:14 | info | root]: Train Reconstruction Loss : 1.0453752\u001b[39m\n",
      "\u001b[32m[2021-12-08 16:40:14 | info | root]: Test Reconstruction Loss : 1.1904945 \u001b[39m\n",
      "\n"
     ]
    },
    {
     "name": "stderr",
     "output_type": "stream",
     "text": [
      "┣█████████████████▏  ┫ [86.00%, 430/500, 03:08:18/03:38:57, 27.55s/i] "
     ]
    },
    {
     "name": "stdout",
     "output_type": "stream",
     "text": [
      "\u001b[32m[2021-12-08 16:42:32 | info | root]: Epoch : 430\u001b[39m\n",
      "\u001b[32m[2021-12-08 16:42:32 | info | root]: Train Loss : 0.0010213967\u001b[39m\n",
      "\u001b[32m[2021-12-08 16:42:32 | info | root]: Test Loss : 0.0011725059\u001b[39m\n",
      "\u001b[32m[2021-12-08 16:42:32 | info | root]: Train Reconstruction Loss : 1.0491045\u001b[39m\n",
      "\u001b[32m[2021-12-08 16:42:32 | info | root]: Test Reconstruction Loss : 1.2060208 \u001b[39m\n",
      "\n"
     ]
    },
    {
     "name": "stderr",
     "output_type": "stream",
     "text": [
      "┣█████████████████▍  ┫ [87.00%, 435/500, 03:10:35/03:39:04, 27.80s/i] "
     ]
    },
    {
     "name": "stdout",
     "output_type": "stream",
     "text": [
      "\u001b[32m[2021-12-08 16:44:50 | info | root]: Epoch : 435\u001b[39m\n",
      "\u001b[32m[2021-12-08 16:44:50 | info | root]: Train Loss : 0.0010227846\u001b[39m\n",
      "\u001b[32m[2021-12-08 16:44:50 | info | root]: Test Loss : 0.0011615563\u001b[39m\n",
      "\u001b[32m[2021-12-08 16:44:50 | info | root]: Train Reconstruction Loss : 1.044734\u001b[39m\n",
      "\u001b[32m[2021-12-08 16:44:50 | info | root]: Test Reconstruction Loss : 1.1893752 \u001b[39m\n",
      "\n"
     ]
    },
    {
     "name": "stderr",
     "output_type": "stream",
     "text": [
      "┣█████████████████▌  ┫ [88.00%, 440/500, 03:12:59/03:39:18, 29.81s/i] "
     ]
    },
    {
     "name": "stdout",
     "output_type": "stream",
     "text": [
      "\u001b[32m[2021-12-08 16:47:17 | info | root]: Epoch : 440\u001b[39m\n",
      "\u001b[32m[2021-12-08 16:47:17 | info | root]: Train Loss : 0.0010302181\u001b[39m\n",
      "\u001b[32m[2021-12-08 16:47:17 | info | root]: Test Loss : 0.0011741426\u001b[39m\n",
      "\u001b[32m[2021-12-08 16:47:17 | info | root]: Train Reconstruction Loss : 1.0520109\u001b[39m\n",
      "\u001b[32m[2021-12-08 16:47:17 | info | root]: Test Reconstruction Loss : 1.2017353 \u001b[39m\n",
      "\n"
     ]
    },
    {
     "name": "stderr",
     "output_type": "stream",
     "text": [
      "┣█████████████████▊  ┫ [89.00%, 445/500, 03:15:14/03:39:22, 26.11s/i] "
     ]
    },
    {
     "name": "stdout",
     "output_type": "stream",
     "text": [
      "\u001b[32m[2021-12-08 16:49:27 | info | root]: Epoch : 445\u001b[39m\n",
      "\u001b[32m[2021-12-08 16:49:27 | info | root]: Train Loss : 0.0010214823\u001b[39m\n",
      "\u001b[32m[2021-12-08 16:49:27 | info | root]: Test Loss : 0.0011681536\u001b[39m\n",
      "\u001b[32m[2021-12-08 16:49:27 | info | root]: Train Reconstruction Loss : 1.0462507\u001b[39m\n",
      "\u001b[32m[2021-12-08 16:49:27 | info | root]: Test Reconstruction Loss : 1.1985253 \u001b[39m\n",
      "\n"
     ]
    },
    {
     "name": "stderr",
     "output_type": "stream",
     "text": [
      "┣██████████████████  ┫ [90.00%, 450/500, 03:17:23/03:39:19, 25.97s/i] "
     ]
    },
    {
     "name": "stdout",
     "output_type": "stream",
     "text": [
      "\u001b[32m[2021-12-08 16:51:36 | info | root]: Epoch : 450\u001b[39m\n",
      "\u001b[32m[2021-12-08 16:51:36 | info | root]: Train Loss : 0.0010225548\u001b[39m\n",
      "\u001b[32m[2021-12-08 16:51:36 | info | root]: Test Loss : 0.0011697095\u001b[39m\n",
      "\u001b[32m[2021-12-08 16:51:36 | info | root]: Train Reconstruction Loss : 1.049026\u001b[39m\n",
      "\u001b[32m[2021-12-08 16:51:36 | info | root]: Test Reconstruction Loss : 1.201803 \u001b[39m\n",
      "\n"
     ]
    },
    {
     "name": "stderr",
     "output_type": "stream",
     "text": [
      "┣██████████████████▏ ┫ [91.00%, 455/500, 03:19:39/03:39:24, 25.81s/i] "
     ]
    },
    {
     "name": "stdout",
     "output_type": "stream",
     "text": [
      "\u001b[32m[2021-12-08 16:53:51 | info | root]: Epoch : 455\u001b[39m\n",
      "\u001b[32m[2021-12-08 16:53:51 | info | root]: Train Loss : 0.0010215393\u001b[39m\n",
      "\u001b[32m[2021-12-08 16:53:51 | info | root]: Test Loss : 0.0011641927\u001b[39m\n",
      "\u001b[32m[2021-12-08 16:53:51 | info | root]: Train Reconstruction Loss : 1.0454632\u001b[39m\n",
      "\u001b[32m[2021-12-08 16:53:51 | info | root]: Test Reconstruction Loss : 1.1936641 \u001b[39m\n",
      "\n"
     ]
    },
    {
     "name": "stderr",
     "output_type": "stream",
     "text": [
      "┣██████████████████▍ ┫ [92.00%, 460/500, 03:21:48/03:39:21, 25.92s/i] "
     ]
    },
    {
     "name": "stdout",
     "output_type": "stream",
     "text": [
      "\u001b[32m[2021-12-08 16:56:01 | info | root]: Epoch : 460\u001b[39m\n",
      "\u001b[32m[2021-12-08 16:56:01 | info | root]: Train Loss : 0.0010238455\u001b[39m\n",
      "\u001b[32m[2021-12-08 16:56:01 | info | root]: Test Loss : 0.0011716483\u001b[39m\n",
      "\u001b[32m[2021-12-08 16:56:01 | info | root]: Train Reconstruction Loss : 1.0504128\u001b[39m\n",
      "\u001b[32m[2021-12-08 16:56:01 | info | root]: Test Reconstruction Loss : 1.2040519 \u001b[39m\n",
      "\n"
     ]
    },
    {
     "name": "stderr",
     "output_type": "stream",
     "text": [
      "┣██████████████████▌ ┫ [93.00%, 465/500, 03:23:58/03:39:19, 25.52s/i] "
     ]
    },
    {
     "name": "stdout",
     "output_type": "stream",
     "text": [
      "\u001b[32m[2021-12-08 16:58:11 | info | root]: Epoch : 465\u001b[39m\n",
      "\u001b[32m[2021-12-08 16:58:11 | info | root]: Train Loss : 0.0010241389\u001b[39m\n",
      "\u001b[32m[2021-12-08 16:58:11 | info | root]: Test Loss : 0.0011766508\u001b[39m\n",
      "\u001b[32m[2021-12-08 16:58:11 | info | root]: Train Reconstruction Loss : 1.0521344\u001b[39m\n",
      "\u001b[32m[2021-12-08 16:58:11 | info | root]: Test Reconstruction Loss : 1.2111131 \u001b[39m\n",
      "\n"
     ]
    },
    {
     "name": "stderr",
     "output_type": "stream",
     "text": [
      "┣██████████████████▊ ┫ [94.00%, 470/500, 03:26:08/03:39:17, 25.76s/i] "
     ]
    },
    {
     "name": "stdout",
     "output_type": "stream",
     "text": [
      "\u001b[32m[2021-12-08 17:00:21 | info | root]: Epoch : 470\u001b[39m\n",
      "\u001b[32m[2021-12-08 17:00:21 | info | root]: Train Loss : 0.0010242253\u001b[39m\n",
      "\u001b[32m[2021-12-08 17:00:21 | info | root]: Test Loss : 0.0011621137\u001b[39m\n",
      "\u001b[32m[2021-12-08 17:00:21 | info | root]: Train Reconstruction Loss : 1.0449041\u001b[39m\n",
      "\u001b[32m[2021-12-08 17:00:21 | info | root]: Test Reconstruction Loss : 1.1879522 \u001b[39m\n",
      "\n"
     ]
    },
    {
     "name": "stderr",
     "output_type": "stream",
     "text": [
      "┣███████████████████ ┫ [95.00%, 475/500, 03:28:18/03:39:16, 26.21s/i] "
     ]
    },
    {
     "name": "stdout",
     "output_type": "stream",
     "text": [
      "\u001b[32m[2021-12-08 17:02:31 | info | root]: Epoch : 475\u001b[39m\n",
      "\u001b[32m[2021-12-08 17:02:31 | info | root]: Train Loss : 0.0010176295\u001b[39m\n",
      "\u001b[32m[2021-12-08 17:02:31 | info | root]: Test Loss : 0.0011728002\u001b[39m\n",
      "\u001b[32m[2021-12-08 17:02:31 | info | root]: Train Reconstruction Loss : 1.0477923\u001b[39m\n",
      "\u001b[32m[2021-12-08 17:02:31 | info | root]: Test Reconstruction Loss : 1.2085067 \u001b[39m\n",
      "\n"
     ]
    },
    {
     "name": "stderr",
     "output_type": "stream",
     "text": [
      "┣███████████████████▏┫ [96.00%, 480/500, 03:30:32/03:39:18, 25.97s/i] "
     ]
    },
    {
     "name": "stdout",
     "output_type": "stream",
     "text": [
      "\u001b[32m[2021-12-08 17:04:45 | info | root]: Epoch : 480\u001b[39m\n",
      "\u001b[32m[2021-12-08 17:04:45 | info | root]: Train Loss : 0.0010174722\u001b[39m\n",
      "\u001b[32m[2021-12-08 17:04:45 | info | root]: Test Loss : 0.0011647097\u001b[39m\n",
      "\u001b[32m[2021-12-08 17:04:45 | info | root]: Train Reconstruction Loss : 1.0399715\u001b[39m\n",
      "\u001b[32m[2021-12-08 17:04:45 | info | root]: Test Reconstruction Loss : 1.1928514 \u001b[39m\n",
      "\n"
     ]
    },
    {
     "name": "stderr",
     "output_type": "stream",
     "text": [
      "┣███████████████████▍┫ [97.00%, 485/500, 03:32:42/03:39:16, 26.17s/i] "
     ]
    },
    {
     "name": "stdout",
     "output_type": "stream",
     "text": [
      "\u001b[32m[2021-12-08 17:06:55 | info | root]: Epoch : 485\u001b[39m\n",
      "\u001b[32m[2021-12-08 17:06:55 | info | root]: Train Loss : 0.0010137286\u001b[39m\n",
      "\u001b[32m[2021-12-08 17:06:55 | info | root]: Test Loss : 0.0011600296\u001b[39m\n",
      "\u001b[32m[2021-12-08 17:06:55 | info | root]: Train Reconstruction Loss : 1.0381746\u001b[39m\n",
      "\u001b[32m[2021-12-08 17:06:55 | info | root]: Test Reconstruction Loss : 1.1902415 \u001b[39m\n",
      "\n"
     ]
    },
    {
     "name": "stderr",
     "output_type": "stream",
     "text": [
      "┣███████████████████▌┫ [98.00%, 490/500, 03:34:50/03:39:13, 25.62s/i] "
     ]
    },
    {
     "name": "stdout",
     "output_type": "stream",
     "text": [
      "\u001b[32m[2021-12-08 17:09:03 | info | root]: Epoch : 490\u001b[39m\n",
      "\u001b[32m[2021-12-08 17:09:03 | info | root]: Train Loss : 0.0010084643\u001b[39m\n",
      "\u001b[32m[2021-12-08 17:09:03 | info | root]: Test Loss : 0.0011576646\u001b[39m\n",
      "\u001b[32m[2021-12-08 17:09:03 | info | root]: Train Reconstruction Loss : 1.0325383\u001b[39m\n",
      "\u001b[32m[2021-12-08 17:09:03 | info | root]: Test Reconstruction Loss : 1.187499 \u001b[39m\n",
      "\n"
     ]
    },
    {
     "name": "stderr",
     "output_type": "stream",
     "text": [
      "┣███████████████████▊┫ [99.00%, 495/500, 03:37:00/03:39:12, 25.84s/i] "
     ]
    },
    {
     "name": "stdout",
     "output_type": "stream",
     "text": [
      "\u001b[32m[2021-12-08 17:11:13 | info | root]: Epoch : 495\u001b[39m\n",
      "\u001b[32m[2021-12-08 17:11:13 | info | root]: Train Loss : 0.0010113922\u001b[39m\n",
      "\u001b[32m[2021-12-08 17:11:13 | info | root]: Test Loss : 0.0011608801\u001b[39m\n",
      "\u001b[32m[2021-12-08 17:11:13 | info | root]: Train Reconstruction Loss : 1.0351541\u001b[39m\n",
      "\u001b[32m[2021-12-08 17:11:13 | info | root]: Test Reconstruction Loss : 1.1907417 \u001b[39m\n",
      "\n"
     ]
    },
    {
     "name": "stderr",
     "output_type": "stream",
     "text": [
      "┣████████████████████┫ [100.00%, 500/500, 03:39:12/03:39:12, 25.83s/i] "
     ]
    },
    {
     "name": "stdout",
     "output_type": "stream",
     "text": [
      "\u001b[32m[2021-12-08 17:13:27 | info | root]: Epoch : 500\u001b[39m\n",
      "\u001b[32m[2021-12-08 17:13:27 | info | root]: Train Loss : 0.0010126774\u001b[39m\n",
      "\u001b[32m[2021-12-08 17:13:27 | info | root]: Test Loss : 0.0011617914\u001b[39m\n",
      "\u001b[32m[2021-12-08 17:13:27 | info | root]: Train Reconstruction Loss : 1.0386314\u001b[39m\n",
      "\u001b[32m[2021-12-08 17:13:27 | info | root]: Test Reconstruction Loss : 1.1932583 \u001b[39m\n",
      "\n"
     ]
    },
    {
     "name": "stderr",
     "output_type": "stream",
     "text": [
      "\r",
      "┣████████████████████┫ [100.00%, 500/500, 03:39:40/03:39:40, 26.36s/i] \n"
     ]
    }
   ],
   "source": [
    "nz = 48\n",
    "ngf = 32\n",
    "nc = 1\n",
    "\n",
    "# first batch of the test dataset\n",
    "x_test_first = first(dtrn);\n",
    "\n",
    "# define model weights\n",
    "theta = weights(nc, nz,  ngf);\n",
    "\n",
    "# Define Learning Rate and Number of Epochs\n",
    "lr = 1e-4\n",
    "n_epochs = 500\n",
    "\n",
    "# Initialize Empty Lists for both training and test losses\n",
    "trn_loss_list = Float64[]\n",
    "tst_loss_list = Float64[]\n",
    "trn_rec_loss_list = Float64[]\n",
    "tst_rec_loss_list = Float64[]\n",
    "\n",
    "# RECORD INITIAL LOSS VALUES\n",
    "epoch_loss_trn_ = loss_train(theta, dtrn)\n",
    "epoch_loss_tst_ = loss_train(theta, dtst)\n",
    "epoch_rec_loss_trn_ = rec_loss(theta, dtrn)\n",
    "epoch_rec_loss_tst_ = rec_loss(theta, dtst)\n",
    "\n",
    "push!(trn_loss_list, epoch_loss_trn_)\n",
    "push!(tst_loss_list, epoch_loss_tst_)\n",
    "push!(trn_rec_loss_list, epoch_rec_loss_trn_)\n",
    "push!(tst_rec_loss_list, epoch_rec_loss_tst_)\n",
    "\n",
    "# println(\"Epoch : \", 0)\n",
    "# println(\"Train Loss : \",epoch_loss_trn_)\n",
    "# println(\"Test Loss : \", epoch_loss_tst_)\n",
    "# println(\"Train Reconstruction Loss : \", epoch_rec_loss_trn_)\n",
    "# println(\"Test Reconstruction Loss : \", epoch_rec_loss_tst_)\n",
    "\n",
    "info(logger, (\"Epoch : 0\"))\n",
    "info(logger, (\"Train Loss : $epoch_loss_trn_\"))\n",
    "info(logger, (\"Test Loss : $epoch_loss_tst_\"))\n",
    "info(logger, (\"Train Reconstruction Loss : $epoch_rec_loss_trn_\"))\n",
    "info(logger, (\"Test Reconstruction Loss : $epoch_rec_loss_tst_ \\n\"))\n",
    "\n",
    "# Define the step number of model save checkpoint\n",
    "model_save_checkpoint = 50\n",
    "logger_checkpoint = 5\n",
    "image_rec_checkpoint = 25\n",
    "\n",
    "# Training Loop\n",
    "for epoch in progress(1:n_epochs)\n",
    "    for (i,x) in enumerate(dtrn)\n",
    "        \n",
    "        derivative_model = @diff loss_train(theta, x)\n",
    "        \n",
    "        for p in theta\n",
    "            dp = grad(derivative_model, p)\n",
    "            update!(value(p), dp, Knet.Adam(lr = lr, beta1 = 0.9, beta2 = 0.999))\n",
    "        end\n",
    "\n",
    "    end\n",
    "    \n",
    "    epoch_loss_trn = loss_train(theta, dtrn)\n",
    "    epoch_loss_tst = loss_train(theta, dtst)\n",
    "    epoch_rec_loss_trn = rec_loss(theta, dtrn)\n",
    "    epoch_rec_loss_tst = rec_loss(theta, dtst)\n",
    "    \n",
    "    push!(trn_loss_list, epoch_loss_trn)\n",
    "    push!(tst_loss_list, epoch_loss_tst)\n",
    "    push!(trn_rec_loss_list, epoch_rec_loss_trn)\n",
    "    push!(tst_rec_loss_list, epoch_rec_loss_tst)\n",
    "    \n",
    "#     println(\"Epoch : \", epoch)\n",
    "#     println(\"Train Loss : \",epoch_loss_trn)\n",
    "#     println(\"Test Loss : \", epoch_loss_tst)\n",
    "#     println(\"Train Reconstruction Loss : \", epoch_rec_loss_trn)\n",
    "#     println(\"Test Reconstruction Loss : \", epoch_rec_loss_tst)\n",
    "    \n",
    "    # Print losses to the logger file\n",
    "    if epoch % logger_checkpoint == 0\n",
    "        info(logger,\"Epoch : $epoch\")\n",
    "        info(logger,\"Train Loss : $epoch_loss_trn\")\n",
    "        info(logger,\"Test Loss : $epoch_loss_tst\")\n",
    "        info(logger,\"Train Reconstruction Loss : $epoch_rec_loss_trn\")\n",
    "        info(logger,\"Test Reconstruction Loss : $epoch_rec_loss_tst \\n\")\n",
    "    end\n",
    "    \n",
    "    # Plot some reconstruction images\n",
    "    if ((epoch - 1) % image_rec_checkpoint == 0) || (epoch == n_epochs)\n",
    "        x_test_first_hat = decode_train(theta, x_test_first)\n",
    "        plot_reconstructed_images(x_test_first, x_test_first_hat, 10, batch_size, (900,300))\n",
    "        fig_name = \"Reconstructed_Imgs_ID\" * string(1000 + epoch) \n",
    "        savefig(joinpath(\"Results\", notebook_name, \"Images\", fig_name))\n",
    "    end\n",
    "    \n",
    "    # Save model at some steps\n",
    "    if (epoch % model_save_checkpoint == 0) || (epoch == n_epochs)\n",
    "        \n",
    "        model_id = 1000 + epoch\n",
    "        model_name = joinpath(\"Results\", notebook_name, \"Saved_Models\",\"Model_Base$model_id.jld2\")\n",
    "        w = Dict(:decoder => theta)\n",
    "        Knet.save(model_name,\"model\",w) \n",
    "        ### TO LOAD THE MODEL WEIGHTS, USE THE FOLLOWING\n",
    "        # w = Knet.load(model_name,\"model\",) # Ex: model_name = \"Results/Conv_AutoEncoder_Baseline_MNIST/Saved_Models/Model_Base1500.jld2\"\n",
    "        # theta = w[:decoder]\n",
    "        \n",
    "    end\n",
    "    \n",
    "end"
   ]
  },
  {
   "cell_type": "code",
   "execution_count": 12,
   "metadata": {},
   "outputs": [],
   "source": [
    "plot_loss_convergence(trn_loss_list[2:end], tst_loss_list[2:end]; title = \"Train & Test Loss w.r.t. Epochs\")\n",
    "fig_name = \"Train_and_test_loss\"\n",
    "savefig(joinpath(\"Results\", notebook_name, fig_name))"
   ]
  },
  {
   "cell_type": "code",
   "execution_count": 13,
   "metadata": {},
   "outputs": [],
   "source": [
    "plot_loss_convergence(trn_rec_loss_list[2:end], tst_rec_loss_list[2:end]; title = \"Train & Test Reconstruction Loss w.r.t. Epochs\")\n",
    "fig_name = \"Train_and_test_reconstruction_loss\"\n",
    "savefig(joinpath(\"Results\", notebook_name, fig_name))"
   ]
  },
  {
   "cell_type": "code",
   "execution_count": 14,
   "metadata": {},
   "outputs": [
    {
     "name": "stdout",
     "output_type": "stream",
     "text": [
      "\u001b[32m[2021-12-08 17:59:28 | info | root]: Training is done!\u001b[39m\n",
      "\u001b[32m[2021-12-08 17:59:28 | info | root]: We will report the last loss values for both training and test sets.\u001b[39m\n",
      "\n",
      "\u001b[32m[2021-12-08 17:59:40 | info | root]: Train Loss : 0.001013064\u001b[39m\n",
      "\u001b[32m[2021-12-08 17:59:40 | info | root]: Test Loss : 0.0011617914\u001b[39m\n",
      "\u001b[32m[2021-12-08 17:59:40 | info | root]: Train Reconstruction Loss : 1.0381755\u001b[39m\n",
      "\u001b[32m[2021-12-08 17:59:40 | info | root]: Test Reconstruction Loss : 1.1932594 \u001b[39m\n",
      "\n"
     ]
    }
   ],
   "source": [
    "info(logger, \"Training is done!\")\n",
    "info(logger, \"We will report the last loss values for both training and test sets.\\n\")\n",
    "\n",
    "epoch_loss_trn = loss_train(theta, dtrn)\n",
    "epoch_loss_tst = loss_train(theta, dtst)\n",
    "epoch_rec_loss_trn = rec_loss(theta, dtrn)\n",
    "epoch_rec_loss_tst = rec_loss(theta, dtst)\n",
    "\n",
    "info(logger,\"Train Loss : $epoch_loss_trn\")\n",
    "info(logger,\"Test Loss : $epoch_loss_tst\")\n",
    "info(logger,\"Train Reconstruction Loss : $epoch_rec_loss_trn\")\n",
    "info(logger,\"Test Reconstruction Loss : $epoch_rec_loss_tst \\n\")"
   ]
  },
  {
   "cell_type": "markdown",
   "metadata": {},
   "source": [
    "# Save Loss Curves"
   ]
  },
  {
   "cell_type": "code",
   "execution_count": 15,
   "metadata": {},
   "outputs": [],
   "source": [
    "Knet.save(joinpath(\"Results\", notebook_name,\"trn_loss_list.jld2\"),\"trn_loss_list\",trn_loss_list) \n",
    "Knet.save(joinpath(\"Results\", notebook_name,\"tst_loss_list.jld2\"),\"tst_loss_list\",tst_loss_list) \n",
    "Knet.save(joinpath(\"Results\", notebook_name,\"trn_rec_loss_list.jld2\"),\"trn_rec_loss_list\",trn_rec_loss_list) \n",
    "Knet.save(joinpath(\"Results\", notebook_name,\"tst_rec_loss_list.jld2\"),\"tst_rec_loss_list\",tst_rec_loss_list) "
   ]
  },
  {
   "cell_type": "code",
   "execution_count": null,
   "metadata": {},
   "outputs": [],
   "source": []
  }
 ],
 "metadata": {
  "kernelspec": {
   "display_name": "Julia 1.6.3",
   "language": "julia",
   "name": "julia-1.6"
  },
  "language_info": {
   "file_extension": ".jl",
   "mimetype": "application/julia",
   "name": "julia",
   "version": "1.6.3"
  }
 },
 "nbformat": 4,
 "nbformat_minor": 2
}
